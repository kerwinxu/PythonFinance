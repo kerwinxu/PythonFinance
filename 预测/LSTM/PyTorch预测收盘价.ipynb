{
 "cells": [
  {
   "cell_type": "markdown",
   "id": "4c7570df-acf1-44fd-8790-e41ba14ca5df",
   "metadata": {},
   "source": [
    "# 首先取得数据"
   ]
  },
  {
   "cell_type": "code",
   "execution_count": null,
   "id": "e920530e-6a1c-43d3-873d-9944d0112fef",
   "metadata": {},
   "outputs": [],
   "source": []
  },
  {
   "cell_type": "markdown",
   "id": "2f8e005e-ad20-436c-a5c7-a0a48f2c2ef5",
   "metadata": {},
   "source": [
    "# 数据预处理，我这里处理成时间序列的格式。"
   ]
  },
  {
   "cell_type": "markdown",
   "id": "9456b38f-29cd-4095-af31-75812d74631d",
   "metadata": {},
   "source": [
    "# 网络"
   ]
  },
  {
   "cell_type": "markdown",
   "id": "0fd9444a-8600-4055-bacb-2c2fae455eb8",
   "metadata": {},
   "source": [
    "# 训练"
   ]
  },
  {
   "cell_type": "markdown",
   "id": "a0bd3657-22e3-47bf-8a67-e9aa481e4de1",
   "metadata": {},
   "source": [
    "# 测试"
   ]
  },
  {
   "cell_type": "code",
   "execution_count": null,
   "id": "4060f760-1b6e-4e47-b1e2-e61607927046",
   "metadata": {},
   "outputs": [],
   "source": []
  }
 ],
 "metadata": {
  "kernelspec": {
   "display_name": "Python 3 (ipykernel)",
   "language": "python",
   "name": "python3"
  },
  "language_info": {
   "codemirror_mode": {
    "name": "ipython",
    "version": 3
   },
   "file_extension": ".py",
   "mimetype": "text/x-python",
   "name": "python",
   "nbconvert_exporter": "python",
   "pygments_lexer": "ipython3",
   "version": "3.11.5"
  }
 },
 "nbformat": 4,
 "nbformat_minor": 5
}
