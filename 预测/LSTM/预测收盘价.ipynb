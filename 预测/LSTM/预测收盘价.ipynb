{
 "cells": [
  {
   "cell_type": "code",
   "execution_count": 156,
   "id": "02e7cb45-f02e-4e22-9386-410e0556634c",
   "metadata": {
    "tags": []
   },
   "outputs": [],
   "source": [
    "%matplotlib inline\n",
    "import matplotlib.pyplot as plt\n",
    "import pandas as pd\n",
    "import tensorflow as tf\n",
    "import datetime\n",
    "import numpy as np\n",
    "from  sklearn.preprocessing import MinMaxScaler"
   ]
  },
  {
   "cell_type": "code",
   "execution_count": 157,
   "id": "6891b5ff-dd5b-4f3c-b4a6-5bb43f353690",
   "metadata": {},
   "outputs": [],
   "source": [
    "# 这里先读取数据\n",
    "csv_path = \"../../数据获取/baostock/k线数据/sh.600000.csv\"\n",
    "df = pd.read_csv(csv_path)"
   ]
  },
  {
   "cell_type": "code",
   "execution_count": 158,
   "id": "a63b86d8-aa82-4ee7-8365-f118ca08357b",
   "metadata": {},
   "outputs": [
    {
     "data": {
      "text/html": [
       "<div>\n",
       "<style scoped>\n",
       "    .dataframe tbody tr th:only-of-type {\n",
       "        vertical-align: middle;\n",
       "    }\n",
       "\n",
       "    .dataframe tbody tr th {\n",
       "        vertical-align: top;\n",
       "    }\n",
       "\n",
       "    .dataframe thead th {\n",
       "        text-align: right;\n",
       "    }\n",
       "</style>\n",
       "<table border=\"1\" class=\"dataframe\">\n",
       "  <thead>\n",
       "    <tr style=\"text-align: right;\">\n",
       "      <th></th>\n",
       "      <th>Unnamed: 0</th>\n",
       "      <th>date</th>\n",
       "      <th>code</th>\n",
       "      <th>open</th>\n",
       "      <th>high</th>\n",
       "      <th>low</th>\n",
       "      <th>close</th>\n",
       "      <th>preclose</th>\n",
       "      <th>volume</th>\n",
       "      <th>amount</th>\n",
       "      <th>adjustflag</th>\n",
       "      <th>turn</th>\n",
       "      <th>tradestatus</th>\n",
       "      <th>pctChg</th>\n",
       "      <th>isST</th>\n",
       "    </tr>\n",
       "  </thead>\n",
       "  <tbody>\n",
       "    <tr>\n",
       "      <th>0</th>\n",
       "      <td>0</td>\n",
       "      <td>2015-01-05</td>\n",
       "      <td>sh.600000</td>\n",
       "      <td>8.818609</td>\n",
       "      <td>9.024080</td>\n",
       "      <td>8.640904</td>\n",
       "      <td>8.924121</td>\n",
       "      <td>8.713096</td>\n",
       "      <td>513568704</td>\n",
       "      <td>8.182821e+09</td>\n",
       "      <td>2</td>\n",
       "      <td>3.441509</td>\n",
       "      <td>1</td>\n",
       "      <td>2.4219</td>\n",
       "      <td>0</td>\n",
       "    </tr>\n",
       "    <tr>\n",
       "      <th>1</th>\n",
       "      <td>1</td>\n",
       "      <td>2015-01-06</td>\n",
       "      <td>sh.600000</td>\n",
       "      <td>8.885248</td>\n",
       "      <td>9.262871</td>\n",
       "      <td>8.785289</td>\n",
       "      <td>8.957441</td>\n",
       "      <td>8.924121</td>\n",
       "      <td>511684528</td>\n",
       "      <td>8.311085e+09</td>\n",
       "      <td>2</td>\n",
       "      <td>3.428883</td>\n",
       "      <td>1</td>\n",
       "      <td>0.3734</td>\n",
       "      <td>0</td>\n",
       "    </tr>\n",
       "    <tr>\n",
       "      <th>2</th>\n",
       "      <td>2</td>\n",
       "      <td>2015-01-07</td>\n",
       "      <td>sh.600000</td>\n",
       "      <td>8.829715</td>\n",
       "      <td>8.979654</td>\n",
       "      <td>8.624244</td>\n",
       "      <td>8.779736</td>\n",
       "      <td>8.957441</td>\n",
       "      <td>385716816</td>\n",
       "      <td>6.114241e+09</td>\n",
       "      <td>2</td>\n",
       "      <td>2.584752</td>\n",
       "      <td>1</td>\n",
       "      <td>-1.9839</td>\n",
       "      <td>0</td>\n",
       "    </tr>\n",
       "    <tr>\n",
       "      <th>3</th>\n",
       "      <td>3</td>\n",
       "      <td>2015-01-08</td>\n",
       "      <td>sh.600000</td>\n",
       "      <td>8.813055</td>\n",
       "      <td>8.818609</td>\n",
       "      <td>8.440986</td>\n",
       "      <td>8.468752</td>\n",
       "      <td>8.779736</td>\n",
       "      <td>330627168</td>\n",
       "      <td>5.101311e+09</td>\n",
       "      <td>2</td>\n",
       "      <td>2.215587</td>\n",
       "      <td>1</td>\n",
       "      <td>-3.5421</td>\n",
       "      <td>0</td>\n",
       "    </tr>\n",
       "    <tr>\n",
       "      <th>4</th>\n",
       "      <td>4</td>\n",
       "      <td>2015-01-09</td>\n",
       "      <td>sh.600000</td>\n",
       "      <td>8.440986</td>\n",
       "      <td>9.024080</td>\n",
       "      <td>8.391006</td>\n",
       "      <td>8.568711</td>\n",
       "      <td>8.468752</td>\n",
       "      <td>491999936</td>\n",
       "      <td>7.692349e+09</td>\n",
       "      <td>2</td>\n",
       "      <td>3.296973</td>\n",
       "      <td>1</td>\n",
       "      <td>1.1803</td>\n",
       "      <td>0</td>\n",
       "    </tr>\n",
       "  </tbody>\n",
       "</table>\n",
       "</div>"
      ],
      "text/plain": [
       "   Unnamed: 0        date       code      open      high       low     close  \\\n",
       "0           0  2015-01-05  sh.600000  8.818609  9.024080  8.640904  8.924121   \n",
       "1           1  2015-01-06  sh.600000  8.885248  9.262871  8.785289  8.957441   \n",
       "2           2  2015-01-07  sh.600000  8.829715  8.979654  8.624244  8.779736   \n",
       "3           3  2015-01-08  sh.600000  8.813055  8.818609  8.440986  8.468752   \n",
       "4           4  2015-01-09  sh.600000  8.440986  9.024080  8.391006  8.568711   \n",
       "\n",
       "   preclose     volume        amount  adjustflag      turn  tradestatus  \\\n",
       "0  8.713096  513568704  8.182821e+09           2  3.441509            1   \n",
       "1  8.924121  511684528  8.311085e+09           2  3.428883            1   \n",
       "2  8.957441  385716816  6.114241e+09           2  2.584752            1   \n",
       "3  8.779736  330627168  5.101311e+09           2  2.215587            1   \n",
       "4  8.468752  491999936  7.692349e+09           2  3.296973            1   \n",
       "\n",
       "   pctChg  isST  \n",
       "0  2.4219     0  \n",
       "1  0.3734     0  \n",
       "2 -1.9839     0  \n",
       "3 -3.5421     0  \n",
       "4  1.1803     0  "
      ]
     },
     "execution_count": 158,
     "metadata": {},
     "output_type": "execute_result"
    }
   ],
   "source": [
    "df.head()"
   ]
  },
  {
   "cell_type": "code",
   "execution_count": 159,
   "id": "fb59aa1d-186a-4f38-b0ad-f1365dc662d5",
   "metadata": {},
   "outputs": [],
   "source": [
    "# # 要转变日期格式\n",
    "df.index = pd.to_datetime(df.date)\n",
    "df['week']=df.index.dayofweek+1"
   ]
  },
  {
   "cell_type": "code",
   "execution_count": null,
   "id": "d81964b3-7dfc-43a3-86fd-2a22b33ddba3",
   "metadata": {},
   "outputs": [],
   "source": []
  },
  {
   "cell_type": "code",
   "execution_count": 160,
   "id": "c9d5ab03-a82b-46bb-ab83-67a0c84b17fb",
   "metadata": {},
   "outputs": [],
   "source": [
    "df = df[['open','high','low','close','volume']]"
   ]
  },
  {
   "cell_type": "code",
   "execution_count": 161,
   "id": "9fb676cd-e97e-4e62-9db3-07e871825d1e",
   "metadata": {},
   "outputs": [
    {
     "data": {
      "text/html": [
       "<div>\n",
       "<style scoped>\n",
       "    .dataframe tbody tr th:only-of-type {\n",
       "        vertical-align: middle;\n",
       "    }\n",
       "\n",
       "    .dataframe tbody tr th {\n",
       "        vertical-align: top;\n",
       "    }\n",
       "\n",
       "    .dataframe thead th {\n",
       "        text-align: right;\n",
       "    }\n",
       "</style>\n",
       "<table border=\"1\" class=\"dataframe\">\n",
       "  <thead>\n",
       "    <tr style=\"text-align: right;\">\n",
       "      <th></th>\n",
       "      <th>open</th>\n",
       "      <th>high</th>\n",
       "      <th>low</th>\n",
       "      <th>close</th>\n",
       "      <th>volume</th>\n",
       "    </tr>\n",
       "    <tr>\n",
       "      <th>date</th>\n",
       "      <th></th>\n",
       "      <th></th>\n",
       "      <th></th>\n",
       "      <th></th>\n",
       "      <th></th>\n",
       "    </tr>\n",
       "  </thead>\n",
       "  <tbody>\n",
       "    <tr>\n",
       "      <th>2015-01-05</th>\n",
       "      <td>8.818609</td>\n",
       "      <td>9.024080</td>\n",
       "      <td>8.640904</td>\n",
       "      <td>8.924121</td>\n",
       "      <td>513568704</td>\n",
       "    </tr>\n",
       "    <tr>\n",
       "      <th>2015-01-06</th>\n",
       "      <td>8.885248</td>\n",
       "      <td>9.262871</td>\n",
       "      <td>8.785289</td>\n",
       "      <td>8.957441</td>\n",
       "      <td>511684528</td>\n",
       "    </tr>\n",
       "    <tr>\n",
       "      <th>2015-01-07</th>\n",
       "      <td>8.829715</td>\n",
       "      <td>8.979654</td>\n",
       "      <td>8.624244</td>\n",
       "      <td>8.779736</td>\n",
       "      <td>385716816</td>\n",
       "    </tr>\n",
       "    <tr>\n",
       "      <th>2015-01-08</th>\n",
       "      <td>8.813055</td>\n",
       "      <td>8.818609</td>\n",
       "      <td>8.440986</td>\n",
       "      <td>8.468752</td>\n",
       "      <td>330627168</td>\n",
       "    </tr>\n",
       "    <tr>\n",
       "      <th>2015-01-09</th>\n",
       "      <td>8.440986</td>\n",
       "      <td>9.024080</td>\n",
       "      <td>8.391006</td>\n",
       "      <td>8.568711</td>\n",
       "      <td>491999936</td>\n",
       "    </tr>\n",
       "  </tbody>\n",
       "</table>\n",
       "</div>"
      ],
      "text/plain": [
       "                open      high       low     close     volume\n",
       "date                                                         \n",
       "2015-01-05  8.818609  9.024080  8.640904  8.924121  513568704\n",
       "2015-01-06  8.885248  9.262871  8.785289  8.957441  511684528\n",
       "2015-01-07  8.829715  8.979654  8.624244  8.779736  385716816\n",
       "2015-01-08  8.813055  8.818609  8.440986  8.468752  330627168\n",
       "2015-01-09  8.440986  9.024080  8.391006  8.568711  491999936"
      ]
     },
     "execution_count": 161,
     "metadata": {},
     "output_type": "execute_result"
    }
   ],
   "source": [
    "df.head()"
   ]
  },
  {
   "cell_type": "code",
   "execution_count": 162,
   "id": "8fe4b32a-f46b-42f9-8f1e-b7a5cacf81e0",
   "metadata": {},
   "outputs": [],
   "source": [
    "scaler = MinMaxScaler(feature_range=(0, 1)) \n",
    "scaled_data = scaler.fit_transform(df)"
   ]
  },
  {
   "cell_type": "code",
   "execution_count": null,
   "id": "3b44b094-c9ed-4c43-9559-137cf9f018e9",
   "metadata": {},
   "outputs": [],
   "source": []
  },
  {
   "cell_type": "code",
   "execution_count": 164,
   "id": "859d6fcc-3186-40c0-9bb2-164feb362de5",
   "metadata": {},
   "outputs": [],
   "source": [
    "# 这里要添加上星期几\n",
    "df2 = pd.DataFrame(scaled_data, columns=['open','high','low','close','volume'])\n"
   ]
  },
  {
   "cell_type": "code",
   "execution_count": 165,
   "id": "bedd171f-ea97-434a-b8a5-32ca88c35d22",
   "metadata": {},
   "outputs": [
    {
     "data": {
      "text/html": [
       "<div>\n",
       "<style scoped>\n",
       "    .dataframe tbody tr th:only-of-type {\n",
       "        vertical-align: middle;\n",
       "    }\n",
       "\n",
       "    .dataframe tbody tr th {\n",
       "        vertical-align: top;\n",
       "    }\n",
       "\n",
       "    .dataframe thead th {\n",
       "        text-align: right;\n",
       "    }\n",
       "</style>\n",
       "<table border=\"1\" class=\"dataframe\">\n",
       "  <thead>\n",
       "    <tr style=\"text-align: right;\">\n",
       "      <th></th>\n",
       "      <th>open</th>\n",
       "      <th>high</th>\n",
       "      <th>low</th>\n",
       "      <th>close</th>\n",
       "      <th>volume</th>\n",
       "    </tr>\n",
       "  </thead>\n",
       "  <tbody>\n",
       "    <tr>\n",
       "      <th>0</th>\n",
       "      <td>0.328057</td>\n",
       "      <td>0.312839</td>\n",
       "      <td>0.355018</td>\n",
       "      <td>0.364965</td>\n",
       "      <td>0.612887</td>\n",
       "    </tr>\n",
       "    <tr>\n",
       "      <th>1</th>\n",
       "      <td>0.342343</td>\n",
       "      <td>0.365375</td>\n",
       "      <td>0.384842</td>\n",
       "      <td>0.372023</td>\n",
       "      <td>0.610638</td>\n",
       "    </tr>\n",
       "    <tr>\n",
       "      <th>2</th>\n",
       "      <td>0.330438</td>\n",
       "      <td>0.303064</td>\n",
       "      <td>0.351577</td>\n",
       "      <td>0.334381</td>\n",
       "      <td>0.460310</td>\n",
       "    </tr>\n",
       "    <tr>\n",
       "      <th>3</th>\n",
       "      <td>0.326866</td>\n",
       "      <td>0.267632</td>\n",
       "      <td>0.313724</td>\n",
       "      <td>0.268509</td>\n",
       "      <td>0.394567</td>\n",
       "    </tr>\n",
       "    <tr>\n",
       "      <th>4</th>\n",
       "      <td>0.247104</td>\n",
       "      <td>0.312839</td>\n",
       "      <td>0.303400</td>\n",
       "      <td>0.289682</td>\n",
       "      <td>0.587147</td>\n",
       "    </tr>\n",
       "    <tr>\n",
       "      <th>5</th>\n",
       "      <td>0.282818</td>\n",
       "      <td>0.246862</td>\n",
       "      <td>0.285047</td>\n",
       "      <td>0.264980</td>\n",
       "      <td>0.438913</td>\n",
       "    </tr>\n",
       "    <tr>\n",
       "      <th>6</th>\n",
       "      <td>0.238771</td>\n",
       "      <td>0.210209</td>\n",
       "      <td>0.302253</td>\n",
       "      <td>0.260274</td>\n",
       "      <td>0.212906</td>\n",
       "    </tr>\n",
       "    <tr>\n",
       "      <th>7</th>\n",
       "      <td>0.260199</td>\n",
       "      <td>0.256636</td>\n",
       "      <td>0.326342</td>\n",
       "      <td>0.296740</td>\n",
       "      <td>0.368779</td>\n",
       "    </tr>\n",
       "    <tr>\n",
       "      <th>8</th>\n",
       "      <td>0.281628</td>\n",
       "      <td>0.300621</td>\n",
       "      <td>0.335518</td>\n",
       "      <td>0.370847</td>\n",
       "      <td>0.393611</td>\n",
       "    </tr>\n",
       "    <tr>\n",
       "      <th>9</th>\n",
       "      <td>0.370914</td>\n",
       "      <td>0.373928</td>\n",
       "      <td>0.423842</td>\n",
       "      <td>0.412017</td>\n",
       "      <td>0.573120</td>\n",
       "    </tr>\n",
       "  </tbody>\n",
       "</table>\n",
       "</div>"
      ],
      "text/plain": [
       "       open      high       low     close    volume\n",
       "0  0.328057  0.312839  0.355018  0.364965  0.612887\n",
       "1  0.342343  0.365375  0.384842  0.372023  0.610638\n",
       "2  0.330438  0.303064  0.351577  0.334381  0.460310\n",
       "3  0.326866  0.267632  0.313724  0.268509  0.394567\n",
       "4  0.247104  0.312839  0.303400  0.289682  0.587147\n",
       "5  0.282818  0.246862  0.285047  0.264980  0.438913\n",
       "6  0.238771  0.210209  0.302253  0.260274  0.212906\n",
       "7  0.260199  0.256636  0.326342  0.296740  0.368779\n",
       "8  0.281628  0.300621  0.335518  0.370847  0.393611\n",
       "9  0.370914  0.373928  0.423842  0.412017  0.573120"
      ]
     },
     "execution_count": 165,
     "metadata": {},
     "output_type": "execute_result"
    }
   ],
   "source": [
    "df2.head(10)"
   ]
  },
  {
   "cell_type": "code",
   "execution_count": null,
   "id": "2c7b0098-1cc5-41e4-b61b-f5e1c889bd74",
   "metadata": {},
   "outputs": [],
   "source": []
  },
  {
   "cell_type": "code",
   "execution_count": null,
   "id": "8116b050-e00e-4a71-b150-66556998f822",
   "metadata": {},
   "outputs": [],
   "source": []
  },
  {
   "cell_type": "code",
   "execution_count": null,
   "id": "341d37b4-08db-4af3-b94d-c4aa8ef19eaa",
   "metadata": {},
   "outputs": [],
   "source": []
  },
  {
   "cell_type": "code",
   "execution_count": 166,
   "id": "0616bfdc-66b1-4450-92e6-2769b20ea493",
   "metadata": {},
   "outputs": [],
   "source": [
    "# 然后我构造数据，\n",
    "# 我打算以20天为一个周期\n",
    "period = 20\n",
    "X = []\n",
    "Y = np.array(df2.loc[period:, 'close'])"
   ]
  },
  {
   "cell_type": "code",
   "execution_count": 167,
   "id": "a4e36b5d-bfc9-43af-a1d8-2f7dfc67efc5",
   "metadata": {},
   "outputs": [
    {
     "data": {
      "text/plain": [
       "(1677,)"
      ]
     },
     "execution_count": 167,
     "metadata": {},
     "output_type": "execute_result"
    }
   ],
   "source": [
    "Y.shape"
   ]
  },
  {
   "cell_type": "code",
   "execution_count": 169,
   "id": "86a0c232-2a54-4f96-8fb5-d57283d358eb",
   "metadata": {},
   "outputs": [],
   "source": [
    "for i in range(0,len(df2)-period):\n",
    "    # 遍历每一个，然后添加进去\n",
    "    X.append(df2.loc[i:i+period-1,['open','high','low','close','volume']])"
   ]
  },
  {
   "cell_type": "code",
   "execution_count": null,
   "id": "b2240241-ca4a-40a4-9e61-74fa068743e5",
   "metadata": {},
   "outputs": [],
   "source": []
  },
  {
   "cell_type": "code",
   "execution_count": 170,
   "id": "85ffa260-f05c-444d-930e-283716200469",
   "metadata": {},
   "outputs": [
    {
     "data": {
      "text/plain": [
       "20"
      ]
     },
     "execution_count": 170,
     "metadata": {},
     "output_type": "execute_result"
    }
   ],
   "source": [
    "len(X[0])"
   ]
  },
  {
   "cell_type": "code",
   "execution_count": 172,
   "id": "d411fb4e-eed2-49d7-8458-5da5f03b7ee4",
   "metadata": {},
   "outputs": [],
   "source": [
    "# 要修改一下尺寸\n",
    "X = np.array(X).reshape(len(df)-period, period, 5)"
   ]
  },
  {
   "cell_type": "code",
   "execution_count": 173,
   "id": "9e8d6a4c-0800-4988-8f88-9a11e310cb7d",
   "metadata": {},
   "outputs": [
    {
     "data": {
      "text/plain": [
       "(1677, 20, 5)"
      ]
     },
     "execution_count": 173,
     "metadata": {},
     "output_type": "execute_result"
    }
   ],
   "source": [
    "X.shape"
   ]
  },
  {
   "cell_type": "code",
   "execution_count": 174,
   "id": "f0ee0069-79d3-47ae-aed0-c5d9099969b0",
   "metadata": {},
   "outputs": [
    {
     "data": {
      "text/plain": [
       "(1677,)"
      ]
     },
     "execution_count": 174,
     "metadata": {},
     "output_type": "execute_result"
    }
   ],
   "source": [
    "Y.shape"
   ]
  },
  {
   "cell_type": "markdown",
   "id": "733a89ac-43b9-4bb9-9e0d-1981efe8164c",
   "metadata": {},
   "source": [
    "# 接下来就是创建LSTM网络了"
   ]
  },
  {
   "cell_type": "code",
   "execution_count": 175,
   "id": "e1571cf8-3214-4f6d-9669-a0d3c749da56",
   "metadata": {},
   "outputs": [
    {
     "name": "stdout",
     "output_type": "stream",
     "text": [
      "Train on 1677 samples\n",
      "Epoch 1/10\n",
      "1677/1677 [==============================] - 22s 13ms/sample - loss: 0.05626\n",
      "Epoch 2/10\n",
      "1677/1677 [==============================] - 2s 1ms/sample - loss: 0.0253\n",
      "Epoch 3/10\n",
      "1677/1677 [==============================] - 2s 1ms/sample - loss: 0.0237\n",
      "Epoch 4/10\n",
      "1677/1677 [==============================] - ETA: 0s - loss: 0.021 - 2s 1ms/sample - loss: 0.0215\n",
      "Epoch 5/10\n",
      "1677/1677 [==============================] - 2s 1ms/sample - loss: 0.0194\n",
      "Epoch 6/10\n",
      "1677/1677 [==============================] - 2s 1ms/sample - loss: 0.0177\n",
      "Epoch 7/10\n",
      "1677/1677 [==============================] - 2s 1ms/sample - loss: 0.0163 0s - loss: 0.0\n",
      "Epoch 8/10\n",
      "1677/1677 [==============================] - 2s 1ms/sample - loss: 0.0143\n",
      "Epoch 9/10\n",
      "1677/1677 [==============================] - 2s 1ms/sample - loss: 0.0130\n",
      "Epoch 10/10\n",
      "1677/1677 [==============================] - 2s 1ms/sample - loss: 0.0128\n"
     ]
    },
    {
     "data": {
      "text/plain": [
       "<tensorflow.python.keras.callbacks.History at 0x2106c2d9e88>"
      ]
     },
     "execution_count": 175,
     "metadata": {},
     "output_type": "execute_result"
    }
   ],
   "source": [
    "# Part 2 - Building the RNN\n",
    "# Initialising the RNN\n",
    "regressor = tf.keras.Sequential()\n",
    "# Adding the first LSTM layer and some Dropout regularisation\n",
    "regressor.add(tf.keras.layers.LSTM(units=50, return_sequences=True, input_shape=X.shape[1:]))\n",
    "regressor.add(tf.keras.layers.Dropout(0.2))\n",
    "# Adding a second LSTM layer and some Dropout regularisation\n",
    "regressor.add(tf.keras.layers.LSTM(units=50, return_sequences=True))\n",
    "regressor.add(tf.keras.layers.Dropout(0.2))\n",
    "# Adding a third LSTM layer and some Dropout regularisation\n",
    "regressor.add(tf.keras.layers.LSTM(units=50, return_sequences=True))\n",
    "regressor.add(tf.keras.layers.Dropout(0.2))\n",
    "# Adding a fourth LSTM layer and some Dropout regularisation\n",
    "regressor.add(tf.keras.layers.LSTM(units=50))\n",
    "regressor.add(tf.keras.layers.Dropout(0.2))\n",
    "# Adding the output layer\n",
    "regressor.add(tf.keras.layers.Dense(units=1))\n",
    "\n",
    "# Compiling the RNN\n",
    "regressor.compile(optimizer='sgd', loss='mse')\n",
    "# Fitting the RNN to the Training set\n",
    "regressor.fit(X, Y, epochs=10, batch_size=32)"
   ]
  },
  {
   "cell_type": "code",
   "execution_count": 176,
   "id": "1e5665f8-3a25-4dc1-87a3-9b9e4b633be9",
   "metadata": {},
   "outputs": [
    {
     "name": "stdout",
     "output_type": "stream",
     "text": [
      "Model: \"sequential_5\"\n",
      "_________________________________________________________________\n",
      "Layer (type)                 Output Shape              Param #   \n",
      "=================================================================\n",
      "lstm_20 (LSTM)               (None, 20, 50)            11200     \n",
      "_________________________________________________________________\n",
      "dropout_20 (Dropout)         (None, 20, 50)            0         \n",
      "_________________________________________________________________\n",
      "lstm_21 (LSTM)               (None, 20, 50)            20200     \n",
      "_________________________________________________________________\n",
      "dropout_21 (Dropout)         (None, 20, 50)            0         \n",
      "_________________________________________________________________\n",
      "lstm_22 (LSTM)               (None, 20, 50)            20200     \n",
      "_________________________________________________________________\n",
      "dropout_22 (Dropout)         (None, 20, 50)            0         \n",
      "_________________________________________________________________\n",
      "lstm_23 (LSTM)               (None, 50)                20200     \n",
      "_________________________________________________________________\n",
      "dropout_23 (Dropout)         (None, 50)                0         \n",
      "_________________________________________________________________\n",
      "dense_5 (Dense)              (None, 1)                 51        \n",
      "=================================================================\n",
      "Total params: 71,851\n",
      "Trainable params: 71,851\n",
      "Non-trainable params: 0\n",
      "_________________________________________________________________\n"
     ]
    }
   ],
   "source": [
    "regressor.summary()"
   ]
  },
  {
   "cell_type": "code",
   "execution_count": 177,
   "id": "787039d9-7e69-476a-9a0b-3831abfe7713",
   "metadata": {},
   "outputs": [],
   "source": [
    "predicted_stock_price = regressor.predict(X)"
   ]
  },
  {
   "cell_type": "code",
   "execution_count": 178,
   "id": "4a7f96d9-115e-4c2c-babb-91b468cae896",
   "metadata": {},
   "outputs": [
    {
     "data": {
      "text/plain": [
       "array([0.4091943 , 0.40302184, 0.3949455 , ..., 0.35929963, 0.3601346 ,\n",
       "       0.36066124], dtype=float32)"
      ]
     },
     "execution_count": 178,
     "metadata": {},
     "output_type": "execute_result"
    }
   ],
   "source": [
    "predicted_stock_price.reshape(-1)"
   ]
  },
  {
   "cell_type": "code",
   "execution_count": 179,
   "id": "49a19732-bf5a-4307-b5ca-4a572a95be5d",
   "metadata": {},
   "outputs": [
    {
     "data": {
      "text/plain": [
       "array([0.12617632, 0.1744046 , 0.14264451, ..., 0.28783678, 0.29207319,\n",
       "       0.29842781])"
      ]
     },
     "execution_count": 179,
     "metadata": {},
     "output_type": "execute_result"
    }
   ],
   "source": [
    "Y"
   ]
  },
  {
   "cell_type": "code",
   "execution_count": 180,
   "id": "2048d123-a20a-4fc2-8f7b-2b15f2227a03",
   "metadata": {},
   "outputs": [
    {
     "data": {
      "text/plain": [
       "[<matplotlib.lines.Line2D at 0x21076e3d9c8>]"
      ]
     },
     "execution_count": 180,
     "metadata": {},
     "output_type": "execute_result"
    },
    {
     "data": {
      "image/png": "[encoded data removed]",
      "text/plain": [
       "<Figure size 432x288 with 1 Axes>"
      ]
     },
     "metadata": {
      "needs_background": "light"
     },
     "output_type": "display_data"
    }
   ],
   "source": [
    "plt.plot(Y, color='red')\n",
    "plt.plot(predicted_stock_price.reshape(-1), color='blue')"
   ]
  },
  {
   "cell_type": "code",
   "execution_count": null,
   "id": "13fee494-c840-4aa0-b77a-846f12d2dba7",
   "metadata": {},
   "outputs": [],
   "source": []
  },
  {
   "cell_type": "code",
   "execution_count": null,
   "id": "75288541-f498-4799-b39c-a9678d226af2",
   "metadata": {},
   "outputs": [],
   "source": []
  }
 ],
 "metadata": {
  "kernelspec": {
   "display_name": "Python 3 (ipykernel)",
   "language": "python",
   "name": "python3"
  },
  "language_info": {
   "codemirror_mode": {
    "name": "ipython",
    "version": 3
   },
   "file_extension": ".py",
   "mimetype": "text/x-python",
   "name": "python",
   "nbconvert_exporter": "python",
   "pygments_lexer": "ipython3",
   "version": "3.11.5"
  }
 },
 "nbformat": 4,
 "nbformat_minor": 5
}
