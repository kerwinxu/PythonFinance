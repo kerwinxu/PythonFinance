{
 "cells": [
  {
   "cell_type": "code",
   "execution_count": 7,
   "id": "f68d870c-4a54-4801-bab2-7e4d4da96209",
   "metadata": {},
   "outputs": [],
   "source": [
    "%matplotlib inline\n",
    "import matplotlib.pyplot as plt\n",
    "import pandas as pd\n",
    "import tensorflow as tf\n",
    "import datetime\n",
    "import numpy as np\n",
    "from sklearn.preprocessing import MinMaxScaler\n",
    "from sklearn.metrics import mean_squared_error, mean_absolute_error\n",
    "from sklearn.model_selection import train_test_split\n",
    "import tensorflow_addons as tfa"
   ]
  },
  {
   "cell_type": "code",
   "execution_count": 8,
   "id": "518bedfd-ebdb-4d2c-ace5-2c7dd44d8615",
   "metadata": {},
   "outputs": [],
   "source": [
    "# 这里先读取数据\n",
    "csv_path = \"../../数据获取/baostock/k线数据/sh.600000.csv\"\n",
    "df = pd.read_csv(csv_path)\n",
    "df.date = pd.to_datetime(df.date)\n",
    "_date = list(df.date)\n",
    "df = df[['date','open','high','low','close','volume']]\n",
    "# 这里要添加上星期几\n",
    "df['week']=df.date.dt.dayofweek+1\n",
    "week = list(df['week'])\n",
    "volume = list(df['volume'])"
   ]
  },
  {
   "cell_type": "code",
   "execution_count": 9,
   "id": "c247e4e0-eee6-4919-b828-41169b104339",
   "metadata": {},
   "outputs": [],
   "source": [
    "# df = df[['open','high','low','close']]\n",
    "# df = (df - df.mean()) / (df.std())\n",
    "# df['week'] = week\n",
    "# df['volume'] = volume\n",
    "# df['date'] = _date"
   ]
  },
  {
   "cell_type": "code",
   "execution_count": 10,
   "id": "0594e517-e4c6-4774-aa51-bce62fb1771e",
   "metadata": {},
   "outputs": [
    {
     "data": {
      "text/html": [
       "<div>\n",
       "<style scoped>\n",
       "    .dataframe tbody tr th:only-of-type {\n",
       "        vertical-align: middle;\n",
       "    }\n",
       "\n",
       "    .dataframe tbody tr th {\n",
       "        vertical-align: top;\n",
       "    }\n",
       "\n",
       "    .dataframe thead th {\n",
       "        text-align: right;\n",
       "    }\n",
       "</style>\n",
       "<table border=\"1\" class=\"dataframe\">\n",
       "  <thead>\n",
       "    <tr style=\"text-align: right;\">\n",
       "      <th></th>\n",
       "      <th>date</th>\n",
       "      <th>open</th>\n",
       "      <th>high</th>\n",
       "      <th>low</th>\n",
       "      <th>close</th>\n",
       "      <th>volume</th>\n",
       "      <th>week</th>\n",
       "    </tr>\n",
       "  </thead>\n",
       "  <tbody>\n",
       "    <tr>\n",
       "      <th>0</th>\n",
       "      <td>2015-01-05</td>\n",
       "      <td>8.818609</td>\n",
       "      <td>9.024080</td>\n",
       "      <td>8.640904</td>\n",
       "      <td>8.924121</td>\n",
       "      <td>513568704</td>\n",
       "      <td>1</td>\n",
       "    </tr>\n",
       "    <tr>\n",
       "      <th>1</th>\n",
       "      <td>2015-01-06</td>\n",
       "      <td>8.885248</td>\n",
       "      <td>9.262871</td>\n",
       "      <td>8.785289</td>\n",
       "      <td>8.957441</td>\n",
       "      <td>511684528</td>\n",
       "      <td>2</td>\n",
       "    </tr>\n",
       "    <tr>\n",
       "      <th>2</th>\n",
       "      <td>2015-01-07</td>\n",
       "      <td>8.829715</td>\n",
       "      <td>8.979654</td>\n",
       "      <td>8.624244</td>\n",
       "      <td>8.779736</td>\n",
       "      <td>385716816</td>\n",
       "      <td>3</td>\n",
       "    </tr>\n",
       "    <tr>\n",
       "      <th>3</th>\n",
       "      <td>2015-01-08</td>\n",
       "      <td>8.813055</td>\n",
       "      <td>8.818609</td>\n",
       "      <td>8.440986</td>\n",
       "      <td>8.468752</td>\n",
       "      <td>330627168</td>\n",
       "      <td>4</td>\n",
       "    </tr>\n",
       "    <tr>\n",
       "      <th>4</th>\n",
       "      <td>2015-01-09</td>\n",
       "      <td>8.440986</td>\n",
       "      <td>9.024080</td>\n",
       "      <td>8.391006</td>\n",
       "      <td>8.568711</td>\n",
       "      <td>491999936</td>\n",
       "      <td>5</td>\n",
       "    </tr>\n",
       "  </tbody>\n",
       "</table>\n",
       "</div>"
      ],
      "text/plain": [
       "        date      open      high       low     close     volume  week\n",
       "0 2015-01-05  8.818609  9.024080  8.640904  8.924121  513568704     1\n",
       "1 2015-01-06  8.885248  9.262871  8.785289  8.957441  511684528     2\n",
       "2 2015-01-07  8.829715  8.979654  8.624244  8.779736  385716816     3\n",
       "3 2015-01-08  8.813055  8.818609  8.440986  8.468752  330627168     4\n",
       "4 2015-01-09  8.440986  9.024080  8.391006  8.568711  491999936     5"
      ]
     },
     "execution_count": 10,
     "metadata": {},
     "output_type": "execute_result"
    }
   ],
   "source": [
    "df.head()"
   ]
  },
  {
   "cell_type": "code",
   "execution_count": 11,
   "id": "b915ca7d-2315-4755-93a2-ecad87c5bd76",
   "metadata": {},
   "outputs": [],
   "source": [
    "period = 20\n",
    "X = []\n",
    "Y = np.array(df.loc[period:, 'close'])\n",
    "for i in range(0,len(df)-period):\n",
    "    # 遍历每一个，然后添加进去\n",
    "    X.append(df.loc[i:i+period-1,['open','high','low','close','volume', 'week']])\n",
    "X = np.array(X).reshape(len(df)-period, period, 6)"
   ]
  },
  {
   "cell_type": "code",
   "execution_count": null,
   "id": "8bbb0c75-9b24-4087-9c96-6f78b5c556e2",
   "metadata": {},
   "outputs": [],
   "source": []
  },
  {
   "cell_type": "code",
   "execution_count": 12,
   "id": "f4424b95-5de2-4b09-b4b7-a6c146559842",
   "metadata": {},
   "outputs": [],
   "source": [
    "# 这里拆分训练集和测试集\n",
    "train_x, text_x, train_y, text_y = train_test_split(X, Y, test_size=0.2)"
   ]
  },
  {
   "cell_type": "code",
   "execution_count": null,
   "id": "b3ab16e4-17f4-4fbd-89c7-9db6ebe37848",
   "metadata": {},
   "outputs": [],
   "source": []
  },
  {
   "cell_type": "code",
   "execution_count": 31,
   "id": "5cee63a5-cde3-4f21-9805-18a9089b8fc1",
   "metadata": {},
   "outputs": [],
   "source": [
    "# 创建LST网络\n",
    "regressor = tf.keras.Sequential([\n",
    "    tf.keras.layers.BatchNormalization(),\n",
    "    tf.keras.layers.LSTM(units=50, return_sequences=True, input_shape=train_x.shape[1:]),\n",
    "    tf.keras.layers.BatchNormalization(),\n",
    "    tf.keras.layers.Dropout(0.2),\n",
    "    tf.keras.layers.LSTM(units=50, return_sequences=True),\n",
    "    tf.keras.layers.BatchNormalization(),\n",
    "    tf.keras.layers.Dropout(0.2),\n",
    "    tf.keras.layers.LSTM(units=50, return_sequences=True),\n",
    "    tf.keras.layers.BatchNormalization(),\n",
    "    tf.keras.layers.Dropout(0.2),\n",
    "    tf.keras.layers.LSTM(units=50),\n",
    "    tf.keras.layers.BatchNormalization(),\n",
    "    tf.keras.layers.Dropout(0.2),\n",
    "    tf.keras.layers.Dense(units=10),\n",
    "    tf.keras.layers.Dense(units=1)\n",
    "])"
   ]
  },
  {
   "cell_type": "code",
   "execution_count": 32,
   "id": "13702ac7-bf29-4f40-ad3d-d8b335193e68",
   "metadata": {},
   "outputs": [
    {
     "name": "stdout",
     "output_type": "stream",
     "text": [
      "Train on 1341 samples, validate on 336 samples\n",
      "Epoch 1/10\n",
      "1341/1341 [==============================] - 35s 26ms/sample - loss: 96.2102 - val_loss: 82.4659\n",
      "Epoch 2/10\n",
      "1341/1341 [==============================] - 2s 2ms/sample - loss: 80.9136 - val_loss: 56.9304\n",
      "Epoch 3/10\n",
      "1341/1341 [==============================] - 3s 2ms/sample - loss: 55.7911 - val_loss: 23.7805\n",
      "Epoch 4/10\n",
      "1341/1341 [==============================] - 2s 2ms/sample - loss: 24.6717 - val_loss: 1.9972\n",
      "Epoch 5/10\n",
      "1341/1341 [==============================] - 2s 1ms/sample - loss: 11.2085 - val_loss: 1.2349\n",
      "Epoch 6/10\n",
      "1341/1341 [==============================] - 2s 1ms/sample - loss: 8.4705 - val_loss: 0.4629\n",
      "Epoch 7/10\n",
      "1341/1341 [==============================] - 2s 2ms/sample - loss: 7.3604 - val_loss: 0.4564\n",
      "Epoch 8/10\n",
      "1341/1341 [==============================] - 2s 1ms/sample - loss: 6.3212 - val_loss: 0.2584\n",
      "Epoch 9/10\n",
      "1341/1341 [==============================] - 2s 1ms/sample - loss: 5.8029 - val_loss: 0.9018\n",
      "Epoch 10/10\n",
      "1341/1341 [==============================] - 2s 2ms/sample - loss: 4.9665 - val_loss: 0.1672\n"
     ]
    }
   ],
   "source": [
    "# Compiling the RNN\n",
    "regressor.compile(optimizer='adam', loss='mean_squared_error')\n",
    "# Fitting the RNN to the Training set\n",
    "history = regressor.fit(train_x, train_y, epochs=10, batch_size=32, validation_data=(text_x, text_y))"
   ]
  },
  {
   "cell_type": "code",
   "execution_count": 33,
   "id": "3b5d738b-6e9f-4f81-8a8b-e1a9a5764a39",
   "metadata": {},
   "outputs": [
    {
     "data": {
      "text/plain": [
       "<tensorflow.python.keras.callbacks.History at 0x2b44525eb48>"
      ]
     },
     "execution_count": 33,
     "metadata": {},
     "output_type": "execute_result"
    }
   ],
   "source": [
    "history"
   ]
  },
  {
   "cell_type": "code",
   "execution_count": 34,
   "id": "50aa717d-910a-4689-8471-0aca93508d1f",
   "metadata": {},
   "outputs": [
    {
     "data": {
      "text/plain": [
       "[<matplotlib.lines.Line2D at 0x2b454426088>]"
      ]
     },
     "execution_count": 34,
     "metadata": {},
     "output_type": "execute_result"
    },
    {
     "data": {
      "image/png": "[encoded data removed]",
      "text/plain": [
       "<Figure size 432x288 with 1 Axes>"
      ]
     },
     "metadata": {
      "needs_background": "light"
     },
     "output_type": "display_data"
    }
   ],
   "source": [
    "# 这里看看预测的吧\n",
    "# 测试集输入模型进行预测\n",
    "predicted_stock_price = regressor.predict(X)\n",
    "\n",
    "# 然后显示曲线\n",
    "# 画出真实数据和预测数据的对比曲线\n",
    "plt.plot(Y, color='red', label='MaoTai Stock Price')\n",
    "plt.plot(predicted_stock_price.reshape(-1,), color='blue', label='Predicted MaoTai Stock Price')"
   ]
  },
  {
   "cell_type": "code",
   "execution_count": null,
   "id": "06fff37c-539d-472f-92cb-e2ffd144322b",
   "metadata": {},
   "outputs": [],
   "source": []
  },
  {
   "cell_type": "code",
   "execution_count": null,
   "id": "803e133e-975d-4082-9bbb-eaf489cb079a",
   "metadata": {},
   "outputs": [],
   "source": []
  }
 ],
 "metadata": {
  "kernelspec": {
   "display_name": "Python [conda env:deep]",
   "language": "python",
   "name": "conda-env-deep-py"
  },
  "language_info": {
   "codemirror_mode": {
    "name": "ipython",
    "version": 3
   },
   "file_extension": ".py",
   "mimetype": "text/x-python",
   "name": "python",
   "nbconvert_exporter": "python",
   "pygments_lexer": "ipython3",
   "version": "3.7.9"
  }
 },
 "nbformat": 4,
 "nbformat_minor": 5
}
