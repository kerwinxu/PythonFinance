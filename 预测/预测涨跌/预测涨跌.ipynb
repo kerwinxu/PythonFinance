{
 "cells": [
  {
   "cell_type": "markdown",
   "id": "e3a801fa-e21f-41bc-a6ad-b44b649c97a2",
   "metadata": {},
   "source": [
    "# 开头\n",
    "\n",
    "我这里是预测这个股价是涨还是跌，为了避免波动性较大，我这里用如下的方式。\n",
    "   - 用一个3日均值来平滑曲线。\n",
    "   - 我的输入是（1，60），然后要做归一化，并且最后一天的永远是在0.5这个位置上。，也就是一行，然后输出是一个值，是一个未来5天的加权平均值相对于最后一天的增值幅度，我这里是未来一天的涨跌幅度吧。这个前面是\n",
    "   \n",
    "重新考虑一下LSTM，"
   ]
  }
 ],
 "metadata": {
  "kernelspec": {
   "display_name": "Python 3 (ipykernel)",
   "language": "python",
   "name": "python3"
  },
  "language_info": {
   "codemirror_mode": {
    "name": "ipython",
    "version": 3
   },
   "file_extension": ".py",
   "mimetype": "text/x-python",
   "name": "python",
   "nbconvert_exporter": "python",
   "pygments_lexer": "ipython3",
   "version": "3.9.12"
  }
 },
 "nbformat": 4,
 "nbformat_minor": 5
}
