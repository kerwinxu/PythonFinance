{
 "cells": [
  {
   "cell_type": "markdown",
   "id": "28f76f8a-dedc-497b-b6b3-bc76f9c89aca",
   "metadata": {},
   "source": [
    "# 先读取数据"
   ]
  },
  {
   "cell_type": "code",
   "execution_count": 67,
   "id": "f252da66-7210-4c28-a0af-97bbb9bda80f",
   "metadata": {
    "execution": {
     "iopub.execute_input": "2025-02-09T10:17:22.206521Z",
     "iopub.status.busy": "2025-02-09T10:17:22.205524Z",
     "iopub.status.idle": "2025-02-09T10:17:22.217644Z",
     "shell.execute_reply": "2025-02-09T10:17:22.214625Z",
     "shell.execute_reply.started": "2025-02-09T10:17:22.206521Z"
    }
   },
   "outputs": [],
   "source": [
    "import sys\n",
    "import pandas as pd\n",
    "import numpy as np\n",
    "import torch\n",
    "import torch.nn as nn\n",
    "import torch.optim as optim\n",
    "import talib\n",
    "import torch.utils.data as Data\n"
   ]
  },
  {
   "cell_type": "markdown",
   "id": "2a5d5e36-2f5a-4791-b5a3-9129be5ba66d",
   "metadata": {},
   "source": [
    "# 获取数据"
   ]
  },
  {
   "cell_type": "code",
   "execution_count": 68,
   "id": "d5712e3a-65b2-4438-ab3a-90f3331240d6",
   "metadata": {
    "execution": {
     "iopub.execute_input": "2025-02-09T10:17:22.221646Z",
     "iopub.status.busy": "2025-02-09T10:17:22.220645Z",
     "iopub.status.idle": "2025-02-09T10:17:22.242465Z",
     "shell.execute_reply": "2025-02-09T10:17:22.240447Z",
     "shell.execute_reply.started": "2025-02-09T10:17:22.221646Z"
    }
   },
   "outputs": [],
   "source": [
    "sys.path.append('../../')"
   ]
  },
  {
   "cell_type": "code",
   "execution_count": 69,
   "id": "3fd8f681-50bd-4475-ad36-f90388d84825",
   "metadata": {
    "execution": {
     "iopub.execute_input": "2025-02-09T10:17:22.245470Z",
     "iopub.status.busy": "2025-02-09T10:17:22.244466Z",
     "iopub.status.idle": "2025-02-09T10:17:22.255821Z",
     "shell.execute_reply": "2025-02-09T10:17:22.253804Z",
     "shell.execute_reply.started": "2025-02-09T10:17:22.245470Z"
    }
   },
   "outputs": [],
   "source": [
    "import  DataSource"
   ]
  },
  {
   "cell_type": "code",
   "execution_count": 70,
   "id": "c4e919fe-f07b-4e40-8b67-497056ed98e1",
   "metadata": {
    "execution": {
     "iopub.execute_input": "2025-02-09T10:17:22.261825Z",
     "iopub.status.busy": "2025-02-09T10:17:22.260828Z",
     "iopub.status.idle": "2025-02-09T10:17:22.385985Z",
     "shell.execute_reply": "2025-02-09T10:17:22.383967Z",
     "shell.execute_reply.started": "2025-02-09T10:17:22.261825Z"
    }
   },
   "outputs": [],
   "source": [
    "zz500 = DataSource.get_zz500_codes() # 我看中证500的数据"
   ]
  },
  {
   "cell_type": "code",
   "execution_count": 71,
   "id": "0f006e8a-ab5e-4f1c-bce5-f39963dc258f",
   "metadata": {
    "execution": {
     "iopub.execute_input": "2025-02-09T10:17:22.390991Z",
     "iopub.status.busy": "2025-02-09T10:17:22.388995Z",
     "iopub.status.idle": "2025-02-09T10:17:22.406060Z",
     "shell.execute_reply": "2025-02-09T10:17:22.404038Z",
     "shell.execute_reply.started": "2025-02-09T10:17:22.390991Z"
    }
   },
   "outputs": [
    {
     "data": {
      "text/plain": [
       "'sh.600004,sh.600007,sh.600008,sh.600021,sh.600032,sh.600038,sh.600056,sh.600060,sh.600062,sh.600079,sh.600095,sh.600096,sh.600098,sh.600109,sh.600118,sh.600126,sh.600129,sh.600131,sh.600132,sh.600141,sh.600143,sh.600153,sh.600155,sh.600157,sh.600166,sh.600170,sh.600177,sh.600208,sh.600258,sh.600271,sh.600282,sh.600295,sh.600298,sh.600299,sh.600312,sh.600316,sh.600325,sh.600329,sh.600339,sh.600348,sh.600350,sh.600352,sh.600361,sh.600369,sh.600373,sh.600378,sh.600380,sh.600390,sh.600392,sh.600398,sh.600416,sh.600418,sh.600435,sh.600483,sh.600486,sh.600487,sh.600497,sh.600498,sh.600499,sh.600500,sh.600511,sh.600516,sh.600517,sh.600521,sh.600528,sh.600529,sh.600535,sh.600536,sh.600546,sh.600549,sh.600563,sh.600566,sh.600578,sh.600580,sh.600582,sh.600583,sh.600598,sh.600606,sh.600612,sh.600637,sh.600642,sh.600655,sh.600663,sh.600673,sh.600685,sh.600688,sh.600699,sh.600704,sh.600707,sh.600720,sh.600737,sh.600739,sh.600754,sh.600755,sh.600763,sh.600764,sh.600765,sh.600801,sh.600808,sh.600816,sh.600820,sh.600839,sh.600848,sh.600859,sh.600862,sh.600863,sh.600867,sh.600871,sh.600872,sh.600873,sh.600879,sh.600884,sh.600885,sh.600895,sh.600901,sh.600906,sh.600909,sh.600925,sh.600927,sh.600928,sh.600956,sh.600959,sh.600968,sh.600970,sh.600977,sh.600988,sh.600995,sh.600998,sh.601000,sh.601001,sh.601016,sh.601019,sh.601061,sh.601098,sh.601099,sh.601106,sh.601108,sh.601118,sh.601128,sh.601139,sh.601155,sh.601156,sh.601158,sh.601162,sh.601168,sh.601179,sh.601198,sh.601212,sh.601216,sh.601228,sh.601231,sh.601233,sh.601399,sh.601456,sh.601555,sh.601567,sh.601568,sh.601577,sh.601598,sh.601608,sh.601611,sh.601615,sh.601636,sh.601665,sh.601666,sh.601696,sh.601717,sh.601858,sh.601866,sh.601880,sh.601918,sh.601928,sh.601933,sh.601958,sh.601965,sh.601966,sh.601990,sh.601991,sh.601992,sh.601997,sh.603000,sh.603056,sh.603077,sh.603087,sh.603129,sh.603156,sh.603160,sh.603179,sh.603185,sh.603225,sh.603228,sh.603233,sh.603290,sh.603298,sh.603338,sh.603341,sh.603345,sh.603379,sh.603444,sh.603456,sh.603486,sh.603529,sh.603556,sh.603568,sh.603589,sh.603596,sh.603605,sh.603606,sh.603650,sh.603658,sh.603688,sh.603707,sh.603712,sh.603728,sh.603737,sh.603786,sh.603816,sh.603826,sh.603858,sh.603868,sh.603882,sh.603883,sh.603885,sh.603893,sh.603899,sh.603927,sh.603939,sh.603979,sh.605358,sh.688002,sh.688005,sh.688017,sh.688032,sh.688047,sh.688052,sh.688065,sh.688072,sh.688099,sh.688114,sh.688120,sh.688122,sh.688153,sh.688172,sh.688180,sh.688188,sh.688213,sh.688220,sh.688234,sh.688248,sh.688249,sh.688276,sh.688278,sh.688281,sh.688295,sh.688297,sh.688301,sh.688331,sh.688349,sh.688361,sh.688363,sh.688375,sh.688385,sh.688387,sh.688390,sh.688425,sh.688469,sh.688475,sh.688516,sh.688520,sh.688521,sh.688525,sh.688536,sh.688538,sh.688561,sh.688563,sh.688567,sh.688578,sh.688617,sh.688772,sh.688777,sh.688778,sh.688819,sh.689009,sz.000009,sz.000021,sz.000027,sz.000032,sz.000034,sz.000039,sz.000050,sz.000060,sz.000066,sz.000155,sz.000400,sz.000401,sz.000403,sz.000423,sz.000426,sz.000513,sz.000519,sz.000537,sz.000539,sz.000559,sz.000563,sz.000591,sz.000598,sz.000623,sz.000629,sz.000636,sz.000683,sz.000703,sz.000709,sz.000723,sz.000728,sz.000729,sz.000733,sz.000738,sz.000739,sz.000750,sz.000778,sz.000783,sz.000785,sz.000818,sz.000825,sz.000830,sz.000831,sz.000878,sz.000883,sz.000887,sz.000893,sz.000898,sz.000921,sz.000932,sz.000937,sz.000958,sz.000959,sz.000960,sz.000967,sz.000987,sz.000988,sz.000997,sz.000998,sz.001203,sz.001227,sz.001286,sz.002008,sz.002019,sz.002025,sz.002044,sz.002056,sz.002064,sz.002065,sz.002078,sz.002080,sz.002085,sz.002120,sz.002128,sz.002138,sz.002152,sz.002153,sz.002155,sz.002156,sz.002185,sz.002195,sz.002202,sz.002203,sz.002223,sz.002240,sz.002244,sz.002261,sz.002262,sz.002266,sz.002268,sz.002273,sz.002281,sz.002294,sz.002299,sz.002318,sz.002340,sz.002353,sz.002368,sz.002372,sz.002373,sz.002384,sz.002385,sz.002407,sz.002408,sz.002409,sz.002410,sz.002414,sz.002423,sz.002429,sz.002430,sz.002432,sz.002436,sz.002439,sz.002444,sz.002465,sz.002472,sz.002487,sz.002500,sz.002507,sz.002508,sz.002517,sz.002531,sz.002532,sz.002557,sz.002558,sz.002563,sz.002568,sz.002572,sz.002595,sz.002603,sz.002607,sz.002608,sz.002624,sz.002625,sz.002653,sz.002670,sz.002673,sz.002683,sz.002690,sz.002738,sz.002739,sz.002756,sz.002797,sz.002821,sz.002831,sz.002841,sz.002850,sz.002867,sz.002926,sz.002939,sz.002945,sz.002958,sz.002966,sz.002984,sz.003022,sz.003031,sz.003035,sz.300001,sz.300002,sz.300003,sz.300009,sz.300012,sz.300017,sz.300024,sz.300037,sz.300054,sz.300058,sz.300070,sz.300073,sz.300114,sz.300118,sz.300136,sz.300140,sz.300142,sz.300144,sz.300146,sz.300207,sz.300212,sz.300223,sz.300251,sz.300285,sz.300339,sz.300373,sz.300383,sz.300390,sz.300395,sz.300474,sz.300476,sz.300487,sz.300496,sz.300529,sz.300558,sz.300567,sz.300573,sz.300595,sz.300601,sz.300604,sz.300676,sz.300677,sz.300699,sz.300724,sz.300748,sz.300751,sz.300763,sz.300765,sz.300803,sz.300866,sz.300888,sz.300919,sz.300957,sz.301165,sz.301236,sz.301267,sz.301301,sz.301308,sz.301358,sz.301498'"
      ]
     },
     "execution_count": 71,
     "metadata": {},
     "output_type": "execute_result"
    }
   ],
   "source": [
    "','.join(zz500)"
   ]
  },
  {
   "cell_type": "code",
   "execution_count": 72,
   "id": "0efde820-82c5-417d-8d32-34141d7164f5",
   "metadata": {
    "execution": {
     "iopub.execute_input": "2025-02-09T10:17:22.420057Z",
     "iopub.status.busy": "2025-02-09T10:17:22.408059Z",
     "iopub.status.idle": "2025-02-09T10:17:22.632441Z",
     "shell.execute_reply": "2025-02-09T10:17:22.630424Z",
     "shell.execute_reply.started": "2025-02-09T10:17:22.420057Z"
    }
   },
   "outputs": [],
   "source": [
    "# 我这里查看第一个股票的吧\n",
    "dt = DataSource.get_data(zz500[0])"
   ]
  },
  {
   "cell_type": "code",
   "execution_count": 73,
   "id": "cb545c7e-9080-4b78-be32-ada08f2dfe1a",
   "metadata": {
    "execution": {
     "iopub.execute_input": "2025-02-09T10:17:22.635438Z",
     "iopub.status.busy": "2025-02-09T10:17:22.634438Z",
     "iopub.status.idle": "2025-02-09T10:17:22.706933Z",
     "shell.execute_reply": "2025-02-09T10:17:22.704914Z",
     "shell.execute_reply.started": "2025-02-09T10:17:22.635438Z"
    }
   },
   "outputs": [
    {
     "data": {
      "text/html": [
       "<div>\n",
       "<style scoped>\n",
       "    .dataframe tbody tr th:only-of-type {\n",
       "        vertical-align: middle;\n",
       "    }\n",
       "\n",
       "    .dataframe tbody tr th {\n",
       "        vertical-align: top;\n",
       "    }\n",
       "\n",
       "    .dataframe thead th {\n",
       "        text-align: right;\n",
       "    }\n",
       "</style>\n",
       "<table border=\"1\" class=\"dataframe\">\n",
       "  <thead>\n",
       "    <tr style=\"text-align: right;\">\n",
       "      <th></th>\n",
       "      <th>code</th>\n",
       "      <th>open</th>\n",
       "      <th>high</th>\n",
       "      <th>low</th>\n",
       "      <th>close</th>\n",
       "      <th>preclose</th>\n",
       "      <th>volume</th>\n",
       "      <th>amount</th>\n",
       "      <th>adjustflag</th>\n",
       "      <th>turn</th>\n",
       "      <th>tradestatus</th>\n",
       "      <th>pctChg</th>\n",
       "      <th>isST</th>\n",
       "    </tr>\n",
       "    <tr>\n",
       "      <th>date</th>\n",
       "      <th></th>\n",
       "      <th></th>\n",
       "      <th></th>\n",
       "      <th></th>\n",
       "      <th></th>\n",
       "      <th></th>\n",
       "      <th></th>\n",
       "      <th></th>\n",
       "      <th></th>\n",
       "      <th></th>\n",
       "      <th></th>\n",
       "      <th></th>\n",
       "      <th></th>\n",
       "    </tr>\n",
       "  </thead>\n",
       "  <tbody>\n",
       "    <tr>\n",
       "      <th>2010-01-04</th>\n",
       "      <td>sh.600004</td>\n",
       "      <td>5.046509</td>\n",
       "      <td>5.111144</td>\n",
       "      <td>5.041537</td>\n",
       "      <td>5.046509</td>\n",
       "      <td>5.046509</td>\n",
       "      <td>15478854</td>\n",
       "      <td>157747809.0</td>\n",
       "      <td>2</td>\n",
       "      <td>1.525010</td>\n",
       "      <td>1</td>\n",
       "      <td>0.0000</td>\n",
       "      <td>0</td>\n",
       "    </tr>\n",
       "    <tr>\n",
       "      <th>2010-01-05</th>\n",
       "      <td>sh.600004</td>\n",
       "      <td>5.046509</td>\n",
       "      <td>5.091256</td>\n",
       "      <td>5.041537</td>\n",
       "      <td>5.066397</td>\n",
       "      <td>5.046509</td>\n",
       "      <td>11070922</td>\n",
       "      <td>112683563.0</td>\n",
       "      <td>2</td>\n",
       "      <td>1.090731</td>\n",
       "      <td>1</td>\n",
       "      <td>0.3941</td>\n",
       "      <td>0</td>\n",
       "    </tr>\n",
       "    <tr>\n",
       "      <th>2010-01-06</th>\n",
       "      <td>sh.600004</td>\n",
       "      <td>5.056453</td>\n",
       "      <td>5.066397</td>\n",
       "      <td>4.981874</td>\n",
       "      <td>4.991818</td>\n",
       "      <td>5.066397</td>\n",
       "      <td>9410665</td>\n",
       "      <td>95205863.0</td>\n",
       "      <td>2</td>\n",
       "      <td>0.927159</td>\n",
       "      <td>1</td>\n",
       "      <td>-1.4720</td>\n",
       "      <td>0</td>\n",
       "    </tr>\n",
       "    <tr>\n",
       "      <th>2010-01-07</th>\n",
       "      <td>sh.600004</td>\n",
       "      <td>4.971930</td>\n",
       "      <td>4.996790</td>\n",
       "      <td>4.827744</td>\n",
       "      <td>4.862548</td>\n",
       "      <td>4.991818</td>\n",
       "      <td>8961813</td>\n",
       "      <td>88611912.0</td>\n",
       "      <td>2</td>\n",
       "      <td>0.882937</td>\n",
       "      <td>1</td>\n",
       "      <td>-2.5896</td>\n",
       "      <td>0</td>\n",
       "    </tr>\n",
       "    <tr>\n",
       "      <th>2010-01-08</th>\n",
       "      <td>sh.600004</td>\n",
       "      <td>4.837688</td>\n",
       "      <td>5.096228</td>\n",
       "      <td>4.837688</td>\n",
       "      <td>5.061425</td>\n",
       "      <td>4.862548</td>\n",
       "      <td>14923812</td>\n",
       "      <td>149969456.0</td>\n",
       "      <td>2</td>\n",
       "      <td>1.470326</td>\n",
       "      <td>1</td>\n",
       "      <td>4.0900</td>\n",
       "      <td>0</td>\n",
       "    </tr>\n",
       "  </tbody>\n",
       "</table>\n",
       "</div>"
      ],
      "text/plain": [
       "                 code      open      high       low     close  preclose  \\\n",
       "date                                                                      \n",
       "2010-01-04  sh.600004  5.046509  5.111144  5.041537  5.046509  5.046509   \n",
       "2010-01-05  sh.600004  5.046509  5.091256  5.041537  5.066397  5.046509   \n",
       "2010-01-06  sh.600004  5.056453  5.066397  4.981874  4.991818  5.066397   \n",
       "2010-01-07  sh.600004  4.971930  4.996790  4.827744  4.862548  4.991818   \n",
       "2010-01-08  sh.600004  4.837688  5.096228  4.837688  5.061425  4.862548   \n",
       "\n",
       "              volume       amount  adjustflag      turn  tradestatus  pctChg  \\\n",
       "date                                                                           \n",
       "2010-01-04  15478854  157747809.0           2  1.525010            1  0.0000   \n",
       "2010-01-05  11070922  112683563.0           2  1.090731            1  0.3941   \n",
       "2010-01-06   9410665   95205863.0           2  0.927159            1 -1.4720   \n",
       "2010-01-07   8961813   88611912.0           2  0.882937            1 -2.5896   \n",
       "2010-01-08  14923812  149969456.0           2  1.470326            1  4.0900   \n",
       "\n",
       "            isST  \n",
       "date              \n",
       "2010-01-04     0  \n",
       "2010-01-05     0  \n",
       "2010-01-06     0  \n",
       "2010-01-07     0  \n",
       "2010-01-08     0  "
      ]
     },
     "execution_count": 73,
     "metadata": {},
     "output_type": "execute_result"
    }
   ],
   "source": [
    "dt.head()"
   ]
  },
  {
   "cell_type": "markdown",
   "id": "a94c39a0-b405-46c4-bc5a-e86bca1800f1",
   "metadata": {},
   "source": [
    "# 数据预处理"
   ]
  },
  {
   "cell_type": "code",
   "execution_count": 74,
   "id": "35b71d90-4c3f-4dbd-b2f8-8af04819c868",
   "metadata": {
    "execution": {
     "iopub.execute_input": "2025-02-09T10:17:22.714930Z",
     "iopub.status.busy": "2025-02-09T10:17:22.712934Z",
     "iopub.status.idle": "2025-02-09T10:17:22.723535Z",
     "shell.execute_reply": "2025-02-09T10:17:22.721513Z",
     "shell.execute_reply.started": "2025-02-09T10:17:22.714930Z"
    }
   },
   "outputs": [],
   "source": [
    "# 我希望做的是记忆网络，所以需要数据是连续多日的且这个数据应该是比例关系所以要做转变"
   ]
  },
  {
   "cell_type": "code",
   "execution_count": 75,
   "id": "f24bbbfe-6c06-498c-a651-dac58e4619c5",
   "metadata": {
    "execution": {
     "iopub.execute_input": "2025-02-09T10:17:22.727533Z",
     "iopub.status.busy": "2025-02-09T10:17:22.726534Z",
     "iopub.status.idle": "2025-02-09T10:17:22.785112Z",
     "shell.execute_reply": "2025-02-09T10:17:22.783097Z",
     "shell.execute_reply.started": "2025-02-09T10:17:22.727533Z"
    }
   },
   "outputs": [],
   "source": [
    "# 我需要的是日期开盘价收盘价最高价最低价和成交量\n",
    "dt2 = dt.loc[:,['open','high','low','close','volume']] "
   ]
  },
  {
   "cell_type": "code",
   "execution_count": 76,
   "id": "4dfc37ff-c131-4325-8ee5-cafe656f02b2",
   "metadata": {
    "execution": {
     "iopub.execute_input": "2025-02-09T10:17:22.795113Z",
     "iopub.status.busy": "2025-02-09T10:17:22.794115Z",
     "iopub.status.idle": "2025-02-09T10:17:22.869897Z",
     "shell.execute_reply": "2025-02-09T10:17:22.867878Z",
     "shell.execute_reply.started": "2025-02-09T10:17:22.795113Z"
    }
   },
   "outputs": [
    {
     "data": {
      "text/html": [
       "<div>\n",
       "<style scoped>\n",
       "    .dataframe tbody tr th:only-of-type {\n",
       "        vertical-align: middle;\n",
       "    }\n",
       "\n",
       "    .dataframe tbody tr th {\n",
       "        vertical-align: top;\n",
       "    }\n",
       "\n",
       "    .dataframe thead th {\n",
       "        text-align: right;\n",
       "    }\n",
       "</style>\n",
       "<table border=\"1\" class=\"dataframe\">\n",
       "  <thead>\n",
       "    <tr style=\"text-align: right;\">\n",
       "      <th></th>\n",
       "      <th>open</th>\n",
       "      <th>high</th>\n",
       "      <th>low</th>\n",
       "      <th>close</th>\n",
       "      <th>volume</th>\n",
       "    </tr>\n",
       "    <tr>\n",
       "      <th>date</th>\n",
       "      <th></th>\n",
       "      <th></th>\n",
       "      <th></th>\n",
       "      <th></th>\n",
       "      <th></th>\n",
       "    </tr>\n",
       "  </thead>\n",
       "  <tbody>\n",
       "    <tr>\n",
       "      <th>2010-01-04</th>\n",
       "      <td>5.046509</td>\n",
       "      <td>5.111144</td>\n",
       "      <td>5.041537</td>\n",
       "      <td>5.046509</td>\n",
       "      <td>15478854</td>\n",
       "    </tr>\n",
       "    <tr>\n",
       "      <th>2010-01-05</th>\n",
       "      <td>5.046509</td>\n",
       "      <td>5.091256</td>\n",
       "      <td>5.041537</td>\n",
       "      <td>5.066397</td>\n",
       "      <td>11070922</td>\n",
       "    </tr>\n",
       "    <tr>\n",
       "      <th>2010-01-06</th>\n",
       "      <td>5.056453</td>\n",
       "      <td>5.066397</td>\n",
       "      <td>4.981874</td>\n",
       "      <td>4.991818</td>\n",
       "      <td>9410665</td>\n",
       "    </tr>\n",
       "    <tr>\n",
       "      <th>2010-01-07</th>\n",
       "      <td>4.971930</td>\n",
       "      <td>4.996790</td>\n",
       "      <td>4.827744</td>\n",
       "      <td>4.862548</td>\n",
       "      <td>8961813</td>\n",
       "    </tr>\n",
       "    <tr>\n",
       "      <th>2010-01-08</th>\n",
       "      <td>4.837688</td>\n",
       "      <td>5.096228</td>\n",
       "      <td>4.837688</td>\n",
       "      <td>5.061425</td>\n",
       "      <td>14923812</td>\n",
       "    </tr>\n",
       "  </tbody>\n",
       "</table>\n",
       "</div>"
      ],
      "text/plain": [
       "                open      high       low     close    volume\n",
       "date                                                        \n",
       "2010-01-04  5.046509  5.111144  5.041537  5.046509  15478854\n",
       "2010-01-05  5.046509  5.091256  5.041537  5.066397  11070922\n",
       "2010-01-06  5.056453  5.066397  4.981874  4.991818   9410665\n",
       "2010-01-07  4.971930  4.996790  4.827744  4.862548   8961813\n",
       "2010-01-08  4.837688  5.096228  4.837688  5.061425  14923812"
      ]
     },
     "execution_count": 76,
     "metadata": {},
     "output_type": "execute_result"
    }
   ],
   "source": [
    "dt2.head()"
   ]
  },
  {
   "cell_type": "code",
   "execution_count": 77,
   "id": "122084d6-630e-415c-a829-570bbf75bec9",
   "metadata": {
    "execution": {
     "iopub.execute_input": "2025-02-09T10:17:22.873893Z",
     "iopub.status.busy": "2025-02-09T10:17:22.871894Z",
     "iopub.status.idle": "2025-02-09T10:17:22.898153Z",
     "shell.execute_reply": "2025-02-09T10:17:22.895153Z",
     "shell.execute_reply.started": "2025-02-09T10:17:22.873893Z"
    }
   },
   "outputs": [
    {
     "data": {
      "text/plain": [
       "DatetimeIndex(['2010-01-04', '2010-01-05', '2010-01-06', '2010-01-07',\n",
       "               '2010-01-08', '2010-01-11', '2010-01-12', '2010-01-13',\n",
       "               '2010-01-14', '2010-01-15',\n",
       "               ...\n",
       "               '2025-01-16', '2025-01-17', '2025-01-20', '2025-01-21',\n",
       "               '2025-01-22', '2025-01-23', '2025-01-24', '2025-01-27',\n",
       "               '2025-02-05', '2025-02-06'],\n",
       "              dtype='datetime64[ns]', name='date', length=3663, freq=None)"
      ]
     },
     "execution_count": 77,
     "metadata": {},
     "output_type": "execute_result"
    }
   ],
   "source": [
    "dt2.index # 可以看到我这里是时间序列。"
   ]
  },
  {
   "cell_type": "code",
   "execution_count": 78,
   "id": "8280401b-9e5c-4645-9e77-180f9a3f0b89",
   "metadata": {
    "execution": {
     "iopub.execute_input": "2025-02-09T10:17:22.902156Z",
     "iopub.status.busy": "2025-02-09T10:17:22.901155Z",
     "iopub.status.idle": "2025-02-09T10:17:23.177899Z",
     "shell.execute_reply": "2025-02-09T10:17:23.175881Z",
     "shell.execute_reply.started": "2025-02-09T10:17:22.902156Z"
    }
   },
   "outputs": [
    {
     "data": {
      "text/html": [
       "<div>\n",
       "<style scoped>\n",
       "    .dataframe tbody tr th:only-of-type {\n",
       "        vertical-align: middle;\n",
       "    }\n",
       "\n",
       "    .dataframe tbody tr th {\n",
       "        vertical-align: top;\n",
       "    }\n",
       "\n",
       "    .dataframe thead th {\n",
       "        text-align: right;\n",
       "    }\n",
       "</style>\n",
       "<table border=\"1\" class=\"dataframe\">\n",
       "  <thead>\n",
       "    <tr style=\"text-align: right;\">\n",
       "      <th></th>\n",
       "      <th>open</th>\n",
       "      <th>high</th>\n",
       "      <th>low</th>\n",
       "      <th>close</th>\n",
       "      <th>volume</th>\n",
       "      <th>rsi14</th>\n",
       "      <th>rsi7</th>\n",
       "      <th>slow_k</th>\n",
       "      <th>slow_d</th>\n",
       "      <th>slow_j</th>\n",
       "      <th>volume2</th>\n",
       "      <th>macd</th>\n",
       "      <th>macdsignal</th>\n",
       "      <th>macdhist</th>\n",
       "    </tr>\n",
       "    <tr>\n",
       "      <th>date</th>\n",
       "      <th></th>\n",
       "      <th></th>\n",
       "      <th></th>\n",
       "      <th></th>\n",
       "      <th></th>\n",
       "      <th></th>\n",
       "      <th></th>\n",
       "      <th></th>\n",
       "      <th></th>\n",
       "      <th></th>\n",
       "      <th></th>\n",
       "      <th></th>\n",
       "      <th></th>\n",
       "      <th></th>\n",
       "    </tr>\n",
       "  </thead>\n",
       "  <tbody>\n",
       "    <tr>\n",
       "      <th>2025-01-16</th>\n",
       "      <td>9.26</td>\n",
       "      <td>9.35</td>\n",
       "      <td>9.16</td>\n",
       "      <td>9.20</td>\n",
       "      <td>0.087182</td>\n",
       "      <td>0.380401</td>\n",
       "      <td>0.404901</td>\n",
       "      <td>0.550788</td>\n",
       "      <td>0.367917</td>\n",
       "      <td>0.916530</td>\n",
       "      <td>9491417.0</td>\n",
       "      <td>-0.017540</td>\n",
       "      <td>-0.015734</td>\n",
       "      <td>-0.001806</td>\n",
       "    </tr>\n",
       "    <tr>\n",
       "      <th>2025-01-17</th>\n",
       "      <td>9.18</td>\n",
       "      <td>9.29</td>\n",
       "      <td>9.15</td>\n",
       "      <td>9.24</td>\n",
       "      <td>0.026592</td>\n",
       "      <td>0.403609</td>\n",
       "      <td>0.450729</td>\n",
       "      <td>0.648741</td>\n",
       "      <td>0.527028</td>\n",
       "      <td>0.892168</td>\n",
       "      <td>10318901.0</td>\n",
       "      <td>-0.016488</td>\n",
       "      <td>-0.015830</td>\n",
       "      <td>-0.000657</td>\n",
       "    </tr>\n",
       "    <tr>\n",
       "      <th>2025-01-20</th>\n",
       "      <td>9.28</td>\n",
       "      <td>9.32</td>\n",
       "      <td>9.25</td>\n",
       "      <td>9.27</td>\n",
       "      <td>-0.166530</td>\n",
       "      <td>0.421123</td>\n",
       "      <td>0.485404</td>\n",
       "      <td>0.701754</td>\n",
       "      <td>0.633761</td>\n",
       "      <td>0.837740</td>\n",
       "      <td>10593301.0</td>\n",
       "      <td>-0.015226</td>\n",
       "      <td>-0.015668</td>\n",
       "      <td>0.000442</td>\n",
       "    </tr>\n",
       "    <tr>\n",
       "      <th>2025-01-21</th>\n",
       "      <td>9.38</td>\n",
       "      <td>9.42</td>\n",
       "      <td>9.29</td>\n",
       "      <td>9.32</td>\n",
       "      <td>0.152186</td>\n",
       "      <td>0.450106</td>\n",
       "      <td>0.541665</td>\n",
       "      <td>0.759259</td>\n",
       "      <td>0.703252</td>\n",
       "      <td>0.871274</td>\n",
       "      <td>8829200.0</td>\n",
       "      <td>-0.013603</td>\n",
       "      <td>-0.015188</td>\n",
       "      <td>0.001585</td>\n",
       "    </tr>\n",
       "    <tr>\n",
       "      <th>2025-01-22</th>\n",
       "      <td>9.29</td>\n",
       "      <td>9.36</td>\n",
       "      <td>9.26</td>\n",
       "      <td>9.35</td>\n",
       "      <td>-0.012542</td>\n",
       "      <td>0.467339</td>\n",
       "      <td>0.574248</td>\n",
       "      <td>0.803899</td>\n",
       "      <td>0.754971</td>\n",
       "      <td>0.901754</td>\n",
       "      <td>10172877.0</td>\n",
       "      <td>-0.011945</td>\n",
       "      <td>-0.014500</td>\n",
       "      <td>0.002556</td>\n",
       "    </tr>\n",
       "    <tr>\n",
       "      <th>2025-01-23</th>\n",
       "      <td>9.38</td>\n",
       "      <td>9.49</td>\n",
       "      <td>9.38</td>\n",
       "      <td>9.40</td>\n",
       "      <td>0.343297</td>\n",
       "      <td>0.495704</td>\n",
       "      <td>0.625953</td>\n",
       "      <td>0.816382</td>\n",
       "      <td>0.793180</td>\n",
       "      <td>0.862786</td>\n",
       "      <td>10045286.0</td>\n",
       "      <td>-0.010063</td>\n",
       "      <td>-0.013551</td>\n",
       "      <td>0.003488</td>\n",
       "    </tr>\n",
       "    <tr>\n",
       "      <th>2025-01-24</th>\n",
       "      <td>9.40</td>\n",
       "      <td>9.42</td>\n",
       "      <td>9.31</td>\n",
       "      <td>9.37</td>\n",
       "      <td>0.229968</td>\n",
       "      <td>0.479215</td>\n",
       "      <td>0.576910</td>\n",
       "      <td>0.799547</td>\n",
       "      <td>0.806609</td>\n",
       "      <td>0.785422</td>\n",
       "      <td>13493800.0</td>\n",
       "      <td>-0.008807</td>\n",
       "      <td>-0.012637</td>\n",
       "      <td>0.003830</td>\n",
       "    </tr>\n",
       "    <tr>\n",
       "      <th>2025-01-27</th>\n",
       "      <td>9.37</td>\n",
       "      <td>9.48</td>\n",
       "      <td>9.37</td>\n",
       "      <td>9.38</td>\n",
       "      <td>-0.245614</td>\n",
       "      <td>0.485360</td>\n",
       "      <td>0.589420</td>\n",
       "      <td>0.743555</td>\n",
       "      <td>0.786495</td>\n",
       "      <td>0.657677</td>\n",
       "      <td>16596941.0</td>\n",
       "      <td>-0.007604</td>\n",
       "      <td>-0.011620</td>\n",
       "      <td>0.004016</td>\n",
       "    </tr>\n",
       "    <tr>\n",
       "      <th>2025-02-05</th>\n",
       "      <td>9.44</td>\n",
       "      <td>9.44</td>\n",
       "      <td>9.21</td>\n",
       "      <td>9.25</td>\n",
       "      <td>0.085590</td>\n",
       "      <td>0.416545</td>\n",
       "      <td>0.406929</td>\n",
       "      <td>0.565954</td>\n",
       "      <td>0.703019</td>\n",
       "      <td>0.291824</td>\n",
       "      <td>12520501.0</td>\n",
       "      <td>-0.007796</td>\n",
       "      <td>-0.010986</td>\n",
       "      <td>0.003190</td>\n",
       "    </tr>\n",
       "    <tr>\n",
       "      <th>2025-02-06</th>\n",
       "      <td>9.23</td>\n",
       "      <td>9.30</td>\n",
       "      <td>9.19</td>\n",
       "      <td>9.30</td>\n",
       "      <td>-0.234572</td>\n",
       "      <td>0.448909</td>\n",
       "      <td>0.479273</td>\n",
       "      <td>0.470588</td>\n",
       "      <td>0.593366</td>\n",
       "      <td>0.225033</td>\n",
       "      <td>13592127.0</td>\n",
       "      <td>-0.007302</td>\n",
       "      <td>-0.010202</td>\n",
       "      <td>0.002899</td>\n",
       "    </tr>\n",
       "  </tbody>\n",
       "</table>\n",
       "</div>"
      ],
      "text/plain": [
       "            open  high   low  close    volume     rsi14      rsi7    slow_k  \\\n",
       "date                                                                          \n",
       "2025-01-16  9.26  9.35  9.16   9.20  0.087182  0.380401  0.404901  0.550788   \n",
       "2025-01-17  9.18  9.29  9.15   9.24  0.026592  0.403609  0.450729  0.648741   \n",
       "2025-01-20  9.28  9.32  9.25   9.27 -0.166530  0.421123  0.485404  0.701754   \n",
       "2025-01-21  9.38  9.42  9.29   9.32  0.152186  0.450106  0.541665  0.759259   \n",
       "2025-01-22  9.29  9.36  9.26   9.35 -0.012542  0.467339  0.574248  0.803899   \n",
       "2025-01-23  9.38  9.49  9.38   9.40  0.343297  0.495704  0.625953  0.816382   \n",
       "2025-01-24  9.40  9.42  9.31   9.37  0.229968  0.479215  0.576910  0.799547   \n",
       "2025-01-27  9.37  9.48  9.37   9.38 -0.245614  0.485360  0.589420  0.743555   \n",
       "2025-02-05  9.44  9.44  9.21   9.25  0.085590  0.416545  0.406929  0.565954   \n",
       "2025-02-06  9.23  9.30  9.19   9.30 -0.234572  0.448909  0.479273  0.470588   \n",
       "\n",
       "              slow_d    slow_j     volume2      macd  macdsignal  macdhist  \n",
       "date                                                                        \n",
       "2025-01-16  0.367917  0.916530   9491417.0 -0.017540   -0.015734 -0.001806  \n",
       "2025-01-17  0.527028  0.892168  10318901.0 -0.016488   -0.015830 -0.000657  \n",
       "2025-01-20  0.633761  0.837740  10593301.0 -0.015226   -0.015668  0.000442  \n",
       "2025-01-21  0.703252  0.871274   8829200.0 -0.013603   -0.015188  0.001585  \n",
       "2025-01-22  0.754971  0.901754  10172877.0 -0.011945   -0.014500  0.002556  \n",
       "2025-01-23  0.793180  0.862786  10045286.0 -0.010063   -0.013551  0.003488  \n",
       "2025-01-24  0.806609  0.785422  13493800.0 -0.008807   -0.012637  0.003830  \n",
       "2025-01-27  0.786495  0.657677  16596941.0 -0.007604   -0.011620  0.004016  \n",
       "2025-02-05  0.703019  0.291824  12520501.0 -0.007796   -0.010986  0.003190  \n",
       "2025-02-06  0.593366  0.225033  13592127.0 -0.007302   -0.010202  0.002899  "
      ]
     },
     "execution_count": 78,
     "metadata": {},
     "output_type": "execute_result"
    }
   ],
   "source": [
    "# 计算rsi\n",
    "dt2['rsi14']= talib.RSI(dt2['close'],timeperiod=14) / 100\n",
    "dt2['rsi7']= talib.RSI(dt2['close'],timeperiod=7) / 100\n",
    "# 计算kdj\n",
    "dt2['slow_k'],  dt2['slow_d']= talib.STOCH(\n",
    "    dt2['high'],\n",
    "    dt2['low'],\n",
    "    dt2['close'],\n",
    "    fastk_period=9,\n",
    "    slowd_period=3,\n",
    "    slowd_matype=0,\n",
    "    slowk_period=3,\n",
    "    slowk_matype=0)\n",
    "dt2['slow_j'] = list(map(lambda x,y: 3*x-2*y, dt2['slow_k'], dt2['slow_d']))\n",
    "# 做成0-1之间\n",
    "dt2['slow_k'] = dt2['slow_k']/100\n",
    "dt2['slow_d'] = dt2['slow_d']/100\n",
    "dt2['slow_j'] = dt2['slow_j']/100\n",
    "\n",
    "# 我这里要将成交量进行比较\n",
    "dt2['volume2'] = dt2['volume'].shift(1)\n",
    "dt2['volume'] = (dt2['volume'] - dt2['volume2'])/dt2['volume2']\n",
    "\n",
    "# macd,我这里做成比例\n",
    "dt2['macd'], dt2['macdsignal'], dt2['macdhist'] = talib.MACD(dt2['close'])\n",
    "dt2['macd'] = dt2['macd'] / dt2['close']\n",
    "dt2['macdsignal'] = dt2['macdsignal'] / dt2['close']\n",
    "dt2['macdhist'] = dt2['macdhist'] / dt2['close']\n",
    "# 显示最后10个数据\n",
    "# 这里要将价格进行归一化处理\n",
    "\n",
    "dt2.tail(10)"
   ]
  },
  {
   "cell_type": "code",
   "execution_count": null,
   "id": "53cf0771-5ebc-4c7f-b671-3e3e0fb5d07c",
   "metadata": {},
   "outputs": [],
   "source": []
  },
  {
   "cell_type": "code",
   "execution_count": 92,
   "id": "f7f90612-3f47-41b2-b5f5-7a8702f9713c",
   "metadata": {
    "execution": {
     "iopub.execute_input": "2025-02-09T10:18:35.987468Z",
     "iopub.status.busy": "2025-02-09T10:18:35.986469Z",
     "iopub.status.idle": "2025-02-09T10:18:36.126028Z",
     "shell.execute_reply": "2025-02-09T10:18:36.124007Z",
     "shell.execute_reply.started": "2025-02-09T10:18:35.987468Z"
    }
   },
   "outputs": [],
   "source": [
    "# 我看x是前面N日的价格和成交量,y为当日的收盘价。\n",
    "# 输入参数的形状是(batch_size, squ_len,input_size),批次数量，序列的长度，输入的尺寸\n",
    "# 因为昨天的价格跟亘天的可能有影响但区别不大，所以这里我要要加几个指标\n",
    "# 含有这些列，数组的大小就是input_size，也就是特征的数量\n",
    "input_column = [ 'volume',\n",
    "                'rsi14', 'rsi7', \n",
    "                'slow_k', 'slow_d', 'slow_j', \n",
    "                'macd', 'macdsignal', 'macdhist']\n",
    "input_size = len(input_column)\n",
    "seq_len = 30    # 多少个时间序列的股票\n",
    "output_size = 1 # 我只是输出一个今天的固件相比较昨日的涨跌比率\n",
    "num_layers = 10 # 多少个gru合并\n",
    "hidden_size = 20 # 隐藏层的宽度\n",
    "\n",
    "# 如下的是组装数据\n",
    "lst_dt = []\n",
    "dt3 = dt2.loc[:,input_column]\n",
    "\n",
    "for i in range(seq_len):\n",
    "    dt_tmp = dt3.shift(seq_len-i).reset_index(drop=True)\n",
    "    lst_dt.append(dt_tmp)\n",
    "# 时间序列，我需要的是按照时间顺序\n",
    "# 并且,我需要绕过前面的seq_len，因为是没有数据的，然后最后一个也不可以，因为是当天的\n",
    "# 接下来是拼接\n",
    "dt3 = np.concatenate(lst_dt, axis=1) # 按照列进行拼接"
   ]
  },
  {
   "cell_type": "code",
   "execution_count": 93,
   "id": "4c5a2715-278b-439e-be93-7a06502049b8",
   "metadata": {
    "execution": {
     "iopub.execute_input": "2025-02-09T10:18:36.233028Z",
     "iopub.status.busy": "2025-02-09T10:18:36.231031Z",
     "iopub.status.idle": "2025-02-09T10:18:36.244453Z",
     "shell.execute_reply": "2025-02-09T10:18:36.242434Z",
     "shell.execute_reply.started": "2025-02-09T10:18:36.233028Z"
    }
   },
   "outputs": [
    {
     "data": {
      "text/plain": [
       "Index(['volume', 'rsi14', 'rsi7', 'slow_k', 'slow_d', 'slow_j', 'macd',\n",
       "       'macdsignal', 'macdhist'],\n",
       "      dtype='object')"
      ]
     },
     "execution_count": 93,
     "metadata": {},
     "output_type": "execute_result"
    }
   ],
   "source": [
    "lst_dt[0].columns"
   ]
  },
  {
   "cell_type": "code",
   "execution_count": 94,
   "id": "4b5d017d-c06c-41b3-85f2-bd99cc1bf87b",
   "metadata": {
    "execution": {
     "iopub.execute_input": "2025-02-09T10:18:36.474453Z",
     "iopub.status.busy": "2025-02-09T10:18:36.473460Z",
     "iopub.status.idle": "2025-02-09T10:18:36.484637Z",
     "shell.execute_reply": "2025-02-09T10:18:36.482617Z",
     "shell.execute_reply.started": "2025-02-09T10:18:36.474453Z"
    },
    "scrolled": true
   },
   "outputs": [
    {
     "data": {
      "text/plain": [
       "(3663, 270)"
      ]
     },
     "execution_count": 94,
     "metadata": {},
     "output_type": "execute_result"
    }
   ],
   "source": [
    "dt3.shape"
   ]
  },
  {
   "cell_type": "code",
   "execution_count": 95,
   "id": "f3dde6dd-8dee-4390-947b-36da14d5eca2",
   "metadata": {
    "execution": {
     "iopub.execute_input": "2025-02-09T10:18:36.701642Z",
     "iopub.status.busy": "2025-02-09T10:18:36.700647Z",
     "iopub.status.idle": "2025-02-09T10:18:36.714010Z",
     "shell.execute_reply": "2025-02-09T10:18:36.710991Z",
     "shell.execute_reply.started": "2025-02-09T10:18:36.701642Z"
    }
   },
   "outputs": [
    {
     "data": {
      "text/plain": [
       "9"
      ]
     },
     "execution_count": 95,
     "metadata": {},
     "output_type": "execute_result"
    }
   ],
   "source": [
    "input_size"
   ]
  },
  {
   "cell_type": "code",
   "execution_count": 96,
   "id": "03cfd9f1-b75e-4ecd-98ec-3749025e69a2",
   "metadata": {
    "execution": {
     "iopub.execute_input": "2025-02-09T10:18:36.914010Z",
     "iopub.status.busy": "2025-02-09T10:18:36.912008Z",
     "iopub.status.idle": "2025-02-09T10:18:36.925851Z",
     "shell.execute_reply": "2025-02-09T10:18:36.923834Z",
     "shell.execute_reply.started": "2025-02-09T10:18:36.914010Z"
    }
   },
   "outputs": [
    {
     "data": {
      "text/plain": [
       "(3632, 270)"
      ]
     },
     "execution_count": 96,
     "metadata": {},
     "output_type": "execute_result"
    }
   ],
   "source": [
    "# 这里取得有效值\n",
    "dt4 = dt3[seq_len:-1]\n",
    "dt4.shape"
   ]
  },
  {
   "cell_type": "code",
   "execution_count": 97,
   "id": "e257174d-a5f6-47f3-9a39-bf58a1f3a68d",
   "metadata": {
    "execution": {
     "iopub.execute_input": "2025-02-09T10:18:37.320853Z",
     "iopub.status.busy": "2025-02-09T10:18:37.319858Z",
     "iopub.status.idle": "2025-02-09T10:18:37.332324Z",
     "shell.execute_reply": "2025-02-09T10:18:37.331303Z",
     "shell.execute_reply.started": "2025-02-09T10:18:37.320853Z"
    }
   },
   "outputs": [
    {
     "data": {
      "text/plain": [
       "True"
      ]
     },
     "execution_count": 97,
     "metadata": {},
     "output_type": "execute_result"
    }
   ],
   "source": [
    "isinstance(dt3, np.ndarray)"
   ]
  },
  {
   "cell_type": "code",
   "execution_count": 98,
   "id": "47b06984-89f4-4bc6-bf7d-84b78a25bf6a",
   "metadata": {
    "execution": {
     "iopub.execute_input": "2025-02-09T10:18:37.855318Z",
     "iopub.status.busy": "2025-02-09T10:18:37.854323Z",
     "iopub.status.idle": "2025-02-09T10:18:37.869430Z",
     "shell.execute_reply": "2025-02-09T10:18:37.866410Z",
     "shell.execute_reply.started": "2025-02-09T10:18:37.855318Z"
    }
   },
   "outputs": [
    {
     "data": {
      "text/plain": [
       "(3632, 30, 9)"
      ]
     },
     "execution_count": 98,
     "metadata": {},
     "output_type": "execute_result"
    }
   ],
   "source": [
    "# 这里要更改维度,要更改成响应的\n",
    "dt5 = dt4.reshape(dt4.shape[0],seq_len,int(dt4.shape[1]/seq_len))\n",
    "dt5.shape"
   ]
  },
  {
   "cell_type": "code",
   "execution_count": 110,
   "id": "406b4969-1d1e-4e82-9ea3-87b697dd86f6",
   "metadata": {
    "execution": {
     "iopub.execute_input": "2025-02-09T10:21:50.230496Z",
     "iopub.status.busy": "2025-02-09T10:21:50.228492Z",
     "iopub.status.idle": "2025-02-09T10:21:50.254382Z",
     "shell.execute_reply": "2025-02-09T10:21:50.248381Z",
     "shell.execute_reply.started": "2025-02-09T10:21:50.230496Z"
    }
   },
   "outputs": [],
   "source": [
    "X=dt5"
   ]
  },
  {
   "cell_type": "code",
   "execution_count": 111,
   "id": "71265537-00a2-4392-a916-585269cade48",
   "metadata": {
    "execution": {
     "iopub.execute_input": "2025-02-09T10:21:50.264378Z",
     "iopub.status.busy": "2025-02-09T10:21:50.260377Z",
     "iopub.status.idle": "2025-02-09T10:21:50.313130Z",
     "shell.execute_reply": "2025-02-09T10:21:50.310107Z",
     "shell.execute_reply.started": "2025-02-09T10:21:50.264378Z"
    }
   },
   "outputs": [
    {
     "data": {
      "text/plain": [
       "(3632,)"
      ]
     },
     "execution_count": 111,
     "metadata": {},
     "output_type": "execute_result"
    }
   ],
   "source": [
    "# 接下来是看y轴，我这里只是计算比例\n",
    "dt2['close2'] = dt2['close'].shift(1)\n",
    "dt2['close_diff'] = (dt2['close'] - dt2['close2'])/dt2['close2'] # 仅仅是个比率\n",
    "dt2.head()\n",
    "Y = dt2.iloc[seq_len+1:, len(dt2.columns)-1]\n",
    "Y.shape"
   ]
  },
  {
   "cell_type": "code",
   "execution_count": 112,
   "id": "b03c23d2-c96e-4d35-8779-142b4e1b8a74",
   "metadata": {
    "execution": {
     "iopub.execute_input": "2025-02-09T10:21:50.318129Z",
     "iopub.status.busy": "2025-02-09T10:21:50.316130Z",
     "iopub.status.idle": "2025-02-09T10:21:50.328120Z",
     "shell.execute_reply": "2025-02-09T10:21:50.326092Z",
     "shell.execute_reply.started": "2025-02-09T10:21:50.318129Z"
    }
   },
   "outputs": [
    {
     "name": "stdout",
     "output_type": "stream",
     "text": [
      "(3632, 30, 9)\n",
      "(3632,)\n"
     ]
    }
   ],
   "source": [
    "print(X.shape)\n",
    "print(Y.shape)"
   ]
  },
  {
   "cell_type": "code",
   "execution_count": 113,
   "id": "c2df9288-2cce-4ff2-9c5d-5b2d4bfd3762",
   "metadata": {
    "execution": {
     "iopub.execute_input": "2025-02-09T10:21:50.334114Z",
     "iopub.status.busy": "2025-02-09T10:21:50.332110Z",
     "iopub.status.idle": "2025-02-09T10:21:50.417887Z",
     "shell.execute_reply": "2025-02-09T10:21:50.414869Z",
     "shell.execute_reply.started": "2025-02-09T10:21:50.334114Z"
    }
   },
   "outputs": [
    {
     "data": {
      "text/plain": [
       "(3632, 30, 9)"
      ]
     },
     "execution_count": 113,
     "metadata": {},
     "output_type": "execute_result"
    }
   ],
   "source": [
    "X.shape"
   ]
  },
  {
   "cell_type": "code",
   "execution_count": 114,
   "id": "c6e0d6ed-b6bc-4654-ad38-844b5c15452d",
   "metadata": {
    "execution": {
     "iopub.execute_input": "2025-02-09T10:21:50.421890Z",
     "iopub.status.busy": "2025-02-09T10:21:50.420889Z",
     "iopub.status.idle": "2025-02-09T10:21:50.469285Z",
     "shell.execute_reply": "2025-02-09T10:21:50.465288Z",
     "shell.execute_reply.started": "2025-02-09T10:21:50.421890Z"
    }
   },
   "outputs": [],
   "source": [
    "# 这里要考虑批次不够整数的情况\n",
    "_x_y_len = int(X.shape[0]/batch_size) * batch_size\n",
    "\n",
    "# 这里都是取得最新的数据\n",
    "X = X[-_x_y_len:]\n",
    "Y = Y[-_x_y_len:]\n",
    "X = X.reshape(X.shape[0]//batch_size, batch_size, X.shape[1], X.shape[2])\n",
    "Y = Y.values.reshape(Y.shape[0]//batch_size, batch_size, 1)"
   ]
  },
  {
   "cell_type": "code",
   "execution_count": 117,
   "id": "73706bd2-689c-4cf3-9aa6-adf58a373707",
   "metadata": {
    "execution": {
     "iopub.execute_input": "2025-02-09T10:22:11.550682Z",
     "iopub.status.busy": "2025-02-09T10:22:11.548687Z",
     "iopub.status.idle": "2025-02-09T10:22:11.561505Z",
     "shell.execute_reply": "2025-02-09T10:22:11.559488Z",
     "shell.execute_reply.started": "2025-02-09T10:22:11.550682Z"
    }
   },
   "outputs": [
    {
     "name": "stdout",
     "output_type": "stream",
     "text": [
      "(227, 16, 30, 9)\n",
      "(227, 16, 1)\n"
     ]
    }
   ],
   "source": [
    "print(X.shape)\n",
    "print(Y.shape)"
   ]
  },
  {
   "cell_type": "code",
   "execution_count": 118,
   "id": "a62682b4-f75c-4df3-bc8f-d37e47e31561",
   "metadata": {
    "execution": {
     "iopub.execute_input": "2025-02-09T10:22:14.954509Z",
     "iopub.status.busy": "2025-02-09T10:22:14.953507Z",
     "iopub.status.idle": "2025-02-09T10:22:14.978271Z",
     "shell.execute_reply": "2025-02-09T10:22:14.975253Z",
     "shell.execute_reply.started": "2025-02-09T10:22:14.954509Z"
    }
   },
   "outputs": [],
   "source": [
    "_X = torch.FloatTensor(X)\n",
    "_Y = torch.FloatTensor(Y)"
   ]
  },
  {
   "cell_type": "code",
   "execution_count": 120,
   "id": "a771f17f-5278-4fe7-acbc-1ff3eabcf573",
   "metadata": {
    "execution": {
     "iopub.execute_input": "2025-02-09T10:22:27.975023Z",
     "iopub.status.busy": "2025-02-09T10:22:27.974024Z",
     "iopub.status.idle": "2025-02-09T10:22:27.983372Z",
     "shell.execute_reply": "2025-02-09T10:22:27.981353Z",
     "shell.execute_reply.started": "2025-02-09T10:22:27.975023Z"
    }
   },
   "outputs": [
    {
     "name": "stdout",
     "output_type": "stream",
     "text": [
      "torch.Size([227, 16, 30, 9])\n",
      "torch.Size([227, 16, 1])\n"
     ]
    }
   ],
   "source": [
    "print(_X.size())\n",
    "print(_Y.size())"
   ]
  },
  {
   "cell_type": "code",
   "execution_count": null,
   "id": "024dfb90-f522-45e6-aee2-32e278f63867",
   "metadata": {},
   "outputs": [],
   "source": []
  },
  {
   "cell_type": "code",
   "execution_count": 121,
   "id": "88bde799-1310-42df-9a4d-cf6980648b6f",
   "metadata": {
    "execution": {
     "iopub.execute_input": "2025-02-09T10:22:31.992377Z",
     "iopub.status.busy": "2025-02-09T10:22:31.991373Z",
     "iopub.status.idle": "2025-02-09T10:22:32.075817Z",
     "shell.execute_reply": "2025-02-09T10:22:32.071793Z",
     "shell.execute_reply.started": "2025-02-09T10:22:31.992377Z"
    }
   },
   "outputs": [],
   "source": [
    "# 这里要区分训练集和测试集\n",
    "\n",
    "\n",
    "\n",
    "dataset = Data.TensorDataset(torch.FloatTensor(X), torch.FloatTensor(Y))\n",
    "batch_size = 16\n",
    "train_loader, test_loader = Data.random_split(dataset,\n",
    "                                             lengths=[int(0.9*len(dataset)), len(dataset)- int(0.9*len(dataset))],\n",
    "                                             generator=torch.Generator().manual_seed(0))"
   ]
  },
  {
   "cell_type": "code",
   "execution_count": 122,
   "id": "ddd26f74-53cd-4f97-acf9-d17d47dda2a1",
   "metadata": {
    "execution": {
     "iopub.execute_input": "2025-02-09T10:22:32.782810Z",
     "iopub.status.busy": "2025-02-09T10:22:32.781817Z",
     "iopub.status.idle": "2025-02-09T10:22:32.793978Z",
     "shell.execute_reply": "2025-02-09T10:22:32.792953Z",
     "shell.execute_reply.started": "2025-02-09T10:22:32.782810Z"
    }
   },
   "outputs": [
    {
     "data": {
      "text/plain": [
       "227"
      ]
     },
     "execution_count": 122,
     "metadata": {},
     "output_type": "execute_result"
    }
   ],
   "source": [
    "len(dataset)"
   ]
  },
  {
   "cell_type": "code",
   "execution_count": 123,
   "id": "9eae7845-0b55-46a5-a159-0d1afc175a15",
   "metadata": {
    "execution": {
     "iopub.execute_input": "2025-02-09T10:22:36.224980Z",
     "iopub.status.busy": "2025-02-09T10:22:36.223974Z",
     "iopub.status.idle": "2025-02-09T10:22:36.239917Z",
     "shell.execute_reply": "2025-02-09T10:22:36.237901Z",
     "shell.execute_reply.started": "2025-02-09T10:22:36.224980Z"
    }
   },
   "outputs": [
    {
     "data": {
      "text/plain": [
       "array([[[ 0.00970018],\n",
       "        [ 0.0069869 ],\n",
       "        [ 0.00346921],\n",
       "        ...,\n",
       "        [-0.01898188],\n",
       "        [ 0.00879507],\n",
       "        [ 0.01482127]],\n",
       "\n",
       "       [[ 0.01718213],\n",
       "        [-0.00506757],\n",
       "        [ 0.00509338],\n",
       "        ...,\n",
       "        [ 0.00599315],\n",
       "        [-0.01021277],\n",
       "        [-0.01633706]],\n",
       "\n",
       "       [[ 0.01398601],\n",
       "        [ 0.02758621],\n",
       "        [-0.00083893],\n",
       "        ...,\n",
       "        [-0.01863933],\n",
       "        [-0.00949668],\n",
       "        [-0.01534036]],\n",
       "\n",
       "       ...,\n",
       "\n",
       "       [[-0.02335025],\n",
       "        [-0.00727651],\n",
       "        [ 0.00732984],\n",
       "        ...,\n",
       "        [ 0.00608519],\n",
       "        [ 0.01008065],\n",
       "        [-0.01197605]],\n",
       "\n",
       "       [[-0.0010101 ],\n",
       "        [-0.00808898],\n",
       "        [-0.00101937],\n",
       "        ...,\n",
       "        [-0.01283422],\n",
       "        [ 0.00325027],\n",
       "        [-0.0075594 ]],\n",
       "\n",
       "       [[-0.00217628],\n",
       "        [-0.00436205],\n",
       "        [-0.01204819],\n",
       "        ...,\n",
       "        [ 0.00106724],\n",
       "        [-0.01385928],\n",
       "        [ 0.00540541]]])"
      ]
     },
     "execution_count": 123,
     "metadata": {},
     "output_type": "execute_result"
    }
   ],
   "source": [
    "Y"
   ]
  },
  {
   "cell_type": "code",
   "execution_count": 124,
   "id": "c17dd97c-1ef7-476d-8846-73c1d4d48a22",
   "metadata": {
    "execution": {
     "iopub.execute_input": "2025-02-09T10:22:36.558917Z",
     "iopub.status.busy": "2025-02-09T10:22:36.557925Z",
     "iopub.status.idle": "2025-02-09T10:22:36.572773Z",
     "shell.execute_reply": "2025-02-09T10:22:36.570756Z",
     "shell.execute_reply.started": "2025-02-09T10:22:36.558917Z"
    }
   },
   "outputs": [],
   "source": [
    "# 这里做一个网络\n",
    "import torch.nn as nn\n",
    "class GRUModel(nn.Module):\n",
    "    def __init__(self, input_size, hidden_size, num_layers, output_size):\n",
    "        super(GRUModel, self).__init__()\n",
    "        self.gru = nn.GRU(input_size, hidden_size, num_layers, batch_first=True)\n",
    "        self.fc = nn.Linear(hidden_size, output_size)\n",
    "    def forward(self, x):\n",
    "        out, _ = self.gru(x) # gru层\n",
    "        out = self.fc(out[:,-1, :]) # 全连接层\n",
    "        return out"
   ]
  },
  {
   "cell_type": "code",
   "execution_count": 125,
   "id": "1e88560d-0712-42b7-a1e6-def295f2d98c",
   "metadata": {
    "execution": {
     "iopub.execute_input": "2025-02-09T10:22:37.078772Z",
     "iopub.status.busy": "2025-02-09T10:22:37.077773Z",
     "iopub.status.idle": "2025-02-09T10:22:37.261245Z",
     "shell.execute_reply": "2025-02-09T10:22:37.259227Z",
     "shell.execute_reply.started": "2025-02-09T10:22:37.077773Z"
    }
   },
   "outputs": [],
   "source": [
    "\n",
    "device = torch.device(\"cuda:0\" if torch.cuda.is_available() else \"cpu\")\n",
    "net = GRUModel(input_size, hidden_size, num_layers, output_size).to(device)\n",
    "criterion = torch.nn.MSELoss()\n",
    "optimizer = optim.SGD(net.parameters(), lr=0.001, momentum=0.9)"
   ]
  },
  {
   "cell_type": "code",
   "execution_count": null,
   "id": "50f4b187-d9f7-4fe8-8750-98574941dd11",
   "metadata": {
    "execution": {
     "iopub.execute_input": "2025-02-09T10:23:28.871851Z",
     "iopub.status.busy": "2025-02-09T10:23:28.871851Z"
    }
   },
   "outputs": [],
   "source": [
    "for epoch in range(100):  # 迭代一次\n",
    "    running_loss = 0.0\n",
    "    for i, data in enumerate(train_loader, 0):\n",
    "        # 获取输入\n",
    "        inputs, labels = data\n",
    "        inputs = inputs.to(device)\n",
    "        labels = labels.to(device)\n",
    "        # 梯度置 0\n",
    "        optimizer.zero_grad()\n",
    "        # 正向传播，反向传播，优化\n",
    "        outputs = net(inputs)\n",
    "        loss = criterion(outputs, labels)\n",
    "        loss.backward()\n",
    "        optimizer.step()\n",
    "        # 打印状态信息\n",
    "        running_loss += loss.item()\n",
    "        if i % 200 == 199:    # 每 200 批次打印一次\n",
    "            print('[%d, %5d] loss: %.3f' %\n",
    "                  (epoch + 1, i + 1, running_loss / 200))\n",
    "            running_loss = 0.0\n",
    "print('Finished Training.')\n"
   ]
  },
  {
   "cell_type": "code",
   "execution_count": 128,
   "id": "86f342b6-7e62-44ff-9f0c-ba6cb649611c",
   "metadata": {
    "execution": {
     "iopub.execute_input": "2025-02-09T10:23:15.788068Z",
     "iopub.status.busy": "2025-02-09T10:23:15.787066Z",
     "iopub.status.idle": "2025-02-09T10:23:15.858096Z",
     "shell.execute_reply": "2025-02-09T10:23:15.855078Z",
     "shell.execute_reply.started": "2025-02-09T10:23:15.788068Z"
    }
   },
   "outputs": [
    {
     "name": "stdout",
     "output_type": "stream",
     "text": [
      "tensor([[nan],\n",
      "        [nan],\n",
      "        [nan],\n",
      "        [nan],\n",
      "        [nan],\n",
      "        [nan],\n",
      "        [nan],\n",
      "        [nan],\n",
      "        [nan],\n",
      "        [nan],\n",
      "        [nan],\n",
      "        [nan],\n",
      "        [nan],\n",
      "        [nan],\n",
      "        [nan],\n",
      "        [nan]], device='cuda:0', grad_fn=<AddmmBackward0>)\n"
     ]
    }
   ],
   "source": [
    "for i, data in enumerate(train_loader, 0):\n",
    "    inputs, labels = data\n",
    "    inputs = inputs.to(device)\n",
    "    labels = labels.to(device)\n",
    "    # 梯度置 0\n",
    "    optimizer.zero_grad()\n",
    "    # 正向传播，反向传播，优化\n",
    "    outputs = net(inputs)\n",
    "    print(outputs)\n",
    "    break"
   ]
  },
  {
   "cell_type": "code",
   "execution_count": null,
   "id": "72f077c5-5c9d-45b6-a685-0c2607c47777",
   "metadata": {},
   "outputs": [],
   "source": []
  }
 ],
 "metadata": {
  "kernelspec": {
   "display_name": "Python 3 (ipykernel)",
   "language": "python",
   "name": "python3"
  },
  "language_info": {
   "codemirror_mode": {
    "name": "ipython",
    "version": 3
   },
   "file_extension": ".py",
   "mimetype": "text/x-python",
   "name": "python",
   "nbconvert_exporter": "python",
   "pygments_lexer": "ipython3",
   "version": "3.11.5"
  }
 },
 "nbformat": 4,
 "nbformat_minor": 5
}
