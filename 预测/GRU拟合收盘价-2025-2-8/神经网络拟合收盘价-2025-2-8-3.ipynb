{
 "cells": [
  {
   "cell_type": "markdown",
   "id": "02c218eb-012e-451c-8e23-dbb9fd4ad347",
   "metadata": {
    "execution": {
     "iopub.execute_input": "2025-02-28T13:34:40.976721Z",
     "iopub.status.busy": "2025-02-28T13:34:40.974717Z",
     "iopub.status.idle": "2025-02-28T13:34:42.413488Z",
     "shell.execute_reply": "2025-02-28T13:34:42.409466Z",
     "shell.execute_reply.started": "2025-02-28T13:34:40.976721Z"
    }
   },
   "source": [
    "测试一下将所有的股票数据联合起来，经过验证，数据量太大，内存不够啊。，所以还得分开"
   ]
  },
  {
   "cell_type": "code",
   "execution_count": 2,
   "id": "7e0dd952-9086-4b21-8617-5d509ada60c2",
   "metadata": {
    "execution": {
     "iopub.execute_input": "2025-02-28T13:34:48.533582Z",
     "iopub.status.busy": "2025-02-28T13:34:48.531585Z",
     "iopub.status.idle": "2025-02-28T13:35:05.524637Z",
     "shell.execute_reply": "2025-02-28T13:35:05.521616Z",
     "shell.execute_reply.started": "2025-02-28T13:34:48.533582Z"
    }
   },
   "outputs": [],
   "source": [
    "import sys\n",
    "import pandas as pd\n",
    "import numpy as np\n",
    "import torch\n",
    "import torch.nn as nn\n",
    "import torch.optim as optim\n",
    "import talib\n",
    "import torch.utils.data as Data"
   ]
  },
  {
   "cell_type": "markdown",
   "id": "da274e41-0353-490f-b283-caad2c4e64a6",
   "metadata": {},
   "source": [
    "我想要用lstm的网络来预测收盘价。  \n",
    "x是价格对于，N日前的收盘价的比例\n",
    "y是收盘价  "
   ]
  },
  {
   "cell_type": "markdown",
   "id": "81745f3d-35b7-4bd3-aba0-6053d7916d97",
   "metadata": {},
   "source": [
    "# 获取数据"
   ]
  },
  {
   "cell_type": "code",
   "execution_count": 4,
   "id": "8fc35175-9977-48e5-9391-4ef7d904d49b",
   "metadata": {
    "execution": {
     "iopub.execute_input": "2025-02-28T13:36:45.546728Z",
     "iopub.status.busy": "2025-02-28T13:36:45.544731Z",
     "iopub.status.idle": "2025-02-28T13:36:45.567916Z",
     "shell.execute_reply": "2025-02-28T13:36:45.564897Z",
     "shell.execute_reply.started": "2025-02-28T13:36:45.545726Z"
    }
   },
   "outputs": [],
   "source": [
    "sys.path.append('../../')\n",
    "import  DataSource\n",
    "zz500 = DataSource.get_zz500_codes() # 我看中证500的数据\n",
    "# 我这里查看第一个股票的吧\n",
    "N = 60 # 多少日的数据\n",
    "# 我这里仅仅是记录如下的列的涨跌幅度\n",
    "rate_columns = ['open', 'high', 'low', 'close']\n",
    "input_size = len(rate_columns)\n",
    "seq_len = N    # 多少个时间序列的股票\n",
    "output_size = 1 # 我只是输出一个今天的收盘价相比较昨日的涨跌比率\n",
    "num_layers = 10 # 多少个gru合并\n",
    "hidden_size = 20 # 隐藏层的宽度\n",
    "batch_size = 16 # 一个批次有多少个数据\n",
    "lr = 0.01"
   ]
  },
  {
   "cell_type": "code",
   "execution_count": 5,
   "id": "cbc7435a-50e9-4864-9f0f-21578f0a4afb",
   "metadata": {
    "execution": {
     "iopub.execute_input": "2025-02-28T13:37:13.298712Z",
     "iopub.status.busy": "2025-02-28T13:37:13.296714Z",
     "iopub.status.idle": "2025-02-28T13:37:13.321807Z",
     "shell.execute_reply": "2025-02-28T13:37:13.319787Z",
     "shell.execute_reply.started": "2025-02-28T13:37:13.298712Z"
    }
   },
   "outputs": [],
   "source": [
    "def get_data(code_name, N=N, rate_columns=rate_columns, batch_size=hidden_size):\n",
    "    dt = DataSource.get_data(code_name)\n",
    "    dt_list = []\n",
    "    for j in range(N+1):\n",
    "        # N+1表示要多一天，比如前面30天，我要看看第31天的收盘价相对于第一天的收盘价是什么比例\n",
    "        for i in rate_columns:\n",
    "            dt_tmp = pd.DataFrame({f'{i}_rate_{j}':(dt[f'{i}'].shift(-j) - dt[f'preclose'])/dt[f'preclose']})\n",
    "            dt_list.append(dt_tmp)\n",
    "    \n",
    "    dt2 = pd.concat(dt_list[:-(len(rate_columns))], axis=1)\n",
    "    # x\n",
    "    x_price = dt2.to_numpy()\n",
    "    x_price = x_price[:-(N+1)]\n",
    "    # 更改维度\n",
    "    x_shape_old = x_price.shape\n",
    "    x_shape_new_1 = x_shape_old[0]\n",
    "    x_shape_new_3 = len(rate_columns)\n",
    "    x_shape_new_2 = int(x_shape_old[1] / x_shape_new_3)\n",
    "    x_price = x_price.reshape((x_shape_new_1, x_shape_new_2, x_shape_new_3))\n",
    "    # y\n",
    "    y_close = dt_list[-(len(rate_columns)- rate_columns.index('close'))][f'close_rate_{N}'].to_numpy()[:-(N+1)]\n",
    "    # 然后是批次的整数倍\n",
    "    _x_y_len = int(x_price.shape[0]/batch_size) * batch_size\n",
    "    #\n",
    "    x_price = x_price[-_x_y_len:]\n",
    "    y_close = y_close[-_x_y_len:]\n",
    "    x_price = x_price.reshape(x_price.shape[0]//batch_size, batch_size, x_price.shape[1], x_price.shape[2])\n",
    "    y_close = y_close.reshape(y_close.shape[0]//batch_size, batch_size, 1)\n",
    "    return x_price, y_close\n",
    "\n"
   ]
  },
  {
   "cell_type": "code",
   "execution_count": 10,
   "id": "98617e1f-1d6a-4212-991a-7f34eb2ff432",
   "metadata": {
    "execution": {
     "iopub.execute_input": "2025-02-28T13:44:32.430662Z",
     "iopub.status.busy": "2025-02-28T13:44:32.429660Z",
     "iopub.status.idle": "2025-02-28T13:49:28.242971Z",
     "shell.execute_reply": "2025-02-28T13:49:28.239959Z",
     "shell.execute_reply.started": "2025-02-28T13:44:32.430662Z"
    }
   },
   "outputs": [],
   "source": [
    "lst_x = []\n",
    "lst_y = []\n",
    "for code_name in zz500:\n",
    "    _x, _y = get_data(code_name)\n",
    "    lst_x.append(_x)\n",
    "    lst_y.append(_y)"
   ]
  },
  {
   "cell_type": "code",
   "execution_count": 11,
   "id": "2e152c39-8c2c-4274-8303-7d02e23e772b",
   "metadata": {
    "execution": {
     "iopub.execute_input": "2025-02-28T13:49:28.252974Z",
     "iopub.status.busy": "2025-02-28T13:49:28.250973Z",
     "iopub.status.idle": "2025-02-28T13:49:28.337013Z",
     "shell.execute_reply": "2025-02-28T13:49:28.332993Z",
     "shell.execute_reply.started": "2025-02-28T13:49:28.252974Z"
    }
   },
   "outputs": [
    {
     "data": {
      "text/plain": [
       "500"
      ]
     },
     "execution_count": 11,
     "metadata": {},
     "output_type": "execute_result"
    }
   ],
   "source": [
    "len(lst_x)"
   ]
  },
  {
   "cell_type": "code",
   "execution_count": 12,
   "id": "9c9f9141-2e8d-495d-a6a0-1ab48c3cc671",
   "metadata": {
    "execution": {
     "iopub.execute_input": "2025-02-28T13:49:28.343013Z",
     "iopub.status.busy": "2025-02-28T13:49:28.339012Z",
     "iopub.status.idle": "2025-02-28T13:49:28.363230Z",
     "shell.execute_reply": "2025-02-28T13:49:28.361209Z",
     "shell.execute_reply.started": "2025-02-28T13:49:28.342014Z"
    }
   },
   "outputs": [
    {
     "data": {
      "text/plain": [
       "500"
      ]
     },
     "execution_count": 12,
     "metadata": {},
     "output_type": "execute_result"
    }
   ],
   "source": [
    "len(lst_y)"
   ]
  },
  {
   "cell_type": "code",
   "execution_count": 13,
   "id": "a2803923-8786-469f-a3f2-27598cc7c869",
   "metadata": {
    "execution": {
     "iopub.execute_input": "2025-02-28T13:49:28.376230Z",
     "iopub.status.busy": "2025-02-28T13:49:28.374227Z",
     "iopub.status.idle": "2025-02-28T13:49:28.628603Z",
     "shell.execute_reply": "2025-02-28T13:49:28.621586Z",
     "shell.execute_reply.started": "2025-02-28T13:49:28.376230Z"
    }
   },
   "outputs": [
    {
     "ename": "MemoryError",
     "evalue": "Unable to allocate 2.41 GiB for an array with shape (67421, 20, 60, 4) and data type float64",
     "output_type": "error",
     "traceback": [
      "\u001b[1;31m---------------------------------------------------------------------------\u001b[0m",
      "\u001b[1;31mMemoryError\u001b[0m                               Traceback (most recent call last)",
      "Cell \u001b[1;32mIn[13], line 2\u001b[0m\n\u001b[0;32m      1\u001b[0m \u001b[38;5;66;03m# 这里将数据拼接\u001b[39;00m\n\u001b[1;32m----> 2\u001b[0m x_price \u001b[38;5;241m=\u001b[39m \u001b[43mnp\u001b[49m\u001b[38;5;241;43m.\u001b[39;49m\u001b[43mvstack\u001b[49m\u001b[43m(\u001b[49m\u001b[43mlst_x\u001b[49m\u001b[43m)\u001b[49m\n\u001b[0;32m      3\u001b[0m y_close \u001b[38;5;241m=\u001b[39m np\u001b[38;5;241m.\u001b[39mvstack(lst_y)\n",
      "File \u001b[1;32m~\\AppData\\Local\\Programs\\Python\\Python311\\Lib\\site-packages\\numpy\\core\\shape_base.py:289\u001b[0m, in \u001b[0;36mvstack\u001b[1;34m(tup, dtype, casting)\u001b[0m\n\u001b[0;32m    287\u001b[0m \u001b[38;5;28;01mif\u001b[39;00m \u001b[38;5;129;01mnot\u001b[39;00m \u001b[38;5;28misinstance\u001b[39m(arrs, \u001b[38;5;28mlist\u001b[39m):\n\u001b[0;32m    288\u001b[0m     arrs \u001b[38;5;241m=\u001b[39m [arrs]\n\u001b[1;32m--> 289\u001b[0m \u001b[38;5;28;01mreturn\u001b[39;00m \u001b[43m_nx\u001b[49m\u001b[38;5;241;43m.\u001b[39;49m\u001b[43mconcatenate\u001b[49m\u001b[43m(\u001b[49m\u001b[43marrs\u001b[49m\u001b[43m,\u001b[49m\u001b[43m \u001b[49m\u001b[38;5;241;43m0\u001b[39;49m\u001b[43m,\u001b[49m\u001b[43m \u001b[49m\u001b[43mdtype\u001b[49m\u001b[38;5;241;43m=\u001b[39;49m\u001b[43mdtype\u001b[49m\u001b[43m,\u001b[49m\u001b[43m \u001b[49m\u001b[43mcasting\u001b[49m\u001b[38;5;241;43m=\u001b[39;49m\u001b[43mcasting\u001b[49m\u001b[43m)\u001b[49m\n",
      "\u001b[1;31mMemoryError\u001b[0m: Unable to allocate 2.41 GiB for an array with shape (67421, 20, 60, 4) and data type float64"
     ]
    }
   ],
   "source": [
    "# 这里将数据拼接\n",
    "x_price = np.vstack(lst_x)\n",
    "y_close = np.vstack(lst_y)"
   ]
  },
  {
   "cell_type": "code",
   "execution_count": null,
   "id": "1b9eec6e-0027-4c6e-9fa7-31d576569dda",
   "metadata": {
    "execution": {
     "iopub.status.busy": "2025-02-28T13:49:28.634604Z",
     "iopub.status.idle": "2025-02-28T13:49:28.640607Z",
     "shell.execute_reply": "2025-02-28T13:49:28.639604Z",
     "shell.execute_reply.started": "2025-02-28T13:49:28.639604Z"
    }
   },
   "outputs": [],
   "source": [
    "# 构造加载器\n",
    "train_rate = 0.9\n",
    "dataset = Data.TensorDataset(torch.FloatTensor(x_price), torch.FloatTensor(y_close))\n",
    "train_loader, test_loader = Data.random_split(dataset,\n",
    "                                                 lengths=[int(train_rate*len(dataset)), len(dataset)- int(train_rate*len(dataset))],\n",
    "                                                 generator=torch.Generator().manual_seed(0))\n"
   ]
  },
  {
   "cell_type": "code",
   "execution_count": null,
   "id": "0234b0d5-498b-43bb-8c98-be2bba469ca9",
   "metadata": {
    "execution": {
     "iopub.status.busy": "2025-02-28T13:49:28.751610Z",
     "iopub.status.idle": "2025-02-28T13:49:28.761606Z",
     "shell.execute_reply": "2025-02-28T13:49:28.760610Z",
     "shell.execute_reply.started": "2025-02-28T13:49:28.760610Z"
    }
   },
   "outputs": [],
   "source": [
    "# 这里做一个网络\n",
    "import torch.nn as nn\n",
    "class GRUModel(nn.Module):\n",
    "    def __init__(self, input_size, hidden_size, num_layers, output_size):\n",
    "        super(GRUModel, self).__init__()\n",
    "        self.gru = nn.GRU(input_size, hidden_size, num_layers, batch_first=True)\n",
    "        self.fc = nn.Linear(hidden_size, output_size)\n",
    "    def forward(self, x):\n",
    "        out, _ = self.gru(x) # gru层\n",
    "        out = self.fc(out[:,-1, :]) # 全连接层\n",
    "        return out"
   ]
  },
  {
   "cell_type": "code",
   "execution_count": null,
   "id": "35832d46-1f70-4af0-94fa-143f8c2646d5",
   "metadata": {
    "execution": {
     "iopub.status.busy": "2025-02-28T13:49:28.870604Z",
     "iopub.status.idle": "2025-02-28T13:49:28.872604Z",
     "shell.execute_reply": "2025-02-28T13:49:28.871604Z",
     "shell.execute_reply.started": "2025-02-28T13:49:28.871604Z"
    }
   },
   "outputs": [],
   "source": [
    "# 训练\n",
    "device = torch.device(\"cuda:0\" if torch.cuda.is_available() else \"cpu\")\n",
    "net = GRUModel(input_size, hidden_size, num_layers, output_size).to(device)\n",
    "criterion = torch.nn.MSELoss() # 均方差误差函数\n",
    "optimizer = optim.Adam(net.parameters(), lr=0.001)"
   ]
  },
  {
   "cell_type": "code",
   "execution_count": null,
   "id": "df8052f7-8055-46d1-8af1-370afeca3711",
   "metadata": {
    "execution": {
     "iopub.status.busy": "2025-02-28T13:49:29.657781Z",
     "iopub.status.idle": "2025-02-28T13:49:29.658780Z",
     "shell.execute_reply": "2025-02-28T13:49:29.658780Z",
     "shell.execute_reply.started": "2025-02-28T13:49:29.658780Z"
    }
   },
   "outputs": [],
   "source": [
    "for epoch in range(10):  # 迭代一次\n",
    "    running_loss = 0.0\n",
    "    running_loss_2 = []\n",
    "    for i, data in enumerate(train_loader, 0):\n",
    "        # 获取输入\n",
    "        inputs, labels = data\n",
    "        inputs = inputs.to(device)\n",
    "        labels = labels.to(device)\n",
    "        # 梯度置 0\n",
    "        optimizer.zero_grad()\n",
    "        # 正向传播，反向传播，优化\n",
    "        outputs = net(inputs)\n",
    "        loss = criterion(outputs, labels)\n",
    "        loss.backward()\n",
    "        optimizer.step()\n",
    "        # 打印状态信息\n",
    "        # running_loss += loss.item()\n",
    "        running_loss_2.append(loss.item())\n",
    "        if i % 200 == 199:    # 每 200 批次打印一次\n",
    "            print(f'[{epoch + 1}, {i + 1}]: loss : max:{max(running_loss_2):.5f}, min:{min(running_loss_2):.5f}, avg:{sum(running_loss_2)/len(running_loss_2):.5f}')\n",
    "            running_loss_2 = []"
   ]
  },
  {
   "cell_type": "code",
   "execution_count": null,
   "id": "4a74c759-a8b4-492e-845d-ec71f90fc0f5",
   "metadata": {
    "execution": {
     "iopub.status.busy": "2025-02-28T13:49:29.662778Z",
     "iopub.status.idle": "2025-02-28T13:49:29.663784Z",
     "shell.execute_reply": "2025-02-28T13:49:29.663784Z",
     "shell.execute_reply.started": "2025-02-28T13:49:29.663784Z"
    }
   },
   "outputs": [],
   "source": [
    "# 这里测试一下\n",
    "with torch.no_grad():\n",
    "    running_loss_2 = []\n",
    "    for i, data in enumerate(test_loader, 0):\n",
    "        # 获取输入\n",
    "        inputs, labels = data\n",
    "        inputs = inputs.to(device)\n",
    "        labels = labels.to(device)\n",
    "        # 正向传播，反向传播，优化\n",
    "        outputs = net(inputs)\n",
    "        loss = criterion(outputs, labels)\n",
    "        running_loss_2.append(loss.item())\n",
    "    # 每一次显示一下损失的最大值和最小值\n",
    "    print(f'loss: max: {max(running_loss_2)}, min:{min(running_loss_2)}, avg:{sum(running_loss_2)/len(running_loss_2)}')"
   ]
  },
  {
   "cell_type": "code",
   "execution_count": null,
   "id": "76d3c9bc-eaa1-451d-ac65-f34ea48f4f48",
   "metadata": {},
   "outputs": [],
   "source": []
  },
  {
   "cell_type": "code",
   "execution_count": null,
   "id": "7d10b131-80f9-4043-8333-ee13642d32a7",
   "metadata": {},
   "outputs": [],
   "source": []
  },
  {
   "cell_type": "code",
   "execution_count": 30,
   "id": "849ae295-b253-4b33-bec9-1d6a980c4bd5",
   "metadata": {
    "execution": {
     "iopub.execute_input": "2025-02-28T11:17:11.902810Z",
     "iopub.status.busy": "2025-02-28T11:17:11.900810Z",
     "iopub.status.idle": "2025-02-28T11:17:11.946641Z",
     "shell.execute_reply": "2025-02-28T11:17:11.943618Z",
     "shell.execute_reply.started": "2025-02-28T11:17:11.902810Z"
    }
   },
   "outputs": [
    {
     "data": {
      "text/html": [
       "<div>\n",
       "<style scoped>\n",
       "    .dataframe tbody tr th:only-of-type {\n",
       "        vertical-align: middle;\n",
       "    }\n",
       "\n",
       "    .dataframe tbody tr th {\n",
       "        vertical-align: top;\n",
       "    }\n",
       "\n",
       "    .dataframe thead th {\n",
       "        text-align: right;\n",
       "    }\n",
       "</style>\n",
       "<table border=\"1\" class=\"dataframe\">\n",
       "  <thead>\n",
       "    <tr style=\"text-align: right;\">\n",
       "      <th></th>\n",
       "      <th>code</th>\n",
       "      <th>open</th>\n",
       "      <th>high</th>\n",
       "      <th>low</th>\n",
       "      <th>close</th>\n",
       "      <th>preclose</th>\n",
       "      <th>volume</th>\n",
       "      <th>amount</th>\n",
       "      <th>adjustflag</th>\n",
       "      <th>turn</th>\n",
       "      <th>tradestatus</th>\n",
       "      <th>pctChg</th>\n",
       "      <th>isST</th>\n",
       "    </tr>\n",
       "    <tr>\n",
       "      <th>date</th>\n",
       "      <th></th>\n",
       "      <th></th>\n",
       "      <th></th>\n",
       "      <th></th>\n",
       "      <th></th>\n",
       "      <th></th>\n",
       "      <th></th>\n",
       "      <th></th>\n",
       "      <th></th>\n",
       "      <th></th>\n",
       "      <th></th>\n",
       "      <th></th>\n",
       "      <th></th>\n",
       "    </tr>\n",
       "  </thead>\n",
       "  <tbody>\n",
       "    <tr>\n",
       "      <th>2010-01-04</th>\n",
       "      <td>sh.600004</td>\n",
       "      <td>5.046509</td>\n",
       "      <td>5.111144</td>\n",
       "      <td>5.041537</td>\n",
       "      <td>5.046509</td>\n",
       "      <td>5.046509</td>\n",
       "      <td>15478854</td>\n",
       "      <td>157747809.0</td>\n",
       "      <td>2</td>\n",
       "      <td>1.525010</td>\n",
       "      <td>1</td>\n",
       "      <td>0.0000</td>\n",
       "      <td>0</td>\n",
       "    </tr>\n",
       "    <tr>\n",
       "      <th>2010-01-05</th>\n",
       "      <td>sh.600004</td>\n",
       "      <td>5.046509</td>\n",
       "      <td>5.091256</td>\n",
       "      <td>5.041537</td>\n",
       "      <td>5.066397</td>\n",
       "      <td>5.046509</td>\n",
       "      <td>11070922</td>\n",
       "      <td>112683563.0</td>\n",
       "      <td>2</td>\n",
       "      <td>1.090731</td>\n",
       "      <td>1</td>\n",
       "      <td>0.3941</td>\n",
       "      <td>0</td>\n",
       "    </tr>\n",
       "    <tr>\n",
       "      <th>2010-01-06</th>\n",
       "      <td>sh.600004</td>\n",
       "      <td>5.056453</td>\n",
       "      <td>5.066397</td>\n",
       "      <td>4.981874</td>\n",
       "      <td>4.991818</td>\n",
       "      <td>5.066397</td>\n",
       "      <td>9410665</td>\n",
       "      <td>95205863.0</td>\n",
       "      <td>2</td>\n",
       "      <td>0.927159</td>\n",
       "      <td>1</td>\n",
       "      <td>-1.4720</td>\n",
       "      <td>0</td>\n",
       "    </tr>\n",
       "    <tr>\n",
       "      <th>2010-01-07</th>\n",
       "      <td>sh.600004</td>\n",
       "      <td>4.971930</td>\n",
       "      <td>4.996790</td>\n",
       "      <td>4.827744</td>\n",
       "      <td>4.862548</td>\n",
       "      <td>4.991818</td>\n",
       "      <td>8961813</td>\n",
       "      <td>88611912.0</td>\n",
       "      <td>2</td>\n",
       "      <td>0.882937</td>\n",
       "      <td>1</td>\n",
       "      <td>-2.5896</td>\n",
       "      <td>0</td>\n",
       "    </tr>\n",
       "    <tr>\n",
       "      <th>2010-01-08</th>\n",
       "      <td>sh.600004</td>\n",
       "      <td>4.837688</td>\n",
       "      <td>5.096228</td>\n",
       "      <td>4.837688</td>\n",
       "      <td>5.061425</td>\n",
       "      <td>4.862548</td>\n",
       "      <td>14923812</td>\n",
       "      <td>149969456.0</td>\n",
       "      <td>2</td>\n",
       "      <td>1.470326</td>\n",
       "      <td>1</td>\n",
       "      <td>4.0900</td>\n",
       "      <td>0</td>\n",
       "    </tr>\n",
       "  </tbody>\n",
       "</table>\n",
       "</div>"
      ],
      "text/plain": [
       "                 code      open      high       low     close  preclose  \\\n",
       "date                                                                      \n",
       "2010-01-04  sh.600004  5.046509  5.111144  5.041537  5.046509  5.046509   \n",
       "2010-01-05  sh.600004  5.046509  5.091256  5.041537  5.066397  5.046509   \n",
       "2010-01-06  sh.600004  5.056453  5.066397  4.981874  4.991818  5.066397   \n",
       "2010-01-07  sh.600004  4.971930  4.996790  4.827744  4.862548  4.991818   \n",
       "2010-01-08  sh.600004  4.837688  5.096228  4.837688  5.061425  4.862548   \n",
       "\n",
       "              volume       amount  adjustflag      turn  tradestatus  pctChg  \\\n",
       "date                                                                           \n",
       "2010-01-04  15478854  157747809.0           2  1.525010            1  0.0000   \n",
       "2010-01-05  11070922  112683563.0           2  1.090731            1  0.3941   \n",
       "2010-01-06   9410665   95205863.0           2  0.927159            1 -1.4720   \n",
       "2010-01-07   8961813   88611912.0           2  0.882937            1 -2.5896   \n",
       "2010-01-08  14923812  149969456.0           2  1.470326            1  4.0900   \n",
       "\n",
       "            isST  \n",
       "date              \n",
       "2010-01-04     0  \n",
       "2010-01-05     0  \n",
       "2010-01-06     0  \n",
       "2010-01-07     0  \n",
       "2010-01-08     0  "
      ]
     },
     "execution_count": 30,
     "metadata": {},
     "output_type": "execute_result"
    }
   ],
   "source": [
    "dt.head()"
   ]
  },
  {
   "cell_type": "code",
   "execution_count": 71,
   "id": "728fdc01-b1b5-4f21-845f-f460579e4dab",
   "metadata": {
    "execution": {
     "iopub.execute_input": "2025-02-28T11:27:21.224941Z",
     "iopub.status.busy": "2025-02-28T11:27:21.223945Z",
     "iopub.status.idle": "2025-02-28T11:27:21.233617Z",
     "shell.execute_reply": "2025-02-28T11:27:21.232602Z",
     "shell.execute_reply.started": "2025-02-28T11:27:21.224941Z"
    }
   },
   "outputs": [],
   "source": [
    "N = 60 # 多少日的数据\n",
    "# 我这里仅仅是记录如下的列的涨跌幅度\n",
    "rate_columns = ['open', 'high', 'low', 'close']\n",
    "input_size = len(rate_columns)\n",
    "seq_len = N    # 多少个时间序列的股票\n",
    "output_size = 1 # 我只是输出一个今天的收盘价相比较昨日的涨跌比率\n",
    "num_layers = 10 # 多少个gru合并\n",
    "hidden_size = 20 # 隐藏层的宽度\n",
    "batch_size = 16 # 一个批次有多少个数据\n",
    "lr = 0.01\n",
    "# 这里先看看怎样快速的截取数据,然后还要归一化，"
   ]
  },
  {
   "cell_type": "code",
   "execution_count": 88,
   "id": "254378bf-44b6-405d-ba74-9f99a31c4c69",
   "metadata": {
    "execution": {
     "iopub.execute_input": "2025-02-28T11:42:29.490439Z",
     "iopub.status.busy": "2025-02-28T11:42:29.489439Z",
     "iopub.status.idle": "2025-02-28T11:42:29.898337Z",
     "shell.execute_reply": "2025-02-28T11:42:29.896319Z",
     "shell.execute_reply.started": "2025-02-28T11:42:29.490439Z"
    }
   },
   "outputs": [
    {
     "data": {
      "text/html": [
       "<div>\n",
       "<style scoped>\n",
       "    .dataframe tbody tr th:only-of-type {\n",
       "        vertical-align: middle;\n",
       "    }\n",
       "\n",
       "    .dataframe tbody tr th {\n",
       "        vertical-align: top;\n",
       "    }\n",
       "\n",
       "    .dataframe thead th {\n",
       "        text-align: right;\n",
       "    }\n",
       "</style>\n",
       "<table border=\"1\" class=\"dataframe\">\n",
       "  <thead>\n",
       "    <tr style=\"text-align: right;\">\n",
       "      <th></th>\n",
       "      <th>open_rate_0</th>\n",
       "      <th>high_rate_0</th>\n",
       "      <th>low_rate_0</th>\n",
       "      <th>close_rate_0</th>\n",
       "      <th>open_rate_1</th>\n",
       "      <th>high_rate_1</th>\n",
       "      <th>low_rate_1</th>\n",
       "      <th>close_rate_1</th>\n",
       "      <th>open_rate_2</th>\n",
       "      <th>high_rate_2</th>\n",
       "      <th>...</th>\n",
       "      <th>low_rate_57</th>\n",
       "      <th>close_rate_57</th>\n",
       "      <th>open_rate_58</th>\n",
       "      <th>high_rate_58</th>\n",
       "      <th>low_rate_58</th>\n",
       "      <th>close_rate_58</th>\n",
       "      <th>open_rate_59</th>\n",
       "      <th>high_rate_59</th>\n",
       "      <th>low_rate_59</th>\n",
       "      <th>close_rate_59</th>\n",
       "    </tr>\n",
       "    <tr>\n",
       "      <th>date</th>\n",
       "      <th></th>\n",
       "      <th></th>\n",
       "      <th></th>\n",
       "      <th></th>\n",
       "      <th></th>\n",
       "      <th></th>\n",
       "      <th></th>\n",
       "      <th></th>\n",
       "      <th></th>\n",
       "      <th></th>\n",
       "      <th></th>\n",
       "      <th></th>\n",
       "      <th></th>\n",
       "      <th></th>\n",
       "      <th></th>\n",
       "      <th></th>\n",
       "      <th></th>\n",
       "      <th></th>\n",
       "      <th></th>\n",
       "      <th></th>\n",
       "      <th></th>\n",
       "    </tr>\n",
       "  </thead>\n",
       "  <tbody>\n",
       "    <tr>\n",
       "      <th>2010-01-04</th>\n",
       "      <td>0.000000</td>\n",
       "      <td>0.012808</td>\n",
       "      <td>-0.000985</td>\n",
       "      <td>0.000000</td>\n",
       "      <td>0.000000</td>\n",
       "      <td>0.008867</td>\n",
       "      <td>-0.000985</td>\n",
       "      <td>0.003941</td>\n",
       "      <td>0.001970</td>\n",
       "      <td>0.003941</td>\n",
       "      <td>...</td>\n",
       "      <td>0.115271</td>\n",
       "      <td>0.121182</td>\n",
       "      <td>0.119212</td>\n",
       "      <td>0.135961</td>\n",
       "      <td>0.117241</td>\n",
       "      <td>0.134975</td>\n",
       "      <td>0.133005</td>\n",
       "      <td>0.151724</td>\n",
       "      <td>0.129064</td>\n",
       "      <td>0.150739</td>\n",
       "    </tr>\n",
       "    <tr>\n",
       "      <th>2010-01-05</th>\n",
       "      <td>0.000000</td>\n",
       "      <td>0.008867</td>\n",
       "      <td>-0.000985</td>\n",
       "      <td>0.003941</td>\n",
       "      <td>0.001970</td>\n",
       "      <td>0.003941</td>\n",
       "      <td>-0.012808</td>\n",
       "      <td>-0.010837</td>\n",
       "      <td>-0.014778</td>\n",
       "      <td>-0.009852</td>\n",
       "      <td>...</td>\n",
       "      <td>0.117241</td>\n",
       "      <td>0.134975</td>\n",
       "      <td>0.133005</td>\n",
       "      <td>0.151724</td>\n",
       "      <td>0.129064</td>\n",
       "      <td>0.150739</td>\n",
       "      <td>0.151724</td>\n",
       "      <td>0.158621</td>\n",
       "      <td>0.139901</td>\n",
       "      <td>0.157635</td>\n",
       "    </tr>\n",
       "    <tr>\n",
       "      <th>2010-01-06</th>\n",
       "      <td>-0.001963</td>\n",
       "      <td>0.000000</td>\n",
       "      <td>-0.016683</td>\n",
       "      <td>-0.014720</td>\n",
       "      <td>-0.018646</td>\n",
       "      <td>-0.013739</td>\n",
       "      <td>-0.047105</td>\n",
       "      <td>-0.040236</td>\n",
       "      <td>-0.045142</td>\n",
       "      <td>0.005888</td>\n",
       "      <td>...</td>\n",
       "      <td>0.124632</td>\n",
       "      <td>0.146222</td>\n",
       "      <td>0.147203</td>\n",
       "      <td>0.154073</td>\n",
       "      <td>0.135427</td>\n",
       "      <td>0.153091</td>\n",
       "      <td>0.151129</td>\n",
       "      <td>0.151129</td>\n",
       "      <td>0.132483</td>\n",
       "      <td>0.141315</td>\n",
       "    </tr>\n",
       "    <tr>\n",
       "      <th>2010-01-07</th>\n",
       "      <td>-0.003984</td>\n",
       "      <td>0.000996</td>\n",
       "      <td>-0.032869</td>\n",
       "      <td>-0.025896</td>\n",
       "      <td>-0.030876</td>\n",
       "      <td>0.020916</td>\n",
       "      <td>-0.030876</td>\n",
       "      <td>0.013944</td>\n",
       "      <td>0.021912</td>\n",
       "      <td>0.041833</td>\n",
       "      <td>...</td>\n",
       "      <td>0.152390</td>\n",
       "      <td>0.170319</td>\n",
       "      <td>0.168327</td>\n",
       "      <td>0.168327</td>\n",
       "      <td>0.149402</td>\n",
       "      <td>0.158367</td>\n",
       "      <td>0.157371</td>\n",
       "      <td>0.159363</td>\n",
       "      <td>0.137450</td>\n",
       "      <td>0.139442</td>\n",
       "    </tr>\n",
       "    <tr>\n",
       "      <th>2010-01-08</th>\n",
       "      <td>-0.005112</td>\n",
       "      <td>0.048057</td>\n",
       "      <td>-0.005112</td>\n",
       "      <td>0.040900</td>\n",
       "      <td>0.049080</td>\n",
       "      <td>0.069530</td>\n",
       "      <td>0.040900</td>\n",
       "      <td>0.062372</td>\n",
       "      <td>0.056237</td>\n",
       "      <td>0.070552</td>\n",
       "      <td>...</td>\n",
       "      <td>0.179959</td>\n",
       "      <td>0.189162</td>\n",
       "      <td>0.188139</td>\n",
       "      <td>0.190184</td>\n",
       "      <td>0.167689</td>\n",
       "      <td>0.169734</td>\n",
       "      <td>0.173824</td>\n",
       "      <td>0.188139</td>\n",
       "      <td>0.170757</td>\n",
       "      <td>0.186094</td>\n",
       "    </tr>\n",
       "  </tbody>\n",
       "</table>\n",
       "<p>5 rows × 240 columns</p>\n",
       "</div>"
      ],
      "text/plain": [
       "            open_rate_0  high_rate_0  low_rate_0  close_rate_0  open_rate_1  \\\n",
       "date                                                                          \n",
       "2010-01-04     0.000000     0.012808   -0.000985      0.000000     0.000000   \n",
       "2010-01-05     0.000000     0.008867   -0.000985      0.003941     0.001970   \n",
       "2010-01-06    -0.001963     0.000000   -0.016683     -0.014720    -0.018646   \n",
       "2010-01-07    -0.003984     0.000996   -0.032869     -0.025896    -0.030876   \n",
       "2010-01-08    -0.005112     0.048057   -0.005112      0.040900     0.049080   \n",
       "\n",
       "            high_rate_1  low_rate_1  close_rate_1  open_rate_2  high_rate_2  \\\n",
       "date                                                                          \n",
       "2010-01-04     0.008867   -0.000985      0.003941     0.001970     0.003941   \n",
       "2010-01-05     0.003941   -0.012808     -0.010837    -0.014778    -0.009852   \n",
       "2010-01-06    -0.013739   -0.047105     -0.040236    -0.045142     0.005888   \n",
       "2010-01-07     0.020916   -0.030876      0.013944     0.021912     0.041833   \n",
       "2010-01-08     0.069530    0.040900      0.062372     0.056237     0.070552   \n",
       "\n",
       "            ...  low_rate_57  close_rate_57  open_rate_58  high_rate_58  \\\n",
       "date        ...                                                           \n",
       "2010-01-04  ...     0.115271       0.121182      0.119212      0.135961   \n",
       "2010-01-05  ...     0.117241       0.134975      0.133005      0.151724   \n",
       "2010-01-06  ...     0.124632       0.146222      0.147203      0.154073   \n",
       "2010-01-07  ...     0.152390       0.170319      0.168327      0.168327   \n",
       "2010-01-08  ...     0.179959       0.189162      0.188139      0.190184   \n",
       "\n",
       "            low_rate_58  close_rate_58  open_rate_59  high_rate_59  \\\n",
       "date                                                                 \n",
       "2010-01-04     0.117241       0.134975      0.133005      0.151724   \n",
       "2010-01-05     0.129064       0.150739      0.151724      0.158621   \n",
       "2010-01-06     0.135427       0.153091      0.151129      0.151129   \n",
       "2010-01-07     0.149402       0.158367      0.157371      0.159363   \n",
       "2010-01-08     0.167689       0.169734      0.173824      0.188139   \n",
       "\n",
       "            low_rate_59  close_rate_59  \n",
       "date                                    \n",
       "2010-01-04     0.129064       0.150739  \n",
       "2010-01-05     0.139901       0.157635  \n",
       "2010-01-06     0.132483       0.141315  \n",
       "2010-01-07     0.137450       0.139442  \n",
       "2010-01-08     0.170757       0.186094  \n",
       "\n",
       "[5 rows x 240 columns]"
      ]
     },
     "execution_count": 88,
     "metadata": {},
     "output_type": "execute_result"
    }
   ],
   "source": [
    "# 这里只是看对于前日收盘价的比例，这里一次性搞出所有的列\n",
    "rate_columns_2 = []\n",
    "dt_list = []\n",
    "for j in range(N+1):\n",
    "    # N+1表示要多一天，比如前面30天，我要看看第31天的收盘价相对于第一天的收盘价是什么比例\n",
    "    for i in rate_columns:\n",
    "        dt_tmp = pd.DataFrame({f'{i}_rate_{j}':(dt[f'{i}'].shift(-j) - dt[f'preclose'])/dt[f'preclose']})\n",
    "        dt_list.append(dt_tmp)\n",
    "\n",
    "dt2 = pd.concat(dt_list[:-(len(rate_columns))], axis=1)\n",
    "dt2.head()"
   ]
  },
  {
   "cell_type": "code",
   "execution_count": 89,
   "id": "298cd47e-0d0c-4c6a-8325-811a982816ba",
   "metadata": {
    "execution": {
     "iopub.execute_input": "2025-02-28T11:42:36.354261Z",
     "iopub.status.busy": "2025-02-28T11:42:36.353265Z",
     "iopub.status.idle": "2025-02-28T11:42:36.366471Z",
     "shell.execute_reply": "2025-02-28T11:42:36.364453Z",
     "shell.execute_reply.started": "2025-02-28T11:42:36.354261Z"
    }
   },
   "outputs": [
    {
     "data": {
      "text/plain": [
       "Index(['open_rate_0', 'high_rate_0', 'low_rate_0', 'close_rate_0',\n",
       "       'open_rate_1', 'high_rate_1', 'low_rate_1', 'close_rate_1',\n",
       "       'open_rate_2', 'high_rate_2',\n",
       "       ...\n",
       "       'low_rate_57', 'close_rate_57', 'open_rate_58', 'high_rate_58',\n",
       "       'low_rate_58', 'close_rate_58', 'open_rate_59', 'high_rate_59',\n",
       "       'low_rate_59', 'close_rate_59'],\n",
       "      dtype='object', length=240)"
      ]
     },
     "execution_count": 89,
     "metadata": {},
     "output_type": "execute_result"
    }
   ],
   "source": [
    "dt2.columns"
   ]
  },
  {
   "cell_type": "code",
   "execution_count": 90,
   "id": "c01e817e-4c7a-4206-beeb-6391e8600757",
   "metadata": {
    "execution": {
     "iopub.execute_input": "2025-02-28T11:43:09.895379Z",
     "iopub.status.busy": "2025-02-28T11:43:09.894382Z",
     "iopub.status.idle": "2025-02-28T11:43:09.912013Z",
     "shell.execute_reply": "2025-02-28T11:43:09.910999Z",
     "shell.execute_reply.started": "2025-02-28T11:43:09.895379Z"
    }
   },
   "outputs": [],
   "source": [
    "# 这里转成numpy\n",
    "x_price = dt2.to_numpy()\n",
    "x_price = x_price[:-(N+1)]"
   ]
  },
  {
   "cell_type": "code",
   "execution_count": 92,
   "id": "5c12b906-8c54-4658-a6ad-0fe2d5f239a7",
   "metadata": {
    "execution": {
     "iopub.execute_input": "2025-02-28T11:45:03.233815Z",
     "iopub.status.busy": "2025-02-28T11:45:03.231816Z",
     "iopub.status.idle": "2025-02-28T11:45:03.248212Z",
     "shell.execute_reply": "2025-02-28T11:45:03.246190Z",
     "shell.execute_reply.started": "2025-02-28T11:45:03.232811Z"
    }
   },
   "outputs": [
    {
     "data": {
      "text/plain": [
       "array([ 0.        ,  0.01280788, -0.00098522,  0.        ,  0.        ,\n",
       "        0.008867  , -0.00098522,  0.00394089,  0.00197044,  0.00394089,\n",
       "       -0.01280788, -0.01083744, -0.01477833, -0.00985222, -0.04334975,\n",
       "       -0.0364532 , -0.04137931,  0.00985222, -0.04137931,  0.00295567,\n",
       "        0.01083744,  0.03054187,  0.00295567,  0.02364532,  0.01773399,\n",
       "        0.03152709,  0.00985222,  0.03054187,  0.01083744,  0.03448276,\n",
       "        0.00591133,  0.01576355,  0.01477833,  0.05714286,  0.01280788,\n",
       "        0.05221675,  0.05123153,  0.05714286,  0.03743842,  0.04433498,\n",
       "        0.04433498,  0.09162562,  0.03448276,  0.07980296,  0.07389163,\n",
       "        0.10344828,  0.06896552,  0.09359606,  0.0955665 ,  0.09950739,\n",
       "        0.0729064 ,  0.08275862,  0.10837438,  0.1182266 ,  0.06403941,\n",
       "        0.0679803 ,  0.07389163,  0.1408867 ,  0.06502463,  0.09162562,\n",
       "        0.09458128,  0.11133005,  0.04334975,  0.0453202 ,  0.0453202 ,\n",
       "        0.05714286,  0.00492611,  0.02364532,  0.02463054,  0.03349754,\n",
       "        0.00591133,  0.01280788,  0.01280788,  0.05714286,  0.00492611,\n",
       "        0.05517241,  0.04433498,  0.0729064 ,  0.03940887,  0.05517241,\n",
       "        0.05024631,  0.09458128,  0.02857143,  0.07881773,  0.07980296,\n",
       "        0.09261084,  0.05221675,  0.0591133 ,  0.06009852,  0.09852217,\n",
       "        0.02463054,  0.09753695,  0.09359606,  0.13990148,  0.08374384,\n",
       "        0.11527094,  0.09162562,  0.11133005,  0.06009852,  0.07881773,\n",
       "        0.07881773,  0.09655172,  0.06995074,  0.0729064 ,  0.07389163,\n",
       "        0.12019704,  0.06305419,  0.1044335 ,  0.11231527,  0.12118227,\n",
       "        0.10049261,  0.11330049,  0.11724138,  0.12315271,  0.08374384,\n",
       "        0.09064039,  0.09458128,  0.10246305,  0.07881773,  0.09852217,\n",
       "        0.09261084,  0.13891626,  0.08374384,  0.11724138,  0.1182266 ,\n",
       "        0.1320197 ,  0.09852217,  0.12807882,  0.12118227,  0.13694581,\n",
       "        0.11428571,  0.13596059,  0.13596059,  0.16059113,  0.13399015,\n",
       "        0.13990148,  0.14187192,  0.16748768,  0.12315271,  0.16059113,\n",
       "        0.16157635,  0.20985222,  0.15369458,  0.19605911,  0.19507389,\n",
       "        0.2       ,  0.16945813,  0.18226601,  0.18226601,  0.21773399,\n",
       "        0.17536946,  0.2       ,  0.21280788,  0.21280788,  0.15270936,\n",
       "        0.1635468 ,  0.17044335,  0.18226601,  0.15073892,  0.17142857,\n",
       "        0.17635468,  0.20098522,  0.16847291,  0.1773399 ,  0.17536946,\n",
       "        0.17635468,  0.14679803,  0.15270936,  0.15270936,  0.16059113,\n",
       "        0.13399015,  0.14876847,  0.14778325,  0.15960591,  0.13793103,\n",
       "        0.14187192,  0.14876847,  0.15270936,  0.1182266 ,  0.12019704,\n",
       "        0.12216749,  0.1408867 ,  0.12118227,  0.13004926,  0.13300493,\n",
       "        0.1546798 ,  0.13004926,  0.14679803,  0.1546798 ,  0.17044335,\n",
       "        0.15172414,  0.16650246,  0.17044335,  0.17142857,  0.15369458,\n",
       "        0.16059113,  0.15960591,  0.16945813,  0.15566502,  0.16650246,\n",
       "        0.17241379,  0.18226601,  0.15073892,  0.16059113,  0.15862069,\n",
       "        0.16256158,  0.1408867 ,  0.15073892,  0.15073892,  0.16059113,\n",
       "        0.14285714,  0.14482759,  0.13793103,  0.1408867 ,  0.1044335 ,\n",
       "        0.10837438,  0.10541872,  0.13596059,  0.10541872,  0.1270936 ,\n",
       "        0.13300493,  0.14778325,  0.12807882,  0.14482759,  0.14285714,\n",
       "        0.14285714,  0.12807882,  0.13596059,  0.13300493,  0.13300493,\n",
       "        0.11527094,  0.12118227,  0.11921182,  0.13596059,  0.11724138,\n",
       "        0.13497537,  0.13300493,  0.15172414,  0.12906404,  0.15073892])"
      ]
     },
     "execution_count": 92,
     "metadata": {},
     "output_type": "execute_result"
    }
   ],
   "source": [
    "x_price[0]"
   ]
  },
  {
   "cell_type": "code",
   "execution_count": 93,
   "id": "82d0d2c0-52b4-4960-a028-01c902de3594",
   "metadata": {
    "execution": {
     "iopub.execute_input": "2025-02-28T11:45:04.739023Z",
     "iopub.status.busy": "2025-02-28T11:45:04.738016Z",
     "iopub.status.idle": "2025-02-28T11:45:04.745215Z",
     "shell.execute_reply": "2025-02-28T11:45:04.743195Z",
     "shell.execute_reply.started": "2025-02-28T11:45:04.739023Z"
    }
   },
   "outputs": [],
   "source": [
    "# 然后进行水平拼接"
   ]
  },
  {
   "cell_type": "code",
   "execution_count": 94,
   "id": "fd92a76d-b30c-4b5f-8138-1d2e126aa881",
   "metadata": {
    "execution": {
     "iopub.execute_input": "2025-02-28T11:45:05.596792Z",
     "iopub.status.busy": "2025-02-28T11:45:05.595768Z",
     "iopub.status.idle": "2025-02-28T11:45:05.607915Z",
     "shell.execute_reply": "2025-02-28T11:45:05.605896Z",
     "shell.execute_reply.started": "2025-02-28T11:45:05.596792Z"
    }
   },
   "outputs": [
    {
     "data": {
      "text/plain": [
       "(3602, 240)"
      ]
     },
     "execution_count": 94,
     "metadata": {},
     "output_type": "execute_result"
    }
   ],
   "source": [
    "x_price.shape"
   ]
  },
  {
   "cell_type": "code",
   "execution_count": 95,
   "id": "c4a17d00-134c-470e-8e45-4f03503a63d2",
   "metadata": {
    "execution": {
     "iopub.execute_input": "2025-02-28T11:45:06.805337Z",
     "iopub.status.busy": "2025-02-28T11:45:06.804342Z",
     "iopub.status.idle": "2025-02-28T11:45:06.818620Z",
     "shell.execute_reply": "2025-02-28T11:45:06.817601Z",
     "shell.execute_reply.started": "2025-02-28T11:45:06.805337Z"
    }
   },
   "outputs": [
    {
     "data": {
      "text/plain": [
       "(3602, 60, 4)"
      ]
     },
     "execution_count": 95,
     "metadata": {},
     "output_type": "execute_result"
    }
   ],
   "source": [
    "# 这里需要更改维度\n",
    "x_shape_old = x_price.shape\n",
    "x_shape_new_1 = x_shape_old[0]\n",
    "x_shape_new_3 = len(rate_columns)\n",
    "x_shape_new_2 = int(x_shape_old[1] / x_shape_new_3)\n",
    "x_price = x_price.reshape((x_shape_new_1, x_shape_new_2, x_shape_new_3))\n",
    "x_price.shape"
   ]
  },
  {
   "cell_type": "code",
   "execution_count": 96,
   "id": "a794b0c8-15f8-47df-b8ca-13769f85bd4b",
   "metadata": {
    "execution": {
     "iopub.execute_input": "2025-02-28T11:45:17.198066Z",
     "iopub.status.busy": "2025-02-28T11:45:17.197054Z",
     "iopub.status.idle": "2025-02-28T11:45:17.215411Z",
     "shell.execute_reply": "2025-02-28T11:45:17.213391Z",
     "shell.execute_reply.started": "2025-02-28T11:45:17.198066Z"
    }
   },
   "outputs": [
    {
     "data": {
      "text/html": [
       "<div>\n",
       "<style scoped>\n",
       "    .dataframe tbody tr th:only-of-type {\n",
       "        vertical-align: middle;\n",
       "    }\n",
       "\n",
       "    .dataframe tbody tr th {\n",
       "        vertical-align: top;\n",
       "    }\n",
       "\n",
       "    .dataframe thead th {\n",
       "        text-align: right;\n",
       "    }\n",
       "</style>\n",
       "<table border=\"1\" class=\"dataframe\">\n",
       "  <thead>\n",
       "    <tr style=\"text-align: right;\">\n",
       "      <th></th>\n",
       "      <th>close_rate_60</th>\n",
       "    </tr>\n",
       "    <tr>\n",
       "      <th>date</th>\n",
       "      <th></th>\n",
       "    </tr>\n",
       "  </thead>\n",
       "  <tbody>\n",
       "    <tr>\n",
       "      <th>2010-01-04</th>\n",
       "      <td>0.157635</td>\n",
       "    </tr>\n",
       "    <tr>\n",
       "      <th>2010-01-05</th>\n",
       "      <td>0.145813</td>\n",
       "    </tr>\n",
       "    <tr>\n",
       "      <th>2010-01-06</th>\n",
       "      <td>0.122669</td>\n",
       "    </tr>\n",
       "    <tr>\n",
       "      <th>2010-01-07</th>\n",
       "      <td>0.155378</td>\n",
       "    </tr>\n",
       "    <tr>\n",
       "      <th>2010-01-08</th>\n",
       "      <td>0.218814</td>\n",
       "    </tr>\n",
       "  </tbody>\n",
       "</table>\n",
       "</div>"
      ],
      "text/plain": [
       "            close_rate_60\n",
       "date                     \n",
       "2010-01-04       0.157635\n",
       "2010-01-05       0.145813\n",
       "2010-01-06       0.122669\n",
       "2010-01-07       0.155378\n",
       "2010-01-08       0.218814"
      ]
     },
     "execution_count": 96,
     "metadata": {},
     "output_type": "execute_result"
    }
   ],
   "source": [
    "dt_list[-(len(rate_columns)- rate_columns.index('close'))].head()"
   ]
  },
  {
   "cell_type": "code",
   "execution_count": 97,
   "id": "fdf0d69c-8ded-4bdc-b87d-bd516b2cfb45",
   "metadata": {
    "execution": {
     "iopub.execute_input": "2025-02-28T11:45:24.090212Z",
     "iopub.status.busy": "2025-02-28T11:45:24.090212Z",
     "iopub.status.idle": "2025-02-28T11:45:24.112370Z",
     "shell.execute_reply": "2025-02-28T11:45:24.110345Z",
     "shell.execute_reply.started": "2025-02-28T11:45:24.090212Z"
    }
   },
   "outputs": [
    {
     "data": {
      "text/html": [
       "<div>\n",
       "<style scoped>\n",
       "    .dataframe tbody tr th:only-of-type {\n",
       "        vertical-align: middle;\n",
       "    }\n",
       "\n",
       "    .dataframe tbody tr th {\n",
       "        vertical-align: top;\n",
       "    }\n",
       "\n",
       "    .dataframe thead th {\n",
       "        text-align: right;\n",
       "    }\n",
       "</style>\n",
       "<table border=\"1\" class=\"dataframe\">\n",
       "  <thead>\n",
       "    <tr style=\"text-align: right;\">\n",
       "      <th></th>\n",
       "      <th>close_rate_60</th>\n",
       "    </tr>\n",
       "    <tr>\n",
       "      <th>date</th>\n",
       "      <th></th>\n",
       "    </tr>\n",
       "  </thead>\n",
       "  <tbody>\n",
       "    <tr>\n",
       "      <th>2010-01-04</th>\n",
       "      <td>0.157635</td>\n",
       "    </tr>\n",
       "    <tr>\n",
       "      <th>2010-01-05</th>\n",
       "      <td>0.145813</td>\n",
       "    </tr>\n",
       "    <tr>\n",
       "      <th>2010-01-06</th>\n",
       "      <td>0.122669</td>\n",
       "    </tr>\n",
       "    <tr>\n",
       "      <th>2010-01-07</th>\n",
       "      <td>0.155378</td>\n",
       "    </tr>\n",
       "    <tr>\n",
       "      <th>2010-01-08</th>\n",
       "      <td>0.218814</td>\n",
       "    </tr>\n",
       "    <tr>\n",
       "      <th>...</th>\n",
       "      <td>...</td>\n",
       "    </tr>\n",
       "    <tr>\n",
       "      <th>2024-10-29</th>\n",
       "      <td>-0.041026</td>\n",
       "    </tr>\n",
       "    <tr>\n",
       "      <th>2024-10-30</th>\n",
       "      <td>-0.025907</td>\n",
       "    </tr>\n",
       "    <tr>\n",
       "      <th>2024-10-31</th>\n",
       "      <td>-0.035015</td>\n",
       "    </tr>\n",
       "    <tr>\n",
       "      <th>2024-11-01</th>\n",
       "      <td>-0.030992</td>\n",
       "    </tr>\n",
       "    <tr>\n",
       "      <th>2024-11-04</th>\n",
       "      <td>-0.041451</td>\n",
       "    </tr>\n",
       "  </tbody>\n",
       "</table>\n",
       "<p>3602 rows × 1 columns</p>\n",
       "</div>"
      ],
      "text/plain": [
       "            close_rate_60\n",
       "date                     \n",
       "2010-01-04       0.157635\n",
       "2010-01-05       0.145813\n",
       "2010-01-06       0.122669\n",
       "2010-01-07       0.155378\n",
       "2010-01-08       0.218814\n",
       "...                   ...\n",
       "2024-10-29      -0.041026\n",
       "2024-10-30      -0.025907\n",
       "2024-10-31      -0.035015\n",
       "2024-11-01      -0.030992\n",
       "2024-11-04      -0.041451\n",
       "\n",
       "[3602 rows x 1 columns]"
      ]
     },
     "execution_count": 97,
     "metadata": {},
     "output_type": "execute_result"
    }
   ],
   "source": [
    "dt_list[-(len(rate_columns)- rate_columns.index('close'))].iloc[:-(N+1)]"
   ]
  },
  {
   "cell_type": "code",
   "execution_count": 99,
   "id": "ab11533d-b271-48f4-99c1-efcdda1430fb",
   "metadata": {
    "execution": {
     "iopub.execute_input": "2025-02-28T11:47:17.426129Z",
     "iopub.status.busy": "2025-02-28T11:47:17.426129Z",
     "iopub.status.idle": "2025-02-28T11:47:17.438213Z",
     "shell.execute_reply": "2025-02-28T11:47:17.437191Z",
     "shell.execute_reply.started": "2025-02-28T11:47:17.426129Z"
    }
   },
   "outputs": [
    {
     "data": {
      "text/plain": [
       "(3602,)"
      ]
     },
     "execution_count": 99,
     "metadata": {},
     "output_type": "execute_result"
    }
   ],
   "source": [
    "y_close = dt_list[-(len(rate_columns)- rate_columns.index('close'))][f'close_rate_{N}'].to_numpy()[:-(N+1)]\n",
    "y_close.shape"
   ]
  },
  {
   "cell_type": "code",
   "execution_count": 100,
   "id": "87f7f489-23e0-404a-ac00-b2b466d9ccbd",
   "metadata": {
    "execution": {
     "iopub.execute_input": "2025-02-28T11:47:18.405585Z",
     "iopub.status.busy": "2025-02-28T11:47:18.405585Z",
     "iopub.status.idle": "2025-02-28T11:47:18.416474Z",
     "shell.execute_reply": "2025-02-28T11:47:18.414451Z",
     "shell.execute_reply.started": "2025-02-28T11:47:18.405585Z"
    }
   },
   "outputs": [
    {
     "data": {
      "text/plain": [
       "0.15763546798029565"
      ]
     },
     "execution_count": 100,
     "metadata": {},
     "output_type": "execute_result"
    }
   ],
   "source": [
    "y_close[0]"
   ]
  },
  {
   "cell_type": "code",
   "execution_count": 101,
   "id": "fabcff34-c5d4-4230-9263-d9166d7b13c7",
   "metadata": {
    "execution": {
     "iopub.execute_input": "2025-02-28T11:47:20.787916Z",
     "iopub.status.busy": "2025-02-28T11:47:20.787916Z",
     "iopub.status.idle": "2025-02-28T11:47:20.800247Z",
     "shell.execute_reply": "2025-02-28T11:47:20.798227Z",
     "shell.execute_reply.started": "2025-02-28T11:47:20.787916Z"
    }
   },
   "outputs": [
    {
     "name": "stdout",
     "output_type": "stream",
     "text": [
      "(225, 16, 60, 4)\n",
      "(225, 16, 1)\n"
     ]
    }
   ],
   "source": [
    "# 裁剪，成整数批次\n",
    "_x_y_len = int(x_price.shape[0]/batch_size) * batch_size\n",
    "\n",
    "x_price = x_price[-_x_y_len:]\n",
    "y_close = y_close[-_x_y_len:]\n",
    "x_price = x_price.reshape(x_price.shape[0]//batch_size, batch_size, x_price.shape[1], x_price.shape[2])\n",
    "y_close = y_close.reshape(y_close.shape[0]//batch_size, batch_size, 1)\n",
    "print(x_price.shape)\n",
    "print(y_close.shape)"
   ]
  },
  {
   "cell_type": "code",
   "execution_count": null,
   "id": "e46b107d-50d7-4efa-b5fe-679f422d389b",
   "metadata": {},
   "outputs": [],
   "source": []
  },
  {
   "cell_type": "code",
   "execution_count": 102,
   "id": "735b902a-73c2-4ddd-bba7-d332f8f61c82",
   "metadata": {
    "execution": {
     "iopub.execute_input": "2025-02-28T11:47:30.627814Z",
     "iopub.status.busy": "2025-02-28T11:47:30.626841Z",
     "iopub.status.idle": "2025-02-28T11:47:30.645358Z",
     "shell.execute_reply": "2025-02-28T11:47:30.644342Z",
     "shell.execute_reply.started": "2025-02-28T11:47:30.627814Z"
    }
   },
   "outputs": [],
   "source": [
    "# 这里要区分训练集和测试集\n",
    "\n",
    "\n",
    "\n",
    "dataset = Data.TensorDataset(torch.FloatTensor(x_price), torch.FloatTensor(y_close))\n",
    "batch_size = 16\n",
    "train_loader, test_loader = Data.random_split(dataset,\n",
    "                                             lengths=[int(0.9*len(dataset)), len(dataset)- int(0.9*len(dataset))],\n",
    "                                             generator=torch.Generator().manual_seed(0))"
   ]
  },
  {
   "cell_type": "code",
   "execution_count": null,
   "id": "b10ce0a9-4c4d-448f-b414-cd3a38da67c5",
   "metadata": {},
   "outputs": [],
   "source": []
  },
  {
   "cell_type": "code",
   "execution_count": null,
   "id": "acbb253d-5136-4acb-ba5c-5b8deafa02bc",
   "metadata": {},
   "outputs": [],
   "source": []
  },
  {
   "cell_type": "markdown",
   "id": "585a6357-a1e6-421a-a398-26ca98ae4771",
   "metadata": {},
   "source": [
    "# 神经网络"
   ]
  },
  {
   "cell_type": "code",
   "execution_count": 103,
   "id": "b001004c-682f-4abb-b125-6b84c8000e09",
   "metadata": {
    "execution": {
     "iopub.execute_input": "2025-02-28T11:47:32.506441Z",
     "iopub.status.busy": "2025-02-28T11:47:32.505453Z",
     "iopub.status.idle": "2025-02-28T11:47:32.520100Z",
     "shell.execute_reply": "2025-02-28T11:47:32.518083Z",
     "shell.execute_reply.started": "2025-02-28T11:47:32.506441Z"
    }
   },
   "outputs": [],
   "source": [
    "# 这里做一个网络\n",
    "import torch.nn as nn\n",
    "class GRUModel(nn.Module):\n",
    "    def __init__(self, input_size, hidden_size, num_layers, output_size):\n",
    "        super(GRUModel, self).__init__()\n",
    "        self.gru = nn.GRU(input_size, hidden_size, num_layers, batch_first=True)\n",
    "        self.fc = nn.Linear(hidden_size, output_size)\n",
    "    def forward(self, x):\n",
    "        out, _ = self.gru(x) # gru层\n",
    "        out = self.fc(out[:,-1, :]) # 全连接层\n",
    "        return out"
   ]
  },
  {
   "cell_type": "markdown",
   "id": "a6b2e2f6-9f54-4a00-820c-6f54a052ca7a",
   "metadata": {},
   "source": [
    "# 训练"
   ]
  },
  {
   "cell_type": "code",
   "execution_count": null,
   "id": "5fcdcb38-045c-4981-932f-06754c388a6e",
   "metadata": {},
   "outputs": [],
   "source": []
  },
  {
   "cell_type": "code",
   "execution_count": 104,
   "id": "e349a268-0a33-4d2a-a785-8a84f991e8e1",
   "metadata": {
    "execution": {
     "iopub.execute_input": "2025-02-28T11:47:33.946805Z",
     "iopub.status.busy": "2025-02-28T11:47:33.945809Z",
     "iopub.status.idle": "2025-02-28T11:47:34.082815Z",
     "shell.execute_reply": "2025-02-28T11:47:34.080798Z",
     "shell.execute_reply.started": "2025-02-28T11:47:33.946805Z"
    }
   },
   "outputs": [],
   "source": [
    "device = torch.device(\"cuda:0\" if torch.cuda.is_available() else \"cpu\")\n",
    "net = GRUModel(input_size, hidden_size, num_layers, output_size).to(device)\n",
    "criterion = torch.nn.MSELoss() # 均方差误差函数\n",
    "optimizer = optim.Adam(net.parameters(), lr=0.001)"
   ]
  },
  {
   "cell_type": "code",
   "execution_count": 105,
   "id": "97f0b1a0-bb31-454d-a48e-015634b70d4d",
   "metadata": {
    "execution": {
     "iopub.execute_input": "2025-02-28T11:47:34.349577Z",
     "iopub.status.busy": "2025-02-28T11:47:34.348578Z",
     "iopub.status.idle": "2025-02-28T11:50:10.767879Z",
     "shell.execute_reply": "2025-02-28T11:50:10.765863Z",
     "shell.execute_reply.started": "2025-02-28T11:47:34.349577Z"
    }
   },
   "outputs": [
    {
     "name": "stdout",
     "output_type": "stream",
     "text": [
      "[1, 200]: loss : max:0.28708, min:0.00019, avg:0.02139\n",
      "[2, 200]: loss : max:0.11423, min:0.00011, avg:0.00577\n",
      "[3, 200]: loss : max:0.06379, min:0.00011, avg:0.00356\n",
      "[4, 200]: loss : max:0.04108, min:0.00008, avg:0.00266\n",
      "[5, 200]: loss : max:0.02857, min:0.00007, avg:0.00211\n",
      "[6, 200]: loss : max:0.02182, min:0.00010, avg:0.00180\n",
      "[7, 200]: loss : max:0.01853, min:0.00008, avg:0.00164\n",
      "[8, 200]: loss : max:0.01691, min:0.00007, avg:0.00157\n",
      "[9, 200]: loss : max:0.01589, min:0.00006, avg:0.00153\n",
      "[10, 200]: loss : max:0.01501, min:0.00006, avg:0.00148\n",
      "Finished Training.\n"
     ]
    }
   ],
   "source": [
    "for epoch in range(10):  # 迭代一次\n",
    "    running_loss = 0.0\n",
    "    running_loss_2 = []\n",
    "    for i, data in enumerate(train_loader, 0):\n",
    "        # 获取输入\n",
    "        inputs, labels = data\n",
    "        inputs = inputs.to(device)\n",
    "        labels = labels.to(device)\n",
    "        # 梯度置 0\n",
    "        optimizer.zero_grad()\n",
    "        # 正向传播，反向传播，优化\n",
    "        outputs = net(inputs)\n",
    "        loss = criterion(outputs, labels)\n",
    "        loss.backward()\n",
    "        optimizer.step()\n",
    "        # 打印状态信息\n",
    "        # running_loss += loss.item()\n",
    "        running_loss_2.append(loss.item())\n",
    "        if i % 200 == 199:    # 每 200 批次打印一次\n",
    "            print(f'[{epoch + 1}, {i + 1}]: loss : max:{max(running_loss_2):.5f}, min:{min(running_loss_2):.5f}, avg:{sum(running_loss_2)/len(running_loss_2):.5f}')\n",
    "            # print('[%d, %5d] loss: ,max : %.3f,  min: ' , %\n",
    "            #       (epoch + 1, i + 1, running_loss / 200))\n",
    "            # running_loss = 0.0\n",
    "            running_loss_2 = []\n",
    "    # # 每轮迭代打印一次\n",
    "    # if epoch % 10 == 0:\n",
    "    #     print('[%d, %5d] loss: %.3f' % (epoch + 1, i + 1, loss.item()))\n",
    "    #     running_loss = 0.0\n",
    "\n",
    "    \n",
    "print('Finished Training.')"
   ]
  },
  {
   "cell_type": "code",
   "execution_count": null,
   "id": "f119e066-f29c-484f-b9c8-e160dee821bd",
   "metadata": {},
   "outputs": [],
   "source": []
  },
  {
   "cell_type": "markdown",
   "id": "46e6f07b-44a0-4097-b128-f875c5b66cf9",
   "metadata": {},
   "source": [
    "# 测试数据"
   ]
  },
  {
   "cell_type": "code",
   "execution_count": 107,
   "id": "af0a11ed-3546-4834-b046-b0cbff26fa87",
   "metadata": {
    "execution": {
     "iopub.execute_input": "2025-02-28T12:05:24.405385Z",
     "iopub.status.busy": "2025-02-28T12:05:24.404384Z",
     "iopub.status.idle": "2025-02-28T12:05:25.082421Z",
     "shell.execute_reply": "2025-02-28T12:05:25.079404Z",
     "shell.execute_reply.started": "2025-02-28T12:05:24.405385Z"
    }
   },
   "outputs": [
    {
     "name": "stdout",
     "output_type": "stream",
     "text": [
      "10, loss: max: 0.011340830475091934, min:0.0008061322150751948, avg:0.0030817871650114007\n"
     ]
    }
   ],
   "source": [
    "with torch.no_grad():\n",
    "    running_loss_2 = []\n",
    "    for i, data in enumerate(test_loader, 0):\n",
    "        # 获取输入\n",
    "        inputs, labels = data\n",
    "        inputs = inputs.to(device)\n",
    "        labels = labels.to(device)\n",
    "        # 正向传播，反向传播，优化\n",
    "        outputs = net(inputs)\n",
    "        loss = criterion(outputs, labels)\n",
    "        running_loss_2.append(loss.item())\n",
    "    # 每一次显示一下损失的最大值和最小值\n",
    "    print(f'loss: max: {max(running_loss_2)}, min:{min(running_loss_2)}, avg:{sum(running_loss_2)/len(running_loss_2)}')"
   ]
  },
  {
   "cell_type": "markdown",
   "id": "bc740554-b538-49b0-91a1-be9247ba3875",
   "metadata": {},
   "source": [
    "# 保存模型"
   ]
  },
  {
   "cell_type": "code",
   "execution_count": 109,
   "id": "b3076896-d923-43ed-9d92-cd2072d66359",
   "metadata": {
    "execution": {
     "iopub.execute_input": "2025-02-28T12:12:03.666487Z",
     "iopub.status.busy": "2025-02-28T12:12:03.665486Z",
     "iopub.status.idle": "2025-02-28T12:12:03.736474Z",
     "shell.execute_reply": "2025-02-28T12:12:03.734453Z",
     "shell.execute_reply.started": "2025-02-28T12:12:03.666487Z"
    }
   },
   "outputs": [],
   "source": [
    "import os\n",
    "model_path = os.path.join('./模型', f\"{zz500[0]}.pth\")\n",
    "torch.save(net, model_path)"
   ]
  },
  {
   "cell_type": "markdown",
   "id": "297a8d08-fcc3-4753-82a2-1e5bab93e0ce",
   "metadata": {},
   "source": [
    "# 读取数据的函数"
   ]
  },
  {
   "cell_type": "code",
   "execution_count": 110,
   "id": "bfe989e1-5be1-47f4-9dd5-715d80b4a021",
   "metadata": {
    "execution": {
     "iopub.execute_input": "2025-02-28T12:45:27.337230Z",
     "iopub.status.busy": "2025-02-28T12:45:27.336230Z",
     "iopub.status.idle": "2025-02-28T12:45:27.381229Z",
     "shell.execute_reply": "2025-02-28T12:45:27.380228Z",
     "shell.execute_reply.started": "2025-02-28T12:45:27.337230Z"
    }
   },
   "outputs": [],
   "source": [
    "def get_loader(code_name, N=60, rate_columns=['open', 'high', 'low', 'close'], batch_size=16, train_rate=0.9):\n",
    "    dt = DataSource.get_data(code_name)\n",
    "    dt_list = []\n",
    "    for j in range(N+1):\n",
    "        # N+1表示要多一天，比如前面30天，我要看看第31天的收盘价相对于第一天的收盘价是什么比例\n",
    "        for i in rate_columns:\n",
    "            dt_tmp = pd.DataFrame({f'{i}_rate_{j}':(dt[f'{i}'].shift(-j) - dt[f'preclose'])/dt[f'preclose']})\n",
    "            dt_list.append(dt_tmp)\n",
    "    \n",
    "    dt2 = pd.concat(dt_list[:-(len(rate_columns))], axis=1)\n",
    "    # x\n",
    "    x_price = dt2.to_numpy()\n",
    "    x_price = x_price[:-(N+1)]\n",
    "    # 更改维度\n",
    "    x_shape_old = x_price.shape\n",
    "    x_shape_new_1 = x_shape_old[0]\n",
    "    x_shape_new_3 = len(rate_columns)\n",
    "    x_shape_new_2 = int(x_shape_old[1] / x_shape_new_3)\n",
    "    x_price = x_price.reshape((x_shape_new_1, x_shape_new_2, x_shape_new_3))\n",
    "    # y\n",
    "    y_close = dt_list[-(len(rate_columns)- rate_columns.index('close'))][f'close_rate_{N}'].to_numpy()[:-(N+1)]\n",
    "    # 然后是批次的整数倍\n",
    "    _x_y_len = int(x_price.shape[0]/batch_size) * batch_size\n",
    "    \n",
    "    x_price = x_price[-_x_y_len:]\n",
    "    y_close = y_close[-_x_y_len:]\n",
    "    x_price = x_price.reshape(x_price.shape[0]//batch_size, batch_size, x_price.shape[1], x_price.shape[2])\n",
    "    y_close = y_close.reshape(y_close.shape[0]//batch_size, batch_size, 1)\n",
    "    # 做成加载器\n",
    "    dataset = Data.TensorDataset(torch.FloatTensor(x_price), torch.FloatTensor(y_close))\n",
    "    train_loader, test_loader = Data.random_split(dataset,\n",
    "                                                 lengths=[int(train_rate*len(dataset)), len(dataset)- int(train_rate*len(dataset))],\n",
    "                                                 generator=torch.Generator().manual_seed(0))\n",
    "    return train_loader, test_loader\n",
    "\n",
    "    "
   ]
  },
  {
   "cell_type": "code",
   "execution_count": null,
   "id": "a9444144-8cb6-4745-ab51-5b378308d9ba",
   "metadata": {
    "execution": {
     "iopub.execute_input": "2025-02-28T12:48:31.490313Z",
     "iopub.status.busy": "2025-02-28T12:48:31.489322Z"
    },
    "scrolled": true
   },
   "outputs": [
    {
     "name": "stdout",
     "output_type": "stream",
     "text": [
      "sh.600004：loss: max: 0.05766661837697029, min:0.00013507597032003105, avg:0.0031200260577122383\n",
      "sh.600007：loss: max: 0.11735248565673828, min:0.00029643840389326215, avg:0.003640793509072546\n",
      "sh.600008：loss: max: 0.08081412315368652, min:0.0005158991552889347, avg:0.004678237290073443\n",
      "sh.600021：loss: max: 0.8158788681030273, min:0.00021617321181111038, avg:0.017153640181196653\n",
      "sh.600032：loss: max: 0.03822392225265503, min:0.00011160094436490908, avg:0.003452598753396392\n",
      "sh.600038：loss: max: 0.045919544994831085, min:0.00048359096399508417, avg:0.003588942383797931\n",
      "sh.600056：loss: max: 1.3841007947921753, min:0.00019056754535995424, avg:0.014785106859302946\n",
      "sh.600060：loss: max: 0.20330774784088135, min:0.00012914305261801928, avg:0.0071659169683555195\n",
      "sh.600062：loss: max: 0.7862763404846191, min:0.0002741701027844101, avg:0.007390127295204966\n",
      "sh.600079：loss: max: 0.10253335535526276, min:0.0003211036091670394, avg:0.004253290920791313\n",
      "sh.600095：loss: max: 0.21937155723571777, min:0.0002550352655816823, avg:0.009076772859690508\n",
      "sh.600096：loss: max: 0.3760837912559509, min:0.00012600430636666715, avg:0.009150266650779714\n",
      "sh.600098：loss: max: 0.06873361766338348, min:0.00017448494327254593, avg:0.003321507626518222\n",
      "sh.600109：loss: max: 0.13233862817287445, min:0.0002648810623213649, avg:0.005354967320554665\n",
      "sh.600118：loss: max: 0.40627267956733704, min:0.00045625827624462545, avg:0.00855377194826638\n",
      "sh.600126：loss: max: 0.3988230228424072, min:0.0001307590282522142, avg:0.0072346329170748305\n",
      "sh.600129：loss: max: 0.499819278717041, min:0.0002201320749009028, avg:0.009511535292565295\n",
      "sh.600131：loss: max: 2.504037618637085, min:0.000304915476590395, avg:0.03711734169545317\n",
      "sh.600132：loss: max: 0.1363665908575058, min:0.0002572712837718427, avg:0.005890217671638786\n",
      "sh.600141：loss: max: 0.8650383353233337, min:0.00037564721424132586, avg:0.011868474919439565\n",
      "sh.600143：loss: max: 0.3198786973953247, min:0.00017629524518270046, avg:0.006590784005069499\n",
      "sh.600153：loss: max: 0.16259998083114624, min:0.00010926870163530111, avg:0.0045667375004081875\n",
      "sh.600155：loss: max: 0.6827811598777771, min:0.00019195216009393334, avg:0.011399564975838227\n",
      "sh.600157：loss: max: 0.6352978944778442, min:0.00013901464990340173, avg:0.011336624642846684\n",
      "sh.600166：loss: max: 0.040291473269462585, min:0.00013771140947937965, avg:0.0033134128481179495\n",
      "sh.600170：loss: max: 0.08777249604463577, min:0.0003501043247524649, avg:0.004643653020385442\n",
      "sh.600177：loss: max: 0.1406038999557495, min:0.0002884375862777233, avg:0.00425224446862468\n",
      "sh.600208：loss: max: 0.19655396044254303, min:0.00027536912239156663, avg:0.005880004135671581\n",
      "sh.600258：loss: max: 0.021507350727915764, min:0.00034344190498813987, avg:0.0029817697994371996\n",
      "sh.600271：loss: max: 0.33667558431625366, min:0.0002334974706172943, avg:0.00655224753455993\n",
      "sh.600282：loss: max: 0.10472241044044495, min:0.0001888192491605878, avg:0.005462531399513994\n",
      "sh.600295：loss: max: 0.2609643340110779, min:0.00014219254080671817, avg:0.008904654415323758\n",
      "sh.600298：loss: max: 0.04493185505270958, min:0.0003462039167061448, avg:0.0035140319022561053\n",
      "sh.600299：loss: max: 0.7026348114013672, min:0.0002514296502340585, avg:0.01962646602175836\n",
      "sh.600312：loss: max: 0.025223905220627785, min:0.00011609455395955592, avg:0.003319806961318033\n",
      "sh.600316：loss: max: 1.092922568321228, min:0.00028950138948857784, avg:0.016052250738606645\n",
      "sh.600325：loss: max: 0.16136910021305084, min:7.50694889575243e-05, avg:0.0045537922465846885\n",
      "sh.600329：loss: max: 0.05153926461935043, min:0.00040747065213508904, avg:0.0037679323610296848\n",
      "sh.600339：loss: max: 0.06530776619911194, min:0.00019548580166883767, avg:0.0035643467788293204\n",
      "sh.600348：loss: max: 0.3757660984992981, min:0.00014108487812336534, avg:0.010459677214815116\n",
      "sh.600350：loss: max: 0.17065782845020294, min:0.00024431984638795257, avg:0.004082276875392896\n",
      "sh.600352：loss: max: 0.45519185066223145, min:0.00036571253440342844, avg:0.008527647580732385\n",
      "sh.600361：loss: max: 0.13900037109851837, min:0.00037555283051915467, avg:0.005019545055188358\n",
      "sh.600369：loss: max: 0.26711025834083557, min:0.00024029506312217563, avg:0.005261516327619337\n",
      "sh.600373：loss: max: 0.16919095814228058, min:0.000166555488249287, avg:0.004793929213972239\n",
      "sh.600378：loss: max: 0.08738067746162415, min:0.00029481283854693174, avg:0.0044308196918997605\n",
      "sh.600380：loss: max: 1.7633392810821533, min:0.0002671543334145099, avg:0.02720560521240635\n",
      "sh.600390：loss: max: 0.15469413995742798, min:0.00023726525250822306, avg:0.00710981253252406\n",
      "sh.600392：loss: max: 1.018293857574463, min:0.0001320768496952951, avg:0.018682521016519342\n",
      "sh.600398：loss: max: 0.19472059607505798, min:0.0002472118358127773, avg:0.005464299533342979\n",
      "sh.600416：loss: max: 0.1720917820930481, min:0.00025055554579012096, avg:0.006120742737514017\n",
      "sh.600418：loss: max: 0.579974353313446, min:0.00025886367075145245, avg:0.01487665092374721\n",
      "sh.600435：loss: max: 0.29285773634910583, min:0.000249757751589641, avg:0.008494008176219122\n",
      "sh.600483：loss: max: 0.15291297435760498, min:0.0003949213423766196, avg:0.00504564829549197\n",
      "sh.600486：loss: max: 0.04684935510158539, min:0.000252107362030074, avg:0.004039809304338839\n",
      "sh.600487：loss: max: 0.17503653466701508, min:0.00015108028310351074, avg:0.004936348714979292\n",
      "sh.600497：loss: max: 0.054139573127031326, min:0.00038643160951323807, avg:0.0034907301579627298\n",
      "sh.600498：loss: max: 0.1402723640203476, min:0.00021640639170072973, avg:0.004707628336197151\n",
      "sh.600499：loss: max: 0.33730489015579224, min:0.00015459010319318622, avg:0.007780682807458505\n",
      "sh.600500：loss: max: 0.24337343871593475, min:0.00047528225695714355, avg:0.004223951521923701\n",
      "sh.600511：loss: max: 0.030986201018095016, min:0.00022982379596214741, avg:0.003143357662894084\n",
      "sh.600516：loss: max: 2.4814090728759766, min:0.00021602062042802572, avg:0.035822099978803874\n",
      "sh.600517：loss: max: 0.906313955783844, min:0.0002567814663052559, avg:0.010461244367411719\n",
      "sh.600521：loss: max: 0.10533342510461807, min:0.00025015597930178046, avg:0.005047974252833622\n",
      "sh.600528：loss: max: 1.333547592163086, min:0.0001856868912000209, avg:0.017383978039191422\n",
      "sh.600529：loss: max: 0.056521013379096985, min:0.00015095470007508993, avg:0.003491994964126314\n",
      "sh.600535：loss: max: 0.010558158159255981, min:0.00017745286459103227, avg:0.0026950840911371494\n",
      "sh.600536：loss: max: 2.351583242416382, min:0.00016184835112653673, avg:0.04161501394569291\n",
      "sh.600546：loss: max: 0.11507483571767807, min:0.0002600092557258904, avg:0.006858212001945163\n",
      "sh.600549：loss: max: 1.163042426109314, min:0.00029146479209885, avg:0.011556658522068785\n",
      "sh.600563：loss: max: 0.06564293056726456, min:0.0002784701355267316, avg:0.0048310623558414775\n",
      "sh.600566：loss: max: 0.18916600942611694, min:0.00023869203869253397, avg:0.006211490336784937\n",
      "sh.600578：loss: max: 0.03344602882862091, min:0.00023694854462519288, avg:0.003133377288536999\n",
      "sh.600580：loss: max: 0.10237954556941986, min:0.00021861826826352626, avg:0.0045136273424961175\n",
      "sh.600582：loss: max: 0.049272626638412476, min:0.00016063575458247215, avg:0.00391247415536065\n",
      "sh.600583：loss: max: 0.023457761853933334, min:0.00024640021729283035, avg:0.003049977975490324\n",
      "sh.600598：loss: max: 0.1299370378255844, min:0.00011423560499679297, avg:0.005497724967283252\n",
      "sh.600606：loss: max: 0.27392715215682983, min:2.2067895770305768e-05, avg:0.01049285599165966\n",
      "sh.600612：loss: max: 0.03940360248088837, min:0.0004346350906416774, avg:0.0035303957488507106\n",
      "sh.600637：loss: max: 0.05950254201889038, min:0.00016951315046753734, avg:0.004787697238498367\n",
      "sh.600642：loss: max: 0.0657002180814743, min:0.0003349852340761572, avg:0.003089681043796553\n",
      "sh.600655：loss: max: 0.035384651273489, min:0.00010730783105827868, avg:0.003205176438273761\n",
      "sh.600663：loss: max: 0.39582476019859314, min:7.239139085868374e-05, avg:0.009373959722813147\n",
      "sh.600673：loss: max: 0.24478456377983093, min:0.0002256537991343066, avg:0.009301731964011833\n",
      "sh.600685：loss: max: 0.5708814859390259, min:7.853324495954439e-05, avg:0.01120480432589005\n",
      "sh.600688：loss: max: 0.2917516231536865, min:0.00021302790264599025, avg:0.00641679954044108\n",
      "sh.600699：loss: max: 0.2563399374485016, min:0.00036021979758515954, avg:0.008328587919579168\n",
      "sh.600704：loss: max: 0.7463384866714478, min:0.00019644718850031495, avg:0.013509033917359952\n",
      "sh.600707：loss: max: 0.11785639822483063, min:0.00016037201567087322, avg:0.0070185777988586474\n",
      "sh.600720：loss: max: 0.017768900841474533, min:0.0002453736960887909, avg:0.0032666285093323204\n",
      "sh.600737：loss: max: 0.08992456644773483, min:0.00019645094289444387, avg:0.004380655119980093\n",
      "sh.600739：loss: max: 0.027045531198382378, min:0.0003005604085046798, avg:0.0034801551952884703\n",
      "sh.600754：loss: max: 0.11115022748708725, min:0.0001287376508116722, avg:0.0041411320654947195\n",
      "sh.600755：loss: max: 0.37643638253211975, min:0.00032730368548072875, avg:0.007475147860066213\n",
      "sh.600763：loss: max: 0.09026159346103668, min:0.0002414282935205847, avg:0.005484966558330862\n",
      "sh.600764：loss: max: 0.32202252745628357, min:0.0001405118964612484, avg:0.008522357834887856\n",
      "sh.600765：loss: max: 0.36714112758636475, min:0.00016006833175197244, avg:0.009638231919918971\n",
      "sh.600801：loss: max: 0.055595461279153824, min:0.00019028695533052087, avg:0.004692813528362166\n",
      "sh.600808：loss: max: 0.1834983229637146, min:0.0003650989383459091, avg:0.006092249333664656\n",
      "sh.600816：loss: max: 0.2553178668022156, min:0.0001615147339180112, avg:0.007613460956975185\n",
      "sh.600820：loss: max: 0.3204016387462616, min:0.00032355193980038166, avg:0.006153039158387293\n",
      "sh.600839：loss: max: 2.5750317573547363, min:0.00022709797485731542, avg:0.026365640125606722\n",
      "sh.600848：loss: max: 0.3201863169670105, min:0.0005357826012186706, avg:0.007891852839613618\n",
      "sh.600859：loss: max: 11.165548324584961, min:0.00016781655722297728, avg:0.07879375092590025\n",
      "sh.600862：loss: max: 4.926227569580078, min:0.00021654917509295046, avg:0.08555453603948453\n",
      "sh.600863：loss: max: 0.09621945023536682, min:0.00023466013954021037, avg:0.0041695426756130725\n",
      "sh.600867：loss: max: 0.22741106152534485, min:0.0002063908614218235, avg:0.004768441799538338\n",
      "sh.600871：loss: max: 0.05705849081277847, min:0.00017462263349443674, avg:0.004408064858759685\n",
      "sh.600872：loss: max: 0.0679217204451561, min:0.00033955383696593344, avg:0.0037824865087942483\n",
      "sh.600873：loss: max: 0.04801120236515999, min:0.000406299572205171, avg:0.003368030885306733\n",
      "sh.600879：loss: max: 0.018060259521007538, min:0.0006383524741977453, avg:0.002993970363299945\n",
      "sh.600884：loss: max: 0.3404088020324707, min:0.00018828817701432854, avg:0.008014847190917029\n",
      "sh.600885：loss: max: 0.04450611770153046, min:0.0004736155678983778, avg:0.0038375089028471706\n",
      "sh.600895：loss: max: 0.23668557405471802, min:0.00025832134997472167, avg:0.009175526182651245\n",
      "sh.600901：loss: max: 0.0067393104545772076, min:0.00027785415295511484, avg:0.0023483353715574185\n",
      "sh.600906：loss: max: 0.470320463180542, min:0.0004461536300368607, avg:0.012158433495642385\n",
      "sh.600909：loss: max: 0.0170541163533926, min:0.0004740459844470024, avg:0.002770383249972602\n",
      "sh.600925：loss: max: 0.003106513526290655, min:0.0017397347837686539, avg:0.0021525147709656844\n",
      "sh.600927：loss: max: 0.007438838016241789, min:0.000721460790373385, avg:0.002196997681704278\n",
      "sh.600928：loss: max: 0.0064693340100348, min:0.0001132806864916347, avg:0.0021795159811564446\n",
      "sh.600956：loss: max: 0.11083844304084778, min:0.000306582311168313, avg:0.008362426262465306\n",
      "sh.600959：loss: max: 0.0356464609503746, min:0.0001451822608942166, avg:0.002794585766185684\n",
      "sh.600968：loss: max: 0.014912695623934269, min:0.0006011865334585309, avg:0.0028011002904761023\n",
      "sh.600970：loss: max: 0.1890084147453308, min:0.0001084776158677414, avg:0.00534206625265402\n",
      "sh.600977：loss: max: 0.009931298904120922, min:0.0002090972993755713, avg:0.002443588029694053\n",
      "sh.600988：loss: max: 0.5479490756988525, min:0.0003601216885726899, avg:0.012908460691501271\n",
      "sh.600995：loss: max: 1.0355446338653564, min:0.00038937199860811234, avg:0.02020071010796922\n",
      "sh.600998：loss: max: 0.016889266669750214, min:0.00023946017608977854, avg:0.0028821779507960813\n",
      "sh.601000：loss: max: 0.2137492150068283, min:0.00029316372820176184, avg:0.006100783600473102\n",
      "sh.601001：loss: max: 0.06390693038702011, min:0.00021823050337843597, avg:0.004605809319534986\n",
      "sh.601016：loss: max: 1.0602381229400635, min:0.0004913637530989945, avg:0.015170393721284885\n",
      "sh.601019：loss: max: 0.06305880844593048, min:0.00030387757578864694, avg:0.0032062448273216817\n",
      "sh.601061：loss: max: 0.004375223536044359, min:0.0007823137566447258, avg:0.002223057106935552\n",
      "sh.601098：loss: max: 0.022282550111413002, min:0.0004965440602973104, avg:0.0029218313165364973\n",
      "sh.601099：loss: max: 0.5231797099113464, min:0.0002261908375658095, avg:0.008353615308546327\n",
      "sh.601106：loss: max: 3.4428703784942627, min:0.00012763100676238537, avg:0.040065079813563054\n",
      "sh.601108：loss: max: 0.0765736848115921, min:0.00019834982231259346, avg:0.004016960408838107\n",
      "sh.601118：loss: max: 0.3367554843425751, min:0.00010694784577935934, avg:0.006209954050035098\n",
      "sh.601128：loss: max: 0.012077556923031807, min:0.00019996683113276958, avg:0.002569600660353899\n",
      "sh.601139：loss: max: 0.09098267555236816, min:0.00039602385368198156, avg:0.003366588542049778\n",
      "sh.601155：loss: max: 0.1819683015346527, min:0.00028296318487264216, avg:0.006513548728897328\n",
      "sh.601156：loss: max: 0.010750028304755688, min:0.00018718965293373913, avg:0.0026734282927582567\n",
      "sh.601158：loss: max: 0.02517162263393402, min:0.000631549977697432, avg:0.002720079485949447\n",
      "sh.601162：loss: max: 0.602382481098175, min:0.00016641561524011195, avg:0.0220619932778191\n",
      "sh.601168：loss: max: 0.1094096228480339, min:0.00044390885159373283, avg:0.004520687097144483\n",
      "sh.601179：loss: max: 0.11828546226024628, min:0.00011261431791353971, avg:0.005407761597195018\n",
      "sh.601198：loss: max: 0.18444715440273285, min:0.00016932326252572238, avg:0.005358472908059261\n",
      "sh.601212：loss: max: 0.10546170920133591, min:0.0001722900487948209, avg:0.0038387720446477927\n",
      "sh.601216：loss: max: 4.594117164611816, min:0.0003492091200314462, avg:0.05789114635557238\n",
      "sh.601228：loss: max: 0.004502483643591404, min:0.00035333429696038365, avg:0.002171133996923275\n",
      "sh.601231：loss: max: 0.03434910997748375, min:0.0003932812251150608, avg:0.0043348470216365426\n",
      "sh.601233：loss: max: 0.1697937548160553, min:0.00018721327069215477, avg:0.005652617705772686\n",
      "sh.601399：loss: max: 0.0059285154566168785, min:0.0004216934321448207, avg:0.002327950903175709\n",
      "sh.601456：loss: max: 0.008200189098715782, min:0.0006829765043221414, avg:0.0028633317390280165\n",
      "sh.601555：loss: max: 0.43667545914649963, min:0.00045899944962002337, avg:0.00843749940312674\n",
      "sh.601567：loss: max: 2.0639419555664062, min:0.0005797069752588868, avg:0.026703853686238368\n",
      "sh.601568：loss: max: 0.004195238929241896, min:0.0006016607512719929, avg:0.0020383850787766278\n",
      "sh.601577：loss: max: 0.004570689518004656, min:0.0007576809148304164, avg:0.002358707168745438\n",
      "sh.601598：loss: max: 0.008497214876115322, min:0.00044308690121397376, avg:0.002695946977768518\n",
      "sh.601608：loss: max: 3.841658592224121, min:0.0001509604335296899, avg:0.04828262022650283\n",
      "sh.601611：loss: max: 0.014522886835038662, min:0.0004835386644117534, avg:0.0027200836946418426\n",
      "sh.601615：loss: max: 0.04016915708780289, min:0.0002040550170931965, avg:0.004962326968353996\n",
      "sh.601636：loss: max: 0.1015789657831192, min:0.0004775096895173192, avg:0.005114502982986677\n",
      "sh.601665：loss: max: 0.0074332160875201225, min:0.00045060826232656837, avg:0.0024708931083770713\n",
      "sh.601666：loss: max: 0.10206515341997147, min:0.00024388509336858988, avg:0.0043937241104592024\n",
      "sh.601696：loss: max: 0.12446149438619614, min:0.0002963849692605436, avg:0.0052657126966551004\n",
      "sh.601717：loss: max: 0.1330043375492096, min:0.0002351664734305814, avg:0.004170261675160593\n",
      "sh.601858：loss: max: 3.3444366455078125, min:0.00022740312851965427, avg:0.05924194205822162\n",
      "sh.601866：loss: max: 0.5215871930122375, min:9.671471343608573e-05, avg:0.00928017430156131\n",
      "sh.601880：loss: max: 0.05155961215496063, min:0.0002402323007117957, avg:0.0037284799093245773\n",
      "sh.601918：loss: max: 0.19755735993385315, min:0.00025217951042577624, avg:0.006265167705485313\n",
      "sh.601928：loss: max: 0.05852162092924118, min:0.00023855618201196194, avg:0.003935397680556812\n",
      "sh.601933：loss: max: 1.0841320753097534, min:0.00010848092642845586, avg:0.014520145687109867\n",
      "sh.601958：loss: max: 0.27590954303741455, min:0.00024854153161868453, avg:0.0050781063766739435\n",
      "sh.601965：loss: max: 0.029674362391233444, min:0.00014362801448442042, avg:0.0036723949093892074\n",
      "sh.601966：loss: max: 0.019437965005636215, min:0.00016408652300015092, avg:0.0032973530150341326\n",
      "sh.601990：loss: max: 0.3814539611339569, min:0.0001975268532987684, avg:0.008809273863470867\n",
      "sh.601991：loss: max: 0.04615835100412369, min:0.0003549302346073091, avg:0.0029546943865372374\n",
      "sh.601992：loss: max: 0.0928904339671135, min:0.0002477760426700115, avg:0.003524768383822399\n",
      "sh.601997：loss: max: 0.004716843366622925, min:0.0005110542988404632, avg:0.0022517533808630624\n",
      "sh.603000：loss: max: 3.902282238006592, min:0.0001369038363918662, avg:0.056006256701480545\n",
      "sh.603056：loss: max: 2.133786916732788, min:0.00016387068899348378, avg:0.02635949429359928\n",
      "sh.603077：loss: max: 0.39656785130500793, min:0.00012591152335517108, avg:0.01065909872600709\n",
      "sh.603087：loss: max: 0.08251985907554626, min:0.0003500555467326194, avg:0.0036908415233483536\n",
      "sh.603129：loss: max: 0.7117899060249329, min:0.00024308860884048045, avg:0.028669286840313085\n",
      "sh.603156：loss: max: 0.007470903918147087, min:0.00047673657536506653, avg:0.002618364292544896\n",
      "sh.603160：loss: max: 0.06702464073896408, min:0.0003282932739239186, avg:0.005811248668363657\n",
      "sh.603179：loss: max: 0.02629527635872364, min:0.00013339941506274045, avg:0.004389604264221047\n",
      "sh.603185：loss: max: 0.44559359550476074, min:0.0002076593809761107, avg:0.03390026642136945\n",
      "sh.603225：loss: max: 0.1295446753501892, min:0.00018178603204432875, avg:0.0040728139468678955\n",
      "sh.603228：loss: max: 0.029215989634394646, min:0.0006165974191389978, avg:0.003294424869764213\n",
      "sh.603233：loss: max: 0.040760338306427, min:0.00013071016292087734, avg:0.004232899976995388\n",
      "sh.603290：loss: max: 9.415843963623047, min:0.0001930470170918852, avg:0.1581502563414128\n",
      "sh.603298：loss: max: 0.05229382961988449, min:0.00032686302438378334, avg:0.003906603164742356\n",
      "sh.603338：loss: max: 0.6351835131645203, min:0.0003421319997869432, avg:0.010637298896185574\n",
      "sh.603341：loss: max: 0.006825743243098259, min:0.000917269557248801, avg:0.003930891773456501\n",
      "sh.603345：loss: max: 0.10948693007230759, min:0.0004059089988004416, avg:0.005595362176730608\n",
      "sh.603379：loss: max: 0.13326770067214966, min:0.00019468460232019424, avg:0.005349150637477196\n",
      "sh.603444：loss: max: 0.031751103699207306, min:0.0002775568573269993, avg:0.005016072038517586\n",
      "sh.603456：loss: max: 0.05952789634466171, min:0.0002127264451701194, avg:0.005370779591865595\n",
      "sh.603486：loss: max: 0.20715005695819855, min:0.00014798808842897415, avg:0.014938397405785508\n",
      "sh.603529：loss: max: 0.17285847663879395, min:0.0005671895341947675, avg:0.010859747513440316\n",
      "sh.603556：loss: max: 0.0328872948884964, min:0.0002508276666048914, avg:0.0033748693488657886\n",
      "sh.603568：loss: max: 0.0646093487739563, min:0.00013610624591819942, avg:0.0038982254900615807\n",
      "sh.603589：loss: max: 0.027255672961473465, min:0.0001997283543460071, avg:0.0036824498401983874\n",
      "sh.603596：loss: max: 0.05917994678020477, min:0.00041167897870764136, avg:0.006083706559958669\n",
      "sh.603605：loss: max: 0.020588193088769913, min:0.0004768613143824041, avg:0.004312811850104481\n",
      "sh.603606：loss: max: 1.81630277633667, min:0.00010724099411163479, avg:0.030040998363728894\n",
      "sh.603650：loss: max: 0.41212016344070435, min:0.0004027180839329958, avg:0.015795397252411764\n",
      "sh.603658：loss: max: 0.03598117455840111, min:0.00022099279158283025, avg:0.003606807175569597\n",
      "sh.603688：loss: max: 0.9237987995147705, min:0.0006509464583359659, avg:0.020312488078646173\n",
      "sh.603707：loss: max: 0.12560713291168213, min:0.00011837291822303087, avg:0.005914790018736808\n",
      "sh.603712：loss: max: 0.1085318997502327, min:0.0001721045555314049, avg:0.005313276462442405\n",
      "sh.603728：loss: max: 2.3195672035217285, min:0.00038231079815886915, avg:0.030848065528998096\n",
      "sh.603737：loss: max: 0.13896429538726807, min:0.000193625979591161, avg:0.008775072389170932\n",
      "sh.603786：loss: max: 0.036748629063367844, min:0.0006434429087676108, avg:0.005098613259969684\n",
      "sh.603816：loss: max: 0.02049228549003601, min:0.0002201336610596627, avg:0.0031350559449161994\n",
      "sh.603826：loss: max: 0.06596767157316208, min:8.041338878683746e-05, avg:0.0044745273672799285\n",
      "sh.603858：loss: max: 0.012175980024039745, min:0.0001102195237763226, avg:0.002388509380883382\n",
      "sh.603868：loss: max: 0.06356389820575714, min:0.0002487958990968764, avg:0.004445760424047884\n",
      "sh.603882：loss: max: 0.05302712693810463, min:0.0004699498531408608, avg:0.005556346718530759\n",
      "sh.603883：loss: max: 0.01640944927930832, min:0.0002612372045405209, avg:0.003490528499913545\n",
      "sh.603885：loss: max: 0.01698172837495804, min:0.00021399877732619643, avg:0.003020902352891285\n",
      "sh.603893：loss: max: 0.40632370114326477, min:0.0005892810877412558, avg:0.021112386295499164\n",
      "sh.603899：loss: max: 0.12604041397571564, min:0.000195154279936105, avg:0.004304665699861805\n",
      "sh.603927：loss: max: 0.016075540333986282, min:0.0006052593234926462, avg:0.0031559214935571486\n",
      "sh.603939：loss: max: 0.2831175625324249, min:0.00039261928759515285, avg:0.00634149009540425\n",
      "sh.603979：loss: max: 0.016302932053804398, min:0.00030329686705954373, avg:0.00319323775806879\n",
      "sh.605358：loss: max: 7.2134504318237305, min:0.00027569488156586885, avg:0.1384984318719944\n",
      "sh.688002：loss: max: 0.15493197739124298, min:0.0003667282871901989, avg:0.013942029407593913\n",
      "sh.688005：loss: max: 0.5913558006286621, min:0.00023210275685414672, avg:0.029581619827189973\n",
      "sh.688017：loss: max: 1.3229074478149414, min:0.00039037049282342196, avg:0.06182971127992986\n",
      "sh.688032：loss: max: 0.14509481191635132, min:0.00032246997579932213, avg:0.009535361574634384\n",
      "sh.688047：loss: max: 0.08898171782493591, min:0.00043390231439843774, avg:0.010820615892953356\n",
      "sh.688052：loss: max: 0.020505785942077637, min:0.00039057870162650943, avg:0.004186712097310062\n",
      "sh.688065：loss: max: 0.04568618908524513, min:0.0002409221197012812, avg:0.003944414939253655\n",
      "sh.688072：loss: max: 0.20418225228786469, min:0.0005047844024375081, avg:0.021382410064273116\n",
      "sh.688099：loss: max: 0.01981540583074093, min:0.0002828311116900295, avg:0.0037970585544826463\n",
      "sh.688114：loss: max: 0.008079791441559792, min:0.00020340053015388548, avg:0.002407252189406226\n",
      "sh.688120：loss: max: 0.018032193183898926, min:0.000636187382042408, avg:0.004344428143337031\n",
      "sh.688122：loss: max: 0.03428644314408302, min:0.0003291260218247771, avg:0.004640345668627156\n",
      "sh.688153：loss: max: 0.05034056305885315, min:0.0004868865944445133, avg:0.005186880481362875\n",
      "sh.688172：loss: max: 0.11070128530263901, min:0.0002732496941462159, avg:0.01223305042143553\n",
      "sh.688180：loss: max: 0.14950864017009735, min:0.0002689968387130648, avg:0.0060273524718082875\n",
      "sh.688188：loss: max: 0.023517904803156853, min:0.0003249904839321971, avg:0.004302106861966119\n",
      "sh.688213：loss: max: 0.08052831888198853, min:0.0009234761819243431, avg:0.007031287172781851\n",
      "sh.688220：loss: max: 0.05495183542370796, min:0.0003463309840299189, avg:0.004737497403096457\n",
      "sh.688234：loss: max: 0.2574946880340576, min:0.00016002940537873656, avg:0.013869865692916056\n",
      "sh.688248：loss: max: 1.0480395555496216, min:0.0002911969495471567, avg:0.053170697164321795\n",
      "sh.688249：loss: max: 0.10997116565704346, min:0.0008906826260499656, avg:0.012604280401137657\n",
      "sh.688276：loss: max: 0.020499367266893387, min:0.0002725711092352867, avg:0.002889346756920632\n",
      "sh.688278：loss: max: 0.6471014618873596, min:0.00016678780957590789, avg:0.01756757881890875\n",
      "sh.688281：loss: max: 0.02402748167514801, min:0.00042075192322954535, avg:0.003891429519474817\n",
      "sh.688295：loss: max: 0.010760102421045303, min:0.0003897619026247412, avg:0.002644514610842129\n",
      "sh.688297：loss: max: 0.034139059484004974, min:0.00041623052675276995, avg:0.004368075949969352\n",
      "sh.688301：loss: max: 0.05210191011428833, min:0.0005046219448558986, avg:0.006470006115185762\n",
      "sh.688331：loss: max: 0.12498395144939423, min:0.00039979550638236105, avg:0.010928205635637924\n",
      "sh.688349：loss: max: 0.012176331132650375, min:0.00021267225383780897, avg:0.002711823774916411\n",
      "sh.688361：loss: max: 0.16177284717559814, min:0.0004997288342565298, avg:0.020020399475470185\n",
      "sh.688363：loss: max: 0.103080153465271, min:0.00013408550876192749, avg:0.006782829000097562\n",
      "sh.688375：loss: max: 0.013066671788692474, min:0.0002849869488272816, avg:0.0027811973995994776\n",
      "sh.688385：loss: max: 0.0262764785438776, min:0.00027116260025650263, avg:0.004852252069395035\n",
      "sh.688387：loss: max: 0.023677606135606766, min:0.0003160286578349769, avg:0.0038108005163459374\n",
      "sh.688390：loss: max: 0.789711058139801, min:0.00029492826433852315, avg:0.040702543615355226\n",
      "sh.688425：loss: max: 0.012170807458460331, min:0.00048779649659991264, avg:0.002790364201443837\n",
      "sh.688469：loss: max: 0.03386993333697319, min:0.0008057899540290236, avg:0.005133181178825908\n",
      "sh.688475：loss: max: 0.02215755544602871, min:0.0004237338143866509, avg:0.004017361445585265\n",
      "sh.688516：loss: max: 0.5865131616592407, min:0.00027320702793076634, avg:0.032727145994479054\n",
      "sh.688520：loss: max: 0.02187851443886757, min:0.00027565009077079594, avg:0.0028008633336867204\n",
      "sh.688521：loss: max: 0.37383905053138733, min:0.0004206822195556015, avg:0.0178480487967343\n",
      "sh.688525：loss: max: 4.201537609100342, min:0.00031963479705154896, avg:0.3748383186245337\n",
      "sh.688536：loss: max: 0.08895532786846161, min:0.0004165653954260051, avg:0.0068685344667756\n",
      "sh.688538：loss: max: 0.004987743217498064, min:0.0006221483927220106, avg:0.002120343433257113\n",
      "sh.688561：loss: max: 0.019711188971996307, min:0.0002095270319841802, avg:0.003386885326171037\n",
      "sh.688563：loss: max: 0.006198677234351635, min:0.0005574208917096257, avg:0.00245283273074569\n",
      "sh.688567：loss: max: 0.07450754195451736, min:0.0003365981683600694, avg:0.005871458517257282\n",
      "sh.688578：loss: max: 0.03066503256559372, min:0.00046008004574105144, avg:0.004507861678980084\n",
      "sh.688617：loss: max: 0.22032275795936584, min:0.001026456244289875, avg:0.011958672009104002\n",
      "sh.688772：loss: max: 0.014063016511499882, min:0.000521290407050401, avg:0.003152420332688572\n",
      "sh.688777：loss: max: 0.014097006991505623, min:0.00023429744760505855, avg:0.0029332857876498667\n",
      "sh.688778：loss: max: 0.42824026942253113, min:0.000534233869984746, avg:0.017294742820215307\n",
      "sh.688819：loss: max: 0.022140707820653915, min:0.0003261762612964958, avg:0.003533180668175471\n",
      "sh.689009：loss: max: 0.02741435170173645, min:0.000315306824631989, avg:0.003825561547677757\n",
      "sz.000009：loss: max: 0.8757539987564087, min:0.00026400628848932683, avg:0.014408434047581619\n",
      "sz.000021：loss: max: 0.15732347965240479, min:0.00014294915308710188, avg:0.006680295891182961\n",
      "sz.000027：loss: max: 0.39297130703926086, min:0.00029362383065745234, avg:0.006277972607090014\n",
      "sz.000032：loss: max: 0.19342193007469177, min:0.00026342214550822973, avg:0.007885474793233318\n",
      "sz.000034：loss: max: 0.5889538526535034, min:0.00022781100415159017, avg:0.010226670048400884\n",
      "sz.000039：loss: max: 0.04740254580974579, min:0.00018480964354239404, avg:0.0036960997309918825\n",
      "sz.000050：loss: max: 0.3437815308570862, min:0.0003133699356112629, avg:0.006968470375894298\n",
      "sz.000060：loss: max: 0.3813299238681793, min:0.00028450260288082063, avg:0.006392318621195229\n",
      "sz.000066：loss: max: 1.6558560132980347, min:0.00014527405437547714, avg:0.024677353009886653\n",
      "sz.000155：loss: max: 1.5054869651794434, min:0.00026939224335365, avg:0.02071043618674263\n",
      "sz.000400：loss: max: 0.03901094198226929, min:0.0002689722750801593, avg:0.004167277438467451\n",
      "sz.000401：loss: max: 0.08754408359527588, min:0.00017888739239424467, avg:0.0040075745202172\n",
      "sz.000403：loss: max: 4.809939861297607, min:0.00040687486762180924, avg:0.06313735457811633\n",
      "sz.000423：loss: max: 0.01701449044048786, min:9.337763913208619e-05, avg:0.0028499025899731655\n",
      "sz.000426：loss: max: 0.1401863545179367, min:0.00014989271585363895, avg:0.004950745200340893\n",
      "sz.000513：loss: max: 0.06824095547199249, min:0.00022269791224971414, avg:0.0035312057943301268\n",
      "sz.000519：loss: max: 0.36794885993003845, min:0.00023697303549852222, avg:0.008683212334648568\n",
      "sz.000537：loss: max: 5.768858909606934, min:0.00022452327539213002, avg:0.08476184035447516\n",
      "sz.000539：loss: max: 0.16121205687522888, min:8.934973448049277e-05, avg:0.003963193573922738\n",
      "sz.000559：loss: max: 0.5025063753128052, min:0.0001408701646141708, avg:0.010194447100577701\n",
      "sz.000563：loss: max: 0.20191890001296997, min:0.00033970814547501504, avg:0.005879689927707229\n",
      "sz.000591：loss: max: 0.4765086770057678, min:0.00030419841641560197, avg:0.007735109602283512\n",
      "sz.000598：loss: max: 0.053025245666503906, min:0.0004984110128134489, avg:0.003596358958361074\n",
      "sz.000623：loss: max: 0.1360943764448166, min:0.00037161362706683576, avg:0.004100703455254279\n",
      "sz.000629：loss: max: 0.25755247473716736, min:7.137322245398536e-05, avg:0.007168691524105333\n",
      "sz.000636：loss: max: 0.1202198937535286, min:0.0003036230045836419, avg:0.004829952041125338\n",
      "sz.000683：loss: max: 1.0745985507965088, min:0.00014188807108439505, avg:0.020428382670575652\n",
      "sz.000703：loss: max: 0.2704908549785614, min:0.0001425093796569854, avg:0.008106659424721763\n",
      "sz.000709：loss: max: 0.052095282822847366, min:0.0001228205655934289, avg:0.0036770792115563434\n",
      "sz.000723：loss: max: 6.665614128112793, min:0.00014377213665284216, avg:0.07527001171834191\n",
      "sz.000728：loss: max: 0.4009731709957123, min:0.00027567794313654304, avg:0.008178358924950202\n",
      "sz.000729：loss: max: 0.013037921860814095, min:0.0002947434550151229, avg:0.0026775006734733953\n",
      "sz.000733：loss: max: 0.27517175674438477, min:0.0002060961414827034, avg:0.007810706015016191\n",
      "sz.000738：loss: max: 0.2544092833995819, min:0.00019725534366443753, avg:0.0063154435400584975\n",
      "sz.000739：loss: max: 0.030051197856664658, min:0.0003651484730653465, avg:0.0036914809971125657\n",
      "sz.000750：loss: max: 5.759289741516113, min:0.0003899057046510279, avg:0.08467096547949417\n",
      "sz.000778：loss: max: 0.1905401051044464, min:0.00033274455927312374, avg:0.004989321744746157\n",
      "sz.000783：loss: max: 1.067094326019287, min:0.00017308309907093644, avg:0.011739415922483173\n",
      "sz.000785：loss: max: 0.16077739000320435, min:0.00010616015060804784, avg:0.0056392252960631144\n",
      "sz.000818：loss: max: 2.9176294803619385, min:9.535098070045933e-05, avg:0.04676527718079633\n",
      "sz.000825：loss: max: 0.2033451795578003, min:0.0002695067087188363, avg:0.0053029125841653315\n",
      "sz.000830：loss: max: 0.20322325825691223, min:0.00013580052473116666, avg:0.005616364551790109\n",
      "sz.000831：loss: max: 1.4545302391052246, min:0.00032589680631645024, avg:0.02876906210841643\n",
      "sz.000878：loss: max: 0.04956590384244919, min:0.0003320871037431061, avg:0.003864769312166586\n",
      "sz.000883：loss: max: 0.24338304996490479, min:0.0003158185863867402, avg:0.006830807429453899\n",
      "sz.000887：loss: max: 0.13759562373161316, min:0.0002634716802276671, avg:0.005221963078162078\n",
      "sz.000893：loss: max: 0.19004863500595093, min:0.00012442198931239545, avg:0.007493116962838129\n",
      "sz.000898：loss: max: 0.059133440256118774, min:0.00026542061823420227, avg:0.0033766151266229876\n",
      "sz.000921：loss: max: 0.21524858474731445, min:0.00015144312055781484, avg:0.005763405830033922\n",
      "sz.000932：loss: max: 0.47897547483444214, min:0.0001211720664286986, avg:0.007532728077807083\n",
      "sz.000937：loss: max: 0.6201215982437134, min:0.00012657942716032267, avg:0.007035443843588958\n",
      "sz.000958：loss: max: 0.5798145532608032, min:8.570475620217621e-05, avg:0.019128981794332717\n",
      "sz.000959：loss: max: 0.04374897852540016, min:0.0002564615570008755, avg:0.00396512038294648\n",
      "sz.000960：loss: max: 0.4507526755332947, min:0.00034594297176226974, avg:0.0074376963800693325\n",
      "sz.000967：loss: max: 0.7868947982788086, min:0.0001219235491589643, avg:0.011927785368825784\n",
      "sz.000987：loss: max: 0.3845246434211731, min:0.0002867825678549707, avg:0.013343456461756109\n"
     ]
    }
   ],
   "source": [
    "for i  in range(len(zz500)):\n",
    "    train_loader2, test_loader2 = get_loader(zz500[i], train_rate=0.1)\n",
    "    # 我这里用测试集来测试\n",
    "    running_loss_2 = []\n",
    "    for i, data in enumerate(test_loader2, 0):\n",
    "            # 获取输入\n",
    "            inputs, labels = data\n",
    "            inputs = inputs.to(device)\n",
    "            labels = labels.to(device)\n",
    "            # 正向传播，反向传播，优化\n",
    "            outputs = net(inputs)\n",
    "            loss = criterion(outputs, labels)\n",
    "            running_loss_2.append(loss.item())\n",
    "    # 每一次显示一下损失的最大值和最小值\n",
    "    print(f'{i}:{code_name}：loss: max: {max(running_loss_2)}, min:{min(running_loss_2)}, avg:{sum(running_loss_2)/len(running_loss_2)}')\n"
   ]
  },
  {
   "cell_type": "code",
   "execution_count": null,
   "id": "f1147d44-da40-4c2a-a031-0ccbc78e4b96",
   "metadata": {},
   "outputs": [],
   "source": []
  },
  {
   "cell_type": "code",
   "execution_count": null,
   "id": "a5dad641-462c-4530-884d-ef762da54507",
   "metadata": {},
   "outputs": [],
   "source": []
  }
 ],
 "metadata": {
  "kernelspec": {
   "display_name": "Python 3 (ipykernel)",
   "language": "python",
   "name": "python3"
  },
  "language_info": {
   "codemirror_mode": {
    "name": "ipython",
    "version": 3
   },
   "file_extension": ".py",
   "mimetype": "text/x-python",
   "name": "python",
   "nbconvert_exporter": "python",
   "pygments_lexer": "ipython3",
   "version": "3.11.5"
  }
 },
 "nbformat": 4,
 "nbformat_minor": 5
}
