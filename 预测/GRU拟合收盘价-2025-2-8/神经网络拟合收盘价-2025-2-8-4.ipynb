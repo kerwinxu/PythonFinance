{
 "cells": [
  {
   "cell_type": "markdown",
   "id": "02c218eb-012e-451c-8e23-dbb9fd4ad347",
   "metadata": {
    "execution": {
     "iopub.execute_input": "2025-02-28T13:34:40.976721Z",
     "iopub.status.busy": "2025-02-28T13:34:40.974717Z",
     "iopub.status.idle": "2025-02-28T13:34:42.413488Z",
     "shell.execute_reply": "2025-02-28T13:34:42.409466Z",
     "shell.execute_reply.started": "2025-02-28T13:34:40.976721Z"
    }
   },
   "source": [
    "测试一下每支股票的最优参数"
   ]
  },
  {
   "cell_type": "code",
   "execution_count": 1,
   "id": "7e0dd952-9086-4b21-8617-5d509ada60c2",
   "metadata": {
    "execution": {
     "iopub.execute_input": "2025-03-01T14:50:38.497117Z",
     "iopub.status.busy": "2025-03-01T14:50:38.496122Z",
     "iopub.status.idle": "2025-03-01T14:50:44.807518Z",
     "shell.execute_reply": "2025-03-01T14:50:44.806516Z",
     "shell.execute_reply.started": "2025-03-01T14:50:38.497117Z"
    }
   },
   "outputs": [],
   "source": [
    "import sys\n",
    "import pandas as pd\n",
    "import numpy as np\n",
    "import torch\n",
    "import torch.nn as nn\n",
    "import torch.optim as optim\n",
    "import talib\n",
    "import torch.utils.data as Data"
   ]
  },
  {
   "cell_type": "markdown",
   "id": "da274e41-0353-490f-b283-caad2c4e64a6",
   "metadata": {},
   "source": [
    "我想要用lstm的网络来预测收盘价。  \n",
    "x是价格对于，N日前的收盘价的比例\n",
    "y是收盘价  "
   ]
  },
  {
   "cell_type": "markdown",
   "id": "81745f3d-35b7-4bd3-aba0-6053d7916d97",
   "metadata": {},
   "source": [
    "# 获取数据"
   ]
  },
  {
   "cell_type": "code",
   "execution_count": 2,
   "id": "8fc35175-9977-48e5-9391-4ef7d904d49b",
   "metadata": {
    "execution": {
     "iopub.execute_input": "2025-03-01T14:50:44.827518Z",
     "iopub.status.busy": "2025-03-01T14:50:44.811519Z",
     "iopub.status.idle": "2025-03-01T14:50:44.887087Z",
     "shell.execute_reply": "2025-03-01T14:50:44.886088Z",
     "shell.execute_reply.started": "2025-03-01T14:50:44.827518Z"
    }
   },
   "outputs": [],
   "source": [
    "sys.path.append('../../')\n",
    "import  DataSource\n",
    "zz500 = DataSource.get_zz500_codes() # 我看中证500的数据\n",
    "# 我这里查看第一个股票的吧\n",
    "N = 60 # 多少日的数据\n",
    "# 我这里仅仅是记录如下的列的涨跌幅度\n",
    "rate_columns = ['open', 'high', 'low', 'close']\n",
    "close_index = rate_columns.index('close')\n",
    "input_size = len(rate_columns)\n",
    "seq_len = N    # 多少个时间序列的股票\n",
    "output_size = 1 # 我只是输出一个今天的收盘价相比较昨日的涨跌比率\n",
    "num_layers = 10 # 多少个gru合并\n",
    "hidden_size = 20 # 隐藏层的宽度\n",
    "batch_size = 16 # 一个批次有多少个数据\n",
    "lr = 0.0001"
   ]
  },
  {
   "cell_type": "code",
   "execution_count": 3,
   "id": "cbc7435a-50e9-4864-9f0f-21578f0a4afb",
   "metadata": {
    "execution": {
     "iopub.execute_input": "2025-03-01T14:50:44.894088Z",
     "iopub.status.busy": "2025-03-01T14:50:44.889092Z",
     "iopub.status.idle": "2025-03-01T14:50:44.943200Z",
     "shell.execute_reply": "2025-03-01T14:50:44.938212Z",
     "shell.execute_reply.started": "2025-03-01T14:50:44.894088Z"
    }
   },
   "outputs": [],
   "source": [
    "def get_loader(code_name, N=60, rate_columns=['open', 'high', 'low', 'close'], batch_size=16, train_rate=0.9):\n",
    "    dt = DataSource.get_data(code_name)\n",
    "    dt_list = []\n",
    "    for j in range(N+1):\n",
    "        # N+1表示要多一天，比如前面30天，我要看看第31天的收盘价相对于第一天的收盘价是什么比例\n",
    "        for i in rate_columns:\n",
    "            dt_tmp = pd.DataFrame({f'{i}_rate_{j}':(dt[f'{i}'].shift(-j) - dt[f'preclose'])/dt[f'preclose']})\n",
    "            dt_list.append(dt_tmp)\n",
    "    \n",
    "    dt2 = pd.concat(dt_list[:-(len(rate_columns))], axis=1)\n",
    "    # x\n",
    "    x_price = dt2.to_numpy()\n",
    "    x_price = x_price[:-(N+1)]\n",
    "    # 更改维度\n",
    "    x_shape_old = x_price.shape\n",
    "    x_shape_new_1 = x_shape_old[0]\n",
    "    x_shape_new_3 = len(rate_columns)\n",
    "    x_shape_new_2 = int(x_shape_old[1] / x_shape_new_3)\n",
    "    x_price = x_price.reshape((x_shape_new_1, x_shape_new_2, x_shape_new_3))\n",
    "    # y\n",
    "    y_close = dt_list[-(len(rate_columns)- close_index)][f'close_rate_{N}'].to_numpy()[:-(N+1)]\n",
    "    # 然后是批次的整数倍\n",
    "    _x_y_len = int(x_price.shape[0]/batch_size) * batch_size\n",
    "    \n",
    "    x_price = x_price[-_x_y_len:]\n",
    "    y_close = y_close[-_x_y_len:]\n",
    "    x_price = x_price.reshape(x_price.shape[0]//batch_size, batch_size, x_price.shape[1], x_price.shape[2])\n",
    "    y_close = y_close.reshape(y_close.shape[0]//batch_size, batch_size, 1)\n",
    "    # 做成加载器\n",
    "    dataset = Data.TensorDataset(torch.FloatTensor(x_price), torch.FloatTensor(y_close))\n",
    "    train_loader, test_loader = Data.random_split(dataset,\n",
    "                                                 lengths=[int(train_rate*len(dataset)), len(dataset)- int(train_rate*len(dataset))],\n",
    "                                                 generator=torch.Generator().manual_seed(0))\n",
    "    return train_loader, test_loader\n",
    "\n"
   ]
  },
  {
   "cell_type": "code",
   "execution_count": 4,
   "id": "98617e1f-1d6a-4212-991a-7f34eb2ff432",
   "metadata": {
    "execution": {
     "iopub.execute_input": "2025-03-01T14:50:44.955203Z",
     "iopub.status.busy": "2025-03-01T14:50:44.951203Z",
     "iopub.status.idle": "2025-03-01T14:50:44.979206Z",
     "shell.execute_reply": "2025-03-01T14:50:44.977203Z",
     "shell.execute_reply.started": "2025-03-01T14:50:44.955203Z"
    }
   },
   "outputs": [],
   "source": [
    "\n",
    "# 这里做一个网络\n",
    "import torch.nn as nn\n",
    "class GRUModel(nn.Module):\n",
    "    def __init__(self, input_size, hidden_size, num_layers, output_size):\n",
    "        super(GRUModel, self).__init__()\n",
    "        self.gru = nn.GRU(input_size, hidden_size, num_layers, batch_first=True)\n",
    "        self.fc = nn.Linear(hidden_size, output_size)\n",
    "    def forward(self, x):\n",
    "        out, _ = self.gru(x) # gru层\n",
    "        out = self.fc(out[:,-1, :]) # 全连接层\n",
    "        return out"
   ]
  },
  {
   "cell_type": "code",
   "execution_count": 5,
   "id": "5ee07afd-445d-4bde-b448-eb3af87f5729",
   "metadata": {
    "execution": {
     "iopub.execute_input": "2025-03-01T14:50:44.988203Z",
     "iopub.status.busy": "2025-03-01T14:50:44.987209Z",
     "iopub.status.idle": "2025-03-01T14:50:50.135881Z",
     "shell.execute_reply": "2025-03-01T14:50:50.133882Z",
     "shell.execute_reply.started": "2025-03-01T14:50:44.988203Z"
    }
   },
   "outputs": [],
   "source": [
    "# 训练\n",
    "device = torch.device(\"cuda:0\" if torch.cuda.is_available() else \"cpu\")\n",
    "net = GRUModel(input_size, hidden_size, num_layers, output_size).to(device)\n",
    "criterion = torch.nn.MSELoss() # 均方差误差函数\n",
    "optimizer = optim.Adam(net.parameters(), lr=lr)"
   ]
  },
  {
   "cell_type": "code",
   "execution_count": null,
   "id": "76b1792a-2d9a-4d84-be08-6ec43358ee57",
   "metadata": {},
   "outputs": [],
   "source": []
  },
  {
   "cell_type": "code",
   "execution_count": null,
   "id": "cb7e2e10-94e5-47d5-8c04-fb0f9700f9a4",
   "metadata": {},
   "outputs": [],
   "source": []
  },
  {
   "cell_type": "code",
   "execution_count": null,
   "id": "0e1fd95c-b582-4b2a-b4a2-116e8f077cd1",
   "metadata": {
    "execution": {
     "execution_failed": "2025-03-01T14:53:52.138Z",
     "iopub.execute_input": "2025-03-01T14:50:50.155880Z",
     "iopub.status.busy": "2025-03-01T14:50:50.137880Z"
    }
   },
   "outputs": [
    {
     "name": "stdout",
     "output_type": "stream",
     "text": [
      "tensor([[-0.0827],\n",
      "        [-0.0437],\n",
      "        [-0.0560],\n",
      "        [ 0.0256],\n",
      "        [ 0.0730],\n",
      "        [ 0.0673],\n",
      "        [ 0.0522],\n",
      "        [ 0.0405],\n",
      "        [ 0.1211],\n",
      "        [ 0.1922],\n",
      "        [ 0.1835],\n",
      "        [ 0.1038],\n",
      "        [ 0.1099],\n",
      "        [ 0.1358],\n",
      "        [ 0.1775],\n",
      "        [ 0.1811]], device='cuda:0')\n",
      "tensor([[0.0114],\n",
      "        [0.0243],\n",
      "        [0.0172],\n",
      "        [0.0814],\n",
      "        [0.1189],\n",
      "        [0.1506],\n",
      "        [0.1014],\n",
      "        [0.0981],\n",
      "        [0.1502],\n",
      "        [0.2384],\n",
      "        [0.2516],\n",
      "        [0.1511],\n",
      "        [0.1112],\n",
      "        [0.1530],\n",
      "        [0.1996],\n",
      "        [0.2304]], device='cuda:0')\n",
      "tensor([[0.0049],\n",
      "        [0.0369],\n",
      "        [0.0016],\n",
      "        [0.0753],\n",
      "        [0.1083],\n",
      "        [0.1042],\n",
      "        [0.1289],\n",
      "        [0.0837],\n",
      "        [0.1547],\n",
      "        [0.2004],\n",
      "        [0.2214],\n",
      "        [0.1742],\n",
      "        [0.1471],\n",
      "        [0.1227],\n",
      "        [0.1784],\n",
      "        [0.1944]], device='cuda:0')\n",
      "1: sh.600004,loss: 0.00311,real loss: 439.32381%, last close rate : 84.16504%\n"
     ]
    }
   ],
   "source": [
    "# 这里是遍历所有的股票\n",
    "for i_code in range(len(zz500)):\n",
    "    train_loader, test_loader = get_loader(zz500[i_code],batch_size=batch_size, train_rate=0.9)\n",
    "    # 我这里用测试集来测试\n",
    "    for epoch in range(10):  # 迭代\n",
    "        running_loss_2 = []\n",
    "        for i, data in enumerate(train_loader, 0):\n",
    "                # 获取输入\n",
    "                inputs, labels = data\n",
    "                inputs = inputs.to(device)\n",
    "                labels = labels.to(device)\n",
    "                # 正向传播，反向传播，优化\n",
    "                optimizer.zero_grad()\n",
    "                outputs = net(inputs)\n",
    "                loss = criterion(outputs, labels)\n",
    "                loss.backward()\n",
    "                optimizer.step()\n",
    "    # 保存参数\n",
    "    import os\n",
    "    model_path = os.path.join('./模型', f\"{zz500[i_code]}.pth\")\n",
    "    torch.save({'model': net.state_dict()}, model_path)\n",
    "    \n",
    "    # 这里测试\n",
    "    with torch.no_grad():\n",
    "        running_loss_2 = []\n",
    "        for i, data in enumerate(test_loader, 0):\n",
    "            # 获取输入\n",
    "            inputs, labels = data\n",
    "            inputs = inputs.to(device)\n",
    "            labels = labels.to(device)\n",
    "            # 正向传播，反向传播，优化\n",
    "            outputs = net(inputs)\n",
    "            loss = criterion(outputs, labels)\n",
    "            running_loss_2.append(loss.item())\n",
    "        # 每一次显示一下损失的最大值和最小值,以及实际上的损失情况,损失是loss，这个是期望值和实际值的均方误差,然后用这个来除以最后的收盘价\n",
    "        last_close = inputs[:, -1, close_index] # 取得最后的收盘价\n",
    "        last_close2 = torch.reshape(last_close, outputs.shape) # 将\n",
    "        real_loss_rate = torch.abs(outputs-labels)/last_close2\n",
    "        real_loss_rate_2 = (sum(real_loss_rate)/len(real_loss_rate)).item() * 100\n",
    "        # \n",
    "        last_close_rate = torch.abs(labels-last_close2)/last_close2\n",
    "        last_close_rate_2 = (sum(last_close_rate)/len(last_close_rate)).item() * 100\n",
    "        #\n",
    "        print(f'{i_code+1}: {zz500[i_code]},real loss: {real_loss_rate_2:.5f}%, last close rate : {last_close_rate_2:.5f}%')\n",
    "        print(outputs)\n",
    "        print(labels)\n",
    "        print(last_close2)\n",
    "        break\n",
    "        print('结果离谱')\n"
   ]
  },
  {
   "cell_type": "code",
   "execution_count": null,
   "id": "cb0a2f64-339a-4417-b994-43df600942b6",
   "metadata": {},
   "outputs": [],
   "source": []
  },
  {
   "cell_type": "code",
   "execution_count": null,
   "id": "3e88c456-689b-463c-b600-04dcb604b7ea",
   "metadata": {},
   "outputs": [],
   "source": []
  }
 ],
 "metadata": {
  "kernelspec": {
   "display_name": "Python 3 (ipykernel)",
   "language": "python",
   "name": "python3"
  },
  "language_info": {
   "codemirror_mode": {
    "name": "ipython",
    "version": 3
   },
   "file_extension": ".py",
   "mimetype": "text/x-python",
   "name": "python",
   "nbconvert_exporter": "python",
   "pygments_lexer": "ipython3",
   "version": "3.11.5"
  }
 },
 "nbformat": 4,
 "nbformat_minor": 5
}
