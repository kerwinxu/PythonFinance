{
 "cells": [
  {
   "cell_type": "code",
   "execution_count": 50,
   "id": "b3c174de-7aad-43eb-80bd-09b299f1fb97",
   "metadata": {
    "execution": {
     "iopub.execute_input": "2025-03-01T15:45:54.684074Z",
     "iopub.status.busy": "2025-03-01T15:45:54.682073Z",
     "iopub.status.idle": "2025-03-01T15:45:54.706136Z",
     "shell.execute_reply": "2025-03-01T15:45:54.704142Z",
     "shell.execute_reply.started": "2025-03-01T15:45:54.684074Z"
    }
   },
   "outputs": [],
   "source": [
    "import sys\n",
    "import pandas as pd\n",
    "import numpy as np\n",
    "import torch\n",
    "import torch.nn as nn\n",
    "import torch.optim as optim\n",
    "import talib\n",
    "import torch.utils.data as Data\n",
    "sys.path.append('../../')\n",
    "import  DataSource\n",
    "zz500 = DataSource.get_zz500_codes() # 我看中证500的数据\n",
    "# 我这里查看第一个股票的吧\n",
    "N = 60 # 多少日的数据\n",
    "# 我这里仅仅是记录如下的列的涨跌幅度\n",
    "rate_columns = ['open', 'high', 'low', 'close']\n",
    "close_index = rate_columns.index('close')\n",
    "input_size = len(rate_columns)\n",
    "seq_len = N    # 多少个时间序列的股票\n",
    "output_size = 1 # 我只是输出一个今天的收盘价相比较昨日的涨跌比率\n",
    "num_layers = 10 # 多少个gru合并\n",
    "hidden_size = 20 # 隐藏层的宽度\n",
    "batch_size = 16 # 一个批次有多少个数据\n",
    "lr = 0.0001"
   ]
  },
  {
   "cell_type": "code",
   "execution_count": 51,
   "id": "9df67f67-8a9a-4e17-b3ab-925f6ae51d44",
   "metadata": {
    "execution": {
     "iopub.execute_input": "2025-03-01T15:45:54.712136Z",
     "iopub.status.busy": "2025-03-01T15:45:54.710137Z",
     "iopub.status.idle": "2025-03-01T15:45:54.812135Z",
     "shell.execute_reply": "2025-03-01T15:45:54.809136Z",
     "shell.execute_reply.started": "2025-03-01T15:45:54.712136Z"
    }
   },
   "outputs": [
    {
     "data": {
      "text/html": [
       "<div>\n",
       "<style scoped>\n",
       "    .dataframe tbody tr th:only-of-type {\n",
       "        vertical-align: middle;\n",
       "    }\n",
       "\n",
       "    .dataframe tbody tr th {\n",
       "        vertical-align: top;\n",
       "    }\n",
       "\n",
       "    .dataframe thead th {\n",
       "        text-align: right;\n",
       "    }\n",
       "</style>\n",
       "<table border=\"1\" class=\"dataframe\">\n",
       "  <thead>\n",
       "    <tr style=\"text-align: right;\">\n",
       "      <th></th>\n",
       "      <th>code</th>\n",
       "      <th>open</th>\n",
       "      <th>high</th>\n",
       "      <th>low</th>\n",
       "      <th>close</th>\n",
       "      <th>preclose</th>\n",
       "      <th>volume</th>\n",
       "      <th>amount</th>\n",
       "      <th>adjustflag</th>\n",
       "      <th>turn</th>\n",
       "      <th>tradestatus</th>\n",
       "      <th>pctChg</th>\n",
       "      <th>isST</th>\n",
       "    </tr>\n",
       "    <tr>\n",
       "      <th>date</th>\n",
       "      <th></th>\n",
       "      <th></th>\n",
       "      <th></th>\n",
       "      <th></th>\n",
       "      <th></th>\n",
       "      <th></th>\n",
       "      <th></th>\n",
       "      <th></th>\n",
       "      <th></th>\n",
       "      <th></th>\n",
       "      <th></th>\n",
       "      <th></th>\n",
       "      <th></th>\n",
       "    </tr>\n",
       "  </thead>\n",
       "  <tbody>\n",
       "    <tr>\n",
       "      <th>2010-01-04</th>\n",
       "      <td>sh.600004</td>\n",
       "      <td>5.046509</td>\n",
       "      <td>5.111144</td>\n",
       "      <td>5.041537</td>\n",
       "      <td>5.046509</td>\n",
       "      <td>5.046509</td>\n",
       "      <td>15478854</td>\n",
       "      <td>157747809.0</td>\n",
       "      <td>2</td>\n",
       "      <td>1.525010</td>\n",
       "      <td>1</td>\n",
       "      <td>0.0000</td>\n",
       "      <td>0</td>\n",
       "    </tr>\n",
       "    <tr>\n",
       "      <th>2010-01-05</th>\n",
       "      <td>sh.600004</td>\n",
       "      <td>5.046509</td>\n",
       "      <td>5.091256</td>\n",
       "      <td>5.041537</td>\n",
       "      <td>5.066397</td>\n",
       "      <td>5.046509</td>\n",
       "      <td>11070922</td>\n",
       "      <td>112683563.0</td>\n",
       "      <td>2</td>\n",
       "      <td>1.090731</td>\n",
       "      <td>1</td>\n",
       "      <td>0.3941</td>\n",
       "      <td>0</td>\n",
       "    </tr>\n",
       "    <tr>\n",
       "      <th>2010-01-06</th>\n",
       "      <td>sh.600004</td>\n",
       "      <td>5.056453</td>\n",
       "      <td>5.066397</td>\n",
       "      <td>4.981874</td>\n",
       "      <td>4.991818</td>\n",
       "      <td>5.066397</td>\n",
       "      <td>9410665</td>\n",
       "      <td>95205863.0</td>\n",
       "      <td>2</td>\n",
       "      <td>0.927159</td>\n",
       "      <td>1</td>\n",
       "      <td>-1.4720</td>\n",
       "      <td>0</td>\n",
       "    </tr>\n",
       "    <tr>\n",
       "      <th>2010-01-07</th>\n",
       "      <td>sh.600004</td>\n",
       "      <td>4.971930</td>\n",
       "      <td>4.996790</td>\n",
       "      <td>4.827744</td>\n",
       "      <td>4.862548</td>\n",
       "      <td>4.991818</td>\n",
       "      <td>8961813</td>\n",
       "      <td>88611912.0</td>\n",
       "      <td>2</td>\n",
       "      <td>0.882937</td>\n",
       "      <td>1</td>\n",
       "      <td>-2.5896</td>\n",
       "      <td>0</td>\n",
       "    </tr>\n",
       "    <tr>\n",
       "      <th>2010-01-08</th>\n",
       "      <td>sh.600004</td>\n",
       "      <td>4.837688</td>\n",
       "      <td>5.096228</td>\n",
       "      <td>4.837688</td>\n",
       "      <td>5.061425</td>\n",
       "      <td>4.862548</td>\n",
       "      <td>14923812</td>\n",
       "      <td>149969456.0</td>\n",
       "      <td>2</td>\n",
       "      <td>1.470326</td>\n",
       "      <td>1</td>\n",
       "      <td>4.0900</td>\n",
       "      <td>0</td>\n",
       "    </tr>\n",
       "  </tbody>\n",
       "</table>\n",
       "</div>"
      ],
      "text/plain": [
       "                 code      open      high       low     close  preclose  \\\n",
       "date                                                                      \n",
       "2010-01-04  sh.600004  5.046509  5.111144  5.041537  5.046509  5.046509   \n",
       "2010-01-05  sh.600004  5.046509  5.091256  5.041537  5.066397  5.046509   \n",
       "2010-01-06  sh.600004  5.056453  5.066397  4.981874  4.991818  5.066397   \n",
       "2010-01-07  sh.600004  4.971930  4.996790  4.827744  4.862548  4.991818   \n",
       "2010-01-08  sh.600004  4.837688  5.096228  4.837688  5.061425  4.862548   \n",
       "\n",
       "              volume       amount  adjustflag      turn  tradestatus  pctChg  \\\n",
       "date                                                                           \n",
       "2010-01-04  15478854  157747809.0           2  1.525010            1  0.0000   \n",
       "2010-01-05  11070922  112683563.0           2  1.090731            1  0.3941   \n",
       "2010-01-06   9410665   95205863.0           2  0.927159            1 -1.4720   \n",
       "2010-01-07   8961813   88611912.0           2  0.882937            1 -2.5896   \n",
       "2010-01-08  14923812  149969456.0           2  1.470326            1  4.0900   \n",
       "\n",
       "            isST  \n",
       "date              \n",
       "2010-01-04     0  \n",
       "2010-01-05     0  \n",
       "2010-01-06     0  \n",
       "2010-01-07     0  \n",
       "2010-01-08     0  "
      ]
     },
     "execution_count": 51,
     "metadata": {},
     "output_type": "execute_result"
    }
   ],
   "source": [
    "dt = DataSource.get_data('sh.600004')\n",
    "dt.head()"
   ]
  },
  {
   "cell_type": "code",
   "execution_count": 52,
   "id": "9ee47fac-dc32-45e1-b8b9-3909ae864eb9",
   "metadata": {
    "execution": {
     "iopub.execute_input": "2025-03-01T15:45:54.817138Z",
     "iopub.status.busy": "2025-03-01T15:45:54.816143Z",
     "iopub.status.idle": "2025-03-01T15:45:55.238272Z",
     "shell.execute_reply": "2025-03-01T15:45:55.236277Z",
     "shell.execute_reply.started": "2025-03-01T15:45:54.817138Z"
    }
   },
   "outputs": [
    {
     "data": {
      "text/html": [
       "<div>\n",
       "<style scoped>\n",
       "    .dataframe tbody tr th:only-of-type {\n",
       "        vertical-align: middle;\n",
       "    }\n",
       "\n",
       "    .dataframe tbody tr th {\n",
       "        vertical-align: top;\n",
       "    }\n",
       "\n",
       "    .dataframe thead th {\n",
       "        text-align: right;\n",
       "    }\n",
       "</style>\n",
       "<table border=\"1\" class=\"dataframe\">\n",
       "  <thead>\n",
       "    <tr style=\"text-align: right;\">\n",
       "      <th></th>\n",
       "      <th>open_rate_0</th>\n",
       "      <th>high_rate_0</th>\n",
       "      <th>low_rate_0</th>\n",
       "      <th>close_rate_0</th>\n",
       "      <th>open_rate_1</th>\n",
       "      <th>high_rate_1</th>\n",
       "      <th>low_rate_1</th>\n",
       "      <th>close_rate_1</th>\n",
       "      <th>open_rate_2</th>\n",
       "      <th>high_rate_2</th>\n",
       "      <th>...</th>\n",
       "      <th>low_rate_57</th>\n",
       "      <th>close_rate_57</th>\n",
       "      <th>open_rate_58</th>\n",
       "      <th>high_rate_58</th>\n",
       "      <th>low_rate_58</th>\n",
       "      <th>close_rate_58</th>\n",
       "      <th>open_rate_59</th>\n",
       "      <th>high_rate_59</th>\n",
       "      <th>low_rate_59</th>\n",
       "      <th>close_rate_59</th>\n",
       "    </tr>\n",
       "    <tr>\n",
       "      <th>date</th>\n",
       "      <th></th>\n",
       "      <th></th>\n",
       "      <th></th>\n",
       "      <th></th>\n",
       "      <th></th>\n",
       "      <th></th>\n",
       "      <th></th>\n",
       "      <th></th>\n",
       "      <th></th>\n",
       "      <th></th>\n",
       "      <th></th>\n",
       "      <th></th>\n",
       "      <th></th>\n",
       "      <th></th>\n",
       "      <th></th>\n",
       "      <th></th>\n",
       "      <th></th>\n",
       "      <th></th>\n",
       "      <th></th>\n",
       "      <th></th>\n",
       "      <th></th>\n",
       "    </tr>\n",
       "  </thead>\n",
       "  <tbody>\n",
       "    <tr>\n",
       "      <th>2010-01-04</th>\n",
       "      <td>0.000000</td>\n",
       "      <td>0.012808</td>\n",
       "      <td>-0.000985</td>\n",
       "      <td>0.000000</td>\n",
       "      <td>0.000000</td>\n",
       "      <td>0.008867</td>\n",
       "      <td>-0.000985</td>\n",
       "      <td>0.003941</td>\n",
       "      <td>0.001970</td>\n",
       "      <td>0.003941</td>\n",
       "      <td>...</td>\n",
       "      <td>0.115271</td>\n",
       "      <td>0.121182</td>\n",
       "      <td>0.119212</td>\n",
       "      <td>0.135961</td>\n",
       "      <td>0.117241</td>\n",
       "      <td>0.134975</td>\n",
       "      <td>0.133005</td>\n",
       "      <td>0.151724</td>\n",
       "      <td>0.129064</td>\n",
       "      <td>0.150739</td>\n",
       "    </tr>\n",
       "    <tr>\n",
       "      <th>2010-01-05</th>\n",
       "      <td>0.000000</td>\n",
       "      <td>0.008867</td>\n",
       "      <td>-0.000985</td>\n",
       "      <td>0.003941</td>\n",
       "      <td>0.001970</td>\n",
       "      <td>0.003941</td>\n",
       "      <td>-0.012808</td>\n",
       "      <td>-0.010837</td>\n",
       "      <td>-0.014778</td>\n",
       "      <td>-0.009852</td>\n",
       "      <td>...</td>\n",
       "      <td>0.117241</td>\n",
       "      <td>0.134975</td>\n",
       "      <td>0.133005</td>\n",
       "      <td>0.151724</td>\n",
       "      <td>0.129064</td>\n",
       "      <td>0.150739</td>\n",
       "      <td>0.151724</td>\n",
       "      <td>0.158621</td>\n",
       "      <td>0.139901</td>\n",
       "      <td>0.157635</td>\n",
       "    </tr>\n",
       "    <tr>\n",
       "      <th>2010-01-06</th>\n",
       "      <td>-0.001963</td>\n",
       "      <td>0.000000</td>\n",
       "      <td>-0.016683</td>\n",
       "      <td>-0.014720</td>\n",
       "      <td>-0.018646</td>\n",
       "      <td>-0.013739</td>\n",
       "      <td>-0.047105</td>\n",
       "      <td>-0.040236</td>\n",
       "      <td>-0.045142</td>\n",
       "      <td>0.005888</td>\n",
       "      <td>...</td>\n",
       "      <td>0.124632</td>\n",
       "      <td>0.146222</td>\n",
       "      <td>0.147203</td>\n",
       "      <td>0.154073</td>\n",
       "      <td>0.135427</td>\n",
       "      <td>0.153091</td>\n",
       "      <td>0.151129</td>\n",
       "      <td>0.151129</td>\n",
       "      <td>0.132483</td>\n",
       "      <td>0.141315</td>\n",
       "    </tr>\n",
       "    <tr>\n",
       "      <th>2010-01-07</th>\n",
       "      <td>-0.003984</td>\n",
       "      <td>0.000996</td>\n",
       "      <td>-0.032869</td>\n",
       "      <td>-0.025896</td>\n",
       "      <td>-0.030876</td>\n",
       "      <td>0.020916</td>\n",
       "      <td>-0.030876</td>\n",
       "      <td>0.013944</td>\n",
       "      <td>0.021912</td>\n",
       "      <td>0.041833</td>\n",
       "      <td>...</td>\n",
       "      <td>0.152390</td>\n",
       "      <td>0.170319</td>\n",
       "      <td>0.168327</td>\n",
       "      <td>0.168327</td>\n",
       "      <td>0.149402</td>\n",
       "      <td>0.158367</td>\n",
       "      <td>0.157371</td>\n",
       "      <td>0.159363</td>\n",
       "      <td>0.137450</td>\n",
       "      <td>0.139442</td>\n",
       "    </tr>\n",
       "    <tr>\n",
       "      <th>2010-01-08</th>\n",
       "      <td>-0.005112</td>\n",
       "      <td>0.048057</td>\n",
       "      <td>-0.005112</td>\n",
       "      <td>0.040900</td>\n",
       "      <td>0.049080</td>\n",
       "      <td>0.069530</td>\n",
       "      <td>0.040900</td>\n",
       "      <td>0.062372</td>\n",
       "      <td>0.056237</td>\n",
       "      <td>0.070552</td>\n",
       "      <td>...</td>\n",
       "      <td>0.179959</td>\n",
       "      <td>0.189162</td>\n",
       "      <td>0.188139</td>\n",
       "      <td>0.190184</td>\n",
       "      <td>0.167689</td>\n",
       "      <td>0.169734</td>\n",
       "      <td>0.173824</td>\n",
       "      <td>0.188139</td>\n",
       "      <td>0.170757</td>\n",
       "      <td>0.186094</td>\n",
       "    </tr>\n",
       "  </tbody>\n",
       "</table>\n",
       "<p>5 rows × 240 columns</p>\n",
       "</div>"
      ],
      "text/plain": [
       "            open_rate_0  high_rate_0  low_rate_0  close_rate_0  open_rate_1  \\\n",
       "date                                                                          \n",
       "2010-01-04     0.000000     0.012808   -0.000985      0.000000     0.000000   \n",
       "2010-01-05     0.000000     0.008867   -0.000985      0.003941     0.001970   \n",
       "2010-01-06    -0.001963     0.000000   -0.016683     -0.014720    -0.018646   \n",
       "2010-01-07    -0.003984     0.000996   -0.032869     -0.025896    -0.030876   \n",
       "2010-01-08    -0.005112     0.048057   -0.005112      0.040900     0.049080   \n",
       "\n",
       "            high_rate_1  low_rate_1  close_rate_1  open_rate_2  high_rate_2  \\\n",
       "date                                                                          \n",
       "2010-01-04     0.008867   -0.000985      0.003941     0.001970     0.003941   \n",
       "2010-01-05     0.003941   -0.012808     -0.010837    -0.014778    -0.009852   \n",
       "2010-01-06    -0.013739   -0.047105     -0.040236    -0.045142     0.005888   \n",
       "2010-01-07     0.020916   -0.030876      0.013944     0.021912     0.041833   \n",
       "2010-01-08     0.069530    0.040900      0.062372     0.056237     0.070552   \n",
       "\n",
       "            ...  low_rate_57  close_rate_57  open_rate_58  high_rate_58  \\\n",
       "date        ...                                                           \n",
       "2010-01-04  ...     0.115271       0.121182      0.119212      0.135961   \n",
       "2010-01-05  ...     0.117241       0.134975      0.133005      0.151724   \n",
       "2010-01-06  ...     0.124632       0.146222      0.147203      0.154073   \n",
       "2010-01-07  ...     0.152390       0.170319      0.168327      0.168327   \n",
       "2010-01-08  ...     0.179959       0.189162      0.188139      0.190184   \n",
       "\n",
       "            low_rate_58  close_rate_58  open_rate_59  high_rate_59  \\\n",
       "date                                                                 \n",
       "2010-01-04     0.117241       0.134975      0.133005      0.151724   \n",
       "2010-01-05     0.129064       0.150739      0.151724      0.158621   \n",
       "2010-01-06     0.135427       0.153091      0.151129      0.151129   \n",
       "2010-01-07     0.149402       0.158367      0.157371      0.159363   \n",
       "2010-01-08     0.167689       0.169734      0.173824      0.188139   \n",
       "\n",
       "            low_rate_59  close_rate_59  \n",
       "date                                    \n",
       "2010-01-04     0.129064       0.150739  \n",
       "2010-01-05     0.139901       0.157635  \n",
       "2010-01-06     0.132483       0.141315  \n",
       "2010-01-07     0.137450       0.139442  \n",
       "2010-01-08     0.170757       0.186094  \n",
       "\n",
       "[5 rows x 240 columns]"
      ]
     },
     "execution_count": 52,
     "metadata": {},
     "output_type": "execute_result"
    }
   ],
   "source": [
    "dt_list = []\n",
    "for j in range(N+1):\n",
    "    # N+1表示要多一天，比如前面30天，我要看看第31天的收盘价相对于第一天的收盘价是什么比例\n",
    "    for i in rate_columns:\n",
    "        dt_tmp = pd.DataFrame({f'{i}_rate_{j}':(dt[f'{i}'].shift(-j) - dt[f'preclose'])/dt[f'preclose']})\n",
    "        dt_list.append(dt_tmp)\n",
    "\n",
    "dt2 = pd.concat(dt_list[:-(len(rate_columns))], axis=1)\n",
    "dt2.head()"
   ]
  },
  {
   "cell_type": "code",
   "execution_count": 53,
   "id": "33b77992-ad64-4371-945a-d2b4523a026b",
   "metadata": {
    "execution": {
     "iopub.execute_input": "2025-03-01T15:45:55.248273Z",
     "iopub.status.busy": "2025-03-01T15:45:55.247275Z",
     "iopub.status.idle": "2025-03-01T15:45:55.288272Z",
     "shell.execute_reply": "2025-03-01T15:45:55.279273Z",
     "shell.execute_reply.started": "2025-03-01T15:45:55.248273Z"
    }
   },
   "outputs": [
    {
     "data": {
      "text/plain": [
       "-1"
      ]
     },
     "execution_count": 53,
     "metadata": {},
     "output_type": "execute_result"
    }
   ],
   "source": [
    "-(len(rate_columns)- close_index)"
   ]
  },
  {
   "cell_type": "code",
   "execution_count": 54,
   "id": "53a5ff6e-79a2-4174-a9aa-5c70f023775d",
   "metadata": {
    "execution": {
     "iopub.execute_input": "2025-03-01T15:45:55.307273Z",
     "iopub.status.busy": "2025-03-01T15:45:55.306272Z",
     "iopub.status.idle": "2025-03-01T15:45:55.347272Z",
     "shell.execute_reply": "2025-03-01T15:45:55.340274Z",
     "shell.execute_reply.started": "2025-03-01T15:45:55.307273Z"
    }
   },
   "outputs": [
    {
     "data": {
      "text/html": [
       "<div>\n",
       "<style scoped>\n",
       "    .dataframe tbody tr th:only-of-type {\n",
       "        vertical-align: middle;\n",
       "    }\n",
       "\n",
       "    .dataframe tbody tr th {\n",
       "        vertical-align: top;\n",
       "    }\n",
       "\n",
       "    .dataframe thead th {\n",
       "        text-align: right;\n",
       "    }\n",
       "</style>\n",
       "<table border=\"1\" class=\"dataframe\">\n",
       "  <thead>\n",
       "    <tr style=\"text-align: right;\">\n",
       "      <th></th>\n",
       "      <th>close_rate_60</th>\n",
       "    </tr>\n",
       "    <tr>\n",
       "      <th>date</th>\n",
       "      <th></th>\n",
       "    </tr>\n",
       "  </thead>\n",
       "  <tbody>\n",
       "    <tr>\n",
       "      <th>2010-01-04</th>\n",
       "      <td>0.157635</td>\n",
       "    </tr>\n",
       "    <tr>\n",
       "      <th>2010-01-05</th>\n",
       "      <td>0.145813</td>\n",
       "    </tr>\n",
       "    <tr>\n",
       "      <th>2010-01-06</th>\n",
       "      <td>0.122669</td>\n",
       "    </tr>\n",
       "    <tr>\n",
       "      <th>2010-01-07</th>\n",
       "      <td>0.155378</td>\n",
       "    </tr>\n",
       "    <tr>\n",
       "      <th>2010-01-08</th>\n",
       "      <td>0.218814</td>\n",
       "    </tr>\n",
       "  </tbody>\n",
       "</table>\n",
       "</div>"
      ],
      "text/plain": [
       "            close_rate_60\n",
       "date                     \n",
       "2010-01-04       0.157635\n",
       "2010-01-05       0.145813\n",
       "2010-01-06       0.122669\n",
       "2010-01-07       0.155378\n",
       "2010-01-08       0.218814"
      ]
     },
     "execution_count": 54,
     "metadata": {},
     "output_type": "execute_result"
    }
   ],
   "source": [
    "dt_list[-1].head()"
   ]
  },
  {
   "cell_type": "code",
   "execution_count": 55,
   "id": "540a06e7-aac3-4a33-80f6-b346c963ac4b",
   "metadata": {
    "execution": {
     "iopub.execute_input": "2025-03-01T15:45:55.359275Z",
     "iopub.status.busy": "2025-03-01T15:45:55.355274Z",
     "iopub.status.idle": "2025-03-01T15:45:55.403803Z",
     "shell.execute_reply": "2025-03-01T15:45:55.400808Z",
     "shell.execute_reply.started": "2025-03-01T15:45:55.359275Z"
    }
   },
   "outputs": [
    {
     "data": {
      "text/html": [
       "<div>\n",
       "<style scoped>\n",
       "    .dataframe tbody tr th:only-of-type {\n",
       "        vertical-align: middle;\n",
       "    }\n",
       "\n",
       "    .dataframe tbody tr th {\n",
       "        vertical-align: top;\n",
       "    }\n",
       "\n",
       "    .dataframe thead th {\n",
       "        text-align: right;\n",
       "    }\n",
       "</style>\n",
       "<table border=\"1\" class=\"dataframe\">\n",
       "  <thead>\n",
       "    <tr style=\"text-align: right;\">\n",
       "      <th></th>\n",
       "      <th>close_rate_60</th>\n",
       "    </tr>\n",
       "    <tr>\n",
       "      <th>date</th>\n",
       "      <th></th>\n",
       "    </tr>\n",
       "  </thead>\n",
       "  <tbody>\n",
       "    <tr>\n",
       "      <th>2010-01-04</th>\n",
       "      <td>0.157635</td>\n",
       "    </tr>\n",
       "    <tr>\n",
       "      <th>2010-01-05</th>\n",
       "      <td>0.145813</td>\n",
       "    </tr>\n",
       "    <tr>\n",
       "      <th>2010-01-06</th>\n",
       "      <td>0.122669</td>\n",
       "    </tr>\n",
       "    <tr>\n",
       "      <th>2010-01-07</th>\n",
       "      <td>0.155378</td>\n",
       "    </tr>\n",
       "    <tr>\n",
       "      <th>2010-01-08</th>\n",
       "      <td>0.218814</td>\n",
       "    </tr>\n",
       "  </tbody>\n",
       "</table>\n",
       "</div>"
      ],
      "text/plain": [
       "            close_rate_60\n",
       "date                     \n",
       "2010-01-04       0.157635\n",
       "2010-01-05       0.145813\n",
       "2010-01-06       0.122669\n",
       "2010-01-07       0.155378\n",
       "2010-01-08       0.218814"
      ]
     },
     "execution_count": 55,
     "metadata": {},
     "output_type": "execute_result"
    }
   ],
   "source": [
    "y_close = dt_list[-(len(rate_columns)- close_index)]\n",
    "y_close.head()"
   ]
  },
  {
   "cell_type": "code",
   "execution_count": 56,
   "id": "0b5292e7-967b-49a1-8458-8e800991004e",
   "metadata": {
    "execution": {
     "iopub.execute_input": "2025-03-01T15:45:55.415806Z",
     "iopub.status.busy": "2025-03-01T15:45:55.407806Z",
     "iopub.status.idle": "2025-03-01T15:45:55.472807Z",
     "shell.execute_reply": "2025-03-01T15:45:55.469803Z",
     "shell.execute_reply.started": "2025-03-01T15:45:55.414805Z"
    }
   },
   "outputs": [
    {
     "data": {
      "text/plain": [
       "array([[ 0.        ,  0.01280788, -0.00098522,  0.        ],\n",
       "       [ 0.        ,  0.008867  , -0.00098522,  0.00394089],\n",
       "       [ 0.00197044,  0.00394089, -0.01280788, -0.01083744],\n",
       "       [-0.01477833, -0.00985222, -0.04334975, -0.0364532 ],\n",
       "       [-0.04137931,  0.00985222, -0.04137931,  0.00295567],\n",
       "       [ 0.01083744,  0.03054187,  0.00295567,  0.02364532],\n",
       "       [ 0.01773399,  0.03152709,  0.00985222,  0.03054187],\n",
       "       [ 0.01083744,  0.03448276,  0.00591133,  0.01576355],\n",
       "       [ 0.01477833,  0.05714286,  0.01280788,  0.05221675],\n",
       "       [ 0.05123153,  0.05714286,  0.03743842,  0.04433498],\n",
       "       [ 0.04433498,  0.09162562,  0.03448276,  0.07980296],\n",
       "       [ 0.07389163,  0.10344828,  0.06896552,  0.09359606],\n",
       "       [ 0.0955665 ,  0.09950739,  0.0729064 ,  0.08275862],\n",
       "       [ 0.10837438,  0.1182266 ,  0.06403941,  0.0679803 ],\n",
       "       [ 0.07389163,  0.1408867 ,  0.06502463,  0.09162562],\n",
       "       [ 0.09458128,  0.11133005,  0.04334975,  0.0453202 ],\n",
       "       [ 0.0453202 ,  0.05714286,  0.00492611,  0.02364532],\n",
       "       [ 0.02463054,  0.03349754,  0.00591133,  0.01280788],\n",
       "       [ 0.01280788,  0.05714286,  0.00492611,  0.05517241],\n",
       "       [ 0.04433498,  0.0729064 ,  0.03940887,  0.05517241],\n",
       "       [ 0.05024631,  0.09458128,  0.02857143,  0.07881773],\n",
       "       [ 0.07980296,  0.09261084,  0.05221675,  0.0591133 ],\n",
       "       [ 0.06009852,  0.09852217,  0.02463054,  0.09753695],\n",
       "       [ 0.09359606,  0.13990148,  0.08374384,  0.11527094],\n",
       "       [ 0.09162562,  0.11133005,  0.06009852,  0.07881773],\n",
       "       [ 0.07881773,  0.09655172,  0.06995074,  0.0729064 ],\n",
       "       [ 0.07389163,  0.12019704,  0.06305419,  0.1044335 ],\n",
       "       [ 0.11231527,  0.12118227,  0.10049261,  0.11330049],\n",
       "       [ 0.11724138,  0.12315271,  0.08374384,  0.09064039],\n",
       "       [ 0.09458128,  0.10246305,  0.07881773,  0.09852217],\n",
       "       [ 0.09261084,  0.13891626,  0.08374384,  0.11724138],\n",
       "       [ 0.1182266 ,  0.1320197 ,  0.09852217,  0.12807882],\n",
       "       [ 0.12118227,  0.13694581,  0.11428571,  0.13596059],\n",
       "       [ 0.13596059,  0.16059113,  0.13399015,  0.13990148],\n",
       "       [ 0.14187192,  0.16748768,  0.12315271,  0.16059113],\n",
       "       [ 0.16157635,  0.20985222,  0.15369458,  0.19605911],\n",
       "       [ 0.19507389,  0.2       ,  0.16945813,  0.18226601],\n",
       "       [ 0.18226601,  0.21773399,  0.17536946,  0.2       ],\n",
       "       [ 0.21280788,  0.21280788,  0.15270936,  0.1635468 ],\n",
       "       [ 0.17044335,  0.18226601,  0.15073892,  0.17142857],\n",
       "       [ 0.17635468,  0.20098522,  0.16847291,  0.1773399 ],\n",
       "       [ 0.17536946,  0.17635468,  0.14679803,  0.15270936],\n",
       "       [ 0.15270936,  0.16059113,  0.13399015,  0.14876847],\n",
       "       [ 0.14778325,  0.15960591,  0.13793103,  0.14187192],\n",
       "       [ 0.14876847,  0.15270936,  0.1182266 ,  0.12019704],\n",
       "       [ 0.12216749,  0.1408867 ,  0.12118227,  0.13004926],\n",
       "       [ 0.13300493,  0.1546798 ,  0.13004926,  0.14679803],\n",
       "       [ 0.1546798 ,  0.17044335,  0.15172414,  0.16650246],\n",
       "       [ 0.17044335,  0.17142857,  0.15369458,  0.16059113],\n",
       "       [ 0.15960591,  0.16945813,  0.15566502,  0.16650246],\n",
       "       [ 0.17241379,  0.18226601,  0.15073892,  0.16059113],\n",
       "       [ 0.15862069,  0.16256158,  0.1408867 ,  0.15073892],\n",
       "       [ 0.15073892,  0.16059113,  0.14285714,  0.14482759],\n",
       "       [ 0.13793103,  0.1408867 ,  0.1044335 ,  0.10837438],\n",
       "       [ 0.10541872,  0.13596059,  0.10541872,  0.1270936 ],\n",
       "       [ 0.13300493,  0.14778325,  0.12807882,  0.14482759],\n",
       "       [ 0.14285714,  0.14285714,  0.12807882,  0.13596059],\n",
       "       [ 0.13300493,  0.13300493,  0.11527094,  0.12118227],\n",
       "       [ 0.11921182,  0.13596059,  0.11724138,  0.13497537],\n",
       "       [ 0.13300493,  0.15172414,  0.12906404,  0.15073892]])"
      ]
     },
     "execution_count": 56,
     "metadata": {},
     "output_type": "execute_result"
    }
   ],
   "source": [
    "x_price = dt2.to_numpy()\n",
    "x_price = x_price[:-(N+1)]\n",
    "# 更改维度\n",
    "x_shape_old = x_price.shape\n",
    "x_shape_new_1 = x_shape_old[0]\n",
    "x_shape_new_3 = len(rate_columns)\n",
    "x_shape_new_2 = int(x_shape_old[1] / x_shape_new_3)\n",
    "x_price = x_price.reshape((x_shape_new_1, x_shape_new_2, x_shape_new_3))\n",
    "x_price[0]"
   ]
  },
  {
   "cell_type": "code",
   "execution_count": 57,
   "id": "f1e63015-a006-472d-bc6a-b1dff35a08f2",
   "metadata": {
    "execution": {
     "iopub.execute_input": "2025-03-01T15:45:55.476805Z",
     "iopub.status.busy": "2025-03-01T15:45:55.474806Z",
     "iopub.status.idle": "2025-03-01T15:45:55.507266Z",
     "shell.execute_reply": "2025-03-01T15:45:55.504271Z",
     "shell.execute_reply.started": "2025-03-01T15:45:55.476805Z"
    }
   },
   "outputs": [
    {
     "data": {
      "text/plain": [
       "(3602, 60, 4)"
      ]
     },
     "execution_count": 57,
     "metadata": {},
     "output_type": "execute_result"
    }
   ],
   "source": [
    "x_price.shape"
   ]
  },
  {
   "cell_type": "code",
   "execution_count": 58,
   "id": "5187ab2a-eb3b-4ad8-b1ab-3eefa980db5e",
   "metadata": {
    "execution": {
     "iopub.execute_input": "2025-03-01T15:45:55.514271Z",
     "iopub.status.busy": "2025-03-01T15:45:55.512266Z",
     "iopub.status.idle": "2025-03-01T15:45:55.538886Z",
     "shell.execute_reply": "2025-03-01T15:45:55.535891Z",
     "shell.execute_reply.started": "2025-03-01T15:45:55.514271Z"
    }
   },
   "outputs": [
    {
     "data": {
      "text/plain": [
       "array([ 0.15763547,  0.14581281,  0.12266928, ..., -0.03501545,\n",
       "       -0.03099174, -0.04145078])"
      ]
     },
     "execution_count": 58,
     "metadata": {},
     "output_type": "execute_result"
    }
   ],
   "source": [
    "y_close = dt_list[-(len(rate_columns)- close_index)][f'close_rate_{N}'].to_numpy()[:-(N+1)]\n",
    "y_close"
   ]
  },
  {
   "cell_type": "code",
   "execution_count": 59,
   "id": "b7f803a0-66a5-42a4-bfbb-8f3c72fd1655",
   "metadata": {
    "execution": {
     "iopub.execute_input": "2025-03-01T15:45:55.556886Z",
     "iopub.status.busy": "2025-03-01T15:45:55.554887Z",
     "iopub.status.idle": "2025-03-01T15:45:55.633295Z",
     "shell.execute_reply": "2025-03-01T15:45:55.625357Z",
     "shell.execute_reply.started": "2025-03-01T15:45:55.555887Z"
    }
   },
   "outputs": [
    {
     "name": "stdout",
     "output_type": "stream",
     "text": [
      "2\n"
     ]
    }
   ],
   "source": [
    "x_price = dt2.to_numpy()\n",
    "x_price = x_price[:-(N+1)]\n",
    "# 更改维度\n",
    "x_shape_old = x_price.shape\n",
    "x_shape_new_1 = x_shape_old[0]\n",
    "x_shape_new_3 = len(rate_columns)\n",
    "x_shape_new_2 = int(x_shape_old[1] / x_shape_new_3)\n",
    "x_price = x_price.reshape((x_shape_new_1, x_shape_new_2, x_shape_new_3))\n",
    "# y\n",
    "y_close = dt_list[-(len(rate_columns)- close_index)][f'close_rate_{N}'].to_numpy()[:-(N+1)]\n",
    "# 然后是批次的整数倍\n",
    "_x_y_len = int(x_price.shape[0]/batch_size) * batch_size\n",
    "print(len(x_price) - _x_y_len)\n",
    "\n",
    "x_price = x_price[-_x_y_len:]\n",
    "y_close = y_close[-_x_y_len:]\n",
    "x_price = x_price.reshape(x_price.shape[0]//batch_size, batch_size, x_price.shape[1], x_price.shape[2])\n",
    "y_close = y_close.reshape(y_close.shape[0]//batch_size, batch_size, 1)"
   ]
  },
  {
   "cell_type": "code",
   "execution_count": 60,
   "id": "b546dacd-ed9f-4caf-8b12-448de669c4b1",
   "metadata": {
    "execution": {
     "iopub.execute_input": "2025-03-01T15:45:55.638291Z",
     "iopub.status.busy": "2025-03-01T15:45:55.636300Z",
     "iopub.status.idle": "2025-03-01T15:45:55.699699Z",
     "shell.execute_reply": "2025-03-01T15:45:55.692706Z",
     "shell.execute_reply.started": "2025-03-01T15:45:55.638291Z"
    }
   },
   "outputs": [
    {
     "data": {
      "text/plain": [
       "(225, 16, 60, 4)"
      ]
     },
     "execution_count": 60,
     "metadata": {},
     "output_type": "execute_result"
    }
   ],
   "source": [
    "x_price.shape"
   ]
  },
  {
   "cell_type": "code",
   "execution_count": 61,
   "id": "ab03fc12-400e-433d-a0d4-0c75f8115311",
   "metadata": {
    "execution": {
     "iopub.execute_input": "2025-03-01T15:45:55.732700Z",
     "iopub.status.busy": "2025-03-01T15:45:55.725702Z",
     "iopub.status.idle": "2025-03-01T15:45:55.758742Z",
     "shell.execute_reply": "2025-03-01T15:45:55.756744Z",
     "shell.execute_reply.started": "2025-03-01T15:45:55.732700Z"
    }
   },
   "outputs": [
    {
     "data": {
      "text/plain": [
       "(225, 16, 1)"
      ]
     },
     "execution_count": 61,
     "metadata": {},
     "output_type": "execute_result"
    }
   ],
   "source": [
    "y_close.shape"
   ]
  },
  {
   "cell_type": "code",
   "execution_count": 66,
   "id": "e27d9830-7682-49d2-a076-febdbd612a7f",
   "metadata": {
    "execution": {
     "iopub.execute_input": "2025-03-01T15:48:31.423902Z",
     "iopub.status.busy": "2025-03-01T15:48:31.422902Z",
     "iopub.status.idle": "2025-03-01T15:48:31.436016Z",
     "shell.execute_reply": "2025-03-01T15:48:31.434021Z",
     "shell.execute_reply.started": "2025-03-01T15:48:31.423902Z"
    }
   },
   "outputs": [
    {
     "data": {
      "text/plain": [
       "array([0.14131501, 0.13944223, 0.18609407, 0.17092338, 0.14629451,\n",
       "       0.17112811, 0.17652764, 0.11329588, 0.06415094, 0.01277372,\n",
       "       0.01801802, 0.00909918, 0.01660517, 0.00722022, 0.01131008,\n",
       "       0.01347449])"
      ]
     },
     "execution_count": 66,
     "metadata": {},
     "output_type": "execute_result"
    }
   ],
   "source": [
    "# 看起来像是正常啊\n",
    "x_price[0, :,-1,3]"
   ]
  },
  {
   "cell_type": "code",
   "execution_count": 74,
   "id": "4b54a59d-a5b7-4e42-8572-1c739b9d8f76",
   "metadata": {
    "execution": {
     "iopub.execute_input": "2025-03-01T15:53:16.322484Z",
     "iopub.status.busy": "2025-03-01T15:53:16.321485Z",
     "iopub.status.idle": "2025-03-01T15:53:16.335097Z",
     "shell.execute_reply": "2025-03-01T15:53:16.333103Z",
     "shell.execute_reply.started": "2025-03-01T15:53:16.322484Z"
    }
   },
   "outputs": [
    {
     "data": {
      "text/plain": [
       "array([[ 0.12266928],\n",
       "       [ 0.15537849],\n",
       "       [ 0.21881391],\n",
       "       [ 0.16994106],\n",
       "       [ 0.17901829],\n",
       "       [ 0.15965583],\n",
       "       [ 0.15324927],\n",
       "       [ 0.05617978],\n",
       "       [ 0.04716981],\n",
       "       [ 0.0310219 ],\n",
       "       [-0.0009009 ],\n",
       "       [ 0.00272975],\n",
       "       [ 0.0295203 ],\n",
       "       [-0.03158845],\n",
       "       [-0.00754006],\n",
       "       [ 0.00384986]])"
      ]
     },
     "execution_count": 74,
     "metadata": {},
     "output_type": "execute_result"
    }
   ],
   "source": [
    "y_close[0]"
   ]
  },
  {
   "cell_type": "code",
   "execution_count": null,
   "id": "bbdd23a4-41c4-471e-9512-5af8001e35cb",
   "metadata": {},
   "outputs": [],
   "source": []
  },
  {
   "cell_type": "code",
   "execution_count": null,
   "id": "4ba35bfb-14f3-4de5-80bd-27ccea1b6004",
   "metadata": {},
   "outputs": [],
   "source": []
  }
 ],
 "metadata": {
  "kernelspec": {
   "display_name": "Python 3 (ipykernel)",
   "language": "python",
   "name": "python3"
  },
  "language_info": {
   "codemirror_mode": {
    "name": "ipython",
    "version": 3
   },
   "file_extension": ".py",
   "mimetype": "text/x-python",
   "name": "python",
   "nbconvert_exporter": "python",
   "pygments_lexer": "ipython3",
   "version": "3.11.5"
  }
 },
 "nbformat": 4,
 "nbformat_minor": 5
}
