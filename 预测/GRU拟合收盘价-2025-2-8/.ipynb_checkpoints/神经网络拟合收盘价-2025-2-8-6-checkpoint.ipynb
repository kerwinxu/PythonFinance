{
 "cells": [
  {
   "cell_type": "markdown",
   "id": "02c218eb-012e-451c-8e23-dbb9fd4ad347",
   "metadata": {
    "execution": {
     "iopub.execute_input": "2025-02-28T13:34:40.976721Z",
     "iopub.status.busy": "2025-02-28T13:34:40.974717Z",
     "iopub.status.idle": "2025-02-28T13:34:42.413488Z",
     "shell.execute_reply": "2025-02-28T13:34:42.409466Z",
     "shell.execute_reply.started": "2025-02-28T13:34:40.976721Z"
    }
   },
   "source": [
    "跟前一个版本的比较，这个版本的y是涨跌幅度"
   ]
  },
  {
   "cell_type": "code",
   "execution_count": 1,
   "id": "7e0dd952-9086-4b21-8617-5d509ada60c2",
   "metadata": {
    "execution": {
     "iopub.execute_input": "2025-03-02T03:41:33.177170Z",
     "iopub.status.busy": "2025-03-02T03:41:33.176170Z",
     "iopub.status.idle": "2025-03-02T03:41:45.314295Z",
     "shell.execute_reply": "2025-03-02T03:41:45.313290Z",
     "shell.execute_reply.started": "2025-03-02T03:41:33.177170Z"
    }
   },
   "outputs": [],
   "source": [
    "import sys\n",
    "import pandas as pd\n",
    "import numpy as np\n",
    "import torch\n",
    "import torch.nn as nn\n",
    "import torch.optim as optim\n",
    "import talib\n",
    "import torch.utils.data as Data\n",
    "# 这里要试试绘图\n",
    "# 这里要试试绘图\n",
    "from visdom import Visdom\n",
    "from PIL import Image"
   ]
  },
  {
   "cell_type": "markdown",
   "id": "81745f3d-35b7-4bd3-aba0-6053d7916d97",
   "metadata": {},
   "source": [
    "# 获取数据"
   ]
  },
  {
   "cell_type": "code",
   "execution_count": 2,
   "id": "8fc35175-9977-48e5-9391-4ef7d904d49b",
   "metadata": {
    "execution": {
     "iopub.execute_input": "2025-03-02T03:41:45.332294Z",
     "iopub.status.busy": "2025-03-02T03:41:45.327298Z",
     "iopub.status.idle": "2025-03-02T03:41:45.396288Z",
     "shell.execute_reply": "2025-03-02T03:41:45.394293Z",
     "shell.execute_reply.started": "2025-03-02T03:41:45.332294Z"
    }
   },
   "outputs": [],
   "source": [
    "sys.path.append('../../')\n",
    "import  DataSource\n",
    "zz500 = DataSource.get_zz500_codes() # 我看中证500的数据\n",
    "# 我这里查看第一个股票的吧\n",
    "N = 60 # 多少日的数据\n",
    "# 我这里仅仅是记录如下的列的涨跌幅度\n",
    "rate_columns = ['open', 'high', 'low', 'close']\n",
    "close_index = rate_columns.index('close')\n",
    "input_size = len(rate_columns)\n",
    "seq_len = N    # 多少个时间序列的股票\n",
    "output_size = 1 # 我只是输出一个今天的收盘价相比较昨日的涨跌比率\n",
    "num_layers = 10 # 多少个gru合并\n",
    "hidden_size = 20 # 隐藏层的宽度\n",
    "batch_size = 16 # 一个批次有多少个数据\n",
    "lr = 0.001"
   ]
  },
  {
   "cell_type": "code",
   "execution_count": 3,
   "id": "cbc7435a-50e9-4864-9f0f-21578f0a4afb",
   "metadata": {
    "execution": {
     "iopub.execute_input": "2025-03-02T03:41:45.436294Z",
     "iopub.status.busy": "2025-03-02T03:41:45.432292Z",
     "iopub.status.idle": "2025-03-02T03:41:45.479788Z",
     "shell.execute_reply": "2025-03-02T03:41:45.477795Z",
     "shell.execute_reply.started": "2025-03-02T03:41:45.436294Z"
    }
   },
   "outputs": [],
   "source": [
    "def get_loader(code_name, N=60, rate_columns=['open', 'high', 'low', 'close'], batch_size=16, train_rate=0.9):\n",
    "    dt = DataSource.get_data(code_name)\n",
    "    dt_list = []\n",
    "    for j in range(N):\n",
    "        # N+1表示要多一天，比如前面30天，我要看看第31天的收盘价相对于第一天的收盘价是什么比例\n",
    "        for i in rate_columns:\n",
    "            dt_tmp = pd.DataFrame({f'{i}_rate_{j}':(dt[f'{i}'].shift(-j) - dt[f'preclose'])/dt[f'preclose']})\n",
    "            dt_list.append(dt_tmp)\n",
    "    dt2 = pd.concat(dt_list[:-(len(rate_columns))], axis=1)\n",
    "    # x\n",
    "    x_price = dt2.to_numpy()\n",
    "    x_price = x_price[:-(N+1)]\n",
    "    # 更改维度\n",
    "    x_shape_old = x_price.shape\n",
    "    x_shape_new_1 = x_shape_old[0]\n",
    "    x_shape_new_3 = len(rate_columns)\n",
    "    x_shape_new_2 = int(x_shape_old[1] / x_shape_new_3)\n",
    "    x_price = x_price.reshape((x_shape_new_1, x_shape_new_2, x_shape_new_3))\n",
    "    # y，是涨跌幅度\n",
    "    dt['close2'] = dt['close'].shift(-N)\n",
    "    dt['close3'] = dt['close'].shift(-(N+1))\n",
    "    dt['close4'] = (dt['close3']-dt['close2'])/dt['close2']\n",
    "    y_close = dt['close4'].to_numpy()[:-(N+1)]\n",
    "    # 然后是批次的整数倍\n",
    "    _x_y_len = int(x_price.shape[0]/batch_size) * batch_size\n",
    "    #\n",
    "    x_price = x_price[-_x_y_len:]\n",
    "    y_close = y_close[-_x_y_len:]\n",
    "    x_price = x_price.reshape(\n",
    "        x_price.shape[0]//batch_size,\n",
    "        batch_size,\n",
    "        x_price.shape[1],\n",
    "        x_price.shape[2])\n",
    "    y_close = y_close.reshape(y_close.shape[0]//batch_size, batch_size, 1)\n",
    "    # 做成加载器\n",
    "    dataset = Data.TensorDataset(\n",
    "        torch.FloatTensor(x_price),\n",
    "        torch.FloatTensor(y_close))\n",
    "    train_loader, test_loader = Data.random_split(\n",
    "        dataset,\n",
    "        lengths=[\n",
    "            int(train_rate*len(dataset)),\n",
    "            len(dataset)-int(train_rate*len(dataset))],\n",
    "        generator=torch.Generator().manual_seed(0))\n",
    "    return train_loader, test_loader"
   ]
  },
  {
   "cell_type": "code",
   "execution_count": 4,
   "id": "98617e1f-1d6a-4212-991a-7f34eb2ff432",
   "metadata": {
    "execution": {
     "iopub.execute_input": "2025-03-02T03:41:45.513788Z",
     "iopub.status.busy": "2025-03-02T03:41:45.512789Z",
     "iopub.status.idle": "2025-03-02T03:41:45.543307Z",
     "shell.execute_reply": "2025-03-02T03:41:45.538333Z",
     "shell.execute_reply.started": "2025-03-02T03:41:45.513788Z"
    }
   },
   "outputs": [],
   "source": [
    "# 一个gru网络\n",
    "class GRUModel(nn.Module):\n",
    "    def __init__(self, input_size, hidden_size, num_layers, output_size):\n",
    "        super(GRUModel, self).__init__()\n",
    "        self.gru = nn.GRU(input_size, hidden_size, num_layers, batch_first=True)\n",
    "        self.fc = nn.Linear(hidden_size, output_size)\n",
    "\n",
    "    def forward(self, x):\n",
    "        out, _ = self.gru(x)  # gru层\n",
    "        out = self.fc(out[:, -1, :])  # 全连接层\n",
    "        return out"
   ]
  },
  {
   "cell_type": "code",
   "execution_count": 5,
   "id": "5ee07afd-445d-4bde-b448-eb3af87f5729",
   "metadata": {
    "execution": {
     "iopub.execute_input": "2025-03-02T03:41:45.575310Z",
     "iopub.status.busy": "2025-03-02T03:41:45.567308Z",
     "iopub.status.idle": "2025-03-02T03:41:49.554634Z",
     "shell.execute_reply": "2025-03-02T03:41:49.553638Z",
     "shell.execute_reply.started": "2025-03-02T03:41:45.575310Z"
    }
   },
   "outputs": [],
   "source": [
    "# 训练\n",
    "device = torch.device(\"cuda:0\" if torch.cuda.is_available() else \"cpu\")\n",
    "net = GRUModel(input_size, hidden_size, num_layers, output_size).to(device)\n",
    "criterion = torch.nn.L1Loss()  # 绝对值误差函数\n",
    "optimizer = optim.Adam(net.parameters(), lr=lr)"
   ]
  },
  {
   "cell_type": "code",
   "execution_count": null,
   "id": "cf57c20a-df88-4a38-bed6-60bcb7578291",
   "metadata": {},
   "outputs": [],
   "source": []
  },
  {
   "cell_type": "code",
   "execution_count": 6,
   "id": "76b1792a-2d9a-4d84-be08-6ec43358ee57",
   "metadata": {
    "execution": {
     "iopub.execute_input": "2025-03-02T03:41:49.558636Z",
     "iopub.status.busy": "2025-03-02T03:41:49.556635Z",
     "iopub.status.idle": "2025-03-02T03:41:49.736635Z",
     "shell.execute_reply": "2025-03-02T03:41:49.735634Z",
     "shell.execute_reply.started": "2025-03-02T03:41:49.558636Z"
    }
   },
   "outputs": [
    {
     "name": "stderr",
     "output_type": "stream",
     "text": [
      "Setting up a new session...\n"
     ]
    }
   ],
   "source": [
    "# 获取绘图对象，相当于plt\n",
    "vis = Visdom()"
   ]
  },
  {
   "cell_type": "code",
   "execution_count": 7,
   "id": "59927888-7c9a-49e2-be9f-64446a892038",
   "metadata": {
    "execution": {
     "iopub.execute_input": "2025-03-02T03:41:49.740639Z",
     "iopub.status.busy": "2025-03-02T03:41:49.739638Z",
     "iopub.status.idle": "2025-03-02T03:41:49.786291Z",
     "shell.execute_reply": "2025-03-02T03:41:49.781316Z",
     "shell.execute_reply.started": "2025-03-02T03:41:49.739638Z"
    }
   },
   "outputs": [],
   "source": [
    "def do_train(epoch_count, loader, train_line_name='train_line'):\n",
    "    vis.line([0.], [0], win=train_line_name, opts=dict(title=train_line_name))\n",
    "    _step = 1\n",
    "    for epoch in range(epoch_count):  # 迭代\n",
    "        arr_loss = []  # 记录损失\n",
    "        arr_labels = []  # 实际值的平均\n",
    "        for i, data in enumerate(loader, 0):\n",
    "            # 获取输入\n",
    "            inputs, labels = data\n",
    "            inputs = inputs.to(device)\n",
    "            labels = labels.to(device)\n",
    "            # 正向传播，反向传播，优化\n",
    "            optimizer.zero_grad()\n",
    "            outputs = net(inputs)\n",
    "            loss = criterion(outputs, labels)\n",
    "            loss.backward()\n",
    "            optimizer.step()\n",
    "            # 这里更新到显示\n",
    "            vis.line([loss.cpu().detach().numpy()], [_step], win=train_line_name, update='append')\n",
    "            _step = _step + 1\n",
    "            arr_loss.append(loss.item())\n",
    "            labels2 = torch.abs(labels)\n",
    "            arr_labels.append((sum(labels2)/len(labels2)).item())\n",
    "        loss_arg = sum(arr_loss)/len(arr_loss)\n",
    "        labels_arg = sum(arr_labels)/len(arr_labels)\n",
    "        print(f'{epoch+1}, avg labels: {labels_arg:.5f} avg loss:{loss_arg:.5f}, max loss: {max(arr_loss):.5f}, min loss : {min(arr_loss):.5f}')\n",
    "\n",
    "\n",
    "def do_test(loader, test_line_name='test_line'):\n",
    "    _step = 1\n",
    "    vis.line([0.], [0], win=test_line_name, opts=dict(title=test_line_name))\n",
    "    with torch.no_grad():\n",
    "        for i, data in enumerate(loader, 0):\n",
    "                # 获取输入\n",
    "                inputs, labels = data\n",
    "                inputs = inputs.to(device)\n",
    "                labels = labels.to(device)\n",
    "                # 正向传播，反向传播，优化\n",
    "                outputs = net(inputs)\n",
    "                loss = criterion(outputs, labels)\n",
    "                # 这里更新到显示\n",
    "                vis.line([loss.cpu().detach().numpy()], [_step], win=test_line_name, update='append')\n",
    "                _step = _step + 1\n",
    "    print(f'实际值:{labels}')\n",
    "    print(f'预测值:{outputs}')\n",
    "    print(f'test :{loss.item()}')"
   ]
  },
  {
   "cell_type": "code",
   "execution_count": null,
   "id": "cb7e2e10-94e5-47d5-8c04-fb0f9700f9a4",
   "metadata": {
    "execution": {
     "iopub.execute_input": "2025-03-02T03:41:49.792288Z",
     "iopub.status.busy": "2025-03-02T03:41:49.790292Z"
    }
   },
   "outputs": [
    {
     "name": "stdout",
     "output_type": "stream",
     "text": [
      "1, avg labels: 0.0003299848378969052 avg loss:0.02034, max loss: 0.20635, min loss : 0.00584\n",
      "2, avg labels: 0.0003299848378969052 avg loss:0.01516, max loss: 0.07568, min loss : 0.00583\n",
      "3, avg labels: 0.0003299848378969052 avg loss:0.01510, max loss: 0.07512, min loss : 0.00593\n",
      "4, avg labels: 0.0003299848378969052 avg loss:0.01503, max loss: 0.07528, min loss : 0.00533\n"
     ]
    }
   ],
   "source": [
    "# 创建窗口并初始化\n",
    "\n",
    "train_loader, test_loader = get_loader(\n",
    "    zz500[0],\n",
    "    batch_size=batch_size,\n",
    "    train_rate=0.9)\n",
    "# 我这里用测试集来测试\n",
    "do_train(10, train_loader)\n",
    "# 接下来做测试\n",
    "do_test(test_loader)\n",
    "print('finish')\n"
   ]
  },
  {
   "cell_type": "code",
   "execution_count": null,
   "id": "3e88c456-689b-463c-b600-04dcb604b7ea",
   "metadata": {},
   "outputs": [],
   "source": [
    "for name, paramers in net.named_parameters():\n",
    "    print(name, ':', paramers)"
   ]
  },
  {
   "cell_type": "code",
   "execution_count": null,
   "id": "5a09f817-0d71-44bd-a605-a1266b73c808",
   "metadata": {},
   "outputs": [],
   "source": []
  }
 ],
 "metadata": {
  "kernelspec": {
   "display_name": "Python 3 (ipykernel)",
   "language": "python",
   "name": "python3"
  },
  "language_info": {
   "codemirror_mode": {
    "name": "ipython",
    "version": 3
   },
   "file_extension": ".py",
   "mimetype": "text/x-python",
   "name": "python",
   "nbconvert_exporter": "python",
   "pygments_lexer": "ipython3",
   "version": "3.11.5"
  }
 },
 "nbformat": 4,
 "nbformat_minor": 5
}
