{
 "cells": [
  {
   "cell_type": "code",
   "execution_count": 1,
   "id": "7e0dd952-9086-4b21-8617-5d509ada60c2",
   "metadata": {
    "execution": {
     "iopub.execute_input": "2025-02-28T08:40:57.563792Z",
     "iopub.status.busy": "2025-02-28T08:40:57.562802Z",
     "iopub.status.idle": "2025-02-28T08:41:17.371754Z",
     "shell.execute_reply": "2025-02-28T08:41:17.369738Z",
     "shell.execute_reply.started": "2025-02-28T08:40:57.563792Z"
    }
   },
   "outputs": [],
   "source": [
    "import sys\n",
    "import pandas as pd\n",
    "import numpy as np\n",
    "import torch\n",
    "import torch.nn as nn\n",
    "import torch.optim as optim\n",
    "import talib\n",
    "import torch.utils.data as Data"
   ]
  },
  {
   "cell_type": "markdown",
   "id": "da274e41-0353-490f-b283-caad2c4e64a6",
   "metadata": {},
   "source": [
    "我想要用lstm的网络来预测收盘价。  \n",
    "x是价格对于，N日前的收盘价的比例\n",
    "y是收盘价  "
   ]
  },
  {
   "cell_type": "markdown",
   "id": "81745f3d-35b7-4bd3-aba0-6053d7916d97",
   "metadata": {},
   "source": [
    "# 获取数据"
   ]
  },
  {
   "cell_type": "code",
   "execution_count": 29,
   "id": "8fc35175-9977-48e5-9391-4ef7d904d49b",
   "metadata": {
    "execution": {
     "iopub.execute_input": "2025-02-28T11:17:11.304789Z",
     "iopub.status.busy": "2025-02-28T11:17:11.303793Z",
     "iopub.status.idle": "2025-02-28T11:17:11.472810Z",
     "shell.execute_reply": "2025-02-28T11:17:11.470789Z",
     "shell.execute_reply.started": "2025-02-28T11:17:11.304789Z"
    }
   },
   "outputs": [],
   "source": [
    "sys.path.append('../../')\n",
    "import  DataSource\n",
    "zz500 = DataSource.get_zz500_codes() # 我看中证500的数据\n",
    "# 我这里查看第一个股票的吧\n",
    "dt = DataSource.get_data(zz500[0])"
   ]
  },
  {
   "cell_type": "code",
   "execution_count": 30,
   "id": "849ae295-b253-4b33-bec9-1d6a980c4bd5",
   "metadata": {
    "execution": {
     "iopub.execute_input": "2025-02-28T11:17:11.902810Z",
     "iopub.status.busy": "2025-02-28T11:17:11.900810Z",
     "iopub.status.idle": "2025-02-28T11:17:11.946641Z",
     "shell.execute_reply": "2025-02-28T11:17:11.943618Z",
     "shell.execute_reply.started": "2025-02-28T11:17:11.902810Z"
    }
   },
   "outputs": [
    {
     "data": {
      "text/html": [
       "<div>\n",
       "<style scoped>\n",
       "    .dataframe tbody tr th:only-of-type {\n",
       "        vertical-align: middle;\n",
       "    }\n",
       "\n",
       "    .dataframe tbody tr th {\n",
       "        vertical-align: top;\n",
       "    }\n",
       "\n",
       "    .dataframe thead th {\n",
       "        text-align: right;\n",
       "    }\n",
       "</style>\n",
       "<table border=\"1\" class=\"dataframe\">\n",
       "  <thead>\n",
       "    <tr style=\"text-align: right;\">\n",
       "      <th></th>\n",
       "      <th>code</th>\n",
       "      <th>open</th>\n",
       "      <th>high</th>\n",
       "      <th>low</th>\n",
       "      <th>close</th>\n",
       "      <th>preclose</th>\n",
       "      <th>volume</th>\n",
       "      <th>amount</th>\n",
       "      <th>adjustflag</th>\n",
       "      <th>turn</th>\n",
       "      <th>tradestatus</th>\n",
       "      <th>pctChg</th>\n",
       "      <th>isST</th>\n",
       "    </tr>\n",
       "    <tr>\n",
       "      <th>date</th>\n",
       "      <th></th>\n",
       "      <th></th>\n",
       "      <th></th>\n",
       "      <th></th>\n",
       "      <th></th>\n",
       "      <th></th>\n",
       "      <th></th>\n",
       "      <th></th>\n",
       "      <th></th>\n",
       "      <th></th>\n",
       "      <th></th>\n",
       "      <th></th>\n",
       "      <th></th>\n",
       "    </tr>\n",
       "  </thead>\n",
       "  <tbody>\n",
       "    <tr>\n",
       "      <th>2010-01-04</th>\n",
       "      <td>sh.600004</td>\n",
       "      <td>5.046509</td>\n",
       "      <td>5.111144</td>\n",
       "      <td>5.041537</td>\n",
       "      <td>5.046509</td>\n",
       "      <td>5.046509</td>\n",
       "      <td>15478854</td>\n",
       "      <td>157747809.0</td>\n",
       "      <td>2</td>\n",
       "      <td>1.525010</td>\n",
       "      <td>1</td>\n",
       "      <td>0.0000</td>\n",
       "      <td>0</td>\n",
       "    </tr>\n",
       "    <tr>\n",
       "      <th>2010-01-05</th>\n",
       "      <td>sh.600004</td>\n",
       "      <td>5.046509</td>\n",
       "      <td>5.091256</td>\n",
       "      <td>5.041537</td>\n",
       "      <td>5.066397</td>\n",
       "      <td>5.046509</td>\n",
       "      <td>11070922</td>\n",
       "      <td>112683563.0</td>\n",
       "      <td>2</td>\n",
       "      <td>1.090731</td>\n",
       "      <td>1</td>\n",
       "      <td>0.3941</td>\n",
       "      <td>0</td>\n",
       "    </tr>\n",
       "    <tr>\n",
       "      <th>2010-01-06</th>\n",
       "      <td>sh.600004</td>\n",
       "      <td>5.056453</td>\n",
       "      <td>5.066397</td>\n",
       "      <td>4.981874</td>\n",
       "      <td>4.991818</td>\n",
       "      <td>5.066397</td>\n",
       "      <td>9410665</td>\n",
       "      <td>95205863.0</td>\n",
       "      <td>2</td>\n",
       "      <td>0.927159</td>\n",
       "      <td>1</td>\n",
       "      <td>-1.4720</td>\n",
       "      <td>0</td>\n",
       "    </tr>\n",
       "    <tr>\n",
       "      <th>2010-01-07</th>\n",
       "      <td>sh.600004</td>\n",
       "      <td>4.971930</td>\n",
       "      <td>4.996790</td>\n",
       "      <td>4.827744</td>\n",
       "      <td>4.862548</td>\n",
       "      <td>4.991818</td>\n",
       "      <td>8961813</td>\n",
       "      <td>88611912.0</td>\n",
       "      <td>2</td>\n",
       "      <td>0.882937</td>\n",
       "      <td>1</td>\n",
       "      <td>-2.5896</td>\n",
       "      <td>0</td>\n",
       "    </tr>\n",
       "    <tr>\n",
       "      <th>2010-01-08</th>\n",
       "      <td>sh.600004</td>\n",
       "      <td>4.837688</td>\n",
       "      <td>5.096228</td>\n",
       "      <td>4.837688</td>\n",
       "      <td>5.061425</td>\n",
       "      <td>4.862548</td>\n",
       "      <td>14923812</td>\n",
       "      <td>149969456.0</td>\n",
       "      <td>2</td>\n",
       "      <td>1.470326</td>\n",
       "      <td>1</td>\n",
       "      <td>4.0900</td>\n",
       "      <td>0</td>\n",
       "    </tr>\n",
       "  </tbody>\n",
       "</table>\n",
       "</div>"
      ],
      "text/plain": [
       "                 code      open      high       low     close  preclose  \\\n",
       "date                                                                      \n",
       "2010-01-04  sh.600004  5.046509  5.111144  5.041537  5.046509  5.046509   \n",
       "2010-01-05  sh.600004  5.046509  5.091256  5.041537  5.066397  5.046509   \n",
       "2010-01-06  sh.600004  5.056453  5.066397  4.981874  4.991818  5.066397   \n",
       "2010-01-07  sh.600004  4.971930  4.996790  4.827744  4.862548  4.991818   \n",
       "2010-01-08  sh.600004  4.837688  5.096228  4.837688  5.061425  4.862548   \n",
       "\n",
       "              volume       amount  adjustflag      turn  tradestatus  pctChg  \\\n",
       "date                                                                           \n",
       "2010-01-04  15478854  157747809.0           2  1.525010            1  0.0000   \n",
       "2010-01-05  11070922  112683563.0           2  1.090731            1  0.3941   \n",
       "2010-01-06   9410665   95205863.0           2  0.927159            1 -1.4720   \n",
       "2010-01-07   8961813   88611912.0           2  0.882937            1 -2.5896   \n",
       "2010-01-08  14923812  149969456.0           2  1.470326            1  4.0900   \n",
       "\n",
       "            isST  \n",
       "date              \n",
       "2010-01-04     0  \n",
       "2010-01-05     0  \n",
       "2010-01-06     0  \n",
       "2010-01-07     0  \n",
       "2010-01-08     0  "
      ]
     },
     "execution_count": 30,
     "metadata": {},
     "output_type": "execute_result"
    }
   ],
   "source": [
    "dt.head()"
   ]
  },
  {
   "cell_type": "code",
   "execution_count": 71,
   "id": "728fdc01-b1b5-4f21-845f-f460579e4dab",
   "metadata": {
    "execution": {
     "iopub.execute_input": "2025-02-28T11:27:21.224941Z",
     "iopub.status.busy": "2025-02-28T11:27:21.223945Z",
     "iopub.status.idle": "2025-02-28T11:27:21.233617Z",
     "shell.execute_reply": "2025-02-28T11:27:21.232602Z",
     "shell.execute_reply.started": "2025-02-28T11:27:21.224941Z"
    }
   },
   "outputs": [],
   "source": [
    "N = 60 # 多少日的数据\n",
    "# 我这里仅仅是记录如下的列的涨跌幅度\n",
    "rate_columns = ['open', 'high', 'low', 'close']\n",
    "input_size = len(rate_columns)\n",
    "seq_len = N    # 多少个时间序列的股票\n",
    "output_size = 1 # 我只是输出一个今天的收盘价相比较昨日的涨跌比率\n",
    "num_layers = 10 # 多少个gru合并\n",
    "hidden_size = 20 # 隐藏层的宽度\n",
    "batch_size = 16 # 一个批次有多少个数据\n",
    "lr = 0.01\n",
    "# 这里先看看怎样快速的截取数据,然后还要归一化，"
   ]
  },
  {
   "cell_type": "code",
   "execution_count": 88,
   "id": "254378bf-44b6-405d-ba74-9f99a31c4c69",
   "metadata": {
    "execution": {
     "iopub.execute_input": "2025-02-28T11:42:29.490439Z",
     "iopub.status.busy": "2025-02-28T11:42:29.489439Z",
     "iopub.status.idle": "2025-02-28T11:42:29.898337Z",
     "shell.execute_reply": "2025-02-28T11:42:29.896319Z",
     "shell.execute_reply.started": "2025-02-28T11:42:29.490439Z"
    }
   },
   "outputs": [
    {
     "data": {
      "text/html": [
       "<div>\n",
       "<style scoped>\n",
       "    .dataframe tbody tr th:only-of-type {\n",
       "        vertical-align: middle;\n",
       "    }\n",
       "\n",
       "    .dataframe tbody tr th {\n",
       "        vertical-align: top;\n",
       "    }\n",
       "\n",
       "    .dataframe thead th {\n",
       "        text-align: right;\n",
       "    }\n",
       "</style>\n",
       "<table border=\"1\" class=\"dataframe\">\n",
       "  <thead>\n",
       "    <tr style=\"text-align: right;\">\n",
       "      <th></th>\n",
       "      <th>open_rate_0</th>\n",
       "      <th>high_rate_0</th>\n",
       "      <th>low_rate_0</th>\n",
       "      <th>close_rate_0</th>\n",
       "      <th>open_rate_1</th>\n",
       "      <th>high_rate_1</th>\n",
       "      <th>low_rate_1</th>\n",
       "      <th>close_rate_1</th>\n",
       "      <th>open_rate_2</th>\n",
       "      <th>high_rate_2</th>\n",
       "      <th>...</th>\n",
       "      <th>low_rate_57</th>\n",
       "      <th>close_rate_57</th>\n",
       "      <th>open_rate_58</th>\n",
       "      <th>high_rate_58</th>\n",
       "      <th>low_rate_58</th>\n",
       "      <th>close_rate_58</th>\n",
       "      <th>open_rate_59</th>\n",
       "      <th>high_rate_59</th>\n",
       "      <th>low_rate_59</th>\n",
       "      <th>close_rate_59</th>\n",
       "    </tr>\n",
       "    <tr>\n",
       "      <th>date</th>\n",
       "      <th></th>\n",
       "      <th></th>\n",
       "      <th></th>\n",
       "      <th></th>\n",
       "      <th></th>\n",
       "      <th></th>\n",
       "      <th></th>\n",
       "      <th></th>\n",
       "      <th></th>\n",
       "      <th></th>\n",
       "      <th></th>\n",
       "      <th></th>\n",
       "      <th></th>\n",
       "      <th></th>\n",
       "      <th></th>\n",
       "      <th></th>\n",
       "      <th></th>\n",
       "      <th></th>\n",
       "      <th></th>\n",
       "      <th></th>\n",
       "      <th></th>\n",
       "    </tr>\n",
       "  </thead>\n",
       "  <tbody>\n",
       "    <tr>\n",
       "      <th>2010-01-04</th>\n",
       "      <td>0.000000</td>\n",
       "      <td>0.012808</td>\n",
       "      <td>-0.000985</td>\n",
       "      <td>0.000000</td>\n",
       "      <td>0.000000</td>\n",
       "      <td>0.008867</td>\n",
       "      <td>-0.000985</td>\n",
       "      <td>0.003941</td>\n",
       "      <td>0.001970</td>\n",
       "      <td>0.003941</td>\n",
       "      <td>...</td>\n",
       "      <td>0.115271</td>\n",
       "      <td>0.121182</td>\n",
       "      <td>0.119212</td>\n",
       "      <td>0.135961</td>\n",
       "      <td>0.117241</td>\n",
       "      <td>0.134975</td>\n",
       "      <td>0.133005</td>\n",
       "      <td>0.151724</td>\n",
       "      <td>0.129064</td>\n",
       "      <td>0.150739</td>\n",
       "    </tr>\n",
       "    <tr>\n",
       "      <th>2010-01-05</th>\n",
       "      <td>0.000000</td>\n",
       "      <td>0.008867</td>\n",
       "      <td>-0.000985</td>\n",
       "      <td>0.003941</td>\n",
       "      <td>0.001970</td>\n",
       "      <td>0.003941</td>\n",
       "      <td>-0.012808</td>\n",
       "      <td>-0.010837</td>\n",
       "      <td>-0.014778</td>\n",
       "      <td>-0.009852</td>\n",
       "      <td>...</td>\n",
       "      <td>0.117241</td>\n",
       "      <td>0.134975</td>\n",
       "      <td>0.133005</td>\n",
       "      <td>0.151724</td>\n",
       "      <td>0.129064</td>\n",
       "      <td>0.150739</td>\n",
       "      <td>0.151724</td>\n",
       "      <td>0.158621</td>\n",
       "      <td>0.139901</td>\n",
       "      <td>0.157635</td>\n",
       "    </tr>\n",
       "    <tr>\n",
       "      <th>2010-01-06</th>\n",
       "      <td>-0.001963</td>\n",
       "      <td>0.000000</td>\n",
       "      <td>-0.016683</td>\n",
       "      <td>-0.014720</td>\n",
       "      <td>-0.018646</td>\n",
       "      <td>-0.013739</td>\n",
       "      <td>-0.047105</td>\n",
       "      <td>-0.040236</td>\n",
       "      <td>-0.045142</td>\n",
       "      <td>0.005888</td>\n",
       "      <td>...</td>\n",
       "      <td>0.124632</td>\n",
       "      <td>0.146222</td>\n",
       "      <td>0.147203</td>\n",
       "      <td>0.154073</td>\n",
       "      <td>0.135427</td>\n",
       "      <td>0.153091</td>\n",
       "      <td>0.151129</td>\n",
       "      <td>0.151129</td>\n",
       "      <td>0.132483</td>\n",
       "      <td>0.141315</td>\n",
       "    </tr>\n",
       "    <tr>\n",
       "      <th>2010-01-07</th>\n",
       "      <td>-0.003984</td>\n",
       "      <td>0.000996</td>\n",
       "      <td>-0.032869</td>\n",
       "      <td>-0.025896</td>\n",
       "      <td>-0.030876</td>\n",
       "      <td>0.020916</td>\n",
       "      <td>-0.030876</td>\n",
       "      <td>0.013944</td>\n",
       "      <td>0.021912</td>\n",
       "      <td>0.041833</td>\n",
       "      <td>...</td>\n",
       "      <td>0.152390</td>\n",
       "      <td>0.170319</td>\n",
       "      <td>0.168327</td>\n",
       "      <td>0.168327</td>\n",
       "      <td>0.149402</td>\n",
       "      <td>0.158367</td>\n",
       "      <td>0.157371</td>\n",
       "      <td>0.159363</td>\n",
       "      <td>0.137450</td>\n",
       "      <td>0.139442</td>\n",
       "    </tr>\n",
       "    <tr>\n",
       "      <th>2010-01-08</th>\n",
       "      <td>-0.005112</td>\n",
       "      <td>0.048057</td>\n",
       "      <td>-0.005112</td>\n",
       "      <td>0.040900</td>\n",
       "      <td>0.049080</td>\n",
       "      <td>0.069530</td>\n",
       "      <td>0.040900</td>\n",
       "      <td>0.062372</td>\n",
       "      <td>0.056237</td>\n",
       "      <td>0.070552</td>\n",
       "      <td>...</td>\n",
       "      <td>0.179959</td>\n",
       "      <td>0.189162</td>\n",
       "      <td>0.188139</td>\n",
       "      <td>0.190184</td>\n",
       "      <td>0.167689</td>\n",
       "      <td>0.169734</td>\n",
       "      <td>0.173824</td>\n",
       "      <td>0.188139</td>\n",
       "      <td>0.170757</td>\n",
       "      <td>0.186094</td>\n",
       "    </tr>\n",
       "  </tbody>\n",
       "</table>\n",
       "<p>5 rows × 240 columns</p>\n",
       "</div>"
      ],
      "text/plain": [
       "            open_rate_0  high_rate_0  low_rate_0  close_rate_0  open_rate_1  \\\n",
       "date                                                                          \n",
       "2010-01-04     0.000000     0.012808   -0.000985      0.000000     0.000000   \n",
       "2010-01-05     0.000000     0.008867   -0.000985      0.003941     0.001970   \n",
       "2010-01-06    -0.001963     0.000000   -0.016683     -0.014720    -0.018646   \n",
       "2010-01-07    -0.003984     0.000996   -0.032869     -0.025896    -0.030876   \n",
       "2010-01-08    -0.005112     0.048057   -0.005112      0.040900     0.049080   \n",
       "\n",
       "            high_rate_1  low_rate_1  close_rate_1  open_rate_2  high_rate_2  \\\n",
       "date                                                                          \n",
       "2010-01-04     0.008867   -0.000985      0.003941     0.001970     0.003941   \n",
       "2010-01-05     0.003941   -0.012808     -0.010837    -0.014778    -0.009852   \n",
       "2010-01-06    -0.013739   -0.047105     -0.040236    -0.045142     0.005888   \n",
       "2010-01-07     0.020916   -0.030876      0.013944     0.021912     0.041833   \n",
       "2010-01-08     0.069530    0.040900      0.062372     0.056237     0.070552   \n",
       "\n",
       "            ...  low_rate_57  close_rate_57  open_rate_58  high_rate_58  \\\n",
       "date        ...                                                           \n",
       "2010-01-04  ...     0.115271       0.121182      0.119212      0.135961   \n",
       "2010-01-05  ...     0.117241       0.134975      0.133005      0.151724   \n",
       "2010-01-06  ...     0.124632       0.146222      0.147203      0.154073   \n",
       "2010-01-07  ...     0.152390       0.170319      0.168327      0.168327   \n",
       "2010-01-08  ...     0.179959       0.189162      0.188139      0.190184   \n",
       "\n",
       "            low_rate_58  close_rate_58  open_rate_59  high_rate_59  \\\n",
       "date                                                                 \n",
       "2010-01-04     0.117241       0.134975      0.133005      0.151724   \n",
       "2010-01-05     0.129064       0.150739      0.151724      0.158621   \n",
       "2010-01-06     0.135427       0.153091      0.151129      0.151129   \n",
       "2010-01-07     0.149402       0.158367      0.157371      0.159363   \n",
       "2010-01-08     0.167689       0.169734      0.173824      0.188139   \n",
       "\n",
       "            low_rate_59  close_rate_59  \n",
       "date                                    \n",
       "2010-01-04     0.129064       0.150739  \n",
       "2010-01-05     0.139901       0.157635  \n",
       "2010-01-06     0.132483       0.141315  \n",
       "2010-01-07     0.137450       0.139442  \n",
       "2010-01-08     0.170757       0.186094  \n",
       "\n",
       "[5 rows x 240 columns]"
      ]
     },
     "execution_count": 88,
     "metadata": {},
     "output_type": "execute_result"
    }
   ],
   "source": [
    "# 这里只是看对于前日收盘价的比例，这里一次性搞出所有的列\n",
    "rate_columns_2 = []\n",
    "dt_list = []\n",
    "for j in range(N+1):\n",
    "    # N+1表示要多一天，比如前面30天，我要看看第31天的收盘价相对于第一天的收盘价是什么比例\n",
    "    for i in rate_columns:\n",
    "        dt_tmp = pd.DataFrame({f'{i}_rate_{j}':(dt[f'{i}'].shift(-j) - dt[f'preclose'])/dt[f'preclose']})\n",
    "        dt_list.append(dt_tmp)\n",
    "\n",
    "dt2 = pd.concat(dt_list[:-(len(rate_columns))], axis=1)\n",
    "dt2.head()"
   ]
  },
  {
   "cell_type": "code",
   "execution_count": 89,
   "id": "298cd47e-0d0c-4c6a-8325-811a982816ba",
   "metadata": {
    "execution": {
     "iopub.execute_input": "2025-02-28T11:42:36.354261Z",
     "iopub.status.busy": "2025-02-28T11:42:36.353265Z",
     "iopub.status.idle": "2025-02-28T11:42:36.366471Z",
     "shell.execute_reply": "2025-02-28T11:42:36.364453Z",
     "shell.execute_reply.started": "2025-02-28T11:42:36.354261Z"
    }
   },
   "outputs": [
    {
     "data": {
      "text/plain": [
       "Index(['open_rate_0', 'high_rate_0', 'low_rate_0', 'close_rate_0',\n",
       "       'open_rate_1', 'high_rate_1', 'low_rate_1', 'close_rate_1',\n",
       "       'open_rate_2', 'high_rate_2',\n",
       "       ...\n",
       "       'low_rate_57', 'close_rate_57', 'open_rate_58', 'high_rate_58',\n",
       "       'low_rate_58', 'close_rate_58', 'open_rate_59', 'high_rate_59',\n",
       "       'low_rate_59', 'close_rate_59'],\n",
       "      dtype='object', length=240)"
      ]
     },
     "execution_count": 89,
     "metadata": {},
     "output_type": "execute_result"
    }
   ],
   "source": [
    "dt2.columns"
   ]
  },
  {
   "cell_type": "code",
   "execution_count": 90,
   "id": "c01e817e-4c7a-4206-beeb-6391e8600757",
   "metadata": {
    "execution": {
     "iopub.execute_input": "2025-02-28T11:43:09.895379Z",
     "iopub.status.busy": "2025-02-28T11:43:09.894382Z",
     "iopub.status.idle": "2025-02-28T11:43:09.912013Z",
     "shell.execute_reply": "2025-02-28T11:43:09.910999Z",
     "shell.execute_reply.started": "2025-02-28T11:43:09.895379Z"
    }
   },
   "outputs": [],
   "source": [
    "# 这里转成numpy\n",
    "x_price = dt2.to_numpy()\n",
    "x_price = x_price[:-(N+1)]"
   ]
  },
  {
   "cell_type": "code",
   "execution_count": 92,
   "id": "5c12b906-8c54-4658-a6ad-0fe2d5f239a7",
   "metadata": {
    "execution": {
     "iopub.execute_input": "2025-02-28T11:45:03.233815Z",
     "iopub.status.busy": "2025-02-28T11:45:03.231816Z",
     "iopub.status.idle": "2025-02-28T11:45:03.248212Z",
     "shell.execute_reply": "2025-02-28T11:45:03.246190Z",
     "shell.execute_reply.started": "2025-02-28T11:45:03.232811Z"
    }
   },
   "outputs": [
    {
     "data": {
      "text/plain": [
       "array([ 0.        ,  0.01280788, -0.00098522,  0.        ,  0.        ,\n",
       "        0.008867  , -0.00098522,  0.00394089,  0.00197044,  0.00394089,\n",
       "       -0.01280788, -0.01083744, -0.01477833, -0.00985222, -0.04334975,\n",
       "       -0.0364532 , -0.04137931,  0.00985222, -0.04137931,  0.00295567,\n",
       "        0.01083744,  0.03054187,  0.00295567,  0.02364532,  0.01773399,\n",
       "        0.03152709,  0.00985222,  0.03054187,  0.01083744,  0.03448276,\n",
       "        0.00591133,  0.01576355,  0.01477833,  0.05714286,  0.01280788,\n",
       "        0.05221675,  0.05123153,  0.05714286,  0.03743842,  0.04433498,\n",
       "        0.04433498,  0.09162562,  0.03448276,  0.07980296,  0.07389163,\n",
       "        0.10344828,  0.06896552,  0.09359606,  0.0955665 ,  0.09950739,\n",
       "        0.0729064 ,  0.08275862,  0.10837438,  0.1182266 ,  0.06403941,\n",
       "        0.0679803 ,  0.07389163,  0.1408867 ,  0.06502463,  0.09162562,\n",
       "        0.09458128,  0.11133005,  0.04334975,  0.0453202 ,  0.0453202 ,\n",
       "        0.05714286,  0.00492611,  0.02364532,  0.02463054,  0.03349754,\n",
       "        0.00591133,  0.01280788,  0.01280788,  0.05714286,  0.00492611,\n",
       "        0.05517241,  0.04433498,  0.0729064 ,  0.03940887,  0.05517241,\n",
       "        0.05024631,  0.09458128,  0.02857143,  0.07881773,  0.07980296,\n",
       "        0.09261084,  0.05221675,  0.0591133 ,  0.06009852,  0.09852217,\n",
       "        0.02463054,  0.09753695,  0.09359606,  0.13990148,  0.08374384,\n",
       "        0.11527094,  0.09162562,  0.11133005,  0.06009852,  0.07881773,\n",
       "        0.07881773,  0.09655172,  0.06995074,  0.0729064 ,  0.07389163,\n",
       "        0.12019704,  0.06305419,  0.1044335 ,  0.11231527,  0.12118227,\n",
       "        0.10049261,  0.11330049,  0.11724138,  0.12315271,  0.08374384,\n",
       "        0.09064039,  0.09458128,  0.10246305,  0.07881773,  0.09852217,\n",
       "        0.09261084,  0.13891626,  0.08374384,  0.11724138,  0.1182266 ,\n",
       "        0.1320197 ,  0.09852217,  0.12807882,  0.12118227,  0.13694581,\n",
       "        0.11428571,  0.13596059,  0.13596059,  0.16059113,  0.13399015,\n",
       "        0.13990148,  0.14187192,  0.16748768,  0.12315271,  0.16059113,\n",
       "        0.16157635,  0.20985222,  0.15369458,  0.19605911,  0.19507389,\n",
       "        0.2       ,  0.16945813,  0.18226601,  0.18226601,  0.21773399,\n",
       "        0.17536946,  0.2       ,  0.21280788,  0.21280788,  0.15270936,\n",
       "        0.1635468 ,  0.17044335,  0.18226601,  0.15073892,  0.17142857,\n",
       "        0.17635468,  0.20098522,  0.16847291,  0.1773399 ,  0.17536946,\n",
       "        0.17635468,  0.14679803,  0.15270936,  0.15270936,  0.16059113,\n",
       "        0.13399015,  0.14876847,  0.14778325,  0.15960591,  0.13793103,\n",
       "        0.14187192,  0.14876847,  0.15270936,  0.1182266 ,  0.12019704,\n",
       "        0.12216749,  0.1408867 ,  0.12118227,  0.13004926,  0.13300493,\n",
       "        0.1546798 ,  0.13004926,  0.14679803,  0.1546798 ,  0.17044335,\n",
       "        0.15172414,  0.16650246,  0.17044335,  0.17142857,  0.15369458,\n",
       "        0.16059113,  0.15960591,  0.16945813,  0.15566502,  0.16650246,\n",
       "        0.17241379,  0.18226601,  0.15073892,  0.16059113,  0.15862069,\n",
       "        0.16256158,  0.1408867 ,  0.15073892,  0.15073892,  0.16059113,\n",
       "        0.14285714,  0.14482759,  0.13793103,  0.1408867 ,  0.1044335 ,\n",
       "        0.10837438,  0.10541872,  0.13596059,  0.10541872,  0.1270936 ,\n",
       "        0.13300493,  0.14778325,  0.12807882,  0.14482759,  0.14285714,\n",
       "        0.14285714,  0.12807882,  0.13596059,  0.13300493,  0.13300493,\n",
       "        0.11527094,  0.12118227,  0.11921182,  0.13596059,  0.11724138,\n",
       "        0.13497537,  0.13300493,  0.15172414,  0.12906404,  0.15073892])"
      ]
     },
     "execution_count": 92,
     "metadata": {},
     "output_type": "execute_result"
    }
   ],
   "source": [
    "x_price[0]"
   ]
  },
  {
   "cell_type": "code",
   "execution_count": 93,
   "id": "82d0d2c0-52b4-4960-a028-01c902de3594",
   "metadata": {
    "execution": {
     "iopub.execute_input": "2025-02-28T11:45:04.739023Z",
     "iopub.status.busy": "2025-02-28T11:45:04.738016Z",
     "iopub.status.idle": "2025-02-28T11:45:04.745215Z",
     "shell.execute_reply": "2025-02-28T11:45:04.743195Z",
     "shell.execute_reply.started": "2025-02-28T11:45:04.739023Z"
    }
   },
   "outputs": [],
   "source": [
    "# 然后进行水平拼接"
   ]
  },
  {
   "cell_type": "code",
   "execution_count": 94,
   "id": "fd92a76d-b30c-4b5f-8138-1d2e126aa881",
   "metadata": {
    "execution": {
     "iopub.execute_input": "2025-02-28T11:45:05.596792Z",
     "iopub.status.busy": "2025-02-28T11:45:05.595768Z",
     "iopub.status.idle": "2025-02-28T11:45:05.607915Z",
     "shell.execute_reply": "2025-02-28T11:45:05.605896Z",
     "shell.execute_reply.started": "2025-02-28T11:45:05.596792Z"
    }
   },
   "outputs": [
    {
     "data": {
      "text/plain": [
       "(3602, 240)"
      ]
     },
     "execution_count": 94,
     "metadata": {},
     "output_type": "execute_result"
    }
   ],
   "source": [
    "x_price.shape"
   ]
  },
  {
   "cell_type": "code",
   "execution_count": 95,
   "id": "c4a17d00-134c-470e-8e45-4f03503a63d2",
   "metadata": {
    "execution": {
     "iopub.execute_input": "2025-02-28T11:45:06.805337Z",
     "iopub.status.busy": "2025-02-28T11:45:06.804342Z",
     "iopub.status.idle": "2025-02-28T11:45:06.818620Z",
     "shell.execute_reply": "2025-02-28T11:45:06.817601Z",
     "shell.execute_reply.started": "2025-02-28T11:45:06.805337Z"
    }
   },
   "outputs": [
    {
     "data": {
      "text/plain": [
       "(3602, 60, 4)"
      ]
     },
     "execution_count": 95,
     "metadata": {},
     "output_type": "execute_result"
    }
   ],
   "source": [
    "# 这里需要更改维度\n",
    "x_shape_old = x_price.shape\n",
    "x_shape_new_1 = x_shape_old[0]\n",
    "x_shape_new_3 = len(rate_columns)\n",
    "x_shape_new_2 = int(x_shape_old[1] / x_shape_new_3)\n",
    "x_price = x_price.reshape((x_shape_new_1, x_shape_new_2, x_shape_new_3))\n",
    "x_price.shape"
   ]
  },
  {
   "cell_type": "code",
   "execution_count": 96,
   "id": "a794b0c8-15f8-47df-b8ca-13769f85bd4b",
   "metadata": {
    "execution": {
     "iopub.execute_input": "2025-02-28T11:45:17.198066Z",
     "iopub.status.busy": "2025-02-28T11:45:17.197054Z",
     "iopub.status.idle": "2025-02-28T11:45:17.215411Z",
     "shell.execute_reply": "2025-02-28T11:45:17.213391Z",
     "shell.execute_reply.started": "2025-02-28T11:45:17.198066Z"
    }
   },
   "outputs": [
    {
     "data": {
      "text/html": [
       "<div>\n",
       "<style scoped>\n",
       "    .dataframe tbody tr th:only-of-type {\n",
       "        vertical-align: middle;\n",
       "    }\n",
       "\n",
       "    .dataframe tbody tr th {\n",
       "        vertical-align: top;\n",
       "    }\n",
       "\n",
       "    .dataframe thead th {\n",
       "        text-align: right;\n",
       "    }\n",
       "</style>\n",
       "<table border=\"1\" class=\"dataframe\">\n",
       "  <thead>\n",
       "    <tr style=\"text-align: right;\">\n",
       "      <th></th>\n",
       "      <th>close_rate_60</th>\n",
       "    </tr>\n",
       "    <tr>\n",
       "      <th>date</th>\n",
       "      <th></th>\n",
       "    </tr>\n",
       "  </thead>\n",
       "  <tbody>\n",
       "    <tr>\n",
       "      <th>2010-01-04</th>\n",
       "      <td>0.157635</td>\n",
       "    </tr>\n",
       "    <tr>\n",
       "      <th>2010-01-05</th>\n",
       "      <td>0.145813</td>\n",
       "    </tr>\n",
       "    <tr>\n",
       "      <th>2010-01-06</th>\n",
       "      <td>0.122669</td>\n",
       "    </tr>\n",
       "    <tr>\n",
       "      <th>2010-01-07</th>\n",
       "      <td>0.155378</td>\n",
       "    </tr>\n",
       "    <tr>\n",
       "      <th>2010-01-08</th>\n",
       "      <td>0.218814</td>\n",
       "    </tr>\n",
       "  </tbody>\n",
       "</table>\n",
       "</div>"
      ],
      "text/plain": [
       "            close_rate_60\n",
       "date                     \n",
       "2010-01-04       0.157635\n",
       "2010-01-05       0.145813\n",
       "2010-01-06       0.122669\n",
       "2010-01-07       0.155378\n",
       "2010-01-08       0.218814"
      ]
     },
     "execution_count": 96,
     "metadata": {},
     "output_type": "execute_result"
    }
   ],
   "source": [
    "dt_list[-(len(rate_columns)- rate_columns.index('close'))].head()"
   ]
  },
  {
   "cell_type": "code",
   "execution_count": 97,
   "id": "fdf0d69c-8ded-4bdc-b87d-bd516b2cfb45",
   "metadata": {
    "execution": {
     "iopub.execute_input": "2025-02-28T11:45:24.090212Z",
     "iopub.status.busy": "2025-02-28T11:45:24.090212Z",
     "iopub.status.idle": "2025-02-28T11:45:24.112370Z",
     "shell.execute_reply": "2025-02-28T11:45:24.110345Z",
     "shell.execute_reply.started": "2025-02-28T11:45:24.090212Z"
    }
   },
   "outputs": [
    {
     "data": {
      "text/html": [
       "<div>\n",
       "<style scoped>\n",
       "    .dataframe tbody tr th:only-of-type {\n",
       "        vertical-align: middle;\n",
       "    }\n",
       "\n",
       "    .dataframe tbody tr th {\n",
       "        vertical-align: top;\n",
       "    }\n",
       "\n",
       "    .dataframe thead th {\n",
       "        text-align: right;\n",
       "    }\n",
       "</style>\n",
       "<table border=\"1\" class=\"dataframe\">\n",
       "  <thead>\n",
       "    <tr style=\"text-align: right;\">\n",
       "      <th></th>\n",
       "      <th>close_rate_60</th>\n",
       "    </tr>\n",
       "    <tr>\n",
       "      <th>date</th>\n",
       "      <th></th>\n",
       "    </tr>\n",
       "  </thead>\n",
       "  <tbody>\n",
       "    <tr>\n",
       "      <th>2010-01-04</th>\n",
       "      <td>0.157635</td>\n",
       "    </tr>\n",
       "    <tr>\n",
       "      <th>2010-01-05</th>\n",
       "      <td>0.145813</td>\n",
       "    </tr>\n",
       "    <tr>\n",
       "      <th>2010-01-06</th>\n",
       "      <td>0.122669</td>\n",
       "    </tr>\n",
       "    <tr>\n",
       "      <th>2010-01-07</th>\n",
       "      <td>0.155378</td>\n",
       "    </tr>\n",
       "    <tr>\n",
       "      <th>2010-01-08</th>\n",
       "      <td>0.218814</td>\n",
       "    </tr>\n",
       "    <tr>\n",
       "      <th>...</th>\n",
       "      <td>...</td>\n",
       "    </tr>\n",
       "    <tr>\n",
       "      <th>2024-10-29</th>\n",
       "      <td>-0.041026</td>\n",
       "    </tr>\n",
       "    <tr>\n",
       "      <th>2024-10-30</th>\n",
       "      <td>-0.025907</td>\n",
       "    </tr>\n",
       "    <tr>\n",
       "      <th>2024-10-31</th>\n",
       "      <td>-0.035015</td>\n",
       "    </tr>\n",
       "    <tr>\n",
       "      <th>2024-11-01</th>\n",
       "      <td>-0.030992</td>\n",
       "    </tr>\n",
       "    <tr>\n",
       "      <th>2024-11-04</th>\n",
       "      <td>-0.041451</td>\n",
       "    </tr>\n",
       "  </tbody>\n",
       "</table>\n",
       "<p>3602 rows × 1 columns</p>\n",
       "</div>"
      ],
      "text/plain": [
       "            close_rate_60\n",
       "date                     \n",
       "2010-01-04       0.157635\n",
       "2010-01-05       0.145813\n",
       "2010-01-06       0.122669\n",
       "2010-01-07       0.155378\n",
       "2010-01-08       0.218814\n",
       "...                   ...\n",
       "2024-10-29      -0.041026\n",
       "2024-10-30      -0.025907\n",
       "2024-10-31      -0.035015\n",
       "2024-11-01      -0.030992\n",
       "2024-11-04      -0.041451\n",
       "\n",
       "[3602 rows x 1 columns]"
      ]
     },
     "execution_count": 97,
     "metadata": {},
     "output_type": "execute_result"
    }
   ],
   "source": [
    "dt_list[-(len(rate_columns)- rate_columns.index('close'))].iloc[:-(N+1)]"
   ]
  },
  {
   "cell_type": "code",
   "execution_count": 99,
   "id": "ab11533d-b271-48f4-99c1-efcdda1430fb",
   "metadata": {
    "execution": {
     "iopub.execute_input": "2025-02-28T11:47:17.426129Z",
     "iopub.status.busy": "2025-02-28T11:47:17.426129Z",
     "iopub.status.idle": "2025-02-28T11:47:17.438213Z",
     "shell.execute_reply": "2025-02-28T11:47:17.437191Z",
     "shell.execute_reply.started": "2025-02-28T11:47:17.426129Z"
    }
   },
   "outputs": [
    {
     "data": {
      "text/plain": [
       "(3602,)"
      ]
     },
     "execution_count": 99,
     "metadata": {},
     "output_type": "execute_result"
    }
   ],
   "source": [
    "y_close = dt_list[-(len(rate_columns)- rate_columns.index('close'))][f'close_rate_{N}'].to_numpy()[:-(N+1)]\n",
    "y_close.shape"
   ]
  },
  {
   "cell_type": "code",
   "execution_count": 100,
   "id": "87f7f489-23e0-404a-ac00-b2b466d9ccbd",
   "metadata": {
    "execution": {
     "iopub.execute_input": "2025-02-28T11:47:18.405585Z",
     "iopub.status.busy": "2025-02-28T11:47:18.405585Z",
     "iopub.status.idle": "2025-02-28T11:47:18.416474Z",
     "shell.execute_reply": "2025-02-28T11:47:18.414451Z",
     "shell.execute_reply.started": "2025-02-28T11:47:18.405585Z"
    }
   },
   "outputs": [
    {
     "data": {
      "text/plain": [
       "0.15763546798029565"
      ]
     },
     "execution_count": 100,
     "metadata": {},
     "output_type": "execute_result"
    }
   ],
   "source": [
    "y_close[0]"
   ]
  },
  {
   "cell_type": "code",
   "execution_count": 101,
   "id": "fabcff34-c5d4-4230-9263-d9166d7b13c7",
   "metadata": {
    "execution": {
     "iopub.execute_input": "2025-02-28T11:47:20.787916Z",
     "iopub.status.busy": "2025-02-28T11:47:20.787916Z",
     "iopub.status.idle": "2025-02-28T11:47:20.800247Z",
     "shell.execute_reply": "2025-02-28T11:47:20.798227Z",
     "shell.execute_reply.started": "2025-02-28T11:47:20.787916Z"
    }
   },
   "outputs": [
    {
     "name": "stdout",
     "output_type": "stream",
     "text": [
      "(225, 16, 60, 4)\n",
      "(225, 16, 1)\n"
     ]
    }
   ],
   "source": [
    "# 裁剪，成整数批次\n",
    "_x_y_len = int(x_price.shape[0]/batch_size) * batch_size\n",
    "\n",
    "x_price = x_price[-_x_y_len:]\n",
    "y_close = y_close[-_x_y_len:]\n",
    "x_price = x_price.reshape(x_price.shape[0]//batch_size, batch_size, x_price.shape[1], x_price.shape[2])\n",
    "y_close = y_close.reshape(y_close.shape[0]//batch_size, batch_size, 1)\n",
    "print(x_price.shape)\n",
    "print(y_close.shape)"
   ]
  },
  {
   "cell_type": "code",
   "execution_count": null,
   "id": "e46b107d-50d7-4efa-b5fe-679f422d389b",
   "metadata": {},
   "outputs": [],
   "source": []
  },
  {
   "cell_type": "code",
   "execution_count": 102,
   "id": "735b902a-73c2-4ddd-bba7-d332f8f61c82",
   "metadata": {
    "execution": {
     "iopub.execute_input": "2025-02-28T11:47:30.627814Z",
     "iopub.status.busy": "2025-02-28T11:47:30.626841Z",
     "iopub.status.idle": "2025-02-28T11:47:30.645358Z",
     "shell.execute_reply": "2025-02-28T11:47:30.644342Z",
     "shell.execute_reply.started": "2025-02-28T11:47:30.627814Z"
    }
   },
   "outputs": [],
   "source": [
    "# 这里要区分训练集和测试集\n",
    "\n",
    "\n",
    "\n",
    "dataset = Data.TensorDataset(torch.FloatTensor(x_price), torch.FloatTensor(y_close))\n",
    "batch_size = 16\n",
    "train_loader, test_loader = Data.random_split(dataset,\n",
    "                                             lengths=[int(0.9*len(dataset)), len(dataset)- int(0.9*len(dataset))],\n",
    "                                             generator=torch.Generator().manual_seed(0))"
   ]
  },
  {
   "cell_type": "code",
   "execution_count": null,
   "id": "b10ce0a9-4c4d-448f-b414-cd3a38da67c5",
   "metadata": {},
   "outputs": [],
   "source": []
  },
  {
   "cell_type": "code",
   "execution_count": null,
   "id": "acbb253d-5136-4acb-ba5c-5b8deafa02bc",
   "metadata": {},
   "outputs": [],
   "source": []
  },
  {
   "cell_type": "markdown",
   "id": "585a6357-a1e6-421a-a398-26ca98ae4771",
   "metadata": {},
   "source": [
    "# 神经网络"
   ]
  },
  {
   "cell_type": "code",
   "execution_count": 103,
   "id": "b001004c-682f-4abb-b125-6b84c8000e09",
   "metadata": {
    "execution": {
     "iopub.execute_input": "2025-02-28T11:47:32.506441Z",
     "iopub.status.busy": "2025-02-28T11:47:32.505453Z",
     "iopub.status.idle": "2025-02-28T11:47:32.520100Z",
     "shell.execute_reply": "2025-02-28T11:47:32.518083Z",
     "shell.execute_reply.started": "2025-02-28T11:47:32.506441Z"
    }
   },
   "outputs": [],
   "source": [
    "# 这里做一个网络\n",
    "import torch.nn as nn\n",
    "class GRUModel(nn.Module):\n",
    "    def __init__(self, input_size, hidden_size, num_layers, output_size):\n",
    "        super(GRUModel, self).__init__()\n",
    "        self.gru = nn.GRU(input_size, hidden_size, num_layers, batch_first=True)\n",
    "        self.fc = nn.Linear(hidden_size, output_size)\n",
    "    def forward(self, x):\n",
    "        out, _ = self.gru(x) # gru层\n",
    "        out = self.fc(out[:,-1, :]) # 全连接层\n",
    "        return out"
   ]
  },
  {
   "cell_type": "markdown",
   "id": "a6b2e2f6-9f54-4a00-820c-6f54a052ca7a",
   "metadata": {},
   "source": [
    "# 训练"
   ]
  },
  {
   "cell_type": "code",
   "execution_count": null,
   "id": "5fcdcb38-045c-4981-932f-06754c388a6e",
   "metadata": {},
   "outputs": [],
   "source": []
  },
  {
   "cell_type": "code",
   "execution_count": 104,
   "id": "e349a268-0a33-4d2a-a785-8a84f991e8e1",
   "metadata": {
    "execution": {
     "iopub.execute_input": "2025-02-28T11:47:33.946805Z",
     "iopub.status.busy": "2025-02-28T11:47:33.945809Z",
     "iopub.status.idle": "2025-02-28T11:47:34.082815Z",
     "shell.execute_reply": "2025-02-28T11:47:34.080798Z",
     "shell.execute_reply.started": "2025-02-28T11:47:33.946805Z"
    }
   },
   "outputs": [],
   "source": [
    "device = torch.device(\"cuda:0\" if torch.cuda.is_available() else \"cpu\")\n",
    "net = GRUModel(input_size, hidden_size, num_layers, output_size).to(device)\n",
    "criterion = torch.nn.MSELoss() # 均方差误差函数\n",
    "optimizer = optim.Adam(net.parameters(), lr=0.001)"
   ]
  },
  {
   "cell_type": "code",
   "execution_count": 105,
   "id": "97f0b1a0-bb31-454d-a48e-015634b70d4d",
   "metadata": {
    "execution": {
     "iopub.execute_input": "2025-02-28T11:47:34.349577Z",
     "iopub.status.busy": "2025-02-28T11:47:34.348578Z",
     "iopub.status.idle": "2025-02-28T11:50:10.767879Z",
     "shell.execute_reply": "2025-02-28T11:50:10.765863Z",
     "shell.execute_reply.started": "2025-02-28T11:47:34.349577Z"
    }
   },
   "outputs": [
    {
     "name": "stdout",
     "output_type": "stream",
     "text": [
      "[1, 200]: loss : max:0.28708, min:0.00019, avg:0.02139\n",
      "[2, 200]: loss : max:0.11423, min:0.00011, avg:0.00577\n",
      "[3, 200]: loss : max:0.06379, min:0.00011, avg:0.00356\n",
      "[4, 200]: loss : max:0.04108, min:0.00008, avg:0.00266\n",
      "[5, 200]: loss : max:0.02857, min:0.00007, avg:0.00211\n",
      "[6, 200]: loss : max:0.02182, min:0.00010, avg:0.00180\n",
      "[7, 200]: loss : max:0.01853, min:0.00008, avg:0.00164\n",
      "[8, 200]: loss : max:0.01691, min:0.00007, avg:0.00157\n",
      "[9, 200]: loss : max:0.01589, min:0.00006, avg:0.00153\n",
      "[10, 200]: loss : max:0.01501, min:0.00006, avg:0.00148\n",
      "Finished Training.\n"
     ]
    }
   ],
   "source": [
    "for epoch in range(10):  # 迭代一次\n",
    "    running_loss = 0.0\n",
    "    running_loss_2 = []\n",
    "    for i, data in enumerate(train_loader, 0):\n",
    "        # 获取输入\n",
    "        inputs, labels = data\n",
    "        inputs = inputs.to(device)\n",
    "        labels = labels.to(device)\n",
    "        # 梯度置 0\n",
    "        optimizer.zero_grad()\n",
    "        # 正向传播，反向传播，优化\n",
    "        outputs = net(inputs)\n",
    "        loss = criterion(outputs, labels)\n",
    "        loss.backward()\n",
    "        optimizer.step()\n",
    "        # 打印状态信息\n",
    "        # running_loss += loss.item()\n",
    "        running_loss_2.append(loss.item())\n",
    "        if i % 200 == 199:    # 每 200 批次打印一次\n",
    "            print(f'[{epoch + 1}, {i + 1}]: loss : max:{max(running_loss_2):.5f}, min:{min(running_loss_2):.5f}, avg:{sum(running_loss_2)/len(running_loss_2):.5f}')\n",
    "            # print('[%d, %5d] loss: ,max : %.3f,  min: ' , %\n",
    "            #       (epoch + 1, i + 1, running_loss / 200))\n",
    "            # running_loss = 0.0\n",
    "            running_loss_2 = []\n",
    "    # # 每轮迭代打印一次\n",
    "    # if epoch % 10 == 0:\n",
    "    #     print('[%d, %5d] loss: %.3f' % (epoch + 1, i + 1, loss.item()))\n",
    "    #     running_loss = 0.0\n",
    "\n",
    "    \n",
    "print('Finished Training.')"
   ]
  },
  {
   "cell_type": "code",
   "execution_count": null,
   "id": "f119e066-f29c-484f-b9c8-e160dee821bd",
   "metadata": {},
   "outputs": [],
   "source": []
  },
  {
   "cell_type": "markdown",
   "id": "46e6f07b-44a0-4097-b128-f875c5b66cf9",
   "metadata": {},
   "source": [
    "# 测试数据"
   ]
  },
  {
   "cell_type": "code",
   "execution_count": 107,
   "id": "af0a11ed-3546-4834-b046-b0cbff26fa87",
   "metadata": {
    "execution": {
     "iopub.execute_input": "2025-02-28T12:05:24.405385Z",
     "iopub.status.busy": "2025-02-28T12:05:24.404384Z",
     "iopub.status.idle": "2025-02-28T12:05:25.082421Z",
     "shell.execute_reply": "2025-02-28T12:05:25.079404Z",
     "shell.execute_reply.started": "2025-02-28T12:05:24.405385Z"
    }
   },
   "outputs": [
    {
     "name": "stdout",
     "output_type": "stream",
     "text": [
      "10, loss: max: 0.011340830475091934, min:0.0008061322150751948, avg:0.0030817871650114007\n"
     ]
    }
   ],
   "source": [
    "with torch.no_grad():\n",
    "    running_loss_2 = []\n",
    "    for i, data in enumerate(test_loader, 0):\n",
    "        # 获取输入\n",
    "        inputs, labels = data\n",
    "        inputs = inputs.to(device)\n",
    "        labels = labels.to(device)\n",
    "        # 正向传播，反向传播，优化\n",
    "        outputs = net(inputs)\n",
    "        loss = criterion(outputs, labels)\n",
    "        running_loss_2.append(loss.item())\n",
    "    # 每一次显示一下损失的最大值和最小值\n",
    "    print(f'loss: max: {max(running_loss_2)}, min:{min(running_loss_2)}, avg:{sum(running_loss_2)/len(running_loss_2)}')"
   ]
  },
  {
   "cell_type": "markdown",
   "id": "bc740554-b538-49b0-91a1-be9247ba3875",
   "metadata": {},
   "source": [
    "# 保存模型"
   ]
  },
  {
   "cell_type": "code",
   "execution_count": 109,
   "id": "b3076896-d923-43ed-9d92-cd2072d66359",
   "metadata": {
    "execution": {
     "iopub.execute_input": "2025-02-28T12:12:03.666487Z",
     "iopub.status.busy": "2025-02-28T12:12:03.665486Z",
     "iopub.status.idle": "2025-02-28T12:12:03.736474Z",
     "shell.execute_reply": "2025-02-28T12:12:03.734453Z",
     "shell.execute_reply.started": "2025-02-28T12:12:03.666487Z"
    }
   },
   "outputs": [],
   "source": [
    "import os\n",
    "model_path = os.path.join('./模型', f\"{zz500[0]}.pth\")\n",
    "torch.save(net, model_path)"
   ]
  },
  {
   "cell_type": "markdown",
   "id": "297a8d08-fcc3-4753-82a2-1e5bab93e0ce",
   "metadata": {},
   "source": [
    "# 读取数据的函数"
   ]
  },
  {
   "cell_type": "code",
   "execution_count": 110,
   "id": "bfe989e1-5be1-47f4-9dd5-715d80b4a021",
   "metadata": {
    "execution": {
     "iopub.execute_input": "2025-02-28T12:45:27.337230Z",
     "iopub.status.busy": "2025-02-28T12:45:27.336230Z",
     "iopub.status.idle": "2025-02-28T12:45:27.381229Z",
     "shell.execute_reply": "2025-02-28T12:45:27.380228Z",
     "shell.execute_reply.started": "2025-02-28T12:45:27.337230Z"
    }
   },
   "outputs": [],
   "source": [
    "def get_loader(code_name, N=60, rate_columns=['open', 'high', 'low', 'close'], batch_size=16, train_rate=0.9):\n",
    "    dt = DataSource.get_data(code_name)\n",
    "    dt_list = []\n",
    "    for j in range(N+1):\n",
    "        # N+1表示要多一天，比如前面30天，我要看看第31天的收盘价相对于第一天的收盘价是什么比例\n",
    "        for i in rate_columns:\n",
    "            dt_tmp = pd.DataFrame({f'{i}_rate_{j}':(dt[f'{i}'].shift(-j) - dt[f'preclose'])/dt[f'preclose']})\n",
    "            dt_list.append(dt_tmp)\n",
    "    \n",
    "    dt2 = pd.concat(dt_list[:-(len(rate_columns))], axis=1)\n",
    "    # x\n",
    "    x_price = dt2.to_numpy()\n",
    "    x_price = x_price[:-(N+1)]\n",
    "    # 更改维度\n",
    "    x_shape_old = x_price.shape\n",
    "    x_shape_new_1 = x_shape_old[0]\n",
    "    x_shape_new_3 = len(rate_columns)\n",
    "    x_shape_new_2 = int(x_shape_old[1] / x_shape_new_3)\n",
    "    x_price = x_price.reshape((x_shape_new_1, x_shape_new_2, x_shape_new_3))\n",
    "    # y\n",
    "    y_close = dt_list[-(len(rate_columns)- rate_columns.index('close'))][f'close_rate_{N}'].to_numpy()[:-(N+1)]\n",
    "    # 然后是批次的整数倍\n",
    "    _x_y_len = int(x_price.shape[0]/batch_size) * batch_size\n",
    "    \n",
    "    x_price = x_price[-_x_y_len:]\n",
    "    y_close = y_close[-_x_y_len:]\n",
    "    x_price = x_price.reshape(x_price.shape[0]//batch_size, batch_size, x_price.shape[1], x_price.shape[2])\n",
    "    y_close = y_close.reshape(y_close.shape[0]//batch_size, batch_size, 1)\n",
    "    # 做成加载器\n",
    "    dataset = Data.TensorDataset(torch.FloatTensor(x_price), torch.FloatTensor(y_close))\n",
    "    train_loader, test_loader = Data.random_split(dataset,\n",
    "                                                 lengths=[int(train_rate*len(dataset)), len(dataset)- int(train_rate*len(dataset))],\n",
    "                                                 generator=torch.Generator().manual_seed(0))\n",
    "    return train_loader, test_loader\n",
    "\n",
    "    "
   ]
  },
  {
   "cell_type": "code",
   "execution_count": null,
   "id": "a9444144-8cb6-4745-ab51-5b378308d9ba",
   "metadata": {
    "execution": {
     "iopub.execute_input": "2025-02-28T12:48:31.490313Z",
     "iopub.status.busy": "2025-02-28T12:48:31.489322Z"
    },
    "scrolled": true
   },
   "outputs": [
    {
     "name": "stdout",
     "output_type": "stream",
     "text": [
      "sh.600004：loss: max: 0.05766661837697029, min:0.00013507597032003105, avg:0.0031200260577122383\n",
      "sh.600007：loss: max: 0.11735248565673828, min:0.00029643840389326215, avg:0.003640793509072546\n",
      "sh.600008：loss: max: 0.08081412315368652, min:0.0005158991552889347, avg:0.004678237290073443\n",
      "sh.600021：loss: max: 0.8158788681030273, min:0.00021617321181111038, avg:0.017153640181196653\n",
      "sh.600032：loss: max: 0.03822392225265503, min:0.00011160094436490908, avg:0.003452598753396392\n",
      "sh.600038：loss: max: 0.045919544994831085, min:0.00048359096399508417, avg:0.003588942383797931\n",
      "sh.600056：loss: max: 1.3841007947921753, min:0.00019056754535995424, avg:0.014785106859302946\n",
      "sh.600060：loss: max: 0.20330774784088135, min:0.00012914305261801928, avg:0.0071659169683555195\n",
      "sh.600062：loss: max: 0.7862763404846191, min:0.0002741701027844101, avg:0.007390127295204966\n",
      "sh.600079：loss: max: 0.10253335535526276, min:0.0003211036091670394, avg:0.004253290920791313\n",
      "sh.600095：loss: max: 0.21937155723571777, min:0.0002550352655816823, avg:0.009076772859690508\n",
      "sh.600096：loss: max: 0.3760837912559509, min:0.00012600430636666715, avg:0.009150266650779714\n",
      "sh.600098：loss: max: 0.06873361766338348, min:0.00017448494327254593, avg:0.003321507626518222\n",
      "sh.600109：loss: max: 0.13233862817287445, min:0.0002648810623213649, avg:0.005354967320554665\n",
      "sh.600118：loss: max: 0.40627267956733704, min:0.00045625827624462545, avg:0.00855377194826638\n",
      "sh.600126：loss: max: 0.3988230228424072, min:0.0001307590282522142, avg:0.0072346329170748305\n",
      "sh.600129：loss: max: 0.499819278717041, min:0.0002201320749009028, avg:0.009511535292565295\n",
      "sh.600131：loss: max: 2.504037618637085, min:0.000304915476590395, avg:0.03711734169545317\n",
      "sh.600132：loss: max: 0.1363665908575058, min:0.0002572712837718427, avg:0.005890217671638786\n",
      "sh.600141：loss: max: 0.8650383353233337, min:0.00037564721424132586, avg:0.011868474919439565\n",
      "sh.600143：loss: max: 0.3198786973953247, min:0.00017629524518270046, avg:0.006590784005069499\n",
      "sh.600153：loss: max: 0.16259998083114624, min:0.00010926870163530111, avg:0.0045667375004081875\n",
      "sh.600155：loss: max: 0.6827811598777771, min:0.00019195216009393334, avg:0.011399564975838227\n",
      "sh.600157：loss: max: 0.6352978944778442, min:0.00013901464990340173, avg:0.011336624642846684\n",
      "sh.600166：loss: max: 0.040291473269462585, min:0.00013771140947937965, avg:0.0033134128481179495\n",
      "sh.600170：loss: max: 0.08777249604463577, min:0.0003501043247524649, avg:0.004643653020385442\n",
      "sh.600177：loss: max: 0.1406038999557495, min:0.0002884375862777233, avg:0.00425224446862468\n",
      "sh.600208：loss: max: 0.19655396044254303, min:0.00027536912239156663, avg:0.005880004135671581\n",
      "sh.600258：loss: max: 0.021507350727915764, min:0.00034344190498813987, avg:0.0029817697994371996\n",
      "sh.600271：loss: max: 0.33667558431625366, min:0.0002334974706172943, avg:0.00655224753455993\n",
      "sh.600282：loss: max: 0.10472241044044495, min:0.0001888192491605878, avg:0.005462531399513994\n",
      "sh.600295：loss: max: 0.2609643340110779, min:0.00014219254080671817, avg:0.008904654415323758\n",
      "sh.600298：loss: max: 0.04493185505270958, min:0.0003462039167061448, avg:0.0035140319022561053\n",
      "sh.600299：loss: max: 0.7026348114013672, min:0.0002514296502340585, avg:0.01962646602175836\n",
      "sh.600312：loss: max: 0.025223905220627785, min:0.00011609455395955592, avg:0.003319806961318033\n",
      "sh.600316：loss: max: 1.092922568321228, min:0.00028950138948857784, avg:0.016052250738606645\n",
      "sh.600325：loss: max: 0.16136910021305084, min:7.50694889575243e-05, avg:0.0045537922465846885\n",
      "sh.600329：loss: max: 0.05153926461935043, min:0.00040747065213508904, avg:0.0037679323610296848\n",
      "sh.600339：loss: max: 0.06530776619911194, min:0.00019548580166883767, avg:0.0035643467788293204\n",
      "sh.600348：loss: max: 0.3757660984992981, min:0.00014108487812336534, avg:0.010459677214815116\n",
      "sh.600350：loss: max: 0.17065782845020294, min:0.00024431984638795257, avg:0.004082276875392896\n",
      "sh.600352：loss: max: 0.45519185066223145, min:0.00036571253440342844, avg:0.008527647580732385\n",
      "sh.600361：loss: max: 0.13900037109851837, min:0.00037555283051915467, avg:0.005019545055188358\n",
      "sh.600369：loss: max: 0.26711025834083557, min:0.00024029506312217563, avg:0.005261516327619337\n",
      "sh.600373：loss: max: 0.16919095814228058, min:0.000166555488249287, avg:0.004793929213972239\n",
      "sh.600378：loss: max: 0.08738067746162415, min:0.00029481283854693174, avg:0.0044308196918997605\n",
      "sh.600380：loss: max: 1.7633392810821533, min:0.0002671543334145099, avg:0.02720560521240635\n",
      "sh.600390：loss: max: 0.15469413995742798, min:0.00023726525250822306, avg:0.00710981253252406\n",
      "sh.600392：loss: max: 1.018293857574463, min:0.0001320768496952951, avg:0.018682521016519342\n",
      "sh.600398：loss: max: 0.19472059607505798, min:0.0002472118358127773, avg:0.005464299533342979\n",
      "sh.600416：loss: max: 0.1720917820930481, min:0.00025055554579012096, avg:0.006120742737514017\n",
      "sh.600418：loss: max: 0.579974353313446, min:0.00025886367075145245, avg:0.01487665092374721\n",
      "sh.600435：loss: max: 0.29285773634910583, min:0.000249757751589641, avg:0.008494008176219122\n",
      "sh.600483：loss: max: 0.15291297435760498, min:0.0003949213423766196, avg:0.00504564829549197\n",
      "sh.600486：loss: max: 0.04684935510158539, min:0.000252107362030074, avg:0.004039809304338839\n",
      "sh.600487：loss: max: 0.17503653466701508, min:0.00015108028310351074, avg:0.004936348714979292\n",
      "sh.600497：loss: max: 0.054139573127031326, min:0.00038643160951323807, avg:0.0034907301579627298\n",
      "sh.600498：loss: max: 0.1402723640203476, min:0.00021640639170072973, avg:0.004707628336197151\n",
      "sh.600499：loss: max: 0.33730489015579224, min:0.00015459010319318622, avg:0.007780682807458505\n",
      "sh.600500：loss: max: 0.24337343871593475, min:0.00047528225695714355, avg:0.004223951521923701\n",
      "sh.600511：loss: max: 0.030986201018095016, min:0.00022982379596214741, avg:0.003143357662894084\n",
      "sh.600516：loss: max: 2.4814090728759766, min:0.00021602062042802572, avg:0.035822099978803874\n",
      "sh.600517：loss: max: 0.906313955783844, min:0.0002567814663052559, avg:0.010461244367411719\n",
      "sh.600521：loss: max: 0.10533342510461807, min:0.00025015597930178046, avg:0.005047974252833622\n"
     ]
    }
   ],
   "source": [
    "for i  in range(len(zz500)):\n",
    "    train_loader2, test_loader2 = get_loader(zz500[i], train_rate=0.1)\n",
    "    # 我这里用测试集来测试\n",
    "    running_loss_2 = []\n",
    "    for i, data in enumerate(test_loader2, 0):\n",
    "            # 获取输入\n",
    "            inputs, labels = data\n",
    "            inputs = inputs.to(device)\n",
    "            labels = labels.to(device)\n",
    "            # 正向传播，反向传播，优化\n",
    "            outputs = net(inputs)\n",
    "            loss = criterion(outputs, labels)\n",
    "            running_loss_2.append(loss.item())\n",
    "    # 每一次显示一下损失的最大值和最小值\n",
    "    print(f'{i}:{code_name}：loss: max: {max(running_loss_2)}, min:{min(running_loss_2)}, avg:{sum(running_loss_2)/len(running_loss_2)}')\n"
   ]
  },
  {
   "cell_type": "code",
   "execution_count": null,
   "id": "f1147d44-da40-4c2a-a031-0ccbc78e4b96",
   "metadata": {},
   "outputs": [],
   "source": []
  },
  {
   "cell_type": "code",
   "execution_count": null,
   "id": "a5dad641-462c-4530-884d-ef762da54507",
   "metadata": {},
   "outputs": [],
   "source": []
  }
 ],
 "metadata": {
  "kernelspec": {
   "display_name": "Python 3 (ipykernel)",
   "language": "python",
   "name": "python3"
  },
  "language_info": {
   "codemirror_mode": {
    "name": "ipython",
    "version": 3
   },
   "file_extension": ".py",
   "mimetype": "text/x-python",
   "name": "python",
   "nbconvert_exporter": "python",
   "pygments_lexer": "ipython3",
   "version": "3.11.5"
  }
 },
 "nbformat": 4,
 "nbformat_minor": 5
}
