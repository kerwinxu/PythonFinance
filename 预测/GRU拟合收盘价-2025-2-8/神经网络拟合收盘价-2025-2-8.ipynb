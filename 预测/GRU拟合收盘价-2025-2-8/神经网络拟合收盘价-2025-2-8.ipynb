{
 "cells": [
  {
   "cell_type": "code",
   "execution_count": 1,
   "id": "7e0dd952-9086-4b21-8617-5d509ada60c2",
   "metadata": {
    "execution": {
     "iopub.execute_input": "2025-02-28T07:32:04.658752Z",
     "iopub.status.busy": "2025-02-28T07:32:04.654753Z",
     "iopub.status.idle": "2025-02-28T07:32:30.893427Z",
     "shell.execute_reply": "2025-02-28T07:32:30.892410Z",
     "shell.execute_reply.started": "2025-02-28T07:32:04.658752Z"
    }
   },
   "outputs": [],
   "source": [
    "import sys\n",
    "import pandas as pd\n",
    "import numpy as np\n",
    "import torch\n",
    "import torch.nn as nn\n",
    "import torch.optim as optim\n",
    "import talib\n",
    "import torch.utils.data as Data"
   ]
  },
  {
   "cell_type": "markdown",
   "id": "da274e41-0353-490f-b283-caad2c4e64a6",
   "metadata": {},
   "source": [
    "我想要用lstm的网络来预测收盘价。  \n",
    "x是多日的价格涨跌幅度，都是在-0.1到0.1之间。以及成交量的倍率  \n",
    "y是收盘价  "
   ]
  },
  {
   "cell_type": "markdown",
   "id": "81745f3d-35b7-4bd3-aba0-6053d7916d97",
   "metadata": {},
   "source": [
    "# 获取数据"
   ]
  },
  {
   "cell_type": "code",
   "execution_count": 2,
   "id": "8fc35175-9977-48e5-9391-4ef7d904d49b",
   "metadata": {
    "execution": {
     "iopub.execute_input": "2025-02-28T07:32:30.905431Z",
     "iopub.status.busy": "2025-02-28T07:32:30.903429Z",
     "iopub.status.idle": "2025-02-28T07:32:31.169695Z",
     "shell.execute_reply": "2025-02-28T07:32:31.165678Z",
     "shell.execute_reply.started": "2025-02-28T07:32:30.905431Z"
    }
   },
   "outputs": [],
   "source": [
    "sys.path.append('../../')\n",
    "import  DataSource\n",
    "zz500 = DataSource.get_zz500_codes() # 我看中证500的数据\n",
    "# 我这里查看第一个股票的吧\n",
    "dt = DataSource.get_data(zz500[0])"
   ]
  },
  {
   "cell_type": "code",
   "execution_count": 3,
   "id": "849ae295-b253-4b33-bec9-1d6a980c4bd5",
   "metadata": {
    "execution": {
     "iopub.execute_input": "2025-02-28T07:32:31.194694Z",
     "iopub.status.busy": "2025-02-28T07:32:31.193698Z",
     "iopub.status.idle": "2025-02-28T07:32:31.340599Z",
     "shell.execute_reply": "2025-02-28T07:32:31.337581Z",
     "shell.execute_reply.started": "2025-02-28T07:32:31.194694Z"
    }
   },
   "outputs": [
    {
     "data": {
      "text/html": [
       "<div>\n",
       "<style scoped>\n",
       "    .dataframe tbody tr th:only-of-type {\n",
       "        vertical-align: middle;\n",
       "    }\n",
       "\n",
       "    .dataframe tbody tr th {\n",
       "        vertical-align: top;\n",
       "    }\n",
       "\n",
       "    .dataframe thead th {\n",
       "        text-align: right;\n",
       "    }\n",
       "</style>\n",
       "<table border=\"1\" class=\"dataframe\">\n",
       "  <thead>\n",
       "    <tr style=\"text-align: right;\">\n",
       "      <th></th>\n",
       "      <th>code</th>\n",
       "      <th>open</th>\n",
       "      <th>high</th>\n",
       "      <th>low</th>\n",
       "      <th>close</th>\n",
       "      <th>preclose</th>\n",
       "      <th>volume</th>\n",
       "      <th>amount</th>\n",
       "      <th>adjustflag</th>\n",
       "      <th>turn</th>\n",
       "      <th>tradestatus</th>\n",
       "      <th>pctChg</th>\n",
       "      <th>isST</th>\n",
       "    </tr>\n",
       "    <tr>\n",
       "      <th>date</th>\n",
       "      <th></th>\n",
       "      <th></th>\n",
       "      <th></th>\n",
       "      <th></th>\n",
       "      <th></th>\n",
       "      <th></th>\n",
       "      <th></th>\n",
       "      <th></th>\n",
       "      <th></th>\n",
       "      <th></th>\n",
       "      <th></th>\n",
       "      <th></th>\n",
       "      <th></th>\n",
       "    </tr>\n",
       "  </thead>\n",
       "  <tbody>\n",
       "    <tr>\n",
       "      <th>2010-01-04</th>\n",
       "      <td>sh.600004</td>\n",
       "      <td>5.046509</td>\n",
       "      <td>5.111144</td>\n",
       "      <td>5.041537</td>\n",
       "      <td>5.046509</td>\n",
       "      <td>5.046509</td>\n",
       "      <td>15478854</td>\n",
       "      <td>157747809.0</td>\n",
       "      <td>2</td>\n",
       "      <td>1.525010</td>\n",
       "      <td>1</td>\n",
       "      <td>0.0000</td>\n",
       "      <td>0</td>\n",
       "    </tr>\n",
       "    <tr>\n",
       "      <th>2010-01-05</th>\n",
       "      <td>sh.600004</td>\n",
       "      <td>5.046509</td>\n",
       "      <td>5.091256</td>\n",
       "      <td>5.041537</td>\n",
       "      <td>5.066397</td>\n",
       "      <td>5.046509</td>\n",
       "      <td>11070922</td>\n",
       "      <td>112683563.0</td>\n",
       "      <td>2</td>\n",
       "      <td>1.090731</td>\n",
       "      <td>1</td>\n",
       "      <td>0.3941</td>\n",
       "      <td>0</td>\n",
       "    </tr>\n",
       "    <tr>\n",
       "      <th>2010-01-06</th>\n",
       "      <td>sh.600004</td>\n",
       "      <td>5.056453</td>\n",
       "      <td>5.066397</td>\n",
       "      <td>4.981874</td>\n",
       "      <td>4.991818</td>\n",
       "      <td>5.066397</td>\n",
       "      <td>9410665</td>\n",
       "      <td>95205863.0</td>\n",
       "      <td>2</td>\n",
       "      <td>0.927159</td>\n",
       "      <td>1</td>\n",
       "      <td>-1.4720</td>\n",
       "      <td>0</td>\n",
       "    </tr>\n",
       "    <tr>\n",
       "      <th>2010-01-07</th>\n",
       "      <td>sh.600004</td>\n",
       "      <td>4.971930</td>\n",
       "      <td>4.996790</td>\n",
       "      <td>4.827744</td>\n",
       "      <td>4.862548</td>\n",
       "      <td>4.991818</td>\n",
       "      <td>8961813</td>\n",
       "      <td>88611912.0</td>\n",
       "      <td>2</td>\n",
       "      <td>0.882937</td>\n",
       "      <td>1</td>\n",
       "      <td>-2.5896</td>\n",
       "      <td>0</td>\n",
       "    </tr>\n",
       "    <tr>\n",
       "      <th>2010-01-08</th>\n",
       "      <td>sh.600004</td>\n",
       "      <td>4.837688</td>\n",
       "      <td>5.096228</td>\n",
       "      <td>4.837688</td>\n",
       "      <td>5.061425</td>\n",
       "      <td>4.862548</td>\n",
       "      <td>14923812</td>\n",
       "      <td>149969456.0</td>\n",
       "      <td>2</td>\n",
       "      <td>1.470326</td>\n",
       "      <td>1</td>\n",
       "      <td>4.0900</td>\n",
       "      <td>0</td>\n",
       "    </tr>\n",
       "  </tbody>\n",
       "</table>\n",
       "</div>"
      ],
      "text/plain": [
       "                 code      open      high       low     close  preclose  \\\n",
       "date                                                                      \n",
       "2010-01-04  sh.600004  5.046509  5.111144  5.041537  5.046509  5.046509   \n",
       "2010-01-05  sh.600004  5.046509  5.091256  5.041537  5.066397  5.046509   \n",
       "2010-01-06  sh.600004  5.056453  5.066397  4.981874  4.991818  5.066397   \n",
       "2010-01-07  sh.600004  4.971930  4.996790  4.827744  4.862548  4.991818   \n",
       "2010-01-08  sh.600004  4.837688  5.096228  4.837688  5.061425  4.862548   \n",
       "\n",
       "              volume       amount  adjustflag      turn  tradestatus  pctChg  \\\n",
       "date                                                                           \n",
       "2010-01-04  15478854  157747809.0           2  1.525010            1  0.0000   \n",
       "2010-01-05  11070922  112683563.0           2  1.090731            1  0.3941   \n",
       "2010-01-06   9410665   95205863.0           2  0.927159            1 -1.4720   \n",
       "2010-01-07   8961813   88611912.0           2  0.882937            1 -2.5896   \n",
       "2010-01-08  14923812  149969456.0           2  1.470326            1  4.0900   \n",
       "\n",
       "            isST  \n",
       "date              \n",
       "2010-01-04     0  \n",
       "2010-01-05     0  \n",
       "2010-01-06     0  \n",
       "2010-01-07     0  \n",
       "2010-01-08     0  "
      ]
     },
     "execution_count": 3,
     "metadata": {},
     "output_type": "execute_result"
    }
   ],
   "source": [
    "dt.head()"
   ]
  },
  {
   "cell_type": "code",
   "execution_count": 4,
   "id": "728fdc01-b1b5-4f21-845f-f460579e4dab",
   "metadata": {
    "execution": {
     "iopub.execute_input": "2025-02-28T07:32:31.351601Z",
     "iopub.status.busy": "2025-02-28T07:32:31.350602Z",
     "iopub.status.idle": "2025-02-28T07:32:31.370000Z",
     "shell.execute_reply": "2025-02-28T07:32:31.365979Z",
     "shell.execute_reply.started": "2025-02-28T07:32:31.351601Z"
    }
   },
   "outputs": [],
   "source": [
    "N = 60 # 多少日的数据\n",
    "# 我这里仅仅是记录如下的列的涨跌幅度\n",
    "rate_columns = ['open', 'high', 'low', 'close', 'volume']\n",
    "input_size = len(rate_columns)\n",
    "seq_len = N    # 多少个时间序列的股票\n",
    "output_size = 1 # 我只是输出一个今天的收盘价相比较昨日的涨跌比率\n",
    "num_layers = 10 # 多少个gru合并\n",
    "hidden_size = 20 # 隐藏层的宽度\n",
    "batch_size = 16 # 一个批次有多少个数据\n",
    "lr = 0.01\n",
    "# 这里先看看怎样快速的截取数据,然后还要归一化，"
   ]
  },
  {
   "cell_type": "code",
   "execution_count": 5,
   "id": "254378bf-44b6-405d-ba74-9f99a31c4c69",
   "metadata": {
    "execution": {
     "iopub.execute_input": "2025-02-28T07:32:31.392998Z",
     "iopub.status.busy": "2025-02-28T07:32:31.392030Z",
     "iopub.status.idle": "2025-02-28T07:32:31.473925Z",
     "shell.execute_reply": "2025-02-28T07:32:31.471908Z",
     "shell.execute_reply.started": "2025-02-28T07:32:31.392998Z"
    }
   },
   "outputs": [
    {
     "data": {
      "text/html": [
       "<div>\n",
       "<style scoped>\n",
       "    .dataframe tbody tr th:only-of-type {\n",
       "        vertical-align: middle;\n",
       "    }\n",
       "\n",
       "    .dataframe tbody tr th {\n",
       "        vertical-align: top;\n",
       "    }\n",
       "\n",
       "    .dataframe thead th {\n",
       "        text-align: right;\n",
       "    }\n",
       "</style>\n",
       "<table border=\"1\" class=\"dataframe\">\n",
       "  <thead>\n",
       "    <tr style=\"text-align: right;\">\n",
       "      <th></th>\n",
       "      <th>open_rate</th>\n",
       "      <th>high_rate</th>\n",
       "      <th>low_rate</th>\n",
       "      <th>close_rate</th>\n",
       "      <th>volume_rate</th>\n",
       "    </tr>\n",
       "    <tr>\n",
       "      <th>date</th>\n",
       "      <th></th>\n",
       "      <th></th>\n",
       "      <th></th>\n",
       "      <th></th>\n",
       "      <th></th>\n",
       "    </tr>\n",
       "  </thead>\n",
       "  <tbody>\n",
       "    <tr>\n",
       "      <th>2010-01-04</th>\n",
       "      <td>NaN</td>\n",
       "      <td>NaN</td>\n",
       "      <td>NaN</td>\n",
       "      <td>NaN</td>\n",
       "      <td>NaN</td>\n",
       "    </tr>\n",
       "    <tr>\n",
       "      <th>2010-01-05</th>\n",
       "      <td>0.000000</td>\n",
       "      <td>-0.003891</td>\n",
       "      <td>0.000000</td>\n",
       "      <td>0.003941</td>\n",
       "      <td>-0.284771</td>\n",
       "    </tr>\n",
       "    <tr>\n",
       "      <th>2010-01-06</th>\n",
       "      <td>0.001970</td>\n",
       "      <td>-0.004883</td>\n",
       "      <td>-0.011834</td>\n",
       "      <td>-0.014720</td>\n",
       "      <td>-0.149966</td>\n",
       "    </tr>\n",
       "    <tr>\n",
       "      <th>2010-01-07</th>\n",
       "      <td>-0.016716</td>\n",
       "      <td>-0.013739</td>\n",
       "      <td>-0.030938</td>\n",
       "      <td>-0.025896</td>\n",
       "      <td>-0.047696</td>\n",
       "    </tr>\n",
       "    <tr>\n",
       "      <th>2010-01-08</th>\n",
       "      <td>-0.027000</td>\n",
       "      <td>0.019900</td>\n",
       "      <td>0.002060</td>\n",
       "      <td>0.040900</td>\n",
       "      <td>0.665267</td>\n",
       "    </tr>\n",
       "  </tbody>\n",
       "</table>\n",
       "</div>"
      ],
      "text/plain": [
       "            open_rate  high_rate  low_rate  close_rate  volume_rate\n",
       "date                                                               \n",
       "2010-01-04        NaN        NaN       NaN         NaN          NaN\n",
       "2010-01-05   0.000000  -0.003891  0.000000    0.003941    -0.284771\n",
       "2010-01-06   0.001970  -0.004883 -0.011834   -0.014720    -0.149966\n",
       "2010-01-07  -0.016716  -0.013739 -0.030938   -0.025896    -0.047696\n",
       "2010-01-08  -0.027000   0.019900  0.002060    0.040900     0.665267"
      ]
     },
     "execution_count": 5,
     "metadata": {},
     "output_type": "execute_result"
    }
   ],
   "source": [
    "\n",
    "for i in rate_columns:\n",
    "    dt[f'{i}_shift'] = dt[f'{i}'].shift()\n",
    "    dt[f'{i}_rate'] =  (dt[f'{i}'] - dt[f'{i}_shift'])/dt[f'{i}_shift']\n",
    "\n",
    "dt2 = dt.loc[:, [f'{i}_rate' for i in rate_columns]]\n",
    "dt2.head()"
   ]
  },
  {
   "cell_type": "code",
   "execution_count": null,
   "id": "298cd47e-0d0c-4c6a-8325-811a982816ba",
   "metadata": {},
   "outputs": [],
   "source": []
  },
  {
   "cell_type": "code",
   "execution_count": 6,
   "id": "29f52d0e-227a-4184-be8d-aba26fd279ef",
   "metadata": {
    "execution": {
     "iopub.execute_input": "2025-02-28T07:32:31.486926Z",
     "iopub.status.busy": "2025-02-28T07:32:31.485929Z",
     "iopub.status.idle": "2025-02-28T07:32:31.562501Z",
     "shell.execute_reply": "2025-02-28T07:32:31.560482Z",
     "shell.execute_reply.started": "2025-02-28T07:32:31.486926Z"
    }
   },
   "outputs": [],
   "source": [
    "# 价格的列名\n",
    "dt_shift_days = [] # 多少日的数据放在这里边,这里将shift(0)作为第一个了\n",
    "for i in range(N):\n",
    "    _dt_shift_day = dt2.shift(i)\n",
    "    dt_shift_days.append(_dt_shift_day)"
   ]
  },
  {
   "cell_type": "code",
   "execution_count": 7,
   "id": "20cce529-c52b-418d-a9b8-27e35bc4a512",
   "metadata": {
    "execution": {
     "iopub.execute_input": "2025-02-28T07:32:31.574502Z",
     "iopub.status.busy": "2025-02-28T07:32:31.573503Z",
     "iopub.status.idle": "2025-02-28T07:32:31.606571Z",
     "shell.execute_reply": "2025-02-28T07:32:31.604551Z",
     "shell.execute_reply.started": "2025-02-28T07:32:31.574502Z"
    }
   },
   "outputs": [
    {
     "data": {
      "text/html": [
       "<div>\n",
       "<style scoped>\n",
       "    .dataframe tbody tr th:only-of-type {\n",
       "        vertical-align: middle;\n",
       "    }\n",
       "\n",
       "    .dataframe tbody tr th {\n",
       "        vertical-align: top;\n",
       "    }\n",
       "\n",
       "    .dataframe thead th {\n",
       "        text-align: right;\n",
       "    }\n",
       "</style>\n",
       "<table border=\"1\" class=\"dataframe\">\n",
       "  <thead>\n",
       "    <tr style=\"text-align: right;\">\n",
       "      <th></th>\n",
       "      <th>open_rate</th>\n",
       "      <th>high_rate</th>\n",
       "      <th>low_rate</th>\n",
       "      <th>close_rate</th>\n",
       "      <th>volume_rate</th>\n",
       "    </tr>\n",
       "    <tr>\n",
       "      <th>date</th>\n",
       "      <th></th>\n",
       "      <th></th>\n",
       "      <th></th>\n",
       "      <th></th>\n",
       "      <th></th>\n",
       "    </tr>\n",
       "  </thead>\n",
       "  <tbody>\n",
       "    <tr>\n",
       "      <th>2010-01-04</th>\n",
       "      <td>NaN</td>\n",
       "      <td>NaN</td>\n",
       "      <td>NaN</td>\n",
       "      <td>NaN</td>\n",
       "      <td>NaN</td>\n",
       "    </tr>\n",
       "    <tr>\n",
       "      <th>2010-01-05</th>\n",
       "      <td>0.000000</td>\n",
       "      <td>-0.003891</td>\n",
       "      <td>0.000000</td>\n",
       "      <td>0.003941</td>\n",
       "      <td>-0.284771</td>\n",
       "    </tr>\n",
       "    <tr>\n",
       "      <th>2010-01-06</th>\n",
       "      <td>0.001970</td>\n",
       "      <td>-0.004883</td>\n",
       "      <td>-0.011834</td>\n",
       "      <td>-0.014720</td>\n",
       "      <td>-0.149966</td>\n",
       "    </tr>\n",
       "    <tr>\n",
       "      <th>2010-01-07</th>\n",
       "      <td>-0.016716</td>\n",
       "      <td>-0.013739</td>\n",
       "      <td>-0.030938</td>\n",
       "      <td>-0.025896</td>\n",
       "      <td>-0.047696</td>\n",
       "    </tr>\n",
       "    <tr>\n",
       "      <th>2010-01-08</th>\n",
       "      <td>-0.027000</td>\n",
       "      <td>0.019900</td>\n",
       "      <td>0.002060</td>\n",
       "      <td>0.040900</td>\n",
       "      <td>0.665267</td>\n",
       "    </tr>\n",
       "  </tbody>\n",
       "</table>\n",
       "</div>"
      ],
      "text/plain": [
       "            open_rate  high_rate  low_rate  close_rate  volume_rate\n",
       "date                                                               \n",
       "2010-01-04        NaN        NaN       NaN         NaN          NaN\n",
       "2010-01-05   0.000000  -0.003891  0.000000    0.003941    -0.284771\n",
       "2010-01-06   0.001970  -0.004883 -0.011834   -0.014720    -0.149966\n",
       "2010-01-07  -0.016716  -0.013739 -0.030938   -0.025896    -0.047696\n",
       "2010-01-08  -0.027000   0.019900  0.002060    0.040900     0.665267"
      ]
     },
     "execution_count": 7,
     "metadata": {},
     "output_type": "execute_result"
    }
   ],
   "source": [
    "dt_shift_days[0].head()"
   ]
  },
  {
   "cell_type": "code",
   "execution_count": 8,
   "id": "f1341ed5-0587-406a-b607-05bfa5a113b9",
   "metadata": {
    "execution": {
     "iopub.execute_input": "2025-02-28T07:32:31.620570Z",
     "iopub.status.busy": "2025-02-28T07:32:31.618569Z",
     "iopub.status.idle": "2025-02-28T07:32:31.628311Z",
     "shell.execute_reply": "2025-02-28T07:32:31.626294Z",
     "shell.execute_reply.started": "2025-02-28T07:32:31.619569Z"
    }
   },
   "outputs": [],
   "source": [
    "# 然后这个是反序的，所以需要颠倒\n",
    "dt_shift_days.reverse()"
   ]
  },
  {
   "cell_type": "code",
   "execution_count": 9,
   "id": "7a6b4ab5-c68b-4532-92d4-81e35c784858",
   "metadata": {
    "execution": {
     "iopub.execute_input": "2025-02-28T07:32:31.642312Z",
     "iopub.status.busy": "2025-02-28T07:32:31.641315Z",
     "iopub.status.idle": "2025-02-28T07:32:31.685411Z",
     "shell.execute_reply": "2025-02-28T07:32:31.681329Z",
     "shell.execute_reply.started": "2025-02-28T07:32:31.642312Z"
    }
   },
   "outputs": [
    {
     "data": {
      "text/html": [
       "<div>\n",
       "<style scoped>\n",
       "    .dataframe tbody tr th:only-of-type {\n",
       "        vertical-align: middle;\n",
       "    }\n",
       "\n",
       "    .dataframe tbody tr th {\n",
       "        vertical-align: top;\n",
       "    }\n",
       "\n",
       "    .dataframe thead th {\n",
       "        text-align: right;\n",
       "    }\n",
       "</style>\n",
       "<table border=\"1\" class=\"dataframe\">\n",
       "  <thead>\n",
       "    <tr style=\"text-align: right;\">\n",
       "      <th></th>\n",
       "      <th>open_rate</th>\n",
       "      <th>high_rate</th>\n",
       "      <th>low_rate</th>\n",
       "      <th>close_rate</th>\n",
       "      <th>volume_rate</th>\n",
       "    </tr>\n",
       "    <tr>\n",
       "      <th>date</th>\n",
       "      <th></th>\n",
       "      <th></th>\n",
       "      <th></th>\n",
       "      <th></th>\n",
       "      <th></th>\n",
       "    </tr>\n",
       "  </thead>\n",
       "  <tbody>\n",
       "    <tr>\n",
       "      <th>2010-01-04</th>\n",
       "      <td>NaN</td>\n",
       "      <td>NaN</td>\n",
       "      <td>NaN</td>\n",
       "      <td>NaN</td>\n",
       "      <td>NaN</td>\n",
       "    </tr>\n",
       "    <tr>\n",
       "      <th>2010-01-05</th>\n",
       "      <td>0.000000</td>\n",
       "      <td>-0.003891</td>\n",
       "      <td>0.000000</td>\n",
       "      <td>0.003941</td>\n",
       "      <td>-0.284771</td>\n",
       "    </tr>\n",
       "    <tr>\n",
       "      <th>2010-01-06</th>\n",
       "      <td>0.001970</td>\n",
       "      <td>-0.004883</td>\n",
       "      <td>-0.011834</td>\n",
       "      <td>-0.014720</td>\n",
       "      <td>-0.149966</td>\n",
       "    </tr>\n",
       "    <tr>\n",
       "      <th>2010-01-07</th>\n",
       "      <td>-0.016716</td>\n",
       "      <td>-0.013739</td>\n",
       "      <td>-0.030938</td>\n",
       "      <td>-0.025896</td>\n",
       "      <td>-0.047696</td>\n",
       "    </tr>\n",
       "    <tr>\n",
       "      <th>2010-01-08</th>\n",
       "      <td>-0.027000</td>\n",
       "      <td>0.019900</td>\n",
       "      <td>0.002060</td>\n",
       "      <td>0.040900</td>\n",
       "      <td>0.665267</td>\n",
       "    </tr>\n",
       "  </tbody>\n",
       "</table>\n",
       "</div>"
      ],
      "text/plain": [
       "            open_rate  high_rate  low_rate  close_rate  volume_rate\n",
       "date                                                               \n",
       "2010-01-04        NaN        NaN       NaN         NaN          NaN\n",
       "2010-01-05   0.000000  -0.003891  0.000000    0.003941    -0.284771\n",
       "2010-01-06   0.001970  -0.004883 -0.011834   -0.014720    -0.149966\n",
       "2010-01-07  -0.016716  -0.013739 -0.030938   -0.025896    -0.047696\n",
       "2010-01-08  -0.027000   0.019900  0.002060    0.040900     0.665267"
      ]
     },
     "execution_count": 9,
     "metadata": {},
     "output_type": "execute_result"
    }
   ],
   "source": [
    "dt_shift_days[-1].head()"
   ]
  },
  {
   "cell_type": "code",
   "execution_count": 10,
   "id": "c01e817e-4c7a-4206-beeb-6391e8600757",
   "metadata": {
    "execution": {
     "iopub.execute_input": "2025-02-28T07:32:31.703387Z",
     "iopub.status.busy": "2025-02-28T07:32:31.702391Z",
     "iopub.status.idle": "2025-02-28T07:32:31.730341Z",
     "shell.execute_reply": "2025-02-28T07:32:31.729330Z",
     "shell.execute_reply.started": "2025-02-28T07:32:31.703387Z"
    }
   },
   "outputs": [],
   "source": [
    "# 这里转成numpy\n",
    "np_shift_days = [i.to_numpy() for i in dt_shift_days]"
   ]
  },
  {
   "cell_type": "code",
   "execution_count": 11,
   "id": "5c12b906-8c54-4658-a6ad-0fe2d5f239a7",
   "metadata": {
    "execution": {
     "iopub.execute_input": "2025-02-28T07:32:31.742343Z",
     "iopub.status.busy": "2025-02-28T07:32:31.741347Z",
     "iopub.status.idle": "2025-02-28T07:32:31.759719Z",
     "shell.execute_reply": "2025-02-28T07:32:31.757703Z",
     "shell.execute_reply.started": "2025-02-28T07:32:31.742343Z"
    }
   },
   "outputs": [
    {
     "data": {
      "text/plain": [
       "array([[        nan,         nan,         nan,         nan,         nan],\n",
       "       [ 0.        , -0.00389105,  0.        ,  0.00394089, -0.28477121],\n",
       "       [ 0.00197044, -0.00488281, -0.01183432, -0.01472031, -0.14996556],\n",
       "       ...,\n",
       "       [-0.00319149,  0.00636943,  0.00644468,  0.00106724, -0.24561394],\n",
       "       [ 0.00747065, -0.00421941, -0.01707577, -0.01385928,  0.08558971],\n",
       "       [-0.02224576, -0.01483051, -0.00217155,  0.00540541, -0.23457175]])"
      ]
     },
     "execution_count": 11,
     "metadata": {},
     "output_type": "execute_result"
    }
   ],
   "source": [
    "np_shift_days[-1]"
   ]
  },
  {
   "cell_type": "code",
   "execution_count": 12,
   "id": "82d0d2c0-52b4-4960-a028-01c902de3594",
   "metadata": {
    "execution": {
     "iopub.execute_input": "2025-02-28T07:32:31.762720Z",
     "iopub.status.busy": "2025-02-28T07:32:31.761718Z",
     "iopub.status.idle": "2025-02-28T07:32:31.772723Z",
     "shell.execute_reply": "2025-02-28T07:32:31.770679Z",
     "shell.execute_reply.started": "2025-02-28T07:32:31.762720Z"
    }
   },
   "outputs": [],
   "source": [
    "# 然后进行水平拼接"
   ]
  },
  {
   "cell_type": "code",
   "execution_count": 13,
   "id": "bb55c4ba-331e-459e-97d7-b95cc53be31c",
   "metadata": {
    "execution": {
     "iopub.execute_input": "2025-02-28T07:32:31.776723Z",
     "iopub.status.busy": "2025-02-28T07:32:31.774722Z",
     "iopub.status.idle": "2025-02-28T07:32:31.801677Z",
     "shell.execute_reply": "2025-02-28T07:32:31.799657Z",
     "shell.execute_reply.started": "2025-02-28T07:32:31.775723Z"
    }
   },
   "outputs": [
    {
     "data": {
      "text/plain": [
       "array([[ 0.        , -0.00389105,  0.        , ...,  0.0095986 ,\n",
       "         0.00599315, -0.07705891],\n",
       "       [ 0.00197044, -0.00488281, -0.01183432, ..., -0.00259291,\n",
       "        -0.01021277, -0.28696785],\n",
       "       [-0.01671583, -0.01373896, -0.03093812, ..., -0.01039861,\n",
       "        -0.01633706,  0.05892651],\n",
       "       ...,\n",
       "       [-0.00720165, -0.00717213, -0.01139896, ..., -0.00746269,\n",
       "        -0.00319149,  0.22996791],\n",
       "       [ 0.        ,  0.00515996,  0.00943396, ...,  0.00644468,\n",
       "         0.00106724, -0.24561394],\n",
       "       [ 0.00621762,  0.01334702,  0.00726895, ..., -0.01707577,\n",
       "        -0.01385928,  0.08558971]])"
      ]
     },
     "execution_count": 13,
     "metadata": {},
     "output_type": "execute_result"
    }
   ],
   "source": [
    "x_price = np.hstack(np_shift_days)\n",
    "# 这里需要舍弃一下一些数据。前面的舍弃N个最后舍弃一个\n",
    "x_price = x_price[N:-1]\n",
    "x_price"
   ]
  },
  {
   "cell_type": "code",
   "execution_count": 14,
   "id": "fd92a76d-b30c-4b5f-8138-1d2e126aa881",
   "metadata": {
    "execution": {
     "iopub.execute_input": "2025-02-28T07:32:31.806678Z",
     "iopub.status.busy": "2025-02-28T07:32:31.804676Z",
     "iopub.status.idle": "2025-02-28T07:32:31.823436Z",
     "shell.execute_reply": "2025-02-28T07:32:31.821415Z",
     "shell.execute_reply.started": "2025-02-28T07:32:31.806678Z"
    }
   },
   "outputs": [
    {
     "data": {
      "text/plain": [
       "(3602, 300)"
      ]
     },
     "execution_count": 14,
     "metadata": {},
     "output_type": "execute_result"
    }
   ],
   "source": [
    "x_price.shape"
   ]
  },
  {
   "cell_type": "code",
   "execution_count": 15,
   "id": "c4a17d00-134c-470e-8e45-4f03503a63d2",
   "metadata": {
    "execution": {
     "iopub.execute_input": "2025-02-28T07:32:31.830435Z",
     "iopub.status.busy": "2025-02-28T07:32:31.828434Z",
     "iopub.status.idle": "2025-02-28T07:32:31.846614Z",
     "shell.execute_reply": "2025-02-28T07:32:31.844595Z",
     "shell.execute_reply.started": "2025-02-28T07:32:31.830435Z"
    }
   },
   "outputs": [
    {
     "data": {
      "text/plain": [
       "(3602, 60, 5)"
      ]
     },
     "execution_count": 15,
     "metadata": {},
     "output_type": "execute_result"
    }
   ],
   "source": [
    "# 这里需要更改维度\n",
    "x_shape_old = x_price.shape\n",
    "x_shape_new_1 = x_shape_old[0]\n",
    "x_shape_new_3 = len(rate_columns)\n",
    "x_shape_new_2 = int(x_shape_old[1] / x_shape_new_3)\n",
    "x_price = x_price.reshape((x_shape_new_1, x_shape_new_2, x_shape_new_3))\n",
    "x_price.shape"
   ]
  },
  {
   "cell_type": "code",
   "execution_count": 16,
   "id": "ab11533d-b271-48f4-99c1-efcdda1430fb",
   "metadata": {
    "execution": {
     "iopub.execute_input": "2025-02-28T07:32:31.849613Z",
     "iopub.status.busy": "2025-02-28T07:32:31.848612Z",
     "iopub.status.idle": "2025-02-28T07:32:31.863085Z",
     "shell.execute_reply": "2025-02-28T07:32:31.861063Z",
     "shell.execute_reply.started": "2025-02-28T07:32:31.849613Z"
    }
   },
   "outputs": [
    {
     "data": {
      "text/plain": [
       "(3602,)"
      ]
     },
     "execution_count": 16,
     "metadata": {},
     "output_type": "execute_result"
    }
   ],
   "source": [
    "y_close = dt2['open_rate'].to_numpy()[N+1:]\n",
    "y_close.shape"
   ]
  },
  {
   "cell_type": "code",
   "execution_count": 17,
   "id": "fabcff34-c5d4-4230-9263-d9166d7b13c7",
   "metadata": {
    "execution": {
     "iopub.execute_input": "2025-02-28T07:32:31.867082Z",
     "iopub.status.busy": "2025-02-28T07:32:31.865080Z",
     "iopub.status.idle": "2025-02-28T07:32:31.884696Z",
     "shell.execute_reply": "2025-02-28T07:32:31.882677Z",
     "shell.execute_reply.started": "2025-02-28T07:32:31.867082Z"
    }
   },
   "outputs": [
    {
     "name": "stdout",
     "output_type": "stream",
     "text": [
      "(225, 16, 60, 5)\n",
      "(225, 16, 1)\n"
     ]
    }
   ],
   "source": [
    "# 裁剪，成整数批次\n",
    "_x_y_len = int(x_price.shape[0]/batch_size) * batch_size\n",
    "\n",
    "x_price = x_price[-_x_y_len:]\n",
    "y_close = y_close[-_x_y_len:]\n",
    "x_price = x_price.reshape(x_price.shape[0]//batch_size, batch_size, x_price.shape[1], x_price.shape[2])\n",
    "y_close = y_close.reshape(y_close.shape[0]//batch_size, batch_size, 1)\n",
    "print(x_price.shape)\n",
    "print(y_close.shape)"
   ]
  },
  {
   "cell_type": "code",
   "execution_count": 18,
   "id": "735b902a-73c2-4ddd-bba7-d332f8f61c82",
   "metadata": {
    "execution": {
     "iopub.execute_input": "2025-02-28T07:32:31.888696Z",
     "iopub.status.busy": "2025-02-28T07:32:31.887700Z",
     "iopub.status.idle": "2025-02-28T07:32:31.919312Z",
     "shell.execute_reply": "2025-02-28T07:32:31.917296Z",
     "shell.execute_reply.started": "2025-02-28T07:32:31.888696Z"
    }
   },
   "outputs": [],
   "source": [
    "# 这里要区分训练集和测试集\n",
    "\n",
    "\n",
    "\n",
    "dataset = Data.TensorDataset(torch.FloatTensor(x_price), torch.FloatTensor(y_close))\n",
    "batch_size = 16\n",
    "train_loader, test_loader = Data.random_split(dataset,\n",
    "                                             lengths=[int(0.9*len(dataset)), len(dataset)- int(0.9*len(dataset))],\n",
    "                                             generator=torch.Generator().manual_seed(0))"
   ]
  },
  {
   "cell_type": "markdown",
   "id": "585a6357-a1e6-421a-a398-26ca98ae4771",
   "metadata": {},
   "source": [
    "# 神经网络"
   ]
  },
  {
   "cell_type": "code",
   "execution_count": 19,
   "id": "b001004c-682f-4abb-b125-6b84c8000e09",
   "metadata": {
    "execution": {
     "iopub.execute_input": "2025-02-28T07:32:31.923313Z",
     "iopub.status.busy": "2025-02-28T07:32:31.921312Z",
     "iopub.status.idle": "2025-02-28T07:32:31.938208Z",
     "shell.execute_reply": "2025-02-28T07:32:31.936191Z",
     "shell.execute_reply.started": "2025-02-28T07:32:31.923313Z"
    }
   },
   "outputs": [],
   "source": [
    "# 这里做一个网络\n",
    "import torch.nn as nn\n",
    "class GRUModel(nn.Module):\n",
    "    def __init__(self, input_size, hidden_size, num_layers, output_size):\n",
    "        super(GRUModel, self).__init__()\n",
    "        self.gru = nn.GRU(input_size, hidden_size, num_layers, batch_first=True)\n",
    "        self.fc = nn.Linear(hidden_size, output_size)\n",
    "    def forward(self, x):\n",
    "        out, _ = self.gru(x) # gru层\n",
    "        out = self.fc(out[:,-1, :]) # 全连接层\n",
    "        return out"
   ]
  },
  {
   "cell_type": "markdown",
   "id": "a6b2e2f6-9f54-4a00-820c-6f54a052ca7a",
   "metadata": {},
   "source": [
    "# 训练"
   ]
  },
  {
   "cell_type": "code",
   "execution_count": null,
   "id": "5fcdcb38-045c-4981-932f-06754c388a6e",
   "metadata": {},
   "outputs": [],
   "source": []
  },
  {
   "cell_type": "code",
   "execution_count": 20,
   "id": "e349a268-0a33-4d2a-a785-8a84f991e8e1",
   "metadata": {
    "execution": {
     "iopub.execute_input": "2025-02-28T07:32:31.941212Z",
     "iopub.status.busy": "2025-02-28T07:32:31.940207Z",
     "iopub.status.idle": "2025-02-28T07:32:38.327844Z",
     "shell.execute_reply": "2025-02-28T07:32:38.322829Z",
     "shell.execute_reply.started": "2025-02-28T07:32:31.941212Z"
    }
   },
   "outputs": [],
   "source": [
    "device = torch.device(\"cuda:0\" if torch.cuda.is_available() else \"cpu\")\n",
    "net = GRUModel(input_size, hidden_size, num_layers, output_size).to(device)\n",
    "criterion = torch.nn.MSELoss() # 均方差误差函数\n",
    "optimizer = optim.Adam(net.parameters(), lr=0.001)"
   ]
  },
  {
   "cell_type": "code",
   "execution_count": null,
   "id": "97f0b1a0-bb31-454d-a48e-015634b70d4d",
   "metadata": {
    "execution": {
     "iopub.execute_input": "2025-02-28T07:32:38.334846Z",
     "iopub.status.busy": "2025-02-28T07:32:38.332849Z"
    }
   },
   "outputs": [
    {
     "name": "stdout",
     "output_type": "stream",
     "text": [
      "[1,   202] loss: nan\n",
      "[11,   202] loss: nan\n",
      "[21,   202] loss: nan\n",
      "[31,   202] loss: nan\n",
      "[41,   202] loss: nan\n",
      "[51,   202] loss: nan\n",
      "[61,   202] loss: nan\n",
      "[71,   202] loss: nan\n",
      "[81,   202] loss: nan\n"
     ]
    }
   ],
   "source": [
    "for epoch in range(10):  # 迭代一次\n",
    "    running_loss = 0.0\n",
    "    for i, data in enumerate(train_loader, 0):\n",
    "        # 获取输入\n",
    "        inputs, labels = data\n",
    "        inputs = inputs.to(device)\n",
    "        labels = labels.to(device)\n",
    "        # 梯度置 0\n",
    "        optimizer.zero_grad()\n",
    "        # 正向传播，反向传播，优化\n",
    "        outputs = net(inputs)\n",
    "        loss = criterion(outputs, labels)\n",
    "        loss.backward()\n",
    "        optimizer.step()\n",
    "        # 打印状态信息\n",
    "        running_loss += loss.item()\n",
    "        # if i % 200 == 199:    # 每 200 批次打印一次\n",
    "        #     print('[%d, %5d] loss: %.3f' %\n",
    "        #           (epoch + 1, i + 1, running_loss / 200))\n",
    "        #     running_loss = 0.0\n",
    "    # 每轮迭代打印一次\n",
    "    if epoch % 10 == 0:\n",
    "        print('[%d, %5d] loss: %.3f' % (epoch + 1, i + 1, loss.item()))\n",
    "        running_loss = 0.0\n",
    "\n",
    "    \n",
    "print('Finished Training.')"
   ]
  },
  {
   "cell_type": "code",
   "execution_count": null,
   "id": "f119e066-f29c-484f-b9c8-e160dee821bd",
   "metadata": {},
   "outputs": [],
   "source": []
  },
  {
   "cell_type": "code",
   "execution_count": null,
   "id": "54c02bcc-504d-453b-9b48-2c576f65e81e",
   "metadata": {},
   "outputs": [],
   "source": []
  }
 ],
 "metadata": {
  "kernelspec": {
   "display_name": "Python 3 (ipykernel)",
   "language": "python",
   "name": "python3"
  },
  "language_info": {
   "codemirror_mode": {
    "name": "ipython",
    "version": 3
   },
   "file_extension": ".py",
   "mimetype": "text/x-python",
   "name": "python",
   "nbconvert_exporter": "python",
   "pygments_lexer": "ipython3",
   "version": "3.11.5"
  }
 },
 "nbformat": 4,
 "nbformat_minor": 5
}
