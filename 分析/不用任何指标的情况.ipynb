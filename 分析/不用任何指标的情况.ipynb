{
 "cells": [
  {
   "cell_type": "code",
   "execution_count": 1,
   "id": "e16d32c5-3d6b-4784-8333-79f02f6f2623",
   "metadata": {},
   "outputs": [],
   "source": [
    "import pandas as pd\n",
    "import numpy as np\n",
    "import matplotlib\n",
    "# matplotlib.use('agg')\n",
    "import matplotlib.pyplot as plt\n",
    "%matplotlib inline\n",
    "import os\n",
    "from tqdm import tqdm\n",
    "import talib"
   ]
  },
  {
   "cell_type": "code",
   "execution_count": 2,
   "id": "4bce60a8-4c42-4800-ba08-900a7e8c7478",
   "metadata": {},
   "outputs": [
    {
     "data": {
      "text/html": [
       "<div>\n",
       "<style scoped>\n",
       "    .dataframe tbody tr th:only-of-type {\n",
       "        vertical-align: middle;\n",
       "    }\n",
       "\n",
       "    .dataframe tbody tr th {\n",
       "        vertical-align: top;\n",
       "    }\n",
       "\n",
       "    .dataframe thead th {\n",
       "        text-align: right;\n",
       "    }\n",
       "</style>\n",
       "<table border=\"1\" class=\"dataframe\">\n",
       "  <thead>\n",
       "    <tr style=\"text-align: right;\">\n",
       "      <th></th>\n",
       "      <th>id</th>\n",
       "      <th>i</th>\n",
       "      <th>Date</th>\n",
       "      <th>Open</th>\n",
       "      <th>High</th>\n",
       "      <th>Low</th>\n",
       "      <th>Close</th>\n",
       "      <th>Volume</th>\n",
       "    </tr>\n",
       "  </thead>\n",
       "  <tbody>\n",
       "    <tr>\n",
       "      <th>0</th>\n",
       "      <td>000001.XSHE</td>\n",
       "      <td>0</td>\n",
       "      <td>2018-12-24</td>\n",
       "      <td>8.91</td>\n",
       "      <td>8.96</td>\n",
       "      <td>8.83</td>\n",
       "      <td>8.93</td>\n",
       "      <td>53694517.0</td>\n",
       "    </tr>\n",
       "    <tr>\n",
       "      <th>1</th>\n",
       "      <td>000001.XSHE</td>\n",
       "      <td>1</td>\n",
       "      <td>2018-12-25</td>\n",
       "      <td>8.81</td>\n",
       "      <td>8.94</td>\n",
       "      <td>8.73</td>\n",
       "      <td>8.86</td>\n",
       "      <td>61867885.0</td>\n",
       "    </tr>\n",
       "    <tr>\n",
       "      <th>2</th>\n",
       "      <td>000001.XSHE</td>\n",
       "      <td>2</td>\n",
       "      <td>2018-12-26</td>\n",
       "      <td>8.87</td>\n",
       "      <td>8.93</td>\n",
       "      <td>8.79</td>\n",
       "      <td>8.82</td>\n",
       "      <td>44415942.0</td>\n",
       "    </tr>\n",
       "    <tr>\n",
       "      <th>3</th>\n",
       "      <td>000001.XSHE</td>\n",
       "      <td>3</td>\n",
       "      <td>2018-12-27</td>\n",
       "      <td>8.96</td>\n",
       "      <td>9.00</td>\n",
       "      <td>8.80</td>\n",
       "      <td>8.80</td>\n",
       "      <td>65873247.0</td>\n",
       "    </tr>\n",
       "    <tr>\n",
       "      <th>4</th>\n",
       "      <td>000001.XSHE</td>\n",
       "      <td>4</td>\n",
       "      <td>2018-12-28</td>\n",
       "      <td>8.83</td>\n",
       "      <td>8.97</td>\n",
       "      <td>8.83</td>\n",
       "      <td>8.89</td>\n",
       "      <td>60812019.0</td>\n",
       "    </tr>\n",
       "  </tbody>\n",
       "</table>\n",
       "</div>"
      ],
      "text/plain": [
       "            id  i        Date  Open  High   Low  Close      Volume\n",
       "0  000001.XSHE  0  2018-12-24  8.91  8.96  8.83   8.93  53694517.0\n",
       "1  000001.XSHE  1  2018-12-25  8.81  8.94  8.73   8.86  61867885.0\n",
       "2  000001.XSHE  2  2018-12-26  8.87  8.93  8.79   8.82  44415942.0\n",
       "3  000001.XSHE  3  2018-12-27  8.96  9.00  8.80   8.80  65873247.0\n",
       "4  000001.XSHE  4  2018-12-28  8.83  8.97  8.83   8.89  60812019.0"
      ]
     },
     "execution_count": 2,
     "metadata": {},
     "output_type": "execute_result"
    }
   ],
   "source": [
    "# 这里导入数据\n",
    "df = pd.read_csv(\"../数据获取/聚宽数据/最新数据.csv\")\n",
    "df.columns = ['id','i', 'Date','Open','High','Low','Close','Volume']\n",
    "df.head()"
   ]
  },
  {
   "cell_type": "code",
   "execution_count": 3,
   "id": "98e02c53-d121-44e5-831f-99af5ab5520e",
   "metadata": {},
   "outputs": [
    {
     "name": "stderr",
     "output_type": "stream",
     "text": [
      "100%|██████████████████████████████████████████████████████████████████████████████| 4275/4275 [26:04<00:00,  2.73it/s]\n"
     ]
    }
   ],
   "source": [
    "codes = list(set(df['id'])) # 这里是所有的股票列表\n",
    "#\n",
    "days = 20 # 最多5天的\n",
    "rises = [[] for _ in range(days)] # 几天的涨幅都在这里边。 \n",
    "with tqdm(total=len(set(df['id']))) as pbar:\n",
    "    for id in codes:\n",
    "        # 对每一个股票进行遍历\n",
    "        df2 = df[df['id'] == id].copy() # 这里要重新生成一个\n",
    "        # 然后关于收盘价的涨幅，这里也做处理\n",
    "        df3 = df2\n",
    "        for i in range(days):\n",
    "            # 移动指定的天数\n",
    "            # 隔一天的涨幅情况\n",
    "            df3['Close{}'.format(i+1)] = df3['Close'].shift(0-(i+1))\n",
    "            _rise = list((df3['Close{}'.format(i+1)]-df3['Close'])/df3['Close'])\n",
    "            # 这里需要筛选不是nan的\n",
    "            _rise = [i for i in _rise if not np.isnan(i)]\n",
    "            # 添加到这里边。\n",
    "            rises[i].extend(_rise)\n",
    "        pbar.update(1)"
   ]
  },
  {
   "cell_type": "code",
   "execution_count": 4,
   "id": "09c4edde-072c-4bfe-818b-05513b638428",
   "metadata": {},
   "outputs": [
    {
     "data": {
      "text/plain": [
       "[0.0007676254471390108,\n",
       " 0.001565791712364923,\n",
       " 0.002365885094846444,\n",
       " 0.0031499864756935683,\n",
       " 0.003924216104295236,\n",
       " 0.004717132618110417,\n",
       " 0.005508580951169297,\n",
       " 0.006275166757356437,\n",
       " 0.007029481568012795,\n",
       " 0.007790926625665378,\n",
       " 0.008586359436339095,\n",
       " 0.009385280471701053,\n",
       " 0.010162831359409165,\n",
       " 0.010954353153841613,\n",
       " 0.011719967686265067,\n",
       " 0.012481531538425688,\n",
       " 0.013236055291662984,\n",
       " 0.013981244047349097,\n",
       " 0.014740338038365027,\n",
       " 0.015501037821756101]"
      ]
     },
     "execution_count": 4,
     "metadata": {},
     "output_type": "execute_result"
    }
   ],
   "source": [
    "# 这里看看两点\n",
    "[sum(i)/len(i) for i in rises] # 这个是均值"
   ]
  },
  {
   "cell_type": "code",
   "execution_count": 5,
   "id": "30ba9bac-b48c-42ab-9e5b-42504a9a80d2",
   "metadata": {},
   "outputs": [
    {
     "data": {
      "text/plain": [
       "[0.48341931878728023,\n",
       " 0.48167019418710894,\n",
       " 0.4871857670778998,\n",
       " 0.48888859903129595,\n",
       " 0.4911496809787285,\n",
       " 0.4931778161340377,\n",
       " 0.4942462421573719,\n",
       " 0.4949115463154736,\n",
       " 0.4959016740093245,\n",
       " 0.49650529156153633,\n",
       " 0.4976896502823793,\n",
       " 0.498468573703733,\n",
       " 0.49874849589402886,\n",
       " 0.4991914229195649,\n",
       " 0.499681011594369,\n",
       " 0.4990390358581445,\n",
       " 0.49888094932970384,\n",
       " 0.4986086038252333,\n",
       " 0.4977407412329862,\n",
       " 0.49707946308962997]"
      ]
     },
     "execution_count": 5,
     "metadata": {},
     "output_type": "execute_result"
    }
   ],
   "source": [
    "[len([j for j in i if j > 0])/len(i) for i in rises] # 上涨的概率。"
   ]
  },
  {
   "cell_type": "code",
   "execution_count": null,
   "id": "66249c8a-803a-49ae-a9ec-fb09941a4491",
   "metadata": {},
   "outputs": [],
   "source": []
  }
 ],
 "metadata": {
  "kernelspec": {
   "display_name": "Python 3 (ipykernel)",
   "language": "python",
   "name": "python3"
  },
  "language_info": {
   "codemirror_mode": {
    "name": "ipython",
    "version": 3
   },
   "file_extension": ".py",
   "mimetype": "text/x-python",
   "name": "python",
   "nbconvert_exporter": "python",
   "pygments_lexer": "ipython3",
   "version": "3.9.12"
  }
 },
 "nbformat": 4,
 "nbformat_minor": 5
}
