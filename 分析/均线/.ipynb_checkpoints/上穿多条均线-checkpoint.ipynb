{
 "cells": [
  {
   "cell_type": "markdown",
   "id": "eb8c7d4f-ed2f-4d3d-b272-ba640cfeac38",
   "metadata": {},
   "source": [
    "某天上穿多条均线，经过统计，这个不合适，下跌的概率和幅度远大于上涨的概率和幅度"
   ]
  },
  {
   "cell_type": "code",
   "execution_count": 1,
   "id": "c91ccdb7-95d3-443c-aef7-f6645cebe21c",
   "metadata": {},
   "outputs": [],
   "source": [
    "import pandas as pd\n",
    "import numpy as np\n",
    "import talib\n",
    "# import tqdm\n",
    "from tqdm.notebook import tqdm\n",
    "\n",
    "%matplotlib inline\n",
    "import matplotlib.pyplot as plt\n",
    "plt.rcParams['figure.figsize'] = (15.0, 8.0) # 单位是inches"
   ]
  },
  {
   "cell_type": "markdown",
   "id": "9be2477f-774f-45ca-9e85-4be56c2d0876",
   "metadata": {},
   "source": [
    "# 导入数据"
   ]
  },
  {
   "cell_type": "code",
   "execution_count": 2,
   "id": "a2cfb098-018e-4581-b2df-fafdd7a2b4ae",
   "metadata": {},
   "outputs": [
    {
     "name": "stdout",
     "output_type": "stream",
     "text": [
      "共导入3704160行数据,股票个数：4136,平均每个股票的的数据量:895\n"
     ]
    },
    {
     "data": {
      "text/html": [
       "<div>\n",
       "<style scoped>\n",
       "    .dataframe tbody tr th:only-of-type {\n",
       "        vertical-align: middle;\n",
       "    }\n",
       "\n",
       "    .dataframe tbody tr th {\n",
       "        vertical-align: top;\n",
       "    }\n",
       "\n",
       "    .dataframe thead th {\n",
       "        text-align: right;\n",
       "    }\n",
       "</style>\n",
       "<table border=\"1\" class=\"dataframe\">\n",
       "  <thead>\n",
       "    <tr style=\"text-align: right;\">\n",
       "      <th></th>\n",
       "      <th></th>\n",
       "      <th>date</th>\n",
       "      <th>open</th>\n",
       "      <th>high</th>\n",
       "      <th>low</th>\n",
       "      <th>close</th>\n",
       "    </tr>\n",
       "    <tr>\n",
       "      <th>Unnamed: 0</th>\n",
       "      <th>Unnamed: 1</th>\n",
       "      <th></th>\n",
       "      <th></th>\n",
       "      <th></th>\n",
       "      <th></th>\n",
       "      <th></th>\n",
       "    </tr>\n",
       "  </thead>\n",
       "  <tbody>\n",
       "    <tr>\n",
       "      <th rowspan=\"5\" valign=\"top\">000001.XSHE</th>\n",
       "      <th>0</th>\n",
       "      <td>2018-04-18</td>\n",
       "      <td>10.89</td>\n",
       "      <td>11.04</td>\n",
       "      <td>10.72</td>\n",
       "      <td>10.93</td>\n",
       "    </tr>\n",
       "    <tr>\n",
       "      <th>1</th>\n",
       "      <td>2018-04-19</td>\n",
       "      <td>10.95</td>\n",
       "      <td>11.11</td>\n",
       "      <td>10.86</td>\n",
       "      <td>10.90</td>\n",
       "    </tr>\n",
       "    <tr>\n",
       "      <th>2</th>\n",
       "      <td>2018-04-20</td>\n",
       "      <td>10.94</td>\n",
       "      <td>11.01</td>\n",
       "      <td>10.65</td>\n",
       "      <td>10.79</td>\n",
       "    </tr>\n",
       "    <tr>\n",
       "      <th>3</th>\n",
       "      <td>2018-04-23</td>\n",
       "      <td>10.74</td>\n",
       "      <td>11.04</td>\n",
       "      <td>10.70</td>\n",
       "      <td>11.00</td>\n",
       "    </tr>\n",
       "    <tr>\n",
       "      <th>4</th>\n",
       "      <td>2018-04-24</td>\n",
       "      <td>11.06</td>\n",
       "      <td>11.35</td>\n",
       "      <td>11.01</td>\n",
       "      <td>11.28</td>\n",
       "    </tr>\n",
       "  </tbody>\n",
       "</table>\n",
       "</div>"
      ],
      "text/plain": [
       "                              date   open   high    low  close\n",
       "Unnamed: 0  Unnamed: 1                                        \n",
       "000001.XSHE 0           2018-04-18  10.89  11.04  10.72  10.93\n",
       "            1           2018-04-19  10.95  11.11  10.86  10.90\n",
       "            2           2018-04-20  10.94  11.01  10.65  10.79\n",
       "            3           2018-04-23  10.74  11.04  10.70  11.00\n",
       "            4           2018-04-24  11.06  11.35  11.01  11.28"
      ]
     },
     "execution_count": 2,
     "metadata": {},
     "output_type": "execute_result"
    }
   ],
   "source": [
    "data = pd.read_csv(\"../../数据获取/聚宽数据/最新数据.csv\")\n",
    "data=data.set_index(['Unnamed: 0', 'Unnamed: 1'])\n",
    "print('共导入{}行数据,股票个数：{},平均每个股票的的数据量:{}'.format(\n",
    "    len(data),\n",
    "    len(data.index.levels[0]),\n",
    "    len(data)//len(data.index.levels[0])\n",
    "))\n",
    "data.head()"
   ]
  },
  {
   "cell_type": "markdown",
   "id": "d281138d-f228-4413-840d-495581c9d695",
   "metadata": {},
   "source": [
    "# 统计数据"
   ]
  },
  {
   "cell_type": "code",
   "execution_count": 3,
   "id": "2ee3645f-184e-451d-9d76-b0df51328312",
   "metadata": {},
   "outputs": [
    {
     "data": {
      "application/vnd.jupyter.widget-view+json": {
       "model_id": "e002cd4c62b844cab2a0793fbaf60e81",
       "version_major": 2,
       "version_minor": 0
      },
      "text/plain": [
       "  0%|          | 0/4136 [00:00<?, ?it/s]"
      ]
     },
     "metadata": {},
     "output_type": "display_data"
    }
   ],
   "source": [
    "lst_days = [] # 这个是均线多头每次持续的日期\n",
    "lst_range = [] # 这个是每一次的幅度\n",
    "lst_range2 = [] # 这个是开盘价的幅度\n",
    "with tqdm(range(len(data.index.levels[0]))) as bar:\n",
    "    for id in data.index.levels[0]:\n",
    "        data_one = data.loc[id].copy() # 这个是每一个股票的数据\n",
    "        # 上边的格式比较固定，遍历每一个股票,然后下边开始统计\n",
    "        # 这里首先添加均线，\n",
    "        for ma_day in [5,10,20,30,60,120]:\n",
    "            # 插入多条均线\n",
    "            data_one.insert(\n",
    "                loc=len(data_one.columns),\n",
    "                column='ma{}'.format(ma_day),\n",
    "                value=talib.MA(data_one['close'], timeperiod=ma_day)\n",
    "            )\n",
    "        # 然后这里是比较了。\n",
    "        data_one.insert(\n",
    "            loc=len(data_one.columns),\n",
    "            column='上传多条均线',\n",
    "            value=((data_one['ma5'] < data_one['open'] ) & (data_one['ma10'] < data_one['open'] )& (data_one['ma20'] > data_one['open']) \n",
    "                   &(data_one['ma5'] < data_one['close'] ) & (data_one['ma10'] < data_one['close'] )& (data_one['ma20'] < data_one['close']))\n",
    "        )\n",
    "        data_one.insert(\n",
    "            loc=len(data_one.columns),\n",
    "            column='卖出条件', # 这里的卖出条件是低于5日均线。\n",
    "            value = data_one['ma5'] < data_one['close']\n",
    "        )\n",
    "        # \n",
    "        # 下边开始统计\n",
    "            \n",
    "        j = 0\n",
    "        while j < len(data_one):\n",
    "            # 遍历每一个的数据\n",
    "            if data_one.loc[j, '上传多条均线']:\n",
    "                # 碰到均线开头的第一天\n",
    "                if j + 1 < len(data_one):\n",
    "                    # 如果不是最后一天\n",
    "                    j = j + 1 # 下一天\n",
    "                else:\n",
    "                    # 最后一天就退出啦。\n",
    "                    break\n",
    "                j_start = j #  保留起始的\n",
    "                while j < len(data_one) and (not data_one.loc[j, '卖出条件']) :\n",
    "                    j = j + 1 # 寻找结束\n",
    "                if j >= len(data_one):\n",
    "                    # 是否是最后一天,需要直接退出啦。\n",
    "                    j = j - 1\n",
    "                # 这里开始统计\n",
    "                if j >= j_start:\n",
    "                    lst_range.append(\n",
    "                            (data_one.loc[j, 'close']- data_one.loc[j_start, 'close'])/ data_one.loc[j_start, 'close']*100\n",
    "                    ) # 幅度\n",
    "                    lst_range2.append(\n",
    "                        (data_one.loc[j, 'open']- data_one.loc[j_start, 'open'])/ data_one.loc[j_start, 'open']*100\n",
    "                    ) # 幅度\n",
    "                    lst_days.append(j - j_start + 1) # 天数\n",
    "            else:\n",
    "                j = j + 1\n",
    "\n",
    "            \n",
    "        bar.update(1)\n",
    "                \n",
    "            \n",
    "            "
   ]
  },
  {
   "cell_type": "markdown",
   "id": "3dd7b936-a333-42c8-b4cc-dc6261950a0a",
   "metadata": {},
   "source": [
    "# 查看结果"
   ]
  },
  {
   "cell_type": "markdown",
   "id": "ec87d10c-8dd8-4663-bffb-1fb642f0a678",
   "metadata": {},
   "source": [
    "## 天数的统计"
   ]
  },
  {
   "cell_type": "code",
   "execution_count": 5,
   "id": "d2aaa68c-678f-4314-adb7-10b3e7213934",
   "metadata": {},
   "outputs": [
    {
     "data": {
      "text/plain": [
       "[<matplotlib.lines.Line2D at 0x20e25701940>]"
      ]
     },
     "execution_count": 5,
     "metadata": {},
     "output_type": "execute_result"
    },
    {
     "data": {
      "image/png": "[encoded data removed]",
      "text/plain": [
       "<Figure size 1080x576 with 1 Axes>"
      ]
     },
     "metadata": {
      "needs_background": "light"
     },
     "output_type": "display_data"
    }
   ],
   "source": [
    "lst_days_set = list(set(lst_days)) # 首先不重复的\n",
    "lst_days_set.sort() # 排序\n",
    "lst_days_set_value = [lst_days.count(i) for i in lst_days_set] # 统计个数\n",
    "# 如下是画图\n",
    "plt.scatter(lst_days_set, lst_days_set_value) # 散点图\n",
    "plt.plot(lst_days_set, lst_days_set_value) # 折线图"
   ]
  },
  {
   "cell_type": "markdown",
   "id": "424d348b-5724-433c-9105-06b4d04a529a",
   "metadata": {},
   "source": [
    "## 幅度的统计"
   ]
  },
  {
   "cell_type": "code",
   "execution_count": 6,
   "id": "c48ad3e5-286f-4c41-a259-24fa924a4a4b",
   "metadata": {},
   "outputs": [
    {
     "name": "stdout",
     "output_type": "stream",
     "text": [
      "收盘价的幅度\n",
      "上涨的概率:7.64%\n",
      "上涨的平均:2.56%,中值:1.946147693948291\n",
      "下跌的平均:-5.07%,中值:-3.325942350332583\n"
     ]
    }
   ],
   "source": [
    "print('收盘价的幅度')\n",
    "lst_range_up = [i for i in lst_range if i >0]\n",
    "lst_range_down = [i for i in lst_range if i < 0]\n",
    "lst_range_up.sort()\n",
    "lst_range_down.sort()\n",
    "lst_range_count = len(lst_range)\n",
    "print('上涨的概率:{:.2f}%'.format(len(lst_range_up)*100.0/len(lst_range)))\n",
    "print('上涨的平均:{:.2f}%,中值:{}'.format(sum(lst_range_up)/len(lst_range_up), lst_range_up[len(lst_range_up)//2]))\n",
    "print('下跌的平均:{:.2f}%,中值:{}'.format(sum(lst_range_down)/len(lst_range_down), lst_range_down[len(lst_range_down)//2]))"
   ]
  },
  {
   "cell_type": "code",
   "execution_count": 7,
   "id": "a764ce1f-a453-4a3a-807e-a98f75786c6f",
   "metadata": {},
   "outputs": [
    {
     "name": "stdout",
     "output_type": "stream",
     "text": [
      "开盘价的幅度\n",
      "上涨的概率:0.50%, 不涨不跌的概率:87.62%,下跌的概率:11.89%\n",
      "上涨的平均:1.26%,中值:0.74, 最大:7.82%,\n",
      "下跌的平均:-5.36%,中值:-3.61,最小:-58.67%\n"
     ]
    }
   ],
   "source": [
    "print('开盘价的幅度')\n",
    "lst_range_up2 = [i for i in lst_range2 if i >0]\n",
    "lst_range_down2 = [i for i in lst_range2 if i < 0]\n",
    "lst_range_0 = [i for i in lst_range2 if i == 0]\n",
    "lst_range_up2.sort()\n",
    "lst_range_down2.sort()\n",
    "lst_range_count2 = len(lst_range2)\n",
    "print('上涨的概率:{:.2f}%, 不涨不跌的概率:{:.2f}%,下跌的概率:{:.2f}%'.format(\n",
    "    len(lst_range_up2)*100.0/len(lst_range2),\n",
    "    len(lst_range_0)*100.0/len(lst_range2),\n",
    "    len(lst_range_down2)*100.0/len(lst_range2)\n",
    "))\n",
    "print('上涨的平均:{:.2f}%,中值:{:.2f}, 最大:{:.2f}%,'.format(\n",
    "    sum(lst_range_up2)/len(lst_range_up2), \n",
    "    lst_range_up2[len(lst_range_up2)//2],\n",
    "    max(lst_range_up2)\n",
    "))\n",
    "print('下跌的平均:{:.2f}%,中值:{:.2f},最小:{:.2f}%'.format(\n",
    "    sum(lst_range_down2)/len(lst_range_down2), \n",
    "    lst_range_down2[len(lst_range_down2)//2],\n",
    "    min(lst_range_down2)\n",
    "))"
   ]
  },
  {
   "cell_type": "code",
   "execution_count": null,
   "id": "5f93f7f0-6a53-49ea-b1a7-566abb9f6937",
   "metadata": {},
   "outputs": [],
   "source": []
  }
 ],
 "metadata": {
  "kernelspec": {
   "display_name": "Python [conda env:root]",
   "language": "python",
   "name": "conda-root-py"
  },
  "language_info": {
   "codemirror_mode": {
    "name": "ipython",
    "version": 3
   },
   "file_extension": ".py",
   "mimetype": "text/x-python",
   "name": "python",
   "nbconvert_exporter": "python",
   "pygments_lexer": "ipython3",
   "version": "3.8.12"
  }
 },
 "nbformat": 4,
 "nbformat_minor": 5
}
