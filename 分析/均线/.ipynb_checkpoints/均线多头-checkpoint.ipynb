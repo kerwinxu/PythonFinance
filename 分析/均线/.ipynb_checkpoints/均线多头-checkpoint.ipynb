{
 "cells": [
  {
   "cell_type": "markdown",
   "id": "b7a99523-d332-41c2-8f93-b856f450e31e",
   "metadata": {},
   "source": [
    "这个是查看均线多头后经过多长时间以及涨跌的比率"
   ]
  },
  {
   "cell_type": "code",
   "execution_count": 1,
   "id": "d1badbfa-bd57-4233-9387-28f2f734ff6c",
   "metadata": {},
   "outputs": [],
   "source": [
    "import pandas as pd\n",
    "import numpy as np\n",
    "import talib\n",
    "# import tqdm\n",
    "from tqdm.notebook import tqdm\n",
    "\n",
    "%matplotlib inline\n",
    "import matplotlib.pyplot as plt\n",
    "plt.rcParams['figure.figsize'] = (15.0, 8.0) # 单位是inches"
   ]
  },
  {
   "cell_type": "markdown",
   "id": "2b71cc96-cfc2-4893-9f58-f016d25095a9",
   "metadata": {},
   "source": [
    "# 导入数据"
   ]
  },
  {
   "cell_type": "code",
   "execution_count": 2,
   "id": "7f03c3b4-4f01-4e7b-8e84-1ea8c6259367",
   "metadata": {},
   "outputs": [
    {
     "name": "stdout",
     "output_type": "stream",
     "text": [
      "共导入3704160行数据,股票个数：4136,平均每个股票的的数据量:895\n"
     ]
    },
    {
     "data": {
      "text/html": [
       "<div>\n",
       "<style scoped>\n",
       "    .dataframe tbody tr th:only-of-type {\n",
       "        vertical-align: middle;\n",
       "    }\n",
       "\n",
       "    .dataframe tbody tr th {\n",
       "        vertical-align: top;\n",
       "    }\n",
       "\n",
       "    .dataframe thead th {\n",
       "        text-align: right;\n",
       "    }\n",
       "</style>\n",
       "<table border=\"1\" class=\"dataframe\">\n",
       "  <thead>\n",
       "    <tr style=\"text-align: right;\">\n",
       "      <th></th>\n",
       "      <th></th>\n",
       "      <th>date</th>\n",
       "      <th>open</th>\n",
       "      <th>high</th>\n",
       "      <th>low</th>\n",
       "      <th>close</th>\n",
       "    </tr>\n",
       "    <tr>\n",
       "      <th>Unnamed: 0</th>\n",
       "      <th>Unnamed: 1</th>\n",
       "      <th></th>\n",
       "      <th></th>\n",
       "      <th></th>\n",
       "      <th></th>\n",
       "      <th></th>\n",
       "    </tr>\n",
       "  </thead>\n",
       "  <tbody>\n",
       "    <tr>\n",
       "      <th rowspan=\"5\" valign=\"top\">000001.XSHE</th>\n",
       "      <th>0</th>\n",
       "      <td>2018-04-18</td>\n",
       "      <td>10.89</td>\n",
       "      <td>11.04</td>\n",
       "      <td>10.72</td>\n",
       "      <td>10.93</td>\n",
       "    </tr>\n",
       "    <tr>\n",
       "      <th>1</th>\n",
       "      <td>2018-04-19</td>\n",
       "      <td>10.95</td>\n",
       "      <td>11.11</td>\n",
       "      <td>10.86</td>\n",
       "      <td>10.90</td>\n",
       "    </tr>\n",
       "    <tr>\n",
       "      <th>2</th>\n",
       "      <td>2018-04-20</td>\n",
       "      <td>10.94</td>\n",
       "      <td>11.01</td>\n",
       "      <td>10.65</td>\n",
       "      <td>10.79</td>\n",
       "    </tr>\n",
       "    <tr>\n",
       "      <th>3</th>\n",
       "      <td>2018-04-23</td>\n",
       "      <td>10.74</td>\n",
       "      <td>11.04</td>\n",
       "      <td>10.70</td>\n",
       "      <td>11.00</td>\n",
       "    </tr>\n",
       "    <tr>\n",
       "      <th>4</th>\n",
       "      <td>2018-04-24</td>\n",
       "      <td>11.06</td>\n",
       "      <td>11.35</td>\n",
       "      <td>11.01</td>\n",
       "      <td>11.28</td>\n",
       "    </tr>\n",
       "  </tbody>\n",
       "</table>\n",
       "</div>"
      ],
      "text/plain": [
       "                              date   open   high    low  close\n",
       "Unnamed: 0  Unnamed: 1                                        \n",
       "000001.XSHE 0           2018-04-18  10.89  11.04  10.72  10.93\n",
       "            1           2018-04-19  10.95  11.11  10.86  10.90\n",
       "            2           2018-04-20  10.94  11.01  10.65  10.79\n",
       "            3           2018-04-23  10.74  11.04  10.70  11.00\n",
       "            4           2018-04-24  11.06  11.35  11.01  11.28"
      ]
     },
     "execution_count": 2,
     "metadata": {},
     "output_type": "execute_result"
    }
   ],
   "source": [
    "data = pd.read_csv(\"../../数据获取/聚宽数据/最新数据.csv\")\n",
    "data=data.set_index(['Unnamed: 0', 'Unnamed: 1'])\n",
    "print('共导入{}行数据,股票个数：{},平均每个股票的的数据量:{}'.format(\n",
    "    len(data),\n",
    "    len(data.index.levels[0]),\n",
    "    len(data)//len(data.index.levels[0])\n",
    "))\n",
    "data.head()"
   ]
  },
  {
   "cell_type": "markdown",
   "id": "c411919b-213f-46f6-b0c0-7bd94394c564",
   "metadata": {},
   "source": [
    "# 统计数据"
   ]
  },
  {
   "cell_type": "code",
   "execution_count": 3,
   "id": "1e16728b-f36a-42c2-be54-bec3acfe2c13",
   "metadata": {},
   "outputs": [
    {
     "data": {
      "text/html": [
       "<div>\n",
       "<style scoped>\n",
       "    .dataframe tbody tr th:only-of-type {\n",
       "        vertical-align: middle;\n",
       "    }\n",
       "\n",
       "    .dataframe tbody tr th {\n",
       "        vertical-align: top;\n",
       "    }\n",
       "\n",
       "    .dataframe thead th {\n",
       "        text-align: right;\n",
       "    }\n",
       "</style>\n",
       "<table border=\"1\" class=\"dataframe\">\n",
       "  <thead>\n",
       "    <tr style=\"text-align: right;\">\n",
       "      <th></th>\n",
       "      <th>date</th>\n",
       "      <th>open</th>\n",
       "      <th>high</th>\n",
       "      <th>low</th>\n",
       "      <th>close</th>\n",
       "      <th>ma5</th>\n",
       "      <th>ma10</th>\n",
       "      <th>ma20</th>\n",
       "      <th>ma30</th>\n",
       "      <th>ma60</th>\n",
       "      <th>ma120</th>\n",
       "      <th>均线多头</th>\n",
       "    </tr>\n",
       "    <tr>\n",
       "      <th>Unnamed: 1</th>\n",
       "      <th></th>\n",
       "      <th></th>\n",
       "      <th></th>\n",
       "      <th></th>\n",
       "      <th></th>\n",
       "      <th></th>\n",
       "      <th></th>\n",
       "      <th></th>\n",
       "      <th></th>\n",
       "      <th></th>\n",
       "      <th></th>\n",
       "      <th></th>\n",
       "    </tr>\n",
       "  </thead>\n",
       "  <tbody>\n",
       "    <tr>\n",
       "      <th>90</th>\n",
       "      <td>2018-08-27</td>\n",
       "      <td>9.67</td>\n",
       "      <td>10.07</td>\n",
       "      <td>9.62</td>\n",
       "      <td>10.07</td>\n",
       "      <td>9.332</td>\n",
       "      <td>8.949</td>\n",
       "      <td>8.8740</td>\n",
       "      <td>8.855000</td>\n",
       "      <td>8.922167</td>\n",
       "      <td>NaN</td>\n",
       "      <td>True</td>\n",
       "    </tr>\n",
       "    <tr>\n",
       "      <th>91</th>\n",
       "      <td>2018-08-28</td>\n",
       "      <td>9.98</td>\n",
       "      <td>10.07</td>\n",
       "      <td>9.88</td>\n",
       "      <td>9.93</td>\n",
       "      <td>9.536</td>\n",
       "      <td>9.073</td>\n",
       "      <td>8.9160</td>\n",
       "      <td>8.905333</td>\n",
       "      <td>8.925000</td>\n",
       "      <td>NaN</td>\n",
       "      <td>True</td>\n",
       "    </tr>\n",
       "    <tr>\n",
       "      <th>92</th>\n",
       "      <td>2018-08-29</td>\n",
       "      <td>9.89</td>\n",
       "      <td>9.97</td>\n",
       "      <td>9.80</td>\n",
       "      <td>9.91</td>\n",
       "      <td>9.724</td>\n",
       "      <td>9.216</td>\n",
       "      <td>8.9700</td>\n",
       "      <td>8.955667</td>\n",
       "      <td>8.927667</td>\n",
       "      <td>NaN</td>\n",
       "      <td>True</td>\n",
       "    </tr>\n",
       "    <tr>\n",
       "      <th>93</th>\n",
       "      <td>2018-08-30</td>\n",
       "      <td>9.91</td>\n",
       "      <td>9.99</td>\n",
       "      <td>9.73</td>\n",
       "      <td>9.77</td>\n",
       "      <td>9.872</td>\n",
       "      <td>9.346</td>\n",
       "      <td>9.0270</td>\n",
       "      <td>9.000333</td>\n",
       "      <td>8.929833</td>\n",
       "      <td>NaN</td>\n",
       "      <td>True</td>\n",
       "    </tr>\n",
       "    <tr>\n",
       "      <th>94</th>\n",
       "      <td>2018-08-31</td>\n",
       "      <td>9.78</td>\n",
       "      <td>9.96</td>\n",
       "      <td>9.75</td>\n",
       "      <td>9.78</td>\n",
       "      <td>9.892</td>\n",
       "      <td>9.474</td>\n",
       "      <td>9.0860</td>\n",
       "      <td>9.033333</td>\n",
       "      <td>8.928500</td>\n",
       "      <td>NaN</td>\n",
       "      <td>True</td>\n",
       "    </tr>\n",
       "    <tr>\n",
       "      <th>...</th>\n",
       "      <td>...</td>\n",
       "      <td>...</td>\n",
       "      <td>...</td>\n",
       "      <td>...</td>\n",
       "      <td>...</td>\n",
       "      <td>...</td>\n",
       "      <td>...</td>\n",
       "      <td>...</td>\n",
       "      <td>...</td>\n",
       "      <td>...</td>\n",
       "      <td>...</td>\n",
       "      <td>...</td>\n",
       "    </tr>\n",
       "    <tr>\n",
       "      <th>890</th>\n",
       "      <td>2021-12-14</td>\n",
       "      <td>18.16</td>\n",
       "      <td>18.17</td>\n",
       "      <td>17.52</td>\n",
       "      <td>17.58</td>\n",
       "      <td>18.280</td>\n",
       "      <td>18.084</td>\n",
       "      <td>17.9490</td>\n",
       "      <td>17.938000</td>\n",
       "      <td>18.505667</td>\n",
       "      <td>19.294167</td>\n",
       "      <td>True</td>\n",
       "    </tr>\n",
       "    <tr>\n",
       "      <th>967</th>\n",
       "      <td>2022-04-12</td>\n",
       "      <td>16.05</td>\n",
       "      <td>16.26</td>\n",
       "      <td>15.66</td>\n",
       "      <td>15.92</td>\n",
       "      <td>16.208</td>\n",
       "      <td>15.691</td>\n",
       "      <td>15.1745</td>\n",
       "      <td>15.140667</td>\n",
       "      <td>15.887500</td>\n",
       "      <td>16.988417</td>\n",
       "      <td>True</td>\n",
       "    </tr>\n",
       "    <tr>\n",
       "      <th>968</th>\n",
       "      <td>2022-04-13</td>\n",
       "      <td>15.89</td>\n",
       "      <td>16.08</td>\n",
       "      <td>15.72</td>\n",
       "      <td>15.80</td>\n",
       "      <td>16.090</td>\n",
       "      <td>15.786</td>\n",
       "      <td>15.2400</td>\n",
       "      <td>15.142333</td>\n",
       "      <td>15.864333</td>\n",
       "      <td>16.956250</td>\n",
       "      <td>True</td>\n",
       "    </tr>\n",
       "    <tr>\n",
       "      <th>969</th>\n",
       "      <td>2022-04-14</td>\n",
       "      <td>16.00</td>\n",
       "      <td>16.25</td>\n",
       "      <td>15.92</td>\n",
       "      <td>16.04</td>\n",
       "      <td>16.042</td>\n",
       "      <td>15.922</td>\n",
       "      <td>15.3580</td>\n",
       "      <td>15.146333</td>\n",
       "      <td>15.841500</td>\n",
       "      <td>16.929167</td>\n",
       "      <td>True</td>\n",
       "    </tr>\n",
       "    <tr>\n",
       "      <th>970</th>\n",
       "      <td>2022-04-15</td>\n",
       "      <td>15.90</td>\n",
       "      <td>16.53</td>\n",
       "      <td>15.86</td>\n",
       "      <td>16.42</td>\n",
       "      <td>16.046</td>\n",
       "      <td>16.043</td>\n",
       "      <td>15.4635</td>\n",
       "      <td>15.171000</td>\n",
       "      <td>15.831833</td>\n",
       "      <td>16.902917</td>\n",
       "      <td>True</td>\n",
       "    </tr>\n",
       "  </tbody>\n",
       "</table>\n",
       "<p>245 rows × 12 columns</p>\n",
       "</div>"
      ],
      "text/plain": [
       "                  date   open   high    low  close     ma5    ma10     ma20  \\\n",
       "Unnamed: 1                                                                    \n",
       "90          2018-08-27   9.67  10.07   9.62  10.07   9.332   8.949   8.8740   \n",
       "91          2018-08-28   9.98  10.07   9.88   9.93   9.536   9.073   8.9160   \n",
       "92          2018-08-29   9.89   9.97   9.80   9.91   9.724   9.216   8.9700   \n",
       "93          2018-08-30   9.91   9.99   9.73   9.77   9.872   9.346   9.0270   \n",
       "94          2018-08-31   9.78   9.96   9.75   9.78   9.892   9.474   9.0860   \n",
       "...                ...    ...    ...    ...    ...     ...     ...      ...   \n",
       "890         2021-12-14  18.16  18.17  17.52  17.58  18.280  18.084  17.9490   \n",
       "967         2022-04-12  16.05  16.26  15.66  15.92  16.208  15.691  15.1745   \n",
       "968         2022-04-13  15.89  16.08  15.72  15.80  16.090  15.786  15.2400   \n",
       "969         2022-04-14  16.00  16.25  15.92  16.04  16.042  15.922  15.3580   \n",
       "970         2022-04-15  15.90  16.53  15.86  16.42  16.046  16.043  15.4635   \n",
       "\n",
       "                 ma30       ma60      ma120  均线多头  \n",
       "Unnamed: 1                                         \n",
       "90           8.855000   8.922167        NaN  True  \n",
       "91           8.905333   8.925000        NaN  True  \n",
       "92           8.955667   8.927667        NaN  True  \n",
       "93           9.000333   8.929833        NaN  True  \n",
       "94           9.033333   8.928500        NaN  True  \n",
       "...               ...        ...        ...   ...  \n",
       "890         17.938000  18.505667  19.294167  True  \n",
       "967         15.140667  15.887500  16.988417  True  \n",
       "968         15.142333  15.864333  16.956250  True  \n",
       "969         15.146333  15.841500  16.929167  True  \n",
       "970         15.171000  15.831833  16.902917  True  \n",
       "\n",
       "[245 rows x 12 columns]"
      ]
     },
     "execution_count": 3,
     "metadata": {},
     "output_type": "execute_result"
    }
   ],
   "source": [
    "# 先一个图片的\n",
    "data_one = data.loc[data.index.levels[0][0]].copy() # 这个是每一个股票的数据\n",
    "\n",
    "# 这里首先添加均线，\n",
    "for ma_day in [5,10,20,30,60,120]:\n",
    "    # 插入多条均线\n",
    "    data_one.insert(\n",
    "        loc=len(data_one.columns),\n",
    "        column='ma{}'.format(ma_day),\n",
    "        value=talib.MA(data_one['close'], timeperiod=ma_day)\n",
    "    )\n",
    "# 然后这里是比较了。\n",
    "data_one.insert(\n",
    "    loc=len(data_one.columns),\n",
    "    column='均线多头',\n",
    "    value=(data_one['ma5'] > data_one['ma10'] ) & (data_one['ma10'] > data_one['ma20'] )& (data_one['ma20'] > data_one['ma30']) \n",
    ")\n",
    "# 然后是遍历了\n",
    "data_one[data_one['均线多头']]\n",
    "# 这里寻找这一支股票下跌的时候是什么样子\n"
   ]
  },
  {
   "cell_type": "code",
   "execution_count": null,
   "id": "a0825cd9-72e1-4530-bd5d-87c62e43654a",
   "metadata": {},
   "outputs": [],
   "source": []
  },
  {
   "cell_type": "code",
   "execution_count": 18,
   "id": "aa3e1769-a956-494d-b30c-94c39100a18b",
   "metadata": {},
   "outputs": [
    {
     "data": {
      "application/vnd.jupyter.widget-view+json": {
       "model_id": "5a526232b45d46b9853511d5759b6035",
       "version_major": 2,
       "version_minor": 0
      },
      "text/plain": [
       "  0%|          | 0/4136 [00:00<?, ?it/s]"
      ]
     },
     "metadata": {},
     "output_type": "display_data"
    }
   ],
   "source": [
    "lst_duotou_days = [] # 这个是均线多头每次持续的日期\n",
    "lst_duotou_range = [] # 这个是每一次的幅度\n",
    "lst_duotou_range2 = [] # 这个是开盘价的幅度\n",
    "with tqdm(range(len(data.index.levels[0]))) as bar:\n",
    "    for id in data.index.levels[0]:\n",
    "        data_one = data.loc[id].copy() # 这个是每一个股票的数据\n",
    "        # 上边的格式比较固定，遍历每一个股票,然后下边开始统计\n",
    "        # 这里首先添加均线，\n",
    "        for ma_day in [5,10,20,30,60,120]:\n",
    "            # 插入多条均线\n",
    "            data_one.insert(\n",
    "                loc=len(data_one.columns),\n",
    "                column='ma{}'.format(ma_day),\n",
    "                value=talib.MA(data_one['close'], timeperiod=ma_day)\n",
    "            )\n",
    "        # 然后这里是比较了。\n",
    "        data_one.insert(\n",
    "            loc=len(data_one.columns),\n",
    "            column='均线多头',\n",
    "            value=(data_one['ma5'] > data_one['ma10'] ) & (data_one['ma10'] > data_one['ma20'] )& (data_one['ma20'] > data_one['ma30']) \n",
    "        )\n",
    "        # 下边开始统计\n",
    "        j = 0\n",
    "        while j < len(data_one):\n",
    "            # 遍历每一个的数据\n",
    "            if  data_one.loc[j, '均线多头']:\n",
    "                # 碰到均线开头的第一天\n",
    "                if j + 1 < len(data_one):\n",
    "                    # 如果不是最后一天\n",
    "                    j = j + 1 # 下一天\n",
    "                    j_start = j #  保留起始的\n",
    "                    while j < len(data_one) and data_one.loc[j, '均线多头'] :\n",
    "                        j = j + 1 # 寻找结束\n",
    "                    if j >= len(data_one):\n",
    "                        # 是否是最后一天,需要回退。\n",
    "                        j = j - 1\n",
    "                    # 这里要记录幅度了\n",
    "                    lst_duotou_range.append(\n",
    "                        (data_one.loc[j, 'close']- data_one.loc[j_start, 'close'])/ data_one.loc[j_start, 'close']*100\n",
    "                    ) # 幅度\n",
    "                    lst_duotou_range2.append(\n",
    "                        (data_one.loc[j, 'open']- data_one.loc[j_start, 'open'])/ data_one.loc[j_start, 'open']*100\n",
    "                    ) # 幅度\n",
    "                    lst_duotou_days.append(j - j_start + 1) # 天数\n",
    "                    pass\n",
    "                else:\n",
    "                    j = j + 1\n",
    "            else:\n",
    "                j = j + 1\n",
    "            # 进度条\n",
    "        bar.update(1)\n",
    "        "
   ]
  },
  {
   "cell_type": "markdown",
   "id": "c553093f-cb2b-47cf-a0fc-bc8852379134",
   "metadata": {
    "tags": []
   },
   "source": [
    "# 查看结果"
   ]
  },
  {
   "cell_type": "markdown",
   "id": "116c9fee-1581-490d-bc30-ea5e7806961f",
   "metadata": {},
   "source": [
    "## 天数的统计"
   ]
  },
  {
   "cell_type": "code",
   "execution_count": 19,
   "id": "e881443e-4088-4138-a59c-7b31cf2b335d",
   "metadata": {},
   "outputs": [
    {
     "data": {
      "text/plain": [
       "[<matplotlib.lines.Line2D at 0x1959ba539d0>]"
      ]
     },
     "execution_count": 19,
     "metadata": {},
     "output_type": "execute_result"
    },
    {
     "data": {
      "image/png": "[encoded data removed]",
      "text/plain": [
       "<Figure size 1080x576 with 1 Axes>"
      ]
     },
     "metadata": {
      "needs_background": "light"
     },
     "output_type": "display_data"
    }
   ],
   "source": [
    "lst_duotou_days_set = list(set(lst_duotou_days)) # 首先不重复的\n",
    "lst_duotou_days_set.sort() # 排序\n",
    "lst_duotou_days_set_value = [lst_duotou_days.count(i) for i in lst_duotou_days_set] # 统计个数\n",
    "# 如下是画图\n",
    "plt.scatter(lst_duotou_days_set, lst_duotou_days_set_value) # 散点图\n",
    "plt.plot(lst_duotou_days_set, lst_duotou_days_set_value) # 折线图"
   ]
  },
  {
   "cell_type": "markdown",
   "id": "85c7cd2e-a330-4bac-98ef-d4d5b8fedb8c",
   "metadata": {},
   "source": [
    "这个看起来，只有一两个的情况很多，但是其他的也不是太逊色啊。"
   ]
  },
  {
   "cell_type": "code",
   "execution_count": 20,
   "id": "cec165b7-7b4a-46f8-ae19-3238acc6a743",
   "metadata": {},
   "outputs": [
    {
     "name": "stdout",
     "output_type": "stream",
     "text": [
      "[1, 2, 3]\n",
      "[7415, 42, 3]\n",
      "['99.40%', '0.56%', '0.04%']\n"
     ]
    }
   ],
   "source": [
    "print(lst_duotou_days_set[:10])\n",
    "print(lst_duotou_days_set_value[:10])\n",
    "lst_duotou_days_set_value_sum = sum(lst_duotou_days_set_value)\n",
    "print(['{:.2f}%'.format(i*100.0/lst_duotou_days_set_value_sum) for i in lst_duotou_days_set_value][:10])"
   ]
  },
  {
   "cell_type": "markdown",
   "id": "6c6d50a0-e058-4a94-aa0d-481bcdee6249",
   "metadata": {},
   "source": [
    "看起来，均线多头，只有不到1/10的概率是第一次显示后就不持续的。"
   ]
  },
  {
   "cell_type": "markdown",
   "id": "1aef5651-0798-4f43-8a89-57a0b37cf34d",
   "metadata": {},
   "source": [
    "## 上涨幅度"
   ]
  },
  {
   "cell_type": "code",
   "execution_count": 21,
   "id": "5161283a-853f-42f3-b891-5841fbf351f6",
   "metadata": {},
   "outputs": [
    {
     "name": "stdout",
     "output_type": "stream",
     "text": [
      "收盘价的幅度\n",
      "上涨的概率:0.23%\n",
      "上涨的平均:3.30%,中值:2.266038846380233\n",
      "下跌的平均:-2.26%,中值:-1.6949152542372896\n"
     ]
    }
   ],
   "source": [
    "print('收盘价的幅度')\n",
    "lst_duotou_range_up = [i for i in lst_duotou_range if i >0]\n",
    "lst_duotou_range_down = [i for i in lst_duotou_range if i < 0]\n",
    "lst_duotou_range_up.sort()\n",
    "lst_duotou_range_down.sort()\n",
    "lst_duotou_range_count = len(lst_duotou_range)\n",
    "print('上涨的概率:{:.2f}%'.format(len(lst_duotou_range_up)*100.0/len(lst_duotou_range)))\n",
    "print('上涨的平均:{:.2f}%,中值:{}'.format(sum(lst_duotou_range_up)/len(lst_duotou_range_up), lst_duotou_range_up[len(lst_duotou_range_up)//2]))\n",
    "print('下跌的平均:{:.2f}%,中值:{}'.format(sum(lst_duotou_range_down)/len(lst_duotou_range_down), lst_duotou_range_down[len(lst_duotou_range_down)//2]))"
   ]
  },
  {
   "cell_type": "code",
   "execution_count": 22,
   "id": "7d61ca56-9a03-4c97-9e52-588f991abc8c",
   "metadata": {},
   "outputs": [
    {
     "name": "stdout",
     "output_type": "stream",
     "text": [
      "开盘价的幅度\n",
      "上涨的概率:0.59%, 不涨不跌的概率:99.40%,下跌的概率:0.01%\n",
      "上涨的平均:5.47%,中值:3.42, 最大:23.21%,\n",
      "下跌的平均:-0.57%,中值:-0.57,最小:-0.57%\n"
     ]
    }
   ],
   "source": [
    "print('开盘价的幅度')\n",
    "lst_duotou_range_up2 = [i for i in lst_duotou_range2 if i >0]\n",
    "lst_duotou_range_down2 = [i for i in lst_duotou_range2 if i < 0]\n",
    "lst_duotou_range_0 = [i for i in lst_duotou_range2 if i == 0]\n",
    "lst_duotou_range_up2.sort()\n",
    "lst_duotou_range_down2.sort()\n",
    "lst_duotou_range_count2 = len(lst_duotou_range2)\n",
    "print('上涨的概率:{:.2f}%, 不涨不跌的概率:{:.2f}%,下跌的概率:{:.2f}%'.format(\n",
    "    len(lst_duotou_range_up2)*100.0/len(lst_duotou_range2),\n",
    "    len(lst_duotou_range_0)*100.0/len(lst_duotou_range2),\n",
    "    len(lst_duotou_range_down2)*100.0/len(lst_duotou_range2)\n",
    "))\n",
    "print('上涨的平均:{:.2f}%,中值:{:.2f}, 最大:{:.2f}%,'.format(\n",
    "    sum(lst_duotou_range_up2)/len(lst_duotou_range_up2), \n",
    "    lst_duotou_range_up2[len(lst_duotou_range_up2)//2],\n",
    "    max(lst_duotou_range_up2)\n",
    "))\n",
    "print('下跌的平均:{:.2f}%,中值:{:.2f},最小:{:.2f}%'.format(\n",
    "    sum(lst_duotou_range_down2)/len(lst_duotou_range_down2), \n",
    "    lst_duotou_range_down2[len(lst_duotou_range_down2)//2],\n",
    "    min(lst_duotou_range_down2)\n",
    "))"
   ]
  },
  {
   "cell_type": "markdown",
   "id": "0627142d-5d3e-484b-9746-9098f51a65b2",
   "metadata": {},
   "source": [
    "## 图形"
   ]
  },
  {
   "cell_type": "code",
   "execution_count": 23,
   "id": "b0b864d8-2d88-4a21-adb9-f0cf7a2eefcf",
   "metadata": {},
   "outputs": [
    {
     "data": {
      "text/plain": [
       "<matplotlib.lines.Line2D at 0x1959ba72520>"
      ]
     },
     "execution_count": 23,
     "metadata": {},
     "output_type": "execute_result"
    },
    {
     "data": {
      "image/png": "[encoded data removed]",
      "text/plain": [
       "<Figure size 1080x576 with 1 Axes>"
      ]
     },
     "metadata": {
      "needs_background": "light"
     },
     "output_type": "display_data"
    }
   ],
   "source": [
    "plt.scatter(lst_duotou_days, lst_duotou_range)\n",
    "plt.axhline(0)"
   ]
  },
  {
   "cell_type": "code",
   "execution_count": null,
   "id": "519f72dd-ce00-4e32-880c-df5fa4fe98e5",
   "metadata": {},
   "outputs": [],
   "source": []
  },
  {
   "cell_type": "code",
   "execution_count": null,
   "id": "e6d493ca-828e-4e58-8f1e-6d775418a8b7",
   "metadata": {},
   "outputs": [],
   "source": []
  }
 ],
 "metadata": {
  "kernelspec": {
   "display_name": "Python [conda env:root]",
   "language": "python",
   "name": "conda-root-py"
  },
  "language_info": {
   "codemirror_mode": {
    "name": "ipython",
    "version": 3
   },
   "file_extension": ".py",
   "mimetype": "text/x-python",
   "name": "python",
   "nbconvert_exporter": "python",
   "pygments_lexer": "ipython3",
   "version": "3.8.12"
  }
 },
 "nbformat": 4,
 "nbformat_minor": 5
}
