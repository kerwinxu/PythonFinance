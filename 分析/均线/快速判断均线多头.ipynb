{
 "cells": [
  {
   "cell_type": "code",
   "execution_count": 1,
   "id": "cf7eeac1-136f-4e32-a08d-cbd640ab58ee",
   "metadata": {},
   "outputs": [],
   "source": [
    "import pandas as pd\n",
    "import numpy as np\n",
    "import talib\n",
    "# import tqdm\n",
    "from tqdm.notebook import tqdm\n",
    "\n",
    "%matplotlib inline\n",
    "import matplotlib.pyplot as plt\n",
    "plt.rcParams['figure.figsize'] = (15.0, 8.0) # 单位是inches"
   ]
  },
  {
   "cell_type": "markdown",
   "id": "c40c9392-bf47-4707-a07c-74976c857fb8",
   "metadata": {},
   "source": [
    "# 导入数据"
   ]
  },
  {
   "cell_type": "code",
   "execution_count": 2,
   "id": "11c98d96-ff6e-4ba4-bf21-a7c72bbc557f",
   "metadata": {},
   "outputs": [
    {
     "name": "stdout",
     "output_type": "stream",
     "text": [
      "共导入3704160行数据,股票个数：4136,平均每个股票的的数据量:895\n"
     ]
    },
    {
     "data": {
      "text/html": [
       "<div>\n",
       "<style scoped>\n",
       "    .dataframe tbody tr th:only-of-type {\n",
       "        vertical-align: middle;\n",
       "    }\n",
       "\n",
       "    .dataframe tbody tr th {\n",
       "        vertical-align: top;\n",
       "    }\n",
       "\n",
       "    .dataframe thead th {\n",
       "        text-align: right;\n",
       "    }\n",
       "</style>\n",
       "<table border=\"1\" class=\"dataframe\">\n",
       "  <thead>\n",
       "    <tr style=\"text-align: right;\">\n",
       "      <th></th>\n",
       "      <th></th>\n",
       "      <th>date</th>\n",
       "      <th>open</th>\n",
       "      <th>high</th>\n",
       "      <th>low</th>\n",
       "      <th>close</th>\n",
       "    </tr>\n",
       "    <tr>\n",
       "      <th>Unnamed: 0</th>\n",
       "      <th>Unnamed: 1</th>\n",
       "      <th></th>\n",
       "      <th></th>\n",
       "      <th></th>\n",
       "      <th></th>\n",
       "      <th></th>\n",
       "    </tr>\n",
       "  </thead>\n",
       "  <tbody>\n",
       "    <tr>\n",
       "      <th rowspan=\"5\" valign=\"top\">000001.XSHE</th>\n",
       "      <th>0</th>\n",
       "      <td>2018-04-18</td>\n",
       "      <td>10.89</td>\n",
       "      <td>11.04</td>\n",
       "      <td>10.72</td>\n",
       "      <td>10.93</td>\n",
       "    </tr>\n",
       "    <tr>\n",
       "      <th>1</th>\n",
       "      <td>2018-04-19</td>\n",
       "      <td>10.95</td>\n",
       "      <td>11.11</td>\n",
       "      <td>10.86</td>\n",
       "      <td>10.90</td>\n",
       "    </tr>\n",
       "    <tr>\n",
       "      <th>2</th>\n",
       "      <td>2018-04-20</td>\n",
       "      <td>10.94</td>\n",
       "      <td>11.01</td>\n",
       "      <td>10.65</td>\n",
       "      <td>10.79</td>\n",
       "    </tr>\n",
       "    <tr>\n",
       "      <th>3</th>\n",
       "      <td>2018-04-23</td>\n",
       "      <td>10.74</td>\n",
       "      <td>11.04</td>\n",
       "      <td>10.70</td>\n",
       "      <td>11.00</td>\n",
       "    </tr>\n",
       "    <tr>\n",
       "      <th>4</th>\n",
       "      <td>2018-04-24</td>\n",
       "      <td>11.06</td>\n",
       "      <td>11.35</td>\n",
       "      <td>11.01</td>\n",
       "      <td>11.28</td>\n",
       "    </tr>\n",
       "  </tbody>\n",
       "</table>\n",
       "</div>"
      ],
      "text/plain": [
       "                              date   open   high    low  close\n",
       "Unnamed: 0  Unnamed: 1                                        \n",
       "000001.XSHE 0           2018-04-18  10.89  11.04  10.72  10.93\n",
       "            1           2018-04-19  10.95  11.11  10.86  10.90\n",
       "            2           2018-04-20  10.94  11.01  10.65  10.79\n",
       "            3           2018-04-23  10.74  11.04  10.70  11.00\n",
       "            4           2018-04-24  11.06  11.35  11.01  11.28"
      ]
     },
     "execution_count": 2,
     "metadata": {},
     "output_type": "execute_result"
    }
   ],
   "source": [
    "data = pd.read_csv(\"../../数据获取/聚宽数据/最新数据.csv\")\n",
    "data=data.set_index(['Unnamed: 0', 'Unnamed: 1'])\n",
    "print('共导入{}行数据,股票个数：{},平均每个股票的的数据量:{}'.format(\n",
    "    len(data),\n",
    "    len(data.index.levels[0]),\n",
    "    len(data)//len(data.index.levels[0])\n",
    "))\n",
    "data.head()"
   ]
  },
  {
   "cell_type": "markdown",
   "id": "791ab645-b75b-4a5e-8ba8-619125419093",
   "metadata": {},
   "source": [
    "# 算法"
   ]
  },
  {
   "cell_type": "code",
   "execution_count": 3,
   "id": "f3c2773b-8f06-479e-ac41-ae2578690dfb",
   "metadata": {},
   "outputs": [
    {
     "data": {
      "text/html": [
       "<div>\n",
       "<style scoped>\n",
       "    .dataframe tbody tr th:only-of-type {\n",
       "        vertical-align: middle;\n",
       "    }\n",
       "\n",
       "    .dataframe tbody tr th {\n",
       "        vertical-align: top;\n",
       "    }\n",
       "\n",
       "    .dataframe thead th {\n",
       "        text-align: right;\n",
       "    }\n",
       "</style>\n",
       "<table border=\"1\" class=\"dataframe\">\n",
       "  <thead>\n",
       "    <tr style=\"text-align: right;\">\n",
       "      <th></th>\n",
       "      <th>date</th>\n",
       "      <th>open</th>\n",
       "      <th>high</th>\n",
       "      <th>low</th>\n",
       "      <th>close</th>\n",
       "      <th>ma5</th>\n",
       "      <th>ma10</th>\n",
       "      <th>ma20</th>\n",
       "      <th>ma30</th>\n",
       "      <th>ma60</th>\n",
       "      <th>ma120</th>\n",
       "      <th>均线多头</th>\n",
       "    </tr>\n",
       "    <tr>\n",
       "      <th>Unnamed: 1</th>\n",
       "      <th></th>\n",
       "      <th></th>\n",
       "      <th></th>\n",
       "      <th></th>\n",
       "      <th></th>\n",
       "      <th></th>\n",
       "      <th></th>\n",
       "      <th></th>\n",
       "      <th></th>\n",
       "      <th></th>\n",
       "      <th></th>\n",
       "      <th></th>\n",
       "    </tr>\n",
       "  </thead>\n",
       "  <tbody>\n",
       "    <tr>\n",
       "      <th>90</th>\n",
       "      <td>2018-08-27</td>\n",
       "      <td>9.67</td>\n",
       "      <td>10.07</td>\n",
       "      <td>9.62</td>\n",
       "      <td>10.07</td>\n",
       "      <td>9.332</td>\n",
       "      <td>8.949</td>\n",
       "      <td>8.8740</td>\n",
       "      <td>8.855000</td>\n",
       "      <td>8.922167</td>\n",
       "      <td>NaN</td>\n",
       "      <td>True</td>\n",
       "    </tr>\n",
       "    <tr>\n",
       "      <th>91</th>\n",
       "      <td>2018-08-28</td>\n",
       "      <td>9.98</td>\n",
       "      <td>10.07</td>\n",
       "      <td>9.88</td>\n",
       "      <td>9.93</td>\n",
       "      <td>9.536</td>\n",
       "      <td>9.073</td>\n",
       "      <td>8.9160</td>\n",
       "      <td>8.905333</td>\n",
       "      <td>8.925000</td>\n",
       "      <td>NaN</td>\n",
       "      <td>True</td>\n",
       "    </tr>\n",
       "    <tr>\n",
       "      <th>92</th>\n",
       "      <td>2018-08-29</td>\n",
       "      <td>9.89</td>\n",
       "      <td>9.97</td>\n",
       "      <td>9.80</td>\n",
       "      <td>9.91</td>\n",
       "      <td>9.724</td>\n",
       "      <td>9.216</td>\n",
       "      <td>8.9700</td>\n",
       "      <td>8.955667</td>\n",
       "      <td>8.927667</td>\n",
       "      <td>NaN</td>\n",
       "      <td>True</td>\n",
       "    </tr>\n",
       "    <tr>\n",
       "      <th>93</th>\n",
       "      <td>2018-08-30</td>\n",
       "      <td>9.91</td>\n",
       "      <td>9.99</td>\n",
       "      <td>9.73</td>\n",
       "      <td>9.77</td>\n",
       "      <td>9.872</td>\n",
       "      <td>9.346</td>\n",
       "      <td>9.0270</td>\n",
       "      <td>9.000333</td>\n",
       "      <td>8.929833</td>\n",
       "      <td>NaN</td>\n",
       "      <td>True</td>\n",
       "    </tr>\n",
       "    <tr>\n",
       "      <th>94</th>\n",
       "      <td>2018-08-31</td>\n",
       "      <td>9.78</td>\n",
       "      <td>9.96</td>\n",
       "      <td>9.75</td>\n",
       "      <td>9.78</td>\n",
       "      <td>9.892</td>\n",
       "      <td>9.474</td>\n",
       "      <td>9.0860</td>\n",
       "      <td>9.033333</td>\n",
       "      <td>8.928500</td>\n",
       "      <td>NaN</td>\n",
       "      <td>True</td>\n",
       "    </tr>\n",
       "    <tr>\n",
       "      <th>...</th>\n",
       "      <td>...</td>\n",
       "      <td>...</td>\n",
       "      <td>...</td>\n",
       "      <td>...</td>\n",
       "      <td>...</td>\n",
       "      <td>...</td>\n",
       "      <td>...</td>\n",
       "      <td>...</td>\n",
       "      <td>...</td>\n",
       "      <td>...</td>\n",
       "      <td>...</td>\n",
       "      <td>...</td>\n",
       "    </tr>\n",
       "    <tr>\n",
       "      <th>890</th>\n",
       "      <td>2021-12-14</td>\n",
       "      <td>18.16</td>\n",
       "      <td>18.17</td>\n",
       "      <td>17.52</td>\n",
       "      <td>17.58</td>\n",
       "      <td>18.280</td>\n",
       "      <td>18.084</td>\n",
       "      <td>17.9490</td>\n",
       "      <td>17.938000</td>\n",
       "      <td>18.505667</td>\n",
       "      <td>19.294167</td>\n",
       "      <td>True</td>\n",
       "    </tr>\n",
       "    <tr>\n",
       "      <th>967</th>\n",
       "      <td>2022-04-12</td>\n",
       "      <td>16.05</td>\n",
       "      <td>16.26</td>\n",
       "      <td>15.66</td>\n",
       "      <td>15.92</td>\n",
       "      <td>16.208</td>\n",
       "      <td>15.691</td>\n",
       "      <td>15.1745</td>\n",
       "      <td>15.140667</td>\n",
       "      <td>15.887500</td>\n",
       "      <td>16.988417</td>\n",
       "      <td>True</td>\n",
       "    </tr>\n",
       "    <tr>\n",
       "      <th>968</th>\n",
       "      <td>2022-04-13</td>\n",
       "      <td>15.89</td>\n",
       "      <td>16.08</td>\n",
       "      <td>15.72</td>\n",
       "      <td>15.80</td>\n",
       "      <td>16.090</td>\n",
       "      <td>15.786</td>\n",
       "      <td>15.2400</td>\n",
       "      <td>15.142333</td>\n",
       "      <td>15.864333</td>\n",
       "      <td>16.956250</td>\n",
       "      <td>True</td>\n",
       "    </tr>\n",
       "    <tr>\n",
       "      <th>969</th>\n",
       "      <td>2022-04-14</td>\n",
       "      <td>16.00</td>\n",
       "      <td>16.25</td>\n",
       "      <td>15.92</td>\n",
       "      <td>16.04</td>\n",
       "      <td>16.042</td>\n",
       "      <td>15.922</td>\n",
       "      <td>15.3580</td>\n",
       "      <td>15.146333</td>\n",
       "      <td>15.841500</td>\n",
       "      <td>16.929167</td>\n",
       "      <td>True</td>\n",
       "    </tr>\n",
       "    <tr>\n",
       "      <th>970</th>\n",
       "      <td>2022-04-15</td>\n",
       "      <td>15.90</td>\n",
       "      <td>16.53</td>\n",
       "      <td>15.86</td>\n",
       "      <td>16.42</td>\n",
       "      <td>16.046</td>\n",
       "      <td>16.043</td>\n",
       "      <td>15.4635</td>\n",
       "      <td>15.171000</td>\n",
       "      <td>15.831833</td>\n",
       "      <td>16.902917</td>\n",
       "      <td>True</td>\n",
       "    </tr>\n",
       "  </tbody>\n",
       "</table>\n",
       "<p>245 rows × 12 columns</p>\n",
       "</div>"
      ],
      "text/plain": [
       "                  date   open   high    low  close     ma5    ma10     ma20  \\\n",
       "Unnamed: 1                                                                    \n",
       "90          2018-08-27   9.67  10.07   9.62  10.07   9.332   8.949   8.8740   \n",
       "91          2018-08-28   9.98  10.07   9.88   9.93   9.536   9.073   8.9160   \n",
       "92          2018-08-29   9.89   9.97   9.80   9.91   9.724   9.216   8.9700   \n",
       "93          2018-08-30   9.91   9.99   9.73   9.77   9.872   9.346   9.0270   \n",
       "94          2018-08-31   9.78   9.96   9.75   9.78   9.892   9.474   9.0860   \n",
       "...                ...    ...    ...    ...    ...     ...     ...      ...   \n",
       "890         2021-12-14  18.16  18.17  17.52  17.58  18.280  18.084  17.9490   \n",
       "967         2022-04-12  16.05  16.26  15.66  15.92  16.208  15.691  15.1745   \n",
       "968         2022-04-13  15.89  16.08  15.72  15.80  16.090  15.786  15.2400   \n",
       "969         2022-04-14  16.00  16.25  15.92  16.04  16.042  15.922  15.3580   \n",
       "970         2022-04-15  15.90  16.53  15.86  16.42  16.046  16.043  15.4635   \n",
       "\n",
       "                 ma30       ma60      ma120  均线多头  \n",
       "Unnamed: 1                                         \n",
       "90           8.855000   8.922167        NaN  True  \n",
       "91           8.905333   8.925000        NaN  True  \n",
       "92           8.955667   8.927667        NaN  True  \n",
       "93           9.000333   8.929833        NaN  True  \n",
       "94           9.033333   8.928500        NaN  True  \n",
       "...               ...        ...        ...   ...  \n",
       "890         17.938000  18.505667  19.294167  True  \n",
       "967         15.140667  15.887500  16.988417  True  \n",
       "968         15.142333  15.864333  16.956250  True  \n",
       "969         15.146333  15.841500  16.929167  True  \n",
       "970         15.171000  15.831833  16.902917  True  \n",
       "\n",
       "[245 rows x 12 columns]"
      ]
     },
     "execution_count": 3,
     "metadata": {},
     "output_type": "execute_result"
    }
   ],
   "source": [
    "# 我这里只是统计第一个\n",
    "data_one = data.loc[data.index.levels[0][0]].copy() # 这个是每一个股票的数据\n",
    "\n",
    "# 这里首先添加均线，\n",
    "for ma_day in [5,10,20,30,60,120]:\n",
    "    # 插入多条均线\n",
    "    data_one.insert(\n",
    "        loc=len(data_one.columns),\n",
    "        column='ma{}'.format(ma_day),\n",
    "        value=talib.MA(data_one['close'], timeperiod=ma_day)\n",
    "    )\n",
    "# 然后这里是比较了。\n",
    "data_one.insert(\n",
    "    loc=len(data_one.columns),\n",
    "    column='均线多头',\n",
    "    value=(data_one['ma5'] > data_one['ma10'] ) & (data_one['ma10'] > data_one['ma20'] )& (data_one['ma20'] > data_one['ma30']) \n",
    ")\n",
    "# 然后是遍历了\n",
    "data_one[data_one['均线多头']]"
   ]
  },
  {
   "cell_type": "markdown",
   "id": "26b26723-0412-429c-a327-ef7ba6e63010",
   "metadata": {},
   "source": [
    "##  先用一个简单的数据"
   ]
  },
  {
   "cell_type": "code",
   "execution_count": 4,
   "id": "f9728b36-f9e6-4498-8726-f1f9b7399ed1",
   "metadata": {},
   "outputs": [
    {
     "data": {
      "text/plain": [
       "array([ True, False,  True,  True,  True, False, False,  True,  True,\n",
       "        True,  True,  True])"
      ]
     },
     "execution_count": 4,
     "metadata": {},
     "output_type": "execute_result"
    }
   ],
   "source": [
    "\n",
    "x = [True, False, True, True, True, False, False, True, True, True, True, True] # 一共12个数据\n",
    "x = np.asanyarray(x)\n",
    "x"
   ]
  },
  {
   "cell_type": "code",
   "execution_count": 5,
   "id": "af315c8d-27f0-4cc6-86c7-620944623cbb",
   "metadata": {},
   "outputs": [],
   "source": [
    "if x.ndim != 1:\n",
    "    raise ValueError('only 1D array supported')"
   ]
  },
  {
   "cell_type": "code",
   "execution_count": 6,
   "id": "2e2b193b-b794-4bac-93fd-427e5c7c332f",
   "metadata": {},
   "outputs": [
    {
     "data": {
      "text/plain": [
       "12"
      ]
     },
     "execution_count": 6,
     "metadata": {},
     "output_type": "execute_result"
    }
   ],
   "source": [
    "n = x.shape[0]\n",
    "n"
   ]
  },
  {
   "cell_type": "code",
   "execution_count": 12,
   "id": "6ab4accd-5689-4b5e-9bcb-29b87154057a",
   "metadata": {},
   "outputs": [
    {
     "data": {
      "text/plain": [
       "array([ True,  True,  True,  True,  True,  True, False, False, False,\n",
       "       False, False, False])"
      ]
     },
     "execution_count": 12,
     "metadata": {},
     "output_type": "execute_result"
    }
   ],
   "source": [
    "loc_run_start = np.empty(n, dtype=bool)\n",
    "loc_run_start[0] = True \n",
    "loc_run_start # 这个上边构造的是随机的，真正赋值的只有第一项"
   ]
  },
  {
   "cell_type": "code",
   "execution_count": 13,
   "id": "8fd012ac-6e6d-40ee-9d82-d6d78ce9cc73",
   "metadata": {},
   "outputs": [
    {
     "data": {
      "text/plain": [
       "array([ True, False,  True,  True,  True, False, False,  True,  True,\n",
       "        True,  True])"
      ]
     },
     "execution_count": 13,
     "metadata": {},
     "output_type": "execute_result"
    }
   ],
   "source": [
    "x[:-1] # 这个是截至到最后一项"
   ]
  },
  {
   "cell_type": "code",
   "execution_count": 15,
   "id": "a08b72cc-b8f6-4d8d-b025-98620d472508",
   "metadata": {},
   "outputs": [
    {
     "data": {
      "text/plain": [
       "array([False,  True,  True,  True, False, False,  True,  True,  True,\n",
       "        True,  True])"
      ]
     },
     "execution_count": 15,
     "metadata": {},
     "output_type": "execute_result"
    }
   ],
   "source": [
    "x[1:] # 这个是从第2项目开始"
   ]
  },
  {
   "cell_type": "code",
   "execution_count": 16,
   "id": "fad2aca3-dd85-4161-9235-9630fc94792a",
   "metadata": {},
   "outputs": [
    {
     "data": {
      "text/plain": [
       "array([ True,  True, False, False,  True, False,  True, False, False,\n",
       "       False, False])"
      ]
     },
     "execution_count": 16,
     "metadata": {},
     "output_type": "execute_result"
    }
   ],
   "source": [
    "np.not_equal(x[:-1], x[1:], out=loc_run_start[1:]) # 这个是将这游戏昂跟下一项比较，如果不同是True，结果放在loc_run_start"
   ]
  },
  {
   "cell_type": "code",
   "execution_count": 17,
   "id": "272f4651-fe32-4b06-aa3b-2311fcd27947",
   "metadata": {},
   "outputs": [
    {
     "data": {
      "text/plain": [
       "array([ True,  True,  True, False, False,  True, False,  True, False,\n",
       "       False, False, False])"
      ]
     },
     "execution_count": 17,
     "metadata": {},
     "output_type": "execute_result"
    }
   ],
   "source": [
    "loc_run_start # 这个比上边的结果多了一项，是因为loc_run_start[1:]，这个是第二项开始。"
   ]
  },
  {
   "cell_type": "code",
   "execution_count": 18,
   "id": "fe16b7e3-81a8-4ba0-8eb4-17f92f01ceff",
   "metadata": {},
   "outputs": [
    {
     "data": {
      "text/plain": [
       "(array([0, 1, 2, 5, 7], dtype=int64),)"
      ]
     },
     "execution_count": 18,
     "metadata": {},
     "output_type": "execute_result"
    }
   ],
   "source": [
    "np.nonzero(loc_run_start) # 不是0的。"
   ]
  },
  {
   "cell_type": "code",
   "execution_count": 20,
   "id": "73ab0c50-a6fc-4fd6-bc28-b465cfd8447b",
   "metadata": {},
   "outputs": [
    {
     "data": {
      "text/plain": [
       "array([0, 1, 2, 5, 7], dtype=int64)"
      ]
     },
     "execution_count": 20,
     "metadata": {},
     "output_type": "execute_result"
    }
   ],
   "source": [
    "run_starts = np.nonzero(loc_run_start)[0]\n",
    "run_starts"
   ]
  },
  {
   "cell_type": "code",
   "execution_count": 21,
   "id": "226e548d-5655-4d2c-8bfa-7739c16c4684",
   "metadata": {},
   "outputs": [
    {
     "data": {
      "text/plain": [
       "array([ True, False,  True, False,  True])"
      ]
     },
     "execution_count": 21,
     "metadata": {},
     "output_type": "execute_result"
    }
   ],
   "source": [
    "run_values = x[loc_run_start]\n",
    "run_values"
   ]
  },
  {
   "cell_type": "code",
   "execution_count": 22,
   "id": "4e2f1192-cd98-4e1a-8f15-7c39ec60e9b5",
   "metadata": {},
   "outputs": [
    {
     "data": {
      "text/plain": [
       "array([ 0,  1,  2,  5,  7, 12], dtype=int64)"
      ]
     },
     "execution_count": 22,
     "metadata": {},
     "output_type": "execute_result"
    }
   ],
   "source": [
    "np.append(run_starts, n) # 只是添加了一个末尾"
   ]
  },
  {
   "cell_type": "code",
   "execution_count": 23,
   "id": "fb82c3a2-98d2-4de8-9424-ada5ddb89030",
   "metadata": {},
   "outputs": [
    {
     "data": {
      "text/plain": [
       "array([1, 1, 3, 2, 5], dtype=int64)"
      ]
     },
     "execution_count": 23,
     "metadata": {},
     "output_type": "execute_result"
    }
   ],
   "source": [
    "np.diff(np.append(run_starts, n)) # 这个是比较相差多大的"
   ]
  },
  {
   "cell_type": "code",
   "execution_count": 24,
   "id": "53c06db2-47e1-4b98-9b8d-3473df340275",
   "metadata": {},
   "outputs": [
    {
     "data": {
      "text/plain": [
       "array([1, 1, 3, 2, 5], dtype=int64)"
      ]
     },
     "execution_count": 24,
     "metadata": {},
     "output_type": "execute_result"
    }
   ],
   "source": [
    "run_lengths = np.diff(np.append(run_starts, n))\n",
    "run_lengths"
   ]
  },
  {
   "cell_type": "code",
   "execution_count": null,
   "id": "1d1f0f32-f76c-4aee-b303-efbd5958199d",
   "metadata": {},
   "outputs": [],
   "source": []
  },
  {
   "cell_type": "code",
   "execution_count": 25,
   "id": "8d277e8b-a1d7-403d-a40a-8f6c4f7dc7e8",
   "metadata": {},
   "outputs": [],
   "source": [
    "def find_runs(x):\n",
    "    \"\"\"找到连续的\"\"\"\n",
    "    x = np.asanyarray(x) # 首先转成数组\n",
    "    if x.ndim != 1:\n",
    "        # 这里只是支持1维的数组\n",
    "        raise ValueError('only 1D array supported')\n",
    "    n = x.shape[0] # 维度，这里可以理解成这个一维的长度\n",
    "    # \n",
    "    loc_run_start = np.empty(n, dtype=bool)\n",
    "    loc_run_start[0] = True \n",
    "    loc_run_start # 这个上边构造的是随机的，真正赋值的只有第一项\n",
    "    # 比较\n",
    "    np.not_equal(x[:-1], x[1:], out=loc_run_start[1:]) # 这个是将这游戏昂跟下一项比较，如果不同是True，结果放在loc_run_start\n",
    "    # 相同的是False，不同的是True，这里取得的是不同的位置\n",
    "    run_starts = np.nonzero(loc_run_start)[0]\n",
    "    # 这个是值\n",
    "    run_values = x[loc_run_start]\n",
    "    # 长度\n",
    "    run_lengths = np.diff(np.append(run_starts, n))\n",
    "    return run_starts, run_values, run_lengths\n",
    "    "
   ]
  },
  {
   "cell_type": "code",
   "execution_count": 26,
   "id": "1bdbc9cc-fb80-455a-9dc4-6b36673de4b3",
   "metadata": {},
   "outputs": [
    {
     "data": {
      "text/plain": [
       "(array([0, 1, 2, 5, 7], dtype=int64),\n",
       " array([ True, False,  True, False,  True]),\n",
       " array([1, 1, 3, 2, 5], dtype=int64))"
      ]
     },
     "execution_count": 26,
     "metadata": {},
     "output_type": "execute_result"
    }
   ],
   "source": [
    "find_runs(x) "
   ]
  },
  {
   "cell_type": "code",
   "execution_count": 27,
   "id": "ada7fd1d-3bce-4a47-bd3b-cb5845cc29c4",
   "metadata": {},
   "outputs": [
    {
     "data": {
      "text/plain": [
       "(array([  0,  90,  98, 111, 117, 127, 132, 190, 218, 223, 225, 233, 250,\n",
       "        287, 299, 304, 306, 310, 317, 322, 330, 345, 347, 354, 367, 372,\n",
       "        374, 378, 380, 414, 415, 416, 426, 493, 503, 538, 545, 579, 597,\n",
       "        605, 616, 619, 624, 630, 643, 668, 690, 735, 746, 750, 760, 764,\n",
       "        767, 849, 851, 857, 859, 889, 891, 967, 971], dtype=int64),\n",
       " array([False,  True, False,  True, False,  True, False,  True, False,\n",
       "         True, False,  True, False,  True, False,  True, False,  True,\n",
       "        False,  True, False,  True, False,  True, False,  True, False,\n",
       "         True, False,  True, False,  True, False,  True, False,  True,\n",
       "        False,  True, False,  True, False,  True, False,  True, False,\n",
       "         True, False,  True, False,  True, False,  True, False,  True,\n",
       "        False,  True, False,  True, False,  True, False]),\n",
       " array([90,  8, 13,  6, 10,  5, 58, 28,  5,  2,  8, 17, 37, 12,  5,  2,  4,\n",
       "         7,  5,  8, 15,  2,  7, 13,  5,  2,  4,  2, 34,  1,  1, 10, 67, 10,\n",
       "        35,  7, 34, 18,  8, 11,  3,  5,  6, 13, 25, 22, 45, 11,  4, 10,  4,\n",
       "         3, 82,  2,  6,  2, 30,  2, 76,  4, 29], dtype=int64))"
      ]
     },
     "execution_count": 27,
     "metadata": {},
     "output_type": "execute_result"
    }
   ],
   "source": [
    "find_runs(data_one['均线多头']) # 这个是最快速的方法，"
   ]
  },
  {
   "cell_type": "markdown",
   "id": "190c35ac-002b-41b2-89a7-2e4ecd3a3ead",
   "metadata": {},
   "source": [
    "## 算法的实质\n",
    "np.not_equal 比较的是前后不相同的数据，也就是两组不同数据之间的分割线。"
   ]
  },
  {
   "cell_type": "code",
   "execution_count": null,
   "id": "fede91e6-b19b-4248-ae3b-780efa64c3e9",
   "metadata": {},
   "outputs": [],
   "source": []
  }
 ],
 "metadata": {
  "kernelspec": {
   "display_name": "Python [conda env:root]",
   "language": "python",
   "name": "conda-root-py"
  },
  "language_info": {
   "codemirror_mode": {
    "name": "ipython",
    "version": 3
   },
   "file_extension": ".py",
   "mimetype": "text/x-python",
   "name": "python",
   "nbconvert_exporter": "python",
   "pygments_lexer": "ipython3",
   "version": "3.8.12"
  }
 },
 "nbformat": 4,
 "nbformat_minor": 5
}
