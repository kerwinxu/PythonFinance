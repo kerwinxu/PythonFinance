{
 "cells": [
  {
   "cell_type": "code",
   "execution_count": 1,
   "id": "5080bfe3-1df5-47aa-a3c1-4eabf719eab8",
   "metadata": {},
   "outputs": [],
   "source": [
    "import pandas as pd\n",
    "import numpy as np\n",
    "import matplotlib\n",
    "from matplotlib import pyplot as plt \n",
    "import os\n",
    "# from tqdm.notebook import  tqdm\n",
    "from tqdm import  tqdm\n",
    "import talib\n",
    "import sys\n",
    "sys.path.append('../../DataSource/baostock')\n",
    "import datasource"
   ]
  },
  {
   "cell_type": "code",
   "execution_count": 2,
   "id": "e737e518-63ef-450a-89f2-fe4eaacd75a6",
   "metadata": {},
   "outputs": [],
   "source": [
    "# 取得所有的额股票代码\n",
    "codes = datasource.get_codes()"
   ]
  },
  {
   "cell_type": "code",
   "execution_count": 3,
   "id": "1b7b0b98-1dc9-4f39-93fc-053d5a5e73a8",
   "metadata": {},
   "outputs": [
    {
     "data": {
      "text/html": [
       "<div>\n",
       "<style scoped>\n",
       "    .dataframe tbody tr th:only-of-type {\n",
       "        vertical-align: middle;\n",
       "    }\n",
       "\n",
       "    .dataframe tbody tr th {\n",
       "        vertical-align: top;\n",
       "    }\n",
       "\n",
       "    .dataframe thead th {\n",
       "        text-align: right;\n",
       "    }\n",
       "</style>\n",
       "<table border=\"1\" class=\"dataframe\">\n",
       "  <thead>\n",
       "    <tr style=\"text-align: right;\">\n",
       "      <th></th>\n",
       "      <th>code</th>\n",
       "      <th>open</th>\n",
       "      <th>high</th>\n",
       "      <th>low</th>\n",
       "      <th>close</th>\n",
       "      <th>preclose</th>\n",
       "      <th>volume</th>\n",
       "      <th>amount</th>\n",
       "      <th>adjustflag</th>\n",
       "      <th>turn</th>\n",
       "      <th>tradestatus</th>\n",
       "      <th>pctChg</th>\n",
       "      <th>isST</th>\n",
       "      <th>isDown</th>\n",
       "      <th>isMaxUp</th>\n",
       "      <th>isDown2</th>\n",
       "      <th>isDown3</th>\n",
       "    </tr>\n",
       "    <tr>\n",
       "      <th>date</th>\n",
       "      <th></th>\n",
       "      <th></th>\n",
       "      <th></th>\n",
       "      <th></th>\n",
       "      <th></th>\n",
       "      <th></th>\n",
       "      <th></th>\n",
       "      <th></th>\n",
       "      <th></th>\n",
       "      <th></th>\n",
       "      <th></th>\n",
       "      <th></th>\n",
       "      <th></th>\n",
       "      <th></th>\n",
       "      <th></th>\n",
       "      <th></th>\n",
       "      <th></th>\n",
       "    </tr>\n",
       "  </thead>\n",
       "  <tbody>\n",
       "    <tr>\n",
       "      <th>2010-06-09</th>\n",
       "      <td>sh.600000</td>\n",
       "      <td>4.192703</td>\n",
       "      <td>4.444409</td>\n",
       "      <td>4.115992</td>\n",
       "      <td>4.434820</td>\n",
       "      <td>4.171128</td>\n",
       "      <td>93220918</td>\n",
       "      <td>1.677857e+09</td>\n",
       "      <td>2</td>\n",
       "      <td>1.176158</td>\n",
       "      <td>1</td>\n",
       "      <td>6.321841</td>\n",
       "      <td>0</td>\n",
       "      <td>NaN</td>\n",
       "      <td>True</td>\n",
       "      <td>1.0</td>\n",
       "      <td>3.0</td>\n",
       "    </tr>\n",
       "    <tr>\n",
       "      <th>2015-08-26</th>\n",
       "      <td>sh.600000</td>\n",
       "      <td>6.428958</td>\n",
       "      <td>6.784710</td>\n",
       "      <td>6.301903</td>\n",
       "      <td>6.616998</td>\n",
       "      <td>6.296821</td>\n",
       "      <td>235214588</td>\n",
       "      <td>3.028239e+09</td>\n",
       "      <td>2</td>\n",
       "      <td>1.576212</td>\n",
       "      <td>1</td>\n",
       "      <td>5.084700</td>\n",
       "      <td>0</td>\n",
       "      <td>NaN</td>\n",
       "      <td>True</td>\n",
       "      <td>1.0</td>\n",
       "      <td>3.0</td>\n",
       "    </tr>\n",
       "    <tr>\n",
       "      <th>2021-03-30</th>\n",
       "      <td>sh.600000</td>\n",
       "      <td>8.865145</td>\n",
       "      <td>9.164812</td>\n",
       "      <td>8.840173</td>\n",
       "      <td>9.164812</td>\n",
       "      <td>8.723636</td>\n",
       "      <td>173447215</td>\n",
       "      <td>1.882441e+09</td>\n",
       "      <td>2</td>\n",
       "      <td>0.590900</td>\n",
       "      <td>1</td>\n",
       "      <td>5.057300</td>\n",
       "      <td>0</td>\n",
       "      <td>NaN</td>\n",
       "      <td>True</td>\n",
       "      <td>1.0</td>\n",
       "      <td>3.0</td>\n",
       "    </tr>\n",
       "  </tbody>\n",
       "</table>\n",
       "</div>"
      ],
      "text/plain": [
       "                 code      open      high       low     close  preclose  \\\n",
       "date                                                                      \n",
       "2010-06-09  sh.600000  4.192703  4.444409  4.115992  4.434820  4.171128   \n",
       "2015-08-26  sh.600000  6.428958  6.784710  6.301903  6.616998  6.296821   \n",
       "2021-03-30  sh.600000  8.865145  9.164812  8.840173  9.164812  8.723636   \n",
       "\n",
       "               volume        amount  adjustflag      turn  tradestatus  \\\n",
       "date                                                                     \n",
       "2010-06-09   93220918  1.677857e+09           2  1.176158            1   \n",
       "2015-08-26  235214588  3.028239e+09           2  1.576212            1   \n",
       "2021-03-30  173447215  1.882441e+09           2  0.590900            1   \n",
       "\n",
       "              pctChg  isST  isDown  isMaxUp  isDown2  isDown3  \n",
       "date                                                           \n",
       "2010-06-09  6.321841     0     NaN     True      1.0      3.0  \n",
       "2015-08-26  5.084700     0     NaN     True      1.0      3.0  \n",
       "2021-03-30  5.057300     0     NaN     True      1.0      3.0  "
      ]
     },
     "execution_count": 3,
     "metadata": {},
     "output_type": "execute_result"
    }
   ],
   "source": [
    "# 连续下跌后的涨停\n",
    "code = codes[0]\n",
    "dt = datasource.get_data(code)\n",
    "dt['isDown'] = dt['close'] < dt['preclose']         # 是否是下跌\n",
    "dt['isDown'] = dt['isDown'].apply(lambda x: 1 if x == True else None)\n",
    "dt['isMaxUp'] = dt['close'] > dt['preclose'] * 1.05 # 是否是涨停\n",
    "dt['isDown2'] = dt['isDown'].shift()                # 向后移动一天\n",
    "# 我这里要筛选如果连续几天下跌\n",
    "N = 3\n",
    "dt['isDown3'] = dt['isDown2'].rolling(N).count()\n",
    "# 我要寻找的是连续几天为这个值的然后涨停的\n",
    "dt2 = dt[(dt['isDown3'] == N) & (dt['isMaxUp'] == True)]\n",
    "dt2.head()"
   ]
  },
  {
   "cell_type": "code",
   "execution_count": 8,
   "id": "38aad66f-0cc9-4042-8cdb-97f0d35c93f9",
   "metadata": {},
   "outputs": [],
   "source": [
    "def downs_then_up(code:str, days:int, up_radio:float):\n",
    "    # 经过多天下跌后涨停\n",
    "    dt = datasource.get_data(code)\n",
    "    dt['isDown'] = dt['close'] < dt['preclose']         # 是否是下跌\n",
    "    dt['isDown'] = dt['isDown'].apply(lambda x: 1 if x == True else None)\n",
    "    dt['isMaxUp'] = dt['close'] > dt['preclose'] * up_radio # 是否是涨停\n",
    "    dt['isDown2'] = dt['isDown'].shift()                # 向后移动一天\n",
    "    dt['closenext3'] = dt['close'].shift(-3)/dt['close']\n",
    "    dt['closenext5'] = dt['close'].shift(-5)/dt['close']\n",
    "    dt['closenext7'] = dt['close'].shift(-7)/dt['close']\n",
    "    # 我这里要筛选如果连续几天下跌\n",
    "    N = 2\n",
    "    dt['isDown3'] = dt['isDown2'].rolling(days).count()\n",
    "    # 我要寻找的是连续几天为这个值的然后涨停的\n",
    "    dt2 = dt[(dt['isDown3'] == days) & (dt['isMaxUp'] == True)]\n",
    "    # 这里需要看看需要哪一列\n",
    "    return dt2.loc[:,['close', 'preclose', 'closenext3','closenext5', 'closenext7']]\n",
    "    \n",
    "        "
   ]
  },
  {
   "cell_type": "code",
   "execution_count": 18,
   "id": "fbb2c50c-07c2-43e1-9544-b32bacfb8b5b",
   "metadata": {},
   "outputs": [
    {
     "name": "stderr",
     "output_type": "stream",
     "text": [
      "100%|██████████████████████████████████████████████████████████████████████████████| 5450/5450 [01:48<00:00, 50.31it/s]\n"
     ]
    }
   ],
   "source": [
    "lst_dt = []\n",
    "days = 5\n",
    "radio = 1.09\n",
    "for i in tqdm(range(len(codes))):\n",
    "    code = codes[i]\n",
    "    dt_tmp = downs_then_up(code, days, radio)\n",
    "    # 这里要筛选不是空值的。\n",
    "    if not dt_tmp.empty:\n",
    "        lst_dt.append(dt_tmp)"
   ]
  },
  {
   "cell_type": "code",
   "execution_count": null,
   "id": "de41471a-b81a-43a8-bf82-a526a50bbb0d",
   "metadata": {},
   "outputs": [],
   "source": []
  },
  {
   "cell_type": "code",
   "execution_count": 19,
   "id": "3a9a9f8d-08c1-47c7-8ab0-2af3c08cbd16",
   "metadata": {},
   "outputs": [
    {
     "data": {
      "text/html": [
       "<div>\n",
       "<style scoped>\n",
       "    .dataframe tbody tr th:only-of-type {\n",
       "        vertical-align: middle;\n",
       "    }\n",
       "\n",
       "    .dataframe tbody tr th {\n",
       "        vertical-align: top;\n",
       "    }\n",
       "\n",
       "    .dataframe thead th {\n",
       "        text-align: right;\n",
       "    }\n",
       "</style>\n",
       "<table border=\"1\" class=\"dataframe\">\n",
       "  <thead>\n",
       "    <tr style=\"text-align: right;\">\n",
       "      <th></th>\n",
       "      <th>close</th>\n",
       "      <th>preclose</th>\n",
       "      <th>closenext3</th>\n",
       "      <th>closenext5</th>\n",
       "      <th>closenext7</th>\n",
       "    </tr>\n",
       "    <tr>\n",
       "      <th>date</th>\n",
       "      <th></th>\n",
       "      <th></th>\n",
       "      <th></th>\n",
       "      <th></th>\n",
       "      <th></th>\n",
       "    </tr>\n",
       "  </thead>\n",
       "  <tbody>\n",
       "    <tr>\n",
       "      <th>2021-11-08</th>\n",
       "      <td>12.120220</td>\n",
       "      <td>11.097793</td>\n",
       "      <td>1.004914</td>\n",
       "      <td>1.024570</td>\n",
       "      <td>1.015561</td>\n",
       "    </tr>\n",
       "    <tr>\n",
       "      <th>2015-07-09</th>\n",
       "      <td>4.630000</td>\n",
       "      <td>4.210000</td>\n",
       "      <td>1.105832</td>\n",
       "      <td>1.006479</td>\n",
       "      <td>1.071274</td>\n",
       "    </tr>\n",
       "    <tr>\n",
       "      <th>2015-07-09</th>\n",
       "      <td>7.101064</td>\n",
       "      <td>6.456350</td>\n",
       "      <td>1.182879</td>\n",
       "      <td>1.089494</td>\n",
       "      <td>1.225681</td>\n",
       "    </tr>\n",
       "    <tr>\n",
       "      <th>2015-07-09</th>\n",
       "      <td>3.020325</td>\n",
       "      <td>2.745430</td>\n",
       "      <td>1.331389</td>\n",
       "      <td>1.232205</td>\n",
       "      <td>1.334889</td>\n",
       "    </tr>\n",
       "    <tr>\n",
       "      <th>2018-10-30</th>\n",
       "      <td>46.646682</td>\n",
       "      <td>42.684641</td>\n",
       "      <td>1.133891</td>\n",
       "      <td>1.091004</td>\n",
       "      <td>1.051464</td>\n",
       "    </tr>\n",
       "  </tbody>\n",
       "</table>\n",
       "</div>"
      ],
      "text/plain": [
       "                close   preclose  closenext3  closenext5  closenext7\n",
       "date                                                                \n",
       "2021-11-08  12.120220  11.097793    1.004914    1.024570    1.015561\n",
       "2015-07-09   4.630000   4.210000    1.105832    1.006479    1.071274\n",
       "2015-07-09   7.101064   6.456350    1.182879    1.089494    1.225681\n",
       "2015-07-09   3.020325   2.745430    1.331389    1.232205    1.334889\n",
       "2018-10-30  46.646682  42.684641    1.133891    1.091004    1.051464"
      ]
     },
     "execution_count": 19,
     "metadata": {},
     "output_type": "execute_result"
    }
   ],
   "source": [
    "dt_all = pd.concat(lst_dt)\n",
    "dt_all.head()"
   ]
  },
  {
   "cell_type": "code",
   "execution_count": 29,
   "id": "888dfb66-b5da-458e-bb80-8bb47c3051a2",
   "metadata": {},
   "outputs": [
    {
     "name": "stdout",
     "output_type": "stream",
     "text": [
      "4561\n"
     ]
    }
   ],
   "source": [
    "dt_all.to_csv(f'连续{days}天下跌后上涨{radio}.csv')\n",
    "print(len(dt_all))"
   ]
  },
  {
   "cell_type": "code",
   "execution_count": 26,
   "id": "ff0e4194-1997-46a7-986f-6065b183df99",
   "metadata": {},
   "outputs": [],
   "source": [
    "columns = ['closenext3', 'closenext5', 'closenext7']"
   ]
  },
  {
   "cell_type": "code",
   "execution_count": 27,
   "id": "a70f4cd2-01af-4b0d-bdb8-45269203ec2c",
   "metadata": {},
   "outputs": [
    {
     "name": "stdout",
     "output_type": "stream",
     "text": [
      "closenext3:1.0699629801283748\n",
      "closenext5:1.0699629801283748\n",
      "closenext7:1.0699629801283748\n"
     ]
    }
   ],
   "source": [
    "for i in columns:\n",
    "    print(f'{i}:{dt_all['closenext3'].sum()/len(dt_all)}')\n",
    "     "
   ]
  },
  {
   "cell_type": "code",
   "execution_count": 24,
   "id": "bce55f30-52ba-4a41-bb23-32adb9fc54f6",
   "metadata": {},
   "outputs": [
    {
     "name": "stdout",
     "output_type": "stream",
     "text": [
      "closenext3:1.0544522965297614\n",
      "closenext5:1.0554019848522942\n",
      "closenext7:1.0870413955577065\n"
     ]
    }
   ],
   "source": [
    "for i in columns:\n",
    "    print(f'{i}:{dt_all[i].median()}')"
   ]
  },
  {
   "cell_type": "code",
   "execution_count": 30,
   "id": "041eff91-8f70-4409-8d2e-7b0aedf53455",
   "metadata": {},
   "outputs": [
    {
     "name": "stdout",
     "output_type": "stream",
     "text": [
      "closenext3:1.0544522965297614, 0.7285546415981199, 1.6724137931034484\n",
      "closenext5:1.0554019848522942, 0.6123260437375745, 1.8235930735930737\n",
      "closenext7:1.0870413955577065, 0.5063291139240507, 2.152173913043478\n"
     ]
    }
   ],
   "source": [
    "for i in columns:\n",
    "    print(f'{i}:{dt_all[i].median()}, {dt_all[i].min()}, {dt_all[i].max()}')"
   ]
  },
  {
   "cell_type": "code",
   "execution_count": null,
   "id": "7f49c723-5ef4-40b8-9cc5-6b32db9c6715",
   "metadata": {},
   "outputs": [],
   "source": []
  }
 ],
 "metadata": {
  "kernelspec": {
   "display_name": "Python 3 (ipykernel)",
   "language": "python",
   "name": "python3"
  },
  "language_info": {
   "codemirror_mode": {
    "name": "ipython",
    "version": 3
   },
   "file_extension": ".py",
   "mimetype": "text/x-python",
   "name": "python",
   "nbconvert_exporter": "python",
   "pygments_lexer": "ipython3",
   "version": "3.13.3"
  }
 },
 "nbformat": 4,
 "nbformat_minor": 5
}
