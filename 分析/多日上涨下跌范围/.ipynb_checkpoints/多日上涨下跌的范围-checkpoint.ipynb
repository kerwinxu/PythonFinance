{
 "cells": [
  {
   "cell_type": "code",
   "execution_count": 41,
   "id": "1f5bc7b8-6e3c-4c87-a841-c2579954ee93",
   "metadata": {},
   "outputs": [],
   "source": [
    "import pandas as pd\n",
    "import numpy as np\n",
    "import matplotlib\n",
    "matplotlib.use('agg')\n",
    "import matplotlib.pyplot as plt\n",
    "%matplotlib inline\n",
    "import os\n",
    "from tqdm import tqdm"
   ]
  },
  {
   "cell_type": "code",
   "execution_count": 26,
   "id": "0d127217-4894-441c-8cba-cae28cd9b5f4",
   "metadata": {},
   "outputs": [],
   "source": [
    "# 这里导入数据\n",
    "df = pd.read_csv(\"../../数据获取/聚宽数据/最新数据.csv\")"
   ]
  },
  {
   "cell_type": "code",
   "execution_count": 27,
   "id": "7bbac37b-6a7c-4134-a2f4-6b963c826300",
   "metadata": {},
   "outputs": [
    {
     "data": {
      "text/html": [
       "<div>\n",
       "<style scoped>\n",
       "    .dataframe tbody tr th:only-of-type {\n",
       "        vertical-align: middle;\n",
       "    }\n",
       "\n",
       "    .dataframe tbody tr th {\n",
       "        vertical-align: top;\n",
       "    }\n",
       "\n",
       "    .dataframe thead th {\n",
       "        text-align: right;\n",
       "    }\n",
       "</style>\n",
       "<table border=\"1\" class=\"dataframe\">\n",
       "  <thead>\n",
       "    <tr style=\"text-align: right;\">\n",
       "      <th></th>\n",
       "      <th>Unnamed: 0</th>\n",
       "      <th>Unnamed: 1</th>\n",
       "      <th>date</th>\n",
       "      <th>open</th>\n",
       "      <th>high</th>\n",
       "      <th>low</th>\n",
       "      <th>close</th>\n",
       "      <th>volume</th>\n",
       "    </tr>\n",
       "  </thead>\n",
       "  <tbody>\n",
       "    <tr>\n",
       "      <th>0</th>\n",
       "      <td>000001.XSHE</td>\n",
       "      <td>0</td>\n",
       "      <td>2018-12-24</td>\n",
       "      <td>8.91</td>\n",
       "      <td>8.96</td>\n",
       "      <td>8.83</td>\n",
       "      <td>8.93</td>\n",
       "      <td>53694517.0</td>\n",
       "    </tr>\n",
       "    <tr>\n",
       "      <th>1</th>\n",
       "      <td>000001.XSHE</td>\n",
       "      <td>1</td>\n",
       "      <td>2018-12-25</td>\n",
       "      <td>8.81</td>\n",
       "      <td>8.94</td>\n",
       "      <td>8.73</td>\n",
       "      <td>8.86</td>\n",
       "      <td>61867885.0</td>\n",
       "    </tr>\n",
       "    <tr>\n",
       "      <th>2</th>\n",
       "      <td>000001.XSHE</td>\n",
       "      <td>2</td>\n",
       "      <td>2018-12-26</td>\n",
       "      <td>8.87</td>\n",
       "      <td>8.93</td>\n",
       "      <td>8.79</td>\n",
       "      <td>8.82</td>\n",
       "      <td>44415942.0</td>\n",
       "    </tr>\n",
       "    <tr>\n",
       "      <th>3</th>\n",
       "      <td>000001.XSHE</td>\n",
       "      <td>3</td>\n",
       "      <td>2018-12-27</td>\n",
       "      <td>8.96</td>\n",
       "      <td>9.00</td>\n",
       "      <td>8.80</td>\n",
       "      <td>8.80</td>\n",
       "      <td>65873247.0</td>\n",
       "    </tr>\n",
       "    <tr>\n",
       "      <th>4</th>\n",
       "      <td>000001.XSHE</td>\n",
       "      <td>4</td>\n",
       "      <td>2018-12-28</td>\n",
       "      <td>8.83</td>\n",
       "      <td>8.97</td>\n",
       "      <td>8.83</td>\n",
       "      <td>8.89</td>\n",
       "      <td>60812019.0</td>\n",
       "    </tr>\n",
       "  </tbody>\n",
       "</table>\n",
       "</div>"
      ],
      "text/plain": [
       "    Unnamed: 0  Unnamed: 1        date  open  high   low  close      volume\n",
       "0  000001.XSHE           0  2018-12-24  8.91  8.96  8.83   8.93  53694517.0\n",
       "1  000001.XSHE           1  2018-12-25  8.81  8.94  8.73   8.86  61867885.0\n",
       "2  000001.XSHE           2  2018-12-26  8.87  8.93  8.79   8.82  44415942.0\n",
       "3  000001.XSHE           3  2018-12-27  8.96  9.00  8.80   8.80  65873247.0\n",
       "4  000001.XSHE           4  2018-12-28  8.83  8.97  8.83   8.89  60812019.0"
      ]
     },
     "execution_count": 27,
     "metadata": {},
     "output_type": "execute_result"
    }
   ],
   "source": [
    "df.head()"
   ]
  },
  {
   "cell_type": "code",
   "execution_count": 28,
   "id": "5d1cf509-4ed8-4f62-9f25-dd069c057d14",
   "metadata": {},
   "outputs": [],
   "source": [
    "df.columns = ['id','i', 'Date','Open','High','Low','Close','Volume']"
   ]
  },
  {
   "cell_type": "markdown",
   "id": "f1d666d8-d380-4c0c-8d5d-edd148d0de7a",
   "metadata": {},
   "source": [
    "# N日内上涨"
   ]
  },
  {
   "cell_type": "code",
   "execution_count": 7,
   "id": "7e82230d-7e07-48d9-a876-526e6457aa90",
   "metadata": {},
   "outputs": [],
   "source": [
    "num_days = 5 # 看几天的\n",
    "ranges = []\n",
    "for id in set(df['id']):\n",
    "    # 对每一只股票进行遍历\n",
    "    df2 = df[df['id']==id].copy()\n",
    "    # 然后\n",
    "    df2['Close2'] = df2['Close'].shift(num_days)\n",
    "    df2['range'] = (df2['Close']-df2['Close2'])/df2['Close2'] * 100\n",
    "    ranges.extend([int(i) for i in df2['range'] if not np.isnan(i)])"
   ]
  },
  {
   "cell_type": "code",
   "execution_count": 8,
   "id": "ae75eaa5-a7d2-4e04-a524-da2e6bb23a2c",
   "metadata": {},
   "outputs": [
    {
     "data": {
      "text/plain": [
       "3445695"
      ]
     },
     "execution_count": 8,
     "metadata": {},
     "output_type": "execute_result"
    }
   ],
   "source": [
    "len(ranges)"
   ]
  },
  {
   "cell_type": "code",
   "execution_count": 9,
   "id": "895ce2e4-4331-4c6b-a563-25ba8fcb4e0a",
   "metadata": {},
   "outputs": [
    {
     "data": {
      "text/plain": [
       "185"
      ]
     },
     "execution_count": 9,
     "metadata": {},
     "output_type": "execute_result"
    }
   ],
   "source": [
    "len(set(ranges))"
   ]
  },
  {
   "cell_type": "code",
   "execution_count": 10,
   "id": "ee8a1ff3-0be2-4dd3-83be-8e20b7a9f641",
   "metadata": {},
   "outputs": [
    {
     "data": {
      "text/plain": [
       "[-10, -9, -8, -7, -6, -5, -4, -3, -1, -2]"
      ]
     },
     "execution_count": 10,
     "metadata": {},
     "output_type": "execute_result"
    }
   ],
   "source": [
    "list(set(ranges))[-10:]"
   ]
  },
  {
   "cell_type": "code",
   "execution_count": 11,
   "id": "c0bc0a40-9105-4820-8bd3-896c9a9ed443",
   "metadata": {},
   "outputs": [
    {
     "data": {
      "text/plain": [
       " 0    569635\n",
       "-1    265395\n",
       " 1    255552\n",
       "-2    233476\n",
       " 2    220148\n",
       "-3    197866\n",
       " 3    182356\n",
       "-4    162254\n",
       " 4    145469\n",
       "-5    130092\n",
       "dtype: int64"
      ]
     },
     "execution_count": 11,
     "metadata": {},
     "output_type": "execute_result"
    }
   ],
   "source": [
    "# 我这里计算每个幅度的数量\n",
    "df3 = pd.value_counts(ranges)\n",
    "df3.head(10)"
   ]
  },
  {
   "cell_type": "code",
   "execution_count": null,
   "id": "9b85e6bb-2695-46d6-9e0e-fb619e1d5b79",
   "metadata": {},
   "outputs": [],
   "source": []
  },
  {
   "cell_type": "code",
   "execution_count": 12,
   "id": "640d35d4-b409-4889-a312-9db99685a551",
   "metadata": {},
   "outputs": [],
   "source": [
    "df3 = df3.sort_index()"
   ]
  },
  {
   "cell_type": "code",
   "execution_count": 13,
   "id": "9c55c7d1-f27b-4c80-b9b8-8eeeb361499f",
   "metadata": {},
   "outputs": [
    {
     "data": {
      "text/plain": [
       "-57    1\n",
       "-53    1\n",
       "-52    3\n",
       "-50    3\n",
       "-49    3\n",
       "-48    1\n",
       "-47    2\n",
       "-46    4\n",
       "-45    2\n",
       "-44    2\n",
       "dtype: int64"
      ]
     },
     "execution_count": 13,
     "metadata": {},
     "output_type": "execute_result"
    }
   ],
   "source": [
    "df3.head(10)"
   ]
  },
  {
   "cell_type": "code",
   "execution_count": 14,
   "id": "e0222d6f-d6ee-4e1a-a415-9caa0056c47c",
   "metadata": {},
   "outputs": [
    {
     "data": {
      "text/plain": [
       "[<matplotlib.lines.Line2D at 0x170c6e4c9d0>]"
      ]
     },
     "execution_count": 14,
     "metadata": {},
     "output_type": "execute_result"
    },
    {
     "data": {
      "image/png": "[encoded data removed]",
      "text/plain": [
       "<Figure size 640x480 with 1 Axes>"
      ]
     },
     "metadata": {},
     "output_type": "display_data"
    }
   ],
   "source": [
    "plt.plot(df3.index, df3.values)"
   ]
  },
  {
   "cell_type": "code",
   "execution_count": 15,
   "id": "519efce2-738c-4704-bd52-1cdd2b4bf47f",
   "metadata": {},
   "outputs": [
    {
     "data": {
      "text/plain": [
       "51     222\n",
       "52     204\n",
       "53     171\n",
       "54     127\n",
       "55     124\n",
       "      ... \n",
       "344      1\n",
       "379      1\n",
       "419      1\n",
       "454      1\n",
       "542      1\n",
       "Length: 81, dtype: int64"
      ]
     },
     "execution_count": 15,
     "metadata": {},
     "output_type": "execute_result"
    }
   ],
   "source": [
    "df3[df3.index>50]"
   ]
  },
  {
   "cell_type": "code",
   "execution_count": 16,
   "id": "aceb789e-a1c6-4012-9183-72b18cb423f7",
   "metadata": {},
   "outputs": [
    {
     "data": {
      "text/plain": [
       "3792"
      ]
     },
     "execution_count": 16,
     "metadata": {},
     "output_type": "execute_result"
    }
   ],
   "source": [
    "sum(df3[df3.index>50])"
   ]
  },
  {
   "cell_type": "code",
   "execution_count": 17,
   "id": "d7b4e9e5-2cc2-4f78-8735-e2510c4f2414",
   "metadata": {},
   "outputs": [
    {
     "data": {
      "text/plain": [
       "0.0011005036719732885"
      ]
     },
     "execution_count": 17,
     "metadata": {},
     "output_type": "execute_result"
    }
   ],
   "source": [
    "sum(df3[df3.index>50])/len(ranges)"
   ]
  },
  {
   "cell_type": "code",
   "execution_count": 18,
   "id": "ffe097b3-9502-4606-9326-d081be59c4a7",
   "metadata": {},
   "outputs": [],
   "source": [
    "# 我这里要看看k线图\n",
    "dest_dir = \"N日上涨50%的k线图\"\n",
    "if not os.path.exists(dest_dir):\n",
    "    os.mkdir(dest_dir)\n",
    "import  mplfinance as mpf"
   ]
  },
  {
   "cell_type": "code",
   "execution_count": null,
   "id": "5f0b17af-b062-481f-9772-d346c7d923f2",
   "metadata": {},
   "outputs": [],
   "source": [
    "i = 1\n",
    "rise_threshold = 50\n",
    "import os\n",
    "before = 30 # 前多少天的数据\n",
    "for id in set(df['id']):\n",
    "    # 对每一只股票进行遍历\n",
    "    df2 = df[df['id']==id].copy()\n",
    "    \n",
    "    # 然后重新设置\n",
    "    df2['Date']=pd.to_datetime(df2['Date'])\n",
    "    df2 = df2.set_index('Date')\n",
    "    # 这里首先计算5日涨幅\n",
    "    df2['Close2'] = df2['Close'].shift(num_days)\n",
    "    # 然后计算涨幅\n",
    "    df2['rise']  =  (df2['Close']-df2['Close2'])/df2['Close2'] * 100\n",
    "    df2['threshold'] = 0\n",
    "    threshold_index = list(df2.columns).index('threshold')\n",
    "    df2.loc[df2['rise'] > rise_threshold, 'threshold'] = 1\n",
    "    # 然后移动\n",
    "    df2['threshold2'] = df2['threshold'].shift(0-before)\n",
    "    threshold2_index = list(df2.columns).index('threshold2')\n",
    "    threshold2_index = list(df2.columns).index('threshold2')\n",
    "    # 这里就开始画图了\n",
    "    # print(list([k for k in df2['rise'] if k > rise_threshold]))\n",
    "    # print(df2[df2['threshold2'] == 1])\n",
    "    # print(list(df2['threshold']))\n",
    "    # print(df2.loc[df2['rise'] > rise_threshold])\n",
    "    for j in range(len(df2)):\n",
    "        # 这里要判断\n",
    "        if df2.iloc[j, threshold2_index] == 1.0:\n",
    "            # 这里表示要截取\n",
    "            df3 = df2.iloc[j:j+before,:]\n",
    "            # 然后以这个绘图\n",
    "            mydpi = 300\n",
    "            fig1, _ = mpf.plot(df3,\n",
    "                           type='candle',\n",
    "                           style='yahoo',\n",
    "                           figsize =(3240/mydpi,2520/mydpi), \n",
    "                           volume=True,\n",
    "                           axisoff=True,\n",
    "                           returnfig=True, \n",
    "                           scale_padding=0.2)\n",
    "            # 这里生成文件名\n",
    "            dest_path = os.path.join(dest_dir, \"{}-{}-{}.jpg\".format(i, id,df2.index[j].strftime(\"%Y-%m-%d\")))\n",
    "            i += 1\n",
    "            fig1.savefig(dest_path,dpi=mydpi)\n",
    "            plt.clf()\n",
    "            plt.close()\n",
    "            # print(dest_path)\n",
    "    \n",
    "    "
   ]
  },
  {
   "cell_type": "markdown",
   "id": "df3c4b4c-1160-4501-955d-812405d11dc3",
   "metadata": {},
   "source": [
    "# 这里看看如果成交量增加，是否存在一个变化，就是涨幅会很高"
   ]
  },
  {
   "cell_type": "code",
   "execution_count": 69,
   "id": "d575f110-6176-4423-9c77-2bb2017c3ee0",
   "metadata": {},
   "outputs": [
    {
     "name": "stderr",
     "output_type": "stream",
     "text": [
      "100%|██████████████████████████████████████████████████████████████████████████████| 4275/4275 [28:22<00:00,  2.51it/s]\n"
     ]
    }
   ],
   "source": [
    "Volume2_rise_threshold = 3 # 倍数\n",
    "\n",
    "after_days = 5 # 持有最多这个天数。\n",
    "rises = [[] for i in range(after_days)] # 持有几天的幅度\n",
    "import talib\n",
    "with tqdm(total=len(set(df['id']))) as pbar:\n",
    "    for id in set(df['id']):\n",
    "        # 对每一只股票进行遍历\n",
    "        df2 = df[df['id']==id].copy()\n",
    "        # 然后重新设置索引。\n",
    "        df2['Date']=pd.to_datetime(df2['Date'])\n",
    "        df2 = df2.set_index('Date')\n",
    "        # 这里计算成交量的变化\n",
    "        df2['Volume2'] = df2['Volume'].shift(1)\n",
    "        df2['Volume_rise'] = (df2['Volume']-df2['Volume2'])/df2['Volume2']\n",
    "        # 这里是判断蜡烛较多\n",
    "        df2['CDLLONGLINE']=talib.CDLLONGLINE(df2['Open'], df2['High'], df2['Low'], df2['Close'])\n",
    "        for i in range(1, after_days+1, 1):\n",
    "            close_i = 'Close{}'.format(i)\n",
    "            df2[close_i] = df2['Close'].shift(0-i)\n",
    "            df2['Close{}_rise'.format(i)] = (df2[close_i]-df2['Close'])/df2['Close']\n",
    "            # 我这里指示需要大于阈值的,且收盘价大于开盘价\n",
    "            df3 = df2[(df2['Volume_rise'] >= Volume2_rise_threshold) & (df2['Close'] > df2['Open']) & (df2['CDLLONGLINE']> 0)]\n",
    "            rises[i-1].extend(list(df3['Close{}_rise'.format(i)]))\n",
    "        pbar.update(1)\n",
    "    "
   ]
  },
  {
   "cell_type": "code",
   "execution_count": 70,
   "id": "8f3151de-8ddb-465f-b48e-1644ab845046",
   "metadata": {},
   "outputs": [],
   "source": [
    "# 我这里要删除一下空值\n",
    "rises2 = [[j for j in i if not np.isnan(j)] for i in rises]"
   ]
  },
  {
   "cell_type": "code",
   "execution_count": 71,
   "id": "97588428-4e73-49ac-9bba-f228c27903c6",
   "metadata": {},
   "outputs": [
    {
     "data": {
      "text/plain": [
       "[0.00979974335547907,\n",
       " 0.009468646536450765,\n",
       " 0.010202507018556834,\n",
       " 0.012287261612673453,\n",
       " 0.00984562250315337]"
      ]
     },
     "execution_count": 71,
     "metadata": {},
     "output_type": "execute_result"
    }
   ],
   "source": [
    "count2 = [sum(i)/len(i) for i in rises2 if len(i) > 0]\n",
    "count2"
   ]
  },
  {
   "cell_type": "raw",
   "id": "f95ef39a-b38b-4b62-b2f2-a24942ba29bb",
   "metadata": {},
   "source": [
    "df_tmp = df.loc[:1000,:].copy()\n",
    "df_tmp['CDLLONGLINE']=talib.CDLLONGLINE(df_tmp['Open'], df_tmp['High'], df_tmp['Low'], df_tmp['Close'])\n",
    "list(df_tmp['CDLLONGLINE'])"
   ]
  },
  {
   "cell_type": "code",
   "execution_count": 72,
   "id": "b264b422-432a-4dce-a169-af7d0a605f11",
   "metadata": {},
   "outputs": [
    {
     "data": {
      "text/plain": [
       "[51.117519826964674,\n",
       " 48.78459687123947,\n",
       " 48.24181117533718,\n",
       " 47.397590361445786,\n",
       " 46.72131147540984]"
      ]
     },
     "execution_count": 72,
     "metadata": {},
     "output_type": "execute_result"
    }
   ],
   "source": [
    "# 我这里看看提供上涨的比例吧\n",
    "[len([j for j in i if j > 0])/len(i)*100 for i in rises2 if len(i) > 0]"
   ]
  },
  {
   "cell_type": "code",
   "execution_count": null,
   "id": "e7400125-6e39-4b85-8164-a8688ce9b9e4",
   "metadata": {},
   "outputs": [],
   "source": []
  }
 ],
 "metadata": {
  "kernelspec": {
   "display_name": "Python 3 (ipykernel)",
   "language": "python",
   "name": "python3"
  },
  "language_info": {
   "codemirror_mode": {
    "name": "ipython",
    "version": 3
   },
   "file_extension": ".py",
   "mimetype": "text/x-python",
   "name": "python",
   "nbconvert_exporter": "python",
   "pygments_lexer": "ipython3",
   "version": "3.9.12"
  }
 },
 "nbformat": 4,
 "nbformat_minor": 5
}
