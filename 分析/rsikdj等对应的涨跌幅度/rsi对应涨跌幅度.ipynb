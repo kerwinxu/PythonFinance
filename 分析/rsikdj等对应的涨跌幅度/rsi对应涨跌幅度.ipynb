{
 "cells": [
  {
   "cell_type": "code",
   "execution_count": 59,
   "id": "2ad5c2f5-e583-479b-9f64-5dbf9f6016f8",
   "metadata": {
    "execution": {
     "iopub.execute_input": "2025-04-27T02:52:56.460689Z",
     "iopub.status.busy": "2025-04-27T02:52:56.458687Z",
     "iopub.status.idle": "2025-04-27T02:52:58.059802Z",
     "shell.execute_reply": "2025-04-27T02:52:58.058787Z",
     "shell.execute_reply.started": "2025-04-27T02:52:56.459693Z"
    }
   },
   "outputs": [],
   "source": [
    "import sys\n",
    "import pandas as pd\n",
    "import numpy as np\n",
    "import torch\n",
    "import torch.nn as nn\n",
    "import torch.optim as optim\n",
    "import talib\n",
    "import torch.utils.data as Data\n",
    "import matplotlib.pyplot as plt"
   ]
  },
  {
   "cell_type": "code",
   "execution_count": 2,
   "id": "0a18d677-53c7-43e6-a540-fae3ca065aaf",
   "metadata": {
    "execution": {
     "iopub.execute_input": "2025-04-27T01:54:59.100349Z",
     "iopub.status.busy": "2025-04-27T01:54:59.099348Z",
     "iopub.status.idle": "2025-04-27T01:55:00.320096Z",
     "shell.execute_reply": "2025-04-27T01:55:00.319172Z",
     "shell.execute_reply.started": "2025-04-27T01:54:59.100349Z"
    }
   },
   "outputs": [],
   "source": [
    "sys.path.append('../../')\n",
    "import  DataSource\n",
    "import Utils\n",
    "zz500 = DataSource.get_zz500_codes() # 我看中证500的数据"
   ]
  },
  {
   "cell_type": "code",
   "execution_count": 3,
   "id": "13bbef4e-7ca3-472d-9ed8-776e71b5f877",
   "metadata": {
    "execution": {
     "iopub.execute_input": "2025-04-27T01:55:00.323090Z",
     "iopub.status.busy": "2025-04-27T01:55:00.322092Z",
     "iopub.status.idle": "2025-04-27T01:55:00.461088Z",
     "shell.execute_reply": "2025-04-27T01:55:00.460088Z",
     "shell.execute_reply.started": "2025-04-27T01:55:00.323090Z"
    }
   },
   "outputs": [
    {
     "data": {
      "text/html": [
       "<div>\n",
       "<style scoped>\n",
       "    .dataframe tbody tr th:only-of-type {\n",
       "        vertical-align: middle;\n",
       "    }\n",
       "\n",
       "    .dataframe tbody tr th {\n",
       "        vertical-align: top;\n",
       "    }\n",
       "\n",
       "    .dataframe thead th {\n",
       "        text-align: right;\n",
       "    }\n",
       "</style>\n",
       "<table border=\"1\" class=\"dataframe\">\n",
       "  <thead>\n",
       "    <tr style=\"text-align: right;\">\n",
       "      <th></th>\n",
       "      <th>code</th>\n",
       "      <th>open</th>\n",
       "      <th>high</th>\n",
       "      <th>low</th>\n",
       "      <th>close</th>\n",
       "      <th>preclose</th>\n",
       "      <th>volume</th>\n",
       "      <th>amount</th>\n",
       "      <th>adjustflag</th>\n",
       "      <th>turn</th>\n",
       "      <th>tradestatus</th>\n",
       "      <th>pctChg</th>\n",
       "      <th>isST</th>\n",
       "    </tr>\n",
       "    <tr>\n",
       "      <th>date</th>\n",
       "      <th></th>\n",
       "      <th></th>\n",
       "      <th></th>\n",
       "      <th></th>\n",
       "      <th></th>\n",
       "      <th></th>\n",
       "      <th></th>\n",
       "      <th></th>\n",
       "      <th></th>\n",
       "      <th></th>\n",
       "      <th></th>\n",
       "      <th></th>\n",
       "      <th></th>\n",
       "    </tr>\n",
       "  </thead>\n",
       "  <tbody>\n",
       "    <tr>\n",
       "      <th>2010-01-04</th>\n",
       "      <td>sh.600004</td>\n",
       "      <td>5.046509</td>\n",
       "      <td>5.111144</td>\n",
       "      <td>5.041537</td>\n",
       "      <td>5.046509</td>\n",
       "      <td>5.046509</td>\n",
       "      <td>15478854</td>\n",
       "      <td>157747809.0</td>\n",
       "      <td>2</td>\n",
       "      <td>1.525010</td>\n",
       "      <td>1</td>\n",
       "      <td>0.0000</td>\n",
       "      <td>0</td>\n",
       "    </tr>\n",
       "    <tr>\n",
       "      <th>2010-01-05</th>\n",
       "      <td>sh.600004</td>\n",
       "      <td>5.046509</td>\n",
       "      <td>5.091256</td>\n",
       "      <td>5.041537</td>\n",
       "      <td>5.066397</td>\n",
       "      <td>5.046509</td>\n",
       "      <td>11070922</td>\n",
       "      <td>112683563.0</td>\n",
       "      <td>2</td>\n",
       "      <td>1.090731</td>\n",
       "      <td>1</td>\n",
       "      <td>0.3941</td>\n",
       "      <td>0</td>\n",
       "    </tr>\n",
       "    <tr>\n",
       "      <th>2010-01-06</th>\n",
       "      <td>sh.600004</td>\n",
       "      <td>5.056453</td>\n",
       "      <td>5.066397</td>\n",
       "      <td>4.981874</td>\n",
       "      <td>4.991818</td>\n",
       "      <td>5.066397</td>\n",
       "      <td>9410665</td>\n",
       "      <td>95205863.0</td>\n",
       "      <td>2</td>\n",
       "      <td>0.927159</td>\n",
       "      <td>1</td>\n",
       "      <td>-1.4720</td>\n",
       "      <td>0</td>\n",
       "    </tr>\n",
       "    <tr>\n",
       "      <th>2010-01-07</th>\n",
       "      <td>sh.600004</td>\n",
       "      <td>4.971930</td>\n",
       "      <td>4.996790</td>\n",
       "      <td>4.827744</td>\n",
       "      <td>4.862548</td>\n",
       "      <td>4.991818</td>\n",
       "      <td>8961813</td>\n",
       "      <td>88611912.0</td>\n",
       "      <td>2</td>\n",
       "      <td>0.882937</td>\n",
       "      <td>1</td>\n",
       "      <td>-2.5896</td>\n",
       "      <td>0</td>\n",
       "    </tr>\n",
       "    <tr>\n",
       "      <th>2010-01-08</th>\n",
       "      <td>sh.600004</td>\n",
       "      <td>4.837688</td>\n",
       "      <td>5.096228</td>\n",
       "      <td>4.837688</td>\n",
       "      <td>5.061425</td>\n",
       "      <td>4.862548</td>\n",
       "      <td>14923812</td>\n",
       "      <td>149969456.0</td>\n",
       "      <td>2</td>\n",
       "      <td>1.470326</td>\n",
       "      <td>1</td>\n",
       "      <td>4.0900</td>\n",
       "      <td>0</td>\n",
       "    </tr>\n",
       "  </tbody>\n",
       "</table>\n",
       "</div>"
      ],
      "text/plain": [
       "                 code      open      high       low     close  preclose  \\\n",
       "date                                                                      \n",
       "2010-01-04  sh.600004  5.046509  5.111144  5.041537  5.046509  5.046509   \n",
       "2010-01-05  sh.600004  5.046509  5.091256  5.041537  5.066397  5.046509   \n",
       "2010-01-06  sh.600004  5.056453  5.066397  4.981874  4.991818  5.066397   \n",
       "2010-01-07  sh.600004  4.971930  4.996790  4.827744  4.862548  4.991818   \n",
       "2010-01-08  sh.600004  4.837688  5.096228  4.837688  5.061425  4.862548   \n",
       "\n",
       "              volume       amount  adjustflag      turn  tradestatus  pctChg  \\\n",
       "date                                                                           \n",
       "2010-01-04  15478854  157747809.0           2  1.525010            1  0.0000   \n",
       "2010-01-05  11070922  112683563.0           2  1.090731            1  0.3941   \n",
       "2010-01-06   9410665   95205863.0           2  0.927159            1 -1.4720   \n",
       "2010-01-07   8961813   88611912.0           2  0.882937            1 -2.5896   \n",
       "2010-01-08  14923812  149969456.0           2  1.470326            1  4.0900   \n",
       "\n",
       "            isST  \n",
       "date              \n",
       "2010-01-04     0  \n",
       "2010-01-05     0  \n",
       "2010-01-06     0  \n",
       "2010-01-07     0  \n",
       "2010-01-08     0  "
      ]
     },
     "execution_count": 3,
     "metadata": {},
     "output_type": "execute_result"
    }
   ],
   "source": [
    "dt = DataSource.get_data(zz500[0])\n",
    "dt.head()"
   ]
  },
  {
   "cell_type": "code",
   "execution_count": 7,
   "id": "41d487e6-bedd-420b-85e8-274455b886ef",
   "metadata": {
    "execution": {
     "iopub.execute_input": "2025-04-27T01:56:54.704953Z",
     "iopub.status.busy": "2025-04-27T01:56:54.703950Z",
     "iopub.status.idle": "2025-04-27T01:56:54.717185Z",
     "shell.execute_reply": "2025-04-27T01:56:54.715186Z",
     "shell.execute_reply.started": "2025-04-27T01:56:54.704953Z"
    }
   },
   "outputs": [],
   "source": [
    "dt['rate']=(dt['close']-dt['preclose'])/dt['preclose'] * 100\n",
    "# 涨跌幅度的百分比"
   ]
  },
  {
   "cell_type": "code",
   "execution_count": 8,
   "id": "c045752c-120c-4f2a-894f-6a995a7e34a1",
   "metadata": {
    "execution": {
     "iopub.execute_input": "2025-04-27T01:56:55.214182Z",
     "iopub.status.busy": "2025-04-27T01:56:55.213184Z",
     "iopub.status.idle": "2025-04-27T01:56:55.247836Z",
     "shell.execute_reply": "2025-04-27T01:56:55.245838Z",
     "shell.execute_reply.started": "2025-04-27T01:56:55.214182Z"
    }
   },
   "outputs": [
    {
     "data": {
      "text/html": [
       "<div>\n",
       "<style scoped>\n",
       "    .dataframe tbody tr th:only-of-type {\n",
       "        vertical-align: middle;\n",
       "    }\n",
       "\n",
       "    .dataframe tbody tr th {\n",
       "        vertical-align: top;\n",
       "    }\n",
       "\n",
       "    .dataframe thead th {\n",
       "        text-align: right;\n",
       "    }\n",
       "</style>\n",
       "<table border=\"1\" class=\"dataframe\">\n",
       "  <thead>\n",
       "    <tr style=\"text-align: right;\">\n",
       "      <th></th>\n",
       "      <th>code</th>\n",
       "      <th>open</th>\n",
       "      <th>high</th>\n",
       "      <th>low</th>\n",
       "      <th>close</th>\n",
       "      <th>preclose</th>\n",
       "      <th>volume</th>\n",
       "      <th>amount</th>\n",
       "      <th>adjustflag</th>\n",
       "      <th>turn</th>\n",
       "      <th>tradestatus</th>\n",
       "      <th>pctChg</th>\n",
       "      <th>isST</th>\n",
       "      <th>rate</th>\n",
       "    </tr>\n",
       "    <tr>\n",
       "      <th>date</th>\n",
       "      <th></th>\n",
       "      <th></th>\n",
       "      <th></th>\n",
       "      <th></th>\n",
       "      <th></th>\n",
       "      <th></th>\n",
       "      <th></th>\n",
       "      <th></th>\n",
       "      <th></th>\n",
       "      <th></th>\n",
       "      <th></th>\n",
       "      <th></th>\n",
       "      <th></th>\n",
       "      <th></th>\n",
       "    </tr>\n",
       "  </thead>\n",
       "  <tbody>\n",
       "    <tr>\n",
       "      <th>2010-01-04</th>\n",
       "      <td>sh.600004</td>\n",
       "      <td>5.046509</td>\n",
       "      <td>5.111144</td>\n",
       "      <td>5.041537</td>\n",
       "      <td>5.046509</td>\n",
       "      <td>5.046509</td>\n",
       "      <td>15478854</td>\n",
       "      <td>157747809.0</td>\n",
       "      <td>2</td>\n",
       "      <td>1.525010</td>\n",
       "      <td>1</td>\n",
       "      <td>0.0000</td>\n",
       "      <td>0</td>\n",
       "      <td>0.000000</td>\n",
       "    </tr>\n",
       "    <tr>\n",
       "      <th>2010-01-05</th>\n",
       "      <td>sh.600004</td>\n",
       "      <td>5.046509</td>\n",
       "      <td>5.091256</td>\n",
       "      <td>5.041537</td>\n",
       "      <td>5.066397</td>\n",
       "      <td>5.046509</td>\n",
       "      <td>11070922</td>\n",
       "      <td>112683563.0</td>\n",
       "      <td>2</td>\n",
       "      <td>1.090731</td>\n",
       "      <td>1</td>\n",
       "      <td>0.3941</td>\n",
       "      <td>0</td>\n",
       "      <td>0.394089</td>\n",
       "    </tr>\n",
       "    <tr>\n",
       "      <th>2010-01-06</th>\n",
       "      <td>sh.600004</td>\n",
       "      <td>5.056453</td>\n",
       "      <td>5.066397</td>\n",
       "      <td>4.981874</td>\n",
       "      <td>4.991818</td>\n",
       "      <td>5.066397</td>\n",
       "      <td>9410665</td>\n",
       "      <td>95205863.0</td>\n",
       "      <td>2</td>\n",
       "      <td>0.927159</td>\n",
       "      <td>1</td>\n",
       "      <td>-1.4720</td>\n",
       "      <td>0</td>\n",
       "      <td>-1.472031</td>\n",
       "    </tr>\n",
       "    <tr>\n",
       "      <th>2010-01-07</th>\n",
       "      <td>sh.600004</td>\n",
       "      <td>4.971930</td>\n",
       "      <td>4.996790</td>\n",
       "      <td>4.827744</td>\n",
       "      <td>4.862548</td>\n",
       "      <td>4.991818</td>\n",
       "      <td>8961813</td>\n",
       "      <td>88611912.0</td>\n",
       "      <td>2</td>\n",
       "      <td>0.882937</td>\n",
       "      <td>1</td>\n",
       "      <td>-2.5896</td>\n",
       "      <td>0</td>\n",
       "      <td>-2.589641</td>\n",
       "    </tr>\n",
       "    <tr>\n",
       "      <th>2010-01-08</th>\n",
       "      <td>sh.600004</td>\n",
       "      <td>4.837688</td>\n",
       "      <td>5.096228</td>\n",
       "      <td>4.837688</td>\n",
       "      <td>5.061425</td>\n",
       "      <td>4.862548</td>\n",
       "      <td>14923812</td>\n",
       "      <td>149969456.0</td>\n",
       "      <td>2</td>\n",
       "      <td>1.470326</td>\n",
       "      <td>1</td>\n",
       "      <td>4.0900</td>\n",
       "      <td>0</td>\n",
       "      <td>4.089980</td>\n",
       "    </tr>\n",
       "  </tbody>\n",
       "</table>\n",
       "</div>"
      ],
      "text/plain": [
       "                 code      open      high       low     close  preclose  \\\n",
       "date                                                                      \n",
       "2010-01-04  sh.600004  5.046509  5.111144  5.041537  5.046509  5.046509   \n",
       "2010-01-05  sh.600004  5.046509  5.091256  5.041537  5.066397  5.046509   \n",
       "2010-01-06  sh.600004  5.056453  5.066397  4.981874  4.991818  5.066397   \n",
       "2010-01-07  sh.600004  4.971930  4.996790  4.827744  4.862548  4.991818   \n",
       "2010-01-08  sh.600004  4.837688  5.096228  4.837688  5.061425  4.862548   \n",
       "\n",
       "              volume       amount  adjustflag      turn  tradestatus  pctChg  \\\n",
       "date                                                                           \n",
       "2010-01-04  15478854  157747809.0           2  1.525010            1  0.0000   \n",
       "2010-01-05  11070922  112683563.0           2  1.090731            1  0.3941   \n",
       "2010-01-06   9410665   95205863.0           2  0.927159            1 -1.4720   \n",
       "2010-01-07   8961813   88611912.0           2  0.882937            1 -2.5896   \n",
       "2010-01-08  14923812  149969456.0           2  1.470326            1  4.0900   \n",
       "\n",
       "            isST      rate  \n",
       "date                        \n",
       "2010-01-04     0  0.000000  \n",
       "2010-01-05     0  0.394089  \n",
       "2010-01-06     0 -1.472031  \n",
       "2010-01-07     0 -2.589641  \n",
       "2010-01-08     0  4.089980  "
      ]
     },
     "execution_count": 8,
     "metadata": {},
     "output_type": "execute_result"
    }
   ],
   "source": [
    "dt.head()"
   ]
  },
  {
   "cell_type": "markdown",
   "id": "dd275dc0-792b-412d-ac34-f4525253dc6e",
   "metadata": {},
   "source": [
    "我打算做一个，横轴x是涨跌幅度，而纵轴y是rsi的的值  \n",
    "然后，涨跌幅度，我打算取得小数位1位，然后rsi，直接取整吧"
   ]
  },
  {
   "cell_type": "code",
   "execution_count": 9,
   "id": "49f336e0-ad1f-4cf1-a494-5eea39746be2",
   "metadata": {
    "execution": {
     "iopub.execute_input": "2025-04-27T02:05:14.866678Z",
     "iopub.status.busy": "2025-04-27T02:05:14.865673Z",
     "iopub.status.idle": "2025-04-27T02:05:14.880674Z",
     "shell.execute_reply": "2025-04-27T02:05:14.878675Z",
     "shell.execute_reply.started": "2025-04-27T02:05:14.866678Z"
    }
   },
   "outputs": [],
   "source": [
    "dt[\"rsi14\"] = talib.RSI(dt['close'], timeperiod=14)"
   ]
  },
  {
   "cell_type": "code",
   "execution_count": 11,
   "id": "4ec3b6c0-acac-448d-91cc-b8ae9a2785c2",
   "metadata": {
    "execution": {
     "iopub.execute_input": "2025-04-27T02:05:35.999393Z",
     "iopub.status.busy": "2025-04-27T02:05:35.998390Z",
     "iopub.status.idle": "2025-04-27T02:05:36.040449Z",
     "shell.execute_reply": "2025-04-27T02:05:36.037922Z",
     "shell.execute_reply.started": "2025-04-27T02:05:35.999393Z"
    }
   },
   "outputs": [
    {
     "data": {
      "text/html": [
       "<div>\n",
       "<style scoped>\n",
       "    .dataframe tbody tr th:only-of-type {\n",
       "        vertical-align: middle;\n",
       "    }\n",
       "\n",
       "    .dataframe tbody tr th {\n",
       "        vertical-align: top;\n",
       "    }\n",
       "\n",
       "    .dataframe thead th {\n",
       "        text-align: right;\n",
       "    }\n",
       "</style>\n",
       "<table border=\"1\" class=\"dataframe\">\n",
       "  <thead>\n",
       "    <tr style=\"text-align: right;\">\n",
       "      <th></th>\n",
       "      <th>code</th>\n",
       "      <th>open</th>\n",
       "      <th>high</th>\n",
       "      <th>low</th>\n",
       "      <th>close</th>\n",
       "      <th>preclose</th>\n",
       "      <th>volume</th>\n",
       "      <th>amount</th>\n",
       "      <th>adjustflag</th>\n",
       "      <th>turn</th>\n",
       "      <th>tradestatus</th>\n",
       "      <th>pctChg</th>\n",
       "      <th>isST</th>\n",
       "      <th>rate</th>\n",
       "      <th>rsi14</th>\n",
       "    </tr>\n",
       "    <tr>\n",
       "      <th>date</th>\n",
       "      <th></th>\n",
       "      <th></th>\n",
       "      <th></th>\n",
       "      <th></th>\n",
       "      <th></th>\n",
       "      <th></th>\n",
       "      <th></th>\n",
       "      <th></th>\n",
       "      <th></th>\n",
       "      <th></th>\n",
       "      <th></th>\n",
       "      <th></th>\n",
       "      <th></th>\n",
       "      <th></th>\n",
       "      <th></th>\n",
       "    </tr>\n",
       "  </thead>\n",
       "  <tbody>\n",
       "    <tr>\n",
       "      <th>2025-02-24</th>\n",
       "      <td>sh.600004</td>\n",
       "      <td>9.12</td>\n",
       "      <td>9.18</td>\n",
       "      <td>9.10</td>\n",
       "      <td>9.17</td>\n",
       "      <td>9.13</td>\n",
       "      <td>14626156</td>\n",
       "      <td>1.337640e+08</td>\n",
       "      <td>2</td>\n",
       "      <td>0.6180</td>\n",
       "      <td>1</td>\n",
       "      <td>0.4381</td>\n",
       "      <td>0</td>\n",
       "      <td>0.438116</td>\n",
       "      <td>42.252704</td>\n",
       "    </tr>\n",
       "    <tr>\n",
       "      <th>2025-02-25</th>\n",
       "      <td>sh.600004</td>\n",
       "      <td>9.14</td>\n",
       "      <td>9.15</td>\n",
       "      <td>9.07</td>\n",
       "      <td>9.09</td>\n",
       "      <td>9.17</td>\n",
       "      <td>15012850</td>\n",
       "      <td>1.366958e+08</td>\n",
       "      <td>2</td>\n",
       "      <td>0.6343</td>\n",
       "      <td>1</td>\n",
       "      <td>-0.8724</td>\n",
       "      <td>0</td>\n",
       "      <td>-0.872410</td>\n",
       "      <td>37.600734</td>\n",
       "    </tr>\n",
       "    <tr>\n",
       "      <th>2025-02-26</th>\n",
       "      <td>sh.600004</td>\n",
       "      <td>9.10</td>\n",
       "      <td>9.13</td>\n",
       "      <td>9.07</td>\n",
       "      <td>9.13</td>\n",
       "      <td>9.09</td>\n",
       "      <td>14994485</td>\n",
       "      <td>1.363845e+08</td>\n",
       "      <td>2</td>\n",
       "      <td>0.6336</td>\n",
       "      <td>1</td>\n",
       "      <td>0.4400</td>\n",
       "      <td>0</td>\n",
       "      <td>0.440044</td>\n",
       "      <td>41.092975</td>\n",
       "    </tr>\n",
       "    <tr>\n",
       "      <th>2025-02-27</th>\n",
       "      <td>sh.600004</td>\n",
       "      <td>9.12</td>\n",
       "      <td>9.23</td>\n",
       "      <td>9.12</td>\n",
       "      <td>9.19</td>\n",
       "      <td>9.13</td>\n",
       "      <td>20983933</td>\n",
       "      <td>1.926273e+08</td>\n",
       "      <td>2</td>\n",
       "      <td>0.8866</td>\n",
       "      <td>1</td>\n",
       "      <td>0.6572</td>\n",
       "      <td>0</td>\n",
       "      <td>0.657174</td>\n",
       "      <td>45.977015</td>\n",
       "    </tr>\n",
       "    <tr>\n",
       "      <th>2025-02-28</th>\n",
       "      <td>sh.600004</td>\n",
       "      <td>9.18</td>\n",
       "      <td>9.21</td>\n",
       "      <td>9.08</td>\n",
       "      <td>9.11</td>\n",
       "      <td>9.19</td>\n",
       "      <td>14763552</td>\n",
       "      <td>1.350106e+08</td>\n",
       "      <td>2</td>\n",
       "      <td>0.6238</td>\n",
       "      <td>1</td>\n",
       "      <td>-0.8705</td>\n",
       "      <td>0</td>\n",
       "      <td>-0.870511</td>\n",
       "      <td>41.085694</td>\n",
       "    </tr>\n",
       "  </tbody>\n",
       "</table>\n",
       "</div>"
      ],
      "text/plain": [
       "                 code  open  high   low  close  preclose    volume  \\\n",
       "date                                                                 \n",
       "2025-02-24  sh.600004  9.12  9.18  9.10   9.17      9.13  14626156   \n",
       "2025-02-25  sh.600004  9.14  9.15  9.07   9.09      9.17  15012850   \n",
       "2025-02-26  sh.600004  9.10  9.13  9.07   9.13      9.09  14994485   \n",
       "2025-02-27  sh.600004  9.12  9.23  9.12   9.19      9.13  20983933   \n",
       "2025-02-28  sh.600004  9.18  9.21  9.08   9.11      9.19  14763552   \n",
       "\n",
       "                  amount  adjustflag    turn  tradestatus  pctChg  isST  \\\n",
       "date                                                                      \n",
       "2025-02-24  1.337640e+08           2  0.6180            1  0.4381     0   \n",
       "2025-02-25  1.366958e+08           2  0.6343            1 -0.8724     0   \n",
       "2025-02-26  1.363845e+08           2  0.6336            1  0.4400     0   \n",
       "2025-02-27  1.926273e+08           2  0.8866            1  0.6572     0   \n",
       "2025-02-28  1.350106e+08           2  0.6238            1 -0.8705     0   \n",
       "\n",
       "                rate      rsi14  \n",
       "date                             \n",
       "2025-02-24  0.438116  42.252704  \n",
       "2025-02-25 -0.872410  37.600734  \n",
       "2025-02-26  0.440044  41.092975  \n",
       "2025-02-27  0.657174  45.977015  \n",
       "2025-02-28 -0.870511  41.085694  "
      ]
     },
     "execution_count": 11,
     "metadata": {},
     "output_type": "execute_result"
    }
   ],
   "source": [
    "dt.tail()"
   ]
  },
  {
   "cell_type": "code",
   "execution_count": 12,
   "id": "2c534c5e-003c-4596-869e-af29acfcec9b",
   "metadata": {
    "execution": {
     "iopub.execute_input": "2025-04-27T02:06:03.669022Z",
     "iopub.status.busy": "2025-04-27T02:06:03.668018Z",
     "iopub.status.idle": "2025-04-27T02:06:03.678674Z",
     "shell.execute_reply": "2025-04-27T02:06:03.675676Z",
     "shell.execute_reply.started": "2025-04-27T02:06:03.669022Z"
    }
   },
   "outputs": [],
   "source": [
    "dt2 = dt.iloc[14:,:]"
   ]
  },
  {
   "cell_type": "code",
   "execution_count": 13,
   "id": "d83305c5-52a3-4efc-ad95-b80d8ec8f702",
   "metadata": {
    "execution": {
     "iopub.execute_input": "2025-04-27T02:06:09.987076Z",
     "iopub.status.busy": "2025-04-27T02:06:09.986081Z",
     "iopub.status.idle": "2025-04-27T02:06:10.034342Z",
     "shell.execute_reply": "2025-04-27T02:06:10.023322Z",
     "shell.execute_reply.started": "2025-04-27T02:06:09.987076Z"
    }
   },
   "outputs": [
    {
     "data": {
      "text/html": [
       "<div>\n",
       "<style scoped>\n",
       "    .dataframe tbody tr th:only-of-type {\n",
       "        vertical-align: middle;\n",
       "    }\n",
       "\n",
       "    .dataframe tbody tr th {\n",
       "        vertical-align: top;\n",
       "    }\n",
       "\n",
       "    .dataframe thead th {\n",
       "        text-align: right;\n",
       "    }\n",
       "</style>\n",
       "<table border=\"1\" class=\"dataframe\">\n",
       "  <thead>\n",
       "    <tr style=\"text-align: right;\">\n",
       "      <th></th>\n",
       "      <th>code</th>\n",
       "      <th>open</th>\n",
       "      <th>high</th>\n",
       "      <th>low</th>\n",
       "      <th>close</th>\n",
       "      <th>preclose</th>\n",
       "      <th>volume</th>\n",
       "      <th>amount</th>\n",
       "      <th>adjustflag</th>\n",
       "      <th>turn</th>\n",
       "      <th>tradestatus</th>\n",
       "      <th>pctChg</th>\n",
       "      <th>isST</th>\n",
       "      <th>rate</th>\n",
       "      <th>rsi14</th>\n",
       "    </tr>\n",
       "    <tr>\n",
       "      <th>date</th>\n",
       "      <th></th>\n",
       "      <th></th>\n",
       "      <th></th>\n",
       "      <th></th>\n",
       "      <th></th>\n",
       "      <th></th>\n",
       "      <th></th>\n",
       "      <th></th>\n",
       "      <th></th>\n",
       "      <th></th>\n",
       "      <th></th>\n",
       "      <th></th>\n",
       "      <th></th>\n",
       "      <th></th>\n",
       "      <th></th>\n",
       "    </tr>\n",
       "  </thead>\n",
       "  <tbody>\n",
       "    <tr>\n",
       "      <th>2010-01-22</th>\n",
       "      <td>sh.600004</td>\n",
       "      <td>5.419404</td>\n",
       "      <td>5.757495</td>\n",
       "      <td>5.374656</td>\n",
       "      <td>5.508898</td>\n",
       "      <td>5.389572</td>\n",
       "      <td>40618213</td>\n",
       "      <td>454945617.0</td>\n",
       "      <td>2</td>\n",
       "      <td>4.001794</td>\n",
       "      <td>1</td>\n",
       "      <td>2.2140</td>\n",
       "      <td>0</td>\n",
       "      <td>2.214022</td>\n",
       "      <td>67.032967</td>\n",
       "    </tr>\n",
       "    <tr>\n",
       "      <th>2010-01-25</th>\n",
       "      <td>sh.600004</td>\n",
       "      <td>5.523814</td>\n",
       "      <td>5.608337</td>\n",
       "      <td>5.265274</td>\n",
       "      <td>5.275218</td>\n",
       "      <td>5.508898</td>\n",
       "      <td>20104855</td>\n",
       "      <td>219784238.0</td>\n",
       "      <td>2</td>\n",
       "      <td>1.980774</td>\n",
       "      <td>1</td>\n",
       "      <td>-4.2419</td>\n",
       "      <td>0</td>\n",
       "      <td>-4.241877</td>\n",
       "      <td>56.548609</td>\n",
       "    </tr>\n",
       "    <tr>\n",
       "      <th>2010-01-26</th>\n",
       "      <td>sh.600004</td>\n",
       "      <td>5.275218</td>\n",
       "      <td>5.334881</td>\n",
       "      <td>5.071369</td>\n",
       "      <td>5.165835</td>\n",
       "      <td>5.275218</td>\n",
       "      <td>14489380</td>\n",
       "      <td>151123512.0</td>\n",
       "      <td>2</td>\n",
       "      <td>1.427525</td>\n",
       "      <td>1</td>\n",
       "      <td>-2.0735</td>\n",
       "      <td>0</td>\n",
       "      <td>-2.073516</td>\n",
       "      <td>52.415979</td>\n",
       "    </tr>\n",
       "    <tr>\n",
       "      <th>2010-01-27</th>\n",
       "      <td>sh.600004</td>\n",
       "      <td>5.170807</td>\n",
       "      <td>5.215555</td>\n",
       "      <td>5.076341</td>\n",
       "      <td>5.111144</td>\n",
       "      <td>5.165835</td>\n",
       "      <td>7765864</td>\n",
       "      <td>80360216.0</td>\n",
       "      <td>2</td>\n",
       "      <td>0.765110</td>\n",
       "      <td>1</td>\n",
       "      <td>-1.0587</td>\n",
       "      <td>0</td>\n",
       "      <td>-1.058710</td>\n",
       "      <td>50.431435</td>\n",
       "    </tr>\n",
       "    <tr>\n",
       "      <th>2010-01-28</th>\n",
       "      <td>sh.600004</td>\n",
       "      <td>5.111144</td>\n",
       "      <td>5.334881</td>\n",
       "      <td>5.071369</td>\n",
       "      <td>5.324937</td>\n",
       "      <td>5.111144</td>\n",
       "      <td>15788529</td>\n",
       "      <td>165734777.0</td>\n",
       "      <td>2</td>\n",
       "      <td>1.555520</td>\n",
       "      <td>1</td>\n",
       "      <td>4.1829</td>\n",
       "      <td>0</td>\n",
       "      <td>4.182879</td>\n",
       "      <td>57.245947</td>\n",
       "    </tr>\n",
       "  </tbody>\n",
       "</table>\n",
       "</div>"
      ],
      "text/plain": [
       "                 code      open      high       low     close  preclose  \\\n",
       "date                                                                      \n",
       "2010-01-22  sh.600004  5.419404  5.757495  5.374656  5.508898  5.389572   \n",
       "2010-01-25  sh.600004  5.523814  5.608337  5.265274  5.275218  5.508898   \n",
       "2010-01-26  sh.600004  5.275218  5.334881  5.071369  5.165835  5.275218   \n",
       "2010-01-27  sh.600004  5.170807  5.215555  5.076341  5.111144  5.165835   \n",
       "2010-01-28  sh.600004  5.111144  5.334881  5.071369  5.324937  5.111144   \n",
       "\n",
       "              volume       amount  adjustflag      turn  tradestatus  pctChg  \\\n",
       "date                                                                           \n",
       "2010-01-22  40618213  454945617.0           2  4.001794            1  2.2140   \n",
       "2010-01-25  20104855  219784238.0           2  1.980774            1 -4.2419   \n",
       "2010-01-26  14489380  151123512.0           2  1.427525            1 -2.0735   \n",
       "2010-01-27   7765864   80360216.0           2  0.765110            1 -1.0587   \n",
       "2010-01-28  15788529  165734777.0           2  1.555520            1  4.1829   \n",
       "\n",
       "            isST      rate      rsi14  \n",
       "date                                   \n",
       "2010-01-22     0  2.214022  67.032967  \n",
       "2010-01-25     0 -4.241877  56.548609  \n",
       "2010-01-26     0 -2.073516  52.415979  \n",
       "2010-01-27     0 -1.058710  50.431435  \n",
       "2010-01-28     0  4.182879  57.245947  "
      ]
     },
     "execution_count": 13,
     "metadata": {},
     "output_type": "execute_result"
    }
   ],
   "source": [
    "dt2.head()"
   ]
  },
  {
   "cell_type": "code",
   "execution_count": 15,
   "id": "50db9399-2fdd-4eaa-ba1a-ef3bfc1d61a0",
   "metadata": {
    "execution": {
     "iopub.execute_input": "2025-04-27T02:08:29.033149Z",
     "iopub.status.busy": "2025-04-27T02:08:29.032149Z",
     "iopub.status.idle": "2025-04-27T02:08:29.045093Z",
     "shell.execute_reply": "2025-04-27T02:08:29.044079Z",
     "shell.execute_reply.started": "2025-04-27T02:08:29.033149Z"
    }
   },
   "outputs": [
    {
     "name": "stdout",
     "output_type": "stream",
     "text": [
      "rsi最小值:8.611963786722383, rsi最大值:84.55310775870144\n"
     ]
    }
   ],
   "source": [
    "print(f'rsi最小值:{dt2[\"rsi14\"].min()}, rsi最大值:{dt2[\"rsi14\"].max()}')"
   ]
  },
  {
   "cell_type": "code",
   "execution_count": 16,
   "id": "2284d8c5-d9e6-4451-a6af-8f74bb85720d",
   "metadata": {
    "execution": {
     "iopub.execute_input": "2025-04-27T02:09:15.590649Z",
     "iopub.status.busy": "2025-04-27T02:09:15.589652Z",
     "iopub.status.idle": "2025-04-27T02:09:15.600227Z",
     "shell.execute_reply": "2025-04-27T02:09:15.598204Z",
     "shell.execute_reply.started": "2025-04-27T02:09:15.590649Z"
    }
   },
   "outputs": [
    {
     "name": "stdout",
     "output_type": "stream",
     "text": [
      "涨跌幅最小值:-10.02691790040377, 涨跌幅最大值:10.035587188612096\n"
     ]
    }
   ],
   "source": [
    "print(f'涨跌幅最小值:{dt2[\"rate\"].min()}, 涨跌幅最大值:{dt2[\"rate\"].max()}')"
   ]
  },
  {
   "cell_type": "markdown",
   "id": "fe245cb3-60cc-4b20-accf-e8e8cd7ebc0b",
   "metadata": {},
   "source": [
    "粗略估算，rsi的范围是0-100，大概是101个，而涨跌幅是-10到10，大概是200个，我这里更改一下，横轴是rsi，纵轴是涨跌幅度吧，这样直观一些。"
   ]
  },
  {
   "cell_type": "code",
   "execution_count": 50,
   "id": "02043e8b-8f8b-42d7-9162-95db45be8d7b",
   "metadata": {
    "execution": {
     "iopub.execute_input": "2025-04-27T02:30:47.181698Z",
     "iopub.status.busy": "2025-04-27T02:30:47.180694Z",
     "iopub.status.idle": "2025-04-27T02:30:47.190815Z",
     "shell.execute_reply": "2025-04-27T02:30:47.188797Z",
     "shell.execute_reply.started": "2025-04-27T02:30:47.181698Z"
    }
   },
   "outputs": [],
   "source": [
    "# 这里做一个二维数组\n",
    "_x_count = 100-0 + 1\n",
    "_y_count = (10-(-10)) * 10 + 1\n",
    "bitmap = np.zeros((_y_count, _x_count))"
   ]
  },
  {
   "cell_type": "code",
   "execution_count": 51,
   "id": "9d5c72a2-e6d9-4190-be49-5707d03f4c05",
   "metadata": {
    "execution": {
     "iopub.execute_input": "2025-04-27T02:30:47.395818Z",
     "iopub.status.busy": "2025-04-27T02:30:47.394819Z",
     "iopub.status.idle": "2025-04-27T02:30:47.406860Z",
     "shell.execute_reply": "2025-04-27T02:30:47.404844Z",
     "shell.execute_reply.started": "2025-04-27T02:30:47.395818Z"
    }
   },
   "outputs": [
    {
     "data": {
      "text/plain": [
       "(201, 101)"
      ]
     },
     "execution_count": 51,
     "metadata": {},
     "output_type": "execute_result"
    }
   ],
   "source": [
    "bitmap.shape"
   ]
  },
  {
   "cell_type": "code",
   "execution_count": 52,
   "id": "3fd794a2-90e5-4243-8b53-5c043a2ef1e8",
   "metadata": {
    "execution": {
     "iopub.execute_input": "2025-04-27T02:30:47.610860Z",
     "iopub.status.busy": "2025-04-27T02:30:47.609862Z",
     "iopub.status.idle": "2025-04-27T02:30:48.344155Z",
     "shell.execute_reply": "2025-04-27T02:30:48.343141Z",
     "shell.execute_reply.started": "2025-04-27T02:30:47.610860Z"
    }
   },
   "outputs": [],
   "source": [
    "for index, row in dt2.iterrows():\n",
    "    # 遍历每一行\n",
    "    _rate = row['rate']\n",
    "    _rsi = row['rsi14']\n",
    "    _x_index = int(_rsi) # 对于rsi是取整\n",
    "    _y_index = int(_rate * 10) - -100\n",
    "    bitmap[_y_index, _x_index] += 1"
   ]
  },
  {
   "cell_type": "code",
   "execution_count": 53,
   "id": "efc6c9d5-2dfc-489c-8a6f-016c8c6de222",
   "metadata": {
    "execution": {
     "iopub.execute_input": "2025-04-27T02:30:48.349158Z",
     "iopub.status.busy": "2025-04-27T02:30:48.348157Z",
     "iopub.status.idle": "2025-04-27T02:30:48.374109Z",
     "shell.execute_reply": "2025-04-27T02:30:48.371089Z",
     "shell.execute_reply.started": "2025-04-27T02:30:48.349158Z"
    }
   },
   "outputs": [
    {
     "data": {
      "text/plain": [
       "array([[0., 0., 0., ..., 0., 0., 0.],\n",
       "       [0., 0., 0., ..., 0., 0., 0.],\n",
       "       [0., 0., 0., ..., 0., 0., 0.],\n",
       "       ...,\n",
       "       [0., 0., 0., ..., 0., 0., 0.],\n",
       "       [0., 0., 0., ..., 0., 0., 0.],\n",
       "       [0., 0., 0., ..., 0., 0., 0.]])"
      ]
     },
     "execution_count": 53,
     "metadata": {},
     "output_type": "execute_result"
    }
   ],
   "source": [
    "bitmap"
   ]
  },
  {
   "cell_type": "code",
   "execution_count": 54,
   "id": "9761099d-d3ef-499f-a0b3-efb9df5634a4",
   "metadata": {
    "execution": {
     "iopub.execute_input": "2025-04-27T02:30:48.386110Z",
     "iopub.status.busy": "2025-04-27T02:30:48.380110Z",
     "iopub.status.idle": "2025-04-27T02:30:48.417051Z",
     "shell.execute_reply": "2025-04-27T02:30:48.415057Z",
     "shell.execute_reply.started": "2025-04-27T02:30:48.386110Z"
    }
   },
   "outputs": [
    {
     "data": {
      "text/plain": [
       "11.0"
      ]
     },
     "execution_count": 54,
     "metadata": {},
     "output_type": "execute_result"
    }
   ],
   "source": [
    "bitmap.max()"
   ]
  },
  {
   "cell_type": "code",
   "execution_count": 55,
   "id": "9a87d1c2-4d7e-491b-af13-9976fef826b5",
   "metadata": {
    "execution": {
     "iopub.execute_input": "2025-04-27T02:30:48.432054Z",
     "iopub.status.busy": "2025-04-27T02:30:48.428053Z",
     "iopub.status.idle": "2025-04-27T02:30:48.451355Z",
     "shell.execute_reply": "2025-04-27T02:30:48.449338Z",
     "shell.execute_reply.started": "2025-04-27T02:30:48.432054Z"
    }
   },
   "outputs": [
    {
     "data": {
      "text/plain": [
       "3665"
      ]
     },
     "execution_count": 55,
     "metadata": {},
     "output_type": "execute_result"
    }
   ],
   "source": [
    "len(dt2)"
   ]
  },
  {
   "cell_type": "markdown",
   "id": "4add80d1-3840-4350-b822-b0cdce9041d0",
   "metadata": {},
   "source": [
    "所以，看起来每个的数量不大，这里做一下扩充，"
   ]
  },
  {
   "cell_type": "code",
   "execution_count": 56,
   "id": "b7d4f77b-f60b-4852-92c1-1892409b3493",
   "metadata": {
    "execution": {
     "iopub.execute_input": "2025-04-27T02:30:48.704494Z",
     "iopub.status.busy": "2025-04-27T02:30:48.704494Z",
     "iopub.status.idle": "2025-04-27T02:30:48.714914Z",
     "shell.execute_reply": "2025-04-27T02:30:48.712917Z",
     "shell.execute_reply.started": "2025-04-27T02:30:48.704494Z"
    }
   },
   "outputs": [
    {
     "data": {
      "text/plain": [
       "201"
      ]
     },
     "execution_count": 56,
     "metadata": {},
     "output_type": "execute_result"
    }
   ],
   "source": [
    "len(bitmap)"
   ]
  },
  {
   "cell_type": "code",
   "execution_count": 57,
   "id": "f7b83625-52a0-46a1-919a-dd743a1488d0",
   "metadata": {
    "execution": {
     "iopub.execute_input": "2025-04-27T02:30:48.908998Z",
     "iopub.status.busy": "2025-04-27T02:30:48.908003Z",
     "iopub.status.idle": "2025-04-27T02:30:48.946497Z",
     "shell.execute_reply": "2025-04-27T02:30:48.944478Z",
     "shell.execute_reply.started": "2025-04-27T02:30:48.908998Z"
    }
   },
   "outputs": [],
   "source": [
    "_bitmap_max = bitmap.max()\n",
    "for i in range(len(bitmap)):\n",
    "    for j in range(len(bitmap[i])):\n",
    "        v = bitmap[i,j]\n",
    "        bitmap[i,j] = int(v / _bitmap_max * 255)"
   ]
  },
  {
   "cell_type": "code",
   "execution_count": 58,
   "id": "5203c23b-b7ec-4410-bc67-d2fbd9f46725",
   "metadata": {
    "execution": {
     "iopub.execute_input": "2025-04-27T02:30:49.181390Z",
     "iopub.status.busy": "2025-04-27T02:30:49.180394Z",
     "iopub.status.idle": "2025-04-27T02:30:49.192078Z",
     "shell.execute_reply": "2025-04-27T02:30:49.190056Z",
     "shell.execute_reply.started": "2025-04-27T02:30:49.181390Z"
    }
   },
   "outputs": [
    {
     "data": {
      "text/plain": [
       "255.0"
      ]
     },
     "execution_count": 58,
     "metadata": {},
     "output_type": "execute_result"
    }
   ],
   "source": [
    "bitmap.max()"
   ]
  },
  {
   "cell_type": "code",
   "execution_count": 62,
   "id": "69492d2f-1dae-4a59-a380-78fc845b897d",
   "metadata": {
    "execution": {
     "iopub.execute_input": "2025-04-27T02:56:12.619113Z",
     "iopub.status.busy": "2025-04-27T02:56:12.619113Z",
     "iopub.status.idle": "2025-04-27T02:56:12.973746Z",
     "shell.execute_reply": "2025-04-27T02:56:12.971744Z",
     "shell.execute_reply.started": "2025-04-27T02:56:12.619113Z"
    }
   },
   "outputs": [
    {
     "data": {
      "text/plain": [
       "<matplotlib.image.AxesImage at 0x1cd740e2e50>"
      ]
     },
     "execution_count": 62,
     "metadata": {},
     "output_type": "execute_result"
    },
    {
     "data": {
      "image/png": "[encoded data removed]",
      "text/plain": [
       "<Figure size 640x480 with 1 Axes>"
      ]
     },
     "metadata": {},
     "output_type": "display_data"
    }
   ],
   "source": [
    "# 然后这个bitmap显示图像\n",
    "plt.imshow(bitmap, cmap='gray', vmin=0, vmax=255)"
   ]
  },
  {
   "cell_type": "markdown",
   "id": "b373707e-b292-4843-990a-265ee4bcddd3",
   "metadata": {},
   "source": [
    "就图像上看，并没有看出明显的区别。"
   ]
  },
  {
   "cell_type": "code",
   "execution_count": null,
   "id": "9d88659d-1a35-419b-a6a5-35483ced4e71",
   "metadata": {},
   "outputs": [],
   "source": []
  }
 ],
 "metadata": {
  "kernelspec": {
   "display_name": "Python 3 (ipykernel)",
   "language": "python",
   "name": "python3"
  },
  "language_info": {
   "codemirror_mode": {
    "name": "ipython",
    "version": 3
   },
   "file_extension": ".py",
   "mimetype": "text/x-python",
   "name": "python",
   "nbconvert_exporter": "python",
   "pygments_lexer": "ipython3",
   "version": "3.11.5"
  }
 },
 "nbformat": 4,
 "nbformat_minor": 5
}
