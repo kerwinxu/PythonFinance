{
 "cells": [
  {
   "cell_type": "markdown",
   "id": "a300e5d3-6715-4797-b332-40f67908b9c2",
   "metadata": {},
   "source": [
    "# 导入全部数据"
   ]
  },
  {
   "cell_type": "code",
   "execution_count": 1,
   "id": "14e8dcef-a9ba-45c7-8211-d095ee246666",
   "metadata": {},
   "outputs": [
    {
     "name": "stderr",
     "output_type": "stream",
     "text": [
      "100%|██████████████████████████████████████████████████████████████████████████████| 4687/4687 [02:14<00:00, 34.93it/s]\n"
     ]
    }
   ],
   "source": [
    "%matplotlib inline\n",
    "import os\n",
    "import pandas as pd\n",
    "import numpy as np\n",
    "import matplotlib.pyplot as plt\n",
    "import datetime\n",
    "from tqdm import tqdm\n",
    "\n",
    "base_dir = \"../../数据获取/baostock/k线数据\"\n",
    "\n",
    "filenames = os.listdir(base_dir)\n",
    "\n",
    "dts = {}\n",
    "\n",
    "with tqdm(total=len(filenames)) as pbar:\n",
    "    for i in range(len(filenames)):\n",
    "        filename = filenames[i]\n",
    "        if filename[-3:] == 'csv':\n",
    "            file_path = os.path.join(base_dir, filename)\n",
    "            dt =  pd.read_csv(file_path)\n",
    "            dt['date']=pd.to_datetime(dt['date'])\n",
    "            if len(dt) > 0:\n",
    "                # 然后读取数据\n",
    "                dts[filename] = dt\n",
    "        pbar.update(1)\n",
    "                "
   ]
  },
  {
   "cell_type": "code",
   "execution_count": 2,
   "id": "2abc3cd3-9864-4f75-9c22-4832be0a326a",
   "metadata": {},
   "outputs": [],
   "source": [
    "# 先修改日期格式\n",
    "for key in dts:\n",
    "    dts[key]['date']=pd.to_datetime(dts[key]['date'])"
   ]
  },
  {
   "cell_type": "markdown",
   "id": "b239f26f-e96e-49d1-b54a-3d99f57828d8",
   "metadata": {},
   "source": [
    "# 我看看总的下跌和上涨的比例是什么样的"
   ]
  },
  {
   "cell_type": "code",
   "execution_count": 3,
   "id": "9b24fe50-3f57-45c4-9f98-80274504967a",
   "metadata": {},
   "outputs": [],
   "source": [
    "for key in dts:\n",
    "    dts[key]['updownratio'] = dts[key].apply(lambda x: x['close']/x['open']*100-100 , axis=1)"
   ]
  },
  {
   "cell_type": "code",
   "execution_count": 4,
   "id": "04294ddb-dfcf-4bbc-89a3-a3ffcf3902f7",
   "metadata": {},
   "outputs": [],
   "source": [
    "# 这里取得所有的比例\n",
    "_updownratios = []\n",
    "for key in dts:\n",
    "    _updownratios.extend(list(dts[key]['updownratio']))"
   ]
  },
  {
   "cell_type": "code",
   "execution_count": 5,
   "id": "dade28a4-f7c8-487e-a9d6-86692ad5eb64",
   "metadata": {},
   "outputs": [
    {
     "data": {
      "text/plain": [
       "8683730"
      ]
     },
     "execution_count": 5,
     "metadata": {},
     "output_type": "execute_result"
    }
   ],
   "source": [
    "len(_updownratios)"
   ]
  },
  {
   "cell_type": "code",
   "execution_count": 6,
   "id": "81c5b855-7292-4bbd-b373-8a9192db0ea0",
   "metadata": {},
   "outputs": [
    {
     "data": {
      "text/plain": [
       "[-2.9317453046266593,\n",
       " -0.28024287716020524,\n",
       " -1.6909347111319732,\n",
       " -2.011494252873561,\n",
       " 1.720747295968522,\n",
       " -4.212962962962976,\n",
       " 0.8240426563257444,\n",
       " -2.0740740740740904,\n",
       " 0.5032712632108627,\n",
       " 0.09990009990008275]"
      ]
     },
     "execution_count": 6,
     "metadata": {},
     "output_type": "execute_result"
    }
   ],
   "source": [
    "_updownratios[:10]"
   ]
  },
  {
   "cell_type": "code",
   "execution_count": 7,
   "id": "e23f2fb6-5e15-449f-ae6a-67fe32fed386",
   "metadata": {},
   "outputs": [],
   "source": [
    "_updownratios2 = [round(x) for x in _updownratios]"
   ]
  },
  {
   "cell_type": "code",
   "execution_count": 8,
   "id": "505e94d2-2523-421c-ba86-1d1b452c1c4c",
   "metadata": {},
   "outputs": [],
   "source": [
    "_updownratios3 = {}\n",
    "for i in _updownratios2:\n",
    "    if i in _updownratios3:\n",
    "        _updownratios3[i] += 1\n",
    "    else:\n",
    "        _updownratios3[i] = 1"
   ]
  },
  {
   "cell_type": "code",
   "execution_count": 9,
   "id": "55444d66-6f45-4d81-9cf2-083c19792746",
   "metadata": {},
   "outputs": [
    {
     "data": {
      "text/plain": [
       "{-3: 434933,\n",
       " 0: 2146766,\n",
       " -2: 793078,\n",
       " 2: 827143,\n",
       " -4: 237657,\n",
       " 1: 1400538,\n",
       " 3: 469979,\n",
       " -1: 1302070,\n",
       " 5: 161971,\n",
       " -5: 131179,\n",
       " 4: 272045,\n",
       " 6: 96940,\n",
       " 7: 60652,\n",
       " -9: 21176,\n",
       " 8: 41955,\n",
       " 10: 35758,\n",
       " -7: 47227,\n",
       " -6: 75330,\n",
       " -8: 31409,\n",
       " 9: 34035,\n",
       " -10: 15123,\n",
       " -15: 455,\n",
       " 11: 15940,\n",
       " 12: 7404,\n",
       " -18: 826,\n",
       " 17: 604,\n",
       " 15: 1289,\n",
       " -13: 1361,\n",
       " -11: 4595,\n",
       " 16: 932,\n",
       " 13: 3521,\n",
       " -12: 2295,\n",
       " 14: 1905,\n",
       " 22: 706,\n",
       " -14: 789,\n",
       " 21: 353,\n",
       " 20: 1529,\n",
       " -16: 413,\n",
       " 18: 513,\n",
       " 19: 478,\n",
       " -17: 440,\n",
       " -30: 5,\n",
       " -35: 2,\n",
       " -26: 5,\n",
       " 29: 6,\n",
       " 28: 7,\n",
       " 38: 6,\n",
       " 33: 5,\n",
       " 40: 7,\n",
       " 25: 22,\n",
       " 60: 6,\n",
       " 32: 8,\n",
       " 26: 14,\n",
       " 31: 6,\n",
       " -19: 32,\n",
       " 24: 50,\n",
       " 23: 80,\n",
       " -22: 11,\n",
       " 27: 11,\n",
       " 43: 2,\n",
       " -25: 3,\n",
       " 46: 1,\n",
       " -24: 5,\n",
       " 39: 3,\n",
       " 30: 10,\n",
       " 34: 6,\n",
       " 47: 3,\n",
       " -28: 2,\n",
       " -20: 34,\n",
       " 35: 6,\n",
       " 41: 1,\n",
       " 48: 3,\n",
       " -23: 7,\n",
       " -21: 13,\n",
       " 36: 4,\n",
       " 42: 3,\n",
       " -34: 2,\n",
       " 52: 1,\n",
       " 89: 1,\n",
       " 70: 1,\n",
       " 44: 2,\n",
       " -29: 1,\n",
       " -33: 3,\n",
       " 50: 1,\n",
       " -31: 1,\n",
       " -27: 1,\n",
       " 49: 2,\n",
       " 68: 1,\n",
       " 115: 1,\n",
       " 74: 2,\n",
       " 64: 1,\n",
       " 37: 2,\n",
       " 86: 1,\n",
       " 61: 1,\n",
       " 94: 1,\n",
       " 63: 1,\n",
       " 127: 1,\n",
       " 53: 1}"
      ]
     },
     "execution_count": 9,
     "metadata": {},
     "output_type": "execute_result"
    }
   ],
   "source": [
    "_updownratios3"
   ]
  },
  {
   "cell_type": "code",
   "execution_count": 10,
   "id": "111f85a8-6e1a-41ba-af76-265eb13fd27d",
   "metadata": {},
   "outputs": [],
   "source": [
    "# 然后排序，输出图形的结果"
   ]
  },
  {
   "cell_type": "code",
   "execution_count": 11,
   "id": "e96b2109-0457-4124-99ee-0c5ec0bf4028",
   "metadata": {},
   "outputs": [],
   "source": [
    "_nums = list(_updownratios3.keys())"
   ]
  },
  {
   "cell_type": "code",
   "execution_count": 12,
   "id": "4b3e75b0-06b9-464b-9926-b28d9af0de21",
   "metadata": {},
   "outputs": [],
   "source": [
    "_nums.sort()"
   ]
  },
  {
   "cell_type": "code",
   "execution_count": 13,
   "id": "870a6264-cdd1-4725-915f-696520bc5565",
   "metadata": {},
   "outputs": [],
   "source": [
    "_counts = [_updownratios3[i] for i in _nums]"
   ]
  },
  {
   "cell_type": "code",
   "execution_count": 14,
   "id": "70d0c33b-943b-492d-8031-9cb9397d8c01",
   "metadata": {},
   "outputs": [
    {
     "data": {
      "text/plain": [
       "[<matplotlib.lines.Line2D at 0x208734f0c70>]"
      ]
     },
     "execution_count": 14,
     "metadata": {},
     "output_type": "execute_result"
    },
    {
     "data": {
      "image/png": "[encoded data removed]",
      "text/plain": [
       "<Figure size 432x288 with 1 Axes>"
      ]
     },
     "metadata": {
      "needs_background": "light"
     },
     "output_type": "display_data"
    }
   ],
   "source": [
    "plt.plot(_nums, _counts)"
   ]
  },
  {
   "cell_type": "code",
   "execution_count": 15,
   "id": "ba34d5ea-1e25-4fe1-b1d1-b86591c7ba4f",
   "metadata": {},
   "outputs": [],
   "source": [
    "# 值保留小范围的值\n",
    "_nums2 = [i for i in _nums if abs(i) < 10]"
   ]
  },
  {
   "cell_type": "code",
   "execution_count": 16,
   "id": "2f402d5b-af2c-4924-a95c-d673ad9ec53a",
   "metadata": {},
   "outputs": [],
   "source": [
    "_counts2 = [_updownratios3[i] for i in _nums2]"
   ]
  },
  {
   "cell_type": "code",
   "execution_count": 17,
   "id": "87393404-7ae6-4f17-9474-4801d58784ec",
   "metadata": {},
   "outputs": [
    {
     "data": {
      "text/plain": [
       "[<matplotlib.lines.Line2D at 0x208735f9820>]"
      ]
     },
     "execution_count": 17,
     "metadata": {},
     "output_type": "execute_result"
    },
    {
     "data": {
      "image/png": "[encoded data removed]",
      "text/plain": [
       "<Figure size 432x288 with 1 Axes>"
      ]
     },
     "metadata": {
      "needs_background": "light"
     },
     "output_type": "display_data"
    }
   ],
   "source": [
    "plt.plot(_nums2, _counts2)"
   ]
  },
  {
   "cell_type": "markdown",
   "id": "872bfd20-7481-4434-954e-0ebf85304247",
   "metadata": {},
   "source": [
    "# 我试试下跌的时候都是星期几吧"
   ]
  },
  {
   "cell_type": "code",
   "execution_count": 18,
   "id": "d775fa6d-d050-49a1-a153-49c3f03e6da4",
   "metadata": {},
   "outputs": [],
   "source": [
    "# 我这里拼接成一个大的表\n",
    "dt_all = pd.concat(dts.values())"
   ]
  },
  {
   "cell_type": "code",
   "execution_count": 19,
   "id": "97721360-30ca-4f5e-9714-4abec929a88e",
   "metadata": {},
   "outputs": [
    {
     "data": {
      "text/html": [
       "<div>\n",
       "<style scoped>\n",
       "    .dataframe tbody tr th:only-of-type {\n",
       "        vertical-align: middle;\n",
       "    }\n",
       "\n",
       "    .dataframe tbody tr th {\n",
       "        vertical-align: top;\n",
       "    }\n",
       "\n",
       "    .dataframe thead th {\n",
       "        text-align: right;\n",
       "    }\n",
       "</style>\n",
       "<table border=\"1\" class=\"dataframe\">\n",
       "  <thead>\n",
       "    <tr style=\"text-align: right;\">\n",
       "      <th></th>\n",
       "      <th>date</th>\n",
       "      <th>code</th>\n",
       "      <th>open</th>\n",
       "      <th>high</th>\n",
       "      <th>low</th>\n",
       "      <th>close</th>\n",
       "      <th>preclose</th>\n",
       "      <th>volume</th>\n",
       "      <th>amount</th>\n",
       "      <th>adjustflag</th>\n",
       "      <th>turn</th>\n",
       "      <th>tradestatus</th>\n",
       "      <th>pctChg</th>\n",
       "      <th>isST</th>\n",
       "      <th>updownratio</th>\n",
       "    </tr>\n",
       "  </thead>\n",
       "  <tbody>\n",
       "    <tr>\n",
       "      <th>0</th>\n",
       "      <td>2010-01-04</td>\n",
       "      <td>sh.600000</td>\n",
       "      <td>5.984629</td>\n",
       "      <td>5.995595</td>\n",
       "      <td>5.800951</td>\n",
       "      <td>5.809175</td>\n",
       "      <td>5.946248</td>\n",
       "      <td>66191338.0</td>\n",
       "      <td>1.419984e+09</td>\n",
       "      <td>2</td>\n",
       "      <td>0.835129</td>\n",
       "      <td>1</td>\n",
       "      <td>-2.3052</td>\n",
       "      <td>0</td>\n",
       "      <td>-2.931745</td>\n",
       "    </tr>\n",
       "    <tr>\n",
       "      <th>1</th>\n",
       "      <td>2010-01-05</td>\n",
       "      <td>sh.600000</td>\n",
       "      <td>5.869487</td>\n",
       "      <td>5.916092</td>\n",
       "      <td>5.699516</td>\n",
       "      <td>5.853038</td>\n",
       "      <td>5.809175</td>\n",
       "      <td>115147943.0</td>\n",
       "      <td>2.436891e+09</td>\n",
       "      <td>2</td>\n",
       "      <td>1.452808</td>\n",
       "      <td>1</td>\n",
       "      <td>0.7551</td>\n",
       "      <td>0</td>\n",
       "      <td>-0.280243</td>\n",
       "    </tr>\n",
       "    <tr>\n",
       "      <th>2</th>\n",
       "      <td>2010-01-06</td>\n",
       "      <td>sh.600000</td>\n",
       "      <td>5.836590</td>\n",
       "      <td>5.839331</td>\n",
       "      <td>5.724189</td>\n",
       "      <td>5.737897</td>\n",
       "      <td>5.853038</td>\n",
       "      <td>96782575.0</td>\n",
       "      <td>2.034174e+09</td>\n",
       "      <td>2</td>\n",
       "      <td>1.221095</td>\n",
       "      <td>1</td>\n",
       "      <td>-1.9672</td>\n",
       "      <td>0</td>\n",
       "      <td>-1.690935</td>\n",
       "    </tr>\n",
       "    <tr>\n",
       "      <th>3</th>\n",
       "      <td>2010-01-07</td>\n",
       "      <td>sh.600000</td>\n",
       "      <td>5.724189</td>\n",
       "      <td>5.768053</td>\n",
       "      <td>5.565184</td>\n",
       "      <td>5.609048</td>\n",
       "      <td>5.737897</td>\n",
       "      <td>85236072.0</td>\n",
       "      <td>1.761801e+09</td>\n",
       "      <td>2</td>\n",
       "      <td>1.075414</td>\n",
       "      <td>1</td>\n",
       "      <td>-2.2456</td>\n",
       "      <td>0</td>\n",
       "      <td>-2.011494</td>\n",
       "    </tr>\n",
       "    <tr>\n",
       "      <th>4</th>\n",
       "      <td>2010-01-08</td>\n",
       "      <td>sh.600000</td>\n",
       "      <td>5.576150</td>\n",
       "      <td>5.702258</td>\n",
       "      <td>5.565184</td>\n",
       "      <td>5.672101</td>\n",
       "      <td>5.609048</td>\n",
       "      <td>65707646.0</td>\n",
       "      <td>1.349532e+09</td>\n",
       "      <td>2</td>\n",
       "      <td>0.829026</td>\n",
       "      <td>1</td>\n",
       "      <td>1.1241</td>\n",
       "      <td>0</td>\n",
       "      <td>1.720747</td>\n",
       "    </tr>\n",
       "  </tbody>\n",
       "</table>\n",
       "</div>"
      ],
      "text/plain": [
       "        date       code      open      high       low     close  preclose  \\\n",
       "0 2010-01-04  sh.600000  5.984629  5.995595  5.800951  5.809175  5.946248   \n",
       "1 2010-01-05  sh.600000  5.869487  5.916092  5.699516  5.853038  5.809175   \n",
       "2 2010-01-06  sh.600000  5.836590  5.839331  5.724189  5.737897  5.853038   \n",
       "3 2010-01-07  sh.600000  5.724189  5.768053  5.565184  5.609048  5.737897   \n",
       "4 2010-01-08  sh.600000  5.576150  5.702258  5.565184  5.672101  5.609048   \n",
       "\n",
       "        volume        amount  adjustflag      turn  tradestatus  pctChg  isST  \\\n",
       "0   66191338.0  1.419984e+09           2  0.835129            1 -2.3052     0   \n",
       "1  115147943.0  2.436891e+09           2  1.452808            1  0.7551     0   \n",
       "2   96782575.0  2.034174e+09           2  1.221095            1 -1.9672     0   \n",
       "3   85236072.0  1.761801e+09           2  1.075414            1 -2.2456     0   \n",
       "4   65707646.0  1.349532e+09           2  0.829026            1  1.1241     0   \n",
       "\n",
       "   updownratio  \n",
       "0    -2.931745  \n",
       "1    -0.280243  \n",
       "2    -1.690935  \n",
       "3    -2.011494  \n",
       "4     1.720747  "
      ]
     },
     "execution_count": 19,
     "metadata": {},
     "output_type": "execute_result"
    }
   ],
   "source": [
    "dt_all.head()"
   ]
  },
  {
   "cell_type": "code",
   "execution_count": 20,
   "id": "2afcfef6-f097-4ed7-a385-82b83eda5e5d",
   "metadata": {},
   "outputs": [],
   "source": [
    "dt_all['week'] = dt_all['date'].dt.dayofweek+1"
   ]
  },
  {
   "cell_type": "code",
   "execution_count": 36,
   "id": "a2f91bef-0bc2-4763-8a9e-8c36f669c7d8",
   "metadata": {},
   "outputs": [],
   "source": [
    "dt_all['updown'] = dt_all['updownratio'].apply(lambda x : True if x > 0 else False)"
   ]
  },
  {
   "cell_type": "code",
   "execution_count": 51,
   "id": "019a45f9-3e71-410e-a976-03fc2c1a21a0",
   "metadata": {},
   "outputs": [
    {
     "data": {
      "text/plain": [
       "week  updown\n",
       "1     False     822459\n",
       "      True      865870\n",
       "2     False     860966\n",
       "      True      885559\n",
       "3     False     922241\n",
       "      True      841701\n",
       "4     False     971357\n",
       "      True      782816\n",
       "5     False     895887\n",
       "      True      834874\n",
       "Name: updown, dtype: int64"
      ]
     },
     "execution_count": 51,
     "metadata": {},
     "output_type": "execute_result"
    }
   ],
   "source": [
    "tmp = dt_all.groupby(['week','updown'])['updown'].agg('count')\n",
    "tmp"
   ]
  },
  {
   "cell_type": "code",
   "execution_count": 47,
   "id": "fb27c098-352c-46e3-b66c-21b571990c63",
   "metadata": {},
   "outputs": [
    {
     "name": "stdout",
     "output_type": "stream",
     "text": [
      "(1, False)\n",
      "(1, True)\n",
      "(2, False)\n",
      "(2, True)\n",
      "(3, False)\n",
      "(3, True)\n",
      "(4, False)\n",
      "(4, True)\n",
      "(5, False)\n",
      "(5, True)\n"
     ]
    }
   ],
   "source": [
    "tmp2_true = [0] * 5\n",
    "tmp2_false = [0] * 5\n",
    "for i in tmp.index:\n",
    "    print(i)\n",
    "    if i[1] == True:\n",
    "        tmp2_true[i[0]-1] = tmp[i]\n",
    "    else:\n",
    "        tmp2_false[i[0]-1] = tmp[i]"
   ]
  },
  {
   "cell_type": "code",
   "execution_count": 55,
   "id": "9fe216c5-737a-4f61-96d5-b87f11496d47",
   "metadata": {},
   "outputs": [
    {
     "data": {
      "text/plain": [
       "<matplotlib.legend.Legend at 0x20884da0550>"
      ]
     },
     "execution_count": 55,
     "metadata": {},
     "output_type": "execute_result"
    },
    {
     "data": {
      "image/png": "[encoded data removed]",
      "text/plain": [
       "<Figure size 432x288 with 1 Axes>"
      ]
     },
     "metadata": {
      "needs_background": "light"
     },
     "output_type": "display_data"
    }
   ],
   "source": [
    "_x = list(range(1,6,1))\n",
    "plt.plot(_x, tmp2_true,label='up')\n",
    "plt.plot(_x, tmp2_false,label='down')\n",
    "plt.legend()"
   ]
  },
  {
   "cell_type": "code",
   "execution_count": 24,
   "id": "a98f3936-3588-4609-8410-b41b3567b209",
   "metadata": {},
   "outputs": [
    {
     "data": {
      "text/html": [
       "<div>\n",
       "<style scoped>\n",
       "    .dataframe tbody tr th:only-of-type {\n",
       "        vertical-align: middle;\n",
       "    }\n",
       "\n",
       "    .dataframe tbody tr th {\n",
       "        vertical-align: top;\n",
       "    }\n",
       "\n",
       "    .dataframe thead th {\n",
       "        text-align: right;\n",
       "    }\n",
       "</style>\n",
       "<table border=\"1\" class=\"dataframe\">\n",
       "  <thead>\n",
       "    <tr style=\"text-align: right;\">\n",
       "      <th></th>\n",
       "      <th>date</th>\n",
       "      <th>code</th>\n",
       "      <th>open</th>\n",
       "      <th>high</th>\n",
       "      <th>low</th>\n",
       "      <th>close</th>\n",
       "      <th>preclose</th>\n",
       "      <th>volume</th>\n",
       "      <th>amount</th>\n",
       "      <th>adjustflag</th>\n",
       "      <th>turn</th>\n",
       "      <th>tradestatus</th>\n",
       "      <th>pctChg</th>\n",
       "      <th>isST</th>\n",
       "      <th>updownratio</th>\n",
       "      <th>week</th>\n",
       "      <th>updown</th>\n",
       "    </tr>\n",
       "  </thead>\n",
       "  <tbody>\n",
       "    <tr>\n",
       "      <th>0</th>\n",
       "      <td>2010-01-04</td>\n",
       "      <td>sh.600000</td>\n",
       "      <td>5.984629</td>\n",
       "      <td>5.995595</td>\n",
       "      <td>5.800951</td>\n",
       "      <td>5.809175</td>\n",
       "      <td>5.946248</td>\n",
       "      <td>66191338.0</td>\n",
       "      <td>1.419984e+09</td>\n",
       "      <td>2</td>\n",
       "      <td>0.835129</td>\n",
       "      <td>1</td>\n",
       "      <td>-2.3052</td>\n",
       "      <td>0</td>\n",
       "      <td>-2.931745</td>\n",
       "      <td>1</td>\n",
       "      <td>False</td>\n",
       "    </tr>\n",
       "    <tr>\n",
       "      <th>1</th>\n",
       "      <td>2010-01-05</td>\n",
       "      <td>sh.600000</td>\n",
       "      <td>5.869487</td>\n",
       "      <td>5.916092</td>\n",
       "      <td>5.699516</td>\n",
       "      <td>5.853038</td>\n",
       "      <td>5.809175</td>\n",
       "      <td>115147943.0</td>\n",
       "      <td>2.436891e+09</td>\n",
       "      <td>2</td>\n",
       "      <td>1.452808</td>\n",
       "      <td>1</td>\n",
       "      <td>0.7551</td>\n",
       "      <td>0</td>\n",
       "      <td>-0.280243</td>\n",
       "      <td>2</td>\n",
       "      <td>False</td>\n",
       "    </tr>\n",
       "    <tr>\n",
       "      <th>2</th>\n",
       "      <td>2010-01-06</td>\n",
       "      <td>sh.600000</td>\n",
       "      <td>5.836590</td>\n",
       "      <td>5.839331</td>\n",
       "      <td>5.724189</td>\n",
       "      <td>5.737897</td>\n",
       "      <td>5.853038</td>\n",
       "      <td>96782575.0</td>\n",
       "      <td>2.034174e+09</td>\n",
       "      <td>2</td>\n",
       "      <td>1.221095</td>\n",
       "      <td>1</td>\n",
       "      <td>-1.9672</td>\n",
       "      <td>0</td>\n",
       "      <td>-1.690935</td>\n",
       "      <td>3</td>\n",
       "      <td>False</td>\n",
       "    </tr>\n",
       "    <tr>\n",
       "      <th>3</th>\n",
       "      <td>2010-01-07</td>\n",
       "      <td>sh.600000</td>\n",
       "      <td>5.724189</td>\n",
       "      <td>5.768053</td>\n",
       "      <td>5.565184</td>\n",
       "      <td>5.609048</td>\n",
       "      <td>5.737897</td>\n",
       "      <td>85236072.0</td>\n",
       "      <td>1.761801e+09</td>\n",
       "      <td>2</td>\n",
       "      <td>1.075414</td>\n",
       "      <td>1</td>\n",
       "      <td>-2.2456</td>\n",
       "      <td>0</td>\n",
       "      <td>-2.011494</td>\n",
       "      <td>4</td>\n",
       "      <td>False</td>\n",
       "    </tr>\n",
       "    <tr>\n",
       "      <th>4</th>\n",
       "      <td>2010-01-08</td>\n",
       "      <td>sh.600000</td>\n",
       "      <td>5.576150</td>\n",
       "      <td>5.702258</td>\n",
       "      <td>5.565184</td>\n",
       "      <td>5.672101</td>\n",
       "      <td>5.609048</td>\n",
       "      <td>65707646.0</td>\n",
       "      <td>1.349532e+09</td>\n",
       "      <td>2</td>\n",
       "      <td>0.829026</td>\n",
       "      <td>1</td>\n",
       "      <td>1.1241</td>\n",
       "      <td>0</td>\n",
       "      <td>1.720747</td>\n",
       "      <td>5</td>\n",
       "      <td>True</td>\n",
       "    </tr>\n",
       "  </tbody>\n",
       "</table>\n",
       "</div>"
      ],
      "text/plain": [
       "        date       code      open      high       low     close  preclose  \\\n",
       "0 2010-01-04  sh.600000  5.984629  5.995595  5.800951  5.809175  5.946248   \n",
       "1 2010-01-05  sh.600000  5.869487  5.916092  5.699516  5.853038  5.809175   \n",
       "2 2010-01-06  sh.600000  5.836590  5.839331  5.724189  5.737897  5.853038   \n",
       "3 2010-01-07  sh.600000  5.724189  5.768053  5.565184  5.609048  5.737897   \n",
       "4 2010-01-08  sh.600000  5.576150  5.702258  5.565184  5.672101  5.609048   \n",
       "\n",
       "        volume        amount  adjustflag      turn  tradestatus  pctChg  isST  \\\n",
       "0   66191338.0  1.419984e+09           2  0.835129            1 -2.3052     0   \n",
       "1  115147943.0  2.436891e+09           2  1.452808            1  0.7551     0   \n",
       "2   96782575.0  2.034174e+09           2  1.221095            1 -1.9672     0   \n",
       "3   85236072.0  1.761801e+09           2  1.075414            1 -2.2456     0   \n",
       "4   65707646.0  1.349532e+09           2  0.829026            1  1.1241     0   \n",
       "\n",
       "   updownratio  week  updown  \n",
       "0    -2.931745     1   False  \n",
       "1    -0.280243     2   False  \n",
       "2    -1.690935     3   False  \n",
       "3    -2.011494     4   False  \n",
       "4     1.720747     5    True  "
      ]
     },
     "execution_count": 24,
     "metadata": {},
     "output_type": "execute_result"
    }
   ],
   "source": [
    "dt_all.head()"
   ]
  },
  {
   "cell_type": "code",
   "execution_count": 30,
   "id": "d3318197-62d0-48d4-8c6e-1df0ccc003ee",
   "metadata": {},
   "outputs": [
    {
     "data": {
      "text/html": [
       "<div>\n",
       "<style scoped>\n",
       "    .dataframe tbody tr th:only-of-type {\n",
       "        vertical-align: middle;\n",
       "    }\n",
       "\n",
       "    .dataframe tbody tr th {\n",
       "        vertical-align: top;\n",
       "    }\n",
       "\n",
       "    .dataframe thead th {\n",
       "        text-align: right;\n",
       "    }\n",
       "</style>\n",
       "<table border=\"1\" class=\"dataframe\">\n",
       "  <thead>\n",
       "    <tr style=\"text-align: right;\">\n",
       "      <th></th>\n",
       "      <th>date</th>\n",
       "      <th>code</th>\n",
       "      <th>open</th>\n",
       "      <th>high</th>\n",
       "      <th>low</th>\n",
       "      <th>close</th>\n",
       "      <th>preclose</th>\n",
       "      <th>volume</th>\n",
       "      <th>amount</th>\n",
       "      <th>adjustflag</th>\n",
       "      <th>turn</th>\n",
       "      <th>tradestatus</th>\n",
       "      <th>pctChg</th>\n",
       "      <th>isST</th>\n",
       "      <th>updownratio</th>\n",
       "      <th>week</th>\n",
       "      <th>updown</th>\n",
       "    </tr>\n",
       "  </thead>\n",
       "  <tbody>\n",
       "    <tr>\n",
       "      <th>4</th>\n",
       "      <td>2010-01-08</td>\n",
       "      <td>sh.600000</td>\n",
       "      <td>5.576150</td>\n",
       "      <td>5.702258</td>\n",
       "      <td>5.565184</td>\n",
       "      <td>5.672101</td>\n",
       "      <td>5.609048</td>\n",
       "      <td>65707646.0</td>\n",
       "      <td>1.349532e+09</td>\n",
       "      <td>2</td>\n",
       "      <td>0.829026</td>\n",
       "      <td>1</td>\n",
       "      <td>1.1241</td>\n",
       "      <td>0</td>\n",
       "      <td>1.720747</td>\n",
       "      <td>5</td>\n",
       "      <td>True</td>\n",
       "    </tr>\n",
       "    <tr>\n",
       "      <th>6</th>\n",
       "      <td>2010-01-12</td>\n",
       "      <td>sh.600000</td>\n",
       "      <td>5.655653</td>\n",
       "      <td>5.748863</td>\n",
       "      <td>5.554218</td>\n",
       "      <td>5.702258</td>\n",
       "      <td>5.672101</td>\n",
       "      <td>82351139.0</td>\n",
       "      <td>1.691920e+09</td>\n",
       "      <td>2</td>\n",
       "      <td>1.039015</td>\n",
       "      <td>1</td>\n",
       "      <td>0.5317</td>\n",
       "      <td>0</td>\n",
       "      <td>0.824043</td>\n",
       "      <td>2</td>\n",
       "      <td>True</td>\n",
       "    </tr>\n",
       "    <tr>\n",
       "      <th>8</th>\n",
       "      <td>2010-01-14</td>\n",
       "      <td>sh.600000</td>\n",
       "      <td>5.447301</td>\n",
       "      <td>5.488423</td>\n",
       "      <td>5.384247</td>\n",
       "      <td>5.474716</td>\n",
       "      <td>5.436335</td>\n",
       "      <td>77340771.0</td>\n",
       "      <td>1.535655e+09</td>\n",
       "      <td>2</td>\n",
       "      <td>0.975800</td>\n",
       "      <td>1</td>\n",
       "      <td>0.7060</td>\n",
       "      <td>0</td>\n",
       "      <td>0.503271</td>\n",
       "      <td>4</td>\n",
       "      <td>True</td>\n",
       "    </tr>\n",
       "    <tr>\n",
       "      <th>9</th>\n",
       "      <td>2010-01-15</td>\n",
       "      <td>sh.600000</td>\n",
       "      <td>5.488423</td>\n",
       "      <td>5.551477</td>\n",
       "      <td>5.406179</td>\n",
       "      <td>5.493906</td>\n",
       "      <td>5.474716</td>\n",
       "      <td>69183668.0</td>\n",
       "      <td>1.384565e+09</td>\n",
       "      <td>2</td>\n",
       "      <td>0.872882</td>\n",
       "      <td>1</td>\n",
       "      <td>0.3505</td>\n",
       "      <td>0</td>\n",
       "      <td>0.099900</td>\n",
       "      <td>5</td>\n",
       "      <td>True</td>\n",
       "    </tr>\n",
       "    <tr>\n",
       "      <th>10</th>\n",
       "      <td>2010-01-18</td>\n",
       "      <td>sh.600000</td>\n",
       "      <td>5.458267</td>\n",
       "      <td>5.562443</td>\n",
       "      <td>5.447301</td>\n",
       "      <td>5.548735</td>\n",
       "      <td>5.493906</td>\n",
       "      <td>69940218.0</td>\n",
       "      <td>1.408343e+09</td>\n",
       "      <td>2</td>\n",
       "      <td>0.882428</td>\n",
       "      <td>1</td>\n",
       "      <td>0.9980</td>\n",
       "      <td>0</td>\n",
       "      <td>1.657459</td>\n",
       "      <td>1</td>\n",
       "      <td>True</td>\n",
       "    </tr>\n",
       "    <tr>\n",
       "      <th>...</th>\n",
       "      <td>...</td>\n",
       "      <td>...</td>\n",
       "      <td>...</td>\n",
       "      <td>...</td>\n",
       "      <td>...</td>\n",
       "      <td>...</td>\n",
       "      <td>...</td>\n",
       "      <td>...</td>\n",
       "      <td>...</td>\n",
       "      <td>...</td>\n",
       "      <td>...</td>\n",
       "      <td>...</td>\n",
       "      <td>...</td>\n",
       "      <td>...</td>\n",
       "      <td>...</td>\n",
       "      <td>...</td>\n",
       "      <td>...</td>\n",
       "    </tr>\n",
       "    <tr>\n",
       "      <th>18</th>\n",
       "      <td>2021-12-07</td>\n",
       "      <td>sz.301188</td>\n",
       "      <td>25.740000</td>\n",
       "      <td>26.520000</td>\n",
       "      <td>25.380000</td>\n",
       "      <td>26.260000</td>\n",
       "      <td>25.580000</td>\n",
       "      <td>8716984.0</td>\n",
       "      <td>2.269681e+08</td>\n",
       "      <td>2</td>\n",
       "      <td>19.037500</td>\n",
       "      <td>1</td>\n",
       "      <td>2.6583</td>\n",
       "      <td>0</td>\n",
       "      <td>2.020202</td>\n",
       "      <td>2</td>\n",
       "      <td>True</td>\n",
       "    </tr>\n",
       "    <tr>\n",
       "      <th>23</th>\n",
       "      <td>2021-12-14</td>\n",
       "      <td>sz.301188</td>\n",
       "      <td>26.000000</td>\n",
       "      <td>26.630000</td>\n",
       "      <td>25.820000</td>\n",
       "      <td>26.450000</td>\n",
       "      <td>25.920000</td>\n",
       "      <td>6624993.0</td>\n",
       "      <td>1.743299e+08</td>\n",
       "      <td>2</td>\n",
       "      <td>14.468700</td>\n",
       "      <td>1</td>\n",
       "      <td>2.0448</td>\n",
       "      <td>0</td>\n",
       "      <td>1.730769</td>\n",
       "      <td>2</td>\n",
       "      <td>True</td>\n",
       "    </tr>\n",
       "    <tr>\n",
       "      <th>24</th>\n",
       "      <td>2021-12-15</td>\n",
       "      <td>sz.301188</td>\n",
       "      <td>26.300000</td>\n",
       "      <td>27.580000</td>\n",
       "      <td>26.260000</td>\n",
       "      <td>27.270000</td>\n",
       "      <td>26.450000</td>\n",
       "      <td>10101720.0</td>\n",
       "      <td>2.728774e+08</td>\n",
       "      <td>2</td>\n",
       "      <td>22.061700</td>\n",
       "      <td>1</td>\n",
       "      <td>3.1002</td>\n",
       "      <td>0</td>\n",
       "      <td>3.688213</td>\n",
       "      <td>3</td>\n",
       "      <td>True</td>\n",
       "    </tr>\n",
       "    <tr>\n",
       "      <th>27</th>\n",
       "      <td>2021-12-20</td>\n",
       "      <td>sz.301188</td>\n",
       "      <td>25.580000</td>\n",
       "      <td>26.150000</td>\n",
       "      <td>25.550000</td>\n",
       "      <td>25.650000</td>\n",
       "      <td>25.860000</td>\n",
       "      <td>3571318.0</td>\n",
       "      <td>9.232759e+07</td>\n",
       "      <td>2</td>\n",
       "      <td>7.799600</td>\n",
       "      <td>1</td>\n",
       "      <td>-0.8121</td>\n",
       "      <td>0</td>\n",
       "      <td>0.273651</td>\n",
       "      <td>1</td>\n",
       "      <td>True</td>\n",
       "    </tr>\n",
       "    <tr>\n",
       "      <th>28</th>\n",
       "      <td>2021-12-21</td>\n",
       "      <td>sz.301188</td>\n",
       "      <td>25.480000</td>\n",
       "      <td>25.830000</td>\n",
       "      <td>25.020000</td>\n",
       "      <td>25.830000</td>\n",
       "      <td>25.650000</td>\n",
       "      <td>4042514.0</td>\n",
       "      <td>1.030658e+08</td>\n",
       "      <td>2</td>\n",
       "      <td>8.828600</td>\n",
       "      <td>1</td>\n",
       "      <td>0.7018</td>\n",
       "      <td>0</td>\n",
       "      <td>1.373626</td>\n",
       "      <td>2</td>\n",
       "      <td>True</td>\n",
       "    </tr>\n",
       "  </tbody>\n",
       "</table>\n",
       "<p>4883651 rows × 17 columns</p>\n",
       "</div>"
      ],
      "text/plain": [
       "         date       code       open       high        low      close  \\\n",
       "4  2010-01-08  sh.600000   5.576150   5.702258   5.565184   5.672101   \n",
       "6  2010-01-12  sh.600000   5.655653   5.748863   5.554218   5.702258   \n",
       "8  2010-01-14  sh.600000   5.447301   5.488423   5.384247   5.474716   \n",
       "9  2010-01-15  sh.600000   5.488423   5.551477   5.406179   5.493906   \n",
       "10 2010-01-18  sh.600000   5.458267   5.562443   5.447301   5.548735   \n",
       "..        ...        ...        ...        ...        ...        ...   \n",
       "18 2021-12-07  sz.301188  25.740000  26.520000  25.380000  26.260000   \n",
       "23 2021-12-14  sz.301188  26.000000  26.630000  25.820000  26.450000   \n",
       "24 2021-12-15  sz.301188  26.300000  27.580000  26.260000  27.270000   \n",
       "27 2021-12-20  sz.301188  25.580000  26.150000  25.550000  25.650000   \n",
       "28 2021-12-21  sz.301188  25.480000  25.830000  25.020000  25.830000   \n",
       "\n",
       "     preclose      volume        amount  adjustflag       turn  tradestatus  \\\n",
       "4    5.609048  65707646.0  1.349532e+09           2   0.829026            1   \n",
       "6    5.672101  82351139.0  1.691920e+09           2   1.039015            1   \n",
       "8    5.436335  77340771.0  1.535655e+09           2   0.975800            1   \n",
       "9    5.474716  69183668.0  1.384565e+09           2   0.872882            1   \n",
       "10   5.493906  69940218.0  1.408343e+09           2   0.882428            1   \n",
       "..        ...         ...           ...         ...        ...          ...   \n",
       "18  25.580000   8716984.0  2.269681e+08           2  19.037500            1   \n",
       "23  25.920000   6624993.0  1.743299e+08           2  14.468700            1   \n",
       "24  26.450000  10101720.0  2.728774e+08           2  22.061700            1   \n",
       "27  25.860000   3571318.0  9.232759e+07           2   7.799600            1   \n",
       "28  25.650000   4042514.0  1.030658e+08           2   8.828600            1   \n",
       "\n",
       "    pctChg  isST  updownratio  week  updown  \n",
       "4   1.1241     0     1.720747     5    True  \n",
       "6   0.5317     0     0.824043     2    True  \n",
       "8   0.7060     0     0.503271     4    True  \n",
       "9   0.3505     0     0.099900     5    True  \n",
       "10  0.9980     0     1.657459     1    True  \n",
       "..     ...   ...          ...   ...     ...  \n",
       "18  2.6583     0     2.020202     2    True  \n",
       "23  2.0448     0     1.730769     2    True  \n",
       "24  3.1002     0     3.688213     3    True  \n",
       "27 -0.8121     0     0.273651     1    True  \n",
       "28  0.7018     0     1.373626     2    True  \n",
       "\n",
       "[4883651 rows x 17 columns]"
      ]
     },
     "execution_count": 30,
     "metadata": {},
     "output_type": "execute_result"
    }
   ],
   "source": [
    "dt_all[dt_all['updown'] == True]"
   ]
  },
  {
   "cell_type": "code",
   "execution_count": null,
   "id": "00c7a9bd-01e4-4ccc-99c8-47e1d949cec2",
   "metadata": {},
   "outputs": [],
   "source": []
  }
 ],
 "metadata": {
  "kernelspec": {
   "display_name": "Python 3 (ipykernel)",
   "language": "python",
   "name": "python3"
  },
  "language_info": {
   "codemirror_mode": {
    "name": "ipython",
    "version": 3
   },
   "file_extension": ".py",
   "mimetype": "text/x-python",
   "name": "python",
   "nbconvert_exporter": "python",
   "pygments_lexer": "ipython3",
   "version": "3.9.12"
  }
 },
 "nbformat": 4,
 "nbformat_minor": 5
}
