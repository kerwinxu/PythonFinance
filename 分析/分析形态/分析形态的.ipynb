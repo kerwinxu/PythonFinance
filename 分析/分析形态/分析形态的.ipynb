{
 "cells": [
  {
   "cell_type": "code",
   "execution_count": 1,
   "id": "65f8cb89-5b19-490d-96f1-d3807d010f81",
   "metadata": {},
   "outputs": [],
   "source": [
    "import pandas as pd\n",
    "import numpy as np\n",
    "import talib\n",
    "# import tqdm\n",
    "from tqdm.notebook import tqdm\n",
    "\n",
    "%matplotlib notebook\n",
    "import matplotlib.pyplot as plt\n",
    "plt.rcParams['figure.figsize'] = (15.0, 8.0) # 单位是inches"
   ]
  },
  {
   "cell_type": "markdown",
   "id": "820d5d27-1e68-4e62-a14a-2234838c1180",
   "metadata": {},
   "source": [
    "# 首先导入数据"
   ]
  },
  {
   "cell_type": "code",
   "execution_count": 2,
   "id": "d22eba50-2721-451b-a00e-bdb3de5ee965",
   "metadata": {},
   "outputs": [],
   "source": [
    "data = pd.read_csv(\"../../数据获取/聚宽数据/最新数据.csv\")\n",
    "data=data.set_index(['Unnamed: 0', 'Unnamed: 1'])"
   ]
  },
  {
   "cell_type": "code",
   "execution_count": 3,
   "id": "1dff778f-92ce-4000-94ae-91205cb6ff16",
   "metadata": {},
   "outputs": [
    {
     "data": {
      "text/html": [
       "<div>\n",
       "<style scoped>\n",
       "    .dataframe tbody tr th:only-of-type {\n",
       "        vertical-align: middle;\n",
       "    }\n",
       "\n",
       "    .dataframe tbody tr th {\n",
       "        vertical-align: top;\n",
       "    }\n",
       "\n",
       "    .dataframe thead th {\n",
       "        text-align: right;\n",
       "    }\n",
       "</style>\n",
       "<table border=\"1\" class=\"dataframe\">\n",
       "  <thead>\n",
       "    <tr style=\"text-align: right;\">\n",
       "      <th></th>\n",
       "      <th></th>\n",
       "      <th>date</th>\n",
       "      <th>open</th>\n",
       "      <th>high</th>\n",
       "      <th>low</th>\n",
       "      <th>close</th>\n",
       "    </tr>\n",
       "    <tr>\n",
       "      <th>Unnamed: 0</th>\n",
       "      <th>Unnamed: 1</th>\n",
       "      <th></th>\n",
       "      <th></th>\n",
       "      <th></th>\n",
       "      <th></th>\n",
       "      <th></th>\n",
       "    </tr>\n",
       "  </thead>\n",
       "  <tbody>\n",
       "    <tr>\n",
       "      <th rowspan=\"5\" valign=\"top\">000001.XSHE</th>\n",
       "      <th>0</th>\n",
       "      <td>2020-11-17</td>\n",
       "      <td>17.24</td>\n",
       "      <td>17.79</td>\n",
       "      <td>17.12</td>\n",
       "      <td>17.69</td>\n",
       "    </tr>\n",
       "    <tr>\n",
       "      <th>1</th>\n",
       "      <td>2020-11-18</td>\n",
       "      <td>17.64</td>\n",
       "      <td>18.36</td>\n",
       "      <td>17.61</td>\n",
       "      <td>18.32</td>\n",
       "    </tr>\n",
       "    <tr>\n",
       "      <th>2</th>\n",
       "      <td>2020-11-19</td>\n",
       "      <td>18.44</td>\n",
       "      <td>18.83</td>\n",
       "      <td>18.16</td>\n",
       "      <td>18.70</td>\n",
       "    </tr>\n",
       "    <tr>\n",
       "      <th>3</th>\n",
       "      <td>2020-11-20</td>\n",
       "      <td>18.68</td>\n",
       "      <td>18.84</td>\n",
       "      <td>18.38</td>\n",
       "      <td>18.71</td>\n",
       "    </tr>\n",
       "    <tr>\n",
       "      <th>4</th>\n",
       "      <td>2020-11-23</td>\n",
       "      <td>18.70</td>\n",
       "      <td>19.47</td>\n",
       "      <td>18.65</td>\n",
       "      <td>19.47</td>\n",
       "    </tr>\n",
       "  </tbody>\n",
       "</table>\n",
       "</div>"
      ],
      "text/plain": [
       "                              date   open   high    low  close\n",
       "Unnamed: 0  Unnamed: 1                                        \n",
       "000001.XSHE 0           2020-11-17  17.24  17.79  17.12  17.69\n",
       "            1           2020-11-18  17.64  18.36  17.61  18.32\n",
       "            2           2020-11-19  18.44  18.83  18.16  18.70\n",
       "            3           2020-11-20  18.68  18.84  18.38  18.71\n",
       "            4           2020-11-23  18.70  19.47  18.65  19.47"
      ]
     },
     "execution_count": 3,
     "metadata": {},
     "output_type": "execute_result"
    }
   ],
   "source": [
    "data.head()"
   ]
  },
  {
   "cell_type": "markdown",
   "id": "63502272-04f0-4a42-b977-3d3be06288a0",
   "metadata": {},
   "source": [
    "# 接下来是统计"
   ]
  },
  {
   "cell_type": "code",
   "execution_count": 4,
   "id": "449841a3-feac-4ec5-8b7d-d15eedb6e192",
   "metadata": {},
   "outputs": [],
   "source": [
    "# 先做一下一个的项目的\n",
    "data_one = data.loc[data.index.levels[0][0]].copy()"
   ]
  },
  {
   "cell_type": "code",
   "execution_count": 5,
   "id": "1a89a2bf-623e-41a2-b391-a302597e4689",
   "metadata": {},
   "outputs": [
    {
     "data": {
      "text/plain": [
       "'0,0,0,0,0,0,0,0,0,0,0,0,0,0,0,0,0,0,0,0,0,0,100,0,100,0,100,0,0,0,0,0,0,0,0,0,0,100,0,0,0,0,100,0,0,0,0,0,0,100,0,100,0,0,100,0,0,0,100,0,0,0,100,0,0,100,0,0,100,100,0,0,0,0,0,0,0,0,0,100,0,0,0,0,0,0,0,0,0,0,0,0,0,0,0,0,0,0,0,0,0,0,0,0,0,0,100,0,100,100,0,100,0,0,0,0,0,0,0,0,100,0,0,0,100,0,0,0,0,0,0,100,100,0,0,0,0,0,0,0,100,0,0,0,0,0,100,0,0,0,0,0,0,0,0,0,0,100,0,100,0,0,100,0,0,0,100,0,0,0,0,100,0,0,0,0,100,0,0,0,0,0,0,0,0,0,0,0,0,100,0,0,0,0,100,0,0,0,0,0,100,0,0,0,0,0,0,0,0,0,0,0,0,0,0,0,0,100,0,0,0,0,0,0,0,0,0,100,0,0,0,100,0,100,0,0,0,100,0,0,100,0,0,100,0,0,0,0,0,0,100,0,0,0,100,100,0,0,100,0,0,0,0,100,0,0,100,0,0,0,100,0,0,0,0,0,0,0,100,0,0,0,0,0,0,0,0,100,0,0,0,0,0,0,0,0,0,0,0,0,0,0,0,100,0,0,0,0,0,0,0,0,0,100,0,0,0,0,0,0,0,0,0,0,0,0,0,0,0,0,100,0,0,0,0,0,0,0,0,0,0,100,0,0,0,100,100,0,0,0,0,0,0,0,0,0,0,0,0,0,0,0,0,0,0'"
      ]
     },
     "execution_count": 5,
     "metadata": {},
     "output_type": "execute_result"
    }
   ],
   "source": [
    "','.join([str(i) for i in list(talib.CDLDOJI(data_one['open'], data_one['high'], data_one['low'], data_one['close']))])"
   ]
  },
  {
   "cell_type": "code",
   "execution_count": null,
   "id": "4933a814-43de-4014-ae40-018042fb093a",
   "metadata": {},
   "outputs": [],
   "source": []
  },
  {
   "cell_type": "code",
   "execution_count": 7,
   "id": "68152d93-371b-462e-a907-0d672d2b6e5c",
   "metadata": {},
   "outputs": [
    {
     "data": {
      "application/vnd.jupyter.widget-view+json": {
       "model_id": "74e50ec9278b4104a6879b88e1c8722a",
       "version_major": 2,
       "version_minor": 0
      },
      "text/plain": [
       "  0%|          | 0/4106 [00:00<?, ?it/s]"
      ]
     },
     "metadata": {},
     "output_type": "display_data"
    }
   ],
   "source": [
    "dict_xingtai = {\n",
    "    'CDL2CROWS':talib.CDL2CROWS,\n",
    "    'CDL3BLACKCROWS':talib.CDL3BLACKCROWS,\n",
    "    'CDL3INSIDE':talib.CDL3INSIDE,\n",
    "    'CDL3LINESTRIKE':talib.CDL3LINESTRIKE,\n",
    "    'CDL3OUTSIDE':talib.CDL3OUTSIDE,\n",
    "    'CDL3STARSINSOUTH':talib.CDL3STARSINSOUTH,\n",
    "    'CDL3WHITESOLDIERS':talib.CDL3WHITESOLDIERS,\n",
    "    'CDLABANDONEDBABY':talib.CDLABANDONEDBABY,\n",
    "    'CDLADVANCEBLOCK':talib.CDLADVANCEBLOCK,\n",
    "    'CDLBELTHOLD':talib.CDLBELTHOLD,\n",
    "    'CDLBREAKAWAY':talib.CDLBREAKAWAY,\n",
    "    'CDLCLOSINGMARUBOZU':talib.CDLCLOSINGMARUBOZU,\n",
    "    'CDLCONCEALBABYSWALL':talib.CDLCONCEALBABYSWALL,\n",
    "    'CDLCOUNTERATTACK':talib.CDLCOUNTERATTACK,\n",
    "    'CDLDARKCLOUDCOVER':talib.CDLDARKCLOUDCOVER,\n",
    "    'CDLDOJI':talib.CDLDOJI,\n",
    "    'CDLDOJISTAR':talib.CDLDOJISTAR,\n",
    "    'CDLDRAGONFLYDOJI':talib.CDLDRAGONFLYDOJI,\n",
    "    'CDLENGULFING':talib.CDLENGULFING,\n",
    "    'CDLEVENINGDOJISTAR':talib.CDLEVENINGDOJISTAR,\n",
    "    'CDLEVENINGSTAR':talib.CDLEVENINGSTAR,\n",
    "    'CDLGAPSIDESIDEWHITE':talib.CDLGAPSIDESIDEWHITE,\n",
    "    'CDLGRAVESTONEDOJI':talib.CDLGRAVESTONEDOJI,\n",
    "    'CDLHAMMER':talib.CDLHAMMER,\n",
    "    'CDLHANGINGMAN':talib.CDLHANGINGMAN,\n",
    "    'CDLHARAMI':talib.CDLHARAMI,\n",
    "    'CDLHARAMICROSS':talib.CDLHARAMICROSS,\n",
    "    'CDLHIGHWAVE':talib.CDLHIGHWAVE,\n",
    "    'CDLHIKKAKE':talib.CDLHIKKAKE,\n",
    "    'CDLHIKKAKEMOD':talib.CDLHIKKAKEMOD,\n",
    "    'CDLHOMINGPIGEON':talib.CDLHOMINGPIGEON,\n",
    "    'CDLIDENTICAL3CROWS':talib.CDLIDENTICAL3CROWS,\n",
    "    'CDLINNECK':talib.CDLINNECK,\n",
    "    'CDLINVERTEDHAMMER':talib.CDLINVERTEDHAMMER,\n",
    "    'CDLKICKING':talib.CDLKICKING,\n",
    "    'CDLKICKINGBYLENGTH':talib.CDLKICKINGBYLENGTH,\n",
    "    'CDLLADDERBOTTOM':talib.CDLLADDERBOTTOM,\n",
    "    'CDLLONGLEGGEDDOJI':talib.CDLLONGLEGGEDDOJI,\n",
    "    'CDLLONGLINE':talib.CDLLONGLINE,\n",
    "    'CDLMARUBOZU':talib.CDLMARUBOZU,\n",
    "    'CDLMATCHINGLOW':talib.CDLMATCHINGLOW,\n",
    "    'CDLMATHOLD':talib.CDLMATHOLD,\n",
    "    'CDLMORNINGDOJISTAR':talib.CDLMORNINGDOJISTAR,\n",
    "    'CDLMORNINGSTAR':talib.CDLMORNINGSTAR,\n",
    "    'CDLONNECK':talib.CDLONNECK,\n",
    "    'CDLPIERCING':talib.CDLPIERCING,\n",
    "    'CDLRICKSHAWMAN':talib.CDLRICKSHAWMAN,\n",
    "    'CDLRISEFALL3METHODS':talib.CDLRISEFALL3METHODS,\n",
    "    'CDLSEPARATINGLINES':talib.CDLSEPARATINGLINES,\n",
    "    'CDLSHOOTINGSTAR':talib.CDLSHOOTINGSTAR,\n",
    "    'CDLSHORTLINE':talib.CDLSHORTLINE,\n",
    "    'CDLSPINNINGTOP':talib.CDLSPINNINGTOP,\n",
    "    'CDLSTALLEDPATTERN':talib.CDLSTALLEDPATTERN,\n",
    "    'CDLSTICKSANDWICH':talib.CDLSTICKSANDWICH,\n",
    "    'CDLTAKURI':talib.CDLTAKURI,\n",
    "    'CDLTASUKIGAP':talib.CDLTASUKIGAP,\n",
    "    'CDLTHRUSTING':talib.CDLTHRUSTING,\n",
    "    'CDLTRISTAR':talib.CDLTRISTAR,\n",
    "    'CDLUNIQUE3RIVER':talib.CDLUNIQUE3RIVER,\n",
    "    'CDLUPSIDEGAP2CROWS':talib.CDLUPSIDEGAP2CROWS,\n",
    "    'CDLXSIDEGAP3METHODS':talib.CDLXSIDEGAP3METHODS\n",
    "    \n",
    "}\n",
    "\n",
    "dict_result = {key:[] for key in dict_xingtai} # 我这里只是判断形态后一天的行情情况。\n",
    "dict_result_3 = {key:[] for key in dict_xingtai}  # 这个是3天内收盘价的比例情况\n",
    "\n",
    "with tqdm(range(len(data.index.levels[0]))) as bar:\n",
    "    # 最外层的是进度条。\n",
    "    for i in data.index.levels[0]:\n",
    "        data_one = data.loc[i].copy() # 这个是每一个股票的数据\n",
    "        # 如下是要先判断所有的形态\n",
    "        for key in dict_xingtai:\n",
    "            data_one.insert(\n",
    "                loc=len(data_one.columns),\n",
    "                column=key,\n",
    "                value=dict_xingtai[key](data_one['open'], data_one['high'], data_one['low'], data_one['close'])\n",
    "            )\n",
    "            # data_one.loc[:, key] = dict_xingtai[key](data_one['open'], data_one['high'], data_one['low'], data_one['close'])\n",
    "        \n",
    "        # 然后我要对所有的结果进行遍历\n",
    "        # 我要每一行进行遍历，查看是否为1.\n",
    "        # 因为index本身就是序号，所以这里用loc\n",
    "        for j in  data_one.index:\n",
    "            # 这个j是递增的\n",
    "            for k in dict_xingtai:\n",
    "                # 这个是dict_xingtai的key\n",
    "                if data_one.loc[j,k] != 0 and j < len(data_one.index)-3:\n",
    "                    dict_result[k].append(\n",
    "                        ((data_one.loc[j+1,'close'] - data_one.loc[j+1,'open'])/ data_one.loc[j+1,'open']) * 100\n",
    "                    )\n",
    "                    dict_result_3[k].append(\n",
    "                        ((data_one.loc[j+3,'close'] - data_one.loc[j+1,'close'])/ data_one.loc[j+1,'close']) * 100\n",
    "                    )\n",
    "        \n",
    "        bar.update(1)"
   ]
  },
  {
   "cell_type": "markdown",
   "id": "cc9c451d-b7b1-40ba-a6bf-4e198322ad93",
   "metadata": {},
   "source": [
    "# 这里保存"
   ]
  },
  {
   "cell_type": "code",
   "execution_count": 13,
   "id": "173fa2f3-9037-475a-81d3-e77279e5394e",
   "metadata": {},
   "outputs": [],
   "source": [
    "import json\n",
    "with open('形态统计.json','w') as f:\n",
    "    f.write(json.dumps(dict_result))"
   ]
  },
  {
   "cell_type": "markdown",
   "id": "e5d07043-c5c7-4de4-a308-d2056413a491",
   "metadata": {},
   "source": [
    "# 这里是读取"
   ]
  },
  {
   "cell_type": "code",
   "execution_count": 14,
   "id": "b8bc3bf5-8572-40c8-b3b3-a97717755c9d",
   "metadata": {},
   "outputs": [],
   "source": [
    "import json"
   ]
  },
  {
   "cell_type": "markdown",
   "id": "02e73d60-df34-408b-936b-dcebe63c868a",
   "metadata": {},
   "source": [
    "# 查看一下是什么情况"
   ]
  },
  {
   "cell_type": "markdown",
   "id": "1f756dd7-5acd-4ab2-b2c4-ea9ad8bda9b1",
   "metadata": {},
   "source": [
    "我要看看平均值，胜率之类的。"
   ]
  },
  {
   "cell_type": "code",
   "execution_count": 15,
   "id": "6ee6e5c5-761a-483f-8510-96ad69245b09",
   "metadata": {},
   "outputs": [],
   "source": [
    "# 我打算第一个结果是平均值\n",
    "# 第二个是胜率，第三个是上涨下跌的均值\n",
    "lst_tongji = [] # 一个列表\n",
    "for key in dict_xingtai:\n",
    "    value = dict_result[key] # 这个是取得值\n",
    "    value_up = [i for i in value if i > 0]\n",
    "    value_down = [i for i in value if i < 0]\n",
    "    lst_tongji.append(\n",
    "        [\n",
    "            key,                                                         # 名称\n",
    "            len(value),                                                  # 次数\n",
    "            sum(value)/len(value),                                       # 均值\n",
    "            len(value_up)/len(value)*100,                                # 上涨概率\n",
    "            sum(value_up)/len(value_up) if len(value_up)>0 else 0,       # 上涨均值\n",
    "            len(value_down)/len(value)*100,                                  # 下跌概率\n",
    "            sum(value_down)/len(value_down) if len(value_down) > 0 else 0 # 下跌均值\n",
    "            \n",
    "        ]\n",
    "    )\n",
    "\n",
    "df = pd.DataFrame(\n",
    "    lst_tongji,\n",
    "    columns=['形态', '次数', '均值', '上涨概率', '上涨均值', '下跌概率', '下跌均值']\n",
    ")"
   ]
  },
  {
   "cell_type": "code",
   "execution_count": 16,
   "id": "51574cb8-abf8-4b60-a837-3cc1cb66e6f7",
   "metadata": {},
   "outputs": [],
   "source": [
    "df.to_excel('形态结果.xlsx')"
   ]
  },
  {
   "cell_type": "code",
   "execution_count": 17,
   "id": "3af3c5cf-2745-43e3-aa0d-910146f1a587",
   "metadata": {},
   "outputs": [],
   "source": [
    "lst_tongji_3 = [] # 一个列表\n",
    "for key in dict_xingtai:\n",
    "    value = dict_result_3[key] # 这个是取得值\n",
    "    value_up = [i for i in value if i > 0]\n",
    "    value_down = [i for i in value if i < 0]\n",
    "    lst_tongji_3.append(\n",
    "        [\n",
    "            key,                                                         # 名称\n",
    "            len(value),                                                  # 次数\n",
    "            sum(value)/len(value),                                       # 均值\n",
    "            len(value_up)/len(value)*100,                                # 上涨概率\n",
    "            sum(value_up)/len(value_up) if len(value_up)>0 else 0,       # 上涨均值\n",
    "            len(value_down)/len(value)*100,                                  # 下跌概率\n",
    "            sum(value_down)/len(value_down) if len(value_down) > 0 else 0 # 下跌均值\n",
    "            \n",
    "        ]\n",
    "    )\n",
    "\n",
    "df3 = pd.DataFrame(\n",
    "    lst_tongji_3,\n",
    "    columns=['形态', '次数', '均值', '上涨概率', '上涨均值', '下跌概率', '下跌均值']\n",
    ")\n",
    "df3.to_excel('形态结果3.xlsx')"
   ]
  },
  {
   "cell_type": "code",
   "execution_count": null,
   "id": "206947a4-2fd5-4c8a-8709-c931917f76ca",
   "metadata": {},
   "outputs": [],
   "source": []
  }
 ],
 "metadata": {
  "kernelspec": {
   "display_name": "Python [conda env:root]",
   "language": "python",
   "name": "conda-root-py"
  },
  "language_info": {
   "codemirror_mode": {
    "name": "ipython",
    "version": 3
   },
   "file_extension": ".py",
   "mimetype": "text/x-python",
   "name": "python",
   "nbconvert_exporter": "python",
   "pygments_lexer": "ipython3",
   "version": "3.8.12"
  }
 },
 "nbformat": 4,
 "nbformat_minor": 5
}
