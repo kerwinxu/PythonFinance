{
 "cells": [
  {
   "cell_type": "code",
   "execution_count": 1,
   "id": "457c6b76-1546-4163-bc6f-cf15fd36d641",
   "metadata": {},
   "outputs": [],
   "source": [
    "import pandas as pd\n",
    "import numpy as np\n",
    "import matplotlib\n",
    "# matplotlib.use('agg')\n",
    "import matplotlib.pyplot as plt\n",
    "%matplotlib inline\n",
    "import os\n",
    "from tqdm import tqdm\n",
    "import talib"
   ]
  },
  {
   "cell_type": "code",
   "execution_count": 2,
   "id": "c4217895-b1ee-4e2a-8605-cca33e434baf",
   "metadata": {},
   "outputs": [
    {
     "data": {
      "text/html": [
       "<div>\n",
       "<style scoped>\n",
       "    .dataframe tbody tr th:only-of-type {\n",
       "        vertical-align: middle;\n",
       "    }\n",
       "\n",
       "    .dataframe tbody tr th {\n",
       "        vertical-align: top;\n",
       "    }\n",
       "\n",
       "    .dataframe thead th {\n",
       "        text-align: right;\n",
       "    }\n",
       "</style>\n",
       "<table border=\"1\" class=\"dataframe\">\n",
       "  <thead>\n",
       "    <tr style=\"text-align: right;\">\n",
       "      <th></th>\n",
       "      <th>id</th>\n",
       "      <th>i</th>\n",
       "      <th>Date</th>\n",
       "      <th>Open</th>\n",
       "      <th>High</th>\n",
       "      <th>Low</th>\n",
       "      <th>Close</th>\n",
       "      <th>Volume</th>\n",
       "      <th>id2</th>\n",
       "    </tr>\n",
       "  </thead>\n",
       "  <tbody>\n",
       "    <tr>\n",
       "      <th>0</th>\n",
       "      <td>000001.XSHE</td>\n",
       "      <td>0</td>\n",
       "      <td>2018-12-24</td>\n",
       "      <td>8.91</td>\n",
       "      <td>8.96</td>\n",
       "      <td>8.83</td>\n",
       "      <td>8.93</td>\n",
       "      <td>53694517.0</td>\n",
       "      <td>NaN</td>\n",
       "    </tr>\n",
       "    <tr>\n",
       "      <th>1</th>\n",
       "      <td>000001.XSHE</td>\n",
       "      <td>1</td>\n",
       "      <td>2018-12-25</td>\n",
       "      <td>8.81</td>\n",
       "      <td>8.94</td>\n",
       "      <td>8.73</td>\n",
       "      <td>8.86</td>\n",
       "      <td>61867885.0</td>\n",
       "      <td>000001.XSHE</td>\n",
       "    </tr>\n",
       "    <tr>\n",
       "      <th>2</th>\n",
       "      <td>000001.XSHE</td>\n",
       "      <td>2</td>\n",
       "      <td>2018-12-26</td>\n",
       "      <td>8.87</td>\n",
       "      <td>8.93</td>\n",
       "      <td>8.79</td>\n",
       "      <td>8.82</td>\n",
       "      <td>44415942.0</td>\n",
       "      <td>000001.XSHE</td>\n",
       "    </tr>\n",
       "    <tr>\n",
       "      <th>3</th>\n",
       "      <td>000001.XSHE</td>\n",
       "      <td>3</td>\n",
       "      <td>2018-12-27</td>\n",
       "      <td>8.96</td>\n",
       "      <td>9.00</td>\n",
       "      <td>8.80</td>\n",
       "      <td>8.80</td>\n",
       "      <td>65873247.0</td>\n",
       "      <td>000001.XSHE</td>\n",
       "    </tr>\n",
       "    <tr>\n",
       "      <th>4</th>\n",
       "      <td>000001.XSHE</td>\n",
       "      <td>4</td>\n",
       "      <td>2018-12-28</td>\n",
       "      <td>8.83</td>\n",
       "      <td>8.97</td>\n",
       "      <td>8.83</td>\n",
       "      <td>8.89</td>\n",
       "      <td>60812019.0</td>\n",
       "      <td>000001.XSHE</td>\n",
       "    </tr>\n",
       "  </tbody>\n",
       "</table>\n",
       "</div>"
      ],
      "text/plain": [
       "            id  i        Date  Open  High   Low  Close      Volume  \\\n",
       "0  000001.XSHE  0  2018-12-24  8.91  8.96  8.83   8.93  53694517.0   \n",
       "1  000001.XSHE  1  2018-12-25  8.81  8.94  8.73   8.86  61867885.0   \n",
       "2  000001.XSHE  2  2018-12-26  8.87  8.93  8.79   8.82  44415942.0   \n",
       "3  000001.XSHE  3  2018-12-27  8.96  9.00  8.80   8.80  65873247.0   \n",
       "4  000001.XSHE  4  2018-12-28  8.83  8.97  8.83   8.89  60812019.0   \n",
       "\n",
       "           id2  \n",
       "0          NaN  \n",
       "1  000001.XSHE  \n",
       "2  000001.XSHE  \n",
       "3  000001.XSHE  \n",
       "4  000001.XSHE  "
      ]
     },
     "execution_count": 2,
     "metadata": {},
     "output_type": "execute_result"
    }
   ],
   "source": [
    "# 这里导入数据\n",
    "df = pd.read_csv(\"../数据获取/聚宽数据/最新数据.csv\")\n",
    "df.columns = ['id','i', 'Date','Open','High','Low','Close','Volume']\n",
    "df['id2'] =df['id'].shift()\n",
    "df['i'] = range(len(df))\n",
    "ids = list(df.loc[df['id'] != df['id2'], 'i']) # 这个是单个股票序号的起始。\n",
    "ids.append(len(df)-1) # 添加最后1天。\n",
    "df.head()"
   ]
  },
  {
   "cell_type": "code",
   "execution_count": 3,
   "id": "d8d11e76-16eb-4afa-8699-ae4046d02da0",
   "metadata": {},
   "outputs": [
    {
     "name": "stderr",
     "output_type": "stream",
     "text": [
      "100%|██████████████████████████████████████████████████████████████████████████████| 4275/4275 [04:34<00:00, 15.58it/s]\n"
     ]
    }
   ],
   "source": [
    "after_days = 20 # 未来5天的\n",
    "after_up = [[] for _ in range(after_days)]  # 几天关于上涨的\n",
    "with tqdm(total=len(set(df['id']))) as pbar:\n",
    "    for j in range(len(ids)-1):\n",
    "        # 对每一个股票进行遍历\n",
    "        df2 = df.iloc[ids[j]:ids[j+1],:].copy() # 这里筛选一只股票。\n",
    "        for i in range(after_days):\n",
    "            df2['Close{}'.format(i+1)] = df2['Close'].shift(0-(i+1)) # 未来的收盘价移动\n",
    "        df2.dropna(axis=0, how='any', inplace=True) # 我这里不需要这个空值，直接删除吧。\n",
    "        for i in range(after_days):\n",
    "            after_up[i].extend(((df2['Close{}'.format(i+1)]-df2['Close'])/df2['Close']*100).tolist())\n",
    "        pbar.update(1)\n"
   ]
  },
  {
   "cell_type": "code",
   "execution_count": null,
   "id": "4150d59d-cfa1-4708-a287-cf55cc635485",
   "metadata": {},
   "outputs": [],
   "source": []
  },
  {
   "cell_type": "code",
   "execution_count": 10,
   "id": "a579415a-7b4c-4c78-b9bd-6483e64d9bad",
   "metadata": {},
   "outputs": [
    {
     "name": "stdout",
     "output_type": "stream",
     "text": [
      "往后 1, \t平均涨幅:0.08%, \t胜率:48.37%, \t涨9%以上的概率:1.90%,\t涨0%-9%的概率:46.47%\n",
      "往后 2, \t平均涨幅:0.17%, \t胜率:48.24%, \t涨9%以上的概率:3.33%,\t涨0%-9%的概率:44.91%\n",
      "往后 3, \t平均涨幅:0.25%, \t胜率:48.86%, \t涨9%以上的概率:5.07%,\t涨0%-9%的概率:43.79%\n",
      "往后 4, \t平均涨幅:0.34%, \t胜率:49.08%, \t涨9%以上的概率:6.79%,\t涨0%-9%的概率:42.29%\n",
      "往后 5, \t平均涨幅:0.42%, \t胜率:49.35%, \t涨9%以上的概率:8.32%,\t涨0%-9%的概率:41.04%\n",
      "往后 6, \t平均涨幅:0.51%, \t胜率:49.55%, \t涨9%以上的概率:9.68%,\t涨0%-9%的概率:39.87%\n",
      "往后 7, \t平均涨幅:0.59%, \t胜率:49.66%, \t涨9%以上的概率:10.98%,\t涨0%-9%的概率:38.68%\n",
      "往后 8, \t平均涨幅:0.67%, \t胜率:49.73%, \t涨9%以上的概率:12.18%,\t涨0%-9%的概率:37.55%\n",
      "往后 9, \t平均涨幅:0.75%, \t胜率:49.83%, \t涨9%以上的概率:13.31%,\t涨0%-9%的概率:36.52%\n",
      "往后10, \t平均涨幅:0.83%, \t胜率:49.90%, \t涨9%以上的概率:14.35%,\t涨0%-9%的概率:35.55%\n",
      "往后11, \t平均涨幅:0.91%, \t胜率:49.99%, \t涨9%以上的概率:15.34%,\t涨0%-9%的概率:34.65%\n",
      "往后12, \t平均涨幅:0.98%, \t胜率:50.04%, \t涨9%以上的概率:16.25%,\t涨0%-9%的概率:33.79%\n",
      "往后13, \t平均涨幅:1.06%, \t胜率:50.04%, \t涨9%以上的概率:17.13%,\t涨0%-9%的概率:32.91%\n",
      "往后14, \t平均涨幅:1.13%, \t胜率:50.06%, \t涨9%以上的概率:17.91%,\t涨0%-9%的概率:32.15%\n",
      "往后15, \t平均涨幅:1.20%, \t胜率:50.09%, \t涨9%以上的概率:18.64%,\t涨0%-9%的概率:31.45%\n",
      "往后16, \t平均涨幅:1.27%, \t胜率:49.99%, \t涨9%以上的概率:19.33%,\t涨0%-9%的概率:30.66%\n",
      "往后17, \t平均涨幅:1.34%, \t胜率:49.94%, \t涨9%以上的概率:19.95%,\t涨0%-9%的概率:29.99%\n",
      "往后18, \t平均涨幅:1.41%, \t胜率:49.89%, \t涨9%以上的概率:20.53%,\t涨0%-9%的概率:29.36%\n",
      "往后19, \t平均涨幅:1.48%, \t胜率:49.78%, \t涨9%以上的概率:21.14%,\t涨0%-9%的概率:28.64%\n",
      "往后20, \t平均涨幅:1.55%, \t胜率:49.71%, \t涨9%以上的概率:21.71%,\t涨0%-9%的概率:28.00%\n"
     ]
    }
   ],
   "source": [
    "for i in range(after_days):\n",
    "    print(\"往后{:2d}, \\t平均涨幅:{:.2f}%, \\t胜率:{:.2f}%, \\t涨9%以上的概率:{:.2f}%,\\t涨0%-9%的概率:{:.2f}%\".format(\n",
    "        i+1,\n",
    "        sum(after_up[i])/len(after_up[i]),\n",
    "        len([i for i in after_up[i] if i > 0])/len(after_up[i])*100,\n",
    "        len([i for i in after_up[i] if i > 9])/len(after_up[i])*100,\n",
    "        len([i for i in after_up[i] if i > 0 and i < 9])/len(after_up[i])*100,\n",
    "        len([i for i in after_up[i] if i > 0])/len(after_up[i])*100\n",
    "    ))"
   ]
  },
  {
   "cell_type": "markdown",
   "id": "1434bebc-c5ae-41d6-b461-daf7839bbbd9",
   "metadata": {},
   "source": [
    "# 小结\n",
    "\n",
    "这个总结就是，对于平均一致股票而言，1-20天，上涨的概率差不多是近50%，但是随着时间的推移，比如到20天，涨9%的概率是超过20%了。"
   ]
  },
  {
   "cell_type": "code",
   "execution_count": null,
   "id": "45763e55-b2a6-4643-abe7-596167763644",
   "metadata": {},
   "outputs": [],
   "source": []
  }
 ],
 "metadata": {
  "kernelspec": {
   "display_name": "Python 3 (ipykernel)",
   "language": "python",
   "name": "python3"
  },
  "language_info": {
   "codemirror_mode": {
    "name": "ipython",
    "version": 3
   },
   "file_extension": ".py",
   "mimetype": "text/x-python",
   "name": "python",
   "nbconvert_exporter": "python",
   "pygments_lexer": "ipython3",
   "version": "3.9.12"
  }
 },
 "nbformat": 4,
 "nbformat_minor": 5
}
