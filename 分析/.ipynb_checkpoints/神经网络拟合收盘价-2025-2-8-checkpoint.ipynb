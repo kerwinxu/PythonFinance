{
 "cells": [
  {
   "cell_type": "markdown",
   "id": "28f76f8a-dedc-497b-b6b3-bc76f9c89aca",
   "metadata": {},
   "source": [
    "# 先读取数据"
   ]
  },
  {
   "cell_type": "code",
   "execution_count": 18,
   "id": "f252da66-7210-4c28-a0af-97bbb9bda80f",
   "metadata": {
    "execution": {
     "iopub.execute_input": "2025-02-08T14:11:23.516189Z",
     "iopub.status.busy": "2025-02-08T14:11:23.515182Z",
     "iopub.status.idle": "2025-02-08T14:11:23.526925Z",
     "shell.execute_reply": "2025-02-08T14:11:23.522901Z",
     "shell.execute_reply.started": "2025-02-08T14:11:23.516189Z"
    }
   },
   "outputs": [],
   "source": [
    "import sys\n",
    "import pandas as pd\n",
    "import torch.nn as nn\n",
    "import torch.optim as optim"
   ]
  },
  {
   "cell_type": "code",
   "execution_count": 4,
   "id": "d5712e3a-65b2-4438-ab3a-90f3331240d6",
   "metadata": {
    "execution": {
     "iopub.execute_input": "2025-02-08T13:08:24.111244Z",
     "iopub.status.busy": "2025-02-08T13:08:24.110232Z",
     "iopub.status.idle": "2025-02-08T13:08:24.119781Z",
     "shell.execute_reply": "2025-02-08T13:08:24.117763Z",
     "shell.execute_reply.started": "2025-02-08T13:08:24.111244Z"
    }
   },
   "outputs": [],
   "source": [
    "sys.path.append('../')"
   ]
  },
  {
   "cell_type": "code",
   "execution_count": 5,
   "id": "3fd8f681-50bd-4475-ad36-f90388d84825",
   "metadata": {
    "execution": {
     "iopub.execute_input": "2025-02-08T13:08:25.978781Z",
     "iopub.status.busy": "2025-02-08T13:08:25.977784Z",
     "iopub.status.idle": "2025-02-08T13:08:26.026153Z",
     "shell.execute_reply": "2025-02-08T13:08:26.022128Z",
     "shell.execute_reply.started": "2025-02-08T13:08:25.978781Z"
    }
   },
   "outputs": [],
   "source": [
    "import  DataSource"
   ]
  },
  {
   "cell_type": "code",
   "execution_count": 7,
   "id": "c4e919fe-f07b-4e40-8b67-497056ed98e1",
   "metadata": {
    "execution": {
     "iopub.execute_input": "2025-02-08T13:11:22.328362Z",
     "iopub.status.busy": "2025-02-08T13:11:22.327365Z",
     "iopub.status.idle": "2025-02-08T13:11:22.385159Z",
     "shell.execute_reply": "2025-02-08T13:11:22.384139Z",
     "shell.execute_reply.started": "2025-02-08T13:11:22.328362Z"
    }
   },
   "outputs": [],
   "source": [
    "zz500 = DataSource.get_zz500_codes() # 我看中证500的数据"
   ]
  },
  {
   "cell_type": "code",
   "execution_count": 10,
   "id": "0f006e8a-ab5e-4f1c-bce5-f39963dc258f",
   "metadata": {
    "execution": {
     "iopub.execute_input": "2025-02-08T13:11:58.803239Z",
     "iopub.status.busy": "2025-02-08T13:11:58.802240Z",
     "iopub.status.idle": "2025-02-08T13:11:58.816235Z",
     "shell.execute_reply": "2025-02-08T13:11:58.814217Z",
     "shell.execute_reply.started": "2025-02-08T13:11:58.803239Z"
    }
   },
   "outputs": [
    {
     "data": {
      "text/plain": [
       "'sh.600004,sh.600007,sh.600008,sh.600021,sh.600032,sh.600038,sh.600056,sh.600060,sh.600062,sh.600079,sh.600095,sh.600096,sh.600098,sh.600109,sh.600118,sh.600126,sh.600129,sh.600131,sh.600132,sh.600141,sh.600143,sh.600153,sh.600155,sh.600157,sh.600166,sh.600170,sh.600177,sh.600208,sh.600258,sh.600271,sh.600282,sh.600295,sh.600298,sh.600299,sh.600312,sh.600316,sh.600325,sh.600329,sh.600339,sh.600348,sh.600350,sh.600352,sh.600361,sh.600369,sh.600373,sh.600378,sh.600380,sh.600390,sh.600392,sh.600398,sh.600416,sh.600418,sh.600435,sh.600483,sh.600486,sh.600487,sh.600497,sh.600498,sh.600499,sh.600500,sh.600511,sh.600516,sh.600517,sh.600521,sh.600528,sh.600529,sh.600535,sh.600536,sh.600546,sh.600549,sh.600563,sh.600566,sh.600578,sh.600580,sh.600582,sh.600583,sh.600598,sh.600606,sh.600612,sh.600637,sh.600642,sh.600655,sh.600663,sh.600673,sh.600685,sh.600688,sh.600699,sh.600704,sh.600707,sh.600720,sh.600737,sh.600739,sh.600754,sh.600755,sh.600763,sh.600764,sh.600765,sh.600801,sh.600808,sh.600816,sh.600820,sh.600839,sh.600848,sh.600859,sh.600862,sh.600863,sh.600867,sh.600871,sh.600872,sh.600873,sh.600879,sh.600884,sh.600885,sh.600895,sh.600901,sh.600906,sh.600909,sh.600925,sh.600927,sh.600928,sh.600956,sh.600959,sh.600968,sh.600970,sh.600977,sh.600988,sh.600995,sh.600998,sh.601000,sh.601001,sh.601016,sh.601019,sh.601061,sh.601098,sh.601099,sh.601106,sh.601108,sh.601118,sh.601128,sh.601139,sh.601155,sh.601156,sh.601158,sh.601162,sh.601168,sh.601179,sh.601198,sh.601212,sh.601216,sh.601228,sh.601231,sh.601233,sh.601399,sh.601456,sh.601555,sh.601567,sh.601568,sh.601577,sh.601598,sh.601608,sh.601611,sh.601615,sh.601636,sh.601665,sh.601666,sh.601696,sh.601717,sh.601858,sh.601866,sh.601880,sh.601918,sh.601928,sh.601933,sh.601958,sh.601965,sh.601966,sh.601990,sh.601991,sh.601992,sh.601997,sh.603000,sh.603056,sh.603077,sh.603087,sh.603129,sh.603156,sh.603160,sh.603179,sh.603185,sh.603225,sh.603228,sh.603233,sh.603290,sh.603298,sh.603338,sh.603341,sh.603345,sh.603379,sh.603444,sh.603456,sh.603486,sh.603529,sh.603556,sh.603568,sh.603589,sh.603596,sh.603605,sh.603606,sh.603650,sh.603658,sh.603688,sh.603707,sh.603712,sh.603728,sh.603737,sh.603786,sh.603816,sh.603826,sh.603858,sh.603868,sh.603882,sh.603883,sh.603885,sh.603893,sh.603899,sh.603927,sh.603939,sh.603979,sh.605358,sh.688002,sh.688005,sh.688017,sh.688032,sh.688047,sh.688052,sh.688065,sh.688072,sh.688099,sh.688114,sh.688120,sh.688122,sh.688153,sh.688172,sh.688180,sh.688188,sh.688213,sh.688220,sh.688234,sh.688248,sh.688249,sh.688276,sh.688278,sh.688281,sh.688295,sh.688297,sh.688301,sh.688331,sh.688349,sh.688361,sh.688363,sh.688375,sh.688385,sh.688387,sh.688390,sh.688425,sh.688469,sh.688475,sh.688516,sh.688520,sh.688521,sh.688525,sh.688536,sh.688538,sh.688561,sh.688563,sh.688567,sh.688578,sh.688617,sh.688772,sh.688777,sh.688778,sh.688819,sh.689009,sz.000009,sz.000021,sz.000027,sz.000032,sz.000034,sz.000039,sz.000050,sz.000060,sz.000066,sz.000155,sz.000400,sz.000401,sz.000403,sz.000423,sz.000426,sz.000513,sz.000519,sz.000537,sz.000539,sz.000559,sz.000563,sz.000591,sz.000598,sz.000623,sz.000629,sz.000636,sz.000683,sz.000703,sz.000709,sz.000723,sz.000728,sz.000729,sz.000733,sz.000738,sz.000739,sz.000750,sz.000778,sz.000783,sz.000785,sz.000818,sz.000825,sz.000830,sz.000831,sz.000878,sz.000883,sz.000887,sz.000893,sz.000898,sz.000921,sz.000932,sz.000937,sz.000958,sz.000959,sz.000960,sz.000967,sz.000987,sz.000988,sz.000997,sz.000998,sz.001203,sz.001227,sz.001286,sz.002008,sz.002019,sz.002025,sz.002044,sz.002056,sz.002064,sz.002065,sz.002078,sz.002080,sz.002085,sz.002120,sz.002128,sz.002138,sz.002152,sz.002153,sz.002155,sz.002156,sz.002185,sz.002195,sz.002202,sz.002203,sz.002223,sz.002240,sz.002244,sz.002261,sz.002262,sz.002266,sz.002268,sz.002273,sz.002281,sz.002294,sz.002299,sz.002318,sz.002340,sz.002353,sz.002368,sz.002372,sz.002373,sz.002384,sz.002385,sz.002407,sz.002408,sz.002409,sz.002410,sz.002414,sz.002423,sz.002429,sz.002430,sz.002432,sz.002436,sz.002439,sz.002444,sz.002465,sz.002472,sz.002487,sz.002500,sz.002507,sz.002508,sz.002517,sz.002531,sz.002532,sz.002557,sz.002558,sz.002563,sz.002568,sz.002572,sz.002595,sz.002603,sz.002607,sz.002608,sz.002624,sz.002625,sz.002653,sz.002670,sz.002673,sz.002683,sz.002690,sz.002738,sz.002739,sz.002756,sz.002797,sz.002821,sz.002831,sz.002841,sz.002850,sz.002867,sz.002926,sz.002939,sz.002945,sz.002958,sz.002966,sz.002984,sz.003022,sz.003031,sz.003035,sz.300001,sz.300002,sz.300003,sz.300009,sz.300012,sz.300017,sz.300024,sz.300037,sz.300054,sz.300058,sz.300070,sz.300073,sz.300114,sz.300118,sz.300136,sz.300140,sz.300142,sz.300144,sz.300146,sz.300207,sz.300212,sz.300223,sz.300251,sz.300285,sz.300339,sz.300373,sz.300383,sz.300390,sz.300395,sz.300474,sz.300476,sz.300487,sz.300496,sz.300529,sz.300558,sz.300567,sz.300573,sz.300595,sz.300601,sz.300604,sz.300676,sz.300677,sz.300699,sz.300724,sz.300748,sz.300751,sz.300763,sz.300765,sz.300803,sz.300866,sz.300888,sz.300919,sz.300957,sz.301165,sz.301236,sz.301267,sz.301301,sz.301308,sz.301358,sz.301498'"
      ]
     },
     "execution_count": 10,
     "metadata": {},
     "output_type": "execute_result"
    }
   ],
   "source": [
    "','.join(zz500)"
   ]
  },
  {
   "cell_type": "code",
   "execution_count": 11,
   "id": "0efde820-82c5-417d-8d32-34141d7164f5",
   "metadata": {
    "execution": {
     "iopub.execute_input": "2025-02-08T13:12:46.399470Z",
     "iopub.status.busy": "2025-02-08T13:12:46.398473Z",
     "iopub.status.idle": "2025-02-08T13:12:46.525072Z",
     "shell.execute_reply": "2025-02-08T13:12:46.522052Z",
     "shell.execute_reply.started": "2025-02-08T13:12:46.399470Z"
    }
   },
   "outputs": [],
   "source": [
    "# 我这里查看第一个股票的吧\n",
    "dt = DataSource.get_data(zz500[0])"
   ]
  },
  {
   "cell_type": "code",
   "execution_count": 12,
   "id": "cb545c7e-9080-4b78-be32-ada08f2dfe1a",
   "metadata": {
    "execution": {
     "iopub.execute_input": "2025-02-08T13:12:55.430069Z",
     "iopub.status.busy": "2025-02-08T13:12:55.427076Z",
     "iopub.status.idle": "2025-02-08T13:12:55.522391Z",
     "shell.execute_reply": "2025-02-08T13:12:55.520371Z",
     "shell.execute_reply.started": "2025-02-08T13:12:55.430069Z"
    }
   },
   "outputs": [
    {
     "data": {
      "text/html": [
       "<div>\n",
       "<style scoped>\n",
       "    .dataframe tbody tr th:only-of-type {\n",
       "        vertical-align: middle;\n",
       "    }\n",
       "\n",
       "    .dataframe tbody tr th {\n",
       "        vertical-align: top;\n",
       "    }\n",
       "\n",
       "    .dataframe thead th {\n",
       "        text-align: right;\n",
       "    }\n",
       "</style>\n",
       "<table border=\"1\" class=\"dataframe\">\n",
       "  <thead>\n",
       "    <tr style=\"text-align: right;\">\n",
       "      <th></th>\n",
       "      <th>date</th>\n",
       "      <th>code</th>\n",
       "      <th>open</th>\n",
       "      <th>high</th>\n",
       "      <th>low</th>\n",
       "      <th>close</th>\n",
       "      <th>preclose</th>\n",
       "      <th>volume</th>\n",
       "      <th>amount</th>\n",
       "      <th>adjustflag</th>\n",
       "      <th>turn</th>\n",
       "      <th>tradestatus</th>\n",
       "      <th>pctChg</th>\n",
       "      <th>isST</th>\n",
       "    </tr>\n",
       "  </thead>\n",
       "  <tbody>\n",
       "    <tr>\n",
       "      <th>0</th>\n",
       "      <td>2010-01-04</td>\n",
       "      <td>sh.600004</td>\n",
       "      <td>5.046509</td>\n",
       "      <td>5.111144</td>\n",
       "      <td>5.041537</td>\n",
       "      <td>5.046509</td>\n",
       "      <td>5.046509</td>\n",
       "      <td>15478854</td>\n",
       "      <td>157747809.0</td>\n",
       "      <td>2</td>\n",
       "      <td>1.525010</td>\n",
       "      <td>1</td>\n",
       "      <td>0.0000</td>\n",
       "      <td>0</td>\n",
       "    </tr>\n",
       "    <tr>\n",
       "      <th>1</th>\n",
       "      <td>2010-01-05</td>\n",
       "      <td>sh.600004</td>\n",
       "      <td>5.046509</td>\n",
       "      <td>5.091256</td>\n",
       "      <td>5.041537</td>\n",
       "      <td>5.066397</td>\n",
       "      <td>5.046509</td>\n",
       "      <td>11070922</td>\n",
       "      <td>112683563.0</td>\n",
       "      <td>2</td>\n",
       "      <td>1.090731</td>\n",
       "      <td>1</td>\n",
       "      <td>0.3941</td>\n",
       "      <td>0</td>\n",
       "    </tr>\n",
       "    <tr>\n",
       "      <th>2</th>\n",
       "      <td>2010-01-06</td>\n",
       "      <td>sh.600004</td>\n",
       "      <td>5.056453</td>\n",
       "      <td>5.066397</td>\n",
       "      <td>4.981874</td>\n",
       "      <td>4.991818</td>\n",
       "      <td>5.066397</td>\n",
       "      <td>9410665</td>\n",
       "      <td>95205863.0</td>\n",
       "      <td>2</td>\n",
       "      <td>0.927159</td>\n",
       "      <td>1</td>\n",
       "      <td>-1.4720</td>\n",
       "      <td>0</td>\n",
       "    </tr>\n",
       "    <tr>\n",
       "      <th>3</th>\n",
       "      <td>2010-01-07</td>\n",
       "      <td>sh.600004</td>\n",
       "      <td>4.971930</td>\n",
       "      <td>4.996790</td>\n",
       "      <td>4.827744</td>\n",
       "      <td>4.862548</td>\n",
       "      <td>4.991818</td>\n",
       "      <td>8961813</td>\n",
       "      <td>88611912.0</td>\n",
       "      <td>2</td>\n",
       "      <td>0.882937</td>\n",
       "      <td>1</td>\n",
       "      <td>-2.5896</td>\n",
       "      <td>0</td>\n",
       "    </tr>\n",
       "    <tr>\n",
       "      <th>4</th>\n",
       "      <td>2010-01-08</td>\n",
       "      <td>sh.600004</td>\n",
       "      <td>4.837688</td>\n",
       "      <td>5.096228</td>\n",
       "      <td>4.837688</td>\n",
       "      <td>5.061425</td>\n",
       "      <td>4.862548</td>\n",
       "      <td>14923812</td>\n",
       "      <td>149969456.0</td>\n",
       "      <td>2</td>\n",
       "      <td>1.470326</td>\n",
       "      <td>1</td>\n",
       "      <td>4.0900</td>\n",
       "      <td>0</td>\n",
       "    </tr>\n",
       "  </tbody>\n",
       "</table>\n",
       "</div>"
      ],
      "text/plain": [
       "         date       code      open      high       low     close  preclose  \\\n",
       "0  2010-01-04  sh.600004  5.046509  5.111144  5.041537  5.046509  5.046509   \n",
       "1  2010-01-05  sh.600004  5.046509  5.091256  5.041537  5.066397  5.046509   \n",
       "2  2010-01-06  sh.600004  5.056453  5.066397  4.981874  4.991818  5.066397   \n",
       "3  2010-01-07  sh.600004  4.971930  4.996790  4.827744  4.862548  4.991818   \n",
       "4  2010-01-08  sh.600004  4.837688  5.096228  4.837688  5.061425  4.862548   \n",
       "\n",
       "     volume       amount  adjustflag      turn  tradestatus  pctChg  isST  \n",
       "0  15478854  157747809.0           2  1.525010            1  0.0000     0  \n",
       "1  11070922  112683563.0           2  1.090731            1  0.3941     0  \n",
       "2   9410665   95205863.0           2  0.927159            1 -1.4720     0  \n",
       "3   8961813   88611912.0           2  0.882937            1 -2.5896     0  \n",
       "4  14923812  149969456.0           2  1.470326            1  4.0900     0  "
      ]
     },
     "execution_count": 12,
     "metadata": {},
     "output_type": "execute_result"
    }
   ],
   "source": [
    "dt.head()"
   ]
  },
  {
   "cell_type": "code",
   "execution_count": 13,
   "id": "35b71d90-4c3f-4dbd-b2f8-8af04819c868",
   "metadata": {
    "execution": {
     "iopub.execute_input": "2025-02-08T13:25:30.912668Z",
     "iopub.status.busy": "2025-02-08T13:25:30.884669Z",
     "iopub.status.idle": "2025-02-08T13:25:31.005234Z",
     "shell.execute_reply": "2025-02-08T13:25:31.000233Z",
     "shell.execute_reply.started": "2025-02-08T13:25:30.912668Z"
    }
   },
   "outputs": [],
   "source": [
    "# 我希望做的是记忆网络，所以需要数据是连续多日的且这个数据应该是比例关系所以要做转变"
   ]
  },
  {
   "cell_type": "code",
   "execution_count": 15,
   "id": "f24bbbfe-6c06-498c-a651-dac58e4619c5",
   "metadata": {
    "execution": {
     "iopub.execute_input": "2025-02-08T13:29:26.032526Z",
     "iopub.status.busy": "2025-02-08T13:29:26.031523Z",
     "iopub.status.idle": "2025-02-08T13:29:26.066071Z",
     "shell.execute_reply": "2025-02-08T13:29:26.063053Z",
     "shell.execute_reply.started": "2025-02-08T13:29:26.032526Z"
    }
   },
   "outputs": [],
   "source": [
    "# 我需要的是日期开盘价收盘价最高价最低价和成交量\n",
    "dt2 = dt.loc[:,['date','open','high','low','close','volume']] "
   ]
  },
  {
   "cell_type": "code",
   "execution_count": 16,
   "id": "4dfc37ff-c131-4325-8ee5-cafe656f02b2",
   "metadata": {
    "execution": {
     "iopub.execute_input": "2025-02-08T13:29:31.371070Z",
     "iopub.status.busy": "2025-02-08T13:29:31.370074Z",
     "iopub.status.idle": "2025-02-08T13:29:31.401037Z",
     "shell.execute_reply": "2025-02-08T13:29:31.399016Z",
     "shell.execute_reply.started": "2025-02-08T13:29:31.371070Z"
    }
   },
   "outputs": [
    {
     "data": {
      "text/html": [
       "<div>\n",
       "<style scoped>\n",
       "    .dataframe tbody tr th:only-of-type {\n",
       "        vertical-align: middle;\n",
       "    }\n",
       "\n",
       "    .dataframe tbody tr th {\n",
       "        vertical-align: top;\n",
       "    }\n",
       "\n",
       "    .dataframe thead th {\n",
       "        text-align: right;\n",
       "    }\n",
       "</style>\n",
       "<table border=\"1\" class=\"dataframe\">\n",
       "  <thead>\n",
       "    <tr style=\"text-align: right;\">\n",
       "      <th></th>\n",
       "      <th>date</th>\n",
       "      <th>open</th>\n",
       "      <th>high</th>\n",
       "      <th>low</th>\n",
       "      <th>close</th>\n",
       "      <th>volume</th>\n",
       "    </tr>\n",
       "  </thead>\n",
       "  <tbody>\n",
       "    <tr>\n",
       "      <th>0</th>\n",
       "      <td>2010-01-04</td>\n",
       "      <td>5.046509</td>\n",
       "      <td>5.111144</td>\n",
       "      <td>5.041537</td>\n",
       "      <td>5.046509</td>\n",
       "      <td>15478854</td>\n",
       "    </tr>\n",
       "    <tr>\n",
       "      <th>1</th>\n",
       "      <td>2010-01-05</td>\n",
       "      <td>5.046509</td>\n",
       "      <td>5.091256</td>\n",
       "      <td>5.041537</td>\n",
       "      <td>5.066397</td>\n",
       "      <td>11070922</td>\n",
       "    </tr>\n",
       "    <tr>\n",
       "      <th>2</th>\n",
       "      <td>2010-01-06</td>\n",
       "      <td>5.056453</td>\n",
       "      <td>5.066397</td>\n",
       "      <td>4.981874</td>\n",
       "      <td>4.991818</td>\n",
       "      <td>9410665</td>\n",
       "    </tr>\n",
       "    <tr>\n",
       "      <th>3</th>\n",
       "      <td>2010-01-07</td>\n",
       "      <td>4.971930</td>\n",
       "      <td>4.996790</td>\n",
       "      <td>4.827744</td>\n",
       "      <td>4.862548</td>\n",
       "      <td>8961813</td>\n",
       "    </tr>\n",
       "    <tr>\n",
       "      <th>4</th>\n",
       "      <td>2010-01-08</td>\n",
       "      <td>4.837688</td>\n",
       "      <td>5.096228</td>\n",
       "      <td>4.837688</td>\n",
       "      <td>5.061425</td>\n",
       "      <td>14923812</td>\n",
       "    </tr>\n",
       "  </tbody>\n",
       "</table>\n",
       "</div>"
      ],
      "text/plain": [
       "         date      open      high       low     close    volume\n",
       "0  2010-01-04  5.046509  5.111144  5.041537  5.046509  15478854\n",
       "1  2010-01-05  5.046509  5.091256  5.041537  5.066397  11070922\n",
       "2  2010-01-06  5.056453  5.066397  4.981874  4.991818   9410665\n",
       "3  2010-01-07  4.971930  4.996790  4.827744  4.862548   8961813\n",
       "4  2010-01-08  4.837688  5.096228  4.837688  5.061425  14923812"
      ]
     },
     "execution_count": 16,
     "metadata": {},
     "output_type": "execute_result"
    }
   ],
   "source": [
    "dt2.head()"
   ]
  },
  {
   "cell_type": "code",
   "execution_count": 17,
   "id": "f7f90612-3f47-41b2-b5f5-7a8702f9713c",
   "metadata": {
    "execution": {
     "iopub.execute_input": "2025-02-08T14:04:29.071242Z",
     "iopub.status.busy": "2025-02-08T14:04:29.062237Z",
     "iopub.status.idle": "2025-02-08T14:04:29.110510Z",
     "shell.execute_reply": "2025-02-08T14:04:29.106488Z",
     "shell.execute_reply.started": "2025-02-08T14:04:29.071242Z"
    }
   },
   "outputs": [],
   "source": [
    "# 我看x是前面N日的价格和成交量,y为当日的收盘价。\n",
    "# 输入参数的形状是(batch_size, squ_len,input_size),批次数量，序列的长度，输入的尺寸"
   ]
  },
  {
   "cell_type": "code",
   "execution_count": null,
   "id": "4b5d017d-c06c-41b3-85f2-bd99cc1bf87b",
   "metadata": {},
   "outputs": [],
   "source": []
  },
  {
   "cell_type": "code",
   "execution_count": null,
   "id": "03cfd9f1-b75e-4ecd-98ec-3749025e69a2",
   "metadata": {},
   "outputs": [],
   "source": []
  },
  {
   "cell_type": "code",
   "execution_count": null,
   "id": "47b06984-89f4-4bc6-bf7d-84b78a25bf6a",
   "metadata": {},
   "outputs": [],
   "source": []
  },
  {
   "cell_type": "code",
   "execution_count": 20,
   "id": "c17dd97c-1ef7-476d-8846-73c1d4d48a22",
   "metadata": {
    "execution": {
     "iopub.execute_input": "2025-02-08T14:13:19.149649Z",
     "iopub.status.busy": "2025-02-08T14:13:19.148652Z",
     "iopub.status.idle": "2025-02-08T14:13:19.162167Z",
     "shell.execute_reply": "2025-02-08T14:13:19.160144Z",
     "shell.execute_reply.started": "2025-02-08T14:13:19.149649Z"
    }
   },
   "outputs": [],
   "source": [
    "# 这里做一个网络\n",
    "import torch.nn as nn\n",
    "class GRUModel(nn.Module):\n",
    "    def __init__(self, input_size, hidden_size, num_layers, output_size):\n",
    "        super(LSTMModel, self).__init__()\n",
    "        self.gru = nn.GRU(input_size, hidden_size, num_layers, batch_first=True)\n",
    "        self.fc = nn.Linear(hidden_size, output_size)\n",
    "    def forward(self, x):\n",
    "        out, _ = self.gru(x) # LSTM层\n",
    "        out = self.fc(out[:, -1, :]) # 全连接层\n",
    "        return out"
   ]
  },
  {
   "cell_type": "code",
   "execution_count": null,
   "id": "50f4b187-d9f7-4fe8-8750-98574941dd11",
   "metadata": {},
   "outputs": [],
   "source": []
  }
 ],
 "metadata": {
  "kernelspec": {
   "display_name": "Python 3 (ipykernel)",
   "language": "python",
   "name": "python3"
  },
  "language_info": {
   "codemirror_mode": {
    "name": "ipython",
    "version": 3
   },
   "file_extension": ".py",
   "mimetype": "text/x-python",
   "name": "python",
   "nbconvert_exporter": "python",
   "pygments_lexer": "ipython3",
   "version": "3.11.5"
  }
 },
 "nbformat": 4,
 "nbformat_minor": 5
}
