{
 "cells": [
  {
   "cell_type": "code",
   "execution_count": 18,
   "id": "adb60d87-0b30-428c-86f7-ed72c8a6bce2",
   "metadata": {},
   "outputs": [],
   "source": [
    "import pandas as pd\n",
    "import numpy as np\n",
    "import matplotlib\n",
    "# matplotlib.use('agg')\n",
    "import matplotlib.pyplot as plt\n",
    "%matplotlib inline\n",
    "import os\n",
    "from tqdm import tqdm\n",
    "import talib"
   ]
  },
  {
   "cell_type": "markdown",
   "id": "ef19379e-31ee-47d5-9808-1e768227208b",
   "metadata": {},
   "source": [
    "# 导入数据"
   ]
  },
  {
   "cell_type": "code",
   "execution_count": 79,
   "id": "d1de819a-e227-46c6-8aee-8c76469b30d7",
   "metadata": {},
   "outputs": [],
   "source": [
    "# 这里导入数据\n",
    "df = pd.read_csv(\"../数据获取/聚宽数据/最新数据.csv\")"
   ]
  },
  {
   "cell_type": "code",
   "execution_count": 80,
   "id": "c91e5a12-38c2-4563-b917-d9961a176c25",
   "metadata": {},
   "outputs": [
    {
     "data": {
      "text/html": [
       "<div>\n",
       "<style scoped>\n",
       "    .dataframe tbody tr th:only-of-type {\n",
       "        vertical-align: middle;\n",
       "    }\n",
       "\n",
       "    .dataframe tbody tr th {\n",
       "        vertical-align: top;\n",
       "    }\n",
       "\n",
       "    .dataframe thead th {\n",
       "        text-align: right;\n",
       "    }\n",
       "</style>\n",
       "<table border=\"1\" class=\"dataframe\">\n",
       "  <thead>\n",
       "    <tr style=\"text-align: right;\">\n",
       "      <th></th>\n",
       "      <th>id</th>\n",
       "      <th>i</th>\n",
       "      <th>Date</th>\n",
       "      <th>Open</th>\n",
       "      <th>High</th>\n",
       "      <th>Low</th>\n",
       "      <th>Close</th>\n",
       "      <th>Volume</th>\n",
       "      <th>id2</th>\n",
       "    </tr>\n",
       "  </thead>\n",
       "  <tbody>\n",
       "    <tr>\n",
       "      <th>0</th>\n",
       "      <td>000001.XSHE</td>\n",
       "      <td>0</td>\n",
       "      <td>2018-12-24</td>\n",
       "      <td>8.91</td>\n",
       "      <td>8.96</td>\n",
       "      <td>8.83</td>\n",
       "      <td>8.93</td>\n",
       "      <td>53694517.0</td>\n",
       "      <td>NaN</td>\n",
       "    </tr>\n",
       "    <tr>\n",
       "      <th>1</th>\n",
       "      <td>000001.XSHE</td>\n",
       "      <td>1</td>\n",
       "      <td>2018-12-25</td>\n",
       "      <td>8.81</td>\n",
       "      <td>8.94</td>\n",
       "      <td>8.73</td>\n",
       "      <td>8.86</td>\n",
       "      <td>61867885.0</td>\n",
       "      <td>000001.XSHE</td>\n",
       "    </tr>\n",
       "    <tr>\n",
       "      <th>2</th>\n",
       "      <td>000001.XSHE</td>\n",
       "      <td>2</td>\n",
       "      <td>2018-12-26</td>\n",
       "      <td>8.87</td>\n",
       "      <td>8.93</td>\n",
       "      <td>8.79</td>\n",
       "      <td>8.82</td>\n",
       "      <td>44415942.0</td>\n",
       "      <td>000001.XSHE</td>\n",
       "    </tr>\n",
       "    <tr>\n",
       "      <th>3</th>\n",
       "      <td>000001.XSHE</td>\n",
       "      <td>3</td>\n",
       "      <td>2018-12-27</td>\n",
       "      <td>8.96</td>\n",
       "      <td>9.00</td>\n",
       "      <td>8.80</td>\n",
       "      <td>8.80</td>\n",
       "      <td>65873247.0</td>\n",
       "      <td>000001.XSHE</td>\n",
       "    </tr>\n",
       "    <tr>\n",
       "      <th>4</th>\n",
       "      <td>000001.XSHE</td>\n",
       "      <td>4</td>\n",
       "      <td>2018-12-28</td>\n",
       "      <td>8.83</td>\n",
       "      <td>8.97</td>\n",
       "      <td>8.83</td>\n",
       "      <td>8.89</td>\n",
       "      <td>60812019.0</td>\n",
       "      <td>000001.XSHE</td>\n",
       "    </tr>\n",
       "  </tbody>\n",
       "</table>\n",
       "</div>"
      ],
      "text/plain": [
       "            id  i        Date  Open  High   Low  Close      Volume  \\\n",
       "0  000001.XSHE  0  2018-12-24  8.91  8.96  8.83   8.93  53694517.0   \n",
       "1  000001.XSHE  1  2018-12-25  8.81  8.94  8.73   8.86  61867885.0   \n",
       "2  000001.XSHE  2  2018-12-26  8.87  8.93  8.79   8.82  44415942.0   \n",
       "3  000001.XSHE  3  2018-12-27  8.96  9.00  8.80   8.80  65873247.0   \n",
       "4  000001.XSHE  4  2018-12-28  8.83  8.97  8.83   8.89  60812019.0   \n",
       "\n",
       "           id2  \n",
       "0          NaN  \n",
       "1  000001.XSHE  \n",
       "2  000001.XSHE  \n",
       "3  000001.XSHE  \n",
       "4  000001.XSHE  "
      ]
     },
     "execution_count": 80,
     "metadata": {},
     "output_type": "execute_result"
    }
   ],
   "source": [
    "df.columns = ['id','i', 'Date','Open','High','Low','Close','Volume']\n",
    "df['id2'] =df['id'].shift()\n",
    "df['i'] = range(len(df))\n",
    "ids = list(df.loc[df['id'] != df['id2'], 'i']) # 这个是单个股票序号的起始。\n",
    "ids.append(len(df)-1) # 添加最后1天。\n",
    "df.head()"
   ]
  },
  {
   "cell_type": "markdown",
   "id": "505f2582-993e-4d68-9b16-fbfb8095fe28",
   "metadata": {},
   "source": [
    "# 单独macd分析"
   ]
  },
  {
   "cell_type": "markdown",
   "id": "02917836-f669-4b8a-bddd-99d2602919a8",
   "metadata": {},
   "source": [
    "我这里看看macd金叉后，几天的股价变动情况。"
   ]
  },
  {
   "cell_type": "code",
   "execution_count": 64,
   "id": "bb37eb88-e94a-4f4f-940a-ab5b12c5a8ad",
   "metadata": {},
   "outputs": [
    {
     "name": "stderr",
     "output_type": "stream",
     "text": [
      "100%|██████████████████████████████████████████████████████████████████████████████| 4275/4275 [24:07<00:00,  2.95it/s]\n"
     ]
    }
   ],
   "source": [
    "codes = list(set(df['id'])) # 这里是所有的股票列表\n",
    "# macd的3个参数\n",
    "fastperiod=12\n",
    "slowperiod=26\n",
    "signalperiod=9\n",
    "#\n",
    "days = 20 # 最多5天的\n",
    "rises = [[] for _ in range(days)] # 几天的涨幅都在这里边。 \n",
    "with tqdm(total=len(set(df['id']))) as pbar:\n",
    "    for id in codes:\n",
    "        # 对每一个股票进行遍历\n",
    "        df2 = df[df['id'] == id].copy() # 这里要重新生成一个\n",
    "        # 然后计算macd\n",
    "        _, _, df2['macdhist'] = talib.MACD(df2['Close'], fastperiod=fastperiod, slowperiod=slowperiod, signalperiod=signalperiod)\n",
    "        df2['macdhist2'] = df2['macdhist'].shift(1) # 移动1天\n",
    "        # 这里判断金叉\n",
    "        df2['macdhist_threshold'] = 0 # 默认是0\n",
    "        # 金叉是，一天小于0，第二天大于0\n",
    "        df2.loc[(df2['macdhist2'] < 0) & (df2['macdhist']>0),'macdhist_threshold'] = 1\n",
    "        # 然后隔一天\n",
    "        df2['macdhist_threshold2'] = df2['macdhist_threshold'].shift(1)\n",
    "        # 然后关于收盘价的涨幅，这里也做处理\n",
    "        for i in range(days):\n",
    "            # 移动指定的天数\n",
    "            # 隔一天的涨幅情况\n",
    "            df2['Close{}'.format(i+1)] = df2['Close'].shift(0-(i+1))\n",
    "        df3 = df2[df2['macdhist_threshold2'] == 1].copy()\n",
    "        for i in range(days):\n",
    "            # 移动指定的天数\n",
    "            # 隔一天的涨幅情况\n",
    "            _rise = list((df3['Close{}'.format(i+1)]-df3['Close'])/df3['Close'])\n",
    "            # 这里需要筛选不是nan的\n",
    "            _rise = [i for i in _rise if not np.isnan(i)]\n",
    "            # 添加到这里边。\n",
    "            rises[i].extend(_rise)\n",
    "        pbar.update(1)\n",
    "        \n"
   ]
  },
  {
   "cell_type": "code",
   "execution_count": 65,
   "id": "a6b3fa7d-b5a9-48d4-ac05-d42150964768",
   "metadata": {},
   "outputs": [
    {
     "data": {
      "text/plain": [
       "[0.0004530018014562755,\n",
       " 0.0004347902807756555,\n",
       " 0.0004704755023370437,\n",
       " 0.0005024281827904672,\n",
       " 0.0011429624780316023,\n",
       " 0.0023959552630336647,\n",
       " 0.002791291670966984,\n",
       " 0.003644763170310432,\n",
       " 0.004413464184281306,\n",
       " 0.004892418935023581,\n",
       " 0.005145503225119265,\n",
       " 0.005028332406941964,\n",
       " 0.00502029974594734,\n",
       " 0.005438964186261436,\n",
       " 0.006049885692234088,\n",
       " 0.006649727071001612,\n",
       " 0.007750916762346452,\n",
       " 0.008143254894734888,\n",
       " 0.008730515803987749,\n",
       " 0.008977937299184066]"
      ]
     },
     "execution_count": 65,
     "metadata": {},
     "output_type": "execute_result"
    }
   ],
   "source": [
    "# 这里看看两点\n",
    "[sum(i)/len(i) for i in rises] # 这个是均值"
   ]
  },
  {
   "cell_type": "code",
   "execution_count": 66,
   "id": "bc319808-2d4b-4f4a-a8ff-2f1a83fc9672",
   "metadata": {},
   "outputs": [
    {
     "data": {
      "text/plain": [
       "[0.4588234381304118,\n",
       " 0.45672195818966854,\n",
       " 0.46086064618397127,\n",
       " 0.4590381864543815,\n",
       " 0.4679890741850385,\n",
       " 0.47975262292911275,\n",
       " 0.47817751036568257,\n",
       " 0.4792558458671532,\n",
       " 0.4845079429449336,\n",
       " 0.4849631982766022,\n",
       " 0.48265166608070625,\n",
       " 0.4817295742502286,\n",
       " 0.4816406066582148,\n",
       " 0.4828156603270669,\n",
       " 0.4849115586414905,\n",
       " 0.48512607422797244,\n",
       " 0.4848845926218189,\n",
       " 0.48367301692875353,\n",
       " 0.48392728196094303,\n",
       " 0.48478989122564115]"
      ]
     },
     "execution_count": 66,
     "metadata": {},
     "output_type": "execute_result"
    }
   ],
   "source": [
    "[len([j for j in i if j > 0])/len(i) for i in rises] # 上涨的概率。"
   ]
  },
  {
   "cell_type": "markdown",
   "id": "5b705713-d775-40df-a08a-86981f33bd41",
   "metadata": {},
   "source": [
    "# 这里判断成交量\n",
    "\n",
    "如果成交量有暴增"
   ]
  },
  {
   "cell_type": "code",
   "execution_count": 36,
   "id": "53c9759e-97a2-45c0-9717-f11020e391a0",
   "metadata": {},
   "outputs": [
    {
     "name": "stderr",
     "output_type": "stream",
     "text": [
      "100%|██████████████████████████████████████████████████████████████████████████████| 4275/4275 [29:17<00:00,  2.43it/s]\n"
     ]
    }
   ],
   "source": [
    "# macd的3个参数\n",
    "fastperiod=12\n",
    "slowperiod=26\n",
    "signalperiod=9\n",
    "#\n",
    "Volume_zoom = 2 # 交易量倍增的倍数\n",
    "#\n",
    "days = 10 # 最多N天的\n",
    "rises = [[] for _ in range(days)] # 几天的涨幅都在这里边。 \n",
    "df_rises = []\n",
    "with tqdm(total=len(set(df['id']))) as pbar:\n",
    "    for id in codes:\n",
    "        # 对每一个股票进行遍历\n",
    "        df2 = df[df['id'] == id].copy() # 这里要重新生成一个\n",
    "        # 然后计算macd\n",
    "        _, _, df2['macdhist'] = talib.MACD(df2['Close'], fastperiod=fastperiod, slowperiod=slowperiod, signalperiod=signalperiod)\n",
    "        df2['macdhist2'] = df2['macdhist'].shift(1) # 移动1天\n",
    "        # 这里判断金叉\n",
    "        df2['macdhist_threshold'] = 0 # 默认是0\n",
    "        # 金叉是，一天小于0，第二天大于0\n",
    "        df2.loc[(df2['macdhist2'] < 0) & (df2['macdhist']>0),'macdhist_threshold'] = 1\n",
    "        # 然后隔一天\n",
    "        df2['macdhist_threshold2'] = df2['macdhist_threshold'].shift(1)\n",
    "        # 然后下边比较交易量\n",
    "        df2['Volume1'] = df2['Volume'].shift(1)\n",
    "        df2['Volume2'] = df2['Volume'].shift(2)\n",
    "        # 这里进行移动指定的天数\n",
    "        for i in range(days):\n",
    "            # 移动指定的天数\n",
    "            # 隔一天的涨幅情况\n",
    "            df2['Close{}'.format(i+1)] = df2['Close'].shift(0-(i+1))\n",
    "        # 然后关于收盘价的涨幅，这里也做处理\n",
    "        df3 = df2[(df2['macdhist_threshold2'] == 1) & ((df2['Volume']/df2['Volume1'] > Volume_zoom) | (df2['Volume1']/df2['Volume2'] > Volume_zoom))].copy()\n",
    "        df_rises.append(df3)\n",
    "        for i in range(days):\n",
    "            # 移动指定的天数\n",
    "            # 隔一天的涨幅情况\n",
    "            _rise = list((df3['Close{}'.format(i+1)]-df3['Close'])/df3['Close'])\n",
    "            # 这里需要筛选不是nan的\n",
    "            _rise = [i for i in _rise if not np.isnan(i)]\n",
    "            # 添加到这里边。\n",
    "            rises[i].extend(_rise)\n",
    "        pbar.update(1)"
   ]
  },
  {
   "cell_type": "code",
   "execution_count": 37,
   "id": "cb6ed71e-d1c1-460a-b6ed-5043864d134d",
   "metadata": {},
   "outputs": [
    {
     "data": {
      "text/plain": [
       "[-0.0004349071865866878,\n",
       " -0.000884334525208094,\n",
       " -0.0008208056853970764,\n",
       " -0.00118151149625048,\n",
       " -0.0005241877389403703,\n",
       " 0.0004500233925141164,\n",
       " 0.0007819323812238269,\n",
       " 0.0009196318168701685,\n",
       " 0.0010995698710727763,\n",
       " 0.0015448986839235275]"
      ]
     },
     "execution_count": 37,
     "metadata": {},
     "output_type": "execute_result"
    }
   ],
   "source": [
    "# 这里看看两点\n",
    "[sum(i)/len(i) for i in rises] # 这个是均值"
   ]
  },
  {
   "cell_type": "code",
   "execution_count": 38,
   "id": "508daae5-f4c5-4655-bb87-b47d5f31cfdb",
   "metadata": {},
   "outputs": [
    {
     "data": {
      "text/plain": [
       "[0.43775278058645095,\n",
       " 0.4328018223234624,\n",
       " 0.44259804387047763,\n",
       " 0.43810187531677647,\n",
       " 0.4447087933003426,\n",
       " 0.45802108471992886,\n",
       " 0.4568195543689012,\n",
       " 0.45358267340902586,\n",
       " 0.4572528556428776,\n",
       " 0.45865451997196915]"
      ]
     },
     "execution_count": 38,
     "metadata": {},
     "output_type": "execute_result"
    }
   ],
   "source": [
    "[len([j for j in i if j > 0])/len(i) for i in rises] # 上涨的概率。"
   ]
  },
  {
   "cell_type": "code",
   "execution_count": 39,
   "id": "e9e4bf7d-518b-4b91-815d-5b920f86e481",
   "metadata": {},
   "outputs": [
    {
     "data": {
      "text/plain": [
       "[31648, 31608, 31593, 31568, 31524, 31492, 31461, 31443, 31429, 31394]"
      ]
     },
     "execution_count": 39,
     "metadata": {},
     "output_type": "execute_result"
    }
   ],
   "source": [
    "[len(i) for i in rises] # 这个是均值"
   ]
  },
  {
   "cell_type": "markdown",
   "id": "0c5ed782-6422-4bf1-a791-a52cea29cffc",
   "metadata": {},
   "source": [
    "# 小结\n",
    "\n",
    "看起来单独用macd的结果比加上成交量判断好多了，我这里要看一下不用任何指标的情况。不用任何指标的情况，变化率很小。  \n",
    "\n",
    "**前面的单独macd算法有错误，修改后，差多了**"
   ]
  },
  {
   "cell_type": "code",
   "execution_count": null,
   "id": "e3f20dd9-c377-4f03-8b3c-27af0a4f09dd",
   "metadata": {},
   "outputs": [],
   "source": []
  },
  {
   "cell_type": "markdown",
   "id": "5635fb83-39eb-4730-8a45-edbd7c15e899",
   "metadata": {},
   "source": [
    "# MACD和CCI"
   ]
  },
  {
   "cell_type": "code",
   "execution_count": 81,
   "id": "9dfe7bca-7523-4fed-a84e-48b81f9a6e97",
   "metadata": {},
   "outputs": [
    {
     "name": "stderr",
     "output_type": "stream",
     "text": [
      "100%|██████████████████████████████████████████████████████████████████████████████| 4275/4275 [02:50<00:00, 25.03it/s]\n"
     ]
    }
   ],
   "source": [
    "# macd的3个参数\n",
    "fastperiod=12\n",
    "slowperiod=26\n",
    "signalperiod=9\n",
    "#\n",
    "cci_threshold = -100 # 偏移均线很多。\n",
    "#\n",
    "days = 20 # 最多5天的\n",
    "rises = [[] for _ in range(days)] # 几天的涨幅都在这里边。 \n",
    "with tqdm(total=len(set(df['id']))) as pbar:\n",
    "    for j in range(len(ids)-1):\n",
    "        # 对每一个股票进行遍历\n",
    "        df2 = df.iloc[ids[j]:ids[j+1],:].copy() # 这里筛选一只股票。\n",
    "        # 然后计算macd\n",
    "        _, _, df2['macdhist'] = talib.MACD(df2['Close'], fastperiod=fastperiod, slowperiod=slowperiod, signalperiod=signalperiod)\n",
    "        df2['macdhist2'] = df2['macdhist'].shift(1) # 移动1天\n",
    "        # 这里判断金叉\n",
    "        df2['macdhist_threshold'] = 0 # 默认是0\n",
    "        # 金叉是，一天小于0，第二天大于0\n",
    "        df2.loc[(df2['macdhist2'] < 0) & (df2['macdhist']>0),'macdhist_threshold'] = 1\n",
    "        # 然后隔一天\n",
    "        df2['macdhist_threshold2'] = df2['macdhist_threshold'].shift(1)\n",
    "        # 如下判断cci，\n",
    "        df2['cci'] = talib.CCI(df2['High'], df2['Low'], df2['Close'], timeperiod=12)\n",
    "        # 往前3天。\n",
    "        df2['cci1']=df2['cci'].shift(1)\n",
    "        df2['cci2']=df2['cci'].shift(2)\n",
    "        df2['cci3']=df2['cci'].shift(3)\n",
    "        for i in range(days):\n",
    "            df2['Close{}'.format(i+1)] = df2['Close'].shift(0-(i+1))\n",
    "        # 然后关于收盘价的涨幅，这里也做处理\n",
    "        df3 = df2[(df2['macdhist_threshold2'] == 1) & ((df2['cci'] <= cci_threshold) | (df2['cci1'] <= cci_threshold) | (df2['cci2'] <= cci_threshold) | (df2['cci3'] <= cci_threshold) )].copy()\n",
    "        for i in range(days):\n",
    "            # 移动指定的天数\n",
    "            # 隔一天的涨幅情况\n",
    "            _rise = list((df3['Close{}'.format(i+1)]-df3['Close'])/df3['Close'])\n",
    "            # 这里需要筛选不是nan的\n",
    "            _rise = [i for i in _rise if not np.isnan(i)]\n",
    "            # 添加到这里边。\n",
    "            rises[i].extend(_rise)\n",
    "        pbar.update(1)"
   ]
  },
  {
   "cell_type": "code",
   "execution_count": 82,
   "id": "d7d472bf-b73d-493e-a9cb-44e594535417",
   "metadata": {},
   "outputs": [
    {
     "name": "stdout",
     "output_type": "stream",
     "text": [
      "0.0008910372229879357\t\t46.90%\n",
      "0.0008051272620123119\t\t46.54%\n",
      "0.000570953091081939\t\t46.77%\n",
      "-9.125495053166422e-05\t\t46.12%\n",
      "0.0003885396371454803\t\t46.66%\n",
      "0.0011344222454620163\t\t48.17%\n",
      "0.0019538877714135464\t\t48.40%\n",
      "0.0028294186214935495\t\t48.59%\n",
      "0.00355295401492128\t\t48.61%\n",
      "0.004842376751027489\t\t48.94%\n",
      "0.005541056409847743\t\t48.74%\n",
      "0.004928263610069815\t\t48.26%\n",
      "0.004548475496737363\t\t48.07%\n",
      "0.004268674772415047\t\t48.26%\n",
      "0.003791825442886851\t\t47.99%\n",
      "0.004819863494241724\t\t48.53%\n",
      "0.0061730831187868235\t\t48.64%\n",
      "0.007393120733171688\t\t48.69%\n",
      "0.009403250710859415\t\t49.24%\n",
      "0.010904204837031212\t\t49.66%\n"
     ]
    }
   ],
   "source": [
    "for i in range(len(rises)):\n",
    "    print(\"{}\\t\\t{:.2f}%\".format(sum(rises[i])/len(rises[i]), len([j for j in rises[i] if j > 0])/len(rises[i])*100))"
   ]
  },
  {
   "cell_type": "markdown",
   "id": "55d0cf5c-1dd8-47ce-8fdf-be5de562da8a",
   "metadata": {},
   "source": [
    "# 这里试试另一种方法\n"
   ]
  },
  {
   "cell_type": "code",
   "execution_count": null,
   "id": "63499ab4-02cf-40a2-8a13-b2eef3a57b69",
   "metadata": {},
   "outputs": [],
   "source": [
    "\n"
   ]
  },
  {
   "cell_type": "code",
   "execution_count": 75,
   "id": "65c94a84-af8f-47ba-940a-41ef53677799",
   "metadata": {},
   "outputs": [
    {
     "name": "stderr",
     "output_type": "stream",
     "text": [
      "100%|█████████████████████████████████████████████████████████████████████████████▉| 4274/4275 [02:22<00:00, 29.95it/s]\n"
     ]
    },
    {
     "name": "stdout",
     "output_type": "stream",
     "text": [
      "0.00045416293175971266\t\t45.88%\n",
      "0.000435968681260607\t\t45.67%\n",
      "0.0004707787628831449\t\t46.09%\n",
      "0.0005030779842016228\t\t45.90%\n",
      "0.0011458066990749475\t\t46.80%\n",
      "0.0023988243197503624\t\t47.98%\n",
      "0.0027931913442597297\t\t47.82%\n",
      "0.00364624348223129\t\t47.93%\n",
      "0.004412109943199017\t\t48.45%\n",
      "0.004892713036795297\t\t48.50%\n",
      "0.0051452410497447145\t\t48.26%\n",
      "0.0050299444741031705\t\t48.17%\n",
      "0.005022470965913172\t\t48.16%\n",
      "0.00544088923197067\t\t48.28%\n",
      "0.006051463825142927\t\t48.49%\n",
      "0.006650920714881559\t\t48.51%\n",
      "0.007749575954722256\t\t48.49%\n",
      "0.008140351809292576\t\t48.37%\n",
      "0.00872600970667432\t\t48.39%\n",
      "0.00897302047636247\t\t48.48%\n"
     ]
    }
   ],
   "source": [
    "codes = list(set(df['id'])) # 这里是所有的股票列表\n",
    "\n",
    "\n",
    "\n",
    "# macd的3个参数\n",
    "fastperiod=12\n",
    "slowperiod=26\n",
    "signalperiod=9\n",
    "#\n",
    "days = 20 # 最多N天的\n",
    "rises = [[] for _ in range(days)] # 几天的涨幅都在这里边。 \n",
    "with tqdm(total=len(set(df['id']))) as pbar:\n",
    "    for j in range(len(ids)-1):\n",
    "        # 对每一个股票进行遍历\n",
    "        df2 = df.iloc[ids[j]:ids[j+1],:].copy() # 这里筛选一只股票。\n",
    "        # 然后计算macd，这里指示看柱状。\n",
    "        _, _, df2['macdhist'] = talib.MACD(df2['Close'], fastperiod=fastperiod, slowperiod=slowperiod, signalperiod=signalperiod)\n",
    "        df2['macdhist2'] = df2['macdhist'].shift(1) # 移动1天，为了判断昨天\n",
    "        # 这里判断金叉\n",
    "        df2['macdhist_threshold'] = 0 # 默认是0\n",
    "        # 金叉是，一天小于0，第二天大于0。\n",
    "        df2.loc[(df2['macdhist2'] < 0) & (df2['macdhist']>0),'macdhist_threshold'] = 1\n",
    "        # 然后隔一天，防止未来函数。\n",
    "        df2['macdhist_threshold2'] = df2['macdhist_threshold'].shift(1)\n",
    "        # 这里先做收盘价shift。\n",
    "        for i in range(days):\n",
    "            df2['Close{}'.format(i+1)] = df2['Close'].shift(0-(i+1))\n",
    "        # 然后关于收盘价的涨幅，这里也做处理，筛选出金叉的日期（这里是隔天的）\n",
    "        df3 = df2[df2['macdhist_threshold2'] == 1].copy()  \n",
    "        \n",
    "        for i in range(days):\n",
    "            # 移动指定的天数\n",
    "            # 隔一天的涨幅情况\n",
    "            _rise = list((df3['Close{}'.format(i+1)]-df3['Close'])/df3['Close'])\n",
    "            # 这里需要筛选不是nan的\n",
    "            _rise = [i for i in _rise if not np.isnan(i)]\n",
    "            # 添加到这里边。\n",
    "            rises[i].extend(_rise)\n",
    "        pbar.update(1)\n",
    "        \n",
    "for i in range(len(rises)):\n",
    "    print(\"{}\\t\\t{:.2f}%\".format(sum(rises[i])/len(rises[i]), len([j for j in rises[i] if j > 0])/len(rises[i])*100))"
   ]
  },
  {
   "cell_type": "markdown",
   "id": "8149d467-99c1-4163-8dbe-7a7849123f7c",
   "metadata": {},
   "source": [
    "可以看到这种算法大大的提高了速度。"
   ]
  },
  {
   "cell_type": "code",
   "execution_count": null,
   "id": "bb381b41-d871-4462-a93e-230b1f78ff91",
   "metadata": {},
   "outputs": [],
   "source": []
  },
  {
   "cell_type": "code",
   "execution_count": null,
   "id": "fd0b181f-d45f-443b-8e5d-1a4b2101413b",
   "metadata": {},
   "outputs": [],
   "source": []
  }
 ],
 "metadata": {
  "kernelspec": {
   "display_name": "Python 3 (ipykernel)",
   "language": "python",
   "name": "python3"
  },
  "language_info": {
   "codemirror_mode": {
    "name": "ipython",
    "version": 3
   },
   "file_extension": ".py",
   "mimetype": "text/x-python",
   "name": "python",
   "nbconvert_exporter": "python",
   "pygments_lexer": "ipython3",
   "version": "3.9.12"
  }
 },
 "nbformat": 4,
 "nbformat_minor": 5
}
