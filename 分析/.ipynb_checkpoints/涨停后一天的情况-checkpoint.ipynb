{
 "cells": [
  {
   "cell_type": "code",
   "execution_count": 1,
   "id": "83b4527d-4961-4b72-b5b4-6847cdc860a3",
   "metadata": {},
   "outputs": [],
   "source": [
    "import pandas as pd\n",
    "import numpy as np\n",
    "import matplotlib\n",
    "# matplotlib.use('agg')\n",
    "import matplotlib.pyplot as plt\n",
    "%matplotlib inline\n",
    "import os\n",
    "from tqdm import tqdm\n",
    "import talib"
   ]
  },
  {
   "cell_type": "code",
   "execution_count": 2,
   "id": "17cffdd5-6211-4fef-ada8-4e479803383d",
   "metadata": {},
   "outputs": [
    {
     "data": {
      "text/html": [
       "<div>\n",
       "<style scoped>\n",
       "    .dataframe tbody tr th:only-of-type {\n",
       "        vertical-align: middle;\n",
       "    }\n",
       "\n",
       "    .dataframe tbody tr th {\n",
       "        vertical-align: top;\n",
       "    }\n",
       "\n",
       "    .dataframe thead th {\n",
       "        text-align: right;\n",
       "    }\n",
       "</style>\n",
       "<table border=\"1\" class=\"dataframe\">\n",
       "  <thead>\n",
       "    <tr style=\"text-align: right;\">\n",
       "      <th></th>\n",
       "      <th>id</th>\n",
       "      <th>i</th>\n",
       "      <th>Date</th>\n",
       "      <th>Open</th>\n",
       "      <th>High</th>\n",
       "      <th>Low</th>\n",
       "      <th>Close</th>\n",
       "      <th>Volume</th>\n",
       "      <th>id2</th>\n",
       "    </tr>\n",
       "  </thead>\n",
       "  <tbody>\n",
       "    <tr>\n",
       "      <th>0</th>\n",
       "      <td>000001.XSHE</td>\n",
       "      <td>0</td>\n",
       "      <td>2018-12-24</td>\n",
       "      <td>8.91</td>\n",
       "      <td>8.96</td>\n",
       "      <td>8.83</td>\n",
       "      <td>8.93</td>\n",
       "      <td>53694517.0</td>\n",
       "      <td>NaN</td>\n",
       "    </tr>\n",
       "    <tr>\n",
       "      <th>1</th>\n",
       "      <td>000001.XSHE</td>\n",
       "      <td>1</td>\n",
       "      <td>2018-12-25</td>\n",
       "      <td>8.81</td>\n",
       "      <td>8.94</td>\n",
       "      <td>8.73</td>\n",
       "      <td>8.86</td>\n",
       "      <td>61867885.0</td>\n",
       "      <td>000001.XSHE</td>\n",
       "    </tr>\n",
       "    <tr>\n",
       "      <th>2</th>\n",
       "      <td>000001.XSHE</td>\n",
       "      <td>2</td>\n",
       "      <td>2018-12-26</td>\n",
       "      <td>8.87</td>\n",
       "      <td>8.93</td>\n",
       "      <td>8.79</td>\n",
       "      <td>8.82</td>\n",
       "      <td>44415942.0</td>\n",
       "      <td>000001.XSHE</td>\n",
       "    </tr>\n",
       "    <tr>\n",
       "      <th>3</th>\n",
       "      <td>000001.XSHE</td>\n",
       "      <td>3</td>\n",
       "      <td>2018-12-27</td>\n",
       "      <td>8.96</td>\n",
       "      <td>9.00</td>\n",
       "      <td>8.80</td>\n",
       "      <td>8.80</td>\n",
       "      <td>65873247.0</td>\n",
       "      <td>000001.XSHE</td>\n",
       "    </tr>\n",
       "    <tr>\n",
       "      <th>4</th>\n",
       "      <td>000001.XSHE</td>\n",
       "      <td>4</td>\n",
       "      <td>2018-12-28</td>\n",
       "      <td>8.83</td>\n",
       "      <td>8.97</td>\n",
       "      <td>8.83</td>\n",
       "      <td>8.89</td>\n",
       "      <td>60812019.0</td>\n",
       "      <td>000001.XSHE</td>\n",
       "    </tr>\n",
       "  </tbody>\n",
       "</table>\n",
       "</div>"
      ],
      "text/plain": [
       "            id  i        Date  Open  High   Low  Close      Volume  \\\n",
       "0  000001.XSHE  0  2018-12-24  8.91  8.96  8.83   8.93  53694517.0   \n",
       "1  000001.XSHE  1  2018-12-25  8.81  8.94  8.73   8.86  61867885.0   \n",
       "2  000001.XSHE  2  2018-12-26  8.87  8.93  8.79   8.82  44415942.0   \n",
       "3  000001.XSHE  3  2018-12-27  8.96  9.00  8.80   8.80  65873247.0   \n",
       "4  000001.XSHE  4  2018-12-28  8.83  8.97  8.83   8.89  60812019.0   \n",
       "\n",
       "           id2  \n",
       "0          NaN  \n",
       "1  000001.XSHE  \n",
       "2  000001.XSHE  \n",
       "3  000001.XSHE  \n",
       "4  000001.XSHE  "
      ]
     },
     "execution_count": 2,
     "metadata": {},
     "output_type": "execute_result"
    }
   ],
   "source": [
    "# 这里导入数据\n",
    "df = pd.read_csv(\"../数据获取/聚宽数据/最新数据.csv\")\n",
    "df.columns = ['id','i', 'Date','Open','High','Low','Close','Volume']\n",
    "df['id2'] =df['id'].shift()\n",
    "df['i'] = range(len(df))\n",
    "ids = list(df.loc[df['id'] != df['id2'], 'i']) # 这个是单个股票序号的起始。\n",
    "ids.append(len(df)-1) # 添加最后1天。\n",
    "df.head()"
   ]
  },
  {
   "cell_type": "code",
   "execution_count": 39,
   "id": "17cab869-112b-47be-b61a-2a4410e8dd17",
   "metadata": {},
   "outputs": [
    {
     "name": "stderr",
     "output_type": "stream",
     "text": [
      "100%|██████████████████████████████████████████████████████████████████████████████| 4275/4275 [00:54<00:00, 78.09it/s]\n"
     ]
    }
   ],
   "source": [
    "after_up_max_1 = [] # 涨停后一天的情况\n",
    "after_up_max_2 = [] # 第二天的情况\n",
    "with tqdm(total=len(set(df['id']))) as pbar:\n",
    "    for j in range(len(ids)-1):\n",
    "        # 对每一个股票进行遍历\n",
    "        df2 = df.iloc[ids[j]:ids[j+1],:].copy() # 这里筛选一只股票。\n",
    "        df2['Close2'] = df2['Close'].shift(1) # 收盘价移动到下一天\n",
    "        df2['Close3'] = df2['Close'].shift(2)\n",
    "        # 涨停的判断，我这里是95%以上\n",
    "        # for i in ((df2['Close']-df2['Open'])/df2['Open']*100).tolist():\n",
    "        #     print(i)\n",
    "        df2['up_max'] = 0 \n",
    "        df2.loc[(df2['Close']-df2['Close2'])/df2['Close2'] > 0.098, 'up_max'] = 1 # 这一天的是涨停的。\n",
    "        df2['up_max2'] = df2['up_max'].shift(1) # 下一天\n",
    "        df2['up_max3'] = df2['up_max'].shift(2) # 下一天\n",
    "        # 这里要取消开盘价收盘价最高价最低价是一样的情况，这种，我是上不去的。\n",
    "        df2.loc[df2['High'] == df2['Low'], 'up_max'] = 0\n",
    "        \n",
    "        # 然后这里计算涨停后一天的情况。\n",
    "        # 我这里单纯比较收盘价。\n",
    "        # df2.dropna(axis=0, how='any',inplace=True) # 先删除无效的\n",
    "        # 这里计算涨幅\n",
    "        df3 = df2.loc[df2['up_max2'] == 1, :].copy()\n",
    "        after_up_max_1.extend(((df3['Close']-df3['Close2'])/df3['Close2']*100).tolist())\n",
    "        #\n",
    "        df4 = df2.loc[df2['up_max3'] == 1, :].copy()\n",
    "        after_up_max_2.extend(((df3['Close']-df3['Close3'])/df3['Close3']*100).tolist())\n",
    "        pbar.update(1)\n",
    "\n",
    "        "
   ]
  },
  {
   "cell_type": "code",
   "execution_count": 40,
   "id": "cbeec795-1fa3-4f2a-a043-8436f349d935",
   "metadata": {},
   "outputs": [
    {
     "data": {
      "text/plain": [
       "60538"
      ]
     },
     "execution_count": 40,
     "metadata": {},
     "output_type": "execute_result"
    }
   ],
   "source": [
    "len(after_up_max_1)"
   ]
  },
  {
   "cell_type": "code",
   "execution_count": 41,
   "id": "c6ef527a-dd2e-4597-8083-80bc23d5a075",
   "metadata": {},
   "outputs": [
    {
     "data": {
      "text/plain": [
       "1.9100969963374856"
      ]
     },
     "execution_count": 41,
     "metadata": {},
     "output_type": "execute_result"
    }
   ],
   "source": [
    "sum(after_up_max_1)/len(after_up_max_1)"
   ]
  },
  {
   "cell_type": "code",
   "execution_count": 42,
   "id": "1ef794b3-902e-4693-804c-6947ff816c79",
   "metadata": {},
   "outputs": [
    {
     "data": {
      "text/plain": [
       "58.17503055931812"
      ]
     },
     "execution_count": 42,
     "metadata": {},
     "output_type": "execute_result"
    }
   ],
   "source": [
    "len([i for i in after_up_max_1 if i > 0])/len(after_up_max_1)*100"
   ]
  },
  {
   "cell_type": "markdown",
   "id": "934e7472-c093-46d9-ade9-71094d3e08a2",
   "metadata": {},
   "source": [
    "可以看到涨停后的下一天还是涨的，不过概率不大。"
   ]
  },
  {
   "cell_type": "code",
   "execution_count": 44,
   "id": "36eebff3-3739-42ad-b5fd-d13aaf264363",
   "metadata": {},
   "outputs": [
    {
     "data": {
      "text/plain": [
       "12.852112549117152"
      ]
     },
     "execution_count": 44,
     "metadata": {},
     "output_type": "execute_result"
    }
   ],
   "source": [
    "# 第二天的\n",
    "sum(after_up_max_2)/len(after_up_max_2)"
   ]
  },
  {
   "cell_type": "code",
   "execution_count": 45,
   "id": "6575c6a0-2697-4470-ace8-1f2f585948a4",
   "metadata": {},
   "outputs": [
    {
     "data": {
      "text/plain": [
       "96.18421487330272"
      ]
     },
     "execution_count": 45,
     "metadata": {},
     "output_type": "execute_result"
    }
   ],
   "source": [
    "len([i for i in after_up_max_2 if i > 0])/len(after_up_max_2)*100"
   ]
  },
  {
   "cell_type": "code",
   "execution_count": 60,
   "id": "4873b0a4-193e-4323-9ccb-f1e4dce3aec6",
   "metadata": {},
   "outputs": [
    {
     "name": "stderr",
     "output_type": "stream",
     "text": [
      "100%|██████████████████████████████████████████████████████████████████████████████| 4275/4275 [02:02<00:00, 34.79it/s]\n"
     ]
    }
   ],
   "source": [
    "after_days = 5 # 未来5天的\n",
    "after_up_max = [[] for _ in range(after_days)]  # 未来几天的都\n",
    "with tqdm(total=len(set(df['id']))) as pbar:\n",
    "    for j in range(len(ids)-1):\n",
    "        # 对每一个股票进行遍历\n",
    "        df2 = df.iloc[ids[j]:ids[j+1],:].copy() # 这里筛选一只股票。\n",
    "        for i in range(after_days):\n",
    "            df2['Close{}'.format(i+1)] = df2['Close'].shift(0-(i+1)) # 未来的收盘价移动\n",
    "        # 默认涨停为0\n",
    "        df2['up_max'] = 0 \n",
    "        df2['Close-1'] = df2['Close'].shift(1) # 昨天的收盘价。\n",
    "        df2.loc[(df2['Close']-df2['Close-1'])/df2['Close-1'] > 0.098, 'up_max'] = 1 # 这一天的是涨停的。\n",
    "        df2.loc[(df2['High']-df2['Close'])/df2['Close'] > 0.098, 'up_max'] = 1      # 两种涨停\n",
    "        # 这里要取消开盘价收盘价最高价最低价是一样的情况，这种，我是上不去的。\n",
    "        df2['up_not'] = 0\n",
    "        df2.loc[df2['High']==df2['Low'], 'up_not']=1\n",
    "        df2['up_not'] = df2['up_not'].shift(-1) # 往前一天。\n",
    "        df2.dropna(axis=0, how='any', inplace=True) # 我这里不需要这个空值，直接删除吧。\n",
    "        for i in range(after_days):\n",
    "            # 统计这几天的情况\n",
    "            df3 = df2.loc[(df2['up_max'] == 1) & (df2['up_not'] == 0), :].copy() # 先筛选\n",
    "            after_up_max[i].extend(\n",
    "                ((df3['Close{}'.format(i+1)]-df3['Close'])/df3['Close']*100).tolist()\n",
    "            )\n",
    "        pbar.update(1)"
   ]
  },
  {
   "cell_type": "code",
   "execution_count": 68,
   "id": "8448451d-77eb-4c40-859d-b90ff78c5137",
   "metadata": {},
   "outputs": [
    {
     "name": "stdout",
     "output_type": "stream",
     "text": [
      "往后1, \t平均涨幅:0.6403400156163194, \t胜率:51.57%, \t差不多涨停的概率:14.44%\n",
      "往后2, \t平均涨幅:0.5017452837844826, \t胜率:47.28%, \t差不多涨停的概率:14.04%\n",
      "往后3, \t平均涨幅:0.36440621962879804, \t胜率:46.16%, \t差不多涨停的概率:15.66%\n",
      "往后4, \t平均涨幅:0.33232944047707824, \t胜率:45.55%, \t差不多涨停的概率:17.12%\n",
      "往后5, \t平均涨幅:0.16789267715045197, \t胜率:44.49%, \t差不多涨停的概率:17.84%\n"
     ]
    }
   ],
   "source": [
    "for i in range(after_days):\n",
    "    print(\"往后{}, \\t平均涨幅:{}, \\t胜率:{:.2f}%, \\t差不多涨停的概率:{:.2f}%\".format(\n",
    "        i+1,\n",
    "        sum(after_up_max[i])/len(after_up_max[i]),\n",
    "        len([i for i in after_up_max[i] if i > 0])/len(after_up_max[i])*100,\n",
    "        len([i for i in after_up_max[i] if i > 9])/len(after_up_max[i])*100\n",
    "    ))"
   ]
  },
  {
   "cell_type": "markdown",
   "id": "51ba733a-eb65-4f97-9863-f10458577cfe",
   "metadata": {},
   "source": [
    "这个范围真低。"
   ]
  },
  {
   "cell_type": "code",
   "execution_count": 62,
   "id": "ff7a7088-d71e-43be-b1ba-41cca93b2cba",
   "metadata": {},
   "outputs": [
    {
     "data": {
      "text/plain": [
       "81107"
      ]
     },
     "execution_count": 62,
     "metadata": {},
     "output_type": "execute_result"
    }
   ],
   "source": [
    "len(after_up_max[0])"
   ]
  },
  {
   "cell_type": "code",
   "execution_count": null,
   "id": "a5fa4728-5901-4e5e-bc76-93662be1bea9",
   "metadata": {},
   "outputs": [],
   "source": [
    "# 我这里判断一下形态，如果形态支持变强，那么最好了。"
   ]
  },
  {
   "cell_type": "code",
   "execution_count": 69,
   "id": "bc140018-015d-4dcd-833b-dc96a96aad26",
   "metadata": {},
   "outputs": [
    {
     "name": "stderr",
     "output_type": "stream",
     "text": [
      "100%|██████████████████████████████████████████████████████████████████████████████| 4275/4275 [09:13<00:00,  7.72it/s]\n"
     ]
    }
   ],
   "source": [
    "xingtai = {\n",
    "    \"CDL3INSIDE\":talib.CDL3INSIDE, \n",
    "    \"CDL3STARSINSOUTH\":talib.CDL3STARSINSOUTH,\n",
    "    \"CDL3WHITESOLDIERS\":talib.CDL3WHITESOLDIERS,\n",
    "    \"CDLBELTHOLD\":talib.CDLBELTHOLD,\n",
    "    \"CDLBREAKAWAY\":talib.CDLBREAKAWAY,\n",
    "    \"CDLPIERCING\":talib.CDLPIERCING,\n",
    "    \"CDLRISEFALL3METHODS\":talib.CDLRISEFALL3METHODS,\n",
    "    \"CDLXSIDEGAP3METHODS\":talib.CDLXSIDEGAP3METHODS ,\n",
    "}\n",
    "\n",
    "\n",
    "after_days = 5 # 未来5天的\n",
    "after_up_max = {key:[[] for _ in range(after_days)] for key in xingtai}  # 未来几天关于\n",
    "with tqdm(total=len(set(df['id']))) as pbar:\n",
    "    for j in range(len(ids)-1):\n",
    "        # 对每一个股票进行遍历\n",
    "        df2 = df.iloc[ids[j]:ids[j+1],:].copy() # 这里筛选一只股票。\n",
    "        for i in range(after_days):\n",
    "            df2['Close{}'.format(i+1)] = df2['Close'].shift(0-(i+1)) # 未来的收盘价移动\n",
    "        # 然后这里判断形态\n",
    "        for key in xingtai:\n",
    "            df2[key] = xingtai[key](df2['Open'], df2['High'], df2['Low'], df2['Close'])\n",
    "        # 默认涨停为0\n",
    "        df2['up_max'] = 0 \n",
    "        df2['Close-1'] = df2['Close'].shift(1) # 昨天的收盘价。\n",
    "        df2.loc[(df2['Close']-df2['Close-1'])/df2['Close-1'] > 0.098, 'up_max'] = 1 # 这一天的是涨停的。\n",
    "        df2.loc[(df2['High']-df2['Close'])/df2['Close'] > 0.098, 'up_max'] = 1      # 两种涨停\n",
    "        # 这里要取消开盘价收盘价最高价最低价是一样的情况，这种，我是上不去的。\n",
    "        df2['up_not'] = 0\n",
    "        df2.loc[df2['High']==df2['Low'], 'up_not']=1\n",
    "        df2['up_not'] = df2['up_not'].shift(-1) # 往前一天。\n",
    "        df2.dropna(axis=0, how='any', inplace=True) # 我这里不需要这个空值，直接删除吧。\n",
    "        for i in range(after_days):\n",
    "            # 统计这几天的情况\n",
    "            for key in xingtai:\n",
    "                # 这里还要判断形态\n",
    "                df3 = df2.loc[(df2['up_max'] == 1) & (df2['up_not'] == 0) & (df2[key] > 0), :].copy() # 先筛选\n",
    "                after_up_max[key][i].extend(\n",
    "                    ((df3['Close{}'.format(i+1)]-df3['Close'])/df3['Close']*100).tolist()\n",
    "                )\n",
    "\n",
    "        pbar.update(1)"
   ]
  },
  {
   "cell_type": "code",
   "execution_count": 78,
   "id": "409f8633-de79-4b33-a537-9625f0c16b60",
   "metadata": {},
   "outputs": [
    {
     "name": "stdout",
     "output_type": "stream",
     "text": [
      "CDL3INSIDE - 1332 次\n",
      "CDL3INSIDE:往后1, \t平均涨幅:1.3952736147473919, \t胜率:56.01%, \t差不多涨停的概率:13.21%\n",
      "CDL3INSIDE:往后2, \t平均涨幅:1.7042643965655186, \t胜率:54.35%, \t差不多涨停的概率:13.36%\n",
      "CDL3INSIDE:往后3, \t平均涨幅:1.5796566650033255, \t胜率:53.30%, \t差不多涨停的概率:16.29%\n",
      "CDL3INSIDE:往后4, \t平均涨幅:1.4819363747787697, \t胜率:51.58%, \t差不多涨停的概率:17.42%\n",
      "CDL3INSIDE:往后5, \t平均涨幅:1.0470589982616634, \t胜率:49.10%, \t差不多涨停的概率:17.42%\n",
      "************************************************************************************************************************\n",
      "CDL3STARSINSOUTH - 0 次\n",
      "************************************************************************************************************************\n",
      "CDL3WHITESOLDIERS - 269 次\n",
      "CDL3WHITESOLDIERS:往后1, \t平均涨幅:1.1187481091526534, \t胜率:53.53%, \t差不多涨停的概率:24.16%\n",
      "CDL3WHITESOLDIERS:往后2, \t平均涨幅:0.40319611552806184, \t胜率:43.49%, \t差不多涨停的概率:16.36%\n",
      "CDL3WHITESOLDIERS:往后3, \t平均涨幅:0.13171363756139207, \t胜率:44.98%, \t差不多涨停的概率:16.73%\n",
      "CDL3WHITESOLDIERS:往后4, \t平均涨幅:0.41318099623749016, \t胜率:41.64%, \t差不多涨停的概率:20.45%\n",
      "CDL3WHITESOLDIERS:往后5, \t平均涨幅:-0.3567208171414405, \t胜率:39.41%, \t差不多涨停的概率:17.84%\n",
      "************************************************************************************************************************\n",
      "CDLBELTHOLD - 20050 次\n",
      "CDLBELTHOLD:往后1, \t平均涨幅:1.3062738494792914, \t胜率:55.80%, \t差不多涨停的概率:14.19%\n",
      "CDLBELTHOLD:往后2, \t平均涨幅:1.3532169516960912, \t胜率:51.98%, \t差不多涨停的概率:14.12%\n",
      "CDLBELTHOLD:往后3, \t平均涨幅:1.2841454510499524, \t胜率:50.33%, \t差不多涨停的概率:16.31%\n",
      "CDLBELTHOLD:往后4, \t平均涨幅:1.263460624266339, \t胜率:48.96%, \t差不多涨停的概率:17.88%\n",
      "CDLBELTHOLD:往后5, \t平均涨幅:1.1397424459239232, \t胜率:48.00%, \t差不多涨停的概率:18.10%\n",
      "************************************************************************************************************************\n",
      "CDLBREAKAWAY - 6 次\n",
      "CDLBREAKAWAY:往后1, \t平均涨幅:1.7915381019471803, \t胜率:50.00%, \t差不多涨停的概率:16.67%\n",
      "CDLBREAKAWAY:往后2, \t平均涨幅:2.7923670313816342, \t胜率:66.67%, \t差不多涨停的概率:16.67%\n",
      "CDLBREAKAWAY:往后3, \t平均涨幅:0.6705463759716537, \t胜率:33.33%, \t差不多涨停的概率:16.67%\n",
      "CDLBREAKAWAY:往后4, \t平均涨幅:2.207625340521322, \t胜率:50.00%, \t差不多涨停的概率:16.67%\n",
      "CDLBREAKAWAY:往后5, \t平均涨幅:3.493652459850761, \t胜率:50.00%, \t差不多涨停的概率:16.67%\n",
      "************************************************************************************************************************\n",
      "CDLPIERCING - 125 次\n",
      "CDLPIERCING:往后1, \t平均涨幅:1.519240599295804, \t胜率:56.00%, \t差不多涨停的概率:20.80%\n",
      "CDLPIERCING:往后2, \t平均涨幅:1.4043446222227673, \t胜率:52.00%, \t差不多涨停的概率:18.40%\n",
      "CDLPIERCING:往后3, \t平均涨幅:1.6131740031696813, \t胜率:51.20%, \t差不多涨停的概率:24.00%\n",
      "CDLPIERCING:往后4, \t平均涨幅:1.089282064449131, \t胜率:49.60%, \t差不多涨停的概率:22.40%\n",
      "CDLPIERCING:往后5, \t平均涨幅:0.48352034791059034, \t胜率:44.80%, \t差不多涨停的概率:20.00%\n",
      "************************************************************************************************************************\n",
      "CDLRISEFALL3METHODS - 53 次\n",
      "CDLRISEFALL3METHODS:往后1, \t平均涨幅:2.06556175635868, \t胜率:62.26%, \t差不多涨停的概率:18.87%\n",
      "CDLRISEFALL3METHODS:往后2, \t平均涨幅:2.186843640921471, \t胜率:50.94%, \t差不多涨停的概率:15.09%\n",
      "CDLRISEFALL3METHODS:往后3, \t平均涨幅:2.503489855404889, \t胜率:54.72%, \t差不多涨停的概率:16.98%\n",
      "CDLRISEFALL3METHODS:往后4, \t平均涨幅:3.594180024970334, \t胜率:58.49%, \t差不多涨停的概率:18.87%\n",
      "CDLRISEFALL3METHODS:往后5, \t平均涨幅:3.5037170335499703, \t胜率:60.38%, \t差不多涨停的概率:20.75%\n",
      "************************************************************************************************************************\n",
      "CDLXSIDEGAP3METHODS - 263 次\n",
      "CDLXSIDEGAP3METHODS:往后1, \t平均涨幅:-1.6049810983701562, \t胜率:38.40%, \t差不多涨停的概率:6.84%\n",
      "CDLXSIDEGAP3METHODS:往后2, \t平均涨幅:-2.3471427431437624, \t胜率:34.22%, \t差不多涨停的概率:8.75%\n",
      "CDLXSIDEGAP3METHODS:往后3, \t平均涨幅:-3.126068752761865, \t胜率:27.38%, \t差不多涨停的概率:7.98%\n",
      "CDLXSIDEGAP3METHODS:往后4, \t平均涨幅:-3.5557821228995845, \t胜率:28.90%, \t差不多涨停的概率:9.89%\n",
      "CDLXSIDEGAP3METHODS:往后5, \t平均涨幅:-3.7009873391505788, \t胜率:31.94%, \t差不多涨停的概率:9.89%\n",
      "************************************************************************************************************************\n"
     ]
    }
   ],
   "source": [
    "for key in xingtai:\n",
    "    print(\"{} - {} 次\".format(key, len(after_up_max[key][0])))\n",
    "    if len(after_up_max[key][0]) > 0:\n",
    "        for i in range(after_days):\n",
    "            print(\"{}:往后{}, \\t平均涨幅:{}, \\t胜率:{:.2f}%, \\t差不多涨停的概率:{:.2f}%\".format(\n",
    "                key,\n",
    "                i+1,\n",
    "                sum(after_up_max[key][i])/len(after_up_max[key][i]),\n",
    "                len([i for i in after_up_max[key][i] if i > 0])/len(after_up_max[key][i])*100,\n",
    "                len([i for i in after_up_max[key][i] if i > 9])/len(after_up_max[key][i])*100\n",
    "            ))\n",
    "    print(\"*\"*120)"
   ]
  },
  {
   "cell_type": "markdown",
   "id": "fee8ba24-4e2d-407a-b819-0bd503f6f85e",
   "metadata": {},
   "source": [
    "这里解释一下，  \n",
    "CDLRISEFALL3METHODS ： 上升/下降三法，日K线模式，以上升三法为例，上涨趋势中，第一日长阳线，中间三日价格在第一日范围内小幅震荡，第五日长阳线，收盘价高于第一日收盘价，预示股价上升   \n",
    "CDLPIERCING ： 刺透形态，两日K线模式，下跌趋势中，第一日阴线，第二日收盘价低于前一日最低价，收盘价处在第一日实体上部，预示着底部反转"
   ]
  },
  {
   "cell_type": "code",
   "execution_count": null,
   "id": "3aa915ba-9f18-4867-b8be-8912b9e7ae3d",
   "metadata": {},
   "outputs": [],
   "source": []
  }
 ],
 "metadata": {
  "kernelspec": {
   "display_name": "Python 3 (ipykernel)",
   "language": "python",
   "name": "python3"
  },
  "language_info": {
   "codemirror_mode": {
    "name": "ipython",
    "version": 3
   },
   "file_extension": ".py",
   "mimetype": "text/x-python",
   "name": "python",
   "nbconvert_exporter": "python",
   "pygments_lexer": "ipython3",
   "version": "3.9.12"
  }
 },
 "nbformat": 4,
 "nbformat_minor": 5
}
