{
 "cells": [
  {
   "cell_type": "markdown",
   "id": "987b9d1a-03ea-4ae3-a5b7-2c9603b1b1e1",
   "metadata": {},
   "source": [
    "我这个主要是寻找5日均线斜率最大的几只股票"
   ]
  },
  {
   "cell_type": "code",
   "execution_count": 1,
   "id": "09ba679b-80c4-4da7-beed-e5e0c3543606",
   "metadata": {},
   "outputs": [],
   "source": [
    "import pandas as pd\n",
    "import numpy as np\n",
    "import talib\n",
    "# import tqdm\n",
    "from tqdm.notebook import tqdm\n",
    "\n",
    "%matplotlib inline\n",
    "import matplotlib.pyplot as plt\n",
    "plt.rcParams['figure.figsize'] = (15.0, 8.0) # 单位是inches"
   ]
  },
  {
   "cell_type": "markdown",
   "id": "18f335fe-c029-4276-8cad-a4caf96eb472",
   "metadata": {},
   "source": [
    "# 导入数据"
   ]
  },
  {
   "cell_type": "code",
   "execution_count": 3,
   "id": "4cbf0e8a-05e0-41d6-9639-16ba9ec5e919",
   "metadata": {},
   "outputs": [
    {
     "name": "stdout",
     "output_type": "stream",
     "text": [
      "共导入3704160行数据,股票个数：4136,平均每个股票的的数据量:895\n"
     ]
    },
    {
     "data": {
      "text/html": [
       "<div>\n",
       "<style scoped>\n",
       "    .dataframe tbody tr th:only-of-type {\n",
       "        vertical-align: middle;\n",
       "    }\n",
       "\n",
       "    .dataframe tbody tr th {\n",
       "        vertical-align: top;\n",
       "    }\n",
       "\n",
       "    .dataframe thead th {\n",
       "        text-align: right;\n",
       "    }\n",
       "</style>\n",
       "<table border=\"1\" class=\"dataframe\">\n",
       "  <thead>\n",
       "    <tr style=\"text-align: right;\">\n",
       "      <th></th>\n",
       "      <th></th>\n",
       "      <th>date</th>\n",
       "      <th>open</th>\n",
       "      <th>high</th>\n",
       "      <th>low</th>\n",
       "      <th>close</th>\n",
       "    </tr>\n",
       "    <tr>\n",
       "      <th>Unnamed: 0</th>\n",
       "      <th>Unnamed: 1</th>\n",
       "      <th></th>\n",
       "      <th></th>\n",
       "      <th></th>\n",
       "      <th></th>\n",
       "      <th></th>\n",
       "    </tr>\n",
       "  </thead>\n",
       "  <tbody>\n",
       "    <tr>\n",
       "      <th rowspan=\"5\" valign=\"top\">000001.XSHE</th>\n",
       "      <th>0</th>\n",
       "      <td>2018-04-18</td>\n",
       "      <td>10.89</td>\n",
       "      <td>11.04</td>\n",
       "      <td>10.72</td>\n",
       "      <td>10.93</td>\n",
       "    </tr>\n",
       "    <tr>\n",
       "      <th>1</th>\n",
       "      <td>2018-04-19</td>\n",
       "      <td>10.95</td>\n",
       "      <td>11.11</td>\n",
       "      <td>10.86</td>\n",
       "      <td>10.90</td>\n",
       "    </tr>\n",
       "    <tr>\n",
       "      <th>2</th>\n",
       "      <td>2018-04-20</td>\n",
       "      <td>10.94</td>\n",
       "      <td>11.01</td>\n",
       "      <td>10.65</td>\n",
       "      <td>10.79</td>\n",
       "    </tr>\n",
       "    <tr>\n",
       "      <th>3</th>\n",
       "      <td>2018-04-23</td>\n",
       "      <td>10.74</td>\n",
       "      <td>11.04</td>\n",
       "      <td>10.70</td>\n",
       "      <td>11.00</td>\n",
       "    </tr>\n",
       "    <tr>\n",
       "      <th>4</th>\n",
       "      <td>2018-04-24</td>\n",
       "      <td>11.06</td>\n",
       "      <td>11.35</td>\n",
       "      <td>11.01</td>\n",
       "      <td>11.28</td>\n",
       "    </tr>\n",
       "  </tbody>\n",
       "</table>\n",
       "</div>"
      ],
      "text/plain": [
       "                              date   open   high    low  close\n",
       "Unnamed: 0  Unnamed: 1                                        \n",
       "000001.XSHE 0           2018-04-18  10.89  11.04  10.72  10.93\n",
       "            1           2018-04-19  10.95  11.11  10.86  10.90\n",
       "            2           2018-04-20  10.94  11.01  10.65  10.79\n",
       "            3           2018-04-23  10.74  11.04  10.70  11.00\n",
       "            4           2018-04-24  11.06  11.35  11.01  11.28"
      ]
     },
     "execution_count": 3,
     "metadata": {},
     "output_type": "execute_result"
    }
   ],
   "source": [
    "data = pd.read_csv(\"../../数据获取/聚宽数据/最新数据.csv\")\n",
    "data=data.set_index(['Unnamed: 0', 'Unnamed: 1'])\n",
    "print('共导入{}行数据,股票个数：{},平均每个股票的的数据量:{}'.format(\n",
    "    len(data),\n",
    "    len(data.index.levels[0]),\n",
    "    len(data)//len(data.index.levels[0])\n",
    "))\n",
    "data.head()"
   ]
  },
  {
   "cell_type": "markdown",
   "id": "edb4156f-7ae5-4e03-8ece-5751c7be8af9",
   "metadata": {},
   "source": [
    "# 统计"
   ]
  },
  {
   "cell_type": "markdown",
   "id": "8a319c68-0b80-4b5f-94aa-7b9bb8628656",
   "metadata": {},
   "source": [
    "## 函数"
   ]
  },
  {
   "cell_type": "code",
   "execution_count": 37,
   "id": "05378bc7-195d-4206-ac25-79e7b2e7375d",
   "metadata": {},
   "outputs": [],
   "source": [
    "def rmse(y, y_hat):\n",
    "    \"\"\"\n",
    "    返回预测序列相对于真值序列的标准差。\n",
    "    Args:\n",
    "        y:\n",
    "        y_hat:\n",
    "\n",
    "    Returns:\n",
    "\n",
    "    \"\"\"\n",
    "    return np.sqrt(np.mean(np.square(y - y_hat)))\n",
    "lst_errors = []\n",
    "def slope(ts, err):\n",
    "    \"\"\"返回直线斜率。如果拟合误差大于err，则抛出异常\n",
    "    \"\"\"\n",
    "    # 对ts进行归一化，以便斜率可以在不同的时间序列之间进行比较\n",
    "    assert ts[0] != 0\n",
    "    ts = ts / ts[0]\n",
    "    x = np.arange(len(ts))\n",
    "    z = np.polyfit(x, ts, deg=1)\n",
    "    p = np.poly1d(z)\n",
    "\n",
    "    ts_hat = np.array([p(xi) for xi in x])\n",
    "    error = rmse(ts, ts_hat) / np.sqrt(np.mean(np.square(ts)))\n",
    "    if error >= err:\n",
    "        raise ValueError(\"can not fit into line\")\n",
    "        \n",
    "\n",
    "    return z[0]"
   ]
  },
  {
   "cell_type": "markdown",
   "id": "9e6156d1-32a9-4644-8ccb-538e458a130d",
   "metadata": {},
   "source": [
    "## 计算"
   ]
  },
  {
   "cell_type": "code",
   "execution_count": 38,
   "id": "c26e7daf-1fd6-46d0-b81e-121f7cabfa5e",
   "metadata": {},
   "outputs": [
    {
     "data": {
      "application/vnd.jupyter.widget-view+json": {
       "model_id": "a7fc4e78d2bd4ec98993b132c2ad7912",
       "version_major": 2,
       "version_minor": 0
      },
      "text/plain": [
       "  0%|          | 0/4136 [00:00<?, ?it/s]"
      ]
     },
     "metadata": {},
     "output_type": "display_data"
    }
   ],
   "source": [
    "lst_slopes = [] # 这里边的元素是元组，元组第一项是股票id，第二项是斜率\n",
    "with tqdm(range(len(data.index.levels[0]))) as bar:\n",
    "    for id in data.index.levels[0]:\n",
    "        data_one = data.loc[id].copy() # 这个是每一个股票的数据\n",
    "        # 上边的格式比较固定，遍历每一个股票,然后下边开始统计\n",
    "        # 这里首先添加均线，并且只是最近的10天而已。\n",
    "        ma = talib.MA(data_one['close'][-(5*2):], timeperiod=5)\n",
    "        ma = np.array(ma[-5:])\n",
    "        # 这里只是取得最新的5天数据\n",
    "        try:\n",
    "            _slope = slope(ma,0.1)\n",
    "            lst_slopes.append(\n",
    "                (id, _slope)\n",
    "            )\n",
    "        except:\n",
    "            pass\n",
    "        bar.update(1)"
   ]
  },
  {
   "cell_type": "code",
   "execution_count": 46,
   "id": "94b7be30-9eec-4c3d-add7-755e3cfe78d0",
   "metadata": {},
   "outputs": [],
   "source": [
    "lst_slopes.sort(key=lambda x:x[1])\n",
    "lst_slopes.reverse()"
   ]
  },
  {
   "cell_type": "code",
   "execution_count": 48,
   "id": "2557df92-1d4d-4d3d-a930-fd7d4fd84531",
   "metadata": {},
   "outputs": [
    {
     "data": {
      "text/plain": [
       "[('000957.XSHE', 0.11612072999532064),\n",
       " ('000595.XSHE', 0.10383817427385908),\n",
       " ('002121.XSHE', 0.09622641509433968),\n",
       " ('600283.XSHG', 0.08649166789559062),\n",
       " ('000151.XSHE', 0.08102266736953088),\n",
       " ('000025.XSHE', 0.0775347277662462),\n",
       " ('600081.XSHG', 0.07423660632656799),\n",
       " ('605366.XSHG', 0.07030316201238727),\n",
       " ('002181.XSHE', 0.06235803136830719),\n",
       " ('002660.XSHE', 0.061426116838487956),\n",
       " ('000756.XSHE', 0.0556648199445984),\n",
       " ('300651.XSHE', 0.05509812601446071),\n",
       " ('002782.XSHE', 0.05277588555858313),\n",
       " ('603322.XSHG', 0.052690748249170694),\n",
       " ('603069.XSHG', 0.05091976516634051),\n",
       " ('600962.XSHG', 0.05070965125709648),\n",
       " ('600403.XSHG', 0.050545596258768526),\n",
       " ('600552.XSHG', 0.04743947858473006),\n",
       " ('003009.XSHE', 0.04622571790540548),\n",
       " ('000798.XSHE', 0.04531628829623092)]"
      ]
     },
     "execution_count": 48,
     "metadata": {},
     "output_type": "execute_result"
    }
   ],
   "source": [
    "lst_slopes[:20]"
   ]
  },
  {
   "cell_type": "code",
   "execution_count": 15,
   "id": "003ba5d9-2978-4c5a-8f10-b36155509447",
   "metadata": {},
   "outputs": [
    {
     "data": {
      "text/plain": [
       "[]"
      ]
     },
     "execution_count": 15,
     "metadata": {},
     "output_type": "execute_result"
    }
   ],
   "source": []
  },
  {
   "cell_type": "code",
   "execution_count": null,
   "id": "13728569-8f77-4dff-be37-b09569eba0c0",
   "metadata": {},
   "outputs": [],
   "source": []
  }
 ],
 "metadata": {
  "kernelspec": {
   "display_name": "Python [conda env:root]",
   "language": "python",
   "name": "conda-root-py"
  },
  "language_info": {
   "codemirror_mode": {
    "name": "ipython",
    "version": 3
   },
   "file_extension": ".py",
   "mimetype": "text/x-python",
   "name": "python",
   "nbconvert_exporter": "python",
   "pygments_lexer": "ipython3",
   "version": "3.8.12"
  }
 },
 "nbformat": 4,
 "nbformat_minor": 5
}
