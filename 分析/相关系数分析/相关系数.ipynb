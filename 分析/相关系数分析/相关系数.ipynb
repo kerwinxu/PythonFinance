{
 "cells": [
  {
   "cell_type": "markdown",
   "id": "54e99daa-4bfb-4335-b721-cff3d556defc",
   "metadata": {},
   "source": [
    "我想看看相关系数，比如读取上证指数(sh.000001),我这里只是取得sh开头的图片的信息。"
   ]
  },
  {
   "cell_type": "code",
   "execution_count": 1,
   "id": "64462f2a-f5b8-4d43-9d8d-9b148c631cd0",
   "metadata": {},
   "outputs": [],
   "source": [
    "import pandas as pd\n",
    "import numpy as np\n",
    "import matplotlib\n",
    "from matplotlib import pyplot as plt \n",
    "import os\n",
    "# from tqdm.notebook import  tqdm\n",
    "from tqdm import  tqdm\n",
    "import talib\n"
   ]
  },
  {
   "cell_type": "code",
   "execution_count": 2,
   "id": "61f2ccab-ae8c-46ff-9e75-a61793346431",
   "metadata": {},
   "outputs": [],
   "source": [
    "import sys\n",
    "sys.path.append('../../DataSource/baostock')\n",
    "import datasource"
   ]
  },
  {
   "cell_type": "code",
   "execution_count": 3,
   "id": "f10bb185-fe83-434a-83da-942d642011a2",
   "metadata": {},
   "outputs": [
    {
     "name": "stdout",
     "output_type": "stream",
     "text": [
      "共有5450支股票\n"
     ]
    }
   ],
   "source": [
    "codes = datasource.get_codes()\n",
    "print(f'共有{len(codes)}支股票')"
   ]
  },
  {
   "cell_type": "code",
   "execution_count": 4,
   "id": "3cec7a42-7f97-4ad1-ac2c-695b04e5d660",
   "metadata": {},
   "outputs": [],
   "source": [
    "# 先取得上证的信息\n",
    "sh000001 = datasource.get_data('sh.000001')\n",
    "sh000001_close = sh000001.loc[:,['close']]"
   ]
  },
  {
   "cell_type": "code",
   "execution_count": 5,
   "id": "5dfdbe2a-497f-44f5-97b3-d074af7a4e40",
   "metadata": {},
   "outputs": [
    {
     "data": {
      "text/html": [
       "<div>\n",
       "<style scoped>\n",
       "    .dataframe tbody tr th:only-of-type {\n",
       "        vertical-align: middle;\n",
       "    }\n",
       "\n",
       "    .dataframe tbody tr th {\n",
       "        vertical-align: top;\n",
       "    }\n",
       "\n",
       "    .dataframe thead th {\n",
       "        text-align: right;\n",
       "    }\n",
       "</style>\n",
       "<table border=\"1\" class=\"dataframe\">\n",
       "  <thead>\n",
       "    <tr style=\"text-align: right;\">\n",
       "      <th></th>\n",
       "      <th>close</th>\n",
       "    </tr>\n",
       "    <tr>\n",
       "      <th>date</th>\n",
       "      <th></th>\n",
       "    </tr>\n",
       "  </thead>\n",
       "  <tbody>\n",
       "    <tr>\n",
       "      <th>2010-01-04</th>\n",
       "      <td>3243.760</td>\n",
       "    </tr>\n",
       "    <tr>\n",
       "      <th>2010-01-05</th>\n",
       "      <td>3282.179</td>\n",
       "    </tr>\n",
       "    <tr>\n",
       "      <th>2010-01-06</th>\n",
       "      <td>3254.215</td>\n",
       "    </tr>\n",
       "    <tr>\n",
       "      <th>2010-01-07</th>\n",
       "      <td>3192.776</td>\n",
       "    </tr>\n",
       "    <tr>\n",
       "      <th>2010-01-08</th>\n",
       "      <td>3195.997</td>\n",
       "    </tr>\n",
       "  </tbody>\n",
       "</table>\n",
       "</div>"
      ],
      "text/plain": [
       "               close\n",
       "date                \n",
       "2010-01-04  3243.760\n",
       "2010-01-05  3282.179\n",
       "2010-01-06  3254.215\n",
       "2010-01-07  3192.776\n",
       "2010-01-08  3195.997"
      ]
     },
     "execution_count": 5,
     "metadata": {},
     "output_type": "execute_result"
    }
   ],
   "source": [
    "sh000001_close.head()"
   ]
  },
  {
   "cell_type": "code",
   "execution_count": 6,
   "id": "90b3dee1-ac12-424e-ab49-6544a67cbd8a",
   "metadata": {},
   "outputs": [],
   "source": [
    "# 这里首先筛选所有的上海交易所的股票\n",
    "sh_codes = [i for i in codes if i.startswith('sh')]"
   ]
  },
  {
   "cell_type": "code",
   "execution_count": 7,
   "id": "2761435e-70cb-49b8-9af8-030749e00d75",
   "metadata": {},
   "outputs": [
    {
     "data": {
      "text/html": [
       "<div>\n",
       "<style scoped>\n",
       "    .dataframe tbody tr th:only-of-type {\n",
       "        vertical-align: middle;\n",
       "    }\n",
       "\n",
       "    .dataframe tbody tr th {\n",
       "        vertical-align: top;\n",
       "    }\n",
       "\n",
       "    .dataframe thead th {\n",
       "        text-align: right;\n",
       "    }\n",
       "</style>\n",
       "<table border=\"1\" class=\"dataframe\">\n",
       "  <thead>\n",
       "    <tr style=\"text-align: right;\">\n",
       "      <th></th>\n",
       "      <th>close2</th>\n",
       "    </tr>\n",
       "    <tr>\n",
       "      <th>date</th>\n",
       "      <th></th>\n",
       "    </tr>\n",
       "  </thead>\n",
       "  <tbody>\n",
       "    <tr>\n",
       "      <th>2010-01-04</th>\n",
       "      <td>5.079667</td>\n",
       "    </tr>\n",
       "    <tr>\n",
       "      <th>2010-01-05</th>\n",
       "      <td>5.118022</td>\n",
       "    </tr>\n",
       "    <tr>\n",
       "      <th>2010-01-06</th>\n",
       "      <td>5.017340</td>\n",
       "    </tr>\n",
       "    <tr>\n",
       "      <th>2010-01-07</th>\n",
       "      <td>4.904671</td>\n",
       "    </tr>\n",
       "    <tr>\n",
       "      <th>2010-01-08</th>\n",
       "      <td>4.959807</td>\n",
       "    </tr>\n",
       "  </tbody>\n",
       "</table>\n",
       "</div>"
      ],
      "text/plain": [
       "              close2\n",
       "date                \n",
       "2010-01-04  5.079667\n",
       "2010-01-05  5.118022\n",
       "2010-01-06  5.017340\n",
       "2010-01-07  4.904671\n",
       "2010-01-08  4.959807"
      ]
     },
     "execution_count": 7,
     "metadata": {},
     "output_type": "execute_result"
    }
   ],
   "source": [
    "_data =  datasource.get_data(sh_codes[0])\n",
    "_data_close = _data.loc[:,['close']]\n",
    "_data_close.rename(columns={'close': 'close2'}, inplace=True)\n",
    "_data_close.head()\n"
   ]
  },
  {
   "cell_type": "code",
   "execution_count": 8,
   "id": "7520d60f-d527-4406-b9a9-bed6767a5de8",
   "metadata": {},
   "outputs": [
    {
     "data": {
      "text/html": [
       "<div>\n",
       "<style scoped>\n",
       "    .dataframe tbody tr th:only-of-type {\n",
       "        vertical-align: middle;\n",
       "    }\n",
       "\n",
       "    .dataframe tbody tr th {\n",
       "        vertical-align: top;\n",
       "    }\n",
       "\n",
       "    .dataframe thead th {\n",
       "        text-align: right;\n",
       "    }\n",
       "</style>\n",
       "<table border=\"1\" class=\"dataframe\">\n",
       "  <thead>\n",
       "    <tr style=\"text-align: right;\">\n",
       "      <th></th>\n",
       "      <th>close</th>\n",
       "      <th>close2</th>\n",
       "    </tr>\n",
       "    <tr>\n",
       "      <th>date</th>\n",
       "      <th></th>\n",
       "      <th></th>\n",
       "    </tr>\n",
       "  </thead>\n",
       "  <tbody>\n",
       "    <tr>\n",
       "      <th>2010-01-04</th>\n",
       "      <td>3243.760</td>\n",
       "      <td>5.079667</td>\n",
       "    </tr>\n",
       "    <tr>\n",
       "      <th>2010-01-05</th>\n",
       "      <td>3282.179</td>\n",
       "      <td>5.118022</td>\n",
       "    </tr>\n",
       "    <tr>\n",
       "      <th>2010-01-06</th>\n",
       "      <td>3254.215</td>\n",
       "      <td>5.017340</td>\n",
       "    </tr>\n",
       "    <tr>\n",
       "      <th>2010-01-07</th>\n",
       "      <td>3192.776</td>\n",
       "      <td>4.904671</td>\n",
       "    </tr>\n",
       "    <tr>\n",
       "      <th>2010-01-08</th>\n",
       "      <td>3195.997</td>\n",
       "      <td>4.959807</td>\n",
       "    </tr>\n",
       "  </tbody>\n",
       "</table>\n",
       "</div>"
      ],
      "text/plain": [
       "               close    close2\n",
       "date                          \n",
       "2010-01-04  3243.760  5.079667\n",
       "2010-01-05  3282.179  5.118022\n",
       "2010-01-06  3254.215  5.017340\n",
       "2010-01-07  3192.776  4.904671\n",
       "2010-01-08  3195.997  4.959807"
      ]
     },
     "execution_count": 8,
     "metadata": {},
     "output_type": "execute_result"
    }
   ],
   "source": [
    "_df = pd.merge(sh000001_close, _data_close, on='date')\n",
    "_df.head()"
   ]
  },
  {
   "cell_type": "code",
   "execution_count": null,
   "id": "f8d069e2-3b1b-4cc0-a87e-2796ff05980c",
   "metadata": {},
   "outputs": [],
   "source": []
  },
  {
   "cell_type": "code",
   "execution_count": null,
   "id": "15cdec0f-31f2-41f2-a917-c3cea86ae95d",
   "metadata": {},
   "outputs": [],
   "source": []
  },
  {
   "cell_type": "code",
   "execution_count": null,
   "id": "e24588be-b289-4dd4-aec5-b03f5a4172bc",
   "metadata": {},
   "outputs": [],
   "source": []
  },
  {
   "cell_type": "code",
   "execution_count": 19,
   "id": "4adec3d8-9914-4d39-8201-90271fbae7f4",
   "metadata": {},
   "outputs": [
    {
     "name": "stderr",
     "output_type": "stream",
     "text": [
      "100%|██████████████████████████████████████████████████████████████████████████████| 2412/2412 [00:34<00:00, 70.69it/s]\n"
     ]
    }
   ],
   "source": [
    "# 然后遍历所有的股票\n",
    "lst_corr = []\n",
    "\n",
    "for i in tqdm(range(len(sh_codes))):\n",
    "    _code = sh_codes[i]\n",
    "    _data =  datasource.get_data(_code)\n",
    "    _data_close = _data.loc[:,['close']]\n",
    "    # print(sh000001_close.head())\n",
    "    # print(_data_close.head())\n",
    "    # 然后两个做交集\n",
    "    _df = pd.merge(sh000001_close, _data_close, on='date')\n",
    "    # print(_df.head())\n",
    "    correlation = _df.corr()\n",
    "    # print(correlation)\n",
    "    item = correlation.iloc[0,1]\n",
    "    if not pd.isnull(item):\n",
    "        lst_corr.append((_code, float(item)))\n",
    "\n",
    "    \n",
    "    "
   ]
  },
  {
   "cell_type": "code",
   "execution_count": 20,
   "id": "a1d09b06-e125-421e-b7fa-7f5245b812cb",
   "metadata": {},
   "outputs": [
    {
     "data": {
      "text/plain": [
       "[('sh.600000', 0.7012388579333659),\n",
       " ('sh.600004', 0.6034835479748356),\n",
       " ('sh.600005', 0.7879983037122542),\n",
       " ('sh.600006', 0.8321804382438145),\n",
       " ('sh.600007', 0.5349330175308631),\n",
       " ('sh.600008', 0.6685040289287266),\n",
       " ('sh.600009', 0.49210990817274575),\n",
       " ('sh.600010', 0.5395772942400185),\n",
       " ('sh.600011', 0.580077225497635),\n",
       " ('sh.600012', 0.5262097839938951)]"
      ]
     },
     "execution_count": 20,
     "metadata": {},
     "output_type": "execute_result"
    }
   ],
   "source": [
    "lst_corr[:10]"
   ]
  },
  {
   "cell_type": "code",
   "execution_count": 21,
   "id": "71ef9443-31d1-4467-8c87-ea4946888dad",
   "metadata": {},
   "outputs": [],
   "source": [
    "# 这里排序\n",
    "lst_corr.sort(key=lambda x:x[1])"
   ]
  },
  {
   "cell_type": "code",
   "execution_count": 22,
   "id": "fcb9c7d5-aa39-4f18-9fc8-d2358e4225e3",
   "metadata": {},
   "outputs": [
    {
     "data": {
      "text/plain": [
       "[('sh.603257', -0.7049029564241533),\n",
       " ('sh.603210', -0.6699022124994609),\n",
       " ('sh.605116', -0.6479902972009737),\n",
       " ('sh.688717', -0.5474482524939795),\n",
       " ('sh.603202', -0.5467932161560849),\n",
       " ('sh.603706', -0.488984428532836),\n",
       " ('sh.688676', -0.48209892999462417),\n",
       " ('sh.603863', -0.47751672462980044),\n",
       " ('sh.601702', -0.4738145885333536),\n",
       " ('sh.688639', -0.47066217494935597)]"
      ]
     },
     "execution_count": 22,
     "metadata": {},
     "output_type": "execute_result"
    }
   ],
   "source": [
    "lst_corr[:10]"
   ]
  },
  {
   "cell_type": "code",
   "execution_count": 23,
   "id": "cbbe5ecf-6c08-4815-ba39-147c955f21c0",
   "metadata": {},
   "outputs": [],
   "source": [
    "# 只是要相关系数\n",
    "lst_corr3 = [i[1] for i in lst_corr]"
   ]
  },
  {
   "cell_type": "code",
   "execution_count": 26,
   "id": "78bbd9ac-1b01-401c-b36a-d2f2fb71037f",
   "metadata": {},
   "outputs": [
    {
     "data": {
      "text/plain": [
       "[('sh.688660', 0.8338615301147488),\n",
       " ('sh.688249', 0.8351719607007992),\n",
       " ('sh.600704', 0.8369743793292267),\n",
       " ('sh.688709', 0.838837935960812),\n",
       " ('sh.601688', 0.8412144887960881),\n",
       " ('sh.688692', 0.8419412593845861),\n",
       " ('sh.600253', 0.8429055107171408),\n",
       " ('sh.601377', 0.8523055377695803),\n",
       " ('sh.600999', 0.86666801264346),\n",
       " ('sh.600087', 0.937821235301787)]"
      ]
     },
     "execution_count": 26,
     "metadata": {},
     "output_type": "execute_result"
    }
   ],
   "source": [
    "lst_corr[-10:]"
   ]
  },
  {
   "cell_type": "code",
   "execution_count": 25,
   "id": "57485625-9d1d-4711-aba9-0314aac21120",
   "metadata": {},
   "outputs": [
    {
     "data": {
      "image/png": "[encoded data removed]",
      "text/plain": [
       "<Figure size 640x480 with 1 Axes>"
      ]
     },
     "metadata": {},
     "output_type": "display_data"
    }
   ],
   "source": [
    "plt.scatter(list(range(len(lst_corr3))), lst_corr3)\n",
    "# function to show the plot \n",
    "plt.show()"
   ]
  },
  {
   "cell_type": "code",
   "execution_count": null,
   "id": "1628ebb4-2223-4942-a31a-d826cfa654d9",
   "metadata": {},
   "outputs": [],
   "source": []
  }
 ],
 "metadata": {
  "kernelspec": {
   "display_name": "Python 3 (ipykernel)",
   "language": "python",
   "name": "python3"
  },
  "language_info": {
   "codemirror_mode": {
    "name": "ipython",
    "version": 3
   },
   "file_extension": ".py",
   "mimetype": "text/x-python",
   "name": "python",
   "nbconvert_exporter": "python",
   "pygments_lexer": "ipython3",
   "version": "3.13.3"
  }
 },
 "nbformat": 4,
 "nbformat_minor": 5
}
