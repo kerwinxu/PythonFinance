{
 "cells": [
  {
   "cell_type": "code",
   "execution_count": 1,
   "id": "c5420b6b-a24a-43d2-90c3-d77fd976360a",
   "metadata": {},
   "outputs": [],
   "source": [
    "import pandas as pd\n",
    "import numpy as np\n",
    "import matplotlib\n",
    "from matplotlib import pyplot as plt \n",
    "import os\n",
    "# from tqdm.notebook import  tqdm\n",
    "from tqdm import  tqdm\n",
    "import talib\n",
    "import sys\n",
    "sys.path.append('../../DataSource/baostock')\n",
    "import datasource"
   ]
  },
  {
   "cell_type": "code",
   "execution_count": 2,
   "id": "34829885-a571-4709-9be7-71f6dbced9ef",
   "metadata": {},
   "outputs": [],
   "source": [
    "# 取得所有的额股票代码\n",
    "codes = datasource.get_codes()"
   ]
  },
  {
   "cell_type": "code",
   "execution_count": 11,
   "id": "74fb55aa-287b-451e-8ab3-b9e95dc22633",
   "metadata": {},
   "outputs": [],
   "source": [
    "def get_ups(df:pd.DataFrame, days:int, up_ratio:float)->pd.DataFrame:\n",
    "    # 获得已经过多少天，上证超过一定比例的\n",
    "    # 先取得一个深拷贝\n",
    "    df2 = df.copy()\n",
    "    # 然后向前移动指定的天数\n",
    "    df2[f'close{days}'] = df2['close'].shift(-days)\n",
    "    # 这里要筛选\n",
    "    return df2[df2[f'close{days}'] > up_ratio * df2['close']]"
   ]
  },
  {
   "cell_type": "code",
   "execution_count": 12,
   "id": "7b9a525c-2e2f-44a9-a667-459142ca4c24",
   "metadata": {},
   "outputs": [
    {
     "data": {
      "text/html": [
       "<div>\n",
       "<style scoped>\n",
       "    .dataframe tbody tr th:only-of-type {\n",
       "        vertical-align: middle;\n",
       "    }\n",
       "\n",
       "    .dataframe tbody tr th {\n",
       "        vertical-align: top;\n",
       "    }\n",
       "\n",
       "    .dataframe thead th {\n",
       "        text-align: right;\n",
       "    }\n",
       "</style>\n",
       "<table border=\"1\" class=\"dataframe\">\n",
       "  <thead>\n",
       "    <tr style=\"text-align: right;\">\n",
       "      <th></th>\n",
       "      <th>code</th>\n",
       "      <th>open</th>\n",
       "      <th>high</th>\n",
       "      <th>low</th>\n",
       "      <th>close</th>\n",
       "      <th>preclose</th>\n",
       "      <th>volume</th>\n",
       "      <th>amount</th>\n",
       "      <th>adjustflag</th>\n",
       "      <th>turn</th>\n",
       "      <th>tradestatus</th>\n",
       "      <th>pctChg</th>\n",
       "      <th>isST</th>\n",
       "      <th>close30</th>\n",
       "    </tr>\n",
       "    <tr>\n",
       "      <th>date</th>\n",
       "      <th></th>\n",
       "      <th></th>\n",
       "      <th></th>\n",
       "      <th></th>\n",
       "      <th></th>\n",
       "      <th></th>\n",
       "      <th></th>\n",
       "      <th></th>\n",
       "      <th></th>\n",
       "      <th></th>\n",
       "      <th></th>\n",
       "      <th></th>\n",
       "      <th></th>\n",
       "      <th></th>\n",
       "    </tr>\n",
       "  </thead>\n",
       "  <tbody>\n",
       "    <tr>\n",
       "      <th>2013-08-01</th>\n",
       "      <td>sh.600000</td>\n",
       "      <td>3.583119</td>\n",
       "      <td>3.62836</td>\n",
       "      <td>3.560498</td>\n",
       "      <td>3.614788</td>\n",
       "      <td>3.555974</td>\n",
       "      <td>58959381</td>\n",
       "      <td>4.694332e+08</td>\n",
       "      <td>2</td>\n",
       "      <td>0.395097</td>\n",
       "      <td>1</td>\n",
       "      <td>1.6539</td>\n",
       "      <td>0</td>\n",
       "      <td>5.542071</td>\n",
       "    </tr>\n",
       "    <tr>\n",
       "      <th>2014-11-20</th>\n",
       "      <td>sh.600000</td>\n",
       "      <td>5.074426</td>\n",
       "      <td>5.17640</td>\n",
       "      <td>5.035579</td>\n",
       "      <td>5.132697</td>\n",
       "      <td>5.084138</td>\n",
       "      <td>162402495</td>\n",
       "      <td>1.709647e+09</td>\n",
       "      <td>2</td>\n",
       "      <td>1.088286</td>\n",
       "      <td>1</td>\n",
       "      <td>0.9551</td>\n",
       "      <td>0</td>\n",
       "      <td>7.803447</td>\n",
       "    </tr>\n",
       "  </tbody>\n",
       "</table>\n",
       "</div>"
      ],
      "text/plain": [
       "                 code      open     high       low     close  preclose  \\\n",
       "date                                                                     \n",
       "2013-08-01  sh.600000  3.583119  3.62836  3.560498  3.614788  3.555974   \n",
       "2014-11-20  sh.600000  5.074426  5.17640  5.035579  5.132697  5.084138   \n",
       "\n",
       "               volume        amount  adjustflag      turn  tradestatus  \\\n",
       "date                                                                     \n",
       "2013-08-01   58959381  4.694332e+08           2  0.395097            1   \n",
       "2014-11-20  162402495  1.709647e+09           2  1.088286            1   \n",
       "\n",
       "            pctChg  isST   close30  \n",
       "date                                \n",
       "2013-08-01  1.6539     0  5.542071  \n",
       "2014-11-20  0.9551     0  7.803447  "
      ]
     },
     "execution_count": 12,
     "metadata": {},
     "output_type": "execute_result"
    }
   ],
   "source": [
    "dt = datasource.get_data(codes[0])\n",
    "dt_tmp = get_ups(dt, 30, 1.5)\n",
    "dt_tmp.head()"
   ]
  },
  {
   "cell_type": "code",
   "execution_count": null,
   "id": "a8212966-8183-4c98-b52c-a4d23d481ea0",
   "metadata": {},
   "outputs": [
    {
     "name": "stderr",
     "output_type": "stream",
     "text": [
      " 13%|██████████▎                                                                    | 714/5450 [00:14<01:27, 54.10it/s]"
     ]
    }
   ],
   "source": [
    "# 我这里是取得所有的在指定天数内上涨超过一定比例的\n",
    "lst_dt = []\n",
    "days = 30\n",
    "radio = 1.5\n",
    "for i in tqdm(range(len(codes))):\n",
    "    code = codes[i]\n",
    "    dt = datasource.get_data(code)\n",
    "    dt_tmp = get_ups(dt, days, radio).dropna()\n",
    "    # 这里要筛选不是空值的。\n",
    "    if not dt_tmp.empty:\n",
    "        lst_dt.append(dt_tmp)"
   ]
  },
  {
   "cell_type": "code",
   "execution_count": null,
   "id": "2464e35f-0b48-4c8c-9824-a195f200d342",
   "metadata": {},
   "outputs": [],
   "source": [
    "dt_all = pd.concat(lst_dt)\n",
    "dt_all.head()\n",
    "dt_all.to_csv(f'{days}天上涨{radio}.csv')"
   ]
  },
  {
   "cell_type": "code",
   "execution_count": null,
   "id": "b408179e-238d-4a66-80e7-e517b38c9972",
   "metadata": {},
   "outputs": [],
   "source": []
  }
 ],
 "metadata": {
  "kernelspec": {
   "display_name": "Python 3 (ipykernel)",
   "language": "python",
   "name": "python3"
  },
  "language_info": {
   "codemirror_mode": {
    "name": "ipython",
    "version": 3
   },
   "file_extension": ".py",
   "mimetype": "text/x-python",
   "name": "python",
   "nbconvert_exporter": "python",
   "pygments_lexer": "ipython3",
   "version": "3.13.3"
  }
 },
 "nbformat": 4,
 "nbformat_minor": 5
}
