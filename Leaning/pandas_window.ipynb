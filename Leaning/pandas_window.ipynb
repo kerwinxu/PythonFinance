{
 "cells": [
  {
   "cell_type": "code",
   "execution_count": 1,
   "id": "82eff3a1-e00d-4516-a665-5f54f8142181",
   "metadata": {},
   "outputs": [],
   "source": [
    "# 这个看看pandas的从窗口函数"
   ]
  },
  {
   "cell_type": "code",
   "execution_count": 7,
   "id": "b9572092-0a0e-41c4-ba50-49ba5a2c8245",
   "metadata": {},
   "outputs": [
    {
     "name": "stdout",
     "output_type": "stream",
     "text": [
      "                   A         B         C         D\n",
      "2020-01-01 -0.023361 -1.989439 -1.608003 -0.253341\n",
      "2020-01-02 -0.561055  0.563713 -1.376765  0.556628\n",
      "2020-01-03 -0.283530  0.620666 -0.453209  0.539096\n",
      "2020-01-04 -1.153353 -0.603559  0.283507  0.729835\n",
      "2020-01-05 -0.631672  0.010063 -0.252438 -2.162077\n",
      "2020-01-06 -0.001014 -0.201867  0.783069 -0.637565\n",
      "2020-01-07 -1.214406  1.667868 -1.175763 -1.021917\n",
      "2020-01-08  0.585514  0.358244 -0.077119  0.171511\n",
      "2020-01-09 -0.199669  0.156766  0.195831 -1.124684\n",
      "2020-01-10  1.321053 -2.851023  0.694279  0.845102\n",
      "                   A         B         C         D\n",
      "2020-01-01       NaN       NaN       NaN       NaN\n",
      "2020-01-02       NaN       NaN       NaN       NaN\n",
      "2020-01-03 -0.289316 -0.268353 -1.145992  0.280794\n",
      "2020-01-04 -0.665980  0.193606 -0.515489  0.608520\n",
      "2020-01-05 -0.689518  0.009057 -0.140713 -0.297715\n",
      "2020-01-06 -0.595346 -0.265121  0.271379 -0.689935\n",
      "2020-01-07 -0.615697  0.492022 -0.215044 -1.273853\n",
      "2020-01-08 -0.209969  0.608082 -0.156604 -0.495990\n",
      "2020-01-09 -0.276187  0.727626 -0.352351 -0.658363\n",
      "2020-01-10  0.568966 -0.778671  0.270997 -0.036024\n"
     ]
    }
   ],
   "source": [
    "import pandas as pd\n",
    "import numpy as np\n",
    "\n",
    "df = pd.DataFrame(np.random.randn(10, 4),\n",
    "index = pd.date_range('1/1/2020', periods=10),\n",
    "columns = ['A', 'B', 'C', 'D'])\n",
    "\n",
    "print(df)\n",
    "\n",
    "print (df.rolling(window=3).mean())\n",
    "\n"
   ]
  },
  {
   "cell_type": "code",
   "execution_count": 8,
   "id": "3d56e20a-53e1-4700-8b63-8803e9076f74",
   "metadata": {},
   "outputs": [
    {
     "name": "stdout",
     "output_type": "stream",
     "text": [
      "Rolling [window=3,center=False,axis=0,method=single]\n"
     ]
    }
   ],
   "source": [
    "print (df.rolling(window=3))"
   ]
  },
  {
   "cell_type": "code",
   "execution_count": null,
   "id": "a128e620-7b77-4614-8a9d-fc1f975719a3",
   "metadata": {},
   "outputs": [],
   "source": []
  },
  {
   "cell_type": "code",
   "execution_count": 15,
   "id": "60e38cb9-b2e9-4b46-b147-8df4418451da",
   "metadata": {},
   "outputs": [
    {
     "data": {
      "text/plain": [
       "<zip at 0x29796373180>"
      ]
     },
     "execution_count": 15,
     "metadata": {},
     "output_type": "execute_result"
    }
   ],
   "source": [
    "zip(df.rolling(window=3))"
   ]
  },
  {
   "cell_type": "code",
   "execution_count": 18,
   "id": "973f2be9-3e29-4bae-85ce-9a1a0690ea17",
   "metadata": {},
   "outputs": [],
   "source": [
    "a1 = zip(df.rolling(window=3))"
   ]
  },
  {
   "cell_type": "code",
   "execution_count": 19,
   "id": "f505b98c-3d9e-4cb6-99e6-8b03b23d00ac",
   "metadata": {},
   "outputs": [
    {
     "data": {
      "text/plain": [
       "<zip at 0x29796373e00>"
      ]
     },
     "execution_count": 19,
     "metadata": {},
     "output_type": "execute_result"
    }
   ],
   "source": [
    "a1"
   ]
  },
  {
   "cell_type": "code",
   "execution_count": null,
   "id": "4ced4486-1ebf-440e-8ac8-a71886c80332",
   "metadata": {},
   "outputs": [],
   "source": []
  }
 ],
 "metadata": {
  "kernelspec": {
   "display_name": "Python 3 (ipykernel)",
   "language": "python",
   "name": "python3"
  },
  "language_info": {
   "codemirror_mode": {
    "name": "ipython",
    "version": 3
   },
   "file_extension": ".py",
   "mimetype": "text/x-python",
   "name": "python",
   "nbconvert_exporter": "python",
   "pygments_lexer": "ipython3",
   "version": "3.9.12"
  }
 },
 "nbformat": 4,
 "nbformat_minor": 5
}
