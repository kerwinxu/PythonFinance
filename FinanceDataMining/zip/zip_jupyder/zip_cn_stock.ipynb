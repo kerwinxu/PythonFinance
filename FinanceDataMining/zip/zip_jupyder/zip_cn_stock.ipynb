{
 "cells": [
  {
   "cell_type": "code",
   "execution_count": 18,
   "metadata": {},
   "outputs": [],
   "source": [
    "%matplotlib inline\n",
    "import pandas as pd\n",
    "import numpy as np\n",
    "str_csv_file_name=r\"E:\\Program\\python\\PythonFinance\\FinanceDataMining\\zip\\zip_cn_stock.csv\"\n",
    "_data=pd.read_csv(str_csv_file_name)\n",
    "_down=_data[\"Down\"]\n",
    "_up=_data[\"Up\"]\n",
    "_stock_id=_data[\"Stock_ID\"]\n",
    "_date=_data.index"
   ]
  },
  {
   "cell_type": "code",
   "execution_count": 19,
   "metadata": {},
   "outputs": [
    {
     "name": "stdout",
     "output_type": "stream",
     "text": [
      "一共有多少数据：25600\n",
      "最低也高过10%的一般是不正确的,个数为：56\n"
     ]
    }
   ],
   "source": [
    "print(\"一共有多少数据：{}\".format(len(_down)))\n",
    "print(\"最低也高过10%的一般是不正确的,个数为：{}\".format(len(_down[_down>10])))"
   ]
  },
  {
   "cell_type": "code",
   "execution_count": 20,
   "metadata": {},
   "outputs": [
    {
     "name": "stdout",
     "output_type": "stream",
     "text": [
      "需要删选数据\n"
     ]
    }
   ],
   "source": [
    "print(\"需要删选数据\")\n",
    "_up_2=_up[_down<10]\n",
    "_down_2=_down[_down<10]\n",
    "_stock_id_2=_stock_id[_down<10]\n",
    "_date_2=_date[_down<10]"
   ]
  },
  {
   "cell_type": "code",
   "execution_count": 25,
   "metadata": {},
   "outputs": [
    {
     "name": "stdout",
     "output_type": "stream",
     "text": [
      "我这里先看看最低价也是高于0%的，有多少个\n",
      "总数量：3565\n",
      "平均值：26.218705571452116\n",
      "中位数：21.346270466949687\n",
      "最大值：631.6318642220481\n",
      "最小值：4.148936170212749\n",
      "这个zip看起来很不错，只是有点未来函数的意思，比如说你怎么知道你买的这个股票最低价格也是高于%的\n"
     ]
    }
   ],
   "source": [
    "print(\"我这里先看看最低价也是高于0%的，有多少个\")\n",
    "_up_3=_up_2[_down_2>0]\n",
    "_down_3=_down_2[_down_2>0]\n",
    "print(\"总数量：{}\".format(len(_up_3)))\n",
    "print(\"平均值：{}\".format(_up_3.mean()))\n",
    "print(\"中位数：{}\".format(np.median(_up_3)))\n",
    "print(\"最大值：{}\".format(_up_3.max()))\n",
    "print(\"最小值：{}\".format(_up_3.min()))\n",
    "print(\"这个zip看起来很不错，只是有点未来函数的意思，比如说你怎么知道你买的这个股票最低价格也是高于%的\")"
   ]
  },
  {
   "cell_type": "code",
   "execution_count": null,
   "metadata": {},
   "outputs": [],
   "source": []
  }
 ],
 "metadata": {
  "kernelspec": {
   "display_name": "Python 3",
   "language": "python",
   "name": "python3"
  },
  "language_info": {
   "codemirror_mode": {
    "name": "ipython",
    "version": 3
   },
   "file_extension": ".py",
   "mimetype": "text/x-python",
   "name": "python",
   "nbconvert_exporter": "python",
   "pygments_lexer": "ipython3",
   "version": "3.6.3"
  }
 },
 "nbformat": 4,
 "nbformat_minor": 2
}
