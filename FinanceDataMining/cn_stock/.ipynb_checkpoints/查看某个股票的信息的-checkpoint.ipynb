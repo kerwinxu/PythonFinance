{
 "cells": [
  {
   "cell_type": "code",
   "execution_count": 2,
   "metadata": {},
   "outputs": [],
   "source": [
    "# 三大件\n",
    "import pandas as pd\n",
    "import numpy as np\n",
    "import matplotlib.pyplot as plt\n",
    "import tushare as ts\n",
    "%matplotlib inline\n",
    "\n",
    "\n",
    "# 股票数据相关的库\n",
    "import sys\n",
    "import os\n",
    "sys.path.append(\"../../FinanceDataSource\")\n",
    "import FinanceDataSource\n",
    "from FinanceDataSource import get_cn_stocks\n",
    "from FinanceDataSource import get_data\n",
    "from FinanceDataSource import str_cn_stock\n",
    "from FinanceDataSource import get_cn_bars_all\n",
    "import talib\n",
    "import datetime\n",
    "# 更好的画图的\n",
    "import seaborn as sns #要注意的是一旦导入了seaborn，matplotlib的默认作图风格就会被覆盖成seaborn的格式"
   ]
  },
  {
   "cell_type": "code",
   "execution_count": 3,
   "metadata": {},
   "outputs": [
    {
     "name": "stdout",
     "output_type": "stream",
     "text": [
      "[Getting data:]#"
     ]
    }
   ],
   "source": [
    "_df=ts.get_report_data(2018,1)"
   ]
  },
  {
   "cell_type": "code",
   "execution_count": 4,
   "metadata": {},
   "outputs": [
    {
     "data": {
      "text/html": [
       "<div>\n",
       "<style>\n",
       "    .dataframe thead tr:only-child th {\n",
       "        text-align: right;\n",
       "    }\n",
       "\n",
       "    .dataframe thead th {\n",
       "        text-align: left;\n",
       "    }\n",
       "\n",
       "    .dataframe tbody tr th {\n",
       "        vertical-align: top;\n",
       "    }\n",
       "</style>\n",
       "<table border=\"1\" class=\"dataframe\">\n",
       "  <thead>\n",
       "    <tr style=\"text-align: right;\">\n",
       "      <th></th>\n",
       "      <th>code</th>\n",
       "      <th>name</th>\n",
       "      <th>eps</th>\n",
       "      <th>eps_yoy</th>\n",
       "      <th>bvps</th>\n",
       "      <th>roe</th>\n",
       "      <th>epcf</th>\n",
       "      <th>net_profits</th>\n",
       "      <th>profits_yoy</th>\n",
       "      <th>distrib</th>\n",
       "      <th>report_date</th>\n",
       "    </tr>\n",
       "  </thead>\n",
       "  <tbody>\n",
       "    <tr>\n",
       "      <th>0</th>\n",
       "      <td>000547</td>\n",
       "      <td>航天发展</td>\n",
       "      <td>0.06</td>\n",
       "      <td>50</td>\n",
       "      <td>NaN</td>\n",
       "      <td>1.46</td>\n",
       "      <td>NaN</td>\n",
       "      <td>7978.78</td>\n",
       "      <td>28.67</td>\n",
       "      <td>NaN</td>\n",
       "      <td>04-04</td>\n",
       "    </tr>\n",
       "    <tr>\n",
       "      <th>1</th>\n",
       "      <td>600696</td>\n",
       "      <td>ST匹凸</td>\n",
       "      <td>0.02</td>\n",
       "      <td>100</td>\n",
       "      <td>NaN</td>\n",
       "      <td>2.40</td>\n",
       "      <td>NaN</td>\n",
       "      <td>673.06</td>\n",
       "      <td>167.44</td>\n",
       "      <td>NaN</td>\n",
       "      <td>04-04</td>\n",
       "    </tr>\n",
       "  </tbody>\n",
       "</table>\n",
       "</div>"
      ],
      "text/plain": [
       "     code  name   eps  eps_yoy  bvps   roe  epcf  net_profits  profits_yoy  \\\n",
       "0  000547  航天发展  0.06       50   NaN  1.46   NaN      7978.78        28.67   \n",
       "1  600696  ST匹凸  0.02      100   NaN  2.40   NaN       673.06       167.44   \n",
       "\n",
       "   distrib report_date  \n",
       "0      NaN       04-04  \n",
       "1      NaN       04-04  "
      ]
     },
     "execution_count": 4,
     "metadata": {},
     "output_type": "execute_result"
    }
   ],
   "source": [
    "_df"
   ]
  },
  {
   "cell_type": "code",
   "execution_count": null,
   "metadata": {},
   "outputs": [],
   "source": []
  }
 ],
 "metadata": {
  "kernelspec": {
   "display_name": "Python 3",
   "language": "python",
   "name": "python3"
  },
  "language_info": {
   "codemirror_mode": {
    "name": "ipython",
    "version": 3
   },
   "file_extension": ".py",
   "mimetype": "text/x-python",
   "name": "python",
   "nbconvert_exporter": "python",
   "pygments_lexer": "ipython3",
   "version": "3.6.3"
  },
  "toc": {
   "nav_menu": {},
   "number_sections": true,
   "sideBar": true,
   "skip_h1_title": false,
   "title_cell": "Table of Contents",
   "title_sidebar": "Contents",
   "toc_cell": false,
   "toc_position": {},
   "toc_section_display": true,
   "toc_window_display": false
  }
 },
 "nbformat": 4,
 "nbformat_minor": 2
}
