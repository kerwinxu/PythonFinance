{
 "cells": [
  {
   "cell_type": "markdown",
   "metadata": {},
   "source": [
    "# 查看A股均线多头的情况"
   ]
  },
  {
   "cell_type": "markdown",
   "metadata": {},
   "source": [
    "## 首先导入相关的库"
   ]
  },
  {
   "cell_type": "code",
   "execution_count": 26,
   "metadata": {},
   "outputs": [],
   "source": [
    "import sys\n",
    "import os\n",
    "sys.path.append(\"../../FinanceDataSource\")\n",
    "import FinanceDataSource\n",
    "import tushare as ts\n",
    "import matplotlib.pyplot as plt\n",
    "%matplotlib inline\n",
    "import seaborn as sns #要注意的是一旦导入了seaborn，matplotlib的默认作图风格就会被覆盖成seaborn的格式\n",
    "import pandas as pd\n",
    "import numpy as np\n",
    "from pandas import DataFrame\n",
    "from FinanceDataSource import get_cn_stocks\n",
    "from FinanceDataSource import get_data\n",
    "from FinanceDataSource import str_cn_stock\n",
    "from FinanceDataSource import get_cn_bars_all\n",
    "import talib"
   ]
  },
  {
   "cell_type": "markdown",
   "metadata": {},
   "source": [
    "## 保存均线多头信息的类。"
   ]
  },
  {
   "cell_type": "code",
   "execution_count": 32,
   "metadata": {},
   "outputs": [],
   "source": [
    "class Ma_duotou():\n",
    "    \"\"\"\n",
    "    这个类仅仅是保存多头信息的。我打算保存如下信息\n",
    "    Attributes\t:\n",
    "        @book_id : 股票id\n",
    "        @DateFrame : 将股票这几天的信息全部切片保存起来。方便以后运算。\n",
    "    functions\t:\n",
    "\n",
    "    \"\"\"\n",
    "\n",
    "    def __init__(self, book_id, df, start_date):\n",
    "        \"\"\"\n",
    "            Description :\n",
    "            Arg :\n",
    "            Returns :\n",
    "            Raises\t :\n",
    "        \"\"\"\n",
    "        self.book_id = book_id\n",
    "        self.df_duotou = df\n",
    "        self.start_date = start_date"
   ]
  },
  {
   "cell_type": "markdown",
   "metadata": {},
   "source": [
    "## 如下几个是取得均线多头的相关信息的。"
   ]
  },
  {
   "cell_type": "code",
   "execution_count": null,
   "metadata": {},
   "outputs": [],
   "source": [
    "def get_ma_duotou_indicator(book_id, lst_ma):\n",
    "    \"\"\"\n",
    "        Description : 将一个股票的均线多头用逻辑数组标记出来，并保存起来。\n",
    "        Arg :\n",
    "        Returns :\n",
    "        Raises\t :\n",
    "    \"\"\"\n",
    "    _close = get_cn_bars_all(book_id, fields='close')\n",
    "    # 将所有的均线保存在这个数组中。\n",
    "    _lst_ma = []\n",
    "    for _ma in lst_ma:\n",
    "        _lst_ma.append(talib.SMA(_close, _ma))\n",
    "    _ma_0 = talib.SMA(_close, lst_ma[0])\n",
    "    _ma_1 = talib.SMA(_close, lst_ma[1])\n",
    "    _ma_2 = talib.SMA(_close, lst_ma[2])\n",
    "    _ma_3 = talib.SMA(_close, lst_ma[3])\n",
    "\n",
    "    _bool_up = list(\n",
    "        map(lambda a, b, c, d:\n",
    "            a > b and b > c and c > d,\n",
    "            _ma_0, _ma_1, _ma_2, _ma_3))\n",
    "\n",
    "    return _bool_up\n",
    "\n",
    "\n",
    "def get_lst_ma_duotou(book_id, ma_duotou_indicator):\n",
    "    \"\"\"\n",
    "        Description : 这个是从均线多头的逻辑数组中切片出连续多头的。\n",
    "        Arg :\n",
    "        Returns :\n",
    "        Raises\t :\n",
    "    \"\"\"\n",
    "    _data = get_cn_bars_all(book_id)     # 取得这个股票的k线\n",
    "    _i = 0                                  # 遍历\n",
    "    _lst_duotou = []                        # 保存所有的多头\n",
    "    _count = len(ma_duotou_indicator)\n",
    "    while _i < _count:    # 遍历\n",
    "        if ma_duotou_indicator[_i]:         # 如果找到多头均线的起始点\n",
    "            _start = _i                     # 保存一开始的下表\n",
    "            _start_date = _data.datetime[_i]\n",
    "            while _i < _count and ma_duotou_indicator[_i]:  # 看看一共连续多少。\n",
    "                _i = _i + 1\n",
    "            # 创建一个类来保存这些信息吧\n",
    "            # 保存的信息只是2点，一个就是股票id\n",
    "            # 另外一个就是K线数据，用切片的来的。\n",
    "            _cls_ma_duotou = Ma_duotou(book_id, _data[_start:_i],_start_date)\n",
    "            _lst_duotou.append(_cls_ma_duotou)\n",
    "        _i = _i + 1     # 递增。\n",
    "    return _lst_duotou\n",
    "\n",
    "\n",
    "def get_all_lst_ma_duotou(lst_ma):\n",
    "    \"\"\"\n",
    "        Description : 取得所有股票的多头数据，可以用其他程序进行分析的。\n",
    "        Arg :\n",
    "        Returns :\n",
    "        Raises\t :\n",
    "    \"\"\"\n",
    "    # 要记录所有多头信息的里列表\n",
    "    _lst_duotou = []\n",
    "    # 取得所有的股票\n",
    "    _all_cn_stock = get_cn_stocks()\n",
    "\n",
    "    # 遍历所有的股票, 先找出所有的多头趋势来。\n",
    "    for _book_id in _all_cn_stock:\n",
    "        _bool_up = get_ma_duotou_indicator(_book_id, lst_ma)\n",
    "        _lst_duotou.extend(get_lst_ma_duotou(_book_id, _bool_up))\n",
    "    return _lst_duotou"
   ]
  },
  {
   "cell_type": "code",
   "execution_count": null,
   "metadata": {},
   "outputs": [],
   "source": [
    "%time _lst_ma_duotou = get_all_lst_ma_duotou([5, 10, 20, 60])"
   ]
  },
  {
   "cell_type": "code",
   "execution_count": null,
   "metadata": {},
   "outputs": [],
   "source": [
    "print(\"一共搜索到处于均线多头状态的数量：{}\".format(len(_lst_ma_duotou)))"
   ]
  },
  {
   "cell_type": "markdown",
   "metadata": {},
   "source": [
    "## 接下来就是怎么看这些数据了"
   ]
  },
  {
   "cell_type": "code",
   "execution_count": 31,
   "metadata": {},
   "outputs": [],
   "source": [
    "# 我想建立一个表格，用来汇总这些数据\n",
    "# 列：起始时间，股票ID，持续天数，一开始的值，最后的值，以及增长比率\n",
    "_start_date=[]\n",
    "_book_id=[]\n",
    "_continue_days=[]\n",
    "_close_first=[]\n",
    "_close_last=[]\n",
    "_close_up_ratio=[]\n",
    "# 然后我要遍历\n",
    "for _ma_duotou in _lst_ma_duotou:\n",
    "    #_start_date.append(_ma_duotou.df_duotou.index[0])\n",
    "    _book_id.append(_ma_duotou.book_id)\n",
    "    _continue_days.append(len(_ma_duotou.df_duotou))\n",
    "    _close_first.append(_ma_duotou.df_duotou['close'][0])\n",
    "    _close_last.append(_ma_duotou.df_duotou['close'][-1])\n",
    "    _close_up_ratio=(_close_last[-1]-_close_first[-1])/_close_first[-1]*100\n",
    "    \n",
    "#然后保存到pandas的DataFrame类型中，方便查看。\n",
    "_dict_ma_duotou_1={\n",
    "    #'start_date':_start_date,\n",
    "    'book_id':_book_id,\n",
    "    'continue_days':_continue_days,\n",
    "    'close_up_ratio':_close_up_ratio\n",
    "}\n",
    "_df_ma_duotou_1=pd.DataFrame(_dict_ma_duotou_1)"
   ]
  },
  {
   "cell_type": "code",
   "execution_count": 15,
   "metadata": {},
   "outputs": [
    {
     "data": {
      "text/plain": [
       "7.0"
      ]
     },
     "execution_count": 15,
     "metadata": {},
     "output_type": "execute_result"
    }
   ],
   "source": [
    "print(\"持续天数中位数\".format(np.median(_df_ma_duotou_1['continue_days'])))"
   ]
  },
  {
   "cell_type": "code",
   "execution_count": 25,
   "metadata": {},
   "outputs": [
    {
     "data": {
      "text/plain": [
       "77.594568380213445"
      ]
     },
     "execution_count": 25,
     "metadata": {},
     "output_type": "execute_result"
    }
   ],
   "source": [
    "print(\"上涨中位数\".format(np.median(_df_ma_duotou_1['close_up_ratio'])*100)))"
   ]
  },
  {
   "cell_type": "code",
   "execution_count": 23,
   "metadata": {},
   "outputs": [
    {
     "name": "stdout",
     "output_type": "stream",
     "text": [
      "天数：1 占比：9.8% 继续下去比率90.2%\n",
      "天数：2 占比：7.9% 继续下去比率91.3%\n",
      "天数：3 占比：6.9% 继续下去比率91.6%\n",
      "天数：4 占比：6.5% 继续下去比率91.3%\n",
      "天数：5 占比：7.9% 继续下去比率88.5%\n",
      "天数：6 占比：7.9% 继续下去比率87.1%\n",
      "天数：7 占比：7.5% 继续下去比率85.8%\n",
      "天数：8 占比：6.7% 继续下去比率85.4%\n",
      "天数：9 占比：5.5% 继续下去比率85.9%\n",
      "天数：10 占比：4.2% 继续下去比率87.5%\n",
      "天数：11 占比：3.8% 继续下去比率87.1%\n",
      "天数：12 占比：3.3% 继续下去比率87.1%\n",
      "天数：13 占比：3.0% 继续下去比率86.4%\n",
      "天数：14 占比：2.7% 继续下去比率86.0%\n",
      "天数：15 占比：2.2% 继续下去比率86.9%\n",
      "天数：16 占比：1.9% 继续下去比率86.5%\n",
      "天数：17 占比：1.7% 继续下去比率86.2%\n",
      "天数：18 占比：1.4% 继续下去比率86.4%\n",
      "天数：19 占比：1.2% 继续下去比率86.5%\n",
      "天数：20 占比：1.1% 继续下去比率86.3%\n",
      "天数：21 占比：1.0% 继续下去比率85.6%\n",
      "天数：22 占比：0.8% 继续下去比率85.6%\n",
      "天数：23 占比：0.7% 继续下去比率86.0%\n",
      "天数：24 占比：0.6% 继续下去比率85.6%\n",
      "天数：25 占比：0.5% 继续下去比率85.4%\n",
      "天数：26 占比：0.5% 继续下去比率85.5%\n",
      "天数：27 占比：0.4% 继续下去比率86.7%\n",
      "天数：28 占比：0.3% 继续下去比率86.0%\n",
      "天数：29 占比：0.3% 继续下去比率86.3%\n",
      "天数：30 占比：0.2% 继续下去比率88.3%\n",
      "天数：31 占比：0.2% 继续下去比率86.3%\n",
      "天数：32 占比：0.2% 继续下去比率86.3%\n",
      "天数：33 占比：0.2% 继续下去比率85.1%\n",
      "天数：34 占比：0.1% 继续下去比率84.9%\n",
      "天数：35 占比：0.1% 继续下去比率84.1%\n",
      "天数：36 占比：0.1% 继续下去比率86.7%\n",
      "天数：37 占比：0.1% 继续下去比率85.7%\n",
      "天数：38 占比：0.1% 继续下去比率87.3%\n",
      "天数：39 占比：0.1% 继续下去比率88.7%\n",
      "天数：40 占比：0.0% 继续下去比率89.5%\n",
      "天数：41 占比：0.0% 继续下去比率88.6%\n",
      "天数：42 占比：0.0% 继续下去比率91.4%\n",
      "天数：43 占比：0.0% 继续下去比率89.6%\n",
      "天数：44 占比：0.0% 继续下去比率88.2%\n",
      "天数：45 占比：0.0% 继续下去比率88.7%\n",
      "天数：46 占比：0.0% 继续下去比率87.5%\n",
      "天数：47 占比：0.0% 继续下去比率90.5%\n",
      "天数：48 占比：0.0% 继续下去比率87.3%\n",
      "天数：49 占比：0.0% 继续下去比率93.1%\n",
      "天数：50 占比：0.0% 继续下去比率94.0%\n",
      "天数：51 占比：0.0% 继续下去比率93.1%\n",
      "天数：52 占比：0.0% 继续下去比率85.3%\n",
      "天数：53 占比：0.0% 继续下去比率88.3%\n",
      "天数：54 占比：0.0% 继续下去比率89.5%\n",
      "天数：55 占比：0.0% 继续下去比率84.4%\n",
      "天数：56 占比：0.0% 继续下去比率85.2%\n",
      "天数：57 占比：0.0% 继续下去比率89.1%\n",
      "天数：58 占比：0.0% 继续下去比率82.9%\n",
      "天数：59 占比：0.0% 继续下去比率92.6%\n"
     ]
    }
   ],
   "source": [
    "## 如下是查看，比如已经连续6天，判断还继续连续下去的几率，这个只是判断到连续60天\n",
    "# 总的数量\n",
    "_sum_count=len(_df_ma_duotou_1)\n",
    "for _days_i in range(1,60):\n",
    "    # 2个天数，一个是当天的数量，一个是大于当天的数量\n",
    "    _count_1=len(_df_ma_duotou_1[_df_ma_duotou_1.continue_days==_days_i])\n",
    "    _count_2=len(_df_ma_duotou_1[_df_ma_duotou_1.continue_days>_days_i])\n",
    "    _count_3=_count_1+_count_2\n",
    "    # 几个比率，一个是当天的比率。另一个是持续下去的比率，另一个是到第几天为止，存货的几率。\n",
    "    _ratio_1=_count_1/_sum_count*100\n",
    "    _ratio_2=_count_2/_count_3*100\n",
    "    _ratio_3=_count_2/_sum_count*100\n",
    "    print(\"天数：{} 占比：{:.1f}% 继续下去比率{:.1f}% 存活几率：{:.1f}\".format(_days_i,_ratio_1,_ratio_2,_ratio_3))\n",
    "    "
   ]
  },
  {
   "cell_type": "code",
   "execution_count": null,
   "metadata": {},
   "outputs": [],
   "source": []
  }
 ],
 "metadata": {
  "kernelspec": {
   "display_name": "Python 3",
   "language": "python",
   "name": "python3"
  },
  "language_info": {
   "codemirror_mode": {
    "name": "ipython",
    "version": 3
   },
   "file_extension": ".py",
   "mimetype": "text/x-python",
   "name": "python",
   "nbconvert_exporter": "python",
   "pygments_lexer": "ipython3",
   "version": "3.6.3"
  }
 },
 "nbformat": 4,
 "nbformat_minor": 2
}
