import pandas as pd
import numpy as np
import matplotlib
from matplotlib import pyplot as plt 
import os
# from tqdm.notebook import  tqdm
from tqdm import  tqdm
import talib
import sys
sys.path.append('../../DataSource/baostock')
import datasource


# 取得所有的额股票代码
codes = datasource.get_codes()


# 连续下跌后的涨停
code = codes[0]
dt = datasource.get_data(code)
dt['isDown'] = dt['close'] < dt['preclose']         # 是否是下跌
dt['isDown'] = dt['isDown'].apply(lambda x: 1 if x == True else None)
dt['isMaxUp'] = dt['close'] > dt['preclose'] * 1.05 # 是否是涨停
dt['isDown2'] = dt['isDown'].shift()                # 向后移动一天
# 我这里要筛选如果连续几天下跌
N = 3
dt['isDown3'] = dt['isDown2'].rolling(N).count()
# 我要寻找的是连续几天为这个值的然后涨停的
dt2 = dt[(dt['isDown3'] == N) & (dt['isMaxUp'] == True)]
dt2.head()


def downs_then_up(code:str, days:int, up_radio:float):
    # 经过多天下跌后涨停
    dt = datasource.get_data(code)
    dt['isDown'] = dt['close'] < dt['preclose']         # 是否是下跌
    dt['isDown'] = dt['isDown'].apply(lambda x: 1 if x == True else None)
    dt['isMaxUp'] = dt['close'] > dt['preclose'] * up_radio # 是否是涨停
    dt['isDown2'] = dt['isDown'].shift()                # 向后移动一天
    dt['closenext3'] = dt['close'].shift(-3)/dt['close']
    dt['closenext5'] = dt['close'].shift(-5)/dt['close']
    dt['closenext7'] = dt['close'].shift(-7)/dt['close']
    # 我这里要筛选如果连续几天下跌
    N = 2
    dt['isDown3'] = dt['isDown2'].rolling(days).count()
    # 我要寻找的是连续几天为这个值的然后涨停的
    dt2 = dt[(dt['isDown3'] == days) & (dt['isMaxUp'] == True)]
    # 这里需要看看需要哪一列
    return dt2.loc[:,['close', 'preclose', 'closenext3','closenext5', 'closenext7']]
    
        


lst_dt = []
days = 5
radio = 1.09
for i in tqdm(range(len(codes))):
    code = codes[i]
    dt_tmp = downs_then_up(code, days, radio)
    # 这里要筛选不是空值的。
    if not dt_tmp.empty:
        lst_dt.append(dt_tmp)





dt_all = pd.concat(lst_dt)
dt_all.head()


dt_all.to_csv(f'连续{days}天下跌后上涨{radio}.csv')
print(len(dt_all))


columns = ['closenext3', 'closenext5', 'closenext7']


for i in columns:
    print(f'{i}:{dt_all['closenext3'].sum()/len(dt_all)}')
     


for i in columns:
    print(f'{i}:{dt_all[i].median()}')


for i in columns:
    print(f'{i}:{dt_all[i].median()}, {dt_all[i].min()}, {dt_all[i].max()}')



