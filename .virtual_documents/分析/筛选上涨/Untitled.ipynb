import pandas as pd
import numpy as np
import matplotlib
matplotlib.use('agg')
import matplotlib.pyplot as plt
import os
# from tqdm.notebook import  tqdm
from tqdm import  tqdm
import talib
import datetime

import  mplfinance as mpf

import sys
sys.path.append('../../DataSource/baostock')
import datasource


# 这个是筛选多少天上涨多少的，
codes = datasource.get_codes()
code = codes[0]
dt = datasource.get_data(code)
dt.head()


dt.loc['2010-01-05':'2010-01-08',:]


list(dt.index)[:10]


def get_ups(df:pd.DataFrame, days:int, up_ratio:float)->pd.DataFrame:
    # 获得已经过多少天，上证超过一定比例的
    # 先取得一个深拷贝
    df2 = df.copy()
    # 然后向前移动指定的天数
    df2[f'close{days}'] = df2['close'].shift(-days)
    # 这里要筛选
    return df2[df2[f'close{days}'] > up_ratio * df2['close']]


_days = 30
_radio = 2

_day_before = 14 # 这一天往前的
_day_after = 60  # 这一天往后的
_day_diff = 14   # 这个天数以内的，不做第二次

_folder_name = f'{_days}天倍率{_radio}往前{_day_before}往后{_day_after}'
if not os.path.exists(_folder_name):
    os.makedirs(_folder_name) 


_dict_dates = {}

for i in tqdm(range(len(codes))):
    code = codes[i]
    dt = datasource.get_data(code)
    dt_tmp = get_ups(dt, _days, _radio).dropna()
    if not dt_tmp.empty:
        # 我这里要筛选这个图片
        for index in dt_tmp.index:
            # 首先看看有没有这个股票
            if not code in _dict_dates:
                _dict_dates[code] = []
            #查看是否相差点数以内的，就不做处理
            _diff = [abs((i-index).days) for i in _dict_dates[code]]
            _diff2 = [i for i in _diff if i <  _day_diff]
            if len(_diff2) > 0:
                continue
            _dict_dates[code].append(index)            
            _before = index - datetime.timedelta(days=_day_before) # 前面几天
            _after = index + datetime.timedelta(days=_day_after)   # 后边几天
            _df_plot = dt.loc[_before:_after,:]                         # 筛选
            # 绘图
            # 然后以这个绘图
            mydpi = 96
            fig1, _ = mpf.plot(_df_plot,
                           type='candle',
                           style='yahoo',
                           figsize =(800/mydpi,600/mydpi), 
                           volume=True,
                           axisoff=True,
                           returnfig=True, 
                           scale_padding=0.2)
            # 然后这里是保存
            _img_file = f'{code}-{index.strftime("%Y-%m-%d")}.jpg'
            _img_path = os.path.join(_folder_name, _img_file)
            fig1.savefig(_img_path,dpi=mydpi)
            plt.clf()
            plt.close()



