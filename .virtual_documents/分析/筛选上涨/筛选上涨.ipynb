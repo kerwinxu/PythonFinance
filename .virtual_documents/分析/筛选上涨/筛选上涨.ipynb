import pandas as pd
import numpy as np
import matplotlib
from matplotlib import pyplot as plt 
import os
# from tqdm.notebook import  tqdm
from tqdm import  tqdm
import talib
import sys
sys.path.append('../../DataSource/baostock')
import datasource


# 取得所有的额股票代码
codes = datasource.get_codes()


def get_ups(df:pd.DataFrame, days:int, up_ratio:float)->pd.DataFrame:
    # 获得已经过多少天，上证超过一定比例的
    # 先取得一个深拷贝
    df2 = df.copy()
    # 然后向前移动指定的天数
    df2[f'close{days}'] = df2['close'].shift(-days)
    # 这里要筛选
    return df2[df2[f'close{days}'] > up_ratio * df2['close']]


dt = datasource.get_data(codes[0])
dt_tmp = get_ups(dt, 30, 1.5)
dt_tmp.head()


# 我这里是取得所有的在指定天数内上涨超过一定比例的
lst_dt = []
days = 30
radio = 2
for i in tqdm(range(len(codes))):
    code = codes[i]
    dt = datasource.get_data(code)
    dt_tmp = get_ups(dt, days, radio).dropna()
    # 这里要筛选不是空值的。
    if not dt_tmp.empty:
        lst_dt.append(dt_tmp)


dt_all = pd.concat(lst_dt)
dt_all.head()
dt_all.to_csv(f'{days}天上涨{radio}.csv')



