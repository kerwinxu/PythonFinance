{
 "cells": [
  {
   "cell_type": "code",
   "execution_count": 1,
   "id": "873e1600-2af1-4c91-ad79-bf165ff7f05a",
   "metadata": {
    "execution": {
     "iopub.execute_input": "2025-03-03T07:56:04.838552Z",
     "iopub.status.busy": "2025-03-03T07:56:04.837557Z",
     "iopub.status.idle": "2025-03-03T07:56:04.849135Z",
     "shell.execute_reply": "2025-03-03T07:56:04.847139Z",
     "shell.execute_reply.started": "2025-03-03T07:56:04.838552Z"
    }
   },
   "outputs": [],
   "source": [
    "# 首先取得所有的股票数据"
   ]
  },
  {
   "cell_type": "code",
   "execution_count": 28,
   "id": "cdafab6c-b5c3-432e-abb8-020dd6e81a8f",
   "metadata": {
    "execution": {
     "iopub.execute_input": "2025-03-03T08:06:49.471921Z",
     "iopub.status.busy": "2025-03-03T08:06:49.469922Z",
     "iopub.status.idle": "2025-03-03T08:06:49.639505Z",
     "shell.execute_reply": "2025-03-03T08:06:49.636484Z",
     "shell.execute_reply.started": "2025-03-03T08:06:49.471921Z"
    }
   },
   "outputs": [
    {
     "name": "stdout",
     "output_type": "stream",
     "text": [
      "login success!\n",
      "login respond error_code:0\n",
      "login respond  error_msg:success\n"
     ]
    }
   ],
   "source": [
    "from datasource import get_codes\n",
    "from datasource import get_data\n",
    "import baostock as bs\n",
    "import pandas as pd\n",
    "#### 登陆系统 ####\n",
    "lg = bs.login()\n",
    "# 显示登陆返回信息\n",
    "print('login respond error_code:'+lg.error_code)\n",
    "print('login respond  error_msg:'+lg.error_msg)"
   ]
  },
  {
   "cell_type": "code",
   "execution_count": 4,
   "id": "87c82eb6-1986-4af8-8c78-f374de47862f",
   "metadata": {
    "execution": {
     "iopub.execute_input": "2025-03-03T07:57:07.809690Z",
     "iopub.status.busy": "2025-03-03T07:57:07.808689Z",
     "iopub.status.idle": "2025-03-03T07:57:07.932213Z",
     "shell.execute_reply": "2025-03-03T07:57:07.930234Z",
     "shell.execute_reply.started": "2025-03-03T07:57:07.809690Z"
    }
   },
   "outputs": [],
   "source": [
    "codes = get_codes()"
   ]
  },
  {
   "cell_type": "code",
   "execution_count": null,
   "id": "2b6f856d-b62c-4ddd-94a6-acf4b891e8b7",
   "metadata": {},
   "outputs": [],
   "source": [
    "# 这里先取得一个股票的数据"
   ]
  },
  {
   "cell_type": "code",
   "execution_count": 8,
   "id": "90bbf11b-79ee-4039-b9ed-6453646a3ec5",
   "metadata": {
    "execution": {
     "iopub.execute_input": "2025-03-03T07:58:18.215468Z",
     "iopub.status.busy": "2025-03-03T07:58:18.214462Z",
     "iopub.status.idle": "2025-03-03T07:58:18.317361Z",
     "shell.execute_reply": "2025-03-03T07:58:18.315364Z",
     "shell.execute_reply.started": "2025-03-03T07:58:18.215468Z"
    }
   },
   "outputs": [
    {
     "data": {
      "text/html": [
       "<div>\n",
       "<style scoped>\n",
       "    .dataframe tbody tr th:only-of-type {\n",
       "        vertical-align: middle;\n",
       "    }\n",
       "\n",
       "    .dataframe tbody tr th {\n",
       "        vertical-align: top;\n",
       "    }\n",
       "\n",
       "    .dataframe thead th {\n",
       "        text-align: right;\n",
       "    }\n",
       "</style>\n",
       "<table border=\"1\" class=\"dataframe\">\n",
       "  <thead>\n",
       "    <tr style=\"text-align: right;\">\n",
       "      <th></th>\n",
       "      <th>code</th>\n",
       "      <th>open</th>\n",
       "      <th>high</th>\n",
       "      <th>low</th>\n",
       "      <th>close</th>\n",
       "      <th>preclose</th>\n",
       "      <th>volume</th>\n",
       "      <th>amount</th>\n",
       "      <th>adjustflag</th>\n",
       "      <th>turn</th>\n",
       "      <th>tradestatus</th>\n",
       "      <th>pctChg</th>\n",
       "      <th>isST</th>\n",
       "    </tr>\n",
       "    <tr>\n",
       "      <th>date</th>\n",
       "      <th></th>\n",
       "      <th></th>\n",
       "      <th></th>\n",
       "      <th></th>\n",
       "      <th></th>\n",
       "      <th></th>\n",
       "      <th></th>\n",
       "      <th></th>\n",
       "      <th></th>\n",
       "      <th></th>\n",
       "      <th></th>\n",
       "      <th></th>\n",
       "      <th></th>\n",
       "    </tr>\n",
       "  </thead>\n",
       "  <tbody>\n",
       "    <tr>\n",
       "      <th>2010-01-04</th>\n",
       "      <td>sh.600000</td>\n",
       "      <td>5.233088</td>\n",
       "      <td>5.242676</td>\n",
       "      <td>5.072475</td>\n",
       "      <td>5.079667</td>\n",
       "      <td>5.199527</td>\n",
       "      <td>66191338</td>\n",
       "      <td>1.419984e+09</td>\n",
       "      <td>2</td>\n",
       "      <td>0.835129</td>\n",
       "      <td>1</td>\n",
       "      <td>-2.3052</td>\n",
       "      <td>0</td>\n",
       "    </tr>\n",
       "    <tr>\n",
       "      <th>2010-01-05</th>\n",
       "      <td>sh.600000</td>\n",
       "      <td>5.132405</td>\n",
       "      <td>5.173158</td>\n",
       "      <td>4.983779</td>\n",
       "      <td>5.118022</td>\n",
       "      <td>5.079667</td>\n",
       "      <td>115147943</td>\n",
       "      <td>2.436891e+09</td>\n",
       "      <td>2</td>\n",
       "      <td>1.452808</td>\n",
       "      <td>1</td>\n",
       "      <td>0.7551</td>\n",
       "      <td>0</td>\n",
       "    </tr>\n",
       "    <tr>\n",
       "      <th>2010-01-06</th>\n",
       "      <td>sh.600000</td>\n",
       "      <td>5.103639</td>\n",
       "      <td>5.106036</td>\n",
       "      <td>5.005354</td>\n",
       "      <td>5.017340</td>\n",
       "      <td>5.118022</td>\n",
       "      <td>96782575</td>\n",
       "      <td>2.034174e+09</td>\n",
       "      <td>2</td>\n",
       "      <td>1.221095</td>\n",
       "      <td>1</td>\n",
       "      <td>-1.9672</td>\n",
       "      <td>0</td>\n",
       "    </tr>\n",
       "    <tr>\n",
       "      <th>2010-01-07</th>\n",
       "      <td>sh.600000</td>\n",
       "      <td>5.005354</td>\n",
       "      <td>5.043709</td>\n",
       "      <td>4.866316</td>\n",
       "      <td>4.904671</td>\n",
       "      <td>5.017340</td>\n",
       "      <td>85236072</td>\n",
       "      <td>1.761801e+09</td>\n",
       "      <td>2</td>\n",
       "      <td>1.075414</td>\n",
       "      <td>1</td>\n",
       "      <td>-2.2456</td>\n",
       "      <td>0</td>\n",
       "    </tr>\n",
       "    <tr>\n",
       "      <th>2010-01-08</th>\n",
       "      <td>sh.600000</td>\n",
       "      <td>4.875905</td>\n",
       "      <td>4.986176</td>\n",
       "      <td>4.866316</td>\n",
       "      <td>4.959807</td>\n",
       "      <td>4.904671</td>\n",
       "      <td>65707646</td>\n",
       "      <td>1.349532e+09</td>\n",
       "      <td>2</td>\n",
       "      <td>0.829026</td>\n",
       "      <td>1</td>\n",
       "      <td>1.1241</td>\n",
       "      <td>0</td>\n",
       "    </tr>\n",
       "  </tbody>\n",
       "</table>\n",
       "</div>"
      ],
      "text/plain": [
       "                 code      open      high       low     close  preclose  \\\n",
       "date                                                                      \n",
       "2010-01-04  sh.600000  5.233088  5.242676  5.072475  5.079667  5.199527   \n",
       "2010-01-05  sh.600000  5.132405  5.173158  4.983779  5.118022  5.079667   \n",
       "2010-01-06  sh.600000  5.103639  5.106036  5.005354  5.017340  5.118022   \n",
       "2010-01-07  sh.600000  5.005354  5.043709  4.866316  4.904671  5.017340   \n",
       "2010-01-08  sh.600000  4.875905  4.986176  4.866316  4.959807  4.904671   \n",
       "\n",
       "               volume        amount  adjustflag      turn  tradestatus  \\\n",
       "date                                                                     \n",
       "2010-01-04   66191338  1.419984e+09           2  0.835129            1   \n",
       "2010-01-05  115147943  2.436891e+09           2  1.452808            1   \n",
       "2010-01-06   96782575  2.034174e+09           2  1.221095            1   \n",
       "2010-01-07   85236072  1.761801e+09           2  1.075414            1   \n",
       "2010-01-08   65707646  1.349532e+09           2  0.829026            1   \n",
       "\n",
       "            pctChg  isST  \n",
       "date                      \n",
       "2010-01-04 -2.3052     0  \n",
       "2010-01-05  0.7551     0  \n",
       "2010-01-06 -1.9672     0  \n",
       "2010-01-07 -2.2456     0  \n",
       "2010-01-08  1.1241     0  "
      ]
     },
     "execution_count": 8,
     "metadata": {},
     "output_type": "execute_result"
    }
   ],
   "source": [
    "dt = get_data(codes[0])\n",
    "dt.head()"
   ]
  },
  {
   "cell_type": "code",
   "execution_count": 22,
   "id": "6a3154c4-ba8c-40eb-90b1-12533d317b17",
   "metadata": {
    "execution": {
     "iopub.execute_input": "2025-03-03T08:05:36.091082Z",
     "iopub.status.busy": "2025-03-03T08:05:36.090086Z",
     "iopub.status.idle": "2025-03-03T08:05:36.099515Z",
     "shell.execute_reply": "2025-03-03T08:05:36.097494Z",
     "shell.execute_reply.started": "2025-03-03T08:05:36.091082Z"
    }
   },
   "outputs": [],
   "source": [
    "last_date = dt.iloc[-1,:].name.strftime('%Y-%m-%d')"
   ]
  },
  {
   "cell_type": "code",
   "execution_count": 23,
   "id": "0a833fe4-feae-43dc-8214-5489d23a97ad",
   "metadata": {
    "execution": {
     "iopub.execute_input": "2025-03-03T08:05:36.742655Z",
     "iopub.status.busy": "2025-03-03T08:05:36.740634Z",
     "iopub.status.idle": "2025-03-03T08:05:36.754262Z",
     "shell.execute_reply": "2025-03-03T08:05:36.752263Z",
     "shell.execute_reply.started": "2025-03-03T08:05:36.742655Z"
    }
   },
   "outputs": [
    {
     "data": {
      "text/plain": [
       "'2025-02-06'"
      ]
     },
     "execution_count": 23,
     "metadata": {},
     "output_type": "execute_result"
    }
   ],
   "source": [
    "last_date"
   ]
  },
  {
   "cell_type": "code",
   "execution_count": 33,
   "id": "a9e15af0-7050-4717-beb7-d8327cd057b5",
   "metadata": {
    "execution": {
     "iopub.execute_input": "2025-03-03T08:08:13.163415Z",
     "iopub.status.busy": "2025-03-03T08:08:13.162419Z",
     "iopub.status.idle": "2025-03-03T08:08:13.220885Z",
     "shell.execute_reply": "2025-03-03T08:08:13.215114Z",
     "shell.execute_reply.started": "2025-03-03T08:08:13.163415Z"
    }
   },
   "outputs": [],
   "source": [
    "rs = bs.query_history_k_data_plus(codes[0],\n",
    "    \"date,code,open,high,low,close,preclose,volume,amount,adjustflag,turn,tradestatus,pctChg,isST\",\n",
    "    start_date=last_date, # end_date='2021-12-21',\n",
    "    frequency=\"d\", adjustflag=\"2\")"
   ]
  },
  {
   "cell_type": "code",
   "execution_count": 34,
   "id": "911adf8a-c746-4e7e-9eb4-784c44d84975",
   "metadata": {
    "execution": {
     "iopub.execute_input": "2025-03-03T08:08:13.799497Z",
     "iopub.status.busy": "2025-03-03T08:08:13.797500Z",
     "iopub.status.idle": "2025-03-03T08:08:13.843870Z",
     "shell.execute_reply": "2025-03-03T08:08:13.840845Z",
     "shell.execute_reply.started": "2025-03-03T08:08:13.799497Z"
    }
   },
   "outputs": [],
   "source": [
    "# 保存在\n",
    "data_list = []\n",
    "while (rs.error_code == '0') & rs.next():\n",
    "    # 获取一条记录，将记录合并在一起\n",
    "    data_list.append(rs.get_row_data())\n",
    "result = pd.DataFrame(data_list, columns=rs.fields)"
   ]
  },
  {
   "cell_type": "code",
   "execution_count": 37,
   "id": "4274ec3a-7243-4e29-b582-ca7a76d153f9",
   "metadata": {
    "execution": {
     "iopub.execute_input": "2025-03-03T08:10:54.983729Z",
     "iopub.status.busy": "2025-03-03T08:10:54.982731Z",
     "iopub.status.idle": "2025-03-03T08:10:55.032161Z",
     "shell.execute_reply": "2025-03-03T08:10:55.027140Z",
     "shell.execute_reply.started": "2025-03-03T08:10:54.983729Z"
    }
   },
   "outputs": [
    {
     "data": {
      "text/html": [
       "<div>\n",
       "<style scoped>\n",
       "    .dataframe tbody tr th:only-of-type {\n",
       "        vertical-align: middle;\n",
       "    }\n",
       "\n",
       "    .dataframe tbody tr th {\n",
       "        vertical-align: top;\n",
       "    }\n",
       "\n",
       "    .dataframe thead th {\n",
       "        text-align: right;\n",
       "    }\n",
       "</style>\n",
       "<table border=\"1\" class=\"dataframe\">\n",
       "  <thead>\n",
       "    <tr style=\"text-align: right;\">\n",
       "      <th></th>\n",
       "      <th>code</th>\n",
       "      <th>open</th>\n",
       "      <th>high</th>\n",
       "      <th>low</th>\n",
       "      <th>close</th>\n",
       "      <th>preclose</th>\n",
       "      <th>volume</th>\n",
       "      <th>amount</th>\n",
       "      <th>adjustflag</th>\n",
       "      <th>turn</th>\n",
       "      <th>tradestatus</th>\n",
       "      <th>pctChg</th>\n",
       "      <th>isST</th>\n",
       "    </tr>\n",
       "    <tr>\n",
       "      <th>date</th>\n",
       "      <th></th>\n",
       "      <th></th>\n",
       "      <th></th>\n",
       "      <th></th>\n",
       "      <th></th>\n",
       "      <th></th>\n",
       "      <th></th>\n",
       "      <th></th>\n",
       "      <th></th>\n",
       "      <th></th>\n",
       "      <th></th>\n",
       "      <th></th>\n",
       "      <th></th>\n",
       "    </tr>\n",
       "  </thead>\n",
       "  <tbody>\n",
       "    <tr>\n",
       "      <th>2025-01-23</th>\n",
       "      <td>sh.600000</td>\n",
       "      <td>10.11</td>\n",
       "      <td>10.37</td>\n",
       "      <td>10.06</td>\n",
       "      <td>10.31</td>\n",
       "      <td>10.03</td>\n",
       "      <td>65580692</td>\n",
       "      <td>6.709518e+08</td>\n",
       "      <td>2</td>\n",
       "      <td>0.2234</td>\n",
       "      <td>1</td>\n",
       "      <td>2.7916</td>\n",
       "      <td>0</td>\n",
       "    </tr>\n",
       "    <tr>\n",
       "      <th>2025-01-24</th>\n",
       "      <td>sh.600000</td>\n",
       "      <td>10.26</td>\n",
       "      <td>10.49</td>\n",
       "      <td>10.17</td>\n",
       "      <td>10.39</td>\n",
       "      <td>10.31</td>\n",
       "      <td>72463834</td>\n",
       "      <td>7.525601e+08</td>\n",
       "      <td>2</td>\n",
       "      <td>0.2469</td>\n",
       "      <td>1</td>\n",
       "      <td>0.7759</td>\n",
       "      <td>0</td>\n",
       "    </tr>\n",
       "    <tr>\n",
       "      <th>2025-01-27</th>\n",
       "      <td>sh.600000</td>\n",
       "      <td>10.42</td>\n",
       "      <td>10.70</td>\n",
       "      <td>10.40</td>\n",
       "      <td>10.65</td>\n",
       "      <td>10.39</td>\n",
       "      <td>59488208</td>\n",
       "      <td>6.326946e+08</td>\n",
       "      <td>2</td>\n",
       "      <td>0.2027</td>\n",
       "      <td>1</td>\n",
       "      <td>2.5024</td>\n",
       "      <td>0</td>\n",
       "    </tr>\n",
       "    <tr>\n",
       "      <th>2025-02-05</th>\n",
       "      <td>sh.600000</td>\n",
       "      <td>10.66</td>\n",
       "      <td>10.69</td>\n",
       "      <td>10.40</td>\n",
       "      <td>10.41</td>\n",
       "      <td>10.65</td>\n",
       "      <td>51723455</td>\n",
       "      <td>5.423822e+08</td>\n",
       "      <td>2</td>\n",
       "      <td>0.1762</td>\n",
       "      <td>1</td>\n",
       "      <td>-2.2535</td>\n",
       "      <td>0</td>\n",
       "    </tr>\n",
       "    <tr>\n",
       "      <th>2025-02-06</th>\n",
       "      <td>sh.600000</td>\n",
       "      <td>10.38</td>\n",
       "      <td>10.50</td>\n",
       "      <td>10.30</td>\n",
       "      <td>10.43</td>\n",
       "      <td>10.41</td>\n",
       "      <td>38598431</td>\n",
       "      <td>4.008189e+08</td>\n",
       "      <td>2</td>\n",
       "      <td>0.1315</td>\n",
       "      <td>1</td>\n",
       "      <td>0.1921</td>\n",
       "      <td>0</td>\n",
       "    </tr>\n",
       "  </tbody>\n",
       "</table>\n",
       "</div>"
      ],
      "text/plain": [
       "                 code   open   high    low  close  preclose    volume  \\\n",
       "date                                                                    \n",
       "2025-01-23  sh.600000  10.11  10.37  10.06  10.31     10.03  65580692   \n",
       "2025-01-24  sh.600000  10.26  10.49  10.17  10.39     10.31  72463834   \n",
       "2025-01-27  sh.600000  10.42  10.70  10.40  10.65     10.39  59488208   \n",
       "2025-02-05  sh.600000  10.66  10.69  10.40  10.41     10.65  51723455   \n",
       "2025-02-06  sh.600000  10.38  10.50  10.30  10.43     10.41  38598431   \n",
       "\n",
       "                  amount  adjustflag    turn  tradestatus  pctChg  isST  \n",
       "date                                                                     \n",
       "2025-01-23  6.709518e+08           2  0.2234            1  2.7916     0  \n",
       "2025-01-24  7.525601e+08           2  0.2469            1  0.7759     0  \n",
       "2025-01-27  6.326946e+08           2  0.2027            1  2.5024     0  \n",
       "2025-02-05  5.423822e+08           2  0.1762            1 -2.2535     0  \n",
       "2025-02-06  4.008189e+08           2  0.1315            1  0.1921     0  "
      ]
     },
     "execution_count": 37,
     "metadata": {},
     "output_type": "execute_result"
    }
   ],
   "source": [
    "dt.tail()"
   ]
  },
  {
   "cell_type": "code",
   "execution_count": 36,
   "id": "64ba80b7-9314-46a5-9fe0-b42088c127d8",
   "metadata": {
    "execution": {
     "iopub.execute_input": "2025-03-03T08:08:24.615258Z",
     "iopub.status.busy": "2025-03-03T08:08:24.615258Z",
     "iopub.status.idle": "2025-03-03T08:08:24.647689Z",
     "shell.execute_reply": "2025-03-03T08:08:24.644697Z",
     "shell.execute_reply.started": "2025-03-03T08:08:24.615258Z"
    },
    "scrolled": true
   },
   "outputs": [
    {
     "data": {
      "text/html": [
       "<div>\n",
       "<style scoped>\n",
       "    .dataframe tbody tr th:only-of-type {\n",
       "        vertical-align: middle;\n",
       "    }\n",
       "\n",
       "    .dataframe tbody tr th {\n",
       "        vertical-align: top;\n",
       "    }\n",
       "\n",
       "    .dataframe thead th {\n",
       "        text-align: right;\n",
       "    }\n",
       "</style>\n",
       "<table border=\"1\" class=\"dataframe\">\n",
       "  <thead>\n",
       "    <tr style=\"text-align: right;\">\n",
       "      <th></th>\n",
       "      <th>date</th>\n",
       "      <th>code</th>\n",
       "      <th>open</th>\n",
       "      <th>high</th>\n",
       "      <th>low</th>\n",
       "      <th>close</th>\n",
       "      <th>preclose</th>\n",
       "      <th>volume</th>\n",
       "      <th>amount</th>\n",
       "      <th>adjustflag</th>\n",
       "      <th>turn</th>\n",
       "      <th>tradestatus</th>\n",
       "      <th>pctChg</th>\n",
       "      <th>isST</th>\n",
       "    </tr>\n",
       "  </thead>\n",
       "  <tbody>\n",
       "    <tr>\n",
       "      <th>0</th>\n",
       "      <td>2025-02-06</td>\n",
       "      <td>sh.600000</td>\n",
       "      <td>10.3800000000</td>\n",
       "      <td>10.5000000000</td>\n",
       "      <td>10.3000000000</td>\n",
       "      <td>10.4300000000</td>\n",
       "      <td>10.4100000000</td>\n",
       "      <td>38598431</td>\n",
       "      <td>400818916.7100</td>\n",
       "      <td>2</td>\n",
       "      <td>0.131500</td>\n",
       "      <td>1</td>\n",
       "      <td>0.192100</td>\n",
       "      <td>0</td>\n",
       "    </tr>\n",
       "    <tr>\n",
       "      <th>1</th>\n",
       "      <td>2025-02-07</td>\n",
       "      <td>sh.600000</td>\n",
       "      <td>10.4300000000</td>\n",
       "      <td>10.4500000000</td>\n",
       "      <td>10.3000000000</td>\n",
       "      <td>10.3400000000</td>\n",
       "      <td>10.4300000000</td>\n",
       "      <td>45600119</td>\n",
       "      <td>472723880.7700</td>\n",
       "      <td>2</td>\n",
       "      <td>0.155400</td>\n",
       "      <td>1</td>\n",
       "      <td>-0.862900</td>\n",
       "      <td>0</td>\n",
       "    </tr>\n",
       "    <tr>\n",
       "      <th>2</th>\n",
       "      <td>2025-02-10</td>\n",
       "      <td>sh.600000</td>\n",
       "      <td>10.3200000000</td>\n",
       "      <td>10.4400000000</td>\n",
       "      <td>10.2300000000</td>\n",
       "      <td>10.2700000000</td>\n",
       "      <td>10.3400000000</td>\n",
       "      <td>41234671</td>\n",
       "      <td>426297964.4000</td>\n",
       "      <td>2</td>\n",
       "      <td>0.140500</td>\n",
       "      <td>1</td>\n",
       "      <td>-0.677000</td>\n",
       "      <td>0</td>\n",
       "    </tr>\n",
       "    <tr>\n",
       "      <th>3</th>\n",
       "      <td>2025-02-11</td>\n",
       "      <td>sh.600000</td>\n",
       "      <td>10.2900000000</td>\n",
       "      <td>10.3800000000</td>\n",
       "      <td>10.2300000000</td>\n",
       "      <td>10.3000000000</td>\n",
       "      <td>10.2700000000</td>\n",
       "      <td>34651727</td>\n",
       "      <td>356843469.5200</td>\n",
       "      <td>2</td>\n",
       "      <td>0.118100</td>\n",
       "      <td>1</td>\n",
       "      <td>0.292100</td>\n",
       "      <td>0</td>\n",
       "    </tr>\n",
       "    <tr>\n",
       "      <th>4</th>\n",
       "      <td>2025-02-12</td>\n",
       "      <td>sh.600000</td>\n",
       "      <td>10.3200000000</td>\n",
       "      <td>10.4200000000</td>\n",
       "      <td>10.2400000000</td>\n",
       "      <td>10.4100000000</td>\n",
       "      <td>10.3000000000</td>\n",
       "      <td>33100308</td>\n",
       "      <td>342797073.5200</td>\n",
       "      <td>2</td>\n",
       "      <td>0.112800</td>\n",
       "      <td>1</td>\n",
       "      <td>1.068000</td>\n",
       "      <td>0</td>\n",
       "    </tr>\n",
       "  </tbody>\n",
       "</table>\n",
       "</div>"
      ],
      "text/plain": [
       "         date       code           open           high            low  \\\n",
       "0  2025-02-06  sh.600000  10.3800000000  10.5000000000  10.3000000000   \n",
       "1  2025-02-07  sh.600000  10.4300000000  10.4500000000  10.3000000000   \n",
       "2  2025-02-10  sh.600000  10.3200000000  10.4400000000  10.2300000000   \n",
       "3  2025-02-11  sh.600000  10.2900000000  10.3800000000  10.2300000000   \n",
       "4  2025-02-12  sh.600000  10.3200000000  10.4200000000  10.2400000000   \n",
       "\n",
       "           close       preclose    volume          amount adjustflag  \\\n",
       "0  10.4300000000  10.4100000000  38598431  400818916.7100          2   \n",
       "1  10.3400000000  10.4300000000  45600119  472723880.7700          2   \n",
       "2  10.2700000000  10.3400000000  41234671  426297964.4000          2   \n",
       "3  10.3000000000  10.2700000000  34651727  356843469.5200          2   \n",
       "4  10.4100000000  10.3000000000  33100308  342797073.5200          2   \n",
       "\n",
       "       turn tradestatus     pctChg isST  \n",
       "0  0.131500           1   0.192100    0  \n",
       "1  0.155400           1  -0.862900    0  \n",
       "2  0.140500           1  -0.677000    0  \n",
       "3  0.118100           1   0.292100    0  \n",
       "4  0.112800           1   1.068000    0  "
      ]
     },
     "execution_count": 36,
     "metadata": {},
     "output_type": "execute_result"
    }
   ],
   "source": [
    "result.head()"
   ]
  },
  {
   "cell_type": "code",
   "execution_count": 41,
   "id": "53f858a1-e151-4682-b12d-b61f8b219ede",
   "metadata": {
    "execution": {
     "iopub.execute_input": "2025-03-03T08:13:16.293962Z",
     "iopub.status.busy": "2025-03-03T08:13:16.292971Z",
     "iopub.status.idle": "2025-03-03T08:13:16.307128Z",
     "shell.execute_reply": "2025-03-03T08:13:16.304110Z",
     "shell.execute_reply.started": "2025-03-03T08:13:16.293962Z"
    }
   },
   "outputs": [
    {
     "data": {
      "text/plain": [
       "10.38"
      ]
     },
     "execution_count": 41,
     "metadata": {},
     "output_type": "execute_result"
    }
   ],
   "source": [
    "dt.iloc[-1, 1] "
   ]
  },
  {
   "cell_type": "code",
   "execution_count": 42,
   "id": "3cb9f527-6214-43c3-957c-cd9ba1437d39",
   "metadata": {
    "execution": {
     "iopub.execute_input": "2025-03-03T08:13:21.214591Z",
     "iopub.status.busy": "2025-03-03T08:13:21.214591Z",
     "iopub.status.idle": "2025-03-03T08:13:21.227083Z",
     "shell.execute_reply": "2025-03-03T08:13:21.225069Z",
     "shell.execute_reply.started": "2025-03-03T08:13:21.214591Z"
    }
   },
   "outputs": [
    {
     "data": {
      "text/plain": [
       "'10.3800000000'"
      ]
     },
     "execution_count": 42,
     "metadata": {},
     "output_type": "execute_result"
    }
   ],
   "source": [
    "result.loc[0, 'open']"
   ]
  },
  {
   "cell_type": "code",
   "execution_count": 43,
   "id": "b0c81a2e-92ec-4c49-900d-cab7af8eb8a8",
   "metadata": {
    "execution": {
     "iopub.execute_input": "2025-03-03T08:18:03.952126Z",
     "iopub.status.busy": "2025-03-03T08:18:03.951127Z",
     "iopub.status.idle": "2025-03-03T08:18:03.964777Z",
     "shell.execute_reply": "2025-03-03T08:18:03.961758Z",
     "shell.execute_reply.started": "2025-03-03T08:18:03.952126Z"
    }
   },
   "outputs": [
    {
     "data": {
      "text/plain": [
       "10.38"
      ]
     },
     "execution_count": 43,
     "metadata": {},
     "output_type": "execute_result"
    }
   ],
   "source": [
    "float(result.loc[0, 'open'])"
   ]
  },
  {
   "cell_type": "code",
   "execution_count": 44,
   "id": "a0c4cc1e-aea9-4157-9b19-f6fc1ffca8bc",
   "metadata": {
    "execution": {
     "iopub.execute_input": "2025-03-03T08:18:19.232812Z",
     "iopub.status.busy": "2025-03-03T08:18:19.230809Z",
     "iopub.status.idle": "2025-03-03T08:18:19.244879Z",
     "shell.execute_reply": "2025-03-03T08:18:19.243857Z",
     "shell.execute_reply.started": "2025-03-03T08:18:19.232812Z"
    }
   },
   "outputs": [
    {
     "data": {
      "text/plain": [
       "True"
      ]
     },
     "execution_count": 44,
     "metadata": {},
     "output_type": "execute_result"
    }
   ],
   "source": [
    " float(result.loc[0, 'open']) == dt.iloc[-1, 1] "
   ]
  },
  {
   "cell_type": "code",
   "execution_count": 45,
   "id": "f493acfe-f132-4b2a-8566-2fff75994912",
   "metadata": {
    "execution": {
     "iopub.execute_input": "2025-03-03T08:18:52.285112Z",
     "iopub.status.busy": "2025-03-03T08:18:52.282113Z",
     "iopub.status.idle": "2025-03-03T08:18:52.330563Z",
     "shell.execute_reply": "2025-03-03T08:18:52.318604Z",
     "shell.execute_reply.started": "2025-03-03T08:18:52.285112Z"
    }
   },
   "outputs": [
    {
     "data": {
      "text/html": [
       "<div>\n",
       "<style scoped>\n",
       "    .dataframe tbody tr th:only-of-type {\n",
       "        vertical-align: middle;\n",
       "    }\n",
       "\n",
       "    .dataframe tbody tr th {\n",
       "        vertical-align: top;\n",
       "    }\n",
       "\n",
       "    .dataframe thead th {\n",
       "        text-align: right;\n",
       "    }\n",
       "</style>\n",
       "<table border=\"1\" class=\"dataframe\">\n",
       "  <thead>\n",
       "    <tr style=\"text-align: right;\">\n",
       "      <th></th>\n",
       "      <th>date</th>\n",
       "      <th>code</th>\n",
       "      <th>open</th>\n",
       "      <th>high</th>\n",
       "      <th>low</th>\n",
       "      <th>close</th>\n",
       "      <th>preclose</th>\n",
       "      <th>volume</th>\n",
       "      <th>amount</th>\n",
       "      <th>adjustflag</th>\n",
       "      <th>turn</th>\n",
       "      <th>tradestatus</th>\n",
       "      <th>pctChg</th>\n",
       "      <th>isST</th>\n",
       "    </tr>\n",
       "  </thead>\n",
       "  <tbody>\n",
       "    <tr>\n",
       "      <th>12</th>\n",
       "      <td>2025-02-24</td>\n",
       "      <td>sh.600000</td>\n",
       "      <td>10.2700000000</td>\n",
       "      <td>10.3100000000</td>\n",
       "      <td>10.1900000000</td>\n",
       "      <td>10.2100000000</td>\n",
       "      <td>10.2900000000</td>\n",
       "      <td>43741415</td>\n",
       "      <td>447600690.0000</td>\n",
       "      <td>2</td>\n",
       "      <td>0.149000</td>\n",
       "      <td>1</td>\n",
       "      <td>-0.777500</td>\n",
       "      <td>0</td>\n",
       "    </tr>\n",
       "    <tr>\n",
       "      <th>13</th>\n",
       "      <td>2025-02-25</td>\n",
       "      <td>sh.600000</td>\n",
       "      <td>10.2000000000</td>\n",
       "      <td>10.2500000000</td>\n",
       "      <td>10.0700000000</td>\n",
       "      <td>10.1000000000</td>\n",
       "      <td>10.2100000000</td>\n",
       "      <td>37159866</td>\n",
       "      <td>377213136.9500</td>\n",
       "      <td>2</td>\n",
       "      <td>0.126600</td>\n",
       "      <td>1</td>\n",
       "      <td>-1.077400</td>\n",
       "      <td>0</td>\n",
       "    </tr>\n",
       "    <tr>\n",
       "      <th>14</th>\n",
       "      <td>2025-02-26</td>\n",
       "      <td>sh.600000</td>\n",
       "      <td>10.1500000000</td>\n",
       "      <td>10.3200000000</td>\n",
       "      <td>10.1200000000</td>\n",
       "      <td>10.1800000000</td>\n",
       "      <td>10.1000000000</td>\n",
       "      <td>55536705</td>\n",
       "      <td>567601087.6200</td>\n",
       "      <td>2</td>\n",
       "      <td>0.189200</td>\n",
       "      <td>1</td>\n",
       "      <td>0.792100</td>\n",
       "      <td>0</td>\n",
       "    </tr>\n",
       "    <tr>\n",
       "      <th>15</th>\n",
       "      <td>2025-02-27</td>\n",
       "      <td>sh.600000</td>\n",
       "      <td>10.2200000000</td>\n",
       "      <td>10.2600000000</td>\n",
       "      <td>10.1100000000</td>\n",
       "      <td>10.2400000000</td>\n",
       "      <td>10.1800000000</td>\n",
       "      <td>37999169</td>\n",
       "      <td>387232885.4000</td>\n",
       "      <td>2</td>\n",
       "      <td>0.129500</td>\n",
       "      <td>1</td>\n",
       "      <td>0.589400</td>\n",
       "      <td>0</td>\n",
       "    </tr>\n",
       "    <tr>\n",
       "      <th>16</th>\n",
       "      <td>2025-02-28</td>\n",
       "      <td>sh.600000</td>\n",
       "      <td>10.2300000000</td>\n",
       "      <td>10.3000000000</td>\n",
       "      <td>10.1700000000</td>\n",
       "      <td>10.1700000000</td>\n",
       "      <td>10.2400000000</td>\n",
       "      <td>44651100</td>\n",
       "      <td>457102787.8200</td>\n",
       "      <td>2</td>\n",
       "      <td>0.152100</td>\n",
       "      <td>1</td>\n",
       "      <td>-0.683600</td>\n",
       "      <td>0</td>\n",
       "    </tr>\n",
       "  </tbody>\n",
       "</table>\n",
       "</div>"
      ],
      "text/plain": [
       "          date       code           open           high            low  \\\n",
       "12  2025-02-24  sh.600000  10.2700000000  10.3100000000  10.1900000000   \n",
       "13  2025-02-25  sh.600000  10.2000000000  10.2500000000  10.0700000000   \n",
       "14  2025-02-26  sh.600000  10.1500000000  10.3200000000  10.1200000000   \n",
       "15  2025-02-27  sh.600000  10.2200000000  10.2600000000  10.1100000000   \n",
       "16  2025-02-28  sh.600000  10.2300000000  10.3000000000  10.1700000000   \n",
       "\n",
       "            close       preclose    volume          amount adjustflag  \\\n",
       "12  10.2100000000  10.2900000000  43741415  447600690.0000          2   \n",
       "13  10.1000000000  10.2100000000  37159866  377213136.9500          2   \n",
       "14  10.1800000000  10.1000000000  55536705  567601087.6200          2   \n",
       "15  10.2400000000  10.1800000000  37999169  387232885.4000          2   \n",
       "16  10.1700000000  10.2400000000  44651100  457102787.8200          2   \n",
       "\n",
       "        turn tradestatus     pctChg isST  \n",
       "12  0.149000           1  -0.777500    0  \n",
       "13  0.126600           1  -1.077400    0  \n",
       "14  0.189200           1   0.792100    0  \n",
       "15  0.129500           1   0.589400    0  \n",
       "16  0.152100           1  -0.683600    0  "
      ]
     },
     "execution_count": 45,
     "metadata": {},
     "output_type": "execute_result"
    }
   ],
   "source": [
    "result.tail()"
   ]
  },
  {
   "cell_type": "code",
   "execution_count": 47,
   "id": "d15055f3-688c-480e-beb8-fa7686961fc4",
   "metadata": {
    "execution": {
     "iopub.execute_input": "2025-03-03T08:34:04.939095Z",
     "iopub.status.busy": "2025-03-03T08:34:04.937094Z",
     "iopub.status.idle": "2025-03-03T08:34:05.149550Z",
     "shell.execute_reply": "2025-03-03T08:34:05.145560Z",
     "shell.execute_reply.started": "2025-03-03T08:34:04.939095Z"
    }
   },
   "outputs": [
    {
     "data": {
      "text/html": [
       "<div>\n",
       "<style scoped>\n",
       "    .dataframe tbody tr th:only-of-type {\n",
       "        vertical-align: middle;\n",
       "    }\n",
       "\n",
       "    .dataframe tbody tr th {\n",
       "        vertical-align: top;\n",
       "    }\n",
       "\n",
       "    .dataframe thead th {\n",
       "        text-align: right;\n",
       "    }\n",
       "</style>\n",
       "<table border=\"1\" class=\"dataframe\">\n",
       "  <thead>\n",
       "    <tr style=\"text-align: right;\">\n",
       "      <th></th>\n",
       "      <th>date</th>\n",
       "      <th>code</th>\n",
       "      <th>open</th>\n",
       "      <th>high</th>\n",
       "      <th>low</th>\n",
       "      <th>close</th>\n",
       "      <th>preclose</th>\n",
       "      <th>volume</th>\n",
       "      <th>amount</th>\n",
       "      <th>adjustflag</th>\n",
       "      <th>turn</th>\n",
       "      <th>tradestatus</th>\n",
       "      <th>pctChg</th>\n",
       "      <th>isST</th>\n",
       "    </tr>\n",
       "  </thead>\n",
       "  <tbody>\n",
       "    <tr>\n",
       "      <th>0</th>\n",
       "      <td>2010-01-04</td>\n",
       "      <td>sh.600000</td>\n",
       "      <td>5.233088</td>\n",
       "      <td>5.242676</td>\n",
       "      <td>5.072475</td>\n",
       "      <td>5.079667</td>\n",
       "      <td>5.199527</td>\n",
       "      <td>66191338</td>\n",
       "      <td>1.419984e+09</td>\n",
       "      <td>2</td>\n",
       "      <td>0.835129</td>\n",
       "      <td>1</td>\n",
       "      <td>-2.3052</td>\n",
       "      <td>0</td>\n",
       "    </tr>\n",
       "    <tr>\n",
       "      <th>1</th>\n",
       "      <td>2010-01-05</td>\n",
       "      <td>sh.600000</td>\n",
       "      <td>5.132405</td>\n",
       "      <td>5.173158</td>\n",
       "      <td>4.983779</td>\n",
       "      <td>5.118022</td>\n",
       "      <td>5.079667</td>\n",
       "      <td>115147943</td>\n",
       "      <td>2.436891e+09</td>\n",
       "      <td>2</td>\n",
       "      <td>1.452808</td>\n",
       "      <td>1</td>\n",
       "      <td>0.7551</td>\n",
       "      <td>0</td>\n",
       "    </tr>\n",
       "    <tr>\n",
       "      <th>2</th>\n",
       "      <td>2010-01-06</td>\n",
       "      <td>sh.600000</td>\n",
       "      <td>5.103639</td>\n",
       "      <td>5.106036</td>\n",
       "      <td>5.005354</td>\n",
       "      <td>5.017340</td>\n",
       "      <td>5.118022</td>\n",
       "      <td>96782575</td>\n",
       "      <td>2.034174e+09</td>\n",
       "      <td>2</td>\n",
       "      <td>1.221095</td>\n",
       "      <td>1</td>\n",
       "      <td>-1.9672</td>\n",
       "      <td>0</td>\n",
       "    </tr>\n",
       "    <tr>\n",
       "      <th>3</th>\n",
       "      <td>2010-01-07</td>\n",
       "      <td>sh.600000</td>\n",
       "      <td>5.005354</td>\n",
       "      <td>5.043709</td>\n",
       "      <td>4.866316</td>\n",
       "      <td>4.904671</td>\n",
       "      <td>5.017340</td>\n",
       "      <td>85236072</td>\n",
       "      <td>1.761801e+09</td>\n",
       "      <td>2</td>\n",
       "      <td>1.075414</td>\n",
       "      <td>1</td>\n",
       "      <td>-2.2456</td>\n",
       "      <td>0</td>\n",
       "    </tr>\n",
       "    <tr>\n",
       "      <th>4</th>\n",
       "      <td>2010-01-08</td>\n",
       "      <td>sh.600000</td>\n",
       "      <td>4.875905</td>\n",
       "      <td>4.986176</td>\n",
       "      <td>4.866316</td>\n",
       "      <td>4.959807</td>\n",
       "      <td>4.904671</td>\n",
       "      <td>65707646</td>\n",
       "      <td>1.349532e+09</td>\n",
       "      <td>2</td>\n",
       "      <td>0.829026</td>\n",
       "      <td>1</td>\n",
       "      <td>1.1241</td>\n",
       "      <td>0</td>\n",
       "    </tr>\n",
       "  </tbody>\n",
       "</table>\n",
       "</div>"
      ],
      "text/plain": [
       "         date       code      open      high       low     close  preclose  \\\n",
       "0  2010-01-04  sh.600000  5.233088  5.242676  5.072475  5.079667  5.199527   \n",
       "1  2010-01-05  sh.600000  5.132405  5.173158  4.983779  5.118022  5.079667   \n",
       "2  2010-01-06  sh.600000  5.103639  5.106036  5.005354  5.017340  5.118022   \n",
       "3  2010-01-07  sh.600000  5.005354  5.043709  4.866316  4.904671  5.017340   \n",
       "4  2010-01-08  sh.600000  4.875905  4.986176  4.866316  4.959807  4.904671   \n",
       "\n",
       "      volume        amount  adjustflag      turn  tradestatus  pctChg  isST  \n",
       "0   66191338  1.419984e+09           2  0.835129            1 -2.3052     0  \n",
       "1  115147943  2.436891e+09           2  1.452808            1  0.7551     0  \n",
       "2   96782575  2.034174e+09           2  1.221095            1 -1.9672     0  \n",
       "3   85236072  1.761801e+09           2  1.075414            1 -2.2456     0  \n",
       "4   65707646  1.349532e+09           2  0.829026            1  1.1241     0  "
      ]
     },
     "execution_count": 47,
     "metadata": {},
     "output_type": "execute_result"
    }
   ],
   "source": [
    "import os\n",
    "csv_path = os.path.join(\"k线数据\", f'{codes[0]}.csv')\n",
    "dt3 =  pd.read_csv(csv_path,sep=',')  # 这里仅仅是读取\n",
    "dt3.head()"
   ]
  },
  {
   "cell_type": "code",
   "execution_count": 48,
   "id": "bc315496-0124-4d7a-8f50-c757d4fb1179",
   "metadata": {
    "execution": {
     "iopub.execute_input": "2025-03-03T08:34:27.041870Z",
     "iopub.status.busy": "2025-03-03T08:34:27.040875Z",
     "iopub.status.idle": "2025-03-03T08:34:27.055973Z",
     "shell.execute_reply": "2025-03-03T08:34:27.053975Z",
     "shell.execute_reply.started": "2025-03-03T08:34:27.041870Z"
    }
   },
   "outputs": [
    {
     "data": {
      "text/plain": [
       "'2025-02-06'"
      ]
     },
     "execution_count": 48,
     "metadata": {},
     "output_type": "execute_result"
    }
   ],
   "source": [
    "dt3.iloc[-1,0]"
   ]
  },
  {
   "cell_type": "code",
   "execution_count": null,
   "id": "cc3168bd-eb54-4f15-b941-6b0b147a549c",
   "metadata": {},
   "outputs": [],
   "source": []
  }
 ],
 "metadata": {
  "kernelspec": {
   "display_name": "Python 3 (ipykernel)",
   "language": "python",
   "name": "python3"
  },
  "language_info": {
   "codemirror_mode": {
    "name": "ipython",
    "version": 3
   },
   "file_extension": ".py",
   "mimetype": "text/x-python",
   "name": "python",
   "nbconvert_exporter": "python",
   "pygments_lexer": "ipython3",
   "version": "3.11.5"
  }
 },
 "nbformat": 4,
 "nbformat_minor": 5
}
